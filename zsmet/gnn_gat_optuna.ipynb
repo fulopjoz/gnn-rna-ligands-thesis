{
    "cells": [
        {
            "cell_type": "markdown",
            "id": "f672be0b",
            "metadata": {
                "papermill": {
                    "duration": 0.037375,
                    "end_time": "2024-02-10T04:47:50.938060",
                    "exception": false,
                    "start_time": "2024-02-10T04:47:50.900685",
                    "status": "completed"
                },
                "tags": []
            },
            "source": [
                "# Load Libraries"
            ]
        },
        {
            "cell_type": "code",
            "execution_count": 1,
            "id": "8fb3e81a",
            "metadata": {
                "execution": {
                    "iopub.execute_input": "2024-02-10T04:47:51.222502Z",
                    "iopub.status.busy": "2024-02-10T04:47:51.216973Z",
                    "iopub.status.idle": "2024-02-10T04:47:54.585525Z",
                    "shell.execute_reply": "2024-02-10T04:47:54.583496Z"
                },
                "papermill": {
                    "duration": 3.603535,
                    "end_time": "2024-02-10T04:47:54.590709",
                    "exception": false,
                    "start_time": "2024-02-10T04:47:50.987174",
                    "status": "completed"
                },
                "tags": []
            },
            "outputs": [],
            "source": [
                "# Standard libraries\n",
                "import os\n",
                "import json\n",
                "import pickle\n",
                "import warnings\n",
                "warnings.filterwarnings('ignore', category=UserWarning, message='TypedStorage is deprecated') # Known issue with PyTorch and DGL\n",
                "import IPython\n",
                "\n",
                "# Data handling\n",
                "import pandas as pd\n",
                "import numpy as np\n",
                "from scipy.spatial.distance import pdist, squareform\n",
                "\n",
                "# Machine learning and model evaluation\n",
                "from sklearn.model_selection import train_test_split\n",
                "from sklearn.metrics import f1_score, accuracy_score, precision_score, recall_score, roc_auc_score, roc_curve, auc, confusion_matrix, classification_report\n",
                "from sklearn.cluster import HDBSCAN\n",
                "\n",
                "# Neural Networks and Deep Learning\n",
                "import torch\n",
                "import torch.nn as nn\n",
                "import torch.nn.functional as F\n",
                "from torch.utils.data import Dataset, DataLoader\n",
                "import optuna\n",
                "\n",
                "# Graph Neural Networks\n",
                "import dgl\n",
                "import dgl.nn as dglnn\n",
                "from dgl import batch\n",
                "from dgl.data.utils import save_graphs, load_graphs\n",
                "from dgl.nn import GATConv\n",
                "\n",
                "# Cheminformatics\n",
                "from rdkit import Chem, DataStructs\n",
                "from rdkit.Chem import AllChem, Draw\n",
                "from rdkit.Chem.Draw import rdMolDraw2D\n",
                "from dgllife.utils import mol_to_bigraph, CanonicalAtomFeaturizer, CanonicalBondFeaturizer, mol_to_graph\n",
                "from chembl_structure_pipeline import standardizer\n",
                "\n",
                "# Network analysis\n",
                "import networkx as nx\n",
                "\n",
                "# Visualization\n",
                "import matplotlib.pyplot as plt\n",
                "import seaborn as sns\n",
                "\n",
                "\n"
            ]
        },
        {
            "cell_type": "markdown",
            "id": "a9312950",
            "metadata": {},
            "source": [
                "I have these five datasets: robin.sdf, life_chemicals.sdf, enamine_rna.sdf, enamine_protein.sdf, chemdiv.sdf, and I will provide you with the code which jou have to optimize, make more functional and taylor to the objective. First of all you will use mainly RDkit and standardizer from chembl structure pipeline. The robin sdf have 3D molecules so we need to change that to 2D molecules. The next step is standardize the molecules using standardizer and also discard of the fragments (possible salts), next  will be deduplicate the datasets - for this part is useful to use SMILES representation. Lastly the process will be check and verified that molecules are deduplicated, sanitized and to not contain salts. It is essential to keep the source of the molecules also provide logs from each step. Keed the code clean as possible. Provide whole modified code to the provided sdf file names\n",
                "\n",
                "robin.sdf, life_chemicals.sdf, enamine_rna.sdf, enamine_protein.sdf, chemdiv.sdf"
            ]
        },
        {
            "cell_type": "markdown",
            "id": "b484566a",
            "metadata": {
                "papermill": {
                    "duration": 0.056471,
                    "end_time": "2024-02-10T04:47:54.672060",
                    "exception": false,
                    "start_time": "2024-02-10T04:47:54.615589",
                    "status": "completed"
                },
                "tags": []
            },
            "source": [
                "check if GPU is aviable and the device"
            ]
        },
        {
            "cell_type": "code",
            "execution_count": 2,
            "id": "ddc62385",
            "metadata": {
                "execution": {
                    "iopub.execute_input": "2024-02-10T04:47:54.912561Z",
                    "iopub.status.busy": "2024-02-10T04:47:54.911917Z",
                    "iopub.status.idle": "2024-02-10T04:47:54.965406Z",
                    "shell.execute_reply": "2024-02-10T04:47:54.963454Z"
                },
                "papermill": {
                    "duration": 0.206824,
                    "end_time": "2024-02-10T04:47:54.968385",
                    "exception": false,
                    "start_time": "2024-02-10T04:47:54.761561",
                    "status": "completed"
                },
                "tags": []
            },
            "outputs": [
                {
                    "name": "stdout",
                    "output_type": "stream",
                    "text": [
                        "PyTorch version: 2.1.2\n",
                        "Is CUDA Supported? True\n"
                    ]
                }
            ],
            "source": [
                "import torch\n",
                "print(\"PyTorch version:\", torch.__version__)\n",
                "print(\"Is CUDA Supported?\", torch.cuda.is_available())"
            ]
        },
        {
            "cell_type": "code",
            "execution_count": 3,
            "id": "4e1f6501",
            "metadata": {
                "execution": {
                    "iopub.execute_input": "2024-02-10T04:47:55.120186Z",
                    "iopub.status.busy": "2024-02-10T04:47:55.119853Z",
                    "iopub.status.idle": "2024-02-10T04:47:55.215478Z",
                    "shell.execute_reply": "2024-02-10T04:47:55.213524Z"
                },
                "papermill": {
                    "duration": 0.224449,
                    "end_time": "2024-02-10T04:47:55.218595",
                    "exception": false,
                    "start_time": "2024-02-10T04:47:54.994146",
                    "status": "completed"
                },
                "tags": []
            },
            "outputs": [
                {
                    "data": {
                        "text/plain": [
                            "(True, 1, 'Tesla T4')"
                        ]
                    },
                    "execution_count": 3,
                    "metadata": {},
                    "output_type": "execute_result"
                }
            ],
            "source": [
                "torch.cuda.is_available(), torch.cuda.device_count(), torch.cuda.get_device_name(0)"
            ]
        },
        {
            "cell_type": "markdown",
            "id": "215f2ffc",
            "metadata": {
                "papermill": {
                    "duration": 0.048734,
                    "end_time": "2024-02-10T04:47:55.285411",
                    "exception": false,
                    "start_time": "2024-02-10T04:47:55.236677",
                    "status": "completed"
                },
                "tags": []
            },
            "source": [
                "# Data Preprocessing"
            ]
        },
        {
            "cell_type": "markdown",
            "id": "fb401faa",
            "metadata": {
                "papermill": {
                    "duration": 0.042339,
                    "end_time": "2024-02-10T04:47:55.378235",
                    "exception": false,
                    "start_time": "2024-02-10T04:47:55.335896",
                    "status": "completed"
                },
                "tags": []
            },
            "source": [
                "load dataset"
            ]
        },
        {
            "cell_type": "code",
            "execution_count": 4,
            "id": "dfb2ed77",
            "metadata": {},
            "outputs": [],
            "source": [
                "# enmine_protein = pd.read_json('data_mvi/enamine_protein_df.json')\n"
            ]
        },
        {
            "cell_type": "code",
            "execution_count": 5,
            "id": "3365e4f9",
            "metadata": {
                "execution": {
                    "iopub.execute_input": "2024-02-10T04:47:55.500464Z",
                    "iopub.status.busy": "2024-02-10T04:47:55.500085Z",
                    "iopub.status.idle": "2024-02-10T04:47:57.185440Z",
                    "shell.execute_reply": "2024-02-10T04:47:57.183387Z"
                },
                "papermill": {
                    "duration": 1.780561,
                    "end_time": "2024-02-10T04:47:57.189034",
                    "exception": false,
                    "start_time": "2024-02-10T04:47:55.408473",
                    "status": "completed"
                },
                "tags": []
            },
            "outputs": [
                {
                    "ename": "FileNotFoundError",
                    "evalue": "File data_mvi/chemdiv_df.json does not exist",
                    "output_type": "error",
                    "traceback": [
                        "\u001b[0;31m---------------------------------------------------------------------------\u001b[0m",
                        "\u001b[0;31mFileNotFoundError\u001b[0m                         Traceback (most recent call last)",
                        "Cell \u001b[0;32mIn[5], line 2\u001b[0m\n\u001b[1;32m      1\u001b[0m \u001b[38;5;66;03m# load json data from data_mvi folder\u001b[39;00m\n\u001b[0;32m----> 2\u001b[0m chemdiv \u001b[38;5;241m=\u001b[39m \u001b[43mpd\u001b[49m\u001b[38;5;241;43m.\u001b[39;49m\u001b[43mread_json\u001b[49m\u001b[43m(\u001b[49m\u001b[38;5;124;43m'\u001b[39;49m\u001b[38;5;124;43mdata_mvi/chemdiv_df.json\u001b[39;49m\u001b[38;5;124;43m'\u001b[39;49m\u001b[43m)\u001b[49m\n\u001b[1;32m      3\u001b[0m enamine \u001b[38;5;241m=\u001b[39m pd\u001b[38;5;241m.\u001b[39mread_json(\u001b[38;5;124m'\u001b[39m\u001b[38;5;124mdata_mvi/enamine_df.json\u001b[39m\u001b[38;5;124m'\u001b[39m)\n\u001b[1;32m      4\u001b[0m enmine_protein \u001b[38;5;241m=\u001b[39m pd\u001b[38;5;241m.\u001b[39mread_json(\u001b[38;5;124m'\u001b[39m\u001b[38;5;124mdata_mvi/picked_molecules.json\u001b[39m\u001b[38;5;124m'\u001b[39m)\n",
                        "File \u001b[0;32m~/miniconda3/envs/gnn/lib/python3.8/site-packages/pandas/io/json/_json.py:760\u001b[0m, in \u001b[0;36mread_json\u001b[0;34m(path_or_buf, orient, typ, dtype, convert_axes, convert_dates, keep_default_dates, precise_float, date_unit, encoding, encoding_errors, lines, chunksize, compression, nrows, storage_options, dtype_backend, engine)\u001b[0m\n\u001b[1;32m    757\u001b[0m \u001b[38;5;28;01mif\u001b[39;00m convert_axes \u001b[38;5;129;01mis\u001b[39;00m \u001b[38;5;28;01mNone\u001b[39;00m \u001b[38;5;129;01mand\u001b[39;00m orient \u001b[38;5;241m!=\u001b[39m \u001b[38;5;124m\"\u001b[39m\u001b[38;5;124mtable\u001b[39m\u001b[38;5;124m\"\u001b[39m:\n\u001b[1;32m    758\u001b[0m     convert_axes \u001b[38;5;241m=\u001b[39m \u001b[38;5;28;01mTrue\u001b[39;00m\n\u001b[0;32m--> 760\u001b[0m json_reader \u001b[38;5;241m=\u001b[39m \u001b[43mJsonReader\u001b[49m\u001b[43m(\u001b[49m\n\u001b[1;32m    761\u001b[0m \u001b[43m    \u001b[49m\u001b[43mpath_or_buf\u001b[49m\u001b[43m,\u001b[49m\n\u001b[1;32m    762\u001b[0m \u001b[43m    \u001b[49m\u001b[43morient\u001b[49m\u001b[38;5;241;43m=\u001b[39;49m\u001b[43morient\u001b[49m\u001b[43m,\u001b[49m\n\u001b[1;32m    763\u001b[0m \u001b[43m    \u001b[49m\u001b[43mtyp\u001b[49m\u001b[38;5;241;43m=\u001b[39;49m\u001b[43mtyp\u001b[49m\u001b[43m,\u001b[49m\n\u001b[1;32m    764\u001b[0m \u001b[43m    \u001b[49m\u001b[43mdtype\u001b[49m\u001b[38;5;241;43m=\u001b[39;49m\u001b[43mdtype\u001b[49m\u001b[43m,\u001b[49m\n\u001b[1;32m    765\u001b[0m \u001b[43m    \u001b[49m\u001b[43mconvert_axes\u001b[49m\u001b[38;5;241;43m=\u001b[39;49m\u001b[43mconvert_axes\u001b[49m\u001b[43m,\u001b[49m\n\u001b[1;32m    766\u001b[0m \u001b[43m    \u001b[49m\u001b[43mconvert_dates\u001b[49m\u001b[38;5;241;43m=\u001b[39;49m\u001b[43mconvert_dates\u001b[49m\u001b[43m,\u001b[49m\n\u001b[1;32m    767\u001b[0m \u001b[43m    \u001b[49m\u001b[43mkeep_default_dates\u001b[49m\u001b[38;5;241;43m=\u001b[39;49m\u001b[43mkeep_default_dates\u001b[49m\u001b[43m,\u001b[49m\n\u001b[1;32m    768\u001b[0m \u001b[43m    \u001b[49m\u001b[43mprecise_float\u001b[49m\u001b[38;5;241;43m=\u001b[39;49m\u001b[43mprecise_float\u001b[49m\u001b[43m,\u001b[49m\n\u001b[1;32m    769\u001b[0m \u001b[43m    \u001b[49m\u001b[43mdate_unit\u001b[49m\u001b[38;5;241;43m=\u001b[39;49m\u001b[43mdate_unit\u001b[49m\u001b[43m,\u001b[49m\n\u001b[1;32m    770\u001b[0m \u001b[43m    \u001b[49m\u001b[43mencoding\u001b[49m\u001b[38;5;241;43m=\u001b[39;49m\u001b[43mencoding\u001b[49m\u001b[43m,\u001b[49m\n\u001b[1;32m    771\u001b[0m \u001b[43m    \u001b[49m\u001b[43mlines\u001b[49m\u001b[38;5;241;43m=\u001b[39;49m\u001b[43mlines\u001b[49m\u001b[43m,\u001b[49m\n\u001b[1;32m    772\u001b[0m \u001b[43m    \u001b[49m\u001b[43mchunksize\u001b[49m\u001b[38;5;241;43m=\u001b[39;49m\u001b[43mchunksize\u001b[49m\u001b[43m,\u001b[49m\n\u001b[1;32m    773\u001b[0m \u001b[43m    \u001b[49m\u001b[43mcompression\u001b[49m\u001b[38;5;241;43m=\u001b[39;49m\u001b[43mcompression\u001b[49m\u001b[43m,\u001b[49m\n\u001b[1;32m    774\u001b[0m \u001b[43m    \u001b[49m\u001b[43mnrows\u001b[49m\u001b[38;5;241;43m=\u001b[39;49m\u001b[43mnrows\u001b[49m\u001b[43m,\u001b[49m\n\u001b[1;32m    775\u001b[0m \u001b[43m    \u001b[49m\u001b[43mstorage_options\u001b[49m\u001b[38;5;241;43m=\u001b[39;49m\u001b[43mstorage_options\u001b[49m\u001b[43m,\u001b[49m\n\u001b[1;32m    776\u001b[0m \u001b[43m    \u001b[49m\u001b[43mencoding_errors\u001b[49m\u001b[38;5;241;43m=\u001b[39;49m\u001b[43mencoding_errors\u001b[49m\u001b[43m,\u001b[49m\n\u001b[1;32m    777\u001b[0m \u001b[43m    \u001b[49m\u001b[43mdtype_backend\u001b[49m\u001b[38;5;241;43m=\u001b[39;49m\u001b[43mdtype_backend\u001b[49m\u001b[43m,\u001b[49m\n\u001b[1;32m    778\u001b[0m \u001b[43m    \u001b[49m\u001b[43mengine\u001b[49m\u001b[38;5;241;43m=\u001b[39;49m\u001b[43mengine\u001b[49m\u001b[43m,\u001b[49m\n\u001b[1;32m    779\u001b[0m \u001b[43m\u001b[49m\u001b[43m)\u001b[49m\n\u001b[1;32m    781\u001b[0m \u001b[38;5;28;01mif\u001b[39;00m chunksize:\n\u001b[1;32m    782\u001b[0m     \u001b[38;5;28;01mreturn\u001b[39;00m json_reader\n",
                        "File \u001b[0;32m~/miniconda3/envs/gnn/lib/python3.8/site-packages/pandas/io/json/_json.py:861\u001b[0m, in \u001b[0;36mJsonReader.__init__\u001b[0;34m(self, filepath_or_buffer, orient, typ, dtype, convert_axes, convert_dates, keep_default_dates, precise_float, date_unit, encoding, lines, chunksize, compression, nrows, storage_options, encoding_errors, dtype_backend, engine)\u001b[0m\n\u001b[1;32m    859\u001b[0m     \u001b[38;5;28mself\u001b[39m\u001b[38;5;241m.\u001b[39mdata \u001b[38;5;241m=\u001b[39m filepath_or_buffer\n\u001b[1;32m    860\u001b[0m \u001b[38;5;28;01melif\u001b[39;00m \u001b[38;5;28mself\u001b[39m\u001b[38;5;241m.\u001b[39mengine \u001b[38;5;241m==\u001b[39m \u001b[38;5;124m\"\u001b[39m\u001b[38;5;124mujson\u001b[39m\u001b[38;5;124m\"\u001b[39m:\n\u001b[0;32m--> 861\u001b[0m     data \u001b[38;5;241m=\u001b[39m \u001b[38;5;28;43mself\u001b[39;49m\u001b[38;5;241;43m.\u001b[39;49m\u001b[43m_get_data_from_filepath\u001b[49m\u001b[43m(\u001b[49m\u001b[43mfilepath_or_buffer\u001b[49m\u001b[43m)\u001b[49m\n\u001b[1;32m    862\u001b[0m     \u001b[38;5;28mself\u001b[39m\u001b[38;5;241m.\u001b[39mdata \u001b[38;5;241m=\u001b[39m \u001b[38;5;28mself\u001b[39m\u001b[38;5;241m.\u001b[39m_preprocess_data(data)\n",
                        "File \u001b[0;32m~/miniconda3/envs/gnn/lib/python3.8/site-packages/pandas/io/json/_json.py:917\u001b[0m, in \u001b[0;36mJsonReader._get_data_from_filepath\u001b[0;34m(self, filepath_or_buffer)\u001b[0m\n\u001b[1;32m    909\u001b[0m     filepath_or_buffer \u001b[38;5;241m=\u001b[39m \u001b[38;5;28mself\u001b[39m\u001b[38;5;241m.\u001b[39mhandles\u001b[38;5;241m.\u001b[39mhandle\n\u001b[1;32m    910\u001b[0m \u001b[38;5;28;01melif\u001b[39;00m (\n\u001b[1;32m    911\u001b[0m     \u001b[38;5;28misinstance\u001b[39m(filepath_or_buffer, \u001b[38;5;28mstr\u001b[39m)\n\u001b[1;32m    912\u001b[0m     \u001b[38;5;129;01mand\u001b[39;00m filepath_or_buffer\u001b[38;5;241m.\u001b[39mlower()\u001b[38;5;241m.\u001b[39mendswith(\n\u001b[0;32m   (...)\u001b[0m\n\u001b[1;32m    915\u001b[0m     \u001b[38;5;129;01mand\u001b[39;00m \u001b[38;5;129;01mnot\u001b[39;00m file_exists(filepath_or_buffer)\n\u001b[1;32m    916\u001b[0m ):\n\u001b[0;32m--> 917\u001b[0m     \u001b[38;5;28;01mraise\u001b[39;00m \u001b[38;5;167;01mFileNotFoundError\u001b[39;00m(\u001b[38;5;124mf\u001b[39m\u001b[38;5;124m\"\u001b[39m\u001b[38;5;124mFile \u001b[39m\u001b[38;5;132;01m{\u001b[39;00mfilepath_or_buffer\u001b[38;5;132;01m}\u001b[39;00m\u001b[38;5;124m does not exist\u001b[39m\u001b[38;5;124m\"\u001b[39m)\n\u001b[1;32m    919\u001b[0m \u001b[38;5;28;01mreturn\u001b[39;00m filepath_or_buffer\n",
                        "\u001b[0;31mFileNotFoundError\u001b[0m: File data_mvi/chemdiv_df.json does not exist"
                    ]
                }
            ],
            "source": [
                "# load json data from data_mvi folder\n",
                "chemdiv = pd.read_json('data_mvi/chemdiv_df.json')\n",
                "enamine = pd.read_json('data_mvi/enamine_df.json')\n",
                "enmine_protein = pd.read_json('data_mvi/picked_molecules.json')\n",
                "life_chemicals = pd.read_json('data_mvi/life_chemicals_df.json')\n",
                "robin = pd.read_json('data_mvi/robin_df.json')"
            ]
        },
        {
            "cell_type": "code",
            "execution_count": null,
            "id": "adb101bc",
            "metadata": {},
            "outputs": [
                {
                    "data": {
                        "text/html": [
                            "<div>\n",
                            "<style scoped>\n",
                            "    .dataframe tbody tr th:only-of-type {\n",
                            "        vertical-align: middle;\n",
                            "    }\n",
                            "\n",
                            "    .dataframe tbody tr th {\n",
                            "        vertical-align: top;\n",
                            "    }\n",
                            "\n",
                            "    .dataframe thead th {\n",
                            "        text-align: right;\n",
                            "    }\n",
                            "</style>\n",
                            "<table border=\"1\" class=\"dataframe\">\n",
                            "  <thead>\n",
                            "    <tr style=\"text-align: right;\">\n",
                            "      <th></th>\n",
                            "      <th>source</th>\n",
                            "      <th>smiles</th>\n",
                            "    </tr>\n",
                            "  </thead>\n",
                            "  <tbody>\n",
                            "    <tr>\n",
                            "      <th>0</th>\n",
                            "      <td>chemdiv</td>\n",
                            "      <td>O=C(Nc1ccc2ccccc2c1)c1ccc2c(c1)C(=O)N(c1cccc(N...</td>\n",
                            "    </tr>\n",
                            "    <tr>\n",
                            "      <th>1</th>\n",
                            "      <td>chemdiv</td>\n",
                            "      <td>O=C(CSc1nnc(-c2ccccc2Cl)n1-c1ccccc1)c1ccc2c(c1...</td>\n",
                            "    </tr>\n",
                            "    <tr>\n",
                            "      <th>2</th>\n",
                            "      <td>chemdiv</td>\n",
                            "      <td>Cc1ccc(-n2c(=O)c3c4c(sc3n3c(SCC(=O)c5ccccc5)nn...</td>\n",
                            "    </tr>\n",
                            "    <tr>\n",
                            "      <th>3</th>\n",
                            "      <td>chemdiv</td>\n",
                            "      <td>O=C(Nc1ccc(C(=O)c2ccccc2)cc1)c1ccc(Oc2ccc(C(=O...</td>\n",
                            "    </tr>\n",
                            "    <tr>\n",
                            "      <th>4</th>\n",
                            "      <td>chemdiv</td>\n",
                            "      <td>O=C(Nc1ccc(Oc2cccc(Oc3ccc(NC(=O)c4ccccc4Cl)cc3...</td>\n",
                            "    </tr>\n",
                            "  </tbody>\n",
                            "</table>\n",
                            "</div>"
                        ],
                        "text/plain": [
                            "    source                                             smiles\n",
                            "0  chemdiv  O=C(Nc1ccc2ccccc2c1)c1ccc2c(c1)C(=O)N(c1cccc(N...\n",
                            "1  chemdiv  O=C(CSc1nnc(-c2ccccc2Cl)n1-c1ccccc1)c1ccc2c(c1...\n",
                            "2  chemdiv  Cc1ccc(-n2c(=O)c3c4c(sc3n3c(SCC(=O)c5ccccc5)nn...\n",
                            "3  chemdiv  O=C(Nc1ccc(C(=O)c2ccccc2)cc1)c1ccc(Oc2ccc(C(=O...\n",
                            "4  chemdiv  O=C(Nc1ccc(Oc2cccc(Oc3ccc(NC(=O)c4ccccc4Cl)cc3..."
                        ]
                    },
                    "execution_count": 19,
                    "metadata": {},
                    "output_type": "execute_result"
                }
            ],
            "source": [
                "datasets = [chemdiv, enamine, enmine_protein, life_chemicals, robin]\n",
                "\n",
                "# reset all index\n",
                "for dataset in datasets:\n",
                "    dataset.reset_index(drop=True, inplace=True)\n",
                "    \n",
                "# drop columns but  'SMILES' and 'mol' columns\n",
                "for dataset in datasets:\n",
                "    dataset.drop(columns=[col for col in dataset.columns if col not in ['SMILES', 'source']], inplace=True)\n",
                "    \n",
                "# change 'SMILES' column to 'smiles'\n",
                "for dataset in datasets:\n",
                "    dataset.rename(columns={'SMILES':'smiles'}, inplace=True)\n",
                "    \n",
                "chemdiv.head()"
            ]
        },
        {
            "cell_type": "markdown",
            "id": "73a053b7",
            "metadata": {
                "papermill": {
                    "duration": 0.102199,
                    "end_time": "2024-02-10T04:47:57.312490",
                    "exception": false,
                    "start_time": "2024-02-10T04:47:57.210291",
                    "status": "completed"
                },
                "tags": []
            },
            "source": [
                "add source column"
            ]
        },
        {
            "cell_type": "code",
            "execution_count": null,
            "id": "a7a5b0a0",
            "metadata": {
                "execution": {
                    "iopub.execute_input": "2024-02-10T04:47:57.635058Z",
                    "iopub.status.busy": "2024-02-10T04:47:57.634742Z",
                    "iopub.status.idle": "2024-02-10T04:47:57.643090Z",
                    "shell.execute_reply": "2024-02-10T04:47:57.641451Z"
                },
                "papermill": {
                    "duration": 0.044029,
                    "end_time": "2024-02-10T04:47:57.646374",
                    "exception": false,
                    "start_time": "2024-02-10T04:47:57.602345",
                    "status": "completed"
                },
                "tags": []
            },
            "outputs": [
                {
                    "data": {
                        "text/html": [
                            "<div>\n",
                            "<style scoped>\n",
                            "    .dataframe tbody tr th:only-of-type {\n",
                            "        vertical-align: middle;\n",
                            "    }\n",
                            "\n",
                            "    .dataframe tbody tr th {\n",
                            "        vertical-align: top;\n",
                            "    }\n",
                            "\n",
                            "    .dataframe thead th {\n",
                            "        text-align: right;\n",
                            "    }\n",
                            "</style>\n",
                            "<table border=\"1\" class=\"dataframe\">\n",
                            "  <thead>\n",
                            "    <tr style=\"text-align: right;\">\n",
                            "      <th></th>\n",
                            "      <th>source</th>\n",
                            "      <th>smiles</th>\n",
                            "      <th>rna</th>\n",
                            "    </tr>\n",
                            "  </thead>\n",
                            "  <tbody>\n",
                            "    <tr>\n",
                            "      <th>0</th>\n",
                            "      <td>chemdiv</td>\n",
                            "      <td>O=C(Nc1ccc2ccccc2c1)c1ccc2c(c1)C(=O)N(c1cccc(N...</td>\n",
                            "      <td>1</td>\n",
                            "    </tr>\n",
                            "    <tr>\n",
                            "      <th>1</th>\n",
                            "      <td>chemdiv</td>\n",
                            "      <td>O=C(CSc1nnc(-c2ccccc2Cl)n1-c1ccccc1)c1ccc2c(c1...</td>\n",
                            "      <td>1</td>\n",
                            "    </tr>\n",
                            "    <tr>\n",
                            "      <th>2</th>\n",
                            "      <td>chemdiv</td>\n",
                            "      <td>Cc1ccc(-n2c(=O)c3c4c(sc3n3c(SCC(=O)c5ccccc5)nn...</td>\n",
                            "      <td>1</td>\n",
                            "    </tr>\n",
                            "    <tr>\n",
                            "      <th>3</th>\n",
                            "      <td>chemdiv</td>\n",
                            "      <td>O=C(Nc1ccc(C(=O)c2ccccc2)cc1)c1ccc(Oc2ccc(C(=O...</td>\n",
                            "      <td>1</td>\n",
                            "    </tr>\n",
                            "    <tr>\n",
                            "      <th>4</th>\n",
                            "      <td>chemdiv</td>\n",
                            "      <td>O=C(Nc1ccc(Oc2cccc(Oc3ccc(NC(=O)c4ccccc4Cl)cc3...</td>\n",
                            "      <td>1</td>\n",
                            "    </tr>\n",
                            "    <tr>\n",
                            "      <th>...</th>\n",
                            "      <td>...</td>\n",
                            "      <td>...</td>\n",
                            "      <td>...</td>\n",
                            "    </tr>\n",
                            "    <tr>\n",
                            "      <th>73863</th>\n",
                            "      <td>robin</td>\n",
                            "      <td>C=CC(=O)Nc1cccc(Nc2nc(N[C@H]3CC[C@H](N(C)C)CC3...</td>\n",
                            "      <td>1</td>\n",
                            "    </tr>\n",
                            "    <tr>\n",
                            "      <th>73864</th>\n",
                            "      <td>robin</td>\n",
                            "      <td>N#C/C(C(=O)c1ccc(Cl)cc1Cl)=C1\\NC(=O)c2ccc(Cl)c...</td>\n",
                            "      <td>1</td>\n",
                            "    </tr>\n",
                            "    <tr>\n",
                            "      <th>73865</th>\n",
                            "      <td>robin</td>\n",
                            "      <td>C[C@H](N[C@H]1C[C@H]1c1ccccc1)c1ccc2c(c1)OCCO2</td>\n",
                            "      <td>1</td>\n",
                            "    </tr>\n",
                            "    <tr>\n",
                            "      <th>73866</th>\n",
                            "      <td>robin</td>\n",
                            "      <td>NCCC[C@@H](N)CC(=O)N[C@H]1CNC(=O)[C@@H]([C@@H]...</td>\n",
                            "      <td>1</td>\n",
                            "    </tr>\n",
                            "    <tr>\n",
                            "      <th>73867</th>\n",
                            "      <td>robin</td>\n",
                            "      <td>CC(C)=CCC/C(C)=C\\CNCCN[C@H]1[C@@H]2C[C@H]3C[C@...</td>\n",
                            "      <td>1</td>\n",
                            "    </tr>\n",
                            "  </tbody>\n",
                            "</table>\n",
                            "<p>73868 rows × 3 columns</p>\n",
                            "</div>"
                        ],
                        "text/plain": [
                            "        source                                             smiles  rna\n",
                            "0      chemdiv  O=C(Nc1ccc2ccccc2c1)c1ccc2c(c1)C(=O)N(c1cccc(N...    1\n",
                            "1      chemdiv  O=C(CSc1nnc(-c2ccccc2Cl)n1-c1ccccc1)c1ccc2c(c1...    1\n",
                            "2      chemdiv  Cc1ccc(-n2c(=O)c3c4c(sc3n3c(SCC(=O)c5ccccc5)nn...    1\n",
                            "3      chemdiv  O=C(Nc1ccc(C(=O)c2ccccc2)cc1)c1ccc(Oc2ccc(C(=O...    1\n",
                            "4      chemdiv  O=C(Nc1ccc(Oc2cccc(Oc3ccc(NC(=O)c4ccccc4Cl)cc3...    1\n",
                            "...        ...                                                ...  ...\n",
                            "73863    robin  C=CC(=O)Nc1cccc(Nc2nc(N[C@H]3CC[C@H](N(C)C)CC3...    1\n",
                            "73864    robin  N#C/C(C(=O)c1ccc(Cl)cc1Cl)=C1\\NC(=O)c2ccc(Cl)c...    1\n",
                            "73865    robin     C[C@H](N[C@H]1C[C@H]1c1ccccc1)c1ccc2c(c1)OCCO2    1\n",
                            "73866    robin  NCCC[C@@H](N)CC(=O)N[C@H]1CNC(=O)[C@@H]([C@@H]...    1\n",
                            "73867    robin  CC(C)=CCC/C(C)=C\\CNCCN[C@H]1[C@@H]2C[C@H]3C[C@...    1\n",
                            "\n",
                            "[73868 rows x 3 columns]"
                        ]
                    },
                    "execution_count": 21,
                    "metadata": {},
                    "output_type": "execute_result"
                }
            ],
            "source": [
                "df = pd.concat([chemdiv, enamine, enmine_protein, life_chemicals, robin], ignore_index=True)\n",
                "df['rna'] = df['source'].apply(lambda x: 0 if x == 'enmine_protein' else 1)\n",
                "df"
            ]
        },
        {
            "cell_type": "markdown",
            "id": "b7d4577c",
            "metadata": {
                "papermill": {
                    "duration": 0.055829,
                    "end_time": "2024-02-10T04:47:57.920715",
                    "exception": false,
                    "start_time": "2024-02-10T04:47:57.864886",
                    "status": "completed"
                },
                "tags": []
            },
            "source": [
                "compute fingerprings for algorithms"
            ]
        },
        {
            "cell_type": "code",
            "execution_count": null,
            "id": "791409ed",
            "metadata": {
                "execution": {
                    "iopub.execute_input": "2024-02-10T04:47:58.030983Z",
                    "iopub.status.busy": "2024-02-10T04:47:58.030689Z",
                    "iopub.status.idle": "2024-02-10T04:49:46.972739Z",
                    "shell.execute_reply": "2024-02-10T04:49:46.970684Z"
                },
                "papermill": {
                    "duration": 108.998261,
                    "end_time": "2024-02-10T04:49:46.977742",
                    "exception": false,
                    "start_time": "2024-02-10T04:47:57.979481",
                    "status": "completed"
                },
                "tags": []
            },
            "outputs": [],
            "source": [
                "# combine all dataframes\n",
                "df = pd.concat([chemdiv, enamine, enmine_protein, life_chemicals, robin], ignore_index=True)\n",
                "# delte 'mol' column and ECFp6 column\n",
                "df = df.drop(['mol', 'ECFP6'], axis=1)\n",
                "\n",
                "# create 'mol' column and use SMILES column to create mol object\n",
                "df['mol'] = df['SMILES'].apply(lambda x: Chem.MolFromSmiles(x))\n",
                "# create 'ECFP6' column and use mol object to create ECFP6 fingerprint\n",
                "# df['ECFP6'] = df['mol'].apply(lambda x: AllChem.GetMorganFingerprintAsBitVect(x, 3, nBits=2048))\n"
            ]
        },
        {
            "cell_type": "markdown",
            "id": "0f0de357",
            "metadata": {
                "papermill": {
                    "duration": 0.049211,
                    "end_time": "2024-02-10T04:49:47.053424",
                    "exception": false,
                    "start_time": "2024-02-10T04:49:47.004213",
                    "status": "completed"
                },
                "tags": []
            },
            "source": [
                "these fingerprints will be further used more in data preprocessing,train and test set selection. (not in this milestone). Dataset was deduplicated before."
            ]
        },
        {
            "cell_type": "code",
            "execution_count": null,
            "id": "626ac43c",
            "metadata": {
                "execution": {
                    "iopub.execute_input": "2024-02-10T04:49:47.351676Z",
                    "iopub.status.busy": "2024-02-10T04:49:47.351374Z",
                    "iopub.status.idle": "2024-02-10T04:49:47.445361Z",
                    "shell.execute_reply": "2024-02-10T04:49:47.443549Z"
                },
                "papermill": {
                    "duration": 0.150878,
                    "end_time": "2024-02-10T04:49:47.449322",
                    "exception": false,
                    "start_time": "2024-02-10T04:49:47.298444",
                    "status": "completed"
                },
                "tags": []
            },
            "outputs": [
                {
                    "data": {
                        "text/plain": [
                            "0"
                        ]
                    },
                    "execution_count": 8,
                    "metadata": {},
                    "output_type": "execute_result"
                }
            ],
            "source": [
                "# check for duplicates using 'SMILES' column\n",
                "df.duplicated(subset=['SMILES']).sum()"
            ]
        },
        {
            "cell_type": "code",
            "execution_count": null,
            "id": "f50b3217",
            "metadata": {
                "execution": {
                    "iopub.execute_input": "2024-02-10T04:49:47.526105Z",
                    "iopub.status.busy": "2024-02-10T04:49:47.525795Z",
                    "iopub.status.idle": "2024-02-10T04:49:47.553957Z",
                    "shell.execute_reply": "2024-02-10T04:49:47.552061Z"
                },
                "papermill": {
                    "duration": 0.082329,
                    "end_time": "2024-02-10T04:49:47.557994",
                    "exception": false,
                    "start_time": "2024-02-10T04:49:47.475665",
                    "status": "completed"
                },
                "tags": []
            },
            "outputs": [
                {
                    "data": {
                        "text/html": [
                            "<div>\n",
                            "<style scoped>\n",
                            "    .dataframe tbody tr th:only-of-type {\n",
                            "        vertical-align: middle;\n",
                            "    }\n",
                            "\n",
                            "    .dataframe tbody tr th {\n",
                            "        vertical-align: top;\n",
                            "    }\n",
                            "\n",
                            "    .dataframe thead th {\n",
                            "        text-align: right;\n",
                            "    }\n",
                            "</style>\n",
                            "<table border=\"1\" class=\"dataframe\">\n",
                            "  <thead>\n",
                            "    <tr style=\"text-align: right;\">\n",
                            "      <th></th>\n",
                            "      <th>source</th>\n",
                            "      <th>SMILES</th>\n",
                            "      <th>mol</th>\n",
                            "    </tr>\n",
                            "  </thead>\n",
                            "  <tbody>\n",
                            "    <tr>\n",
                            "      <th>0</th>\n",
                            "      <td>chemdiv</td>\n",
                            "      <td>O=C(Nc1ccc2ccccc2c1)c1ccc2c(c1)C(=O)N(c1cccc(N...</td>\n",
                            "      <td>&lt;rdkit.Chem.rdchem.Mol object at 0x7f26725a2dd0&gt;</td>\n",
                            "    </tr>\n",
                            "    <tr>\n",
                            "      <th>1</th>\n",
                            "      <td>chemdiv</td>\n",
                            "      <td>O=C(CSc1nnc(-c2ccccc2Cl)n1-c1ccccc1)c1ccc2c(c1...</td>\n",
                            "      <td>&lt;rdkit.Chem.rdchem.Mol object at 0x7f26725a2c80&gt;</td>\n",
                            "    </tr>\n",
                            "    <tr>\n",
                            "      <th>2</th>\n",
                            "      <td>chemdiv</td>\n",
                            "      <td>Cc1ccc(-n2c(=O)c3c4c(sc3n3c(SCC(=O)c5ccccc5)nn...</td>\n",
                            "      <td>&lt;rdkit.Chem.rdchem.Mol object at 0x7f26725a2d60&gt;</td>\n",
                            "    </tr>\n",
                            "    <tr>\n",
                            "      <th>3</th>\n",
                            "      <td>chemdiv</td>\n",
                            "      <td>O=C(Nc1ccc(C(=O)c2ccccc2)cc1)c1ccc(Oc2ccc(C(=O...</td>\n",
                            "      <td>&lt;rdkit.Chem.rdchem.Mol object at 0x7f26725a2f90&gt;</td>\n",
                            "    </tr>\n",
                            "    <tr>\n",
                            "      <th>4</th>\n",
                            "      <td>chemdiv</td>\n",
                            "      <td>O=C(Nc1ccc(Oc2cccc(Oc3ccc(NC(=O)c4ccccc4Cl)cc3...</td>\n",
                            "      <td>&lt;rdkit.Chem.rdchem.Mol object at 0x7f26725da040&gt;</td>\n",
                            "    </tr>\n",
                            "  </tbody>\n",
                            "</table>\n",
                            "</div>"
                        ],
                        "text/plain": [
                            "    source                                             SMILES  \\\n",
                            "0  chemdiv  O=C(Nc1ccc2ccccc2c1)c1ccc2c(c1)C(=O)N(c1cccc(N...   \n",
                            "1  chemdiv  O=C(CSc1nnc(-c2ccccc2Cl)n1-c1ccccc1)c1ccc2c(c1...   \n",
                            "2  chemdiv  Cc1ccc(-n2c(=O)c3c4c(sc3n3c(SCC(=O)c5ccccc5)nn...   \n",
                            "3  chemdiv  O=C(Nc1ccc(C(=O)c2ccccc2)cc1)c1ccc(Oc2ccc(C(=O...   \n",
                            "4  chemdiv  O=C(Nc1ccc(Oc2cccc(Oc3ccc(NC(=O)c4ccccc4Cl)cc3...   \n",
                            "\n",
                            "                                                mol  \n",
                            "0  <rdkit.Chem.rdchem.Mol object at 0x7f26725a2dd0>  \n",
                            "1  <rdkit.Chem.rdchem.Mol object at 0x7f26725a2c80>  \n",
                            "2  <rdkit.Chem.rdchem.Mol object at 0x7f26725a2d60>  \n",
                            "3  <rdkit.Chem.rdchem.Mol object at 0x7f26725a2f90>  \n",
                            "4  <rdkit.Chem.rdchem.Mol object at 0x7f26725da040>  "
                        ]
                    },
                    "execution_count": 9,
                    "metadata": {},
                    "output_type": "execute_result"
                }
            ],
            "source": [
                "df.head()"
            ]
        },
        {
            "cell_type": "markdown",
            "id": "f3dc62af",
            "metadata": {
                "papermill": {
                    "duration": 0.043076,
                    "end_time": "2024-02-10T04:49:47.629578",
                    "exception": false,
                    "start_time": "2024-02-10T04:49:47.586502",
                    "status": "completed"
                },
                "tags": []
            },
            "source": [
                "create column for labels, if 'rna' == 1 - molecule binds to the RNA, else - Protein"
            ]
        },
        {
            "cell_type": "code",
            "execution_count": null,
            "id": "87240eff",
            "metadata": {
                "execution": {
                    "iopub.execute_input": "2024-02-10T04:49:47.973489Z",
                    "iopub.status.busy": "2024-02-10T04:49:47.972872Z",
                    "iopub.status.idle": "2024-02-10T04:49:48.160658Z",
                    "shell.execute_reply": "2024-02-10T04:49:48.158696Z"
                },
                "papermill": {
                    "duration": 0.344166,
                    "end_time": "2024-02-10T04:49:48.164632",
                    "exception": false,
                    "start_time": "2024-02-10T04:49:47.820466",
                    "status": "completed"
                },
                "tags": []
            },
            "outputs": [],
            "source": [
                "# create 'rna' column and if in column 'source' is 'enmine_protein' set 'rna' to 0 else 1\n",
                "df['rna'] = df['source'].apply(lambda x: 0 if x == 'enmine_protein' else 1)"
            ]
        },
        {
            "cell_type": "code",
            "execution_count": null,
            "id": "ca0371a0",
            "metadata": {
                "execution": {
                    "iopub.execute_input": "2024-02-10T04:49:48.241735Z",
                    "iopub.status.busy": "2024-02-10T04:49:48.241434Z",
                    "iopub.status.idle": "2024-02-10T04:49:48.250223Z",
                    "shell.execute_reply": "2024-02-10T04:49:48.248594Z"
                },
                "papermill": {
                    "duration": 0.063785,
                    "end_time": "2024-02-10T04:49:48.253852",
                    "exception": false,
                    "start_time": "2024-02-10T04:49:48.190067",
                    "status": "completed"
                },
                "tags": []
            },
            "outputs": [
                {
                    "data": {
                        "text/plain": [
                            "(493078, 4)"
                        ]
                    },
                    "execution_count": 11,
                    "metadata": {},
                    "output_type": "execute_result"
                }
            ],
            "source": [
                "df.shape"
            ]
        },
        {
            "cell_type": "markdown",
            "id": "d31a9361",
            "metadata": {
                "papermill": {
                    "duration": 0.028225,
                    "end_time": "2024-02-10T04:49:48.310886",
                    "exception": false,
                    "start_time": "2024-02-10T04:49:48.282661",
                    "status": "completed"
                },
                "tags": []
            },
            "source": [
                "dataset is unbalanced - creating balanced dataset - undersampling majority class (just for now, in near future more sofisticated approaches will be used - clustering)"
            ]
        },
        {
            "cell_type": "code",
            "execution_count": null,
            "id": "96d31f40",
            "metadata": {
                "execution": {
                    "iopub.execute_input": "2024-02-10T04:49:48.388678Z",
                    "iopub.status.busy": "2024-02-10T04:49:48.388400Z",
                    "iopub.status.idle": "2024-02-10T04:49:48.397342Z",
                    "shell.execute_reply": "2024-02-10T04:49:48.395587Z"
                },
                "papermill": {
                    "duration": 0.047502,
                    "end_time": "2024-02-10T04:49:48.400141",
                    "exception": false,
                    "start_time": "2024-02-10T04:49:48.352639",
                    "status": "completed"
                },
                "tags": []
            },
            "outputs": [
                {
                    "data": {
                        "text/plain": [
                            "((19912, 4), (11080, 4), (456141, 4), (3954, 4), (1991, 4))"
                        ]
                    },
                    "execution_count": 12,
                    "metadata": {},
                    "output_type": "execute_result"
                }
            ],
            "source": [
                "chemdiv.shape, enamine.shape, enmine_protein.shape, life_chemicals.shape, robin.shape"
            ]
        },
        {
            "cell_type": "code",
            "execution_count": null,
            "id": "247d3d6f",
            "metadata": {
                "execution": {
                    "iopub.execute_input": "2024-02-10T04:49:48.488776Z",
                    "iopub.status.busy": "2024-02-10T04:49:48.488455Z",
                    "iopub.status.idle": "2024-02-10T04:49:48.703194Z",
                    "shell.execute_reply": "2024-02-10T04:49:48.701262Z"
                },
                "papermill": {
                    "duration": 0.255634,
                    "end_time": "2024-02-10T04:49:48.707298",
                    "exception": false,
                    "start_time": "2024-02-10T04:49:48.451664",
                    "status": "completed"
                },
                "tags": []
            },
            "outputs": [],
            "source": [
                "# divide data back to 5 dataframes\n",
                "chemdiv = df[df['source'] == 'chemdiv']\n",
                "enamine = df[df['source'] == 'enamine']\n",
                "enmine_protein = df[df['source'] == 'enmine_protein']\n",
                "life_chemicals = df[df['source'] == 'life_chemicals']\n",
                "robin = df[df['source'] == 'robin']\n",
                "\n"
            ]
        },
        {
            "cell_type": "code",
            "execution_count": null,
            "id": "2ea3ac98",
            "metadata": {
                "execution": {
                    "iopub.execute_input": "2024-02-10T04:49:48.779167Z",
                    "iopub.status.busy": "2024-02-10T04:49:48.778852Z",
                    "iopub.status.idle": "2024-02-10T04:49:48.789357Z",
                    "shell.execute_reply": "2024-02-10T04:49:48.787618Z"
                },
                "papermill": {
                    "duration": 0.059001,
                    "end_time": "2024-02-10T04:49:48.792903",
                    "exception": false,
                    "start_time": "2024-02-10T04:49:48.733902",
                    "status": "completed"
                },
                "tags": []
            },
            "outputs": [],
            "source": [
                "smiles_to_delete = [\n",
                "    \"COc1ccc(-c2n(-c3ccccn3)c3ccccc3[n+]2-c2ccccn2)cc1.[O-][Cl+3]([O-])([O-])[O-]\",\n",
                "    \"[O-][Cl+3]([O-])([O-])[O-].c1ccc(-c2[se]c3nccc[n+]3c2-c2ccccc2)cc1\",\n",
                "    \"OC1CSc2n(-c3ccccc3)c(-c3ccccc3)c(-c3ccccc3)[n+]2C1.[O-][Cl+3]([O-])([O-])[O-]\",\n",
                "    \"[O-][Cl+3]([O-])([O-])[O-].c1ccc(-c2ccc(-c3n(-c4ccccn4)c4ccccc4[n+]3-c3ccccn3)cc2)cc1\",\n",
                "    \"COc1ccc(-c2cc(=Nc3cccc(C)c3C)c3cc(C)ccc3o2)cc1.[O-][Cl+3]([O-])([O-])O\",\n",
                "    \"CN(C)c1ccc(/C=C/c2cc(-c3ccccc3)c3ccccc3[o+]2)cc1.[O-][Cl+3]([O-])([O-])[O-]\"\n",
                "]\n",
                "\n",
                "# delete from enamine using 'SMILES' column\n",
                "enamine = enamine[~enamine['SMILES'].isin(smiles_to_delete)]"
            ]
        },
        {
            "cell_type": "code",
            "execution_count": null,
            "id": "ee6d44d7",
            "metadata": {
                "execution": {
                    "iopub.execute_input": "2024-02-10T04:49:48.898680Z",
                    "iopub.status.busy": "2024-02-10T04:49:48.898393Z",
                    "iopub.status.idle": "2024-02-10T04:49:48.909998Z",
                    "shell.execute_reply": "2024-02-10T04:49:48.908356Z"
                },
                "papermill": {
                    "duration": 0.084555,
                    "end_time": "2024-02-10T04:49:48.913686",
                    "exception": false,
                    "start_time": "2024-02-10T04:49:48.829131",
                    "status": "completed"
                },
                "tags": []
            },
            "outputs": [
                {
                    "data": {
                        "text/plain": [
                            "(36931, 4)"
                        ]
                    },
                    "execution_count": 15,
                    "metadata": {},
                    "output_type": "execute_result"
                }
            ],
            "source": [
                "rna_df = pd.concat([chemdiv, enamine, life_chemicals, robin], ignore_index=True)\n",
                "\n",
                "rna_df.shape"
            ]
        },
        {
            "cell_type": "code",
            "execution_count": null,
            "id": "71c3159c",
            "metadata": {
                "execution": {
                    "iopub.execute_input": "2024-02-10T04:49:49.174607Z",
                    "iopub.status.busy": "2024-02-10T04:49:49.174186Z",
                    "iopub.status.idle": "2024-02-10T04:49:49.193208Z",
                    "shell.execute_reply": "2024-02-10T04:49:49.191348Z"
                },
                "papermill": {
                    "duration": 0.079308,
                    "end_time": "2024-02-10T04:49:49.195991",
                    "exception": false,
                    "start_time": "2024-02-10T04:49:49.116683",
                    "status": "completed"
                },
                "tags": []
            },
            "outputs": [
                {
                    "data": {
                        "text/html": [
                            "<div>\n",
                            "<style scoped>\n",
                            "    .dataframe tbody tr th:only-of-type {\n",
                            "        vertical-align: middle;\n",
                            "    }\n",
                            "\n",
                            "    .dataframe tbody tr th {\n",
                            "        vertical-align: top;\n",
                            "    }\n",
                            "\n",
                            "    .dataframe thead th {\n",
                            "        text-align: right;\n",
                            "    }\n",
                            "</style>\n",
                            "<table border=\"1\" class=\"dataframe\">\n",
                            "  <thead>\n",
                            "    <tr style=\"text-align: right;\">\n",
                            "      <th></th>\n",
                            "      <th>source</th>\n",
                            "      <th>SMILES</th>\n",
                            "      <th>mol</th>\n",
                            "      <th>rna</th>\n",
                            "    </tr>\n",
                            "  </thead>\n",
                            "  <tbody>\n",
                            "    <tr>\n",
                            "      <th>30992</th>\n",
                            "      <td>enmine_protein</td>\n",
                            "      <td>CCc1nn(C)cc1NC(=O)c1cnn(CC(=O)NC2CCCCC2)c1</td>\n",
                            "      <td>&lt;rdkit.Chem.rdchem.Mol object at 0x7f2673342b30&gt;</td>\n",
                            "      <td>0</td>\n",
                            "    </tr>\n",
                            "    <tr>\n",
                            "      <th>30993</th>\n",
                            "      <td>enmine_protein</td>\n",
                            "      <td>O=C(Cc1coc2ccccc12)NC1(c2ncon2)CCOCC1</td>\n",
                            "      <td>&lt;rdkit.Chem.rdchem.Mol object at 0x7f2673342ba0&gt;</td>\n",
                            "      <td>0</td>\n",
                            "    </tr>\n",
                            "    <tr>\n",
                            "      <th>30994</th>\n",
                            "      <td>enmine_protein</td>\n",
                            "      <td>CC(C)(C)c1ccc(O)c(NC(=O)c2cccc(Oc3cnccn3)c2)c1</td>\n",
                            "      <td>&lt;rdkit.Chem.rdchem.Mol object at 0x7f2673342c10&gt;</td>\n",
                            "      <td>0</td>\n",
                            "    </tr>\n",
                            "    <tr>\n",
                            "      <th>30995</th>\n",
                            "      <td>enmine_protein</td>\n",
                            "      <td>CC(NC(=O)Cc1ccc(Cl)s1)(C(N)=O)c1ccccc1</td>\n",
                            "      <td>&lt;rdkit.Chem.rdchem.Mol object at 0x7f2673342c80&gt;</td>\n",
                            "      <td>0</td>\n",
                            "    </tr>\n",
                            "    <tr>\n",
                            "      <th>30996</th>\n",
                            "      <td>enmine_protein</td>\n",
                            "      <td>COCc1cccc(S(=O)(=O)Nc2cccc(-n3cn[nH]c3=O)c2C)c1</td>\n",
                            "      <td>&lt;rdkit.Chem.rdchem.Mol object at 0x7f2673342cf0&gt;</td>\n",
                            "      <td>0</td>\n",
                            "    </tr>\n",
                            "  </tbody>\n",
                            "</table>\n",
                            "</div>"
                        ],
                        "text/plain": [
                            "               source                                           SMILES  \\\n",
                            "30992  enmine_protein       CCc1nn(C)cc1NC(=O)c1cnn(CC(=O)NC2CCCCC2)c1   \n",
                            "30993  enmine_protein            O=C(Cc1coc2ccccc12)NC1(c2ncon2)CCOCC1   \n",
                            "30994  enmine_protein   CC(C)(C)c1ccc(O)c(NC(=O)c2cccc(Oc3cnccn3)c2)c1   \n",
                            "30995  enmine_protein           CC(NC(=O)Cc1ccc(Cl)s1)(C(N)=O)c1ccccc1   \n",
                            "30996  enmine_protein  COCc1cccc(S(=O)(=O)Nc2cccc(-n3cn[nH]c3=O)c2C)c1   \n",
                            "\n",
                            "                                                    mol  rna  \n",
                            "30992  <rdkit.Chem.rdchem.Mol object at 0x7f2673342b30>    0  \n",
                            "30993  <rdkit.Chem.rdchem.Mol object at 0x7f2673342ba0>    0  \n",
                            "30994  <rdkit.Chem.rdchem.Mol object at 0x7f2673342c10>    0  \n",
                            "30995  <rdkit.Chem.rdchem.Mol object at 0x7f2673342c80>    0  \n",
                            "30996  <rdkit.Chem.rdchem.Mol object at 0x7f2673342cf0>    0  "
                        ]
                    },
                    "execution_count": 16,
                    "metadata": {},
                    "output_type": "execute_result"
                }
            ],
            "source": [
                "enmine_protein.head()"
            ]
        },
        {
            "cell_type": "code",
            "execution_count": null,
            "id": "9253edcc",
            "metadata": {
                "execution": {
                    "iopub.execute_input": "2024-02-10T04:49:49.294984Z",
                    "iopub.status.busy": "2024-02-10T04:49:49.294683Z",
                    "iopub.status.idle": "2024-02-10T04:49:49.302848Z",
                    "shell.execute_reply": "2024-02-10T04:49:49.301145Z"
                },
                "papermill": {
                    "duration": 0.074629,
                    "end_time": "2024-02-10T04:49:49.305715",
                    "exception": false,
                    "start_time": "2024-02-10T04:49:49.231086",
                    "status": "completed"
                },
                "tags": []
            },
            "outputs": [
                {
                    "data": {
                        "text/plain": [
                            "(493078, 4)"
                        ]
                    },
                    "execution_count": 17,
                    "metadata": {},
                    "output_type": "execute_result"
                }
            ],
            "source": [
                "df.shape"
            ]
        },
        {
            "cell_type": "markdown",
            "id": "31061564",
            "metadata": {
                "papermill": {
                    "duration": 0.147993,
                    "end_time": "2024-02-10T04:49:49.684557",
                    "exception": false,
                    "start_time": "2024-02-10T04:49:49.536564",
                    "status": "completed"
                },
                "tags": []
            },
            "source": [
                "sanity check "
            ]
        },
        {
            "cell_type": "code",
            "execution_count": null,
            "id": "c40705fa",
            "metadata": {
                "execution": {
                    "iopub.execute_input": "2024-02-10T04:49:49.826991Z",
                    "iopub.status.busy": "2024-02-10T04:49:49.826673Z",
                    "iopub.status.idle": "2024-02-10T04:49:49.875770Z",
                    "shell.execute_reply": "2024-02-10T04:49:49.874003Z"
                },
                "papermill": {
                    "duration": 0.130629,
                    "end_time": "2024-02-10T04:49:49.877998",
                    "exception": false,
                    "start_time": "2024-02-10T04:49:49.747369",
                    "status": "completed"
                },
                "tags": []
            },
            "outputs": [
                {
                    "data": {
                        "text/html": [
                            "<div>\n",
                            "<style scoped>\n",
                            "    .dataframe tbody tr th:only-of-type {\n",
                            "        vertical-align: middle;\n",
                            "    }\n",
                            "\n",
                            "    .dataframe tbody tr th {\n",
                            "        vertical-align: top;\n",
                            "    }\n",
                            "\n",
                            "    .dataframe thead th {\n",
                            "        text-align: right;\n",
                            "    }\n",
                            "</style>\n",
                            "<table border=\"1\" class=\"dataframe\">\n",
                            "  <thead>\n",
                            "    <tr style=\"text-align: right;\">\n",
                            "      <th></th>\n",
                            "      <th>source</th>\n",
                            "      <th>SMILES</th>\n",
                            "      <th>mol</th>\n",
                            "      <th>rna</th>\n",
                            "    </tr>\n",
                            "  </thead>\n",
                            "  <tbody>\n",
                            "    <tr>\n",
                            "      <th>0</th>\n",
                            "      <td>chemdiv</td>\n",
                            "      <td>O=C(Nc1ccc2ccccc2c1)c1ccc2c(c1)C(=O)N(c1cccc(N...</td>\n",
                            "      <td>&lt;rdkit.Chem.rdchem.Mol object at 0x7f26725a2dd0&gt;</td>\n",
                            "      <td>1</td>\n",
                            "    </tr>\n",
                            "    <tr>\n",
                            "      <th>19912</th>\n",
                            "      <td>enamine</td>\n",
                            "      <td>CCOc1ccc(-n2c(-c3ccc(CC)cc3)cn3c4ccc5ccccc5c4n...</td>\n",
                            "      <td>&lt;rdkit.Chem.rdchem.Mol object at 0x7f2672e16eb0&gt;</td>\n",
                            "      <td>1</td>\n",
                            "    </tr>\n",
                            "    <tr>\n",
                            "      <th>30992</th>\n",
                            "      <td>enmine_protein</td>\n",
                            "      <td>CCc1nn(C)cc1NC(=O)c1cnn(CC(=O)NC2CCCCC2)c1</td>\n",
                            "      <td>&lt;rdkit.Chem.rdchem.Mol object at 0x7f2673342b30&gt;</td>\n",
                            "      <td>0</td>\n",
                            "    </tr>\n",
                            "    <tr>\n",
                            "      <th>487133</th>\n",
                            "      <td>life_chemicals</td>\n",
                            "      <td>CN1CCCN(c2cc(C#N)ccn2)CC1.Cl.Cl</td>\n",
                            "      <td>&lt;rdkit.Chem.rdchem.Mol object at 0x7f2645ff14a0&gt;</td>\n",
                            "      <td>1</td>\n",
                            "    </tr>\n",
                            "    <tr>\n",
                            "      <th>491087</th>\n",
                            "      <td>robin</td>\n",
                            "      <td>CC(=O)c1ccc(Br)c(N)c1</td>\n",
                            "      <td>&lt;rdkit.Chem.rdchem.Mol object at 0x7f26435df200&gt;</td>\n",
                            "      <td>1</td>\n",
                            "    </tr>\n",
                            "  </tbody>\n",
                            "</table>\n",
                            "</div>"
                        ],
                        "text/plain": [
                            "                source                                             SMILES  \\\n",
                            "0              chemdiv  O=C(Nc1ccc2ccccc2c1)c1ccc2c(c1)C(=O)N(c1cccc(N...   \n",
                            "19912          enamine  CCOc1ccc(-n2c(-c3ccc(CC)cc3)cn3c4ccc5ccccc5c4n...   \n",
                            "30992   enmine_protein         CCc1nn(C)cc1NC(=O)c1cnn(CC(=O)NC2CCCCC2)c1   \n",
                            "487133  life_chemicals                    CN1CCCN(c2cc(C#N)ccn2)CC1.Cl.Cl   \n",
                            "491087           robin                              CC(=O)c1ccc(Br)c(N)c1   \n",
                            "\n",
                            "                                                     mol  rna  \n",
                            "0       <rdkit.Chem.rdchem.Mol object at 0x7f26725a2dd0>    1  \n",
                            "19912   <rdkit.Chem.rdchem.Mol object at 0x7f2672e16eb0>    1  \n",
                            "30992   <rdkit.Chem.rdchem.Mol object at 0x7f2673342b30>    0  \n",
                            "487133  <rdkit.Chem.rdchem.Mol object at 0x7f2645ff14a0>    1  \n",
                            "491087  <rdkit.Chem.rdchem.Mol object at 0x7f26435df200>    1  "
                        ]
                    },
                    "execution_count": 18,
                    "metadata": {},
                    "output_type": "execute_result"
                }
            ],
            "source": [
                "# show rows from df with each source so there will be 5 rows and all columns\n",
                "df.groupby('source').head(1)\n"
            ]
        },
        {
            "cell_type": "code",
            "execution_count": null,
            "id": "5d2f8ec8",
            "metadata": {
                "execution": {
                    "iopub.execute_input": "2024-02-10T04:49:50.060850Z",
                    "iopub.status.busy": "2024-02-10T04:49:50.060550Z",
                    "iopub.status.idle": "2024-02-10T04:49:50.177787Z",
                    "shell.execute_reply": "2024-02-10T04:49:50.175795Z"
                },
                "papermill": {
                    "duration": 0.284489,
                    "end_time": "2024-02-10T04:49:50.179947",
                    "exception": false,
                    "start_time": "2024-02-10T04:49:49.895458",
                    "status": "completed"
                },
                "tags": []
            },
            "outputs": [],
            "source": [
                "\n",
                "# load from json\n",
                "picked_molecules = pd.read_json('data_mvi/picked_molecules.json')"
            ]
        },
        {
            "cell_type": "code",
            "execution_count": 20,
            "id": "20727adb",
            "metadata": {
                "execution": {
                    "iopub.execute_input": "2024-02-10T04:49:50.278543Z",
                    "iopub.status.busy": "2024-02-10T04:49:50.278234Z",
                    "iopub.status.idle": "2024-02-10T04:49:57.884091Z",
                    "shell.execute_reply": "2024-02-10T04:49:57.882126Z"
                },
                "papermill": {
                    "duration": 7.697769,
                    "end_time": "2024-02-10T04:49:57.889652",
                    "exception": false,
                    "start_time": "2024-02-10T04:49:50.191883",
                    "status": "completed"
                },
                "tags": []
            },
            "outputs": [],
            "source": [
                "# # compute mol, ECFP6, and rna columns\n",
                "# picked_molecules['mol'] = picked_molecules['SMILES'].apply(lambda x: Chem.MolFromSmiles(x))\n",
                "# picked_molecules['ECFP6'] = picked_molecules['mol'].apply(lambda x: AllChem.GetMorganFingerprintAsBitVect(x, 3, nBits=2048))\n",
                "# picked_molecules['rna'] = 0\n"
            ]
        },
        {
            "cell_type": "code",
            "execution_count": null,
            "id": "75616e37",
            "metadata": {
                "execution": {
                    "iopub.execute_input": "2024-02-10T04:49:57.953145Z",
                    "iopub.status.busy": "2024-02-10T04:49:57.952807Z",
                    "iopub.status.idle": "2024-02-10T04:49:57.972466Z",
                    "shell.execute_reply": "2024-02-10T04:49:57.971148Z"
                },
                "papermill": {
                    "duration": 0.05707,
                    "end_time": "2024-02-10T04:49:57.975280",
                    "exception": false,
                    "start_time": "2024-02-10T04:49:57.918210",
                    "status": "completed"
                },
                "tags": []
            },
            "outputs": [],
            "source": [
                "picked_molecules"
            ]
        },
        {
            "cell_type": "code",
            "execution_count": 22,
            "id": "e441f57b",
            "metadata": {
                "execution": {
                    "iopub.execute_input": "2024-02-10T04:49:58.214665Z",
                    "iopub.status.busy": "2024-02-10T04:49:58.214348Z",
                    "iopub.status.idle": "2024-02-10T04:49:58.231575Z",
                    "shell.execute_reply": "2024-02-10T04:49:58.229896Z"
                },
                "papermill": {
                    "duration": 0.077249,
                    "end_time": "2024-02-10T04:49:58.235347",
                    "exception": false,
                    "start_time": "2024-02-10T04:49:58.158098",
                    "status": "completed"
                },
                "tags": []
            },
            "outputs": [],
            "source": [
                "# combine all df\n",
                "df_small = pd.concat([chemdiv, enamine, picked_molecules, life_chemicals, robin], ignore_index=True)"
            ]
        },
        {
            "cell_type": "code",
            "execution_count": 23,
            "id": "92a64769",
            "metadata": {
                "execution": {
                    "iopub.execute_input": "2024-02-10T04:49:58.465541Z",
                    "iopub.status.busy": "2024-02-10T04:49:58.465089Z",
                    "iopub.status.idle": "2024-02-10T04:49:58.497938Z",
                    "shell.execute_reply": "2024-02-10T04:49:58.496120Z"
                },
                "papermill": {
                    "duration": 0.238082,
                    "end_time": "2024-02-10T04:49:58.501638",
                    "exception": false,
                    "start_time": "2024-02-10T04:49:58.263556",
                    "status": "completed"
                },
                "tags": []
            },
            "outputs": [
                {
                    "data": {
                        "text/html": [
                            "<div>\n",
                            "<style scoped>\n",
                            "    .dataframe tbody tr th:only-of-type {\n",
                            "        vertical-align: middle;\n",
                            "    }\n",
                            "\n",
                            "    .dataframe tbody tr th {\n",
                            "        vertical-align: top;\n",
                            "    }\n",
                            "\n",
                            "    .dataframe thead th {\n",
                            "        text-align: right;\n",
                            "    }\n",
                            "</style>\n",
                            "<table border=\"1\" class=\"dataframe\">\n",
                            "  <thead>\n",
                            "    <tr style=\"text-align: right;\">\n",
                            "      <th></th>\n",
                            "      <th>source</th>\n",
                            "      <th>SMILES</th>\n",
                            "      <th>mol</th>\n",
                            "      <th>rna</th>\n",
                            "      <th>ECFP6</th>\n",
                            "    </tr>\n",
                            "  </thead>\n",
                            "  <tbody>\n",
                            "    <tr>\n",
                            "      <th>0</th>\n",
                            "      <td>chemdiv</td>\n",
                            "      <td>O=C(Nc1ccc2ccccc2c1)c1ccc2c(c1)C(=O)N(c1cccc(N...</td>\n",
                            "      <td>&lt;rdkit.Chem.rdchem.Mol object at 0x7f26725a2dd0&gt;</td>\n",
                            "      <td>1</td>\n",
                            "      <td>NaN</td>\n",
                            "    </tr>\n",
                            "    <tr>\n",
                            "      <th>19912</th>\n",
                            "      <td>enamine</td>\n",
                            "      <td>CCOc1ccc(-n2c(-c3ccc(CC)cc3)cn3c4ccc5ccccc5c4n...</td>\n",
                            "      <td>&lt;rdkit.Chem.rdchem.Mol object at 0x7f2672e16eb0&gt;</td>\n",
                            "      <td>1</td>\n",
                            "      <td>NaN</td>\n",
                            "    </tr>\n",
                            "    <tr>\n",
                            "      <th>30986</th>\n",
                            "      <td>enmine_protein</td>\n",
                            "      <td>CCCn1nc(C(=O)Nc2cc(-c3ccccc3F)no2)ccc1=O</td>\n",
                            "      <td>{}</td>\n",
                            "      <td>0</td>\n",
                            "      <td>{}</td>\n",
                            "    </tr>\n",
                            "    <tr>\n",
                            "      <th>67917</th>\n",
                            "      <td>life_chemicals</td>\n",
                            "      <td>CN1CCCN(c2cc(C#N)ccn2)CC1.Cl.Cl</td>\n",
                            "      <td>&lt;rdkit.Chem.rdchem.Mol object at 0x7f2645ff14a0&gt;</td>\n",
                            "      <td>1</td>\n",
                            "      <td>NaN</td>\n",
                            "    </tr>\n",
                            "    <tr>\n",
                            "      <th>71871</th>\n",
                            "      <td>robin</td>\n",
                            "      <td>CC(=O)c1ccc(Br)c(N)c1</td>\n",
                            "      <td>&lt;rdkit.Chem.rdchem.Mol object at 0x7f26435df200&gt;</td>\n",
                            "      <td>1</td>\n",
                            "      <td>NaN</td>\n",
                            "    </tr>\n",
                            "  </tbody>\n",
                            "</table>\n",
                            "</div>"
                        ],
                        "text/plain": [
                            "               source                                             SMILES  \\\n",
                            "0             chemdiv  O=C(Nc1ccc2ccccc2c1)c1ccc2c(c1)C(=O)N(c1cccc(N...   \n",
                            "19912         enamine  CCOc1ccc(-n2c(-c3ccc(CC)cc3)cn3c4ccc5ccccc5c4n...   \n",
                            "30986  enmine_protein           CCCn1nc(C(=O)Nc2cc(-c3ccccc3F)no2)ccc1=O   \n",
                            "67917  life_chemicals                    CN1CCCN(c2cc(C#N)ccn2)CC1.Cl.Cl   \n",
                            "71871           robin                              CC(=O)c1ccc(Br)c(N)c1   \n",
                            "\n",
                            "                                                    mol  rna ECFP6  \n",
                            "0      <rdkit.Chem.rdchem.Mol object at 0x7f26725a2dd0>    1   NaN  \n",
                            "19912  <rdkit.Chem.rdchem.Mol object at 0x7f2672e16eb0>    1   NaN  \n",
                            "30986                                                {}    0    {}  \n",
                            "67917  <rdkit.Chem.rdchem.Mol object at 0x7f2645ff14a0>    1   NaN  \n",
                            "71871  <rdkit.Chem.rdchem.Mol object at 0x7f26435df200>    1   NaN  "
                        ]
                    },
                    "execution_count": 23,
                    "metadata": {},
                    "output_type": "execute_result"
                }
            ],
            "source": [
                "df_small.groupby('source').head(1)"
            ]
        },
        {
            "cell_type": "code",
            "execution_count": 24,
            "id": "77008e36",
            "metadata": {
                "execution": {
                    "iopub.execute_input": "2024-02-10T04:49:58.709722Z",
                    "iopub.status.busy": "2024-02-10T04:49:58.709270Z",
                    "iopub.status.idle": "2024-02-10T04:49:58.728065Z",
                    "shell.execute_reply": "2024-02-10T04:49:58.726701Z"
                },
                "papermill": {
                    "duration": 0.197514,
                    "end_time": "2024-02-10T04:49:58.731234",
                    "exception": false,
                    "start_time": "2024-02-10T04:49:58.533720",
                    "status": "completed"
                },
                "tags": []
            },
            "outputs": [
                {
                    "data": {
                        "text/plain": [
                            "rna\n",
                            "1    36931\n",
                            "0    36931\n",
                            "Name: count, dtype: int64"
                        ]
                    },
                    "execution_count": 24,
                    "metadata": {},
                    "output_type": "execute_result"
                }
            ],
            "source": [
                "df_small['rna'].value_counts()"
            ]
        },
        {
            "cell_type": "markdown",
            "id": "d4bbfea3",
            "metadata": {
                "papermill": {
                    "duration": 0.024452,
                    "end_time": "2024-02-10T04:49:58.778211",
                    "exception": false,
                    "start_time": "2024-02-10T04:49:58.753759",
                    "status": "completed"
                },
                "tags": []
            },
            "source": [
                "Check for the inconsistency\n"
            ]
        },
        {
            "cell_type": "code",
            "execution_count": 25,
            "id": "96807bcc",
            "metadata": {
                "execution": {
                    "iopub.execute_input": "2024-02-10T04:51:50.738461Z",
                    "iopub.status.busy": "2024-02-10T04:51:50.737971Z",
                    "iopub.status.idle": "2024-02-10T04:52:17.306696Z",
                    "shell.execute_reply": "2024-02-10T04:52:17.305054Z"
                },
                "papermill": {
                    "duration": 26.621652,
                    "end_time": "2024-02-10T04:52:17.311449",
                    "exception": false,
                    "start_time": "2024-02-10T04:51:50.689797",
                    "status": "completed"
                },
                "tags": []
            },
            "outputs": [
                {
                    "data": {
                        "text/html": [
                            "<div>\n",
                            "<style scoped>\n",
                            "    .dataframe tbody tr th:only-of-type {\n",
                            "        vertical-align: middle;\n",
                            "    }\n",
                            "\n",
                            "    .dataframe tbody tr th {\n",
                            "        vertical-align: top;\n",
                            "    }\n",
                            "\n",
                            "    .dataframe thead th {\n",
                            "        text-align: right;\n",
                            "    }\n",
                            "</style>\n",
                            "<table border=\"1\" class=\"dataframe\">\n",
                            "  <thead>\n",
                            "    <tr style=\"text-align: right;\">\n",
                            "      <th></th>\n",
                            "      <th>source</th>\n",
                            "      <th>SMILES</th>\n",
                            "      <th>mol</th>\n",
                            "      <th>rna</th>\n",
                            "      <th>ECFP6</th>\n",
                            "    </tr>\n",
                            "  </thead>\n",
                            "  <tbody>\n",
                            "    <tr>\n",
                            "      <th>0</th>\n",
                            "      <td>chemdiv</td>\n",
                            "      <td>O=C(Nc1ccc2ccccc2c1)c1ccc2c(c1)C(=O)N(c1cccc(N...</td>\n",
                            "      <td>&lt;rdkit.Chem.rdchem.Mol object at 0x7f26ac6ad900&gt;</td>\n",
                            "      <td>1</td>\n",
                            "      <td>NaN</td>\n",
                            "    </tr>\n",
                            "    <tr>\n",
                            "      <th>1</th>\n",
                            "      <td>chemdiv</td>\n",
                            "      <td>O=C(CSc1nnc(-c2ccccc2Cl)n1-c1ccccc1)c1ccc2c(c1...</td>\n",
                            "      <td>&lt;rdkit.Chem.rdchem.Mol object at 0x7f26ac6ad5f0&gt;</td>\n",
                            "      <td>1</td>\n",
                            "      <td>NaN</td>\n",
                            "    </tr>\n",
                            "    <tr>\n",
                            "      <th>2</th>\n",
                            "      <td>chemdiv</td>\n",
                            "      <td>Cc1ccc(-n2c(=O)c3c4c(sc3n3c(SCC(=O)c5ccccc5)nn...</td>\n",
                            "      <td>&lt;rdkit.Chem.rdchem.Mol object at 0x7f26ac6ad7b0&gt;</td>\n",
                            "      <td>1</td>\n",
                            "      <td>NaN</td>\n",
                            "    </tr>\n",
                            "    <tr>\n",
                            "      <th>3</th>\n",
                            "      <td>chemdiv</td>\n",
                            "      <td>O=C(Nc1ccc(C(=O)c2ccccc2)cc1)c1ccc(Oc2ccc(C(=O...</td>\n",
                            "      <td>&lt;rdkit.Chem.rdchem.Mol object at 0x7f26ac6ad4a0&gt;</td>\n",
                            "      <td>1</td>\n",
                            "      <td>NaN</td>\n",
                            "    </tr>\n",
                            "    <tr>\n",
                            "      <th>4</th>\n",
                            "      <td>chemdiv</td>\n",
                            "      <td>O=C(Nc1ccc(Oc2cccc(Oc3ccc(NC(=O)c4ccccc4Cl)cc3...</td>\n",
                            "      <td>&lt;rdkit.Chem.rdchem.Mol object at 0x7f26ac6ad3c0&gt;</td>\n",
                            "      <td>1</td>\n",
                            "      <td>NaN</td>\n",
                            "    </tr>\n",
                            "    <tr>\n",
                            "      <th>...</th>\n",
                            "      <td>...</td>\n",
                            "      <td>...</td>\n",
                            "      <td>...</td>\n",
                            "      <td>...</td>\n",
                            "      <td>...</td>\n",
                            "    </tr>\n",
                            "    <tr>\n",
                            "      <th>73857</th>\n",
                            "      <td>robin</td>\n",
                            "      <td>C=CC(=O)Nc1cccc(Nc2nc(N[C@H]3CC[C@H](N(C)C)CC3...</td>\n",
                            "      <td>&lt;rdkit.Chem.rdchem.Mol object at 0x7f25ef2b9eb0&gt;</td>\n",
                            "      <td>1</td>\n",
                            "      <td>NaN</td>\n",
                            "    </tr>\n",
                            "    <tr>\n",
                            "      <th>73858</th>\n",
                            "      <td>robin</td>\n",
                            "      <td>N#C/C(C(=O)c1ccc(Cl)cc1Cl)=C1\\NC(=O)c2ccc(Cl)c...</td>\n",
                            "      <td>&lt;rdkit.Chem.rdchem.Mol object at 0x7f25ef2b9f20&gt;</td>\n",
                            "      <td>1</td>\n",
                            "      <td>NaN</td>\n",
                            "    </tr>\n",
                            "    <tr>\n",
                            "      <th>73859</th>\n",
                            "      <td>robin</td>\n",
                            "      <td>C[C@H](N[C@H]1C[C@H]1c1ccccc1)c1ccc2c(c1)OCCO2</td>\n",
                            "      <td>&lt;rdkit.Chem.rdchem.Mol object at 0x7f25ef2b9f90&gt;</td>\n",
                            "      <td>1</td>\n",
                            "      <td>NaN</td>\n",
                            "    </tr>\n",
                            "    <tr>\n",
                            "      <th>73860</th>\n",
                            "      <td>robin</td>\n",
                            "      <td>NCCC[C@@H](N)CC(=O)N[C@H]1CNC(=O)[C@@H]([C@@H]...</td>\n",
                            "      <td>&lt;rdkit.Chem.rdchem.Mol object at 0x7f25ef2bb040&gt;</td>\n",
                            "      <td>1</td>\n",
                            "      <td>NaN</td>\n",
                            "    </tr>\n",
                            "    <tr>\n",
                            "      <th>73861</th>\n",
                            "      <td>robin</td>\n",
                            "      <td>CC(C)=CCC/C(C)=C\\CNCCN[C@H]1[C@@H]2C[C@H]3C[C@...</td>\n",
                            "      <td>&lt;rdkit.Chem.rdchem.Mol object at 0x7f25ef2bb0b0&gt;</td>\n",
                            "      <td>1</td>\n",
                            "      <td>NaN</td>\n",
                            "    </tr>\n",
                            "  </tbody>\n",
                            "</table>\n",
                            "<p>73862 rows × 5 columns</p>\n",
                            "</div>"
                        ],
                        "text/plain": [
                            "        source                                             SMILES  \\\n",
                            "0      chemdiv  O=C(Nc1ccc2ccccc2c1)c1ccc2c(c1)C(=O)N(c1cccc(N...   \n",
                            "1      chemdiv  O=C(CSc1nnc(-c2ccccc2Cl)n1-c1ccccc1)c1ccc2c(c1...   \n",
                            "2      chemdiv  Cc1ccc(-n2c(=O)c3c4c(sc3n3c(SCC(=O)c5ccccc5)nn...   \n",
                            "3      chemdiv  O=C(Nc1ccc(C(=O)c2ccccc2)cc1)c1ccc(Oc2ccc(C(=O...   \n",
                            "4      chemdiv  O=C(Nc1ccc(Oc2cccc(Oc3ccc(NC(=O)c4ccccc4Cl)cc3...   \n",
                            "...        ...                                                ...   \n",
                            "73857    robin  C=CC(=O)Nc1cccc(Nc2nc(N[C@H]3CC[C@H](N(C)C)CC3...   \n",
                            "73858    robin  N#C/C(C(=O)c1ccc(Cl)cc1Cl)=C1\\NC(=O)c2ccc(Cl)c...   \n",
                            "73859    robin     C[C@H](N[C@H]1C[C@H]1c1ccccc1)c1ccc2c(c1)OCCO2   \n",
                            "73860    robin  NCCC[C@@H](N)CC(=O)N[C@H]1CNC(=O)[C@@H]([C@@H]...   \n",
                            "73861    robin  CC(C)=CCC/C(C)=C\\CNCCN[C@H]1[C@@H]2C[C@H]3C[C@...   \n",
                            "\n",
                            "                                                    mol  rna ECFP6  \n",
                            "0      <rdkit.Chem.rdchem.Mol object at 0x7f26ac6ad900>    1   NaN  \n",
                            "1      <rdkit.Chem.rdchem.Mol object at 0x7f26ac6ad5f0>    1   NaN  \n",
                            "2      <rdkit.Chem.rdchem.Mol object at 0x7f26ac6ad7b0>    1   NaN  \n",
                            "3      <rdkit.Chem.rdchem.Mol object at 0x7f26ac6ad4a0>    1   NaN  \n",
                            "4      <rdkit.Chem.rdchem.Mol object at 0x7f26ac6ad3c0>    1   NaN  \n",
                            "...                                                 ...  ...   ...  \n",
                            "73857  <rdkit.Chem.rdchem.Mol object at 0x7f25ef2b9eb0>    1   NaN  \n",
                            "73858  <rdkit.Chem.rdchem.Mol object at 0x7f25ef2b9f20>    1   NaN  \n",
                            "73859  <rdkit.Chem.rdchem.Mol object at 0x7f25ef2b9f90>    1   NaN  \n",
                            "73860  <rdkit.Chem.rdchem.Mol object at 0x7f25ef2bb040>    1   NaN  \n",
                            "73861  <rdkit.Chem.rdchem.Mol object at 0x7f25ef2bb0b0>    1   NaN  \n",
                            "\n",
                            "[73862 rows x 5 columns]"
                        ]
                    },
                    "execution_count": 25,
                    "metadata": {},
                    "output_type": "execute_result"
                }
            ],
            "source": [
                "# Assuming df_small is your existing DataFrame\n",
                "# Initialize a list to store molecules with disconnected components\n",
                "disconnected_mols = []\n",
                "\n",
                "# Check for valid SMILES and Mols\n",
                "for idx, row in df_small.iterrows():\n",
                "    smiles = row['SMILES']\n",
                "    mol = Chem.MolFromSmiles(smiles)\n",
                "\n",
                "    if mol is None:\n",
                "        print(f\"Invalid SMILES string at index {idx}: {smiles}\")\n",
                "        continue\n",
                "\n",
                "    # Check if the molecule has more than one fragment (possible salt)\n",
                "    num_components = Chem.GetMolFrags(mol, asMols=False, sanitizeFrags=False)\n",
                "    if len(num_components) > 1:\n",
                "        # Standardize the molecule and remove salts\n",
                "        std_mol = standardizer.standardize_mol(mol)\n",
                "        parent_mol, _ = standardizer.get_parent_mol(std_mol)\n",
                "\n",
                "        if parent_mol is None or parent_mol.GetNumAtoms() == 0:\n",
                "            print(f\"Invalid Mol object at index {idx}: {smiles}\")\n",
                "            continue\n",
                "\n",
                "        # Update the DataFrame with the salt-free molecule\n",
                "        df_small.at[idx, 'mol'] = parent_mol\n",
                "        df_small.at[idx, 'SMILES'] = Chem.MolToSmiles(parent_mol)\n",
                "    else:\n",
                "        # For molecules without salts, just update the original molecule\n",
                "        df_small.at[idx, 'mol'] = mol\n",
                "\n",
                "# Convert the list of molecules with disconnected components to a DataFrame\n",
                "disconnected_mols_df = pd.DataFrame(disconnected_mols)\n",
                "# Save disconnected_mols_df to a JSON file\n",
                "disconnected_mols_df.to_json('disconnected_mols_df.json')\n",
                "\n",
                "# Displaying the updated DataFrame\n",
                "df_small\n"
            ]
        },
        {
            "cell_type": "code",
            "execution_count": 26,
            "id": "74e31c9a",
            "metadata": {
                "execution": {
                    "iopub.execute_input": "2024-02-10T04:52:17.491891Z",
                    "iopub.status.busy": "2024-02-10T04:52:17.491575Z",
                    "iopub.status.idle": "2024-02-10T04:52:39.688602Z",
                    "shell.execute_reply": "2024-02-10T04:52:39.686550Z"
                },
                "papermill": {
                    "duration": 22.357378,
                    "end_time": "2024-02-10T04:52:39.693911",
                    "exception": false,
                    "start_time": "2024-02-10T04:52:17.336533",
                    "status": "completed"
                },
                "tags": []
            },
            "outputs": [
                {
                    "name": "stdout",
                    "output_type": "stream",
                    "text": [
                        "No disconnected molecules found!\n"
                    ]
                }
            ],
            "source": [
                "from rdkit import Chem\n",
                "import pandas as pd\n",
                "\n",
                "# Initialize a list to store molecules with disconnected components\n",
                "disconnected_mols = []\n",
                "\n",
                "# Check for valid SMILES and Mols\n",
                "for idx, row in df_small.iterrows():\n",
                "    smiles = row['SMILES']\n",
                "    mol = row['mol']\n",
                "    source = row['source']\n",
                "\n",
                "    # Check if the SMILES string can be converted to a valid RDKit Mol object\n",
                "    mol_from_smiles = Chem.MolFromSmiles(smiles)\n",
                "    if mol_from_smiles is None:\n",
                "        print(f\"Invalid SMILES string at index {idx}: {smiles}\")\n",
                "        continue\n",
                "\n",
                "    # Check if the Mol object is valid (no disconnected components)\n",
                "    if mol is None or mol.GetNumAtoms() == 0:\n",
                "        print(f\"Invalid Mol object at index {idx}: {smiles}\")\n",
                "        continue\n",
                "\n",
                "    # Check for disconnected components in Mol objects\n",
                "    if mol is not None:\n",
                "        # Get the number of disconnected components\n",
                "        num_components = Chem.GetMolFrags(mol, asMols=False, sanitizeFrags=False)\n",
                "        if len(num_components) > 1:\n",
                "            print(f\"Disconnected components in molecule at index {idx}: {smiles}, from source {source}\")\n",
                "            disconnected_mols.append(row)\n",
                "            df_small.drop(idx, inplace=True)\n",
                "\n",
                "# Convert the list to a DataFrame\n",
                "disconnected_mols_df = pd.DataFrame(disconnected_mols)\n",
                "# save disconnected_mols_df to json file\n",
                "disconnected_mols_df.to_json('disconnected_mols_df.json')\n",
                "\n",
                "if disconnected_mols_df.shape[0] < 1:\n",
                "    print(\"No disconnected molecules found!\")"
            ]
        },
        {
            "cell_type": "markdown",
            "id": "ff4a47d5",
            "metadata": {
                "papermill": {
                    "duration": 0.050398,
                    "end_time": "2024-02-10T04:52:39.954873",
                    "exception": false,
                    "start_time": "2024-02-10T04:52:39.904475",
                    "status": "completed"
                },
                "tags": []
            },
            "source": [
                "## Create Graphs from molecules and add features to nodes (atoms) - mainly one hot encoding , edges (bonds)"
            ]
        },
        {
            "cell_type": "code",
            "execution_count": 27,
            "id": "7efa2744",
            "metadata": {
                "execution": {
                    "iopub.execute_input": "2024-02-10T04:52:40.416072Z",
                    "iopub.status.busy": "2024-02-10T04:52:40.415780Z",
                    "iopub.status.idle": "2024-02-10T04:55:10.636117Z",
                    "shell.execute_reply": "2024-02-10T04:55:10.634172Z"
                },
                "papermill": {
                    "duration": 150.287176,
                    "end_time": "2024-02-10T04:55:10.641603",
                    "exception": false,
                    "start_time": "2024-02-10T04:52:40.354427",
                    "status": "completed"
                },
                "tags": []
            },
            "outputs": [],
            "source": [
                "def create_graphs_from_dataframe(df):\n",
                "    graphs = []\n",
                "    labels = []\n",
                "\n",
                "    for index, row in df.iterrows():\n",
                "        mol = row['mol']  # RDKit Mol object\n",
                "        label = row['rna']  # Binary label\n",
                "\n",
                "        # Convert RDKit molecule to a bi-directed DGLGraph and featurize\n",
                "        graph = mol_to_bigraph(mol,  # mol_to_bigraph\n",
                "                               node_featurizer=CanonicalAtomFeaturizer(),\n",
                "                               edge_featurizer=CanonicalBondFeaturizer(self_loop=True),\n",
                "                               explicit_hydrogens=False,\n",
                "                               add_self_loop=True)\n",
                "               \n",
                "        # graph = dgl.add_self_loop(graph)\n",
                "        graphs.append(graph)\n",
                "        labels.append(label)\n",
                "\n",
                "    return graphs, torch.tensor(labels).unsqueeze(1)\n",
                "\n",
                "\n",
                "# Create graphs and labels from the DataFrame\n",
                "graphs, labels = create_graphs_from_dataframe(df_small)\n",
                "\n",
                "# Now, 'graphs' is a list of DGLGraphs, and 'labels' is a tensor of labels \n",
                "# corresponding to each graph. We can use DGL's batch utility function to\n",
                "# batch these graphs together into a single large graph. This is a common\n",
                "# technique for training GNNs on multiple graphs.\n"
            ]
        },
        {
            "cell_type": "markdown",
            "id": "d6bc45d4",
            "metadata": {
                "papermill": {
                    "duration": 0.053747,
                    "end_time": "2024-02-10T04:55:10.717721",
                    "exception": false,
                    "start_time": "2024-02-10T04:55:10.663974",
                    "status": "completed"
                },
                "tags": []
            },
            "source": [
                "save graphs - tensors"
            ]
        },
        {
            "cell_type": "code",
            "execution_count": 28,
            "id": "194c8a47",
            "metadata": {
                "execution": {
                    "iopub.execute_input": "2024-02-10T04:55:11.278845Z",
                    "iopub.status.busy": "2024-02-10T04:55:11.278515Z",
                    "iopub.status.idle": "2024-02-10T04:55:50.255363Z",
                    "shell.execute_reply": "2024-02-10T04:55:50.253447Z"
                },
                "papermill": {
                    "duration": 39.283451,
                    "end_time": "2024-02-10T04:55:50.260250",
                    "exception": false,
                    "start_time": "2024-02-10T04:55:10.976799",
                    "status": "completed"
                },
                "tags": []
            },
            "outputs": [],
            "source": [
                "graph_labels = df_small[['source', 'rna']].to_dict('records')  # Convert relevant columns to a list of dictionaries\n",
                "\n",
                "# Save the graphs\n",
                "dgl.save_graphs('data_mvi/molecule_graphs_orig.bin', graphs)\n",
                "\n",
                "# Save the labels and additional information\n",
                "with open('graph_labels.json', 'w') as f:\n",
                "    json.dump(graph_labels, f)\n"
            ]
        },
        {
            "cell_type": "code",
            "execution_count": 29,
            "id": "730a9eb6",
            "metadata": {
                "execution": {
                    "iopub.execute_input": "2024-02-10T04:55:50.579557Z",
                    "iopub.status.busy": "2024-02-10T04:55:50.579273Z",
                    "iopub.status.idle": "2024-02-10T04:56:01.543122Z",
                    "shell.execute_reply": "2024-02-10T04:56:01.541091Z"
                },
                "papermill": {
                    "duration": 11.257716,
                    "end_time": "2024-02-10T04:56:01.547837",
                    "exception": false,
                    "start_time": "2024-02-10T04:55:50.290121",
                    "status": "completed"
                },
                "tags": []
            },
            "outputs": [],
            "source": [
                "# Load the graphs\n",
                "loaded_graphs_orig, _ = dgl.load_graphs('data_mvi/molecule_graphs_orig.bin')\n",
                "\n",
                "# Load the labels and additional information\n",
                "with open('graph_labels.json', 'r') as f:\n",
                "    loaded_graph_labels = json.load(f)\n",
                "\n",
                "# You can now reconstruct a DataFrame or directly use the loaded data\n",
                "reconstructed_df = pd.DataFrame(loaded_graph_labels)\n"
            ]
        },
        {
            "cell_type": "markdown",
            "id": "950779a5",
            "metadata": {
                "papermill": {
                    "duration": 0.059237,
                    "end_time": "2024-02-10T04:56:01.636486",
                    "exception": false,
                    "start_time": "2024-02-10T04:56:01.577249",
                    "status": "completed"
                },
                "tags": []
            },
            "source": [
                "### Visualization of the graph representation "
            ]
        },
        {
            "cell_type": "code",
            "execution_count": 31,
            "id": "bc7e5a99",
            "metadata": {},
            "outputs": [
                {
                    "data": {
                        "image/jpeg": "[encoded data removed]",
                        "image/png": "[encoded data removed]",
                        "text/plain": [
                            "<PIL.PngImagePlugin.PngImageFile image mode=RGB size=600x600>"
                        ]
                    },
                    "execution_count": 31,
                    "metadata": {},
                    "output_type": "execute_result"
                }
            ],
            "source": [
                "\n",
                "mol = df_small['mol'][42]\n",
                "AllChem.Compute2DCoords(mol)\n",
                "# draw the molecule\n",
                "Draw.MolToImage(mol, size=(600, 600))"
            ]
        },
        {
            "cell_type": "code",
            "execution_count": 32,
            "id": "5d338333",
            "metadata": {},
            "outputs": [
                {
                    "data": {
                        "image/png": "[encoded data removed]",
                        "text/plain": [
                            "<IPython.core.display.Image object>"
                        ]
                    },
                    "execution_count": 32,
                    "metadata": {},
                    "output_type": "execute_result"
                }
            ],
            "source": [
                "\n",
                "# Function to draw a molecule with atom numbering\n",
                "def draw_molecule_with_atom_index(mol):\n",
                "    d2d = rdMolDraw2D.MolDraw2DCairo(600, 600) # or MolDraw2DSVG to get SVG output\n",
                "    opts = d2d.drawOptions()\n",
                "    for i in range(mol.GetNumAtoms()):\n",
                "        opts.atomLabels[i] = str(i)\n",
                "    d2d.DrawMolecule(mol)\n",
                "    d2d.FinishDrawing()\n",
                "    return d2d.GetDrawingText()\n",
                "\n",
                "# Assuming df_small['mol'][42] is an RDKit molecule\n",
                "mol = df_small['mol'][42]\n",
                "AllChem.Compute2DCoords(mol)\n",
                "\n",
                "# Draw the molecule with atom numbering\n",
                "img = draw_molecule_with_atom_index(mol)  # This returns binary data for the image\n",
                "# To display the image in a Jupyter notebook, you can do the following:\n",
                "IPython.display.Image(data=img)\n",
                "\n"
            ]
        },
        {
            "cell_type": "code",
            "execution_count": 33,
            "id": "c418b2fc",
            "metadata": {
                "execution": {
                    "iopub.execute_input": "2024-02-10T04:56:01.737602Z",
                    "iopub.status.busy": "2024-02-10T04:56:01.736858Z",
                    "iopub.status.idle": "2024-02-10T04:56:02.168172Z",
                    "shell.execute_reply": "2024-02-10T04:56:02.166815Z"
                },
                "papermill": {
                    "duration": 0.488527,
                    "end_time": "2024-02-10T04:56:02.171247",
                    "exception": false,
                    "start_time": "2024-02-10T04:56:01.682720",
                    "status": "completed"
                },
                "tags": []
            },
            "outputs": [
                {
                    "data": {
                        "image/png": "[encoded data removed]",
                        "text/plain": [
                            "<Figure size 640x480 with 1 Axes>"
                        ]
                    },
                    "metadata": {},
                    "output_type": "display_data"
                }
            ],
            "source": [
                "def visualize_graph_with_mol_layout(G, mol):\n",
                "    pos = {atom_idx: (atom.GetOwningMol().GetConformer().GetAtomPosition(atom_idx).x,\n",
                "                      atom.GetOwningMol().GetConformer().GetAtomPosition(atom_idx).y)\n",
                "           for atom_idx, atom in enumerate(mol.GetAtoms())}\n",
                "    \n",
                "    nx.draw(G, pos, with_labels=True, node_color='skyblue', node_size=200, edge_color='black', arrows=True)\n",
                "    plt.show()\n",
                "\n",
                "def mol_to_nx(mol):\n",
                "    G = nx.DiGraph()  # Initialize a directed graph to allow for bidirectional edges\n",
                "    for bond in mol.GetBonds():\n",
                "        a1 = bond.GetBeginAtomIdx()\n",
                "        a2 = bond.GetEndAtomIdx()\n",
                "        # Add edges in both directions\n",
                "        G.add_edge(a1, a2)\n",
                "        G.add_edge(a2, a1)\n",
                "    return G\n",
                "\n",
                "# Convert the RDKit molecule to a NetworkX graph\n",
                "G = mol_to_nx(mol)\n",
                "\n",
                "# Now visualize the NetworkX graph with the layout based on the molecule\n",
                "visualize_graph_with_mol_layout(G, mol)"
            ]
        },
        {
            "cell_type": "markdown",
            "id": "2e9273d5",
            "metadata": {
                "papermill": {
                    "duration": 0.072146,
                    "end_time": "2024-02-10T04:56:02.389871",
                    "exception": false,
                    "start_time": "2024-02-10T04:56:02.317725",
                    "status": "completed"
                },
                "tags": []
            },
            "source": [
                "# Create train and test set"
            ]
        },
        {
            "cell_type": "code",
            "execution_count": 34,
            "id": "475b6d60",
            "metadata": {
                "execution": {
                    "iopub.execute_input": "2024-02-10T04:56:02.537173Z",
                    "iopub.status.busy": "2024-02-10T04:56:02.536878Z",
                    "iopub.status.idle": "2024-02-10T04:56:02.588728Z",
                    "shell.execute_reply": "2024-02-10T04:56:02.587081Z"
                },
                "papermill": {
                    "duration": 0.130256,
                    "end_time": "2024-02-10T04:56:02.590625",
                    "exception": false,
                    "start_time": "2024-02-10T04:56:02.460369",
                    "status": "completed"
                },
                "tags": []
            },
            "outputs": [],
            "source": [
                "# First split into training and test sets\n",
                "train_graphs, test_graphs, train_labels, test_labels = train_test_split(\n",
                "    loaded_graphs_orig, \n",
                "    reconstructed_df['rna'], \n",
                "    test_size=0.2, \n",
                "    random_state=42\n",
                ")\n",
                "\n",
                "# Further split the training set into training and validation sets\n",
                "train_graphs, val_graphs, train_labels, val_labels = train_test_split(\n",
                "    train_graphs, \n",
                "    train_labels, \n",
                "    test_size=0.2,  # 20% of the original training set for validation\n",
                "    random_state=42\n",
                ")\n",
                "\n",
                "# merge train and val,  labels are Series\n",
                "train_graphs_all = train_graphs + val_graphs\n",
                "train_labels_all = pd.concat([train_labels, val_labels])"
            ]
        },
        {
            "cell_type": "markdown",
            "id": "1bf3313a",
            "metadata": {
                "papermill": {
                    "duration": 0.10103,
                    "end_time": "2024-02-10T04:56:02.721478",
                    "exception": false,
                    "start_time": "2024-02-10T04:56:02.620448",
                    "status": "completed"
                },
                "tags": []
            },
            "source": [
                "there was a problem with few isolated nodes in few graphs so I added loops to each node to have information at least about themselfs"
            ]
        },
        {
            "cell_type": "code",
            "execution_count": 35,
            "id": "272cdcfe",
            "metadata": {
                "execution": {
                    "iopub.execute_input": "2024-02-10T04:56:02.944390Z",
                    "iopub.status.busy": "2024-02-10T04:56:02.943723Z",
                    "iopub.status.idle": "2024-02-10T04:56:14.794248Z",
                    "shell.execute_reply": "2024-02-10T04:56:14.793216Z"
                },
                "papermill": {
                    "duration": 11.964657,
                    "end_time": "2024-02-10T04:56:14.796000",
                    "exception": false,
                    "start_time": "2024-02-10T04:56:02.831343",
                    "status": "completed"
                },
                "tags": []
            },
            "outputs": [],
            "source": [
                "# for i, g in enumerate(train_graphs):\n",
                "#     if (g.in_degrees() == 0).any():\n",
                "#         print(f\"Graph {i} has isolated nodes\")\n",
                "\n",
                "# # if there is not any isolated nodes in train_graphs, print 'No isolated nodes'\n",
                "# print('No isolated nodes')\n",
                "\n",
                "# for i, g in enumerate(test_graphs):\n",
                "#     if (g.in_degrees() == 0).any():\n",
                "#         print(f\"Graph {i} has isolated nodes\")\n",
                "\n",
                "# # if there is not any isolated nodes in train_graphs, print 'No isolated nodes'\n",
                "# print('No isolated nodes')"
            ]
        },
        {
            "cell_type": "markdown",
            "id": "30ee5684",
            "metadata": {
                "papermill": {
                    "duration": 0.052598,
                    "end_time": "2024-02-10T04:56:14.867456",
                    "exception": false,
                    "start_time": "2024-02-10T04:56:14.814858",
                    "status": "completed"
                },
                "tags": []
            },
            "source": [
                "# Graph Attention Networks (GAT)"
            ]
        },
        {
            "cell_type": "code",
            "execution_count": 55,
            "id": "763edb93",
            "metadata": {
                "execution": {
                    "iopub.execute_input": "2024-02-10T04:56:15.003506Z",
                    "iopub.status.busy": "2024-02-10T04:56:15.003046Z",
                    "iopub.status.idle": "2024-02-10T04:56:15.011856Z",
                    "shell.execute_reply": "2024-02-10T04:56:15.010709Z"
                },
                "papermill": {
                    "duration": 0.087926,
                    "end_time": "2024-02-10T04:56:15.013674",
                    "exception": false,
                    "start_time": "2024-02-10T04:56:14.925748",
                    "status": "completed"
                },
                "tags": []
            },
            "outputs": [],
            "source": [
                "\n",
                "\n",
                "class GATClassifier(nn.Module):\n",
                "    def __init__(self, in_feats, hidden_size, num_heads=1):\n",
                "        super(GATClassifier, self).__init__()\n",
                "        self.conv1 = dgl.nn.GATConv(in_feats, hidden_size, num_heads=num_heads, allow_zero_in_degree=True)\n",
                "        # Assuming hidden_size * num_heads matches the expected size for the linear layer\n",
                "        self.fc = nn.Linear(hidden_size * num_heads, 1)  # Adjust the output dimension if needed\n",
                "\n",
                "    def forward(self, g, features, get_attention=False):\n",
                "        # Apply GAT convolution\n",
                "        if get_attention:\n",
                "            # When get_attention is True, capture both output features and attention weights\n",
                "            gat_output, attn_weights = self.conv1(g, features, get_attention=True)\n",
                "        else:\n",
                "            # When get_attention is False, only capture the output features\n",
                "            gat_output = self.conv1(g, features, get_attention=False)\n",
                "\n",
                "        # Mean over heads\n",
                "        x = F.elu(gat_output.mean(1))  # Adjusted for mean aggregation over heads\n",
                "\n",
                "        # Update node features\n",
                "        g.ndata['h'] = x\n",
                "\n",
                "        # Aggregate node features across the graph\n",
                "        x = dgl.mean_nodes(g, 'h')\n",
                "\n",
                "        if get_attention:\n",
                "            # Return both predictions and attention weights when get_attention is True\n",
                "            return torch.sigmoid(self.fc(x)), attn_weights\n",
                "        else:\n",
                "            # Only return predictions when get_attention is False\n",
                "            return torch.sigmoid(self.fc(x))\n"
            ]
        },
        {
            "cell_type": "code",
            "execution_count": 46,
            "id": "49d1f60b",
            "metadata": {
                "execution": {
                    "iopub.execute_input": "2024-02-10T04:56:15.290249Z",
                    "iopub.status.busy": "2024-02-10T04:56:15.289951Z",
                    "iopub.status.idle": "2024-02-10T04:56:15.297329Z",
                    "shell.execute_reply": "2024-02-10T04:56:15.296476Z"
                },
                "papermill": {
                    "duration": 0.119149,
                    "end_time": "2024-02-10T04:56:15.299126",
                    "exception": false,
                    "start_time": "2024-02-10T04:56:15.179977",
                    "status": "completed"
                },
                "tags": []
            },
            "outputs": [],
            "source": [
                "def objective(trial):\n",
                "    # Define hyperparameter search space\n",
                "    num_heads = trial.suggest_categorical('num_heads', [1, 2, 4, 8])\n",
                "    hidden_size = trial.suggest_categorical('hidden_size', [64, 128, 256])\n",
                "    lr = trial.suggest_float('lr', 1e-4, 1e-2, log=True)  # Updated for deprecation warning\n",
                "    \n",
                "    in_feats = train_graphs[0].ndata['h'].shape[1]  # Replace with your feature size\n",
                "\n",
                "    \n",
                "    # Initialize the model with suggested hyperparameters\n",
                "    model = GATClassifier(in_feats, hidden_size=hidden_size, num_heads=num_heads).to(device)\n",
                "    criterion = nn.BCEWithLogitsLoss()\n",
                "    optimizer = torch.optim.Adam(model.parameters(), lr=lr)\n",
                "    \n",
                "    # Early stopping and training loop\n",
                "    early_stopping = EarlyStopping(patience=10, min_delta=0.001)\n",
                "    for epoch in range(100):  # Set a maximum number of epochs\n",
                "        train_loss = train(model, train_loader, criterion, optimizer, device)\n",
                "        val_loss, _, _, _ = validate(model, val_loader, criterion, device)\n",
                "        if early_stopping(val_loss, epoch):\n",
                "            break\n",
                "    \n",
                "    return val_loss\n"
            ]
        },
        {
            "cell_type": "code",
            "execution_count": 47,
            "id": "2cf182a0",
            "metadata": {},
            "outputs": [],
            "source": [
                "def train(model, data_loader, criterion, optimizer, device):\n",
                "    model.train()\n",
                "    total_loss = 0\n",
                "    for batch_graphs, batch_labels in data_loader:\n",
                "        batch_graphs = batch_graphs.to(device)\n",
                "        \n",
                "        # batch_labels = torch.tensor(batch_labels, dtype=torch.long).to(device)\n",
                "        batch_labels = batch_labels.clone().detach().to(device)\n",
                "        batch_features = batch_graphs.ndata['h']\n",
                "\n",
                "        outputs = model(batch_graphs, batch_features)\n",
                "        outputs = outputs.squeeze() # remove extra dimension\n",
                "        loss = criterion(outputs, batch_labels)\n",
                "        optimizer.zero_grad()\n",
                "        loss.backward()\n",
                "        optimizer.step()\n",
                "        total_loss += loss.item()\n",
                "\n",
                "    return total_loss / len(data_loader)\n",
                "\n"
            ]
        },
        {
            "cell_type": "code",
            "execution_count": 48,
            "id": "08d2b40b",
            "metadata": {},
            "outputs": [],
            "source": [
                "class EarlyStopping:\n",
                "    def __init__(self, patience=10, min_delta=0):\n",
                "        self.patience = patience\n",
                "        self.min_delta = min_delta\n",
                "        self.best_loss = None\n",
                "        self.epochs_no_improve = 0\n",
                "        self.early_stop = False\n",
                "        self.stopped_epoch = 0  # Attribute to store the epoch number\n",
                "\n",
                "    def __call__(self, val_loss, epoch):\n",
                "        if self.best_loss is None:\n",
                "            self.best_loss = val_loss\n",
                "        elif val_loss < self.best_loss - self.min_delta:\n",
                "            self.best_loss = val_loss\n",
                "            self.epochs_no_improve = 0\n",
                "        else:\n",
                "            self.epochs_no_improve += 1\n",
                "            if self.epochs_no_improve >= self.patience:\n",
                "                self.early_stop = True\n",
                "                self.stopped_epoch = epoch  # Store the epoch number\n"
            ]
        },
        {
            "cell_type": "code",
            "execution_count": 49,
            "id": "4da0f4c4",
            "metadata": {},
            "outputs": [],
            "source": [
                "class GraphDataset(Dataset):\n",
                "    def __init__(self, graphs, labels):\n",
                "        self.graphs = graphs\n",
                "        \n",
                "        # Reset index if labels is a pandas DataFrame/Series to ensure continuous indexing\n",
                "        if isinstance(labels, pd.DataFrame) or isinstance(labels, pd.Series):\n",
                "            self.labels = labels.reset_index(drop=True)\n",
                "        else:\n",
                "            self.labels = labels\n",
                "\n",
                "    def __len__(self):\n",
                "        # The lengths of graphs and labels should be the same\n",
                "        assert len(self.graphs) == len(self.labels), \"Graphs and labels must have the same length\"\n",
                "        return len(self.graphs)\n",
                "\n",
                "    def __getitem__(self, idx):\n",
                "        try:\n",
                "            graph = self.graphs[idx]\n",
                "            label = self.labels[idx]\n",
                "            return graph, label\n",
                "        except IndexError:\n",
                "            print(f\"IndexError: Index {idx} out of range for dataset of size {len(self)}\")\n",
                "            raise\n",
                "        \n",
                "        "
            ]
        },
        {
            "cell_type": "code",
            "execution_count": 50,
            "id": "aa49efec",
            "metadata": {},
            "outputs": [],
            "source": [
                "def collate_graphs(samples):\n",
                "    graphs, labels = map(list, zip(*samples))\n",
                "    batched_graph = dgl.batch(graphs)\n",
                "    labels = torch.tensor(labels, dtype=torch.float32)\n",
                "    return batched_graph, labels\n",
                "\n"
            ]
        },
        {
            "cell_type": "code",
            "execution_count": 51,
            "id": "76c2dbdf",
            "metadata": {},
            "outputs": [],
            "source": [
                "batch_size = 1024\n",
                "num_workers = 10\n",
                "\n",
                "# Assuming train_labels and test_labels are originally 1D tensors or lists\n",
                "# Create the datasets with updated labels\n",
                "# Create the DataLoader with multiple workers\n",
                "\n",
                "if isinstance(train_labels, torch.Tensor):\n",
                "    train_labels = train_labels.tolist()\n",
                "train_dataset = GraphDataset(train_graphs, train_labels)\n",
                "train_loader = DataLoader(train_dataset, batch_size=batch_size, shuffle=True, num_workers=num_workers, collate_fn=collate_graphs)\n",
                "\n",
                "if isinstance(test_labels, torch.Tensor):\n",
                "    test_labels = test_labels.tolist()\n",
                "test_dataset = GraphDataset(test_graphs, test_labels)\n",
                "test_loader = DataLoader(test_dataset, batch_size=batch_size, shuffle=False, num_workers=num_workers, collate_fn=collate_graphs)\n",
                "\n",
                "if isinstance(val_labels, torch.Tensor):\n",
                "    val_labels = val_labels.tolist()\n",
                "val_dataset = GraphDataset(val_graphs, val_labels)\n",
                "val_loader = DataLoader(val_dataset, batch_size=1, shuffle=False, num_workers=num_workers, collate_fn=collate_graphs)\n",
                "\n",
                "if isinstance(train_labels_all, torch.Tensor):\n",
                "    train_labels_all = train_labels_all.tolist()\n",
                "train_dataset_all = GraphDataset(train_graphs_all, train_labels_all)\n",
                "train_loader_all = DataLoader(train_dataset_all, batch_size=batch_size, shuffle=False, num_workers=num_workers, collate_fn=collate_graphs)\n",
                "\n"
            ]
        },
        {
            "cell_type": "markdown",
            "id": "646dd677",
            "metadata": {
                "papermill": {
                    "duration": 0.100983,
                    "end_time": "2024-02-10T04:56:15.476662",
                    "exception": false,
                    "start_time": "2024-02-10T04:56:15.375679",
                    "status": "completed"
                },
                "tags": []
            },
            "source": [
                "## Instance of the the GAT Model"
            ]
        },
        {
            "cell_type": "code",
            "execution_count": 52,
            "id": "22ef80e7",
            "metadata": {},
            "outputs": [],
            "source": [
                "device = torch.device('cuda' if torch.cuda.is_available() else 'cpu')\n"
            ]
        },
        {
            "cell_type": "code",
            "execution_count": null,
            "id": "5d9d13f1",
            "metadata": {
                "execution": {
                    "iopub.execute_input": "2024-02-10T04:56:15.542271Z",
                    "iopub.status.busy": "2024-02-10T04:56:15.541978Z",
                    "iopub.status.idle": "2024-02-10T04:56:16.271629Z",
                    "shell.execute_reply": "2024-02-10T04:56:16.269514Z"
                },
                "papermill": {
                    "duration": 0.765662,
                    "end_time": "2024-02-10T04:56:16.276661",
                    "exception": true,
                    "start_time": "2024-02-10T04:56:15.510999",
                    "status": "failed"
                },
                "tags": []
            },
            "outputs": [],
            "source": [
                "study = optuna.create_study(direction='minimize')\n",
                "study.optimize(objective, n_trials=50)  # Specify the number of trials\n",
                "\n",
                "print('Number of finished trials:', len(study.trials))\n",
                "print('Best trial:', study.best_trial.params)\n"
            ]
        },
        {
            "cell_type": "markdown",
            "id": "a369f500",
            "metadata": {
                "papermill": {
                    "duration": null,
                    "end_time": null,
                    "exception": null,
                    "start_time": null,
                    "status": "pending"
                },
                "tags": []
            },
            "source": [
                "## Train the GAT model"
            ]
        },
        {
            "cell_type": "code",
            "execution_count": null,
            "id": "efbe74d6",
            "metadata": {
                "papermill": {
                    "duration": null,
                    "end_time": null,
                    "exception": null,
                    "start_time": null,
                    "status": "pending"
                },
                "tags": []
            },
            "outputs": [],
            "source": [
                "best_params = study.best_trial.params\n",
                "model = GATClassifier(\n",
                "    in_feats, \n",
                "    hidden_size=best_params['hidden_size'], \n",
                "    num_heads=best_params['num_heads']\n",
                ").to(device)\n",
                "\n",
                "# Reinitialize the optimizer with the best learning rate\n",
                "optimizer = torch.optim.Adam(model.parameters(), lr=best_params['lr'])\n",
                "\n",
                "# Train your model with the best hyperparameters (implement the training loop here)\n"
            ]
        },
        {
            "cell_type": "code",
            "execution_count": null,
            "id": "2b464d96",
            "metadata": {
                "execution": {
                    "iopub.execute_input": "2024-01-12T16:18:30.321307Z",
                    "iopub.status.busy": "2024-01-12T16:18:30.320958Z",
                    "iopub.status.idle": "2024-01-13T04:55:23.747377Z",
                    "shell.execute_reply": "2024-01-13T04:55:23.745292Z"
                },
                "papermill": {
                    "duration": null,
                    "end_time": null,
                    "exception": null,
                    "start_time": null,
                    "status": "pending"
                },
                "tags": []
            },
            "outputs": [],
            "source": [
                "num_epochs = 500\n",
                "early_stopping = EarlyStopping(patience=25, min_delta=0.002)\n",
                "\n",
                "# Initialize lists to store loss values\n",
                "gat_train_loss_list = []\n",
                "gat_val_loss_list = []\n",
                "\n",
                "for epoch in range(num_epochs):\n",
                "    # Training\n",
                "    train_loss = train(model, train_loader, criterion, optimizer, device)\n",
                "    gat_train_loss_list.append(train_loss)  # Store train loss\n",
                "\n",
                "    # Validation\n",
                "    val_loss, _, _, _ = validate(model, val_loader, criterion, device)\n",
                "    gat_val_loss_list.append(val_loss)  # Store validation loss\n",
                "\n",
                "    # Print and check for early stopping\n",
                "    print(f\"Epoch: {epoch+1}, train_loss: {train_loss:.4f}, val_loss: {val_loss:.4f}\")\n",
                "    early_stopping(val_loss, epoch)\n",
                "    if early_stopping.early_stop:\n",
                "        print(f\"Early stopping triggered at epoch {epoch+1}\")\n",
                "        break\n",
                "    \n",
                "# Store the epoch number when early stopping was triggered\n",
                "num_epochs_early = early_stopping.stopped_epoch + 1\n",
                "\n"
            ]
        },
        {
            "cell_type": "code",
            "execution_count": null,
            "id": "86e79ff5",
            "metadata": {
                "execution": {
                    "iopub.execute_input": "2024-01-13T04:55:24.738005Z",
                    "iopub.status.busy": "2024-01-13T04:55:24.737686Z",
                    "iopub.status.idle": "2024-01-13T04:55:24.954718Z",
                    "shell.execute_reply": "2024-01-13T04:55:24.953197Z"
                },
                "papermill": {
                    "duration": null,
                    "end_time": null,
                    "exception": null,
                    "start_time": null,
                    "status": "pending"
                },
                "tags": []
            },
            "outputs": [],
            "source": [
                "# Ensure that the length of gat_train_loss_list and gat_val_loss_list is equal to the number of epochs processed\n",
                "assert len(gat_train_loss_list) == len(gat_val_loss_list)\n",
                "\n",
                "# Plotting\n",
                "plt.figure(figsize=(10, 6))\n",
                "plt.plot(gat_train_loss_list, label='Training Loss')\n",
                "plt.plot(gat_val_loss_list, label='Validation Loss')\n",
                "plt.title('Training and Validation Loss Over Epochs')\n",
                "plt.xlabel('Epochs')\n",
                "plt.ylabel('Loss')\n",
                "plt.legend()\n",
                "plt.grid(True)\n",
                "plt.show()"
            ]
        },
        {
            "cell_type": "markdown",
            "id": "97ea726c",
            "metadata": {
                "papermill": {
                    "duration": null,
                    "end_time": null,
                    "exception": null,
                    "start_time": null,
                    "status": "pending"
                },
                "tags": []
            },
            "source": [
                "## Train on merged train and val sets\n"
            ]
        },
        {
            "cell_type": "code",
            "execution_count": null,
            "id": "9a815c8d",
            "metadata": {
                "execution": {
                    "iopub.execute_input": "2024-01-13T04:55:26.056770Z",
                    "iopub.status.busy": "2024-01-13T04:55:26.056472Z",
                    "iopub.status.idle": "2024-01-13T04:55:26.064747Z",
                    "shell.execute_reply": "2024-01-13T04:55:26.063109Z"
                },
                "papermill": {
                    "duration": null,
                    "end_time": null,
                    "exception": null,
                    "start_time": null,
                    "status": "pending"
                },
                "tags": []
            },
            "outputs": [],
            "source": [
                "def train(model, data_loader, criterion, optimizer, device):\n",
                "    model.train()\n",
                "    total_loss = 0\n",
                "    for batch_graphs, batch_labels in data_loader:\n",
                "        batch_graphs = batch_graphs.to(device)\n",
                "        batch_labels = batch_labels.clone().detach().to(device)\n",
                "        batch_features = batch_graphs.ndata['h']\n",
                "\n",
                "        outputs = model(batch_graphs, batch_features)\n",
                "        outputs = outputs.squeeze() # remove extra dimension\n",
                "        loss = criterion(outputs, batch_labels)\n",
                "        optimizer.zero_grad()\n",
                "        loss.backward()\n",
                "        optimizer.step()\n",
                "        total_loss += loss.item()\n",
                "\n",
                "    return total_loss / len(data_loader)"
            ]
        },
        {
            "cell_type": "markdown",
            "id": "bccb4c82",
            "metadata": {
                "papermill": {
                    "duration": null,
                    "end_time": null,
                    "exception": null,
                    "start_time": null,
                    "status": "pending"
                },
                "tags": []
            },
            "source": [
                "## Reset weights before training again with all data\n"
            ]
        },
        {
            "cell_type": "code",
            "execution_count": null,
            "id": "bba771d5",
            "metadata": {
                "execution": {
                    "iopub.execute_input": "2024-01-13T04:55:27.378130Z",
                    "iopub.status.busy": "2024-01-13T04:55:27.377460Z",
                    "iopub.status.idle": "2024-01-13T04:55:27.393356Z",
                    "shell.execute_reply": "2024-01-13T04:55:27.391183Z"
                },
                "papermill": {
                    "duration": null,
                    "end_time": null,
                    "exception": null,
                    "start_time": null,
                    "status": "pending"
                },
                "tags": []
            },
            "outputs": [],
            "source": [
                "def reset_weights(m):\n",
                "    \"\"\"\n",
                "    This function will reset the weights of a given module.\n",
                "    \"\"\"\n",
                "    if isinstance(m, nn.Conv2d) or isinstance(m, nn.Linear):\n",
                "        m.reset_parameters()\n",
                "\n",
                "# Example usage with your model\n",
                "model.apply(reset_weights)"
            ]
        },
        {
            "cell_type": "code",
            "execution_count": null,
            "id": "e92456f8",
            "metadata": {
                "execution": {
                    "iopub.execute_input": "2024-01-13T04:55:27.726104Z",
                    "iopub.status.busy": "2024-01-13T04:55:27.725493Z",
                    "iopub.status.idle": "2024-01-13T05:24:08.905374Z",
                    "shell.execute_reply": "2024-01-13T05:24:08.903015Z"
                },
                "papermill": {
                    "duration": null,
                    "end_time": null,
                    "exception": null,
                    "start_time": null,
                    "status": "pending"
                },
                "tags": []
            },
            "outputs": [],
            "source": [
                "print(\"Final training on merged training and validation sets\")\n",
                "\n",
                "# Initialize list to store loss values\n",
                "final_train_losses = []\n",
                "\n",
                "for epoch in range(num_epochs_early):\n",
                "    # Training\n",
                "    train_loss = train(model, train_loader_all, criterion, optimizer, device)\n",
                "    final_train_losses.append(train_loss)  # Store train loss\n",
                "\n",
                "    # Print train loss\n",
                "    print(f\"Epoch {epoch+1}/{num_epochs_early}, Train Loss: {train_loss:.4f}\")\n"
            ]
        },
        {
            "cell_type": "code",
            "execution_count": null,
            "id": "12f62a2a",
            "metadata": {
                "execution": {
                    "iopub.execute_input": "2024-01-13T05:24:09.904474Z",
                    "iopub.status.busy": "2024-01-13T05:24:09.904026Z",
                    "iopub.status.idle": "2024-01-13T05:24:10.124629Z",
                    "shell.execute_reply": "2024-01-13T05:24:10.122696Z"
                },
                "papermill": {
                    "duration": null,
                    "end_time": null,
                    "exception": null,
                    "start_time": null,
                    "status": "pending"
                },
                "tags": []
            },
            "outputs": [],
            "source": [
                "# Plotting\n",
                "plt.figure(figsize=(10, 6))\n",
                "plt.plot(final_train_losses, label='Training Loss')\n",
                "plt.title('Training Loss Over Epochs on Merged Training and Validation Sets')\n",
                "plt.xlabel('Epochs')\n",
                "plt.ylabel('Loss')\n",
                "plt.legend()\n",
                "plt.grid(True)\n",
                "plt.show()\n"
            ]
        },
        {
            "cell_type": "markdown",
            "id": "5043add5",
            "metadata": {
                "papermill": {
                    "duration": null,
                    "end_time": null,
                    "exception": null,
                    "start_time": null,
                    "status": "pending"
                },
                "tags": []
            },
            "source": [
                "## Save the model"
            ]
        },
        {
            "cell_type": "code",
            "execution_count": null,
            "id": "5e55d325",
            "metadata": {
                "execution": {
                    "iopub.execute_input": "2024-01-13T05:24:11.760761Z",
                    "iopub.status.busy": "2024-01-13T05:24:11.760461Z",
                    "iopub.status.idle": "2024-01-13T05:24:11.770278Z",
                    "shell.execute_reply": "2024-01-13T05:24:11.768608Z"
                },
                "papermill": {
                    "duration": null,
                    "end_time": null,
                    "exception": null,
                    "start_time": null,
                    "status": "pending"
                },
                "tags": []
            },
            "outputs": [],
            "source": [
                "# if there is not a folder named 'model' create one\n",
                "if not os.path.exists('model_experiment'):\n",
                "    os.mkdir('model_experiment')\n",
                "\n",
                "# save the model\n",
                "torch.save(model.state_dict(), 'model_experiment/gat_model_experiment.pth')"
            ]
        },
        {
            "cell_type": "code",
            "execution_count": null,
            "id": "7100dd72",
            "metadata": {
                "execution": {
                    "iopub.execute_input": "2024-01-13T05:24:12.368095Z",
                    "iopub.status.busy": "2024-01-13T05:24:12.367784Z",
                    "iopub.status.idle": "2024-01-13T05:24:12.380870Z",
                    "shell.execute_reply": "2024-01-13T05:24:12.379150Z"
                },
                "papermill": {
                    "duration": null,
                    "end_time": null,
                    "exception": null,
                    "start_time": null,
                    "status": "pending"
                },
                "tags": []
            },
            "outputs": [],
            "source": [
                "# load the model\n",
                "model = GATClassifier(in_feats, hidden_size=148, num_heads=4).to(device)\n",
                "model.load_state_dict(torch.load('model_experiment/gat_model_experiment.pth'))"
            ]
        },
        {
            "cell_type": "markdown",
            "id": "15f028a1",
            "metadata": {
                "papermill": {
                    "duration": null,
                    "end_time": null,
                    "exception": null,
                    "start_time": null,
                    "status": "pending"
                },
                "tags": []
            },
            "source": [
                "## Test the model"
            ]
        },
        {
            "cell_type": "markdown",
            "id": "24e6c2b7",
            "metadata": {
                "papermill": {
                    "duration": null,
                    "end_time": null,
                    "exception": null,
                    "start_time": null,
                    "status": "pending"
                },
                "tags": []
            },
            "source": [
                "## Predict probabilities"
            ]
        },
        {
            "cell_type": "code",
            "execution_count": null,
            "id": "fc40b746",
            "metadata": {
                "execution": {
                    "iopub.execute_input": "2024-01-13T05:24:14.945823Z",
                    "iopub.status.busy": "2024-01-13T05:24:14.945284Z",
                    "iopub.status.idle": "2024-01-13T05:24:17.684130Z",
                    "shell.execute_reply": "2024-01-13T05:24:17.682639Z"
                },
                "papermill": {
                    "duration": null,
                    "end_time": null,
                    "exception": null,
                    "start_time": null,
                    "status": "pending"
                },
                "tags": []
            },
            "outputs": [],
            "source": [
                "y_true, y_pred, y_pred_proba = test(model, test_loader, device)\n",
                "\n",
                "confidence_percentages = [prob * 100 for prob in y_pred_proba]\n",
                "\n",
                "y_pred_proba = np.array(y_pred_proba)"
            ]
        },
        {
            "cell_type": "markdown",
            "id": "73fc598c",
            "metadata": {
                "papermill": {
                    "duration": null,
                    "end_time": null,
                    "exception": null,
                    "start_time": null,
                    "status": "pending"
                },
                "tags": []
            },
            "source": [
                "## Results"
            ]
        },
        {
            "cell_type": "code",
            "execution_count": null,
            "id": "c23b23b3",
            "metadata": {
                "execution": {
                    "iopub.execute_input": "2024-01-13T05:24:18.674520Z",
                    "iopub.status.busy": "2024-01-13T05:24:18.674173Z",
                    "iopub.status.idle": "2024-01-13T05:24:18.746518Z",
                    "shell.execute_reply": "2024-01-13T05:24:18.744605Z"
                },
                "papermill": {
                    "duration": null,
                    "end_time": null,
                    "exception": null,
                    "start_time": null,
                    "status": "pending"
                },
                "tags": []
            },
            "outputs": [],
            "source": [
                "print(f'Accuracy: {accuracy_score(y_true, y_pred)}')\n",
                "print(f'Precision: {precision_score(y_true, y_pred)}')\n",
                "print(f'Recall: {recall_score(y_true, y_pred)}')\n",
                "print(f'F1: {f1_score(y_true, y_pred)}')\n",
                "print(f'AUC: {roc_auc_score(y_true, y_pred_proba)}')"
            ]
        },
        {
            "cell_type": "code",
            "execution_count": null,
            "id": "a9c5fcfe",
            "metadata": {
                "execution": {
                    "iopub.execute_input": "2024-01-13T05:24:19.317281Z",
                    "iopub.status.busy": "2024-01-13T05:24:19.316746Z",
                    "iopub.status.idle": "2024-01-13T05:24:19.324042Z",
                    "shell.execute_reply": "2024-01-13T05:24:19.322225Z"
                },
                "papermill": {
                    "duration": null,
                    "end_time": null,
                    "exception": null,
                    "start_time": null,
                    "status": "pending"
                },
                "tags": []
            },
            "outputs": [],
            "source": [
                "# Accuracy: 0.7387478849407784\n",
                "# Precision: 0.7532486494378742\n",
                "# Recall: 0.7039159503342884\n",
                "# F1: 0.727747213993511\n",
                "# AUC: 0.8162738424254579\n"
            ]
        },
        {
            "cell_type": "code",
            "execution_count": null,
            "id": "3cd5d0ad",
            "metadata": {
                "papermill": {
                    "duration": null,
                    "end_time": null,
                    "exception": null,
                    "start_time": null,
                    "status": "pending"
                },
                "tags": []
            },
            "outputs": [],
            "source": [
                "def visualize_molecule_with_attention(mol, attn_weights, threshold=0.1):\n",
                "    # Convert attention weights to a format suitable for visualization\n",
                "    # Assume attn_weights is a tensor of shape (num_edges, 1) with attention scores\n",
                "    attn_weights = attn_weights.squeeze().numpy()\n",
                "    \n",
                "    # Identify edges with attention weights above the threshold\n",
                "    high_attention_edges = [i for i, weight in enumerate(attn_weights) if weight > threshold]\n",
                "    \n",
                "    # Map edges in the graph back to bonds in the molecule\n",
                "    bonds_to_highlight = [mol.GetBondWithIdx(i).GetIdx() for i in high_attention_edges]\n",
                "    \n",
                "    # Visualize the molecule with highlighted bonds\n",
                "    Draw.MolToImage(mol, highlightBonds=bonds_to_highlight)\n"
            ]
        },
        {
            "cell_type": "code",
            "execution_count": null,
            "id": "2cf4fa9e",
            "metadata": {
                "papermill": {
                    "duration": null,
                    "end_time": null,
                    "exception": null,
                    "start_time": null,
                    "status": "pending"
                },
                "tags": []
            },
            "outputs": [],
            "source": [
                "# Visualize the molecule with attention\n",
                "visualize_molecule_with_attention(mol, attn_weights, threshold=0.3)\n",
                "\n"
            ]
        },
        {
            "cell_type": "code",
            "execution_count": null,
            "id": "7a1fc458",
            "metadata": {
                "papermill": {
                    "duration": null,
                    "end_time": null,
                    "exception": null,
                    "start_time": null,
                    "status": "pending"
                },
                "tags": []
            },
            "outputs": [],
            "source": [
                "# save all visualized molecules with attention and create a folder for them\n",
                "if not os.path.exists('visualized_molecules'):\n",
                "    os.mkdir('visualized_molecules')\n",
                "    \n",
                "for i, (mol, attn_weights) in enumerate(zip(mols, attn_weights_list)):\n",
                "    img = visualize_molecule_with_attention(mol, attn_weights, threshold=0.3)\n",
                "    img.save(f'visualized_molecules/molecule_{i}.png')\n",
                "    \n",
                "    \n"
            ]
        },
        {
            "cell_type": "code",
            "execution_count": null,
            "id": "68041545",
            "metadata": {
                "papermill": {
                    "duration": null,
                    "end_time": null,
                    "exception": null,
                    "start_time": null,
                    "status": "pending"
                },
                "tags": []
            },
            "outputs": [],
            "source": [
                "def extract_high_attention_fragments(mol, attn_weights, threshold=0.1):\n",
                "    # Similar to visualization, but now store the fragments as SMILES or another format\n",
                "    submols = []\n",
                "    for i, weight in enumerate(attn_weights.squeeze().numpy()):\n",
                "        if weight > threshold:\n",
                "            # Extract subgraph or fragment; this step depends on how you define a 'fragment'\n",
                "            # You might need RDKit's substructure search or other techniques to define fragments\n",
                "            submol = Chem.PathToSubmol(mol, [i])  # Simplified; actual implementation may vary\n",
                "            submols.append(Chem.MolToSmiles(submol))\n",
                "    return submols\n"
            ]
        },
        {
            "cell_type": "code",
            "execution_count": null,
            "id": "0c90e831",
            "metadata": {
                "papermill": {
                    "duration": null,
                    "end_time": null,
                    "exception": null,
                    "start_time": null,
                    "status": "pending"
                },
                "tags": []
            },
            "outputs": [],
            "source": [
                "# Extract high-attention fragments\n",
                "high_attention_fragments = extract_high_attention_fragments(mol, attn_weights, threshold=0.3)\n",
                "\n",
                "# save as json\n",
                "with open('high_attention_fragments.json', 'w') as f:\n",
                "    json.dump(high_attention_fragments, f)"
            ]
        },
        {
            "cell_type": "markdown",
            "id": "b29a86ab",
            "metadata": {
                "papermill": {
                    "duration": null,
                    "end_time": null,
                    "exception": null,
                    "start_time": null,
                    "status": "pending"
                },
                "tags": []
            },
            "source": [
                "## Confusion matrix"
            ]
        },
        {
            "cell_type": "code",
            "execution_count": null,
            "id": "57425a07",
            "metadata": {
                "execution": {
                    "iopub.execute_input": "2024-01-13T05:24:20.803653Z",
                    "iopub.status.busy": "2024-01-13T05:24:20.803099Z",
                    "iopub.status.idle": "2024-01-13T05:24:21.255762Z",
                    "shell.execute_reply": "2024-01-13T05:24:21.253893Z"
                },
                "papermill": {
                    "duration": null,
                    "end_time": null,
                    "exception": null,
                    "start_time": null,
                    "status": "pending"
                },
                "tags": []
            },
            "outputs": [],
            "source": [
                "# confusion matrix\n",
                "cm = confusion_matrix(y_true, y_pred)\n",
                "cm_df = pd.DataFrame(cm, index=['RNA binder', 'non-RNA binder'], columns=['RNA binder', 'non-RNA binder'])\n",
                "sns.heatmap(cm_df, annot=True, cmap='Blues', fmt='g')\n",
                "sns.set(context='paper', style='white', font_scale=1.5)\n",
                "plt.title('Confusion Matrix')\n",
                "plt.ylabel('True Label')\n",
                "plt.xlabel('Predicted Label')\n",
                "plt.savefig('visuals/confusion_matrix_gat_experiment.png', dpi=300)\n",
                "plt.show()\n",
                "\n"
            ]
        },
        {
            "cell_type": "markdown",
            "id": "cd5e16e2",
            "metadata": {
                "papermill": {
                    "duration": null,
                    "end_time": null,
                    "exception": null,
                    "start_time": null,
                    "status": "pending"
                },
                "tags": []
            },
            "source": [
                "## Classification report"
            ]
        },
        {
            "cell_type": "code",
            "execution_count": null,
            "id": "180f4785",
            "metadata": {
                "execution": {
                    "iopub.execute_input": "2024-01-13T05:24:22.516094Z",
                    "iopub.status.busy": "2024-01-13T05:24:22.515695Z",
                    "iopub.status.idle": "2024-01-13T05:24:22.562389Z",
                    "shell.execute_reply": "2024-01-13T05:24:22.560673Z"
                },
                "papermill": {
                    "duration": null,
                    "end_time": null,
                    "exception": null,
                    "start_time": null,
                    "status": "pending"
                },
                "tags": []
            },
            "outputs": [],
            "source": [
                "# classification report\n",
                "print(classification_report(y_true, y_pred))\n"
            ]
        },
        {
            "cell_type": "markdown",
            "id": "b11be758",
            "metadata": {
                "papermill": {
                    "duration": null,
                    "end_time": null,
                    "exception": null,
                    "start_time": null,
                    "status": "pending"
                },
                "tags": []
            },
            "source": [
                "## ROC AUC"
            ]
        },
        {
            "cell_type": "code",
            "execution_count": null,
            "id": "2210f089",
            "metadata": {
                "execution": {
                    "iopub.execute_input": "2024-01-13T05:24:23.805948Z",
                    "iopub.status.busy": "2024-01-13T05:24:23.805338Z",
                    "iopub.status.idle": "2024-01-13T05:24:24.373782Z",
                    "shell.execute_reply": "2024-01-13T05:24:24.371925Z"
                },
                "papermill": {
                    "duration": null,
                    "end_time": null,
                    "exception": null,
                    "start_time": null,
                    "status": "pending"
                },
                "tags": []
            },
            "outputs": [],
            "source": [
                "# visualize ROC curve\n",
                "fpr, tpr, thresholds = roc_curve(y_true, y_pred_proba)\n",
                "roc_auc = auc(fpr, tpr)\n",
                "\n",
                "plt.figure(figsize=(8, 6))\n",
                "plt.plot(fpr, tpr, color='darkorange', lw=2, label='ROC curve (area = %0.2f)'% roc_auc)\n",
                "plt.plot([0, 1], [0, 1], color='navy', lw=2, linestyle='--')\n",
                "plt.title('ROC curve')\n",
                "plt.xlabel('False Positive Rate')\n",
                "plt.ylabel('True Positive Rate')\n",
                "plt.legend(loc='lower right')\n",
                "plt.savefig('visuals/roc_curve_gat_experiment.png', dpi=300)\n",
                "plt.show()\n"
            ]
        },
        {
            "cell_type": "code",
            "execution_count": null,
            "id": "7cac882c",
            "metadata": {
                "execution": {
                    "iopub.execute_input": "2024-01-13T05:24:24.729618Z",
                    "iopub.status.busy": "2024-01-13T05:24:24.729272Z",
                    "iopub.status.idle": "2024-01-13T05:24:25.341950Z",
                    "shell.execute_reply": "2024-01-13T05:24:25.340223Z"
                },
                "papermill": {
                    "duration": null,
                    "end_time": null,
                    "exception": null,
                    "start_time": null,
                    "status": "pending"
                },
                "tags": []
            },
            "outputs": [],
            "source": [
                "# visualize confidence_percentages in plot\n",
                "plt.figure(figsize=(8, 6))\n",
                "plt.hist(confidence_percentages, bins=50)\n",
                "plt.title('Confidence Histogram')\n",
                "plt.xlabel('Confidence Percentage')\n",
                "plt.ylabel('Frequency')\n",
                "plt.savefig('visuals/confidence_histogram_gat_experiment.png', dpi=300)\n",
                "plt.show()\n"
            ]
        },
        {
            "cell_type": "code",
            "execution_count": null,
            "id": "524b27c5",
            "metadata": {
                "execution": {
                    "iopub.execute_input": "2024-01-13T05:24:25.699958Z",
                    "iopub.status.busy": "2024-01-13T05:24:25.699673Z",
                    "iopub.status.idle": "2024-01-13T05:24:25.744933Z",
                    "shell.execute_reply": "2024-01-13T05:24:25.743666Z"
                },
                "papermill": {
                    "duration": null,
                    "end_time": null,
                    "exception": null,
                    "start_time": null,
                    "status": "pending"
                },
                "tags": []
            },
            "outputs": [],
            "source": [
                "# Sort test predictions by confidence and get top 10 indices\n",
                "sorted_pairs = sorted(enumerate(confidence_percentages), key=lambda x: x[1], reverse=True)\n",
                "top_molecules_test_indices = [index for index, _ in sorted_pairs[:20]]\n",
                "\n",
                "# The indices in test_graphs correspond to their positions in the original loaded_graphs_orig\n",
                "# Find the original indices in loaded_graphs_orig\n",
                "original_indices = [loaded_graphs_orig.index(test_graphs[i]) for i in top_molecules_test_indices]\n",
                "\n",
                "# Use the original indices to look up the corresponding rows in reconstructed_df\n",
                "top_molecule_row_indices = reconstructed_df.index[original_indices]\n",
                "\n",
                "# Now, top_molecule_row_indices contains the DataFrame indices of the top 10 RNA-binding molecules\n"
            ]
        },
        {
            "cell_type": "code",
            "execution_count": null,
            "id": "cc05d357",
            "metadata": {
                "execution": {
                    "iopub.execute_input": "2024-01-13T05:24:26.476582Z",
                    "iopub.status.busy": "2024-01-13T05:24:26.475949Z",
                    "iopub.status.idle": "2024-01-13T05:24:26.484517Z",
                    "shell.execute_reply": "2024-01-13T05:24:26.482898Z"
                },
                "papermill": {
                    "duration": null,
                    "end_time": null,
                    "exception": null,
                    "start_time": null,
                    "status": "pending"
                },
                "tags": []
            },
            "outputs": [],
            "source": [
                "# create folder 'top_molecules' if it does not exist\n",
                "if not os.path.exists('top_molecules_gat_experiment'):\n",
                "    os.mkdir('top_molecules_gat_experiment')\n",
                "    "
            ]
        },
        {
            "cell_type": "code",
            "execution_count": null,
            "id": "3a4bc521",
            "metadata": {
                "execution": {
                    "iopub.execute_input": "2024-01-13T05:24:27.356220Z",
                    "iopub.status.busy": "2024-01-13T05:24:27.355445Z",
                    "iopub.status.idle": "2024-01-13T05:24:34.216781Z",
                    "shell.execute_reply": "2024-01-13T05:24:34.215110Z"
                },
                "papermill": {
                    "duration": null,
                    "end_time": null,
                    "exception": null,
                    "start_time": null,
                    "status": "pending"
                },
                "tags": []
            },
            "outputs": [],
            "source": [
                "# Retrieve the SMILES codes and source information for the top 10 molecules\n",
                "top_smiles = df_small.iloc[top_molecule_row_indices]['SMILES'].tolist()\n",
                "top_sources = df_small.iloc[top_molecule_row_indices]['source'].tolist()\n",
                "\n",
                "# Retrieve the confidence scores using the indices relative to the test dataset\n",
                "top_confidences = [confidence_percentages[i] for i in top_molecules_test_indices]\n",
                "\n",
                "# Convert SMILES to RDKit Mol objects\n",
                "mols = [Chem.MolFromSmiles(smile) for smile in top_smiles]\n",
                "\n",
                "# Generate and save images for each molecule\n",
                "for i, mol in enumerate(mols):\n",
                "    img = Draw.MolToImage(mol, size=(500, 500))\n",
                "    plt.figure(figsize=(5, 5))\n",
                "    plt.imshow(img)\n",
                "    # title = f\"SMILES: {top_smiles[i]}\\nSource: {top_sources[i]}\\nConfidence: {top_confidences[i]:.2f}%\"\n",
                "    # plt.title(title)\n",
                "    plt.subplots_adjust(bottom=0.20)  # Adjust the position of the title\n",
                "    plt.axis('off')\n",
                "    \n",
                "    # Save the image to the 'top_molecules' folder using the rank and source as the filename\n",
                "    plt.savefig(f\"top_molecules_gat_experiment/molecule_{i+1}_{top_sources[i]}_a.png\", dpi=300)\n",
                "    plt.show()\n"
            ]
        },
        {
            "cell_type": "code",
            "execution_count": null,
            "id": "3aa81ef7",
            "metadata": {
                "execution": {
                    "iopub.execute_input": "2024-01-13T05:24:35.019344Z",
                    "iopub.status.busy": "2024-01-13T05:24:35.019048Z",
                    "iopub.status.idle": "2024-01-13T05:24:42.711795Z",
                    "shell.execute_reply": "2024-01-13T05:24:42.710346Z"
                },
                "papermill": {
                    "duration": null,
                    "end_time": null,
                    "exception": null,
                    "start_time": null,
                    "status": "pending"
                },
                "tags": []
            },
            "outputs": [],
            "source": [
                "# Define the figure size and font size for titles\n",
                "fig_size = (6, 6)\n",
                "title_font_size = 12\n",
                "\n",
                "# Generate and save images for each molecule\n",
                "for i, mol in enumerate(mols):\n",
                "    img = Draw.MolToImage(mol, size=(300, 300))\n",
                "    \n",
                "    # Create a figure with adjusted size\n",
                "    plt.figure(figsize=fig_size)\n",
                "    plt.imshow(img)\n",
                "    \n",
                "    # Adjust the position of the text within the image\n",
                "    title = f\"SMILES: {top_smiles[i]}\\nSource: {top_sources[i]}\\nConfidence: {top_confidences[i]:.2f}%\"\n",
                "    plt.title(title, fontsize=title_font_size)\n",
                "    plt.subplots_adjust(bottom=0.15)  # Adjust the position of the title\n",
                "    \n",
                "    plt.axis('off')\n",
                "    \n",
                "    # Save the image to the 'top_molecules' folder using the rank and source as the filename\n",
                "    plt.savefig(f\"top_molecules_gat_experiment/molecule_{i+1}_{top_sources[i]}_b.png\", dpi=300)\n",
                "    plt.show()\n"
            ]
        },
        {
            "cell_type": "code",
            "execution_count": null,
            "id": "c638f197",
            "metadata": {
                "execution": {
                    "iopub.execute_input": "2024-01-13T05:24:43.564590Z",
                    "iopub.status.busy": "2024-01-13T05:24:43.564195Z",
                    "iopub.status.idle": "2024-01-13T05:24:45.015887Z",
                    "shell.execute_reply": "2024-01-13T05:24:45.014393Z"
                },
                "papermill": {
                    "duration": null,
                    "end_time": null,
                    "exception": null,
                    "start_time": null,
                    "status": "pending"
                },
                "tags": []
            },
            "outputs": [],
            "source": [
                "# Plot the training and validation loss, same model will have same color but different line style use seaborn and style report and second plot style to talk-presentation\n",
                "sns.set(context='talk', rc={'figure.figsize': (11.5, 7)})\n",
                "\n",
                "plt.plot(gcn_train_loss_list, label='GCN Train', color='r', linestyle='--')\n",
                "plt.plot(gcn_val_loss_list, label='GCN Validation', color='r', linestyle='-')\n",
                "plt.plot(mpnn_train_loss_list, label='MPNN Train', color='b', linestyle='--')\n",
                "plt.plot(mpnn_val_loss_list, label='MPNN Validation', color='b', linestyle='-')\n",
                "plt.plot(gat_train_loss_list, label='GAT Train', color='g', linestyle='--')\n",
                "plt.plot(gat_val_loss_list, label='GAT Validation', color='g', linestyle='-')\n",
                "\n",
                "# Markers for early stopping\n",
                "plt.scatter(49, mpnn_train_loss_list[48], color='b', marker='o', s=20, label='MPNN Early Stopping')\n",
                "plt.scatter(49, mpnn_val_loss_list[48], color='b', marker='o', s=20)\n",
                "plt.scatter(49, gat_train_loss_list[48], color='g', marker='o', s=20, label='GAT Early Stopping')\n",
                "plt.scatter(49, gat_val_loss_list[48], color='g', marker='o', s=20)\n",
                "plt.scatter(80, gcn_train_loss_list[79], color='r', marker='o', s=20, label='GCN Early Stopping')\n",
                "plt.scatter(80, gcn_val_loss_list[79], color='r', marker='o', s=20)\n",
                "\n",
                "plt.xlabel('Epoch')\n",
                "plt.ylabel('Loss')\n",
                "plt.legend()\n",
                "plt.savefig('visuals/loss_talk_experiment.png', dpi=300)\n",
                "plt.show()\n",
                "\n",
                "\n",
                "# Plot the training and validation loss, same model will have same color but different line style use seaborn and style report and second plot style to talk-presentation\n",
                "sns.set(context='paper', rc={'figure.figsize': (10, 4)})\n",
                "\n",
                "\n",
                "plt.plot(gcn_train_loss_list, label='GCN Train', color='r', linestyle='--')\n",
                "plt.plot(gcn_val_loss_list, label='GCN Validation', color='r', linestyle='-')\n",
                "plt.plot(mpnn_train_loss_list, label='MPNN Train', color='b', linestyle='--')\n",
                "plt.plot(mpnn_val_loss_list, label='MPNN Validation', color='b', linestyle='-')\n",
                "plt.plot(gat_train_loss_list, label='GAT Train', color='g', linestyle='--')\n",
                "plt.plot(gat_val_loss_list, label='GAT Validation', color='g', linestyle='-')\n",
                "\n",
                "# Markers for early stopping\n",
                "plt.scatter(49, mpnn_train_loss_list[48], color='b', marker='o', s=20, label='MPNN Early Stopping')\n",
                "plt.scatter(49, mpnn_val_loss_list[48], color='b', marker='o', s=20)\n",
                "plt.scatter(49, gat_train_loss_list[48], color='g', marker='o', s=20, label='GAT Early Stopping')\n",
                "plt.scatter(49, gat_val_loss_list[48], color='g', marker='o', s=20)\n",
                "plt.scatter(80, gcn_train_loss_list[79], color='r', marker='o', s=20, label='GCN Early Stopping')\n",
                "plt.scatter(80, gcn_val_loss_list[79], color='r', marker='o', s=20)\n",
                "\n",
                "plt.xlabel('Epoch')\n",
                "plt.ylabel('Loss')\n",
                "plt.legend()\n",
                "plt.savefig('visuals/loss_paper_experiment.png', dpi=300)\n",
                "plt.show()\n",
                "\n",
                "\n"
            ]
        }
    ],
    "metadata": {
        "kernelspec": {
            "display_name": "gnn",
            "language": "python",
            "name": "python3"
        },
        "language_info": {
            "codemirror_mode": {
                "name": "ipython",
                "version": 3
            },
            "file_extension": ".py",
            "mimetype": "text/x-python",
            "name": "python",
            "nbconvert_exporter": "python",
            "pygments_lexer": "ipython3",
            "version": "3.8.18"
        },
        "papermill": {
            "default_parameters": {},
            "duration": 509.831028,
            "end_time": "2024-02-10T04:56:19.329162",
            "environment_variables": {},
            "exception": true,
            "input_path": "gnn_gat_optuna.ipynb",
            "output_path": "gnn_gat_optuna.ipynb",
            "parameters": {},
            "start_time": "2024-02-10T04:47:49.498134",
            "version": "2.4.0"
        }
    },
    "nbformat": 4,
    "nbformat_minor": 5
}
