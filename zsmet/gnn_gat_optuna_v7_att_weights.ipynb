{
 "cells": [
  {
   "cell_type": "markdown",
   "id": "f672be0b",
   "metadata": {
    "papermill": {
     "duration": 0.008283,
     "end_time": "2024-03-05T01:24:46.032352",
     "exception": false,
     "start_time": "2024-03-05T01:24:46.024069",
     "status": "completed"
    },
    "tags": []
   },
   "source": [
    "# Load Libraries"
   ]
  },
  {
   "cell_type": "code",
   "execution_count": 1,
   "id": "8fb3e81a",
   "metadata": {
    "execution": {
     "iopub.execute_input": "2024-03-05T01:24:46.068925Z",
     "iopub.status.busy": "2024-03-05T01:24:46.068416Z",
     "iopub.status.idle": "2024-03-05T01:24:49.050037Z",
     "shell.execute_reply": "2024-03-05T01:24:49.048250Z"
    },
    "papermill": {
     "duration": 2.993245,
     "end_time": "2024-03-05T01:24:49.054617",
     "exception": false,
     "start_time": "2024-03-05T01:24:46.061372",
     "status": "completed"
    },
    "tags": []
   },
   "outputs": [],
   "source": [
    "# Standard libraries\n",
    "import os\n",
    "import json\n",
    "import pickle\n",
    "import warnings\n",
    "warnings.filterwarnings('ignore', category=UserWarning, message='TypedStorage is deprecated') # Known issue with PyTorch and DGL\n",
    "import IPython\n",
    "\n",
    "# Data handling\n",
    "import pandas as pd\n",
    "import numpy as np\n",
    "from scipy.spatial.distance import pdist, squareform\n",
    "\n",
    "# Machine learning and model evaluation\n",
    "from sklearn.model_selection import train_test_split\n",
    "from sklearn.metrics import precision_recall_curve, f1_score, accuracy_score, precision_score, recall_score, roc_auc_score, roc_curve, auc, confusion_matrix, classification_report\n",
    "from sklearn.cluster import HDBSCAN\n",
    "\n",
    "# Neural Networks and Deep Learning\n",
    "import torch\n",
    "import torch.nn as nn\n",
    "import torch.nn.functional as F\n",
    "from torch.utils.data import Dataset, DataLoader\n",
    "from torch import sigmoid\n",
    "import torch.optim as optim\n",
    "\n",
    "# Optuna for hyperparameter optimization\n",
    "import optuna\n",
    "from optuna.pruners import MedianPruner, HyperbandPruner\n",
    "\n",
    "# Graph Neural Networks\n",
    "import dgl\n",
    "import dgl.nn as dglnn\n",
    "from dgl import batch\n",
    "from dgl.data.utils import save_graphs, load_graphs\n",
    "from dgl.nn import GATConv, GATv2Conv\n",
    "from dgl import max_nodes\n",
    "\n",
    "# Cheminformatics\n",
    "from rdkit import Chem, DataStructs\n",
    "from rdkit.Chem import AllChem, Draw\n",
    "from rdkit.Chem.Draw import rdMolDraw2D\n",
    "from dgllife.utils import SMILESToBigraph, CanonicalAtomFeaturizer, CanonicalBondFeaturizer\n",
    "from chembl_structure_pipeline import standardizer\n",
    "\n",
    "# Network analysis\n",
    "import networkx as nx\n",
    "\n",
    "# Visualization\n",
    "import matplotlib.pyplot as plt\n",
    "import seaborn as sns\n",
    "\n"
   ]
  },
  {
   "cell_type": "markdown",
   "id": "b484566a",
   "metadata": {
    "papermill": {
     "duration": 0.182336,
     "end_time": "2024-03-05T01:24:49.245731",
     "exception": false,
     "start_time": "2024-03-05T01:24:49.063395",
     "status": "completed"
    },
    "tags": []
   },
   "source": [
    "check if GPU is aviable and the device"
   ]
  },
  {
   "cell_type": "code",
   "execution_count": 2,
   "id": "ddc62385",
   "metadata": {
    "execution": {
     "iopub.execute_input": "2024-03-05T01:24:49.368339Z",
     "iopub.status.busy": "2024-03-05T01:24:49.367376Z",
     "iopub.status.idle": "2024-03-05T01:24:49.446137Z",
     "shell.execute_reply": "2024-03-05T01:24:49.443763Z"
    },
    "papermill": {
     "duration": 0.15007,
     "end_time": "2024-03-05T01:24:49.449815",
     "exception": false,
     "start_time": "2024-03-05T01:24:49.299745",
     "status": "completed"
    },
    "tags": []
   },
   "outputs": [
    {
     "name": "stdout",
     "output_type": "stream",
     "text": [
      "PyTorch version: 2.1.2\n",
      "Is CUDA Supported? True\n"
     ]
    }
   ],
   "source": [
    "import torch\n",
    "print(\"PyTorch version:\", torch.__version__)\n",
    "print(\"Is CUDA Supported?\", torch.cuda.is_available())"
   ]
  },
  {
   "cell_type": "code",
   "execution_count": 3,
   "id": "4e1f6501",
   "metadata": {
    "execution": {
     "iopub.execute_input": "2024-03-05T01:24:49.489607Z",
     "iopub.status.busy": "2024-03-05T01:24:49.489021Z",
     "iopub.status.idle": "2024-03-05T01:24:49.581502Z",
     "shell.execute_reply": "2024-03-05T01:24:49.579187Z"
    },
    "papermill": {
     "duration": 0.127467,
     "end_time": "2024-03-05T01:24:49.585569",
     "exception": false,
     "start_time": "2024-03-05T01:24:49.458102",
     "status": "completed"
    },
    "tags": []
   },
   "outputs": [
    {
     "data": {
      "text/plain": [
       "(True, 1, 'Tesla T4')"
      ]
     },
     "execution_count": 3,
     "metadata": {},
     "output_type": "execute_result"
    }
   ],
   "source": [
    "torch.cuda.is_available(), torch.cuda.device_count(), torch.cuda.get_device_name(0)"
   ]
  },
  {
   "cell_type": "markdown",
   "id": "215f2ffc",
   "metadata": {
    "papermill": {
     "duration": 0.019257,
     "end_time": "2024-03-05T01:24:49.612614",
     "exception": false,
     "start_time": "2024-03-05T01:24:49.593357",
     "status": "completed"
    },
    "tags": []
   },
   "source": [
    "# Data loading"
   ]
  },
  {
   "cell_type": "code",
   "execution_count": 4,
   "id": "e733b781",
   "metadata": {
    "execution": {
     "iopub.execute_input": "2024-03-05T01:24:49.632490Z",
     "iopub.status.busy": "2024-03-05T01:24:49.632025Z",
     "iopub.status.idle": "2024-03-05T01:24:49.640219Z",
     "shell.execute_reply": "2024-03-05T01:24:49.638759Z"
    },
    "papermill": {
     "duration": 0.022085,
     "end_time": "2024-03-05T01:24:49.643333",
     "exception": false,
     "start_time": "2024-03-05T01:24:49.621248",
     "status": "completed"
    },
    "tags": []
   },
   "outputs": [],
   "source": [
    "def load_and_process_dataset(file_path, source_name):\n",
    "    # Load dataset\n",
    "    dataset = pd.read_json(file_path)\n",
    "    \n",
    "    # Reset index\n",
    "    dataset.reset_index(drop=True, inplace=True)\n",
    "    \n",
    "    # Drop unnecessary columns, keeping only 'SMILES' and 'source'\n",
    "    dataset = dataset[['SMILES', 'source']] if 'SMILES' in dataset.columns else dataset[['smiles', 'source']]\n",
    "    \n",
    "    # Rename 'SMILES' column to 'smiles'\n",
    "    dataset.rename(columns={'SMILES': 'smiles'}, inplace=True)\n",
    "    \n",
    "    # Assign source name if missing\n",
    "    if 'source' not in dataset.columns:\n",
    "        dataset['source'] = source_name\n",
    "    \n",
    "    # Add 'binds_to_rna' column based on the source\n",
    "    dataset['binds_to_rna'] = 0 if source_name == 'enmine_protein' else 1\n",
    "    \n",
    "    return dataset\n",
    "\n",
    "# Define file paths and source names\n",
    "datasets_info = [\n",
    "    ('data_mvi/chemdiv_df.json', 'chemdiv'),\n",
    "    ('data_mvi/enamine_df.json', 'enamine'),\n",
    "    ('data_mvi/picked_molecules.json', 'enmine_protein'),\n",
    "    ('data_mvi/life_chemicals_df.json', 'life_chemicals'),\n",
    "    ('data_mvi/robin_df.json', 'robin')\n",
    "]\n",
    "\n",
    "# Load, process, and combine datasets\n",
    "combined_df = pd.concat([load_and_process_dataset(file_path, source) for file_path, source in datasets_info], ignore_index=True)\n",
    "\n",
    "combined_df.head()\n"
   ]
  },
  {
   "cell_type": "code",
   "execution_count": 5,
   "id": "f5f2dd97",
   "metadata": {
    "execution": {
     "iopub.execute_input": "2024-03-05T01:24:49.668081Z",
     "iopub.status.busy": "2024-03-05T01:24:49.667650Z",
     "iopub.status.idle": "2024-03-05T01:24:49.674557Z",
     "shell.execute_reply": "2024-03-05T01:24:49.673064Z"
    },
    "papermill": {
     "duration": 0.029079,
     "end_time": "2024-03-05T01:24:49.677788",
     "exception": false,
     "start_time": "2024-03-05T01:24:49.648709",
     "status": "completed"
    },
    "tags": []
   },
   "outputs": [],
   "source": [
    "from rdkit import Chem\n",
    "import pandas as pd\n",
    "# Assuming 'standardizer' is an instance of a class with methods 'standardize_mol' and 'get_parent_mol'\n",
    "\n",
    "def remove_explicit_salts(smiles_list):\n",
    "    salt_patterns = [\n",
    "        \".[O-][Cl+3]([O-])([O-])[O-]\",\n",
    "        \"[O-][Cl+3]([O-])([O-])[O-].\",\n",
    "        \".[O-][Cl+3](O)(O)O\"\n",
    "    ]\n",
    "    for salt_pattern in salt_patterns:\n",
    "        smiles_list = [smiles.replace(salt_pattern, \"\") for smiles in smiles_list]\n",
    "    return smiles_list\n",
    "\n",
    "def process_molecule(smiles):\n",
    "    mol = Chem.MolFromSmiles(smiles)\n",
    "    if mol is None:\n",
    "        return None\n",
    "    num_components = len(Chem.GetMolFrags(mol, asMols=False, sanitizeFrags=False))\n",
    "    if num_components > 1:\n",
    "        std_mol = standardizer.standardize_mol(mol)\n",
    "        parent_mol, _ = standardizer.get_parent_mol(std_mol)\n",
    "        if parent_mol is None or parent_mol.GetNumAtoms() == 0:\n",
    "            return None\n",
    "        return Chem.MolToSmiles(parent_mol)\n",
    "    return Chem.MolToSmiles(mol)\n",
    "\n",
    "def is_disconnected(smiles):\n",
    "    mol = Chem.MolFromSmiles(smiles)\n",
    "    return len(Chem.GetMolFrags(mol, asMols=False, sanitizeFrags=False)) > 1\n",
    "\n",
    "\n",
    "# Then, process each molecule for standardization and further sanitization\n",
    "for idx, row in combined_df.iterrows():\n",
    "    sanitized_smiles = process_molecule(row['smiles'])\n",
    "    if sanitized_smiles is not None:\n",
    "        combined_df.at[idx, 'smiles'] = sanitized_smiles\n",
    "\n",
    "combined_df['smiles'] = remove_explicit_salts(combined_df['smiles'].tolist())\n",
    "\n",
    "\n",
    "# Finally, apply the check for disconnected molecules\n",
    "combined_df['is_disconnected'] = combined_df['smiles'].apply(is_disconnected)\n",
    "\n",
    "# Filtering or analyzing disconnected molecules\n",
    "disconnected_mols_df = combined_df[combined_df['is_disconnected']]\n",
    "\n",
    "print(f\"Total molecules: {len(combined_df)}\")\n",
    "print(f\"Disconnected molecules after sanitization: {len(disconnected_mols_df)}\")\n"
   ]
  },
  {
   "cell_type": "code",
   "execution_count": 6,
   "id": "f46100d2",
   "metadata": {
    "execution": {
     "iopub.execute_input": "2024-03-05T01:24:49.692048Z",
     "iopub.status.busy": "2024-03-05T01:24:49.691788Z",
     "iopub.status.idle": "2024-03-05T01:24:49.697862Z",
     "shell.execute_reply": "2024-03-05T01:24:49.696485Z"
    },
    "papermill": {
     "duration": 0.0174,
     "end_time": "2024-03-05T01:24:49.700532",
     "exception": false,
     "start_time": "2024-03-05T01:24:49.683132",
     "status": "completed"
    },
    "tags": []
   },
   "outputs": [],
   "source": [
    "# Your combined_df\n",
    "# combined_df = pd.read_csv(\"your_dataset.csv\")\n",
    "\n",
    "# Initialize featurizers\n",
    "atom_featurizer = CanonicalAtomFeaturizer()\n",
    "bond_featurizer = CanonicalBondFeaturizer(self_loop=True)\n",
    "\n",
    "# Function to convert SMILES to a graph\n",
    "def smiles_to_graph(smiles_string):\n",
    "    graph_constructor = SMILESToBigraph(add_self_loop=True,  # Add self loops\n",
    "                                        node_featurizer=atom_featurizer,\n",
    "                                        edge_featurizer=bond_featurizer)\n",
    "    return graph_constructor(smiles_string)\n",
    "\n",
    "# Convert SMILES to graphs\n",
    "combined_df['graph'] = combined_df['smiles'].apply(smiles_to_graph)"
   ]
  },
  {
   "cell_type": "code",
   "execution_count": 7,
   "id": "76d9fece",
   "metadata": {
    "execution": {
     "iopub.execute_input": "2024-03-05T01:24:49.717743Z",
     "iopub.status.busy": "2024-03-05T01:24:49.717486Z",
     "iopub.status.idle": "2024-03-05T01:24:49.723414Z",
     "shell.execute_reply": "2024-03-05T01:24:49.722053Z"
    },
    "papermill": {
     "duration": 0.019936,
     "end_time": "2024-03-05T01:24:49.726080",
     "exception": false,
     "start_time": "2024-03-05T01:24:49.706144",
     "status": "completed"
    },
    "tags": []
   },
   "outputs": [],
   "source": [
    "import dgl\n",
    "\n",
    "# Assuming 'binds_to_rna' is your label\n",
    "graphs = combined_df['graph'].tolist()\n",
    "labels = {'binds_to_rna': torch.tensor(combined_df['binds_to_rna'].values)}\n",
    "\n",
    "# Save graphs and labels\n",
    "dgl.save_graphs(\"data_mvi/graphs.bin\", graphs, labels)\n",
    "\n"
   ]
  },
  {
   "cell_type": "code",
   "execution_count": 8,
   "id": "2819ba24",
   "metadata": {
    "execution": {
     "iopub.execute_input": "2024-03-05T01:24:49.783849Z",
     "iopub.status.busy": "2024-03-05T01:24:49.783593Z",
     "iopub.status.idle": "2024-03-05T01:24:49.789200Z",
     "shell.execute_reply": "2024-03-05T01:24:49.787666Z"
    },
    "papermill": {
     "duration": 0.06051,
     "end_time": "2024-03-05T01:24:49.792011",
     "exception": false,
     "start_time": "2024-03-05T01:24:49.731501",
     "status": "completed"
    },
    "tags": []
   },
   "outputs": [],
   "source": [
    "# Drop the 'graph' column and save the DataFrame\n",
    "combined_df.drop(columns=['graph']).to_csv(\"data_mvi/combined_df.csv\", index=False)\n"
   ]
  },
  {
   "cell_type": "code",
   "execution_count": 9,
   "id": "b6fc353d",
   "metadata": {
    "execution": {
     "iopub.execute_input": "2024-03-05T01:24:49.862191Z",
     "iopub.status.busy": "2024-03-05T01:24:49.861932Z",
     "iopub.status.idle": "2024-03-05T01:25:03.366166Z",
     "shell.execute_reply": "2024-03-05T01:25:03.359398Z"
    },
    "papermill": {
     "duration": 13.575843,
     "end_time": "2024-03-05T01:25:03.373488",
     "exception": false,
     "start_time": "2024-03-05T01:24:49.797645",
     "status": "completed"
    },
    "tags": []
   },
   "outputs": [],
   "source": [
    "# Load the DataFrame\n",
    "reloaded_df = pd.read_csv(\"data_mvi/combined_df.csv\")\n",
    "\n",
    "# Load the graphs\n",
    "graphs, labels = dgl.load_graphs(\"data_mvi/graphs.bin\")\n",
    "\n",
    "# Labels are returned as a dictionary, convert to the desired format if necessary\n",
    "binds_to_rna = labels['binds_to_rna']\n"
   ]
  },
  {
   "cell_type": "code",
   "execution_count": 10,
   "id": "073ef948",
   "metadata": {
    "execution": {
     "iopub.execute_input": "2024-03-05T01:25:03.412723Z",
     "iopub.status.busy": "2024-03-05T01:25:03.412212Z",
     "iopub.status.idle": "2024-03-05T01:25:03.507898Z",
     "shell.execute_reply": "2024-03-05T01:25:03.506402Z"
    },
    "papermill": {
     "duration": 0.129425,
     "end_time": "2024-03-05T01:25:03.511376",
     "exception": false,
     "start_time": "2024-03-05T01:25:03.381951",
     "status": "completed"
    },
    "tags": []
   },
   "outputs": [],
   "source": [
    "from sklearn.model_selection import train_test_split\n",
    "\n",
    "# Assuming 'binds_to_rna' is your target variable for stratification\n",
    "labels = reloaded_df['binds_to_rna'].values\n",
    "\n",
    "# Generate a list of indices from the DataFrame\n",
    "indices = range(len(reloaded_df))\n",
    "\n",
    "# Perform stratified split\n",
    "train_indices, test_indices, train_labels, test_labels = train_test_split(\n",
    "    indices, labels, test_size=0.2, stratify=labels, random_state=42)\n",
    "\n",
    "# Now you can use train_indices and test_indices to split your graphs and labels\n",
    "train_graphs = [graphs[i] for i in train_indices]\n",
    "test_graphs = [graphs[i] for i in test_indices]\n",
    "\n",
    "# If you saved labels as a tensor, you can also split it according to indices\n",
    "train_labels = labels[train_indices]\n",
    "test_labels = labels[test_indices]\n"
   ]
  },
  {
   "cell_type": "markdown",
   "id": "30ee5684",
   "metadata": {
    "papermill": {
     "duration": 0.007196,
     "end_time": "2024-03-05T01:25:03.526118",
     "exception": false,
     "start_time": "2024-03-05T01:25:03.518922",
     "status": "completed"
    },
    "tags": []
   },
   "source": [
    "# Graph Attention Networks (GAT)"
   ]
  },
  {
   "cell_type": "code",
   "execution_count": 11,
   "id": "22ef80e7",
   "metadata": {
    "execution": {
     "iopub.execute_input": "2024-03-05T01:25:03.542093Z",
     "iopub.status.busy": "2024-03-05T01:25:03.541814Z",
     "iopub.status.idle": "2024-03-05T01:25:03.547682Z",
     "shell.execute_reply": "2024-03-05T01:25:03.546390Z"
    },
    "papermill": {
     "duration": 0.017628,
     "end_time": "2024-03-05T01:25:03.550891",
     "exception": false,
     "start_time": "2024-03-05T01:25:03.533263",
     "status": "completed"
    },
    "tags": []
   },
   "outputs": [],
   "source": [
    "device = torch.device('cuda' if torch.cuda.is_available() else 'cpu')\n"
   ]
  },
  {
   "cell_type": "code",
   "execution_count": 12,
   "id": "63002dac",
   "metadata": {
    "execution": {
     "iopub.execute_input": "2024-03-05T01:25:03.570566Z",
     "iopub.status.busy": "2024-03-05T01:25:03.570284Z",
     "iopub.status.idle": "2024-03-05T01:25:03.575682Z",
     "shell.execute_reply": "2024-03-05T01:25:03.574436Z"
    },
    "papermill": {
     "duration": 0.020565,
     "end_time": "2024-03-05T01:25:03.578821",
     "exception": false,
     "start_time": "2024-03-05T01:25:03.558256",
     "status": "completed"
    },
    "tags": []
   },
   "outputs": [],
   "source": [
    "# train_dataset = list(zip(train_graphs, train_labels))\n",
    "# test_dataset = list(zip(test_graphs, test_labels))"
   ]
  },
  {
   "cell_type": "code",
   "execution_count": 13,
   "id": "2ebf4fc7",
   "metadata": {
    "execution": {
     "iopub.execute_input": "2024-03-05T01:25:03.594651Z",
     "iopub.status.busy": "2024-03-05T01:25:03.594405Z",
     "iopub.status.idle": "2024-03-05T01:25:03.607811Z",
     "shell.execute_reply": "2024-03-05T01:25:03.606430Z"
    },
    "papermill": {
     "duration": 0.025167,
     "end_time": "2024-03-05T01:25:03.611159",
     "exception": false,
     "start_time": "2024-03-05T01:25:03.585992",
     "status": "completed"
    },
    "tags": []
   },
   "outputs": [],
   "source": [
    "import torch\n",
    "import torch.nn as nn\n",
    "import dgl\n",
    "from dgl.nn import GATv2Conv, GlobalAttentionPooling\n",
    "import optuna\n",
    "import torch.optim as optim\n",
    "from dgl.dataloading import GraphDataLoader\n",
    "from sklearn.model_selection import train_test_split\n",
    "\n",
    "class GraphClsGATv2(nn.Module):\n",
    "    def __init__(self, in_dim, hidden_dim, num_heads, num_classes):\n",
    "        super(GraphClsGATv2, self).__init__()\n",
    "        self.layer1 = GATv2Conv(in_feats=in_dim, out_feats=hidden_dim, num_heads=num_heads)\n",
    "        self.layer2 = GATv2Conv(in_feats=hidden_dim * num_heads, out_feats=hidden_dim, num_heads=num_heads)\n",
    "        self.pooling = GlobalAttentionPooling(gate_nn=nn.Linear(hidden_dim * num_heads, 1))\n",
    "        self.classifier = nn.Linear(hidden_dim * num_heads, num_classes)\n",
    "\n",
    "    def forward(self, g, h, get_attention=False):\n",
    "        h = self.layer1(g, h).flatten(1)\n",
    "        h = self.layer2(g, h).flatten(1)\n",
    "        hg = self.pooling(g, h)\n",
    "        logits = self.classifier(hg)\n",
    "        if get_attention:\n",
    "            return logits, self.pooling.attn\n",
    "        else:\n",
    "            return logits\n",
    "        "
   ]
  },
  {
   "cell_type": "code",
   "execution_count": 14,
   "id": "3cffbb98",
   "metadata": {
    "execution": {
     "iopub.execute_input": "2024-03-05T01:25:03.625756Z",
     "iopub.status.busy": "2024-03-05T01:25:03.625500Z",
     "iopub.status.idle": "2024-03-05T01:25:03.630948Z",
     "shell.execute_reply": "2024-03-05T01:25:03.629671Z"
    },
    "papermill": {
     "duration": 0.015241,
     "end_time": "2024-03-05T01:25:03.633616",
     "exception": false,
     "start_time": "2024-03-05T01:25:03.618375",
     "status": "completed"
    },
    "tags": []
   },
   "outputs": [],
   "source": [
    "device = torch.device('cuda' if torch.cuda.is_available() else 'cpu')"
   ]
  },
  {
   "cell_type": "code",
   "execution_count": 15,
   "id": "56ab2d04",
   "metadata": {
    "execution": {
     "iopub.execute_input": "2024-03-05T01:25:03.645926Z",
     "iopub.status.busy": "2024-03-05T01:25:03.645682Z",
     "iopub.status.idle": "2024-03-05T01:25:03.651579Z",
     "shell.execute_reply": "2024-03-05T01:25:03.650085Z"
    },
    "papermill": {
     "duration": 0.01482,
     "end_time": "2024-03-05T01:25:03.654155",
     "exception": false,
     "start_time": "2024-03-05T01:25:03.639335",
     "status": "completed"
    },
    "tags": []
   },
   "outputs": [],
   "source": [
    "def collate(samples):\n",
    "    graphs, labels = map(list, zip(*samples))\n",
    "    batched_graph = dgl.batch(graphs).to(device)\n",
    "    labels = torch.tensor(labels, dtype=torch.long).to(device)\n",
    "    return batched_graph, labels"
   ]
  },
  {
   "cell_type": "code",
   "execution_count": 16,
   "id": "48ba3ef5",
   "metadata": {
    "execution": {
     "iopub.execute_input": "2024-03-05T01:25:03.666156Z",
     "iopub.status.busy": "2024-03-05T01:25:03.665908Z",
     "iopub.status.idle": "2024-03-05T01:25:03.675206Z",
     "shell.execute_reply": "2024-03-05T01:25:03.673973Z"
    },
    "papermill": {
     "duration": 0.018351,
     "end_time": "2024-03-05T01:25:03.677828",
     "exception": false,
     "start_time": "2024-03-05T01:25:03.659477",
     "status": "completed"
    },
    "tags": []
   },
   "outputs": [],
   "source": [
    "def objective(trial):\n",
    "    hidden_dim = trial.suggest_int('hidden_dim', 32, 128)\n",
    "    num_heads = trial.suggest_int('num_heads', 2, 8)\n",
    "    lr = trial.suggest_loguniform('lr', 1e-4, 1e-2)\n",
    "    batch_size = trial.suggest_categorical('batch_size', [32, 64, 128])\n",
    "\n",
    "    model = GraphClsGATv2(in_dim=74, hidden_dim=hidden_dim, num_heads=num_heads, num_classes=2).to(device)\n",
    "    optimizer = optim.Adam(model.parameters(), lr=lr)\n",
    "    criterion = nn.CrossEntropyLoss()\n",
    "\n",
    "    train_loader = GraphDataLoader(list(zip(train_graphs, train_labels)), batch_size=batch_size, shuffle=True, collate_fn=collate)\n",
    "    val_loader = GraphDataLoader(list(zip(test_graphs, test_labels)), batch_size=batch_size, shuffle=False, collate_fn=collate)\n",
    "\n",
    "    for epoch in range(10):  # Adjust epochs as needed\n",
    "        model.train()\n",
    "        for batched_graph, labels in train_loader:\n",
    "            optimizer.zero_grad()\n",
    "            h = batched_graph.ndata['h'].float().to(device)  # Ensure node features are on the correct device\n",
    "            logits = model(batched_graph, h)\n",
    "            loss = criterion(logits, labels)\n",
    "            loss.backward()\n",
    "            optimizer.step()\n",
    "\n",
    "    # Evaluation\n",
    "    model.eval()\n",
    "    correct = 0\n",
    "    total = 0\n",
    "    with torch.no_grad():\n",
    "        for batched_graph, labels in val_loader:\n",
    "            h = batched_graph.ndata['h'].float().to(device)  # Ensure node features are on the correct device\n",
    "            logits = model(batched_graph, h)\n",
    "            _, predicted = torch.max(logits.data, 1)\n",
    "            total += labels.size(0)\n",
    "            correct += (predicted == labels).sum().item()\n",
    "\n",
    "    val_accuracy = correct / total\n",
    "    return val_accuracy\n",
    "\n"
   ]
  },
  {
   "cell_type": "code",
   "execution_count": 17,
   "id": "e9d35d9c",
   "metadata": {
    "execution": {
     "iopub.execute_input": "2024-03-05T01:25:03.689915Z",
     "iopub.status.busy": "2024-03-05T01:25:03.689669Z",
     "iopub.status.idle": "2024-03-05T03:58:45.149754Z",
     "shell.execute_reply": "2024-03-05T03:58:45.149038Z"
    },
    "papermill": {
     "duration": 9221.473525,
     "end_time": "2024-03-05T03:58:45.156707",
     "exception": false,
     "start_time": "2024-03-05T01:25:03.683182",
     "status": "completed"
    },
    "tags": []
   },
   "outputs": [
    {
     "name": "stderr",
     "output_type": "stream",
     "text": [
      "[I 2024-03-05 01:25:03,690] A new study created in memory with name: no-name-59b53552-04d3-46b7-8054-619fa057cb91\n"
     ]
    },
    {
     "name": "stderr",
     "output_type": "stream",
     "text": [
      "/tmp/ipykernel_28735/780629874.py:4: FutureWarning: suggest_loguniform has been deprecated in v3.0.0. This feature will be removed in v6.0.0. See https://github.com/optuna/optuna/releases/tag/v3.0.0. Use suggest_float(..., log=True) instead.\n",
      "  lr = trial.suggest_loguniform('lr', 1e-4, 1e-2)\n"
     ]
    },
    {
     "name": "stderr",
     "output_type": "stream",
     "text": [
      "[I 2024-03-05 01:27:25,605] Trial 0 finished with value: 0.8267903072966022 and parameters: {'hidden_dim': 113, 'num_heads': 6, 'lr': 0.00033117543647138867, 'batch_size': 64}. Best is trial 0 with value: 0.8267903072966022.\n"
     ]
    },
    {
     "name": "stderr",
     "output_type": "stream",
     "text": [
      "/tmp/ipykernel_28735/780629874.py:4: FutureWarning: suggest_loguniform has been deprecated in v3.0.0. This feature will be removed in v6.0.0. See https://github.com/optuna/optuna/releases/tag/v3.0.0. Use suggest_float(..., log=True) instead.\n",
      "  lr = trial.suggest_loguniform('lr', 1e-4, 1e-2)\n"
     ]
    },
    {
     "name": "stderr",
     "output_type": "stream",
     "text": [
      "[I 2024-03-05 01:29:30,084] Trial 1 finished with value: 0.8326113442534182 and parameters: {'hidden_dim': 88, 'num_heads': 5, 'lr': 0.00034234617923300517, 'batch_size': 64}. Best is trial 1 with value: 0.8326113442534182.\n"
     ]
    },
    {
     "name": "stderr",
     "output_type": "stream",
     "text": [
      "[I 2024-03-05 01:33:18,857] Trial 2 finished with value: 0.7808311899282523 and parameters: {'hidden_dim': 119, 'num_heads': 5, 'lr': 0.004847755227413553, 'batch_size': 32}. Best is trial 1 with value: 0.8326113442534182.\n"
     ]
    },
    {
     "name": "stderr",
     "output_type": "stream",
     "text": [
      "[I 2024-03-05 01:35:17,801] Trial 3 finished with value: 0.8098686882360905 and parameters: {'hidden_dim': 72, 'num_heads': 8, 'lr': 0.0002565654077034613, 'batch_size': 128}. Best is trial 1 with value: 0.8326113442534182.\n"
     ]
    },
    {
     "name": "stderr",
     "output_type": "stream",
     "text": [
      "[I 2024-03-05 01:38:47,365] Trial 4 finished with value: 0.8360633545417625 and parameters: {'hidden_dim': 36, 'num_heads': 6, 'lr': 0.0008804206473212662, 'batch_size': 32}. Best is trial 4 with value: 0.8360633545417625.\n"
     ]
    },
    {
     "name": "stderr",
     "output_type": "stream",
     "text": [
      "[I 2024-03-05 01:40:39,447] Trial 5 finished with value: 0.8149451739542439 and parameters: {'hidden_dim': 59, 'num_heads': 3, 'lr': 0.00384418839308737, 'batch_size': 64}. Best is trial 4 with value: 0.8360633545417625.\n"
     ]
    },
    {
     "name": "stderr",
     "output_type": "stream",
     "text": [
      "[I 2024-03-05 01:44:03,326] Trial 6 finished with value: 0.7885474482198457 and parameters: {'hidden_dim': 42, 'num_heads': 2, 'lr': 0.0003072741104865836, 'batch_size': 32}. Best is trial 4 with value: 0.8360633545417625.\n"
     ]
    },
    {
     "name": "stderr",
     "output_type": "stream",
     "text": [
      "[I 2024-03-05 01:47:34,042] Trial 7 finished with value: 0.7650602409638554 and parameters: {'hidden_dim': 108, 'num_heads': 2, 'lr': 0.008742357975815511, 'batch_size': 32}. Best is trial 4 with value: 0.8360633545417625.\n"
     ]
    },
    {
     "name": "stderr",
     "output_type": "stream",
     "text": [
      "[I 2024-03-05 01:49:08,274] Trial 8 finished with value: 0.806348991471504 and parameters: {'hidden_dim': 122, 'num_heads': 4, 'lr': 0.008076634335747422, 'batch_size': 128}. Best is trial 4 with value: 0.8360633545417625.\n"
     ]
    },
    {
     "name": "stderr",
     "output_type": "stream",
     "text": [
      "[I 2024-03-05 01:50:32,102] Trial 9 finished with value: 0.8007987004196562 and parameters: {'hidden_dim': 80, 'num_heads': 5, 'lr': 0.008276939444228366, 'batch_size': 128}. Best is trial 4 with value: 0.8360633545417625.\n"
     ]
    },
    {
     "name": "stderr",
     "output_type": "stream",
     "text": [
      "[I 2024-03-05 01:53:56,400] Trial 10 finished with value: 0.8349126844456478 and parameters: {'hidden_dim': 36, 'num_heads': 7, 'lr': 0.0011542974868178782, 'batch_size': 32}. Best is trial 4 with value: 0.8360633545417625.\n"
     ]
    },
    {
     "name": "stderr",
     "output_type": "stream",
     "text": [
      "[I 2024-03-05 01:57:15,953] Trial 11 finished with value: 0.8349803709218898 and parameters: {'hidden_dim': 33, 'num_heads': 7, 'lr': 0.0011848211159779997, 'batch_size': 32}. Best is trial 4 with value: 0.8360633545417625.\n"
     ]
    },
    {
     "name": "stderr",
     "output_type": "stream",
     "text": [
      "[I 2024-03-05 02:00:39,315] Trial 12 finished with value: 0.8449302829294707 and parameters: {'hidden_dim': 51, 'num_heads': 7, 'lr': 0.001217529588475766, 'batch_size': 32}. Best is trial 12 with value: 0.8449302829294707.\n"
     ]
    },
    {
     "name": "stderr",
     "output_type": "stream",
     "text": [
      "[I 2024-03-05 02:04:10,022] Trial 13 finished with value: 0.8426966292134831 and parameters: {'hidden_dim': 52, 'num_heads': 8, 'lr': 0.0006694829812299309, 'batch_size': 32}. Best is trial 12 with value: 0.8449302829294707.\n"
     ]
    },
    {
     "name": "stderr",
     "output_type": "stream",
     "text": [
      "[I 2024-03-05 02:07:39,899] Trial 14 finished with value: 0.799106538513605 and parameters: {'hidden_dim': 56, 'num_heads': 8, 'lr': 0.00012702781891760911, 'batch_size': 32}. Best is trial 12 with value: 0.8449302829294707.\n"
     ]
    },
    {
     "name": "stderr",
     "output_type": "stream",
     "text": [
      "[I 2024-03-05 02:11:03,354] Trial 15 finished with value: 0.8297685122512523 and parameters: {'hidden_dim': 53, 'num_heads': 7, 'lr': 0.001834340979179343, 'batch_size': 32}. Best is trial 12 with value: 0.8449302829294707.\n"
     ]
    },
    {
     "name": "stderr",
     "output_type": "stream",
     "text": [
      "[I 2024-03-05 02:15:15,084] Trial 16 finished with value: 0.8421551374035467 and parameters: {'hidden_dim': 67, 'num_heads': 8, 'lr': 0.0005540109780779452, 'batch_size': 32}. Best is trial 12 with value: 0.8449302829294707.\n"
     ]
    },
    {
     "name": "stderr",
     "output_type": "stream",
     "text": [
      "[I 2024-03-05 02:18:46,793] Trial 17 finished with value: 0.819480167862461 and parameters: {'hidden_dim': 48, 'num_heads': 6, 'lr': 0.002305628818535247, 'batch_size': 32}. Best is trial 12 with value: 0.8449302829294707.\n"
     ]
    },
    {
     "name": "stderr",
     "output_type": "stream",
     "text": [
      "[I 2024-03-05 02:21:14,531] Trial 18 finished with value: 0.8301746311087045 and parameters: {'hidden_dim': 94, 'num_heads': 7, 'lr': 0.0006346900037879755, 'batch_size': 128}. Best is trial 12 with value: 0.8449302829294707.\n"
     ]
    },
    {
     "name": "stderr",
     "output_type": "stream",
     "text": [
      "[I 2024-03-05 02:23:30,904] Trial 19 finished with value: 0.8288209015838636 and parameters: {'hidden_dim': 67, 'num_heads': 8, 'lr': 0.002008230587218132, 'batch_size': 64}. Best is trial 12 with value: 0.8449302829294707.\n"
     ]
    },
    {
     "name": "stderr",
     "output_type": "stream",
     "text": [
      "[I 2024-03-05 02:26:53,359] Trial 20 finished with value: 0.7815757411669149 and parameters: {'hidden_dim': 47, 'num_heads': 7, 'lr': 0.00010159932067440519, 'batch_size': 32}. Best is trial 12 with value: 0.8449302829294707.\n"
     ]
    },
    {
     "name": "stderr",
     "output_type": "stream",
     "text": [
      "[I 2024-03-05 02:30:33,824] Trial 21 finished with value: 0.8392446189251388 and parameters: {'hidden_dim': 68, 'num_heads': 8, 'lr': 0.0005999714201200556, 'batch_size': 32}. Best is trial 12 with value: 0.8449302829294707.\n"
     ]
    },
    {
     "name": "stderr",
     "output_type": "stream",
     "text": [
      "[I 2024-03-05 02:34:15,366] Trial 22 finished with value: 0.8453364017869229 and parameters: {'hidden_dim': 66, 'num_heads': 8, 'lr': 0.0005473538685539596, 'batch_size': 32}. Best is trial 22 with value: 0.8453364017869229.\n"
     ]
    },
    {
     "name": "stderr",
     "output_type": "stream",
     "text": [
      "[I 2024-03-05 02:37:49,740] Trial 23 finished with value: 0.8204954650060918 and parameters: {'hidden_dim': 61, 'num_heads': 8, 'lr': 0.00017759049658412992, 'batch_size': 32}. Best is trial 22 with value: 0.8453364017869229.\n"
     ]
    },
    {
     "name": "stderr",
     "output_type": "stream",
     "text": [
      "[I 2024-03-05 02:41:24,748] Trial 24 finished with value: 0.8362664139704887 and parameters: {'hidden_dim': 83, 'num_heads': 6, 'lr': 0.00045535527007741877, 'batch_size': 32}. Best is trial 22 with value: 0.8453364017869229.\n"
     ]
    },
    {
     "name": "stderr",
     "output_type": "stream",
     "text": [
      "[I 2024-03-05 02:44:50,955] Trial 25 finished with value: 0.8408690943549478 and parameters: {'hidden_dim': 48, 'num_heads': 7, 'lr': 0.0008598343839747525, 'batch_size': 32}. Best is trial 22 with value: 0.8453364017869229.\n"
     ]
    },
    {
     "name": "stderr",
     "output_type": "stream",
     "text": [
      "[I 2024-03-05 02:49:13,494] Trial 26 finished with value: 0.8142683091918235 and parameters: {'hidden_dim': 100, 'num_heads': 8, 'lr': 0.0014295151334628733, 'batch_size': 32}. Best is trial 22 with value: 0.8453364017869229.\n"
     ]
    },
    {
     "name": "stderr",
     "output_type": "stream",
     "text": [
      "[I 2024-03-05 02:52:42,862] Trial 27 finished with value: 0.828076350345201 and parameters: {'hidden_dim': 75, 'num_heads': 4, 'lr': 0.0007666604810184992, 'batch_size': 32}. Best is trial 22 with value: 0.8453364017869229.\n"
     ]
    },
    {
     "name": "stderr",
     "output_type": "stream",
     "text": [
      "[I 2024-03-05 02:54:50,682] Trial 28 finished with value: 0.8291593339650738 and parameters: {'hidden_dim': 63, 'num_heads': 7, 'lr': 0.0004397017175607994, 'batch_size': 64}. Best is trial 22 with value: 0.8453364017869229.\n"
     ]
    },
    {
     "name": "stderr",
     "output_type": "stream",
     "text": [
      "[I 2024-03-05 02:55:58,803] Trial 29 finished with value: 0.8332205225395966 and parameters: {'hidden_dim': 43, 'num_heads': 6, 'lr': 0.003412981405373537, 'batch_size': 128}. Best is trial 22 with value: 0.8453364017869229.\n"
     ]
    },
    {
     "name": "stderr",
     "output_type": "stream",
     "text": [
      "[I 2024-03-05 02:57:53,042] Trial 30 finished with value: 0.8032354135643699 and parameters: {'hidden_dim': 54, 'num_heads': 6, 'lr': 0.0002102085107057966, 'batch_size': 64}. Best is trial 22 with value: 0.8453364017869229.\n"
     ]
    },
    {
     "name": "stderr",
     "output_type": "stream",
     "text": [
      "[I 2024-03-05 03:01:43,435] Trial 31 finished with value: 0.8205631514823338 and parameters: {'hidden_dim': 76, 'num_heads': 8, 'lr': 0.0005003644068596925, 'batch_size': 32}. Best is trial 22 with value: 0.8453364017869229.\n"
     ]
    },
    {
     "name": "stderr",
     "output_type": "stream",
     "text": [
      "[I 2024-03-05 03:05:17,005] Trial 32 finished with value: 0.8408014078787058 and parameters: {'hidden_dim': 67, 'num_heads': 8, 'lr': 0.0006220289604353612, 'batch_size': 32}. Best is trial 22 with value: 0.8453364017869229.\n"
     ]
    },
    {
     "name": "stderr",
     "output_type": "stream",
     "text": [
      "[I 2024-03-05 03:09:00,238] Trial 33 finished with value: 0.8351157438743739 and parameters: {'hidden_dim': 87, 'num_heads': 8, 'lr': 0.00040061733968073203, 'batch_size': 32}. Best is trial 22 with value: 0.8453364017869229.\n"
     ]
    },
    {
     "name": "stderr",
     "output_type": "stream",
     "text": [
      "[I 2024-03-05 03:12:55,224] Trial 34 finished with value: 0.8270610532015703 and parameters: {'hidden_dim': 63, 'num_heads': 7, 'lr': 0.0014924730044494393, 'batch_size': 32}. Best is trial 22 with value: 0.8453364017869229.\n"
     ]
    },
    {
     "name": "stderr",
     "output_type": "stream",
     "text": [
      "[I 2024-03-05 03:16:47,737] Trial 35 finished with value: 0.8218491945309327 and parameters: {'hidden_dim': 71, 'num_heads': 8, 'lr': 0.00035247612484413476, 'batch_size': 32}. Best is trial 22 with value: 0.8453364017869229.\n"
     ]
    },
    {
     "name": "stderr",
     "output_type": "stream",
     "text": [
      "[I 2024-03-05 03:18:49,909] Trial 36 finished with value: 0.8192094219574929 and parameters: {'hidden_dim': 54, 'num_heads': 8, 'lr': 0.0002695061910871944, 'batch_size': 64}. Best is trial 22 with value: 0.8453364017869229.\n"
     ]
    },
    {
     "name": "stderr",
     "output_type": "stream",
     "text": [
      "[I 2024-03-05 03:22:10,870] Trial 37 finished with value: 0.8325436577771761 and parameters: {'hidden_dim': 41, 'num_heads': 7, 'lr': 0.0008206789820218511, 'batch_size': 32}. Best is trial 22 with value: 0.8453364017869229.\n"
     ]
    },
    {
     "name": "stderr",
     "output_type": "stream",
     "text": [
      "[I 2024-03-05 03:25:35,682] Trial 38 finished with value: 0.8238797888181941 and parameters: {'hidden_dim': 57, 'num_heads': 5, 'lr': 0.0010435585973227375, 'batch_size': 32}. Best is trial 22 with value: 0.8453364017869229.\n"
     ]
    },
    {
     "name": "stderr",
     "output_type": "stream",
     "text": [
      "[I 2024-03-05 03:27:04,667] Trial 39 finished with value: 0.8339650737782591 and parameters: {'hidden_dim': 50, 'num_heads': 8, 'lr': 0.0005723317030997537, 'batch_size': 128}. Best is trial 22 with value: 0.8453364017869229.\n"
     ]
    },
    {
     "name": "stderr",
     "output_type": "stream",
     "text": [
      "[I 2024-03-05 03:30:45,606] Trial 40 finished with value: 0.8141329362393394 and parameters: {'hidden_dim': 128, 'num_heads': 4, 'lr': 0.0029310704951522036, 'batch_size': 32}. Best is trial 22 with value: 0.8453364017869229.\n"
     ]
    },
    {
     "name": "stderr",
     "output_type": "stream",
     "text": [
      "[I 2024-03-05 03:34:17,425] Trial 41 finished with value: 0.838093948829024 and parameters: {'hidden_dim': 45, 'num_heads': 7, 'lr': 0.0007377622705346461, 'batch_size': 32}. Best is trial 22 with value: 0.8453364017869229.\n"
     ]
    },
    {
     "name": "stderr",
     "output_type": "stream",
     "text": [
      "[I 2024-03-05 03:37:49,583] Trial 42 finished with value: 0.8462163259780696 and parameters: {'hidden_dim': 39, 'num_heads': 7, 'lr': 0.0009646485849361715, 'batch_size': 32}. Best is trial 42 with value: 0.8462163259780696.\n"
     ]
    },
    {
     "name": "stderr",
     "output_type": "stream",
     "text": [
      "[I 2024-03-05 03:41:14,363] Trial 43 finished with value: 0.8361310410180046 and parameters: {'hidden_dim': 32, 'num_heads': 6, 'lr': 0.001509125175923574, 'batch_size': 32}. Best is trial 42 with value: 0.8462163259780696.\n"
     ]
    },
    {
     "name": "stderr",
     "output_type": "stream",
     "text": [
      "[I 2024-03-05 03:44:43,757] Trial 44 finished with value: 0.8299038852037363 and parameters: {'hidden_dim': 39, 'num_heads': 7, 'lr': 0.0010056517813625413, 'batch_size': 32}. Best is trial 42 with value: 0.8462163259780696.\n"
     ]
    },
    {
     "name": "stderr",
     "output_type": "stream",
     "text": [
      "[I 2024-03-05 03:48:23,702] Trial 45 finished with value: 0.8145390550967917 and parameters: {'hidden_dim': 60, 'num_heads': 8, 'lr': 0.0003022591435156923, 'batch_size': 32}. Best is trial 42 with value: 0.8462163259780696.\n"
     ]
    },
    {
     "name": "stderr",
     "output_type": "stream",
     "text": [
      "[I 2024-03-05 03:51:51,166] Trial 46 finished with value: 0.79761743603628 and parameters: {'hidden_dim': 39, 'num_heads': 7, 'lr': 0.005766239594208876, 'batch_size': 32}. Best is trial 42 with value: 0.8462163259780696.\n"
     ]
    },
    {
     "name": "stderr",
     "output_type": "stream",
     "text": [
      "[I 2024-03-05 03:53:17,674] Trial 47 finished with value: 0.839583051306349 and parameters: {'hidden_dim': 52, 'num_heads': 8, 'lr': 0.001265128125866692, 'batch_size': 128}. Best is trial 42 with value: 0.8462163259780696.\n"
     ]
    },
    {
     "name": "stderr",
     "output_type": "stream",
     "text": [
      "[I 2024-03-05 03:56:55,694] Trial 48 finished with value: 0.8356572356843103 and parameters: {'hidden_dim': 75, 'num_heads': 6, 'lr': 0.0003844844786021545, 'batch_size': 32}. Best is trial 42 with value: 0.8462163259780696.\n"
     ]
    },
    {
     "name": "stderr",
     "output_type": "stream",
     "text": [
      "[I 2024-03-05 03:58:45,146] Trial 49 finished with value: 0.8267226208203601 and parameters: {'hidden_dim': 36, 'num_heads': 7, 'lr': 0.0005363287198046636, 'batch_size': 64}. Best is trial 42 with value: 0.8462163259780696.\n"
     ]
    }
   ],
   "source": [
    "study = optuna.create_study(direction='maximize')\n",
    "study.optimize(objective, n_trials=50)"
   ]
  },
  {
   "cell_type": "code",
   "execution_count": 18,
   "id": "80e8255e",
   "metadata": {
    "execution": {
     "iopub.execute_input": "2024-03-05T03:58:45.170225Z",
     "iopub.status.busy": "2024-03-05T03:58:45.169783Z",
     "iopub.status.idle": "2024-03-05T03:58:45.174299Z",
     "shell.execute_reply": "2024-03-05T03:58:45.173679Z"
    },
    "papermill": {
     "duration": 0.015318,
     "end_time": "2024-03-05T03:58:45.177575",
     "exception": false,
     "start_time": "2024-03-05T03:58:45.162257",
     "status": "completed"
    },
    "tags": []
   },
   "outputs": [
    {
     "name": "stdout",
     "output_type": "stream",
     "text": [
      "Best trial:\n",
      "Value: 0.8462163259780696\n",
      "Params:\n",
      "hidden_dim: 39\n",
      "num_heads: 7\n",
      "lr: 0.0009646485849361715\n",
      "batch_size: 32\n"
     ]
    }
   ],
   "source": [
    "\n",
    "print(\"Best trial:\")\n",
    "trial = study.best_trial\n",
    "print(f\"Value: {trial.value}\")\n",
    "print(\"Params:\")\n",
    "for key, value in trial.params.items():\n",
    "    print(f\"{key}: {value}\")\n"
   ]
  },
  {
   "cell_type": "code",
   "execution_count": null,
   "id": "1c66dd00",
   "metadata": {},
   "outputs": [],
   "source": [
    "# Best trial:\n",
    "# Value: 0.8462163259780696\n",
    "# Params:\n",
    "# hidden_dim: 39\n",
    "# num_heads: 7\n",
    "# lr: 0.0009646485849361715\n",
    "# batch_size: 32"
   ]
  },
  {
   "cell_type": "markdown",
   "id": "b6c73662",
   "metadata": {},
   "source": [
    "test"
   ]
  },
  {
   "cell_type": "code",
   "execution_count": 17,
   "metadata": {},
   "outputs": [],
   "source": [
    "# Assuming you've got the best hyperparameters as follows (replace these with your actual best hyperparameters)\n",
    "best_hyperparams = {\n",
    "    'hidden_dim': 39,  # Example hyperparameter\n",
    "    'num_heads': 7,    # Example hyperparameter\n",
    "    'lr': 0.0009646485849361715,  # Example hyperparameter\n",
    "    'batch_size': 32   # Example hyperparameter\n",
    "}\n",
    "\n",
    "# 1. Rebuild the Model with the best hyperparameters\n",
    "model = GraphClsGATv2(in_dim=74,  # Assuming in_dim is fixed to 74 as per your dataset\n",
    "                      hidden_dim=best_hyperparams['hidden_dim'],\n",
    "                      num_heads=best_hyperparams['num_heads'],\n",
    "                      num_classes=2).to(device)  # Assuming binary classification\n",
    "\n",
    "# 2. Retrain the Model\n",
    "optimizer = optim.Adam(model.parameters(), lr=best_hyperparams['lr'])\n",
    "criterion = torch.nn.CrossEntropyLoss()\n",
    "\n",
    "# Convert train labels to a tensor and move it to the appropriate device\n",
    "train_labels_tensor = torch.LongTensor(train_labels).to(device)\n",
    "\n",
    "# Create DataLoaders for training\n",
    "train_loader = GraphDataLoader(list(zip(train_graphs, train_labels_tensor)), \n",
    "                               batch_size=best_hyperparams['batch_size'], \n",
    "                               shuffle=True, \n",
    "                               collate_fn=collate)\n",
    "\n",
    "# Training loop (simplified for demonstration)\n",
    "num_epochs = 30  # You can adjust the number of epochs\n",
    "for epoch in range(num_epochs):\n",
    "    model.train()\n",
    "    total_loss = 0.0\n",
    "    num_batches = 0\n",
    "    for batched_graph, labels in train_loader:\n",
    "        batched_graph = batched_graph.to(device)\n",
    "        labels = labels.to(device)\n",
    "        optimizer.zero_grad()\n",
    "        logits = model(batched_graph, batched_graph.ndata['h'].float())\n",
    "        loss = criterion(logits, labels)\n",
    "        loss.backward()\n",
    "        optimizer.step()\n",
    "        \n",
    "        total_loss += loss.item()\n",
    "        num_batches += 1\n",
    "        \n",
    "    avg_loss = total_loss / num_batches\n",
    "    print(f'Epoch {epoch+1}/{num_epochs}, Loss: {avg_loss:.4f}')"
   ]
  },
  {
   "cell_type": "code",
   "execution_count": 21,
   "id": "122ad9e8",
   "metadata": {},
   "outputs": [],
   "source": [
    "# save the model\n",
    "torch.save(model.state_dict(), \"data_mvi/gat_model.pth\")"
   ]
  },
  {
   "cell_type": "code",
   "execution_count": 19,
   "id": "7d7a5626",
   "metadata": {},
   "outputs": [],
   "source": [
    "import torch\n",
    "from dgl.dataloading import GraphDataLoader\n",
    "\n",
    "batch_size = 32  # Use the optimal batch size found by Optuna\n",
    "\n",
    "# Convert test labels to a tensor and move it to the appropriate device\n",
    "test_labels_tensor = torch.LongTensor(test_labels).to(device)\n",
    "\n",
    "# Create a DataLoader for the test set\n",
    "test_loader = GraphDataLoader(list(zip(test_graphs, test_labels_tensor)), \n",
    "                              batch_size=batch_size,  # Use the optimal batch size found by Optuna\n",
    "                              shuffle=False, \n",
    "                              collate_fn=collate)\n",
    "\n",
    "def evaluate_model(model, data_loader):\n",
    "    model.eval()  # Set the model to evaluation mode\n",
    "    total_correct = 0\n",
    "    total = 0\n",
    "    with torch.no_grad():  # No need to track gradients for evaluation\n",
    "        for batched_graph, labels in data_loader:\n",
    "            batched_graph = batched_graph.to(device)\n",
    "            labels = labels.to(device)\n",
    "            if 'h' in batched_graph.ndata:  # Use 'h' for node features\n",
    "                features = batched_graph.ndata['h'].to(device)\n",
    "            logits = model(batched_graph, features)\n",
    "            predicted = torch.argmax(logits, dim=1)\n",
    "            total_correct += (predicted == labels).sum().item()\n",
    "            total += labels.size(0)\n",
    "    accuracy = total_correct / total\n",
    "    return accuracy\n",
    "\n"
   ]
  },
  {
   "cell_type": "code",
   "execution_count": 20,
   "id": "57db2c66",
   "metadata": {},
   "outputs": [
    {
     "name": "stdout",
     "output_type": "stream",
     "text": [
      "Test Accuracy: 0.8447\n"
     ]
    }
   ],
   "source": [
    "# Evaluate the model on the test set\n",
    "test_accuracy = evaluate_model(model, test_loader)\n",
    "print(f\"Test Accuracy: {test_accuracy:.4f}\")"
   ]
  },
  {
   "cell_type": "code",
   "execution_count": null,
   "id": "b31e0b22",
   "metadata": {},
   "outputs": [],
   "source": [
    "# Test Accuracy: 0.8447"
   ]
  }
 ],
 "metadata": {
  "kernelspec": {
   "display_name": "gnn",
   "language": "python",
   "name": "python3"
  },
  "language_info": {
   "codemirror_mode": {
    "name": "ipython",
    "version": 3
   },
   "file_extension": ".py",
   "mimetype": "text/x-python",
   "name": "python",
   "nbconvert_exporter": "python",
   "pygments_lexer": "ipython3",
   "version": "3.8.18"
  },
  "papermill": {
   "default_parameters": {},
   "duration": 9243.004449,
   "end_time": "2024-03-05T03:58:47.926228",
   "environment_variables": {},
   "exception": null,
   "input_path": "gnn_gat_optuna_v7_att_weights.ipynb",
   "output_path": "gnn_gat_optuna_v7_att_weights.ipynb",
   "parameters": {},
   "start_time": "2024-03-05T01:24:44.921779",
   "version": "2.4.0"
  }
 },
 "nbformat": 4,
 "nbformat_minor": 5
}
