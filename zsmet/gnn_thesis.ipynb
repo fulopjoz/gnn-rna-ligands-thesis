{
 "cells": [
  {
   "cell_type": "markdown",
   "id": "cf9edce7",
   "metadata": {
    "papermill": {
     "duration": 0.098564,
     "end_time": "2024-01-11T22:14:11.536604",
     "exception": false,
     "start_time": "2024-01-11T22:14:11.438040",
     "status": "completed"
    },
    "tags": []
   },
   "source": [
    "# MVI\n",
    "## Graph Neural Networks\n",
    "### Binary classification model in Cheminformatics\n",
    "Jozef Fulop"
   ]
  },
  {
   "cell_type": "markdown",
   "id": "f672be0b",
   "metadata": {
    "papermill": {
     "duration": 0.01688,
     "end_time": "2024-01-11T22:14:11.574975",
     "exception": false,
     "start_time": "2024-01-11T22:14:11.558095",
     "status": "completed"
    },
    "tags": []
   },
   "source": [
    "# Load Libraries"
   ]
  },
  {
   "cell_type": "code",
   "execution_count": 35,
   "id": "8fb3e81a",
   "metadata": {
    "execution": {
     "iopub.execute_input": "2024-01-11T22:14:11.625334Z",
     "iopub.status.busy": "2024-01-11T22:14:11.624864Z",
     "iopub.status.idle": "2024-01-11T22:14:14.514079Z",
     "shell.execute_reply": "2024-01-11T22:14:14.512113Z"
    },
    "papermill": {
     "duration": 2.923661,
     "end_time": "2024-01-11T22:14:14.518448",
     "exception": false,
     "start_time": "2024-01-11T22:14:11.594787",
     "status": "completed"
    },
    "tags": []
   },
   "outputs": [],
   "source": [
    "# Standard libraries\n",
    "import os\n",
    "import json\n",
    "import pickle\n",
    "import warnings\n",
    "warnings.filterwarnings('ignore', category=UserWarning, message='TypedStorage is deprecated') # Known issue with PyTorch and DGL\n",
    "\n",
    "# Data handling\n",
    "import pandas as pd\n",
    "import numpy as np\n",
    "from scipy.spatial.distance import pdist, squareform\n",
    "\n",
    "# Machine learning and model evaluation\n",
    "from sklearn.model_selection import train_test_split\n",
    "from sklearn.metrics import f1_score, accuracy_score, precision_score, recall_score, roc_auc_score, roc_curve, auc, confusion_matrix, classification_report\n",
    "from sklearn.cluster import HDBSCAN\n",
    "\n",
    "# Neural Networks and Deep Learning\n",
    "import torch\n",
    "import torch.nn as nn\n",
    "import torch.nn.functional as F\n",
    "from torch.utils.data import Dataset, DataLoader\n",
    "\n",
    "# Graph Neural Networks\n",
    "import dgl\n",
    "import dgl.nn as dglnn\n",
    "from dgl import batch\n",
    "from dgl.data.utils import save_graphs, load_graphs\n",
    "\n",
    "# Cheminformatics\n",
    "from rdkit import Chem, DataStructs\n",
    "from rdkit.Chem import AllChem, Draw\n",
    "from dgllife.utils import mol_to_bigraph, CanonicalAtomFeaturizer, CanonicalBondFeaturizer, mol_to_graph\n",
    "from chembl_structure_pipeline import standardizer\n",
    "\n",
    "# Network analysis\n",
    "import networkx as nx\n",
    "\n",
    "# Visualization\n",
    "import matplotlib.pyplot as plt\n",
    "import seaborn as sns\n"
   ]
  },
  {
   "cell_type": "markdown",
   "id": "b484566a",
   "metadata": {
    "papermill": {
     "duration": 0.047625,
     "end_time": "2024-01-11T22:14:14.605709",
     "exception": false,
     "start_time": "2024-01-11T22:14:14.558084",
     "status": "completed"
    },
    "tags": []
   },
   "source": [
    "check if GPU is aviable and the device"
   ]
  },
  {
   "cell_type": "code",
   "execution_count": 36,
   "id": "ddc62385",
   "metadata": {
    "execution": {
     "iopub.execute_input": "2024-01-11T22:14:14.681835Z",
     "iopub.status.busy": "2024-01-11T22:14:14.681251Z",
     "iopub.status.idle": "2024-01-11T22:14:14.736696Z",
     "shell.execute_reply": "2024-01-11T22:14:14.734826Z"
    },
    "papermill": {
     "duration": 0.093069,
     "end_time": "2024-01-11T22:14:14.739482",
     "exception": false,
     "start_time": "2024-01-11T22:14:14.646413",
     "status": "completed"
    },
    "tags": []
   },
   "outputs": [
    {
     "name": "stdout",
     "output_type": "stream",
     "text": [
      "PyTorch version: 2.1.2\n",
      "Is CUDA Supported? True\n"
     ]
    }
   ],
   "source": [
    "import torch\n",
    "print(\"PyTorch version:\", torch.__version__)\n",
    "print(\"Is CUDA Supported?\", torch.cuda.is_available())"
   ]
  },
  {
   "cell_type": "code",
   "execution_count": 37,
   "id": "4e1f6501",
   "metadata": {
    "execution": {
     "iopub.execute_input": "2024-01-11T22:14:14.804521Z",
     "iopub.status.busy": "2024-01-11T22:14:14.804163Z",
     "iopub.status.idle": "2024-01-11T22:14:14.893644Z",
     "shell.execute_reply": "2024-01-11T22:14:14.891600Z"
    },
    "papermill": {
     "duration": 0.128141,
     "end_time": "2024-01-11T22:14:14.896836",
     "exception": false,
     "start_time": "2024-01-11T22:14:14.768695",
     "status": "completed"
    },
    "tags": []
   },
   "outputs": [
    {
     "data": {
      "text/plain": [
       "(True, 1, 'Tesla T4')"
      ]
     },
     "execution_count": 37,
     "metadata": {},
     "output_type": "execute_result"
    }
   ],
   "source": [
    "torch.cuda.is_available(), torch.cuda.device_count(), torch.cuda.get_device_name(0)"
   ]
  },
  {
   "cell_type": "markdown",
   "id": "215f2ffc",
   "metadata": {
    "papermill": {
     "duration": 0.028705,
     "end_time": "2024-01-11T22:14:14.954329",
     "exception": false,
     "start_time": "2024-01-11T22:14:14.925624",
     "status": "completed"
    },
    "tags": []
   },
   "source": [
    "# Data Preprocessing"
   ]
  },
  {
   "cell_type": "markdown",
   "id": "fb401faa",
   "metadata": {
    "papermill": {
     "duration": 0.041318,
     "end_time": "2024-01-11T22:14:15.028530",
     "exception": false,
     "start_time": "2024-01-11T22:14:14.987212",
     "status": "completed"
    },
    "tags": []
   },
   "source": [
    "load dataset"
   ]
  },
  {
   "cell_type": "code",
   "execution_count": 38,
   "id": "3365e4f9",
   "metadata": {
    "execution": {
     "iopub.execute_input": "2024-01-11T22:14:15.100080Z",
     "iopub.status.busy": "2024-01-11T22:14:15.099751Z",
     "iopub.status.idle": "2024-01-11T22:14:16.811305Z",
     "shell.execute_reply": "2024-01-11T22:14:16.809437Z"
    },
    "papermill": {
     "duration": 1.755292,
     "end_time": "2024-01-11T22:14:16.817139",
     "exception": false,
     "start_time": "2024-01-11T22:14:15.061847",
     "status": "completed"
    },
    "tags": []
   },
   "outputs": [],
   "source": [
    "# load json data from data_mvi folder\n",
    "chemdiv = pd.read_json('data_mvi/chemdiv_df.json')\n",
    "enamine = pd.read_json('data_mvi/enamine_df.json')\n",
    "enmine_protein = pd.read_json('data_mvi/enamine_protein_df.json')\n",
    "life_chemicals = pd.read_json('data_mvi/life_chemicals_df.json')\n",
    "robin = pd.read_json('data_mvi/robin_df.json')"
   ]
  },
  {
   "cell_type": "markdown",
   "id": "73a053b7",
   "metadata": {
    "papermill": {
     "duration": 0.065164,
     "end_time": "2024-01-11T22:14:16.910053",
     "exception": false,
     "start_time": "2024-01-11T22:14:16.844889",
     "status": "completed"
    },
    "tags": []
   },
   "source": [
    "add source column"
   ]
  },
  {
   "cell_type": "code",
   "execution_count": 39,
   "id": "791590b2",
   "metadata": {
    "execution": {
     "iopub.execute_input": "2024-01-11T22:14:16.961960Z",
     "iopub.status.busy": "2024-01-11T22:14:16.961655Z",
     "iopub.status.idle": "2024-01-11T22:14:16.971791Z",
     "shell.execute_reply": "2024-01-11T22:14:16.970241Z"
    },
    "papermill": {
     "duration": 0.038163,
     "end_time": "2024-01-11T22:14:16.973973",
     "exception": false,
     "start_time": "2024-01-11T22:14:16.935810",
     "status": "completed"
    },
    "tags": []
   },
   "outputs": [],
   "source": [
    "# add 'source column'\n",
    "chemdiv['source'] = 'chemdiv'\n",
    "enamine['source'] = 'enamine'\n",
    "enmine_protein['source'] = 'enmine_protein'\n",
    "life_chemicals['source'] = 'life_chemicals'\n",
    "robin['source'] = 'robin'"
   ]
  },
  {
   "cell_type": "code",
   "execution_count": 40,
   "id": "a7a5b0a0",
   "metadata": {
    "execution": {
     "iopub.execute_input": "2024-01-11T22:14:17.037392Z",
     "iopub.status.busy": "2024-01-11T22:14:17.037116Z",
     "iopub.status.idle": "2024-01-11T22:14:17.048110Z",
     "shell.execute_reply": "2024-01-11T22:14:17.046561Z"
    },
    "papermill": {
     "duration": 0.055843,
     "end_time": "2024-01-11T22:14:17.050141",
     "exception": false,
     "start_time": "2024-01-11T22:14:16.994298",
     "status": "completed"
    },
    "tags": []
   },
   "outputs": [
    {
     "data": {
      "text/plain": [
       "(1991, 4)"
      ]
     },
     "execution_count": 40,
     "metadata": {},
     "output_type": "execute_result"
    }
   ],
   "source": [
    "robin.shape"
   ]
  },
  {
   "cell_type": "markdown",
   "id": "b7d4577c",
   "metadata": {
    "papermill": {
     "duration": 0.031114,
     "end_time": "2024-01-11T22:14:17.100953",
     "exception": false,
     "start_time": "2024-01-11T22:14:17.069839",
     "status": "completed"
    },
    "tags": []
   },
   "source": [
    "compute fingerprings for algorithms"
   ]
  },
  {
   "cell_type": "code",
   "execution_count": 41,
   "id": "791409ed",
   "metadata": {
    "execution": {
     "iopub.execute_input": "2024-01-11T22:14:17.147492Z",
     "iopub.status.busy": "2024-01-11T22:14:17.147214Z",
     "iopub.status.idle": "2024-01-11T22:16:03.780152Z",
     "shell.execute_reply": "2024-01-11T22:16:03.778290Z"
    },
    "papermill": {
     "duration": 106.66593,
     "end_time": "2024-01-11T22:16:03.784797",
     "exception": false,
     "start_time": "2024-01-11T22:14:17.118867",
     "status": "completed"
    },
    "tags": []
   },
   "outputs": [],
   "source": [
    "# combine all dataframes\n",
    "df = pd.concat([chemdiv, enamine, enmine_protein, life_chemicals, robin], ignore_index=True)\n",
    "# delte 'mol' column and ECFp6 column\n",
    "df = df.drop(['mol', 'ECFP6'], axis=1)\n",
    "\n",
    "# create 'mol' column and use SMILES column to create mol object\n",
    "df['mol'] = df['SMILES'].apply(lambda x: Chem.MolFromSmiles(x))\n",
    "# create 'ECFP6' column and use mol object to create ECFP6 fingerprint\n",
    "df['ECFP6'] = df['mol'].apply(lambda x: AllChem.GetMorganFingerprintAsBitVect(x, 3, nBits=2048))\n"
   ]
  },
  {
   "cell_type": "markdown",
   "id": "0f0de357",
   "metadata": {
    "papermill": {
     "duration": 0.042607,
     "end_time": "2024-01-11T22:16:03.869294",
     "exception": false,
     "start_time": "2024-01-11T22:16:03.826687",
     "status": "completed"
    },
    "tags": []
   },
   "source": [
    "these fingerprints will be further used more in data preprocessing,train and test set selection. (not in this milestone). Dataset was deduplicated before."
   ]
  },
  {
   "cell_type": "code",
   "execution_count": 42,
   "id": "626ac43c",
   "metadata": {
    "execution": {
     "iopub.execute_input": "2024-01-11T22:16:03.953809Z",
     "iopub.status.busy": "2024-01-11T22:16:03.953530Z",
     "iopub.status.idle": "2024-01-11T22:16:04.032095Z",
     "shell.execute_reply": "2024-01-11T22:16:04.030455Z"
    },
    "papermill": {
     "duration": 0.112623,
     "end_time": "2024-01-11T22:16:04.034366",
     "exception": false,
     "start_time": "2024-01-11T22:16:03.921743",
     "status": "completed"
    },
    "tags": []
   },
   "outputs": [
    {
     "data": {
      "text/plain": [
       "0"
      ]
     },
     "execution_count": 42,
     "metadata": {},
     "output_type": "execute_result"
    }
   ],
   "source": [
    "# check for duplicates using 'SMILES' column\n",
    "df.duplicated(subset=['SMILES']).sum()"
   ]
  },
  {
   "cell_type": "code",
   "execution_count": 43,
   "id": "f50b3217",
   "metadata": {
    "execution": {
     "iopub.execute_input": "2024-01-11T22:16:04.076607Z",
     "iopub.status.busy": "2024-01-11T22:16:04.076285Z",
     "iopub.status.idle": "2024-01-11T22:16:04.093436Z",
     "shell.execute_reply": "2024-01-11T22:16:04.091890Z"
    },
    "papermill": {
     "duration": 0.044829,
     "end_time": "2024-01-11T22:16:04.096543",
     "exception": false,
     "start_time": "2024-01-11T22:16:04.051714",
     "status": "completed"
    },
    "tags": []
   },
   "outputs": [
    {
     "data": {
      "text/html": [
       "<div>\n",
       "<style scoped>\n",
       "    .dataframe tbody tr th:only-of-type {\n",
       "        vertical-align: middle;\n",
       "    }\n",
       "\n",
       "    .dataframe tbody tr th {\n",
       "        vertical-align: top;\n",
       "    }\n",
       "\n",
       "    .dataframe thead th {\n",
       "        text-align: right;\n",
       "    }\n",
       "</style>\n",
       "<table border=\"1\" class=\"dataframe\">\n",
       "  <thead>\n",
       "    <tr style=\"text-align: right;\">\n",
       "      <th></th>\n",
       "      <th>source</th>\n",
       "      <th>SMILES</th>\n",
       "      <th>mol</th>\n",
       "      <th>ECFP6</th>\n",
       "    </tr>\n",
       "  </thead>\n",
       "  <tbody>\n",
       "    <tr>\n",
       "      <th>0</th>\n",
       "      <td>chemdiv</td>\n",
       "      <td>O=C(Nc1ccc2ccccc2c1)c1ccc2c(c1)C(=O)N(c1cccc(N...</td>\n",
       "      <td>&lt;rdkit.Chem.rdchem.Mol object at 0x7ff16f398740&gt;</td>\n",
       "      <td>[0, 0, 0, 0, 0, 0, 0, 0, 0, 0, 0, 0, 0, 0, 0, ...</td>\n",
       "    </tr>\n",
       "    <tr>\n",
       "      <th>1</th>\n",
       "      <td>chemdiv</td>\n",
       "      <td>O=C(CSc1nnc(-c2ccccc2Cl)n1-c1ccccc1)c1ccc2c(c1...</td>\n",
       "      <td>&lt;rdkit.Chem.rdchem.Mol object at 0x7ff16f398820&gt;</td>\n",
       "      <td>[0, 1, 0, 0, 0, 0, 0, 0, 0, 0, 0, 0, 0, 0, 0, ...</td>\n",
       "    </tr>\n",
       "    <tr>\n",
       "      <th>2</th>\n",
       "      <td>chemdiv</td>\n",
       "      <td>Cc1ccc(-n2c(=O)c3c4c(sc3n3c(SCC(=O)c5ccccc5)nn...</td>\n",
       "      <td>&lt;rdkit.Chem.rdchem.Mol object at 0x7ff16f398580&gt;</td>\n",
       "      <td>[0, 0, 0, 0, 0, 0, 0, 0, 0, 0, 0, 0, 0, 0, 0, ...</td>\n",
       "    </tr>\n",
       "    <tr>\n",
       "      <th>3</th>\n",
       "      <td>chemdiv</td>\n",
       "      <td>O=C(Nc1ccc(C(=O)c2ccccc2)cc1)c1ccc(Oc2ccc(C(=O...</td>\n",
       "      <td>&lt;rdkit.Chem.rdchem.Mol object at 0x7ff16f3986d0&gt;</td>\n",
       "      <td>[0, 0, 0, 0, 0, 0, 0, 0, 0, 1, 0, 0, 0, 0, 0, ...</td>\n",
       "    </tr>\n",
       "    <tr>\n",
       "      <th>4</th>\n",
       "      <td>chemdiv</td>\n",
       "      <td>O=C(Nc1ccc(Oc2cccc(Oc3ccc(NC(=O)c4ccccc4Cl)cc3...</td>\n",
       "      <td>&lt;rdkit.Chem.rdchem.Mol object at 0x7ff16f398890&gt;</td>\n",
       "      <td>[0, 1, 0, 0, 0, 0, 0, 0, 0, 0, 1, 0, 0, 0, 0, ...</td>\n",
       "    </tr>\n",
       "  </tbody>\n",
       "</table>\n",
       "</div>"
      ],
      "text/plain": [
       "    source                                             SMILES  \\\n",
       "0  chemdiv  O=C(Nc1ccc2ccccc2c1)c1ccc2c(c1)C(=O)N(c1cccc(N...   \n",
       "1  chemdiv  O=C(CSc1nnc(-c2ccccc2Cl)n1-c1ccccc1)c1ccc2c(c1...   \n",
       "2  chemdiv  Cc1ccc(-n2c(=O)c3c4c(sc3n3c(SCC(=O)c5ccccc5)nn...   \n",
       "3  chemdiv  O=C(Nc1ccc(C(=O)c2ccccc2)cc1)c1ccc(Oc2ccc(C(=O...   \n",
       "4  chemdiv  O=C(Nc1ccc(Oc2cccc(Oc3ccc(NC(=O)c4ccccc4Cl)cc3...   \n",
       "\n",
       "                                                mol  \\\n",
       "0  <rdkit.Chem.rdchem.Mol object at 0x7ff16f398740>   \n",
       "1  <rdkit.Chem.rdchem.Mol object at 0x7ff16f398820>   \n",
       "2  <rdkit.Chem.rdchem.Mol object at 0x7ff16f398580>   \n",
       "3  <rdkit.Chem.rdchem.Mol object at 0x7ff16f3986d0>   \n",
       "4  <rdkit.Chem.rdchem.Mol object at 0x7ff16f398890>   \n",
       "\n",
       "                                               ECFP6  \n",
       "0  [0, 0, 0, 0, 0, 0, 0, 0, 0, 0, 0, 0, 0, 0, 0, ...  \n",
       "1  [0, 1, 0, 0, 0, 0, 0, 0, 0, 0, 0, 0, 0, 0, 0, ...  \n",
       "2  [0, 0, 0, 0, 0, 0, 0, 0, 0, 0, 0, 0, 0, 0, 0, ...  \n",
       "3  [0, 0, 0, 0, 0, 0, 0, 0, 0, 1, 0, 0, 0, 0, 0, ...  \n",
       "4  [0, 1, 0, 0, 0, 0, 0, 0, 0, 0, 1, 0, 0, 0, 0, ...  "
      ]
     },
     "execution_count": 43,
     "metadata": {},
     "output_type": "execute_result"
    }
   ],
   "source": [
    "df.head()"
   ]
  },
  {
   "cell_type": "markdown",
   "id": "f3dc62af",
   "metadata": {
    "papermill": {
     "duration": 0.018833,
     "end_time": "2024-01-11T22:16:04.142107",
     "exception": false,
     "start_time": "2024-01-11T22:16:04.123274",
     "status": "completed"
    },
    "tags": []
   },
   "source": [
    "create column for labels, if 'rna' == 1 - molecule binds to the RNA, else - Protein"
   ]
  },
  {
   "cell_type": "code",
   "execution_count": 44,
   "id": "87240eff",
   "metadata": {
    "execution": {
     "iopub.execute_input": "2024-01-11T22:16:04.210204Z",
     "iopub.status.busy": "2024-01-11T22:16:04.209936Z",
     "iopub.status.idle": "2024-01-11T22:16:04.349656Z",
     "shell.execute_reply": "2024-01-11T22:16:04.347980Z"
    },
    "papermill": {
     "duration": 0.178459,
     "end_time": "2024-01-11T22:16:04.352085",
     "exception": false,
     "start_time": "2024-01-11T22:16:04.173626",
     "status": "completed"
    },
    "tags": []
   },
   "outputs": [],
   "source": [
    "# create 'rna' column and if in column 'source' is 'enmine_protein' set 'rna' to 0 else 1\n",
    "df['rna'] = df['source'].apply(lambda x: 0 if x == 'enmine_protein' else 1)"
   ]
  },
  {
   "cell_type": "code",
   "execution_count": 45,
   "id": "ca0371a0",
   "metadata": {
    "execution": {
     "iopub.execute_input": "2024-01-11T22:16:04.423683Z",
     "iopub.status.busy": "2024-01-11T22:16:04.423409Z",
     "iopub.status.idle": "2024-01-11T22:16:04.431392Z",
     "shell.execute_reply": "2024-01-11T22:16:04.429977Z"
    },
    "papermill": {
     "duration": 0.064069,
     "end_time": "2024-01-11T22:16:04.433396",
     "exception": false,
     "start_time": "2024-01-11T22:16:04.369327",
     "status": "completed"
    },
    "tags": []
   },
   "outputs": [
    {
     "data": {
      "text/plain": [
       "(493078, 5)"
      ]
     },
     "execution_count": 45,
     "metadata": {},
     "output_type": "execute_result"
    }
   ],
   "source": [
    "df.shape"
   ]
  },
  {
   "cell_type": "markdown",
   "id": "d31a9361",
   "metadata": {
    "papermill": {
     "duration": 0.031819,
     "end_time": "2024-01-11T22:16:04.608847",
     "exception": false,
     "start_time": "2024-01-11T22:16:04.577028",
     "status": "completed"
    },
    "tags": []
   },
   "source": [
    "dataset is unbalanced - creating balanced dataset - undersampling majority class (just for now, in near future more sofisticated approaches will be used - clustering)"
   ]
  },
  {
   "cell_type": "code",
   "execution_count": 46,
   "id": "96d31f40",
   "metadata": {
    "execution": {
     "iopub.execute_input": "2024-01-11T22:16:04.675532Z",
     "iopub.status.busy": "2024-01-11T22:16:04.675257Z",
     "iopub.status.idle": "2024-01-11T22:16:04.683663Z",
     "shell.execute_reply": "2024-01-11T22:16:04.682207Z"
    },
    "papermill": {
     "duration": 0.053625,
     "end_time": "2024-01-11T22:16:04.685706",
     "exception": false,
     "start_time": "2024-01-11T22:16:04.632081",
     "status": "completed"
    },
    "tags": []
   },
   "outputs": [
    {
     "data": {
      "text/plain": [
       "((19912, 4), (11080, 4), (456141, 4), (3954, 4), (1991, 4))"
      ]
     },
     "execution_count": 46,
     "metadata": {},
     "output_type": "execute_result"
    }
   ],
   "source": [
    "chemdiv.shape, enamine.shape, enmine_protein.shape, life_chemicals.shape, robin.shape"
   ]
  },
  {
   "cell_type": "code",
   "execution_count": 47,
   "id": "247d3d6f",
   "metadata": {
    "execution": {
     "iopub.execute_input": "2024-01-11T22:16:04.748384Z",
     "iopub.status.busy": "2024-01-11T22:16:04.748056Z",
     "iopub.status.idle": "2024-01-11T22:16:04.964173Z",
     "shell.execute_reply": "2024-01-11T22:16:04.962869Z"
    },
    "papermill": {
     "duration": 0.259613,
     "end_time": "2024-01-11T22:16:04.967505",
     "exception": false,
     "start_time": "2024-01-11T22:16:04.707892",
     "status": "completed"
    },
    "tags": []
   },
   "outputs": [],
   "source": [
    "# divide data back to 5 dataframes\n",
    "chemdiv = df[df['source'] == 'chemdiv']\n",
    "enamine = df[df['source'] == 'enamine']\n",
    "enmine_protein = df[df['source'] == 'enmine_protein']\n",
    "life_chemicals = df[df['source'] == 'life_chemicals']\n",
    "robin = df[df['source'] == 'robin']\n",
    "\n"
   ]
  },
  {
   "cell_type": "code",
   "execution_count": 48,
   "id": "2ea3ac98",
   "metadata": {},
   "outputs": [],
   "source": [
    "smiles_to_delete = [\n",
    "    \"COc1ccc(-c2n(-c3ccccn3)c3ccccc3[n+]2-c2ccccn2)cc1.[O-][Cl+3]([O-])([O-])[O-]\",\n",
    "    \"[O-][Cl+3]([O-])([O-])[O-].c1ccc(-c2[se]c3nccc[n+]3c2-c2ccccc2)cc1\",\n",
    "    \"OC1CSc2n(-c3ccccc3)c(-c3ccccc3)c(-c3ccccc3)[n+]2C1.[O-][Cl+3]([O-])([O-])[O-]\",\n",
    "    \"[O-][Cl+3]([O-])([O-])[O-].c1ccc(-c2ccc(-c3n(-c4ccccn4)c4ccccc4[n+]3-c3ccccn3)cc2)cc1\",\n",
    "    \"COc1ccc(-c2cc(=Nc3cccc(C)c3C)c3cc(C)ccc3o2)cc1.[O-][Cl+3]([O-])([O-])O\",\n",
    "    \"CN(C)c1ccc(/C=C/c2cc(-c3ccccc3)c3ccccc3[o+]2)cc1.[O-][Cl+3]([O-])([O-])[O-]\"\n",
    "]\n",
    "\n",
    "# delete from enamine using 'SMILES' column\n",
    "enamine = enamine[~enamine['SMILES'].isin(smiles_to_delete)]"
   ]
  },
  {
   "cell_type": "code",
   "execution_count": 49,
   "id": "ee6d44d7",
   "metadata": {},
   "outputs": [
    {
     "data": {
      "text/plain": [
       "(36931, 5)"
      ]
     },
     "execution_count": 49,
     "metadata": {},
     "output_type": "execute_result"
    }
   ],
   "source": [
    "rna_df = pd.concat([chemdiv, enamine, life_chemicals, robin], ignore_index=True)\n",
    "\n",
    "rna_df.shape"
   ]
  },
  {
   "cell_type": "code",
   "execution_count": 15,
   "id": "71c3159c",
   "metadata": {
    "execution": {
     "iopub.execute_input": "2024-01-11T22:16:05.048084Z",
     "iopub.status.busy": "2024-01-11T22:16:05.047759Z",
     "iopub.status.idle": "2024-01-11T22:16:05.061521Z",
     "shell.execute_reply": "2024-01-11T22:16:05.060337Z"
    },
    "papermill": {
     "duration": 0.05578,
     "end_time": "2024-01-11T22:16:05.064418",
     "exception": false,
     "start_time": "2024-01-11T22:16:05.008638",
     "status": "completed"
    },
    "tags": []
   },
   "outputs": [
    {
     "data": {
      "text/html": [
       "<div>\n",
       "<style scoped>\n",
       "    .dataframe tbody tr th:only-of-type {\n",
       "        vertical-align: middle;\n",
       "    }\n",
       "\n",
       "    .dataframe tbody tr th {\n",
       "        vertical-align: top;\n",
       "    }\n",
       "\n",
       "    .dataframe thead th {\n",
       "        text-align: right;\n",
       "    }\n",
       "</style>\n",
       "<table border=\"1\" class=\"dataframe\">\n",
       "  <thead>\n",
       "    <tr style=\"text-align: right;\">\n",
       "      <th></th>\n",
       "      <th>source</th>\n",
       "      <th>SMILES</th>\n",
       "      <th>mol</th>\n",
       "      <th>ECFP6</th>\n",
       "      <th>rna</th>\n",
       "    </tr>\n",
       "  </thead>\n",
       "  <tbody>\n",
       "    <tr>\n",
       "      <th>30992</th>\n",
       "      <td>enmine_protein</td>\n",
       "      <td>CCc1nn(C)cc1NC(=O)c1cnn(CC(=O)NC2CCCCC2)c1</td>\n",
       "      <td>&lt;rdkit.Chem.rdchem.Mol object at 0x7ff26c9af4a0&gt;</td>\n",
       "      <td>[0, 0, 1, 0, 0, 0, 0, 0, 0, 0, 0, 0, 0, 0, 0, ...</td>\n",
       "      <td>0</td>\n",
       "    </tr>\n",
       "    <tr>\n",
       "      <th>30993</th>\n",
       "      <td>enmine_protein</td>\n",
       "      <td>O=C(Cc1coc2ccccc12)NC1(c2ncon2)CCOCC1</td>\n",
       "      <td>&lt;rdkit.Chem.rdchem.Mol object at 0x7ff26c9af510&gt;</td>\n",
       "      <td>[0, 0, 0, 0, 0, 0, 0, 0, 0, 0, 0, 1, 0, 1, 0, ...</td>\n",
       "      <td>0</td>\n",
       "    </tr>\n",
       "    <tr>\n",
       "      <th>30994</th>\n",
       "      <td>enmine_protein</td>\n",
       "      <td>CC(C)(C)c1ccc(O)c(NC(=O)c2cccc(Oc3cnccn3)c2)c1</td>\n",
       "      <td>&lt;rdkit.Chem.rdchem.Mol object at 0x7ff26c9af580&gt;</td>\n",
       "      <td>[0, 0, 0, 0, 0, 0, 0, 0, 0, 0, 0, 0, 0, 0, 0, ...</td>\n",
       "      <td>0</td>\n",
       "    </tr>\n",
       "    <tr>\n",
       "      <th>30995</th>\n",
       "      <td>enmine_protein</td>\n",
       "      <td>CC(NC(=O)Cc1ccc(Cl)s1)(C(N)=O)c1ccccc1</td>\n",
       "      <td>&lt;rdkit.Chem.rdchem.Mol object at 0x7ff26c9af5f0&gt;</td>\n",
       "      <td>[0, 0, 0, 0, 0, 0, 0, 0, 0, 0, 0, 0, 0, 0, 0, ...</td>\n",
       "      <td>0</td>\n",
       "    </tr>\n",
       "    <tr>\n",
       "      <th>30996</th>\n",
       "      <td>enmine_protein</td>\n",
       "      <td>COCc1cccc(S(=O)(=O)Nc2cccc(-n3cn[nH]c3=O)c2C)c1</td>\n",
       "      <td>&lt;rdkit.Chem.rdchem.Mol object at 0x7ff26c9af660&gt;</td>\n",
       "      <td>[0, 0, 0, 0, 1, 0, 0, 1, 0, 0, 0, 0, 0, 0, 0, ...</td>\n",
       "      <td>0</td>\n",
       "    </tr>\n",
       "  </tbody>\n",
       "</table>\n",
       "</div>"
      ],
      "text/plain": [
       "               source                                           SMILES  \\\n",
       "30992  enmine_protein       CCc1nn(C)cc1NC(=O)c1cnn(CC(=O)NC2CCCCC2)c1   \n",
       "30993  enmine_protein            O=C(Cc1coc2ccccc12)NC1(c2ncon2)CCOCC1   \n",
       "30994  enmine_protein   CC(C)(C)c1ccc(O)c(NC(=O)c2cccc(Oc3cnccn3)c2)c1   \n",
       "30995  enmine_protein           CC(NC(=O)Cc1ccc(Cl)s1)(C(N)=O)c1ccccc1   \n",
       "30996  enmine_protein  COCc1cccc(S(=O)(=O)Nc2cccc(-n3cn[nH]c3=O)c2C)c1   \n",
       "\n",
       "                                                    mol  \\\n",
       "30992  <rdkit.Chem.rdchem.Mol object at 0x7ff26c9af4a0>   \n",
       "30993  <rdkit.Chem.rdchem.Mol object at 0x7ff26c9af510>   \n",
       "30994  <rdkit.Chem.rdchem.Mol object at 0x7ff26c9af580>   \n",
       "30995  <rdkit.Chem.rdchem.Mol object at 0x7ff26c9af5f0>   \n",
       "30996  <rdkit.Chem.rdchem.Mol object at 0x7ff26c9af660>   \n",
       "\n",
       "                                                   ECFP6  rna  \n",
       "30992  [0, 0, 1, 0, 0, 0, 0, 0, 0, 0, 0, 0, 0, 0, 0, ...    0  \n",
       "30993  [0, 0, 0, 0, 0, 0, 0, 0, 0, 0, 0, 1, 0, 1, 0, ...    0  \n",
       "30994  [0, 0, 0, 0, 0, 0, 0, 0, 0, 0, 0, 0, 0, 0, 0, ...    0  \n",
       "30995  [0, 0, 0, 0, 0, 0, 0, 0, 0, 0, 0, 0, 0, 0, 0, ...    0  \n",
       "30996  [0, 0, 0, 0, 1, 0, 0, 1, 0, 0, 0, 0, 0, 0, 0, ...    0  "
      ]
     },
     "execution_count": 15,
     "metadata": {},
     "output_type": "execute_result"
    }
   ],
   "source": [
    "enmine_protein.head()"
   ]
  },
  {
   "cell_type": "code",
   "execution_count": 16,
   "id": "9253edcc",
   "metadata": {
    "execution": {
     "iopub.execute_input": "2024-01-11T22:16:05.123952Z",
     "iopub.status.busy": "2024-01-11T22:16:05.123661Z",
     "iopub.status.idle": "2024-01-11T22:16:05.131022Z",
     "shell.execute_reply": "2024-01-11T22:16:05.129803Z"
    },
    "papermill": {
     "duration": 0.038657,
     "end_time": "2024-01-11T22:16:05.133065",
     "exception": false,
     "start_time": "2024-01-11T22:16:05.094408",
     "status": "completed"
    },
    "tags": []
   },
   "outputs": [
    {
     "data": {
      "text/plain": [
       "(493078, 5)"
      ]
     },
     "execution_count": 16,
     "metadata": {},
     "output_type": "execute_result"
    }
   ],
   "source": [
    "df.shape"
   ]
  },
  {
   "cell_type": "markdown",
   "id": "31061564",
   "metadata": {
    "papermill": {
     "duration": 0.017866,
     "end_time": "2024-01-11T22:16:05.168473",
     "exception": false,
     "start_time": "2024-01-11T22:16:05.150607",
     "status": "completed"
    },
    "tags": []
   },
   "source": [
    "sanity check "
   ]
  },
  {
   "cell_type": "code",
   "execution_count": 17,
   "id": "c40705fa",
   "metadata": {
    "execution": {
     "iopub.execute_input": "2024-01-11T22:16:05.210455Z",
     "iopub.status.busy": "2024-01-11T22:16:05.210189Z",
     "iopub.status.idle": "2024-01-11T22:16:05.258938Z",
     "shell.execute_reply": "2024-01-11T22:16:05.257355Z"
    },
    "papermill": {
     "duration": 0.069661,
     "end_time": "2024-01-11T22:16:05.260970",
     "exception": false,
     "start_time": "2024-01-11T22:16:05.191309",
     "status": "completed"
    },
    "tags": []
   },
   "outputs": [
    {
     "data": {
      "text/html": [
       "<div>\n",
       "<style scoped>\n",
       "    .dataframe tbody tr th:only-of-type {\n",
       "        vertical-align: middle;\n",
       "    }\n",
       "\n",
       "    .dataframe tbody tr th {\n",
       "        vertical-align: top;\n",
       "    }\n",
       "\n",
       "    .dataframe thead th {\n",
       "        text-align: right;\n",
       "    }\n",
       "</style>\n",
       "<table border=\"1\" class=\"dataframe\">\n",
       "  <thead>\n",
       "    <tr style=\"text-align: right;\">\n",
       "      <th></th>\n",
       "      <th>source</th>\n",
       "      <th>SMILES</th>\n",
       "      <th>mol</th>\n",
       "      <th>ECFP6</th>\n",
       "      <th>rna</th>\n",
       "    </tr>\n",
       "  </thead>\n",
       "  <tbody>\n",
       "    <tr>\n",
       "      <th>0</th>\n",
       "      <td>chemdiv</td>\n",
       "      <td>O=C(Nc1ccc2ccccc2c1)c1ccc2c(c1)C(=O)N(c1cccc(N...</td>\n",
       "      <td>&lt;rdkit.Chem.rdchem.Mol object at 0x7ff26bbd45f0&gt;</td>\n",
       "      <td>[0, 0, 0, 0, 0, 0, 0, 0, 0, 0, 0, 0, 0, 0, 0, ...</td>\n",
       "      <td>1</td>\n",
       "    </tr>\n",
       "    <tr>\n",
       "      <th>19912</th>\n",
       "      <td>enamine</td>\n",
       "      <td>CCOc1ccc(-n2c(-c3ccc(CC)cc3)cn3c4ccc5ccccc5c4n...</td>\n",
       "      <td>&lt;rdkit.Chem.rdchem.Mol object at 0x7ff26c4c1820&gt;</td>\n",
       "      <td>[0, 0, 0, 0, 0, 0, 0, 0, 0, 0, 0, 0, 0, 0, 0, ...</td>\n",
       "      <td>1</td>\n",
       "    </tr>\n",
       "    <tr>\n",
       "      <th>30992</th>\n",
       "      <td>enmine_protein</td>\n",
       "      <td>CCc1nn(C)cc1NC(=O)c1cnn(CC(=O)NC2CCCCC2)c1</td>\n",
       "      <td>&lt;rdkit.Chem.rdchem.Mol object at 0x7ff26c9af4a0&gt;</td>\n",
       "      <td>[0, 0, 1, 0, 0, 0, 0, 0, 0, 0, 0, 0, 0, 0, 0, ...</td>\n",
       "      <td>0</td>\n",
       "    </tr>\n",
       "    <tr>\n",
       "      <th>487133</th>\n",
       "      <td>life_chemicals</td>\n",
       "      <td>CN1CCCN(c2cc(C#N)ccn2)CC1.Cl.Cl</td>\n",
       "      <td>&lt;rdkit.Chem.rdchem.Mol object at 0x7ff2413a9c80&gt;</td>\n",
       "      <td>[0, 0, 0, 0, 0, 0, 0, 0, 0, 0, 0, 0, 0, 0, 1, ...</td>\n",
       "      <td>1</td>\n",
       "    </tr>\n",
       "    <tr>\n",
       "      <th>491087</th>\n",
       "      <td>robin</td>\n",
       "      <td>CC(=O)c1ccc(Br)c(N)c1</td>\n",
       "      <td>&lt;rdkit.Chem.rdchem.Mol object at 0x7ff23e9979e0&gt;</td>\n",
       "      <td>[0, 0, 0, 0, 0, 0, 0, 0, 0, 0, 0, 0, 0, 0, 0, ...</td>\n",
       "      <td>1</td>\n",
       "    </tr>\n",
       "  </tbody>\n",
       "</table>\n",
       "</div>"
      ],
      "text/plain": [
       "                source                                             SMILES  \\\n",
       "0              chemdiv  O=C(Nc1ccc2ccccc2c1)c1ccc2c(c1)C(=O)N(c1cccc(N...   \n",
       "19912          enamine  CCOc1ccc(-n2c(-c3ccc(CC)cc3)cn3c4ccc5ccccc5c4n...   \n",
       "30992   enmine_protein         CCc1nn(C)cc1NC(=O)c1cnn(CC(=O)NC2CCCCC2)c1   \n",
       "487133  life_chemicals                    CN1CCCN(c2cc(C#N)ccn2)CC1.Cl.Cl   \n",
       "491087           robin                              CC(=O)c1ccc(Br)c(N)c1   \n",
       "\n",
       "                                                     mol  \\\n",
       "0       <rdkit.Chem.rdchem.Mol object at 0x7ff26bbd45f0>   \n",
       "19912   <rdkit.Chem.rdchem.Mol object at 0x7ff26c4c1820>   \n",
       "30992   <rdkit.Chem.rdchem.Mol object at 0x7ff26c9af4a0>   \n",
       "487133  <rdkit.Chem.rdchem.Mol object at 0x7ff2413a9c80>   \n",
       "491087  <rdkit.Chem.rdchem.Mol object at 0x7ff23e9979e0>   \n",
       "\n",
       "                                                    ECFP6  rna  \n",
       "0       [0, 0, 0, 0, 0, 0, 0, 0, 0, 0, 0, 0, 0, 0, 0, ...    1  \n",
       "19912   [0, 0, 0, 0, 0, 0, 0, 0, 0, 0, 0, 0, 0, 0, 0, ...    1  \n",
       "30992   [0, 0, 1, 0, 0, 0, 0, 0, 0, 0, 0, 0, 0, 0, 0, ...    0  \n",
       "487133  [0, 0, 0, 0, 0, 0, 0, 0, 0, 0, 0, 0, 0, 0, 1, ...    1  \n",
       "491087  [0, 0, 0, 0, 0, 0, 0, 0, 0, 0, 0, 0, 0, 0, 0, ...    1  "
      ]
     },
     "execution_count": 17,
     "metadata": {},
     "output_type": "execute_result"
    }
   ],
   "source": [
    "# show rows from df with each source so there will be 5 rows and all columns\n",
    "df.groupby('source').head(1)\n"
   ]
  },
  {
   "cell_type": "code",
   "execution_count": 67,
   "id": "5d2f8ec8",
   "metadata": {},
   "outputs": [],
   "source": [
    "\n",
    "# load from json\n",
    "picked_molecules = pd.read_json('data_mvi/picked_molecules.json')"
   ]
  },
  {
   "cell_type": "code",
   "execution_count": 53,
   "id": "f005aadb",
   "metadata": {
    "execution": {
     "iopub.execute_input": "2024-01-11T22:16:05.334714Z",
     "iopub.status.busy": "2024-01-11T22:16:05.334441Z",
     "iopub.status.idle": "2024-01-11T22:16:05.367283Z",
     "shell.execute_reply": "2024-01-11T22:16:05.365592Z"
    },
    "papermill": {
     "duration": 0.090944,
     "end_time": "2024-01-11T22:16:05.370084",
     "exception": false,
     "start_time": "2024-01-11T22:16:05.279140",
     "status": "completed"
    },
    "tags": []
   },
   "outputs": [],
   "source": [
    "# from rdkit import DataStructs\n",
    "# from rdkit.SimDivFilters.rdSimDivPickers import MaxMinPicker\n",
    "# import pandas as pd\n",
    "\n",
    "# # Assuming enmine_protein['ECFP6'] is already defined somewhere above and contains ECFP6 fingerprints as lists of bits\n",
    "# fps = []  # List of fingerprints\n",
    "# for bit_list in enmine_protein['ECFP6']:  # Convert each list of bits to a fingerprint\n",
    "#     bv = DataStructs.ExplicitBitVect(len(bit_list))  # Create an empty fingerprint\n",
    "#     for i, bit in enumerate(bit_list):  # Loop over the bits and set the 1s\n",
    "#         if bit: bv.SetBit(i)  # If the bit is 1, set the bit in the fingerprint\n",
    "#     fps.append(bv)  # Append the fingerprint to the list\n",
    "\n",
    "# # Define a function that calculates the distance between two fingerprints\n",
    "# def TanimotoDistance(i, j, fps=fps):  # Define a function that calculates the Tanimoto distance\n",
    "#     return 1 - DataStructs.FingerprintSimilarity(fps[i], fps[j], metric=DataStructs.TanimotoSimilarity)  # Calculate the Tanimoto distance\n",
    "\n",
    "# picker = MaxMinPicker()  # Create a MaxMinPicker object\n",
    "\n",
    "# # Use a lambda function to adapt to the expected signature\n",
    "# pickedIndices = picker.LazyPick(lambda i,j: TanimotoDistance(i, j), len(fps), 36931, seed=42)  # Pick 36931 diverse molecules\n",
    "\n"
   ]
  },
  {
   "cell_type": "code",
   "execution_count": 54,
   "id": "7ce0b119",
   "metadata": {},
   "outputs": [],
   "source": [
    "\n",
    "# picked_molecules = enmine_protein.iloc[pickedIndices]\n",
    "\n",
    "# # save as json\n",
    "# picked_molecules.to_json('data_mvi/picked_molecules.json')\n"
   ]
  },
  {
   "cell_type": "code",
   "execution_count": 69,
   "id": "20727adb",
   "metadata": {},
   "outputs": [],
   "source": [
    "# compute mol, ECFP6, and rna columns\n",
    "picked_molecules['mol'] = picked_molecules['SMILES'].apply(lambda x: Chem.MolFromSmiles(x))\n",
    "picked_molecules['ECFP6'] = picked_molecules['mol'].apply(lambda x: AllChem.GetMorganFingerprintAsBitVect(x, 3, nBits=2048))\n",
    "picked_molecules['rna'] = 0\n"
   ]
  },
  {
   "cell_type": "code",
   "execution_count": 70,
   "id": "75616e37",
   "metadata": {},
   "outputs": [
    {
     "data": {
      "text/html": [
       "<div>\n",
       "<style scoped>\n",
       "    .dataframe tbody tr th:only-of-type {\n",
       "        vertical-align: middle;\n",
       "    }\n",
       "\n",
       "    .dataframe tbody tr th {\n",
       "        vertical-align: top;\n",
       "    }\n",
       "\n",
       "    .dataframe thead th {\n",
       "        text-align: right;\n",
       "    }\n",
       "</style>\n",
       "<table border=\"1\" class=\"dataframe\">\n",
       "  <thead>\n",
       "    <tr style=\"text-align: right;\">\n",
       "      <th></th>\n",
       "      <th>source</th>\n",
       "      <th>SMILES</th>\n",
       "      <th>mol</th>\n",
       "      <th>ECFP6</th>\n",
       "      <th>rna</th>\n",
       "    </tr>\n",
       "  </thead>\n",
       "  <tbody>\n",
       "    <tr>\n",
       "      <th>201851</th>\n",
       "      <td>enmine_protein</td>\n",
       "      <td>CCCn1nc(C(=O)Nc2cc(-c3ccccc3F)no2)ccc1=O</td>\n",
       "      <td>&lt;rdkit.Chem.rdchem.Mol object at 0x7feed0c19970&gt;</td>\n",
       "      <td>[0, 1, 0, 0, 0, 0, 0, 0, 0, 0, 0, 0, 0, 0, 0, ...</td>\n",
       "      <td>0</td>\n",
       "    </tr>\n",
       "    <tr>\n",
       "      <th>245938</th>\n",
       "      <td>enmine_protein</td>\n",
       "      <td>O=S1(=O)CCCC(CS(=O)(=O)N2CCCC2CCC2CCCCC2)C1</td>\n",
       "      <td>&lt;rdkit.Chem.rdchem.Mol object at 0x7feed0c19890&gt;</td>\n",
       "      <td>[0, 0, 1, 0, 0, 0, 0, 0, 0, 0, 0, 0, 0, 0, 0, ...</td>\n",
       "      <td>0</td>\n",
       "    </tr>\n",
       "    <tr>\n",
       "      <th>155206</th>\n",
       "      <td>enmine_protein</td>\n",
       "      <td>N#Cc1ccc(Sc2nnc(-c3ccncc3)[nH]2)nc1</td>\n",
       "      <td>&lt;rdkit.Chem.rdchem.Mol object at 0x7feed0c19740&gt;</td>\n",
       "      <td>[0, 0, 0, 1, 0, 0, 0, 0, 0, 0, 0, 0, 0, 1, 0, ...</td>\n",
       "      <td>0</td>\n",
       "    </tr>\n",
       "    <tr>\n",
       "      <th>253229</th>\n",
       "      <td>enmine_protein</td>\n",
       "      <td>Nc1nc2c(c(N3CC4(CCCO4)C3)n1)CCCC2</td>\n",
       "      <td>&lt;rdkit.Chem.rdchem.Mol object at 0x7feece94a350&gt;</td>\n",
       "      <td>[0, 0, 0, 0, 0, 0, 0, 0, 0, 0, 0, 0, 0, 0, 0, ...</td>\n",
       "      <td>0</td>\n",
       "    </tr>\n",
       "    <tr>\n",
       "      <th>53938</th>\n",
       "      <td>enmine_protein</td>\n",
       "      <td>COC1(C)CC(NC(=O)C23CCC(C(=O)O)(CC2)C3)C1(C)C</td>\n",
       "      <td>&lt;rdkit.Chem.rdchem.Mol object at 0x7feece94a3c0&gt;</td>\n",
       "      <td>[0, 0, 0, 0, 0, 0, 0, 0, 0, 0, 0, 0, 0, 0, 0, ...</td>\n",
       "      <td>0</td>\n",
       "    </tr>\n",
       "    <tr>\n",
       "      <th>...</th>\n",
       "      <td>...</td>\n",
       "      <td>...</td>\n",
       "      <td>...</td>\n",
       "      <td>...</td>\n",
       "      <td>...</td>\n",
       "    </tr>\n",
       "    <tr>\n",
       "      <th>434464</th>\n",
       "      <td>enmine_protein</td>\n",
       "      <td>Cc1c(C(=O)N2CCN(Cc3ccncc3)CC2)sc2nccn12</td>\n",
       "      <td>&lt;rdkit.Chem.rdchem.Mol object at 0x7feecdee9c10&gt;</td>\n",
       "      <td>[0, 0, 0, 0, 0, 0, 0, 0, 0, 0, 0, 0, 0, 0, 0, ...</td>\n",
       "      <td>0</td>\n",
       "    </tr>\n",
       "    <tr>\n",
       "      <th>436530</th>\n",
       "      <td>enmine_protein</td>\n",
       "      <td>CN(Cc1n[nH]c(=O)[nH]1)C(=O)C1(C2CCC2)CCC1</td>\n",
       "      <td>&lt;rdkit.Chem.rdchem.Mol object at 0x7feecdee9c80&gt;</td>\n",
       "      <td>[0, 0, 0, 0, 0, 0, 0, 0, 0, 0, 0, 0, 0, 0, 0, ...</td>\n",
       "      <td>0</td>\n",
       "    </tr>\n",
       "    <tr>\n",
       "      <th>439378</th>\n",
       "      <td>enmine_protein</td>\n",
       "      <td>O=C(CNCc1ccc(Cl)cc1)Nc1ccccc1F</td>\n",
       "      <td>&lt;rdkit.Chem.rdchem.Mol object at 0x7feecdee9cf0&gt;</td>\n",
       "      <td>[0, 0, 0, 0, 0, 0, 0, 0, 0, 0, 0, 0, 0, 0, 0, ...</td>\n",
       "      <td>0</td>\n",
       "    </tr>\n",
       "    <tr>\n",
       "      <th>442224</th>\n",
       "      <td>enmine_protein</td>\n",
       "      <td>CC(NC(=O)C1CC=CCC1)c1ccc(S(C)(=O)=O)cc1</td>\n",
       "      <td>&lt;rdkit.Chem.rdchem.Mol object at 0x7feecdee9d60&gt;</td>\n",
       "      <td>[0, 1, 0, 0, 0, 0, 0, 0, 0, 0, 0, 0, 0, 0, 0, ...</td>\n",
       "      <td>0</td>\n",
       "    </tr>\n",
       "    <tr>\n",
       "      <th>446923</th>\n",
       "      <td>enmine_protein</td>\n",
       "      <td>CN(Cc1ccccc1F)S(=O)(=O)c1cccc(S(N)(=O)=O)c1</td>\n",
       "      <td>&lt;rdkit.Chem.rdchem.Mol object at 0x7feecdee9dd0&gt;</td>\n",
       "      <td>[0, 0, 0, 0, 0, 0, 0, 0, 0, 0, 0, 0, 0, 0, 0, ...</td>\n",
       "      <td>0</td>\n",
       "    </tr>\n",
       "  </tbody>\n",
       "</table>\n",
       "<p>36931 rows × 5 columns</p>\n",
       "</div>"
      ],
      "text/plain": [
       "                source                                        SMILES  \\\n",
       "201851  enmine_protein      CCCn1nc(C(=O)Nc2cc(-c3ccccc3F)no2)ccc1=O   \n",
       "245938  enmine_protein   O=S1(=O)CCCC(CS(=O)(=O)N2CCCC2CCC2CCCCC2)C1   \n",
       "155206  enmine_protein           N#Cc1ccc(Sc2nnc(-c3ccncc3)[nH]2)nc1   \n",
       "253229  enmine_protein             Nc1nc2c(c(N3CC4(CCCO4)C3)n1)CCCC2   \n",
       "53938   enmine_protein  COC1(C)CC(NC(=O)C23CCC(C(=O)O)(CC2)C3)C1(C)C   \n",
       "...                ...                                           ...   \n",
       "434464  enmine_protein       Cc1c(C(=O)N2CCN(Cc3ccncc3)CC2)sc2nccn12   \n",
       "436530  enmine_protein     CN(Cc1n[nH]c(=O)[nH]1)C(=O)C1(C2CCC2)CCC1   \n",
       "439378  enmine_protein                O=C(CNCc1ccc(Cl)cc1)Nc1ccccc1F   \n",
       "442224  enmine_protein       CC(NC(=O)C1CC=CCC1)c1ccc(S(C)(=O)=O)cc1   \n",
       "446923  enmine_protein   CN(Cc1ccccc1F)S(=O)(=O)c1cccc(S(N)(=O)=O)c1   \n",
       "\n",
       "                                                     mol  \\\n",
       "201851  <rdkit.Chem.rdchem.Mol object at 0x7feed0c19970>   \n",
       "245938  <rdkit.Chem.rdchem.Mol object at 0x7feed0c19890>   \n",
       "155206  <rdkit.Chem.rdchem.Mol object at 0x7feed0c19740>   \n",
       "253229  <rdkit.Chem.rdchem.Mol object at 0x7feece94a350>   \n",
       "53938   <rdkit.Chem.rdchem.Mol object at 0x7feece94a3c0>   \n",
       "...                                                  ...   \n",
       "434464  <rdkit.Chem.rdchem.Mol object at 0x7feecdee9c10>   \n",
       "436530  <rdkit.Chem.rdchem.Mol object at 0x7feecdee9c80>   \n",
       "439378  <rdkit.Chem.rdchem.Mol object at 0x7feecdee9cf0>   \n",
       "442224  <rdkit.Chem.rdchem.Mol object at 0x7feecdee9d60>   \n",
       "446923  <rdkit.Chem.rdchem.Mol object at 0x7feecdee9dd0>   \n",
       "\n",
       "                                                    ECFP6  rna  \n",
       "201851  [0, 1, 0, 0, 0, 0, 0, 0, 0, 0, 0, 0, 0, 0, 0, ...    0  \n",
       "245938  [0, 0, 1, 0, 0, 0, 0, 0, 0, 0, 0, 0, 0, 0, 0, ...    0  \n",
       "155206  [0, 0, 0, 1, 0, 0, 0, 0, 0, 0, 0, 0, 0, 1, 0, ...    0  \n",
       "253229  [0, 0, 0, 0, 0, 0, 0, 0, 0, 0, 0, 0, 0, 0, 0, ...    0  \n",
       "53938   [0, 0, 0, 0, 0, 0, 0, 0, 0, 0, 0, 0, 0, 0, 0, ...    0  \n",
       "...                                                   ...  ...  \n",
       "434464  [0, 0, 0, 0, 0, 0, 0, 0, 0, 0, 0, 0, 0, 0, 0, ...    0  \n",
       "436530  [0, 0, 0, 0, 0, 0, 0, 0, 0, 0, 0, 0, 0, 0, 0, ...    0  \n",
       "439378  [0, 0, 0, 0, 0, 0, 0, 0, 0, 0, 0, 0, 0, 0, 0, ...    0  \n",
       "442224  [0, 1, 0, 0, 0, 0, 0, 0, 0, 0, 0, 0, 0, 0, 0, ...    0  \n",
       "446923  [0, 0, 0, 0, 0, 0, 0, 0, 0, 0, 0, 0, 0, 0, 0, ...    0  \n",
       "\n",
       "[36931 rows x 5 columns]"
      ]
     },
     "execution_count": 70,
     "metadata": {},
     "output_type": "execute_result"
    }
   ],
   "source": [
    "picked_molecules"
   ]
  },
  {
   "cell_type": "code",
   "execution_count": 55,
   "id": "e441f57b",
   "metadata": {
    "execution": {
     "iopub.execute_input": "2024-01-11T22:16:05.421164Z",
     "iopub.status.busy": "2024-01-11T22:16:05.420856Z",
     "iopub.status.idle": "2024-01-11T22:16:05.432106Z",
     "shell.execute_reply": "2024-01-11T22:16:05.430462Z"
    },
    "papermill": {
     "duration": 0.045547,
     "end_time": "2024-01-11T22:16:05.435130",
     "exception": false,
     "start_time": "2024-01-11T22:16:05.389583",
     "status": "completed"
    },
    "tags": []
   },
   "outputs": [],
   "source": [
    "# combine all df\n",
    "df_small = pd.concat([chemdiv, enamine, picked_molecules, life_chemicals, robin], ignore_index=True)"
   ]
  },
  {
   "cell_type": "code",
   "execution_count": 56,
   "id": "92a64769",
   "metadata": {
    "execution": {
     "iopub.execute_input": "2024-01-11T22:16:05.508221Z",
     "iopub.status.busy": "2024-01-11T22:16:05.507874Z",
     "iopub.status.idle": "2024-01-11T22:16:05.527104Z",
     "shell.execute_reply": "2024-01-11T22:16:05.525571Z"
    },
    "papermill": {
     "duration": 0.065746,
     "end_time": "2024-01-11T22:16:05.529161",
     "exception": false,
     "start_time": "2024-01-11T22:16:05.463415",
     "status": "completed"
    },
    "tags": []
   },
   "outputs": [
    {
     "data": {
      "text/html": [
       "<div>\n",
       "<style scoped>\n",
       "    .dataframe tbody tr th:only-of-type {\n",
       "        vertical-align: middle;\n",
       "    }\n",
       "\n",
       "    .dataframe tbody tr th {\n",
       "        vertical-align: top;\n",
       "    }\n",
       "\n",
       "    .dataframe thead th {\n",
       "        text-align: right;\n",
       "    }\n",
       "</style>\n",
       "<table border=\"1\" class=\"dataframe\">\n",
       "  <thead>\n",
       "    <tr style=\"text-align: right;\">\n",
       "      <th></th>\n",
       "      <th>source</th>\n",
       "      <th>SMILES</th>\n",
       "      <th>mol</th>\n",
       "      <th>ECFP6</th>\n",
       "      <th>rna</th>\n",
       "    </tr>\n",
       "  </thead>\n",
       "  <tbody>\n",
       "    <tr>\n",
       "      <th>0</th>\n",
       "      <td>chemdiv</td>\n",
       "      <td>O=C(Nc1ccc2ccccc2c1)c1ccc2c(c1)C(=O)N(c1cccc(N...</td>\n",
       "      <td>&lt;rdkit.Chem.rdchem.Mol object at 0x7ff16f398740&gt;</td>\n",
       "      <td>[0, 0, 0, 0, 0, 0, 0, 0, 0, 0, 0, 0, 0, 0, 0, ...</td>\n",
       "      <td>1</td>\n",
       "    </tr>\n",
       "    <tr>\n",
       "      <th>19912</th>\n",
       "      <td>enamine</td>\n",
       "      <td>CCOc1ccc(-n2c(-c3ccc(CC)cc3)cn3c4ccc5ccccc5c4n...</td>\n",
       "      <td>&lt;rdkit.Chem.rdchem.Mol object at 0x7ff16fc84890&gt;</td>\n",
       "      <td>[0, 0, 0, 0, 0, 0, 0, 0, 0, 0, 0, 0, 0, 0, 0, ...</td>\n",
       "      <td>1</td>\n",
       "    </tr>\n",
       "    <tr>\n",
       "      <th>30986</th>\n",
       "      <td>enmine_protein</td>\n",
       "      <td>CCCn1nc(C(=O)Nc2cc(-c3ccccc3F)no2)ccc1=O</td>\n",
       "      <td>&lt;rdkit.Chem.rdchem.Mol object at 0x7ff172ef2660&gt;</td>\n",
       "      <td>[0, 1, 0, 0, 0, 0, 0, 0, 0, 0, 0, 0, 0, 0, 0, ...</td>\n",
       "      <td>0</td>\n",
       "    </tr>\n",
       "    <tr>\n",
       "      <th>67917</th>\n",
       "      <td>life_chemicals</td>\n",
       "      <td>CN1CCCN(c2cc(C#N)ccn2)CC1.Cl.Cl</td>\n",
       "      <td>&lt;rdkit.Chem.rdchem.Mol object at 0x7fef9b2deba0&gt;</td>\n",
       "      <td>[0, 0, 0, 0, 0, 0, 0, 0, 0, 0, 0, 0, 0, 0, 1, ...</td>\n",
       "      <td>1</td>\n",
       "    </tr>\n",
       "    <tr>\n",
       "      <th>71871</th>\n",
       "      <td>robin</td>\n",
       "      <td>CC(=O)c1ccc(Br)c(N)c1</td>\n",
       "      <td>&lt;rdkit.Chem.rdchem.Mol object at 0x7fef95b4c900&gt;</td>\n",
       "      <td>[0, 0, 0, 0, 0, 0, 0, 0, 0, 0, 0, 0, 0, 0, 0, ...</td>\n",
       "      <td>1</td>\n",
       "    </tr>\n",
       "  </tbody>\n",
       "</table>\n",
       "</div>"
      ],
      "text/plain": [
       "               source                                             SMILES  \\\n",
       "0             chemdiv  O=C(Nc1ccc2ccccc2c1)c1ccc2c(c1)C(=O)N(c1cccc(N...   \n",
       "19912         enamine  CCOc1ccc(-n2c(-c3ccc(CC)cc3)cn3c4ccc5ccccc5c4n...   \n",
       "30986  enmine_protein           CCCn1nc(C(=O)Nc2cc(-c3ccccc3F)no2)ccc1=O   \n",
       "67917  life_chemicals                    CN1CCCN(c2cc(C#N)ccn2)CC1.Cl.Cl   \n",
       "71871           robin                              CC(=O)c1ccc(Br)c(N)c1   \n",
       "\n",
       "                                                    mol  \\\n",
       "0      <rdkit.Chem.rdchem.Mol object at 0x7ff16f398740>   \n",
       "19912  <rdkit.Chem.rdchem.Mol object at 0x7ff16fc84890>   \n",
       "30986  <rdkit.Chem.rdchem.Mol object at 0x7ff172ef2660>   \n",
       "67917  <rdkit.Chem.rdchem.Mol object at 0x7fef9b2deba0>   \n",
       "71871  <rdkit.Chem.rdchem.Mol object at 0x7fef95b4c900>   \n",
       "\n",
       "                                                   ECFP6  rna  \n",
       "0      [0, 0, 0, 0, 0, 0, 0, 0, 0, 0, 0, 0, 0, 0, 0, ...    1  \n",
       "19912  [0, 0, 0, 0, 0, 0, 0, 0, 0, 0, 0, 0, 0, 0, 0, ...    1  \n",
       "30986  [0, 1, 0, 0, 0, 0, 0, 0, 0, 0, 0, 0, 0, 0, 0, ...    0  \n",
       "67917  [0, 0, 0, 0, 0, 0, 0, 0, 0, 0, 0, 0, 0, 0, 1, ...    1  \n",
       "71871  [0, 0, 0, 0, 0, 0, 0, 0, 0, 0, 0, 0, 0, 0, 0, ...    1  "
      ]
     },
     "execution_count": 56,
     "metadata": {},
     "output_type": "execute_result"
    }
   ],
   "source": [
    "df_small.groupby('source').head(1)"
   ]
  },
  {
   "cell_type": "code",
   "execution_count": 57,
   "id": "77008e36",
   "metadata": {
    "execution": {
     "iopub.execute_input": "2024-01-11T22:16:05.576709Z",
     "iopub.status.busy": "2024-01-11T22:16:05.576444Z",
     "iopub.status.idle": "2024-01-11T22:16:05.585318Z",
     "shell.execute_reply": "2024-01-11T22:16:05.583962Z"
    },
    "papermill": {
     "duration": 0.033828,
     "end_time": "2024-01-11T22:16:05.587515",
     "exception": false,
     "start_time": "2024-01-11T22:16:05.553687",
     "status": "completed"
    },
    "tags": []
   },
   "outputs": [
    {
     "data": {
      "text/plain": [
       "rna\n",
       "1    36931\n",
       "0    36931\n",
       "Name: count, dtype: int64"
      ]
     },
     "execution_count": 57,
     "metadata": {},
     "output_type": "execute_result"
    }
   ],
   "source": [
    "df_small['rna'].value_counts()"
   ]
  },
  {
   "cell_type": "markdown",
   "id": "d4bbfea3",
   "metadata": {
    "papermill": {
     "duration": 0.019421,
     "end_time": "2024-01-11T22:16:05.625355",
     "exception": false,
     "start_time": "2024-01-11T22:16:05.605934",
     "status": "completed"
    },
    "tags": []
   },
   "source": [
    "Check for the inconsistency\n"
   ]
  },
  {
   "cell_type": "code",
   "execution_count": 58,
   "id": "3d6ef64f",
   "metadata": {
    "execution": {
     "iopub.execute_input": "2024-01-11T22:16:05.687101Z",
     "iopub.status.busy": "2024-01-11T22:16:05.686808Z",
     "iopub.status.idle": "2024-01-11T22:16:05.703859Z",
     "shell.execute_reply": "2024-01-11T22:16:05.702207Z"
    },
    "papermill": {
     "duration": 0.056478,
     "end_time": "2024-01-11T22:16:05.707726",
     "exception": false,
     "start_time": "2024-01-11T22:16:05.651248",
     "status": "completed"
    },
    "tags": []
   },
   "outputs": [],
   "source": [
    "# drop SMILES column\n",
    "df_small = df_small.drop(['SMILES'], axis=1)"
   ]
  },
  {
   "cell_type": "code",
   "execution_count": 59,
   "id": "8d7a9870",
   "metadata": {
    "execution": {
     "iopub.execute_input": "2024-01-11T22:16:06.003427Z",
     "iopub.status.busy": "2024-01-11T22:16:06.003144Z",
     "iopub.status.idle": "2024-01-11T22:17:49.293671Z",
     "shell.execute_reply": "2024-01-11T22:17:49.291792Z"
    },
    "papermill": {
     "duration": 103.517301,
     "end_time": "2024-01-11T22:17:49.298793",
     "exception": false,
     "start_time": "2024-01-11T22:16:05.781492",
     "status": "completed"
    },
    "tags": []
   },
   "outputs": [],
   "source": [
    "df_small['mol'] = df_small['mol'].apply(lambda mol: standardizer.standardize_mol(mol))"
   ]
  },
  {
   "cell_type": "code",
   "execution_count": 60,
   "id": "744caf85",
   "metadata": {
    "execution": {
     "iopub.execute_input": "2024-01-11T22:17:49.370401Z",
     "iopub.status.busy": "2024-01-11T22:17:49.370077Z",
     "iopub.status.idle": "2024-01-11T22:17:56.189727Z",
     "shell.execute_reply": "2024-01-11T22:17:56.187804Z"
    },
    "papermill": {
     "duration": 6.857243,
     "end_time": "2024-01-11T22:17:56.194611",
     "exception": false,
     "start_time": "2024-01-11T22:17:49.337368",
     "status": "completed"
    },
    "tags": []
   },
   "outputs": [],
   "source": [
    "# compute SMILES for each molecule\n",
    "df_small['SMILES'] = df_small['mol'].apply(lambda mol: Chem.MolToSmiles(mol))"
   ]
  },
  {
   "cell_type": "code",
   "execution_count": 61,
   "id": "96807bcc",
   "metadata": {},
   "outputs": [
    {
     "data": {
      "text/html": [
       "<div>\n",
       "<style scoped>\n",
       "    .dataframe tbody tr th:only-of-type {\n",
       "        vertical-align: middle;\n",
       "    }\n",
       "\n",
       "    .dataframe tbody tr th {\n",
       "        vertical-align: top;\n",
       "    }\n",
       "\n",
       "    .dataframe thead th {\n",
       "        text-align: right;\n",
       "    }\n",
       "</style>\n",
       "<table border=\"1\" class=\"dataframe\">\n",
       "  <thead>\n",
       "    <tr style=\"text-align: right;\">\n",
       "      <th></th>\n",
       "      <th>source</th>\n",
       "      <th>mol</th>\n",
       "      <th>ECFP6</th>\n",
       "      <th>rna</th>\n",
       "      <th>SMILES</th>\n",
       "    </tr>\n",
       "  </thead>\n",
       "  <tbody>\n",
       "    <tr>\n",
       "      <th>0</th>\n",
       "      <td>chemdiv</td>\n",
       "      <td>&lt;rdkit.Chem.rdchem.Mol object at 0x7ff1eae47200&gt;</td>\n",
       "      <td>[0, 0, 0, 0, 0, 0, 0, 0, 0, 0, 0, 0, 0, 0, 0, ...</td>\n",
       "      <td>1</td>\n",
       "      <td>O=C(Nc1ccc2ccccc2c1)c1ccc2c(c1)C(=O)N(c1cccc(N...</td>\n",
       "    </tr>\n",
       "    <tr>\n",
       "      <th>1</th>\n",
       "      <td>chemdiv</td>\n",
       "      <td>&lt;rdkit.Chem.rdchem.Mol object at 0x7ff1eb7a2510&gt;</td>\n",
       "      <td>[0, 1, 0, 0, 0, 0, 0, 0, 0, 0, 0, 0, 0, 0, 0, ...</td>\n",
       "      <td>1</td>\n",
       "      <td>O=C(CSc1nnc(-c2ccccc2Cl)n1-c1ccccc1)c1ccc2c(c1...</td>\n",
       "    </tr>\n",
       "    <tr>\n",
       "      <th>2</th>\n",
       "      <td>chemdiv</td>\n",
       "      <td>&lt;rdkit.Chem.rdchem.Mol object at 0x7ff1eae47270&gt;</td>\n",
       "      <td>[0, 0, 0, 0, 0, 0, 0, 0, 0, 0, 0, 0, 0, 0, 0, ...</td>\n",
       "      <td>1</td>\n",
       "      <td>Cc1ccc(-n2c(=O)c3c4c(sc3n3c(SCC(=O)c5ccccc5)nn...</td>\n",
       "    </tr>\n",
       "    <tr>\n",
       "      <th>3</th>\n",
       "      <td>chemdiv</td>\n",
       "      <td>&lt;rdkit.Chem.rdchem.Mol object at 0x7ff1eae472e0&gt;</td>\n",
       "      <td>[0, 0, 0, 0, 0, 0, 0, 0, 0, 1, 0, 0, 0, 0, 0, ...</td>\n",
       "      <td>1</td>\n",
       "      <td>O=C(Nc1ccc(C(=O)c2ccccc2)cc1)c1ccc(Oc2ccc(C(=O...</td>\n",
       "    </tr>\n",
       "    <tr>\n",
       "      <th>4</th>\n",
       "      <td>chemdiv</td>\n",
       "      <td>&lt;rdkit.Chem.rdchem.Mol object at 0x7fef2c789270&gt;</td>\n",
       "      <td>[0, 1, 0, 0, 0, 0, 0, 0, 0, 0, 1, 0, 0, 0, 0, ...</td>\n",
       "      <td>1</td>\n",
       "      <td>O=C(Nc1ccc(Oc2cccc(Oc3ccc(NC(=O)c4ccccc4Cl)cc3...</td>\n",
       "    </tr>\n",
       "    <tr>\n",
       "      <th>...</th>\n",
       "      <td>...</td>\n",
       "      <td>...</td>\n",
       "      <td>...</td>\n",
       "      <td>...</td>\n",
       "      <td>...</td>\n",
       "    </tr>\n",
       "    <tr>\n",
       "      <th>73857</th>\n",
       "      <td>robin</td>\n",
       "      <td>&lt;rdkit.Chem.rdchem.Mol object at 0x7feed3607660&gt;</td>\n",
       "      <td>[0, 1, 0, 0, 0, 0, 0, 0, 0, 1, 0, 0, 0, 0, 0, ...</td>\n",
       "      <td>1</td>\n",
       "      <td>C=CC(=O)Nc1cccc(Nc2nc(N[C@H]3CC[C@H](N(C)C)CC3...</td>\n",
       "    </tr>\n",
       "    <tr>\n",
       "      <th>73858</th>\n",
       "      <td>robin</td>\n",
       "      <td>&lt;rdkit.Chem.rdchem.Mol object at 0x7feed36076d0&gt;</td>\n",
       "      <td>[0, 0, 0, 0, 0, 0, 0, 0, 0, 0, 0, 0, 0, 0, 0, ...</td>\n",
       "      <td>1</td>\n",
       "      <td>N#C/C(C(=O)c1ccc(Cl)cc1Cl)=C1\\NC(=O)c2ccc(Cl)c...</td>\n",
       "    </tr>\n",
       "    <tr>\n",
       "      <th>73859</th>\n",
       "      <td>robin</td>\n",
       "      <td>&lt;rdkit.Chem.rdchem.Mol object at 0x7feed3607740&gt;</td>\n",
       "      <td>[0, 1, 0, 0, 0, 0, 0, 0, 0, 0, 0, 0, 0, 0, 0, ...</td>\n",
       "      <td>1</td>\n",
       "      <td>C[C@H](N[C@H]1C[C@H]1c1ccccc1)c1ccc2c(c1)OCCO2</td>\n",
       "    </tr>\n",
       "    <tr>\n",
       "      <th>73860</th>\n",
       "      <td>robin</td>\n",
       "      <td>&lt;rdkit.Chem.rdchem.Mol object at 0x7feed36077b0&gt;</td>\n",
       "      <td>[0, 1, 0, 1, 0, 0, 0, 0, 0, 0, 0, 0, 0, 0, 0, ...</td>\n",
       "      <td>1</td>\n",
       "      <td>NCCC[C@@H](N)CC(=O)N[C@H]1CNC(=O)[C@@H]([C@@H]...</td>\n",
       "    </tr>\n",
       "    <tr>\n",
       "      <th>73861</th>\n",
       "      <td>robin</td>\n",
       "      <td>&lt;rdkit.Chem.rdchem.Mol object at 0x7feed3607820&gt;</td>\n",
       "      <td>[0, 0, 0, 0, 0, 0, 0, 0, 0, 0, 0, 0, 0, 0, 0, ...</td>\n",
       "      <td>1</td>\n",
       "      <td>CC(C)=CCC/C(C)=C\\CNCCN[C@H]1[C@@H]2C[C@H]3C[C@...</td>\n",
       "    </tr>\n",
       "  </tbody>\n",
       "</table>\n",
       "<p>73862 rows × 5 columns</p>\n",
       "</div>"
      ],
      "text/plain": [
       "        source                                               mol  \\\n",
       "0      chemdiv  <rdkit.Chem.rdchem.Mol object at 0x7ff1eae47200>   \n",
       "1      chemdiv  <rdkit.Chem.rdchem.Mol object at 0x7ff1eb7a2510>   \n",
       "2      chemdiv  <rdkit.Chem.rdchem.Mol object at 0x7ff1eae47270>   \n",
       "3      chemdiv  <rdkit.Chem.rdchem.Mol object at 0x7ff1eae472e0>   \n",
       "4      chemdiv  <rdkit.Chem.rdchem.Mol object at 0x7fef2c789270>   \n",
       "...        ...                                               ...   \n",
       "73857    robin  <rdkit.Chem.rdchem.Mol object at 0x7feed3607660>   \n",
       "73858    robin  <rdkit.Chem.rdchem.Mol object at 0x7feed36076d0>   \n",
       "73859    robin  <rdkit.Chem.rdchem.Mol object at 0x7feed3607740>   \n",
       "73860    robin  <rdkit.Chem.rdchem.Mol object at 0x7feed36077b0>   \n",
       "73861    robin  <rdkit.Chem.rdchem.Mol object at 0x7feed3607820>   \n",
       "\n",
       "                                                   ECFP6  rna  \\\n",
       "0      [0, 0, 0, 0, 0, 0, 0, 0, 0, 0, 0, 0, 0, 0, 0, ...    1   \n",
       "1      [0, 1, 0, 0, 0, 0, 0, 0, 0, 0, 0, 0, 0, 0, 0, ...    1   \n",
       "2      [0, 0, 0, 0, 0, 0, 0, 0, 0, 0, 0, 0, 0, 0, 0, ...    1   \n",
       "3      [0, 0, 0, 0, 0, 0, 0, 0, 0, 1, 0, 0, 0, 0, 0, ...    1   \n",
       "4      [0, 1, 0, 0, 0, 0, 0, 0, 0, 0, 1, 0, 0, 0, 0, ...    1   \n",
       "...                                                  ...  ...   \n",
       "73857  [0, 1, 0, 0, 0, 0, 0, 0, 0, 1, 0, 0, 0, 0, 0, ...    1   \n",
       "73858  [0, 0, 0, 0, 0, 0, 0, 0, 0, 0, 0, 0, 0, 0, 0, ...    1   \n",
       "73859  [0, 1, 0, 0, 0, 0, 0, 0, 0, 0, 0, 0, 0, 0, 0, ...    1   \n",
       "73860  [0, 1, 0, 1, 0, 0, 0, 0, 0, 0, 0, 0, 0, 0, 0, ...    1   \n",
       "73861  [0, 0, 0, 0, 0, 0, 0, 0, 0, 0, 0, 0, 0, 0, 0, ...    1   \n",
       "\n",
       "                                                  SMILES  \n",
       "0      O=C(Nc1ccc2ccccc2c1)c1ccc2c(c1)C(=O)N(c1cccc(N...  \n",
       "1      O=C(CSc1nnc(-c2ccccc2Cl)n1-c1ccccc1)c1ccc2c(c1...  \n",
       "2      Cc1ccc(-n2c(=O)c3c4c(sc3n3c(SCC(=O)c5ccccc5)nn...  \n",
       "3      O=C(Nc1ccc(C(=O)c2ccccc2)cc1)c1ccc(Oc2ccc(C(=O...  \n",
       "4      O=C(Nc1ccc(Oc2cccc(Oc3ccc(NC(=O)c4ccccc4Cl)cc3...  \n",
       "...                                                  ...  \n",
       "73857  C=CC(=O)Nc1cccc(Nc2nc(N[C@H]3CC[C@H](N(C)C)CC3...  \n",
       "73858  N#C/C(C(=O)c1ccc(Cl)cc1Cl)=C1\\NC(=O)c2ccc(Cl)c...  \n",
       "73859     C[C@H](N[C@H]1C[C@H]1c1ccccc1)c1ccc2c(c1)OCCO2  \n",
       "73860  NCCC[C@@H](N)CC(=O)N[C@H]1CNC(=O)[C@@H]([C@@H]...  \n",
       "73861  CC(C)=CCC/C(C)=C\\CNCCN[C@H]1[C@@H]2C[C@H]3C[C@...  \n",
       "\n",
       "[73862 rows x 5 columns]"
      ]
     },
     "execution_count": 61,
     "metadata": {},
     "output_type": "execute_result"
    }
   ],
   "source": [
    "# Assuming df_small is your existing DataFrame\n",
    "# Initialize a list to store molecules with disconnected components\n",
    "disconnected_mols = []\n",
    "\n",
    "# Check for valid SMILES and Mols\n",
    "for idx, row in df_small.iterrows():\n",
    "    smiles = row['SMILES']\n",
    "    mol = Chem.MolFromSmiles(smiles)\n",
    "\n",
    "    if mol is None:\n",
    "        print(f\"Invalid SMILES string at index {idx}: {smiles}\")\n",
    "        continue\n",
    "\n",
    "    # Check if the molecule has more than one fragment (possible salt)\n",
    "    num_components = Chem.GetMolFrags(mol, asMols=False, sanitizeFrags=False)\n",
    "    if len(num_components) > 1:\n",
    "        # Standardize the molecule and remove salts\n",
    "        std_mol = standardizer.standardize_mol(mol)\n",
    "        parent_mol, _ = standardizer.get_parent_mol(std_mol)\n",
    "\n",
    "        if parent_mol is None or parent_mol.GetNumAtoms() == 0:\n",
    "            print(f\"Invalid Mol object at index {idx}: {smiles}\")\n",
    "            continue\n",
    "\n",
    "        # Update the DataFrame with the salt-free molecule\n",
    "        df_small.at[idx, 'mol'] = parent_mol\n",
    "        df_small.at[idx, 'SMILES'] = Chem.MolToSmiles(parent_mol)\n",
    "    else:\n",
    "        # For molecules without salts, just update the original molecule\n",
    "        df_small.at[idx, 'mol'] = mol\n",
    "\n",
    "# Convert the list of molecules with disconnected components to a DataFrame\n",
    "disconnected_mols_df = pd.DataFrame(disconnected_mols)\n",
    "# Save disconnected_mols_df to a JSON file\n",
    "disconnected_mols_df.to_json('disconnected_mols_df.json')\n",
    "\n",
    "# Displaying the updated DataFrame\n",
    "df_small\n"
   ]
  },
  {
   "cell_type": "code",
   "execution_count": 62,
   "id": "74e31c9a",
   "metadata": {
    "execution": {
     "iopub.execute_input": "2024-01-11T22:17:56.288362Z",
     "iopub.status.busy": "2024-01-11T22:17:56.288004Z",
     "iopub.status.idle": "2024-01-11T22:18:29.516642Z",
     "shell.execute_reply": "2024-01-11T22:18:29.514618Z"
    },
    "papermill": {
     "duration": 33.283122,
     "end_time": "2024-01-11T22:18:29.520779",
     "exception": false,
     "start_time": "2024-01-11T22:17:56.237657",
     "status": "completed"
    },
    "tags": []
   },
   "outputs": [],
   "source": [
    "from rdkit import Chem\n",
    "import pandas as pd\n",
    "\n",
    "# Initialize a list to store molecules with disconnected components\n",
    "disconnected_mols = []\n",
    "\n",
    "# Check for valid SMILES and Mols\n",
    "for idx, row in df_small.iterrows():\n",
    "    smiles = row['SMILES']\n",
    "    mol = row['mol']\n",
    "    source = row['source']\n",
    "\n",
    "    # Check if the SMILES string can be converted to a valid RDKit Mol object\n",
    "    mol_from_smiles = Chem.MolFromSmiles(smiles)\n",
    "    if mol_from_smiles is None:\n",
    "        print(f\"Invalid SMILES string at index {idx}: {smiles}\")\n",
    "        continue\n",
    "\n",
    "    # Check if the Mol object is valid (no disconnected components)\n",
    "    if mol is None or mol.GetNumAtoms() == 0:\n",
    "        print(f\"Invalid Mol object at index {idx}: {smiles}\")\n",
    "        continue\n",
    "\n",
    "    # Check for disconnected components in Mol objects\n",
    "    if mol is not None:\n",
    "        # Get the number of disconnected components\n",
    "        num_components = Chem.GetMolFrags(mol, asMols=False, sanitizeFrags=False)\n",
    "        if len(num_components) > 1:\n",
    "            print(f\"Disconnected components in molecule at index {idx}: {smiles}, from source {source}\")\n",
    "            disconnected_mols.append(row)\n",
    "            df_small.drop(idx, inplace=True)\n",
    "\n",
    "# Convert the list to a DataFrame\n",
    "disconnected_mols_df = pd.DataFrame(disconnected_mols)\n",
    "# save disconnected_mols_df to json file\n",
    "disconnected_mols_df.to_json('disconnected_mols_df.json')\n",
    "\n"
   ]
  },
  {
   "cell_type": "code",
   "execution_count": 65,
   "id": "da83c426",
   "metadata": {},
   "outputs": [
    {
     "data": {
      "text/plain": [
       "(0, 0)"
      ]
     },
     "execution_count": 65,
     "metadata": {},
     "output_type": "execute_result"
    }
   ],
   "source": [
    "disconnected_mols_df.shape"
   ]
  },
  {
   "cell_type": "markdown",
   "id": "ff4a47d5",
   "metadata": {
    "papermill": {
     "duration": 0.064893,
     "end_time": "2024-01-11T22:18:29.757537",
     "exception": false,
     "start_time": "2024-01-11T22:18:29.692644",
     "status": "completed"
    },
    "tags": []
   },
   "source": [
    "## Create Graphs from molecules and add features to nodes (atoms) - mainly one hot encoding , edges (bonds)"
   ]
  },
  {
   "cell_type": "code",
   "execution_count": null,
   "id": "7efa2744",
   "metadata": {
    "execution": {
     "iopub.execute_input": "2024-01-11T22:18:29.825587Z",
     "iopub.status.busy": "2024-01-11T22:18:29.825310Z",
     "iopub.status.idle": "2024-01-11T22:20:55.353731Z",
     "shell.execute_reply": "2024-01-11T22:20:55.351735Z"
    },
    "papermill": {
     "duration": 145.558903,
     "end_time": "2024-01-11T22:20:55.359164",
     "exception": false,
     "start_time": "2024-01-11T22:18:29.800261",
     "status": "completed"
    },
    "tags": []
   },
   "outputs": [],
   "source": [
    "def create_graphs_from_dataframe(df):\n",
    "    graphs = []\n",
    "    labels = []\n",
    "\n",
    "    for index, row in df.iterrows():\n",
    "        mol = row['mol']  # RDKit Mol object\n",
    "        label = row['rna']  # Binary label\n",
    "\n",
    "        # Convert RDKit molecule to a bi-directed DGLGraph and featurize\n",
    "        graph = mol_to_bigraph(mol,  # mol_to_bigraph\n",
    "                               node_featurizer=CanonicalAtomFeaturizer(),\n",
    "                               edge_featurizer=CanonicalBondFeaturizer(self_loop=False),\n",
    "                               explicit_hydrogens=False,\n",
    "                               add_self_loop=False)\n",
    "               \n",
    "        # graph = dgl.add_self_loop(graph)\n",
    "        graphs.append(graph)\n",
    "        labels.append(label)\n",
    "\n",
    "    return graphs, torch.tensor(labels).unsqueeze(1)\n",
    "\n",
    "\n",
    "# Create graphs and labels from the DataFrame\n",
    "graphs, labels = create_graphs_from_dataframe(df_small)\n",
    "\n",
    "# Now, 'graphs' is a list of DGLGraphs, and 'labels' is a tensor of labels \n",
    "# corresponding to each graph. We can use DGL's batch utility function to\n",
    "# batch these graphs together into a single large graph. This is a common\n",
    "# technique for training GNNs on multiple graphs."
   ]
  },
  {
   "cell_type": "markdown",
   "id": "d6bc45d4",
   "metadata": {
    "papermill": {
     "duration": 0.051142,
     "end_time": "2024-01-11T22:20:55.467318",
     "exception": false,
     "start_time": "2024-01-11T22:20:55.416176",
     "status": "completed"
    },
    "tags": []
   },
   "source": [
    "save graphs - tensors"
   ]
  },
  {
   "cell_type": "code",
   "execution_count": null,
   "id": "194c8a47",
   "metadata": {
    "execution": {
     "iopub.execute_input": "2024-01-11T22:20:55.528955Z",
     "iopub.status.busy": "2024-01-11T22:20:55.528664Z",
     "iopub.status.idle": "2024-01-11T22:21:19.138093Z",
     "shell.execute_reply": "2024-01-11T22:21:19.135920Z"
    },
    "papermill": {
     "duration": 23.639159,
     "end_time": "2024-01-11T22:21:19.142845",
     "exception": false,
     "start_time": "2024-01-11T22:20:55.503686",
     "status": "completed"
    },
    "tags": []
   },
   "outputs": [],
   "source": [
    "graph_labels = df_small[['source', 'rna']].to_dict('records')  # Convert relevant columns to a list of dictionaries\n",
    "\n",
    "# Save the graphs\n",
    "dgl.save_graphs('data_mvi/molecule_graphs_orig.bin', graphs)\n",
    "\n",
    "# Save the labels and additional information\n",
    "with open('graph_labels.json', 'w') as f:\n",
    "    json.dump(graph_labels, f)\n"
   ]
  },
  {
   "cell_type": "code",
   "execution_count": null,
   "id": "730a9eb6",
   "metadata": {
    "execution": {
     "iopub.execute_input": "2024-01-11T22:21:19.286631Z",
     "iopub.status.busy": "2024-01-11T22:21:19.286338Z",
     "iopub.status.idle": "2024-01-11T22:21:30.128343Z",
     "shell.execute_reply": "2024-01-11T22:21:30.126490Z"
    },
    "papermill": {
     "duration": 10.93592,
     "end_time": "2024-01-11T22:21:30.133083",
     "exception": false,
     "start_time": "2024-01-11T22:21:19.197163",
     "status": "completed"
    },
    "tags": []
   },
   "outputs": [],
   "source": [
    "# Load the graphs\n",
    "loaded_graphs_orig, _ = dgl.load_graphs('data_mvi/molecule_graphs_orig.bin')\n",
    "\n",
    "# Load the labels and additional information\n",
    "with open('graph_labels.json', 'r') as f:\n",
    "    loaded_graph_labels = json.load(f)\n",
    "\n",
    "# You can now reconstruct a DataFrame or directly use the loaded data\n",
    "reconstructed_df = pd.DataFrame(loaded_graph_labels)\n"
   ]
  },
  {
   "cell_type": "markdown",
   "id": "950779a5",
   "metadata": {
    "papermill": {
     "duration": 0.047631,
     "end_time": "2024-01-11T22:21:30.235224",
     "exception": false,
     "start_time": "2024-01-11T22:21:30.187593",
     "status": "completed"
    },
    "tags": []
   },
   "source": [
    "### Visualization of the graph representation "
   ]
  },
  {
   "cell_type": "code",
   "execution_count": null,
   "id": "c418b2fc",
   "metadata": {
    "execution": {
     "iopub.execute_input": "2024-01-11T22:21:30.373298Z",
     "iopub.status.busy": "2024-01-11T22:21:30.372864Z",
     "iopub.status.idle": "2024-01-11T22:21:30.739377Z",
     "shell.execute_reply": "2024-01-11T22:21:30.737581Z"
    },
    "papermill": {
     "duration": 0.43449,
     "end_time": "2024-01-11T22:21:30.742408",
     "exception": false,
     "start_time": "2024-01-11T22:21:30.307918",
     "status": "completed"
    },
    "tags": []
   },
   "outputs": [],
   "source": [
    "def visualize_dgl_graph(dgl_graph):\n",
    "    g = dgl.to_networkx(dgl_graph)  # Convert DGL graph to a NetworkX graph\n",
    "    pos = nx.spring_layout(g)  # Position nodes using Fruchterman-Reingold force-directed algorithm\n",
    "    nx.draw(g, pos, with_labels=False, node_color='skyblue', node_size=200, edge_color='black')\n",
    "    plt.show()\n",
    "\n",
    "# Visualize the first graph in the list\n",
    "visualize_dgl_graph(loaded_graphs_orig[42])"
   ]
  },
  {
   "cell_type": "code",
   "execution_count": null,
   "id": "d3d3e018",
   "metadata": {
    "execution": {
     "iopub.execute_input": "2024-01-11T22:21:30.808681Z",
     "iopub.status.busy": "2024-01-11T22:21:30.808390Z",
     "iopub.status.idle": "2024-01-11T22:21:30.859589Z",
     "shell.execute_reply": "2024-01-11T22:21:30.858052Z"
    },
    "papermill": {
     "duration": 0.091386,
     "end_time": "2024-01-11T22:21:30.861861",
     "exception": false,
     "start_time": "2024-01-11T22:21:30.770475",
     "status": "completed"
    },
    "tags": []
   },
   "outputs": [],
   "source": [
    "\n",
    "mol = df_small['mol'][42]\n",
    "AllChem.Compute2DCoords(mol)\n",
    "# draw the molecule\n",
    "Draw.MolToImage(mol, size=(600, 600))"
   ]
  },
  {
   "cell_type": "markdown",
   "id": "2e9273d5",
   "metadata": {
    "papermill": {
     "duration": 0.223807,
     "end_time": "2024-01-11T22:21:31.110255",
     "exception": false,
     "start_time": "2024-01-11T22:21:30.886448",
     "status": "completed"
    },
    "tags": []
   },
   "source": [
    "# Create train and test set"
   ]
  },
  {
   "cell_type": "code",
   "execution_count": null,
   "id": "475b6d60",
   "metadata": {
    "execution": {
     "iopub.execute_input": "2024-01-11T22:21:31.346277Z",
     "iopub.status.busy": "2024-01-11T22:21:31.345934Z",
     "iopub.status.idle": "2024-01-11T22:21:31.415670Z",
     "shell.execute_reply": "2024-01-11T22:21:31.413884Z"
    },
    "papermill": {
     "duration": 0.171049,
     "end_time": "2024-01-11T22:21:31.418107",
     "exception": false,
     "start_time": "2024-01-11T22:21:31.247058",
     "status": "completed"
    },
    "tags": []
   },
   "outputs": [],
   "source": [
    "# First split into training and test sets\n",
    "train_graphs, test_graphs, train_labels, test_labels = train_test_split(\n",
    "    loaded_graphs_orig, \n",
    "    reconstructed_df['rna'], \n",
    "    test_size=0.2, \n",
    "    random_state=42\n",
    ")\n",
    "\n",
    "# Further split the training set into training and validation sets\n",
    "train_graphs, val_graphs, train_labels, val_labels = train_test_split(\n",
    "    train_graphs, \n",
    "    train_labels, \n",
    "    test_size=0.2,  # 20% of the original training set for validation\n",
    "    random_state=42\n",
    ")\n",
    "\n",
    "# merge train and val,  labels are Series\n",
    "train_graphs_all = train_graphs + val_graphs\n",
    "train_labels_all = pd.concat([train_labels, val_labels])"
   ]
  },
  {
   "cell_type": "markdown",
   "id": "1bf3313a",
   "metadata": {
    "papermill": {
     "duration": 0.0679,
     "end_time": "2024-01-11T22:21:31.540738",
     "exception": false,
     "start_time": "2024-01-11T22:21:31.472838",
     "status": "completed"
    },
    "tags": []
   },
   "source": [
    "there was a problem with few isolated nodes in few graphs so I added loops to each node to have information at least about themselfs"
   ]
  },
  {
   "cell_type": "code",
   "execution_count": null,
   "id": "272cdcfe",
   "metadata": {
    "execution": {
     "iopub.execute_input": "2024-01-11T22:21:31.806147Z",
     "iopub.status.busy": "2024-01-11T22:21:31.805817Z",
     "iopub.status.idle": "2024-01-11T22:21:43.340148Z",
     "shell.execute_reply": "2024-01-11T22:21:43.339171Z"
    },
    "papermill": {
     "duration": 11.59084,
     "end_time": "2024-01-11T22:21:43.341982",
     "exception": false,
     "start_time": "2024-01-11T22:21:31.751142",
     "status": "completed"
    },
    "tags": []
   },
   "outputs": [],
   "source": [
    "for i, g in enumerate(train_graphs):\n",
    "    if (g.in_degrees() == 0).any():\n",
    "        print(f\"Graph {i} has isolated nodes\")\n",
    "\n",
    "# if there is not any isolated nodes in train_graphs, print 'No isolated nodes'\n",
    "print('No isolated nodes')\n",
    "\n",
    "for i, g in enumerate(test_graphs):\n",
    "    if (g.in_degrees() == 0).any():\n",
    "        print(f\"Graph {i} has isolated nodes\")\n",
    "\n",
    "# if there is not any isolated nodes in train_graphs, print 'No isolated nodes'\n",
    "print('No isolated nodes')"
   ]
  },
  {
   "cell_type": "markdown",
   "id": "31c6d280",
   "metadata": {
    "papermill": {
     "duration": 0.037713,
     "end_time": "2024-01-11T22:21:43.446181",
     "exception": false,
     "start_time": "2024-01-11T22:21:43.408468",
     "status": "completed"
    },
    "tags": []
   },
   "source": [
    "# Graph Convolutional Network Model (GCN)"
   ]
  },
  {
   "cell_type": "code",
   "execution_count": null,
   "id": "259b9637",
   "metadata": {
    "execution": {
     "iopub.execute_input": "2024-01-11T22:21:43.499858Z",
     "iopub.status.busy": "2024-01-11T22:21:43.499580Z",
     "iopub.status.idle": "2024-01-11T22:21:43.507451Z",
     "shell.execute_reply": "2024-01-11T22:21:43.506460Z"
    },
    "papermill": {
     "duration": 0.0381,
     "end_time": "2024-01-11T22:21:43.509572",
     "exception": false,
     "start_time": "2024-01-11T22:21:43.471472",
     "status": "completed"
    },
    "tags": []
   },
   "outputs": [],
   "source": [
    "class GCNClassifier(nn.Module):\n",
    "    def __init__(self, in_feats, hidden_size):\n",
    "        super(GCNClassifier, self).__init__()\n",
    "        self.conv1 = dglnn.GraphConv(in_feats, hidden_size)\n",
    "        self.conv2 = dglnn.GraphConv(hidden_size, hidden_size)\n",
    "        self.fc = nn.Linear(hidden_size, 1)\n",
    "\n",
    "    def forward(self, g, features):\n",
    "        x = F.relu(self.conv1(g, features))\n",
    "        x = F.relu(self.conv2(g, x))\n",
    "        g.ndata['h'] = x\n",
    "        x = dgl.mean_nodes(g, 'h')\n",
    "        return self.fc(x)\n"
   ]
  },
  {
   "cell_type": "markdown",
   "id": "3a3eb845",
   "metadata": {
    "papermill": {
     "duration": 0.028048,
     "end_time": "2024-01-11T22:21:43.568258",
     "exception": false,
     "start_time": "2024-01-11T22:21:43.540210",
     "status": "completed"
    },
    "tags": []
   },
   "source": [
    "## Instance of the the GCN Model"
   ]
  },
  {
   "cell_type": "code",
   "execution_count": null,
   "id": "afe15884",
   "metadata": {
    "execution": {
     "iopub.execute_input": "2024-01-11T22:21:43.690014Z",
     "iopub.status.busy": "2024-01-11T22:21:43.689561Z",
     "iopub.status.idle": "2024-01-11T22:21:44.183592Z",
     "shell.execute_reply": "2024-01-11T22:21:44.182014Z"
    },
    "papermill": {
     "duration": 0.559458,
     "end_time": "2024-01-11T22:21:44.187211",
     "exception": false,
     "start_time": "2024-01-11T22:21:43.627753",
     "status": "completed"
    },
    "tags": []
   },
   "outputs": [],
   "source": [
    "device = torch.device('cuda' if torch.cuda.is_available() else 'cpu')\n",
    "\n",
    "# Instantiate the model\n",
    "in_feats = train_graphs[0].ndata['h'].shape[1]  # Replace with your feature size\n",
    "model = GCNClassifier(in_feats, hidden_size=148).to(device)  # hidden_size is set to 74,  num_classes=2\n",
    "\n",
    "# Loss and optimizer\n",
    "# criterion = nn.CrossEntropyLoss() \n",
    "criterion = nn.BCEWithLogitsLoss()  # Use this loss if you are using a sigmoid activation\n",
    "optimizer = torch.optim.Adam(model.parameters(), lr=0.0001)\n",
    "\n"
   ]
  },
  {
   "cell_type": "markdown",
   "id": "6573b76f",
   "metadata": {
    "papermill": {
     "duration": 0.028554,
     "end_time": "2024-01-11T22:21:44.257742",
     "exception": false,
     "start_time": "2024-01-11T22:21:44.229188",
     "status": "completed"
    },
    "tags": []
   },
   "source": [
    "## Train the GCN model"
   ]
  },
  {
   "cell_type": "code",
   "execution_count": null,
   "id": "7b0d0eaf",
   "metadata": {
    "execution": {
     "iopub.execute_input": "2024-01-11T22:21:44.773445Z",
     "iopub.status.busy": "2024-01-11T22:21:44.772989Z",
     "iopub.status.idle": "2024-01-11T22:21:44.783954Z",
     "shell.execute_reply": "2024-01-11T22:21:44.782097Z"
    },
    "papermill": {
     "duration": 0.319252,
     "end_time": "2024-01-11T22:21:44.787704",
     "exception": false,
     "start_time": "2024-01-11T22:21:44.468452",
     "status": "completed"
    },
    "tags": []
   },
   "outputs": [],
   "source": [
    "class GraphDataset(Dataset):\n",
    "    def __init__(self, graphs, labels):\n",
    "        self.graphs = graphs\n",
    "        \n",
    "        # Reset index if labels is a pandas DataFrame/Series to ensure continuous indexing\n",
    "        if isinstance(labels, pd.DataFrame) or isinstance(labels, pd.Series):\n",
    "            self.labels = labels.reset_index(drop=True)\n",
    "        else:\n",
    "            self.labels = labels\n",
    "\n",
    "    def __len__(self):\n",
    "        # The lengths of graphs and labels should be the same\n",
    "        assert len(self.graphs) == len(self.labels), \"Graphs and labels must have the same length\"\n",
    "        return len(self.graphs)\n",
    "\n",
    "    def __getitem__(self, idx):\n",
    "        try:\n",
    "            graph = self.graphs[idx]\n",
    "            label = self.labels[idx]\n",
    "            return graph, label\n",
    "        except IndexError:\n",
    "            print(f\"IndexError: Index {idx} out of range for dataset of size {len(self)}\")\n",
    "            raise\n",
    "        \n",
    "        "
   ]
  },
  {
   "cell_type": "code",
   "execution_count": null,
   "id": "744770d1",
   "metadata": {
    "execution": {
     "iopub.execute_input": "2024-01-11T22:21:44.889666Z",
     "iopub.status.busy": "2024-01-11T22:21:44.889223Z",
     "iopub.status.idle": "2024-01-11T22:21:44.897765Z",
     "shell.execute_reply": "2024-01-11T22:21:44.895933Z"
    },
    "papermill": {
     "duration": 0.069765,
     "end_time": "2024-01-11T22:21:44.906630",
     "exception": false,
     "start_time": "2024-01-11T22:21:44.836865",
     "status": "completed"
    },
    "tags": []
   },
   "outputs": [],
   "source": [
    "def collate_graphs(samples):\n",
    "    graphs, labels = map(list, zip(*samples))\n",
    "    batched_graph = dgl.batch(graphs)\n",
    "    labels = torch.tensor(labels, dtype=torch.float32)\n",
    "    return batched_graph, labels\n",
    "\n"
   ]
  },
  {
   "cell_type": "code",
   "execution_count": null,
   "id": "f6b4ccb3",
   "metadata": {
    "execution": {
     "iopub.execute_input": "2024-01-11T22:21:45.019134Z",
     "iopub.status.busy": "2024-01-11T22:21:45.018603Z",
     "iopub.status.idle": "2024-01-11T22:21:45.032766Z",
     "shell.execute_reply": "2024-01-11T22:21:45.031075Z"
    },
    "papermill": {
     "duration": 0.068849,
     "end_time": "2024-01-11T22:21:45.035657",
     "exception": false,
     "start_time": "2024-01-11T22:21:44.966808",
     "status": "completed"
    },
    "tags": []
   },
   "outputs": [],
   "source": [
    "batch_size = 1024\n",
    "num_workers = 10\n",
    "\n",
    "# Assuming train_labels and test_labels are originally 1D tensors or lists\n",
    "# Create the datasets with updated labels\n",
    "# Create the DataLoader with multiple workers\n",
    "\n",
    "if isinstance(train_labels, torch.Tensor):\n",
    "    train_labels = train_labels.tolist()\n",
    "train_dataset = GraphDataset(train_graphs, train_labels)\n",
    "train_loader = DataLoader(train_dataset, batch_size=batch_size, shuffle=True, num_workers=num_workers, collate_fn=collate_graphs)\n",
    "\n",
    "if isinstance(test_labels, torch.Tensor):\n",
    "    test_labels = test_labels.tolist()\n",
    "test_dataset = GraphDataset(test_graphs, test_labels)\n",
    "test_loader = DataLoader(test_dataset, batch_size=batch_size, shuffle=False, num_workers=num_workers, collate_fn=collate_graphs)\n",
    "\n",
    "if isinstance(val_labels, torch.Tensor):\n",
    "    val_labels = val_labels.tolist()\n",
    "val_dataset = GraphDataset(val_graphs, val_labels)\n",
    "val_loader = DataLoader(val_dataset, batch_size=1, shuffle=False, num_workers=num_workers, collate_fn=collate_graphs)\n",
    "\n",
    "if isinstance(train_labels_all, torch.Tensor):\n",
    "    train_labels_all = train_labels_all.tolist()\n",
    "train_dataset_all = GraphDataset(train_graphs_all, train_labels_all)\n",
    "train_loader_all = DataLoader(train_dataset_all, batch_size=batch_size, shuffle=False, num_workers=num_workers, collate_fn=collate_graphs)\n",
    "\n"
   ]
  },
  {
   "cell_type": "code",
   "execution_count": null,
   "id": "db684d99",
   "metadata": {
    "execution": {
     "iopub.execute_input": "2024-01-11T22:21:45.114169Z",
     "iopub.status.busy": "2024-01-11T22:21:45.113696Z",
     "iopub.status.idle": "2024-01-11T22:21:45.123258Z",
     "shell.execute_reply": "2024-01-11T22:21:45.121527Z"
    },
    "papermill": {
     "duration": 0.048743,
     "end_time": "2024-01-11T22:21:45.125953",
     "exception": false,
     "start_time": "2024-01-11T22:21:45.077210",
     "status": "completed"
    },
    "tags": []
   },
   "outputs": [],
   "source": [
    "def train(model, data_loader, criterion, optimizer, device):\n",
    "    model.train()\n",
    "    total_loss = 0\n",
    "    for batch_graphs, batch_labels in data_loader:\n",
    "        batch_graphs = batch_graphs.to(device)\n",
    "        \n",
    "        # batch_labels = torch.tensor(batch_labels, dtype=torch.long).to(device)\n",
    "        batch_labels = batch_labels.clone().detach().to(device)\n",
    "        batch_features = batch_graphs.ndata['h']\n",
    "\n",
    "        outputs = model(batch_graphs, batch_features)\n",
    "        outputs = outputs.squeeze() # remove extra dimension\n",
    "        loss = criterion(outputs, batch_labels)\n",
    "        optimizer.zero_grad()\n",
    "        loss.backward()\n",
    "        optimizer.step()\n",
    "        total_loss += loss.item()\n",
    "\n",
    "    return total_loss / len(data_loader)\n",
    "\n"
   ]
  },
  {
   "cell_type": "code",
   "execution_count": null,
   "id": "52693060",
   "metadata": {
    "execution": {
     "iopub.execute_input": "2024-01-11T22:21:45.218389Z",
     "iopub.status.busy": "2024-01-11T22:21:45.217695Z",
     "iopub.status.idle": "2024-01-11T22:21:45.231936Z",
     "shell.execute_reply": "2024-01-11T22:21:45.230332Z"
    },
    "papermill": {
     "duration": 0.062424,
     "end_time": "2024-01-11T22:21:45.234557",
     "exception": false,
     "start_time": "2024-01-11T22:21:45.172133",
     "status": "completed"
    },
    "tags": []
   },
   "outputs": [],
   "source": [
    "def validate(model, data_loader, criterion, device):\n",
    "    model.eval()\n",
    "    total_loss = 0\n",
    "    y_true = []\n",
    "    y_pred = []\n",
    "    y_pred_proba = []\n",
    "    with torch.no_grad():\n",
    "        for graphs, labels in data_loader:\n",
    "            graphs = graphs.to(device)\n",
    "            features = graphs.ndata['h'].to(device)\n",
    "            labels = labels.to(device)\n",
    "            outputs = model(graphs, features)\n",
    "            if outputs.dim() == 2 and outputs.shape[0] == 1:\n",
    "                outputs = outputs.squeeze(0)\n",
    "            loss = criterion(outputs, labels)\n",
    "            total_loss += loss.item()\n",
    "\n",
    "            # Check the dimension of outputs before applying torch.max\n",
    "            if outputs.dim() > 1:\n",
    "                _, predicted = torch.max(outputs.data, 1)\n",
    "            else:\n",
    "                predicted = outputs.round()  # Assuming binary classification\n",
    "\n",
    "            y_true.extend(labels.cpu().numpy())\n",
    "            y_pred.extend(predicted.cpu().numpy())\n",
    "            y_pred_proba.extend(outputs.cpu().numpy())\n",
    "    \n",
    "    avg_loss = total_loss / len(data_loader)\n",
    "    return avg_loss, y_true, y_pred, y_pred_proba\n",
    "\n"
   ]
  },
  {
   "cell_type": "code",
   "execution_count": null,
   "id": "4099d2ae",
   "metadata": {
    "execution": {
     "iopub.execute_input": "2024-01-11T22:21:45.313942Z",
     "iopub.status.busy": "2024-01-11T22:21:45.313331Z",
     "iopub.status.idle": "2024-01-11T22:21:45.324731Z",
     "shell.execute_reply": "2024-01-11T22:21:45.323012Z"
    },
    "papermill": {
     "duration": 0.050319,
     "end_time": "2024-01-11T22:21:45.326837",
     "exception": false,
     "start_time": "2024-01-11T22:21:45.276518",
     "status": "completed"
    },
    "tags": []
   },
   "outputs": [],
   "source": [
    "class EarlyStopping:\n",
    "    def __init__(self, patience=10, min_delta=0):\n",
    "        self.patience = patience\n",
    "        self.min_delta = min_delta\n",
    "        self.best_loss = None\n",
    "        self.epochs_no_improve = 0\n",
    "        self.early_stop = False\n",
    "        self.stopped_epoch = 0  # Attribute to store the epoch number\n",
    "\n",
    "    def __call__(self, val_loss, epoch):\n",
    "        if self.best_loss is None:\n",
    "            self.best_loss = val_loss\n",
    "        elif val_loss < self.best_loss - self.min_delta:\n",
    "            self.best_loss = val_loss\n",
    "            self.epochs_no_improve = 0\n",
    "        else:\n",
    "            self.epochs_no_improve += 1\n",
    "            if self.epochs_no_improve >= self.patience:\n",
    "                self.early_stop = True\n",
    "                self.stopped_epoch = epoch  # Store the epoch number\n",
    "\n"
   ]
  },
  {
   "cell_type": "code",
   "execution_count": null,
   "id": "9248ab51",
   "metadata": {
    "execution": {
     "iopub.execute_input": "2024-01-11T22:21:45.436902Z",
     "iopub.status.busy": "2024-01-11T22:21:45.436193Z",
     "iopub.status.idle": "2024-01-12T08:23:59.970442Z",
     "shell.execute_reply": "2024-01-12T08:23:59.968984Z"
    },
    "papermill": {
     "duration": 36134.688307,
     "end_time": "2024-01-12T08:24:00.052153",
     "exception": false,
     "start_time": "2024-01-11T22:21:45.363846",
     "status": "completed"
    },
    "tags": []
   },
   "outputs": [],
   "source": [
    "num_epochs = 500\n",
    "early_stopping = EarlyStopping(patience=20, min_delta=0.002)\n",
    "\n",
    "# Initialize lists to store loss values\n",
    "gcn_train_loss_list = []\n",
    "gcn_val_loss_list = []\n",
    "\n",
    "for epoch in range(num_epochs):\n",
    "    # Training\n",
    "    train_loss = train(model, train_loader, criterion, optimizer, device)\n",
    "    gcn_train_loss_list.append(train_loss)  # Store train loss\n",
    "\n",
    "    # Validation\n",
    "    val_loss, _, _, _ = validate(model, val_loader, criterion, device)\n",
    "    gcn_val_loss_list.append(val_loss)  # Store validation loss\n",
    "\n",
    "    # Print and check for early stopping\n",
    "    print(f\"Epoch: {epoch+1}, train_loss: {train_loss:.4f}, val_loss: {val_loss:.4f}\")\n",
    "    early_stopping(val_loss, epoch)\n",
    "    if early_stopping.early_stop:\n",
    "        print(f\"Early stopping triggered at epoch {epoch+1}\")\n",
    "        break\n",
    "\n",
    "\n",
    "# Store the epoch number when early stopping was triggered\n",
    "num_epochs_early = early_stopping.stopped_epoch + 1\n",
    "\n"
   ]
  },
  {
   "cell_type": "code",
   "execution_count": null,
   "id": "a55f21a5",
   "metadata": {
    "execution": {
     "iopub.execute_input": "2024-01-12T08:24:00.151390Z",
     "iopub.status.busy": "2024-01-12T08:24:00.150902Z",
     "iopub.status.idle": "2024-01-12T08:24:00.438983Z",
     "shell.execute_reply": "2024-01-12T08:24:00.438083Z"
    },
    "papermill": {
     "duration": 0.341004,
     "end_time": "2024-01-12T08:24:00.441004",
     "exception": false,
     "start_time": "2024-01-12T08:24:00.100000",
     "status": "completed"
    },
    "tags": []
   },
   "outputs": [],
   "source": [
    "# Ensure that the length of gcn_train_loss_list and gcn_val_loss_list is equal to the number of epochs processed\n",
    "assert len(gcn_train_loss_list) == len(gcn_val_loss_list)\n",
    "\n",
    "# Plotting\n",
    "plt.figure(figsize=(10, 6))\n",
    "plt.plot(gcn_train_loss_list, label='Training Loss')\n",
    "plt.plot(gcn_val_loss_list, label='Validation Loss')\n",
    "plt.title('Training and Validation Loss Over Epochs')\n",
    "plt.xlabel('Epochs')\n",
    "plt.ylabel('Loss')\n",
    "plt.legend()\n",
    "plt.grid(True)\n",
    "plt.show()"
   ]
  },
  {
   "cell_type": "markdown",
   "id": "5c19992c",
   "metadata": {
    "papermill": {
     "duration": 0.035511,
     "end_time": "2024-01-12T08:24:00.529370",
     "exception": false,
     "start_time": "2024-01-12T08:24:00.493859",
     "status": "completed"
    },
    "tags": []
   },
   "source": [
    "## Train on merged train and val sets\n"
   ]
  },
  {
   "cell_type": "code",
   "execution_count": null,
   "id": "8def6a96",
   "metadata": {
    "execution": {
     "iopub.execute_input": "2024-01-12T08:24:00.605394Z",
     "iopub.status.busy": "2024-01-12T08:24:00.605084Z",
     "iopub.status.idle": "2024-01-12T08:24:00.611447Z",
     "shell.execute_reply": "2024-01-12T08:24:00.610546Z"
    },
    "papermill": {
     "duration": 0.044647,
     "end_time": "2024-01-12T08:24:00.613369",
     "exception": false,
     "start_time": "2024-01-12T08:24:00.568722",
     "status": "completed"
    },
    "tags": []
   },
   "outputs": [],
   "source": [
    "def train(model, data_loader, criterion, optimizer, device):\n",
    "    model.train()\n",
    "    total_loss = 0\n",
    "    for batch_graphs, batch_labels in data_loader:\n",
    "        batch_graphs = batch_graphs.to(device)\n",
    "        batch_labels = batch_labels.clone().detach().to(device)\n",
    "        batch_features = batch_graphs.ndata['h']\n",
    "\n",
    "        outputs = model(batch_graphs, batch_features)\n",
    "        outputs = outputs.squeeze() # remove extra dimension\n",
    "        loss = criterion(outputs, batch_labels)\n",
    "        optimizer.zero_grad()\n",
    "        loss.backward()\n",
    "        optimizer.step()\n",
    "        total_loss += loss.item()\n",
    "\n",
    "    return total_loss / len(data_loader)\n"
   ]
  },
  {
   "cell_type": "markdown",
   "id": "3891d5f0",
   "metadata": {
    "papermill": {
     "duration": 0.061494,
     "end_time": "2024-01-12T08:24:00.710135",
     "exception": false,
     "start_time": "2024-01-12T08:24:00.648641",
     "status": "completed"
    },
    "tags": []
   },
   "source": [
    "## Reset weights before training again with all data\n"
   ]
  },
  {
   "cell_type": "code",
   "execution_count": null,
   "id": "b870626e",
   "metadata": {
    "execution": {
     "iopub.execute_input": "2024-01-12T08:24:00.783504Z",
     "iopub.status.busy": "2024-01-12T08:24:00.783231Z",
     "iopub.status.idle": "2024-01-12T08:24:00.791412Z",
     "shell.execute_reply": "2024-01-12T08:24:00.790176Z"
    },
    "papermill": {
     "duration": 0.046665,
     "end_time": "2024-01-12T08:24:00.793445",
     "exception": false,
     "start_time": "2024-01-12T08:24:00.746780",
     "status": "completed"
    },
    "tags": []
   },
   "outputs": [],
   "source": [
    "def reset_weights(m):\n",
    "    \"\"\"\n",
    "    This function will reset the weights of a given module.\n",
    "    \"\"\"\n",
    "    if isinstance(m, nn.Conv2d) or isinstance(m, nn.Linear):\n",
    "        m.reset_parameters()\n",
    "\n",
    "# Example usage with your model\n",
    "model.apply(reset_weights)\n"
   ]
  },
  {
   "cell_type": "code",
   "execution_count": null,
   "id": "1451e68b",
   "metadata": {
    "execution": {
     "iopub.execute_input": "2024-01-12T08:24:00.874165Z",
     "iopub.status.busy": "2024-01-12T08:24:00.873853Z",
     "iopub.status.idle": "2024-01-12T08:42:13.914589Z",
     "shell.execute_reply": "2024-01-12T08:42:13.912624Z"
    },
    "papermill": {
     "duration": 1093.087454,
     "end_time": "2024-01-12T08:42:13.916855",
     "exception": false,
     "start_time": "2024-01-12T08:24:00.829401",
     "status": "completed"
    },
    "tags": []
   },
   "outputs": [],
   "source": [
    "print(\"Final training on merged training and validation sets\")\n",
    "\n",
    "# Initialize list to store loss values\n",
    "final_train_losses = []\n",
    "\n",
    "for epoch in range(num_epochs_early):\n",
    "    # Training\n",
    "    train_loss = train(model, train_loader_all, criterion, optimizer, device)\n",
    "    final_train_losses.append(train_loss)  # Store train loss\n",
    "\n",
    "    # Print train loss\n",
    "    print(f\"Epoch {epoch+1}/{num_epochs_early}, Train Loss: {train_loss:.4f}\")\n"
   ]
  },
  {
   "cell_type": "code",
   "execution_count": null,
   "id": "98bcb839",
   "metadata": {
    "execution": {
     "iopub.execute_input": "2024-01-12T08:42:14.012396Z",
     "iopub.status.busy": "2024-01-12T08:42:14.012034Z",
     "iopub.status.idle": "2024-01-12T08:42:14.197404Z",
     "shell.execute_reply": "2024-01-12T08:42:14.195361Z"
    },
    "papermill": {
     "duration": 0.234598,
     "end_time": "2024-01-12T08:42:14.199611",
     "exception": false,
     "start_time": "2024-01-12T08:42:13.965013",
     "status": "completed"
    },
    "tags": []
   },
   "outputs": [],
   "source": [
    "# Plotting\n",
    "plt.figure(figsize=(10, 6))\n",
    "plt.plot(final_train_losses, label='Training Loss')\n",
    "plt.title('Training Loss Over Epochs on Merged Training and Validation Sets')\n",
    "plt.xlabel('Epochs')\n",
    "plt.ylabel('Loss')\n",
    "plt.legend()\n",
    "plt.grid(True)\n",
    "plt.show()\n"
   ]
  },
  {
   "cell_type": "markdown",
   "id": "5a98a21d",
   "metadata": {
    "papermill": {
     "duration": 0.049659,
     "end_time": "2024-01-12T08:42:14.296260",
     "exception": false,
     "start_time": "2024-01-12T08:42:14.246601",
     "status": "completed"
    },
    "tags": []
   },
   "source": [
    "## Save the model"
   ]
  },
  {
   "cell_type": "code",
   "execution_count": null,
   "id": "a59c1816",
   "metadata": {
    "execution": {
     "iopub.execute_input": "2024-01-12T08:42:14.391344Z",
     "iopub.status.busy": "2024-01-12T08:42:14.391041Z",
     "iopub.status.idle": "2024-01-12T08:42:14.530394Z",
     "shell.execute_reply": "2024-01-12T08:42:14.528409Z"
    },
    "papermill": {
     "duration": 0.190482,
     "end_time": "2024-01-12T08:42:14.533667",
     "exception": false,
     "start_time": "2024-01-12T08:42:14.343185",
     "status": "completed"
    },
    "tags": []
   },
   "outputs": [],
   "source": [
    "# if there is not a folder named 'model' create one\n",
    "if not os.path.exists('model_experiment'):\n",
    "    os.mkdir('model_experiment')\n",
    "\n",
    "# save the model\n",
    "torch.save(model.state_dict(), 'model_experiment/gcn_model_experiment.pth')"
   ]
  },
  {
   "cell_type": "code",
   "execution_count": null,
   "id": "8d6a4a14",
   "metadata": {
    "execution": {
     "iopub.execute_input": "2024-01-12T08:42:14.673722Z",
     "iopub.status.busy": "2024-01-12T08:42:14.673199Z",
     "iopub.status.idle": "2024-01-12T08:42:14.690660Z",
     "shell.execute_reply": "2024-01-12T08:42:14.688731Z"
    },
    "papermill": {
     "duration": 0.081905,
     "end_time": "2024-01-12T08:42:14.693109",
     "exception": false,
     "start_time": "2024-01-12T08:42:14.611204",
     "status": "completed"
    },
    "tags": []
   },
   "outputs": [],
   "source": [
    "# load the model\n",
    "model = GCNClassifier(in_feats, hidden_size=148).to(device)\n",
    "model.load_state_dict(torch.load('model_experiment/gcn_model_experiment.pth'))"
   ]
  },
  {
   "cell_type": "markdown",
   "id": "a0d9aad5",
   "metadata": {
    "papermill": {
     "duration": 0.046107,
     "end_time": "2024-01-12T08:42:14.785659",
     "exception": false,
     "start_time": "2024-01-12T08:42:14.739552",
     "status": "completed"
    },
    "tags": []
   },
   "source": [
    "## Test the model"
   ]
  },
  {
   "cell_type": "code",
   "execution_count": null,
   "id": "b14d36b1",
   "metadata": {
    "execution": {
     "iopub.execute_input": "2024-01-12T08:42:14.883377Z",
     "iopub.status.busy": "2024-01-12T08:42:14.882763Z",
     "iopub.status.idle": "2024-01-12T08:42:14.895152Z",
     "shell.execute_reply": "2024-01-12T08:42:14.893221Z"
    },
    "papermill": {
     "duration": 0.062848,
     "end_time": "2024-01-12T08:42:14.897520",
     "exception": false,
     "start_time": "2024-01-12T08:42:14.834672",
     "status": "completed"
    },
    "tags": []
   },
   "outputs": [],
   "source": [
    "def test(model, data_loader, device):\n",
    "    model.eval()\n",
    "    y_true = []\n",
    "    y_pred = []\n",
    "    y_pred_proba = []\n",
    "\n",
    "    with torch.no_grad():\n",
    "        for graphs, labels in data_loader:\n",
    "            graphs = graphs.to(device)\n",
    "            features = graphs.ndata['h'].to(device)\n",
    "            labels = labels.to(device)\n",
    "\n",
    "            outputs = model(graphs, features)\n",
    "            probabilities = torch.sigmoid(outputs).squeeze()  # Apply sigmoid to convert logits to probabilities\n",
    "\n",
    "            predicted = (probabilities > 0.5).long()  # Convert probabilities to binary predictions\n",
    "\n",
    "            y_true.extend(labels.cpu().numpy())\n",
    "            y_pred.extend(predicted.cpu().numpy())\n",
    "            y_pred_proba.extend(probabilities.cpu().numpy())\n",
    "\n",
    "    return y_true, y_pred, y_pred_proba\n"
   ]
  },
  {
   "cell_type": "markdown",
   "id": "24c6036f",
   "metadata": {
    "papermill": {
     "duration": 0.045613,
     "end_time": "2024-01-12T08:42:14.989733",
     "exception": false,
     "start_time": "2024-01-12T08:42:14.944120",
     "status": "completed"
    },
    "tags": []
   },
   "source": [
    "## Predict probabilities"
   ]
  },
  {
   "cell_type": "code",
   "execution_count": null,
   "id": "07687176",
   "metadata": {
    "execution": {
     "iopub.execute_input": "2024-01-12T08:42:15.322699Z",
     "iopub.status.busy": "2024-01-12T08:42:15.322058Z",
     "iopub.status.idle": "2024-01-12T08:42:18.109527Z",
     "shell.execute_reply": "2024-01-12T08:42:18.108226Z"
    },
    "papermill": {
     "duration": 2.991877,
     "end_time": "2024-01-12T08:42:18.112849",
     "exception": false,
     "start_time": "2024-01-12T08:42:15.120972",
     "status": "completed"
    },
    "tags": []
   },
   "outputs": [],
   "source": [
    "# Now you can use this DataLoader in your test function\n",
    "y_true, y_pred, y_pred_proba = test(model, test_loader, device)\n",
    "\n",
    "# Convert probabilities to percentages for the positive class\n",
    "# Assuming binary classification and class '1' is the positive class\n",
    "confidence_percentages = [prob * 100 for prob in y_pred_proba]\n",
    "\n",
    "# Now 'confidence_percentages' holds the confidence level for each prediction\n"
   ]
  },
  {
   "cell_type": "code",
   "execution_count": null,
   "id": "b431b8d9",
   "metadata": {
    "execution": {
     "iopub.execute_input": "2024-01-12T08:42:18.229764Z",
     "iopub.status.busy": "2024-01-12T08:42:18.229459Z",
     "iopub.status.idle": "2024-01-12T08:42:18.234980Z",
     "shell.execute_reply": "2024-01-12T08:42:18.234114Z"
    },
    "papermill": {
     "duration": 0.06403,
     "end_time": "2024-01-12T08:42:18.236766",
     "exception": false,
     "start_time": "2024-01-12T08:42:18.172736",
     "status": "completed"
    },
    "tags": []
   },
   "outputs": [],
   "source": [
    "# Extract the second element (index 1) from each 1D array in y_pred_proba\n",
    "# y_pred_proba = [prob[1] for prob in y_pred_proba]\n",
    "# Now y_pred_proba is a list of probabilities for the positive class\n",
    "# Convert it to a NumPy array\n",
    "y_pred_proba = np.array(y_pred_proba)\n"
   ]
  },
  {
   "cell_type": "markdown",
   "id": "30f9dedf",
   "metadata": {
    "papermill": {
     "duration": 0.050373,
     "end_time": "2024-01-12T08:42:18.332773",
     "exception": false,
     "start_time": "2024-01-12T08:42:18.282400",
     "status": "completed"
    },
    "tags": []
   },
   "source": [
    "## Results"
   ]
  },
  {
   "cell_type": "code",
   "execution_count": null,
   "id": "e9a213aa",
   "metadata": {
    "execution": {
     "iopub.execute_input": "2024-01-12T08:42:18.443577Z",
     "iopub.status.busy": "2024-01-12T08:42:18.443279Z",
     "iopub.status.idle": "2024-01-12T08:42:18.508212Z",
     "shell.execute_reply": "2024-01-12T08:42:18.507154Z"
    },
    "papermill": {
     "duration": 0.120752,
     "end_time": "2024-01-12T08:42:18.510447",
     "exception": false,
     "start_time": "2024-01-12T08:42:18.389695",
     "status": "completed"
    },
    "tags": []
   },
   "outputs": [],
   "source": [
    "print(f'Accuracy: {accuracy_score(y_true, y_pred)}')\n",
    "print(f'Precision: {precision_score(y_true, y_pred)}')\n",
    "print(f'Recall: {recall_score(y_true, y_pred)}')\n",
    "print(f'F1: {f1_score(y_true, y_pred)}')\n",
    "print(f'AUC: {roc_auc_score(y_true, y_pred_proba)}')\n"
   ]
  },
  {
   "cell_type": "code",
   "execution_count": null,
   "id": "2ddd3ef4",
   "metadata": {
    "execution": {
     "iopub.execute_input": "2024-01-12T08:42:18.785017Z",
     "iopub.status.busy": "2024-01-12T08:42:18.784099Z",
     "iopub.status.idle": "2024-01-12T08:42:18.792165Z",
     "shell.execute_reply": "2024-01-12T08:42:18.790348Z"
    },
    "papermill": {
     "duration": 0.228979,
     "end_time": "2024-01-12T08:42:18.794449",
     "exception": false,
     "start_time": "2024-01-12T08:42:18.565470",
     "status": "completed"
    },
    "tags": []
   },
   "outputs": [],
   "source": [
    "# Accuracy: 0.7896446700507614\n",
    "# Precision: 0.8110537951363301\n",
    "# Recall: 0.7508527766407422\n",
    "# F1: 0.7797931132209155\n",
    "# AUC: 0.8738676601333576"
   ]
  },
  {
   "cell_type": "markdown",
   "id": "84fa5244",
   "metadata": {
    "papermill": {
     "duration": 0.045888,
     "end_time": "2024-01-12T08:42:18.886420",
     "exception": false,
     "start_time": "2024-01-12T08:42:18.840532",
     "status": "completed"
    },
    "tags": []
   },
   "source": [
    "## Confusion matrix"
   ]
  },
  {
   "cell_type": "code",
   "execution_count": null,
   "id": "868ffaa3",
   "metadata": {
    "execution": {
     "iopub.execute_input": "2024-01-12T08:42:18.980471Z",
     "iopub.status.busy": "2024-01-12T08:42:18.979756Z",
     "iopub.status.idle": "2024-01-12T08:42:18.987363Z",
     "shell.execute_reply": "2024-01-12T08:42:18.985594Z"
    },
    "papermill": {
     "duration": 0.057469,
     "end_time": "2024-01-12T08:42:18.989590",
     "exception": false,
     "start_time": "2024-01-12T08:42:18.932121",
     "status": "completed"
    },
    "tags": []
   },
   "outputs": [],
   "source": [
    "# create folder 'visuals' if it does not exist\n",
    "if not os.path.exists('visuals'):\n",
    "    os.mkdir('visuals')\n",
    "    "
   ]
  },
  {
   "cell_type": "code",
   "execution_count": null,
   "id": "dca217e9",
   "metadata": {
    "execution": {
     "iopub.execute_input": "2024-01-12T08:42:19.246000Z",
     "iopub.status.busy": "2024-01-12T08:42:19.245390Z",
     "iopub.status.idle": "2024-01-12T08:42:19.873181Z",
     "shell.execute_reply": "2024-01-12T08:42:19.871270Z"
    },
    "papermill": {
     "duration": 0.677951,
     "end_time": "2024-01-12T08:42:19.875745",
     "exception": false,
     "start_time": "2024-01-12T08:42:19.197794",
     "status": "completed"
    },
    "tags": []
   },
   "outputs": [],
   "source": [
    "# confusion matrix\n",
    "cm = confusion_matrix(y_true, y_pred)\n",
    "cm_df = pd.DataFrame(cm, index=['RNA binder', 'non-RNA binder'], columns=['RNA binder', 'non-RNA binder'])\n",
    "sns.heatmap(cm_df, annot=True, cmap='Blues', fmt='g')\n",
    "sns.set(context='paper', style='white', font_scale=1.5)\n",
    "plt.title('Confusion Matrix')\n",
    "plt.ylabel('True Label')\n",
    "plt.xlabel('Predicted Label')\n",
    "plt.savefig('visuals/confusion_matrix_gcn_experiment.png', dpi=300)\n",
    "plt.show()\n",
    "\n"
   ]
  },
  {
   "cell_type": "markdown",
   "id": "9407ede2",
   "metadata": {
    "papermill": {
     "duration": 0.047108,
     "end_time": "2024-01-12T08:42:19.970784",
     "exception": false,
     "start_time": "2024-01-12T08:42:19.923676",
     "status": "completed"
    },
    "tags": []
   },
   "source": [
    "## Classification report"
   ]
  },
  {
   "cell_type": "code",
   "execution_count": null,
   "id": "c7557e88",
   "metadata": {
    "execution": {
     "iopub.execute_input": "2024-01-12T08:42:20.069542Z",
     "iopub.status.busy": "2024-01-12T08:42:20.069228Z",
     "iopub.status.idle": "2024-01-12T08:42:20.112190Z",
     "shell.execute_reply": "2024-01-12T08:42:20.110396Z"
    },
    "papermill": {
     "duration": 0.096164,
     "end_time": "2024-01-12T08:42:20.114194",
     "exception": false,
     "start_time": "2024-01-12T08:42:20.018030",
     "status": "completed"
    },
    "tags": []
   },
   "outputs": [],
   "source": [
    "# classification report\n",
    "print(classification_report(y_true, y_pred))\n"
   ]
  },
  {
   "cell_type": "markdown",
   "id": "fb0f56bc",
   "metadata": {
    "papermill": {
     "duration": 0.058272,
     "end_time": "2024-01-12T08:42:20.219763",
     "exception": false,
     "start_time": "2024-01-12T08:42:20.161491",
     "status": "completed"
    },
    "tags": []
   },
   "source": [
    "## ROC AUC"
   ]
  },
  {
   "cell_type": "code",
   "execution_count": null,
   "id": "97e3f861",
   "metadata": {
    "execution": {
     "iopub.execute_input": "2024-01-12T08:42:20.434709Z",
     "iopub.status.busy": "2024-01-12T08:42:20.434412Z",
     "iopub.status.idle": "2024-01-12T08:42:20.945380Z",
     "shell.execute_reply": "2024-01-12T08:42:20.943527Z"
    },
    "papermill": {
     "duration": 0.681231,
     "end_time": "2024-01-12T08:42:20.947747",
     "exception": false,
     "start_time": "2024-01-12T08:42:20.266516",
     "status": "completed"
    },
    "tags": []
   },
   "outputs": [],
   "source": [
    "# visualize ROC curve\n",
    "fpr, tpr, thresholds = roc_curve(y_true, y_pred_proba)\n",
    "roc_auc = auc(fpr, tpr)\n",
    "\n",
    "plt.figure(figsize=(8, 6))\n",
    "plt.plot(fpr, tpr, color='darkorange', lw=2, label='ROC curve (area = %0.2f)'% roc_auc)\n",
    "plt.plot([0, 1], [0, 1], color='navy', lw=2, linestyle='--')\n",
    "plt.title('ROC curve')\n",
    "plt.xlabel('False Positive Rate')\n",
    "plt.ylabel('True Positive Rate')\n",
    "plt.legend(loc='lower right')\n",
    "plt.savefig('visuals/roc_curve_gcn_experiment.png', dpi=300)\n",
    "plt.show()\n"
   ]
  },
  {
   "cell_type": "code",
   "execution_count": null,
   "id": "5ed2775c",
   "metadata": {
    "execution": {
     "iopub.execute_input": "2024-01-12T08:42:21.060665Z",
     "iopub.status.busy": "2024-01-12T08:42:21.060362Z",
     "iopub.status.idle": "2024-01-12T08:42:21.690486Z",
     "shell.execute_reply": "2024-01-12T08:42:21.688736Z"
    },
    "papermill": {
     "duration": 0.68155,
     "end_time": "2024-01-12T08:42:21.693464",
     "exception": false,
     "start_time": "2024-01-12T08:42:21.011914",
     "status": "completed"
    },
    "tags": []
   },
   "outputs": [],
   "source": [
    "# visualize confidence_percentages in plot\n",
    "plt.figure(figsize=(8, 6))\n",
    "plt.hist(confidence_percentages, bins=50)\n",
    "plt.title('Confidence Histogram')\n",
    "plt.xlabel('Confidence Percentage')\n",
    "plt.ylabel('Frequency')\n",
    "plt.savefig('visuals/confidence_histogram_gcn_experiment.png', dpi=300)\n",
    "plt.show()\n"
   ]
  },
  {
   "cell_type": "code",
   "execution_count": null,
   "id": "57404b8e",
   "metadata": {
    "execution": {
     "iopub.execute_input": "2024-01-12T08:42:21.792380Z",
     "iopub.status.busy": "2024-01-12T08:42:21.792028Z",
     "iopub.status.idle": "2024-01-12T08:42:21.832119Z",
     "shell.execute_reply": "2024-01-12T08:42:21.830349Z"
    },
    "papermill": {
     "duration": 0.091857,
     "end_time": "2024-01-12T08:42:21.834235",
     "exception": false,
     "start_time": "2024-01-12T08:42:21.742378",
     "status": "completed"
    },
    "tags": []
   },
   "outputs": [],
   "source": [
    "# Sort test predictions by confidence and get top 10 indices\n",
    "sorted_pairs = sorted(enumerate(confidence_percentages), key=lambda x: x[1], reverse=True)\n",
    "top_molecules_test_indices = [index for index, _ in sorted_pairs[:20]]\n",
    "\n",
    "# The indices in test_graphs correspond to their positions in the original loaded_graphs_orig\n",
    "# Find the original indices in loaded_graphs_orig\n",
    "original_indices = [loaded_graphs_orig.index(test_graphs[i]) for i in top_molecules_test_indices]\n",
    "\n",
    "# Use the original indices to look up the corresponding rows in reconstructed_df\n",
    "top_molecule_row_indices = reconstructed_df.index[original_indices]\n",
    "\n",
    "# Now, top_molecule_row_indices contains the DataFrame indices of the top 10 RNA-binding molecules\n"
   ]
  },
  {
   "cell_type": "code",
   "execution_count": null,
   "id": "ab07bf04",
   "metadata": {
    "execution": {
     "iopub.execute_input": "2024-01-12T08:42:21.944177Z",
     "iopub.status.busy": "2024-01-12T08:42:21.943850Z",
     "iopub.status.idle": "2024-01-12T08:42:21.953416Z",
     "shell.execute_reply": "2024-01-12T08:42:21.951779Z"
    },
    "papermill": {
     "duration": 0.072489,
     "end_time": "2024-01-12T08:42:21.955496",
     "exception": false,
     "start_time": "2024-01-12T08:42:21.883007",
     "status": "completed"
    },
    "tags": []
   },
   "outputs": [],
   "source": [
    "top_molecule_row_indices"
   ]
  },
  {
   "cell_type": "code",
   "execution_count": null,
   "id": "1c3b72b1",
   "metadata": {
    "execution": {
     "iopub.execute_input": "2024-01-12T08:42:22.185925Z",
     "iopub.status.busy": "2024-01-12T08:42:22.185634Z",
     "iopub.status.idle": "2024-01-12T08:42:22.191905Z",
     "shell.execute_reply": "2024-01-12T08:42:22.190534Z"
    },
    "papermill": {
     "duration": 0.0583,
     "end_time": "2024-01-12T08:42:22.194004",
     "exception": false,
     "start_time": "2024-01-12T08:42:22.135704",
     "status": "completed"
    },
    "tags": []
   },
   "outputs": [],
   "source": [
    "# create folder 'top_molecules' if it does not exist\n",
    "if not os.path.exists('top_molecules_gcn_experiment'):\n",
    "    os.mkdir('top_molecules_gcn_experiment')\n",
    "    "
   ]
  },
  {
   "cell_type": "code",
   "execution_count": null,
   "id": "cba8e0eb",
   "metadata": {
    "execution": {
     "iopub.execute_input": "2024-01-12T08:42:22.291084Z",
     "iopub.status.busy": "2024-01-12T08:42:22.290790Z",
     "iopub.status.idle": "2024-01-12T08:42:29.139715Z",
     "shell.execute_reply": "2024-01-12T08:42:29.138254Z"
    },
    "papermill": {
     "duration": 6.901594,
     "end_time": "2024-01-12T08:42:29.143442",
     "exception": false,
     "start_time": "2024-01-12T08:42:22.241848",
     "status": "completed"
    },
    "tags": []
   },
   "outputs": [],
   "source": [
    "# Retrieve the SMILES codes and source information for the top 10 molecules\n",
    "top_smiles = df_small.iloc[top_molecule_row_indices]['SMILES'].tolist()\n",
    "top_sources = df_small.iloc[top_molecule_row_indices]['source'].tolist()\n",
    "\n",
    "# Retrieve the confidence scores using the indices relative to the test dataset\n",
    "top_confidences = [confidence_percentages[i] for i in top_molecules_test_indices]\n",
    "\n",
    "# Convert SMILES to RDKit Mol objects\n",
    "mols = [Chem.MolFromSmiles(smile) for smile in top_smiles]\n",
    "\n",
    "# Generate and save images for each molecule\n",
    "for i, mol in enumerate(mols):\n",
    "    img = Draw.MolToImage(mol, size=(500, 500))\n",
    "    plt.figure(figsize=(5, 5))\n",
    "    plt.imshow(img)\n",
    "    # title = f\"SMILES: {top_smiles[i]}\\nSource: {top_sources[i]}\\nConfidence: {top_confidences[i]:.2f}%\"\n",
    "    # plt.title(title)\n",
    "    plt.subplots_adjust(bottom=0.20)  # Adjust the position of the title\n",
    "    plt.axis('off')\n",
    "    \n",
    "    # Save the image to the 'top_molecules' folder using the rank and source as the filename\n",
    "    plt.savefig(f\"top_molecules_gcn_experiment/molecule_{i+1}_{top_sources[i]}_a.png\", dpi=300)\n",
    "    plt.show()\n"
   ]
  },
  {
   "cell_type": "code",
   "execution_count": null,
   "id": "a8d6fa1c",
   "metadata": {
    "execution": {
     "iopub.execute_input": "2024-01-12T08:42:29.292466Z",
     "iopub.status.busy": "2024-01-12T08:42:29.292092Z",
     "iopub.status.idle": "2024-01-12T08:42:36.890371Z",
     "shell.execute_reply": "2024-01-12T08:42:36.888883Z"
    },
    "papermill": {
     "duration": 7.658102,
     "end_time": "2024-01-12T08:42:36.894865",
     "exception": false,
     "start_time": "2024-01-12T08:42:29.236763",
     "status": "completed"
    },
    "tags": []
   },
   "outputs": [],
   "source": [
    "# Define the figure size and font size for titles\n",
    "fig_size = (6, 6)\n",
    "title_font_size = 12\n",
    "\n",
    "# Generate and save images for each molecule\n",
    "for i, mol in enumerate(mols):\n",
    "    img = Draw.MolToImage(mol, size=(300, 300))\n",
    "    \n",
    "    # Create a figure with adjusted size\n",
    "    plt.figure(figsize=fig_size)\n",
    "    plt.imshow(img)\n",
    "    \n",
    "    # Adjust the position of the text within the image\n",
    "    title = f\"SMILES: {top_smiles[i]}\\nSource: {top_sources[i]}\\nConfidence: {top_confidences[i]:.2f}%\"\n",
    "    plt.title(title, fontsize=title_font_size)\n",
    "    plt.subplots_adjust(bottom=0.15)  # Adjust the position of the title\n",
    "    \n",
    "    plt.axis('off')\n",
    "    \n",
    "    # Save the image to the 'top_molecules' folder using the rank and source as the filename\n",
    "    plt.savefig(f\"top_molecules_gcn_experiment/molecule_{i+1}_{top_sources[i]}_b.png\", dpi=300)\n",
    "    # plt.show()\n"
   ]
  },
  {
   "cell_type": "markdown",
   "id": "57c5eaec",
   "metadata": {
    "papermill": {
     "duration": 0.07871,
     "end_time": "2024-01-12T08:42:37.112685",
     "exception": false,
     "start_time": "2024-01-12T08:42:37.033975",
     "status": "completed"
    },
    "tags": []
   },
   "source": [
    "# Message Passing Neural Network (MPNN)"
   ]
  },
  {
   "cell_type": "code",
   "execution_count": null,
   "id": "ddde2ebd",
   "metadata": {
    "execution": {
     "iopub.execute_input": "2024-01-12T08:42:37.341349Z",
     "iopub.status.busy": "2024-01-12T08:42:37.340990Z",
     "iopub.status.idle": "2024-01-12T08:42:37.349886Z",
     "shell.execute_reply": "2024-01-12T08:42:37.348687Z"
    },
    "papermill": {
     "duration": 0.119242,
     "end_time": "2024-01-12T08:42:37.351880",
     "exception": false,
     "start_time": "2024-01-12T08:42:37.232638",
     "status": "completed"
    },
    "tags": []
   },
   "outputs": [],
   "source": [
    "class MPNNClassifier(nn.Module):\n",
    "    def __init__(self, in_feats, hidden_size, out_feats):\n",
    "        super(MPNNClassifier, self).__init__()\n",
    "        self.edge_conv = dglnn.EdgeConv(in_feats, hidden_size)\n",
    "        self.reduce_function = dgl.function.mean('m', 'h')\n",
    "        self.fc = nn.Linear(74, out_feats)\n",
    "\n",
    "    def forward(self, g, features):\n",
    "        # Custom message function\n",
    "        def message_function(edges):\n",
    "            return {'m': edges.src['h'] + edges.dst['h']}\n",
    "\n",
    "        # Message passing\n",
    "        g.ndata['h'] = features\n",
    "        g.apply_edges(message_function)\n",
    "        g.update_all(dgl.function.copy_e('m', 'm'), self.reduce_function)\n",
    "        \n",
    "        x = dgl.mean_nodes(g, 'h')\n",
    "        return self.fc(x)\n"
   ]
  },
  {
   "cell_type": "markdown",
   "id": "869b1305",
   "metadata": {
    "papermill": {
     "duration": 0.067688,
     "end_time": "2024-01-12T08:42:37.508822",
     "exception": false,
     "start_time": "2024-01-12T08:42:37.441134",
     "status": "completed"
    },
    "tags": []
   },
   "source": [
    "## Instance of the the MPNN Model"
   ]
  },
  {
   "cell_type": "code",
   "execution_count": null,
   "id": "33490dca",
   "metadata": {
    "execution": {
     "iopub.execute_input": "2024-01-12T08:42:37.766415Z",
     "iopub.status.busy": "2024-01-12T08:42:37.766073Z",
     "iopub.status.idle": "2024-01-12T08:42:37.775959Z",
     "shell.execute_reply": "2024-01-12T08:42:37.774556Z"
    },
    "papermill": {
     "duration": 0.178625,
     "end_time": "2024-01-12T08:42:37.778844",
     "exception": false,
     "start_time": "2024-01-12T08:42:37.600219",
     "status": "completed"
    },
    "tags": []
   },
   "outputs": [],
   "source": [
    "# Instantiate the model\n",
    "in_feats = train_graphs[0].ndata['h'].shape[1]  # Replace with your feature size\n",
    "model = MPNNClassifier(in_feats, hidden_size=74, out_feats=1).to(device)\n",
    "\n",
    "# Loss and optimizer\n",
    "criterion = nn.BCEWithLogitsLoss()  # Use this loss for binary classification with a sigmoid activation\n",
    "optimizer = torch.optim.Adam(model.parameters(), lr=0.0001)\n"
   ]
  },
  {
   "cell_type": "markdown",
   "id": "aed670be",
   "metadata": {
    "papermill": {
     "duration": 0.227209,
     "end_time": "2024-01-12T08:42:38.488983",
     "exception": false,
     "start_time": "2024-01-12T08:42:38.261774",
     "status": "completed"
    },
    "tags": []
   },
   "source": [
    "## Train the MPNN model"
   ]
  },
  {
   "cell_type": "code",
   "execution_count": null,
   "id": "a723d6c8",
   "metadata": {
    "execution": {
     "iopub.execute_input": "2024-01-12T08:42:38.653819Z",
     "iopub.status.busy": "2024-01-12T08:42:38.651978Z",
     "iopub.status.idle": "2024-01-12T16:02:09.407367Z",
     "shell.execute_reply": "2024-01-12T16:02:09.404731Z"
    },
    "papermill": {
     "duration": 26370.983743,
     "end_time": "2024-01-12T16:02:09.561583",
     "exception": false,
     "start_time": "2024-01-12T08:42:38.577840",
     "status": "completed"
    },
    "tags": []
   },
   "outputs": [],
   "source": [
    "num_epochs = 500\n",
    "early_stopping = EarlyStopping(patience=25, min_delta=0.002)\n",
    "\n",
    "# Initialize lists to store loss values\n",
    "mpnn_train_loss_list = []\n",
    "mpnn_val_loss_list = []\n",
    "\n",
    "for epoch in range(num_epochs):\n",
    "    # Training\n",
    "    train_loss = train(model, train_loader, criterion, optimizer, device)\n",
    "    mpnn_train_loss_list.append(train_loss)  # Store train loss\n",
    "\n",
    "    # Validation\n",
    "    val_loss, _, _, _ = validate(model, val_loader, criterion, device)\n",
    "    mpnn_val_loss_list.append(val_loss)  # Store validation loss\n",
    "\n",
    "    # Print and check for early stopping\n",
    "    print(f\"Epoch: {epoch+1}, train_loss: {train_loss:.4f}, val_loss: {val_loss:.4f}\")\n",
    "    early_stopping(val_loss, epoch)\n",
    "    if early_stopping.early_stop:\n",
    "        print(f\"Early stopping triggered at epoch {epoch+1}\")\n",
    "        break\n",
    "    \n",
    "# Store the epoch number when early stopping was triggered\n",
    "num_epochs_early = early_stopping.stopped_epoch + 1\n",
    "\n"
   ]
  },
  {
   "cell_type": "code",
   "execution_count": null,
   "id": "36439a54",
   "metadata": {
    "execution": {
     "iopub.execute_input": "2024-01-12T16:02:09.975930Z",
     "iopub.status.busy": "2024-01-12T16:02:09.975247Z",
     "iopub.status.idle": "2024-01-12T16:02:10.251901Z",
     "shell.execute_reply": "2024-01-12T16:02:10.250218Z"
    },
    "papermill": {
     "duration": 0.46962,
     "end_time": "2024-01-12T16:02:10.255333",
     "exception": false,
     "start_time": "2024-01-12T16:02:09.785713",
     "status": "completed"
    },
    "tags": []
   },
   "outputs": [],
   "source": [
    "# Ensure that the length of mpnn_train_loss_list and mpnn_val_loss_list is equal to the number of epochs processed\n",
    "assert len(mpnn_train_loss_list) == len(mpnn_val_loss_list)\n",
    "\n",
    "# Plotting\n",
    "plt.figure(figsize=(10, 6))\n",
    "plt.plot(mpnn_train_loss_list, label='Training Loss')\n",
    "plt.plot(mpnn_val_loss_list, label='Validation Loss')\n",
    "plt.title('Training and Validation Loss Over Epochs')\n",
    "plt.xlabel('Epochs')\n",
    "plt.ylabel('Loss')\n",
    "plt.legend()\n",
    "plt.grid(True)\n",
    "plt.show()"
   ]
  },
  {
   "cell_type": "markdown",
   "id": "9a2aa5ce",
   "metadata": {
    "papermill": {
     "duration": 0.220907,
     "end_time": "2024-01-12T16:02:10.590598",
     "exception": false,
     "start_time": "2024-01-12T16:02:10.369691",
     "status": "completed"
    },
    "tags": []
   },
   "source": [
    "## Train on merged train and val sets\n"
   ]
  },
  {
   "cell_type": "code",
   "execution_count": null,
   "id": "666e8f08",
   "metadata": {
    "execution": {
     "iopub.execute_input": "2024-01-12T16:02:10.750163Z",
     "iopub.status.busy": "2024-01-12T16:02:10.749795Z",
     "iopub.status.idle": "2024-01-12T16:02:10.758476Z",
     "shell.execute_reply": "2024-01-12T16:02:10.756870Z"
    },
    "papermill": {
     "duration": 0.089157,
     "end_time": "2024-01-12T16:02:10.760851",
     "exception": false,
     "start_time": "2024-01-12T16:02:10.671694",
     "status": "completed"
    },
    "tags": []
   },
   "outputs": [],
   "source": [
    "def train(model, data_loader, criterion, optimizer, device):\n",
    "    model.train()\n",
    "    total_loss = 0\n",
    "    for batch_graphs, batch_labels in data_loader:\n",
    "        batch_graphs = batch_graphs.to(device)\n",
    "        batch_labels = batch_labels.clone().detach().to(device)\n",
    "        batch_features = batch_graphs.ndata['h']\n",
    "\n",
    "        outputs = model(batch_graphs, batch_features)\n",
    "        outputs = outputs.squeeze() # remove extra dimension\n",
    "        loss = criterion(outputs, batch_labels)\n",
    "        optimizer.zero_grad()\n",
    "        loss.backward()\n",
    "        optimizer.step()\n",
    "        total_loss += loss.item()\n",
    "\n",
    "    return total_loss / len(data_loader)"
   ]
  },
  {
   "cell_type": "markdown",
   "id": "b1476a42",
   "metadata": {
    "papermill": {
     "duration": 0.148983,
     "end_time": "2024-01-12T16:02:10.989354",
     "exception": false,
     "start_time": "2024-01-12T16:02:10.840371",
     "status": "completed"
    },
    "tags": []
   },
   "source": [
    "## Reset weights before training again with all data\n"
   ]
  },
  {
   "cell_type": "code",
   "execution_count": null,
   "id": "7dbc0e30",
   "metadata": {
    "execution": {
     "iopub.execute_input": "2024-01-12T16:02:12.063703Z",
     "iopub.status.busy": "2024-01-12T16:02:12.063123Z",
     "iopub.status.idle": "2024-01-12T16:02:12.077309Z",
     "shell.execute_reply": "2024-01-12T16:02:12.075507Z"
    },
    "papermill": {
     "duration": 0.461573,
     "end_time": "2024-01-12T16:02:12.081274",
     "exception": false,
     "start_time": "2024-01-12T16:02:11.619701",
     "status": "completed"
    },
    "tags": []
   },
   "outputs": [],
   "source": [
    "def reset_weights(m):\n",
    "    \"\"\"\n",
    "    This function will reset the weights of a given module.\n",
    "    \"\"\"\n",
    "    if isinstance(m, nn.Conv2d) or isinstance(m, nn.Linear):\n",
    "        m.reset_parameters()\n",
    "\n",
    "# Example usage with your model\n",
    "model.apply(reset_weights)"
   ]
  },
  {
   "cell_type": "code",
   "execution_count": null,
   "id": "a95a1ee2",
   "metadata": {
    "execution": {
     "iopub.execute_input": "2024-01-12T16:02:12.840691Z",
     "iopub.status.busy": "2024-01-12T16:02:12.840082Z",
     "iopub.status.idle": "2024-01-12T16:17:57.931616Z",
     "shell.execute_reply": "2024-01-12T16:17:57.929595Z"
    },
    "papermill": {
     "duration": 945.342236,
     "end_time": "2024-01-12T16:17:57.934468",
     "exception": false,
     "start_time": "2024-01-12T16:02:12.592232",
     "status": "completed"
    },
    "tags": []
   },
   "outputs": [],
   "source": [
    "print(\"Final training on merged training and validation sets\")\n",
    "\n",
    "# Initialize list to store loss values\n",
    "final_train_losses = []\n",
    "\n",
    "for epoch in range(num_epochs_early):\n",
    "    # Training\n",
    "    train_loss = train(model, train_loader_all, criterion, optimizer, device)\n",
    "    final_train_losses.append(train_loss)  # Store train loss\n",
    "\n",
    "    # Print train loss\n",
    "    print(f\"Epoch {epoch+1}/{num_epochs_early}, Train Loss: {train_loss:.4f}\")\n"
   ]
  },
  {
   "cell_type": "code",
   "execution_count": null,
   "id": "a3b7a1d7",
   "metadata": {
    "execution": {
     "iopub.execute_input": "2024-01-12T16:17:58.158612Z",
     "iopub.status.busy": "2024-01-12T16:17:58.158079Z",
     "iopub.status.idle": "2024-01-12T16:17:58.438696Z",
     "shell.execute_reply": "2024-01-12T16:17:58.437031Z"
    },
    "papermill": {
     "duration": 0.420751,
     "end_time": "2024-01-12T16:17:58.441516",
     "exception": false,
     "start_time": "2024-01-12T16:17:58.020765",
     "status": "completed"
    },
    "tags": []
   },
   "outputs": [],
   "source": [
    "# Plotting\n",
    "plt.figure(figsize=(10, 6))\n",
    "plt.plot(final_train_losses, label='Training Loss')\n",
    "plt.title('Training Loss Over Epochs on Merged Training and Validation Sets')\n",
    "plt.xlabel('Epochs')\n",
    "plt.ylabel('Loss')\n",
    "plt.legend()\n",
    "plt.grid(True)\n",
    "plt.show()\n"
   ]
  },
  {
   "cell_type": "markdown",
   "id": "6ba1fe6a",
   "metadata": {
    "papermill": {
     "duration": 0.191867,
     "end_time": "2024-01-12T16:17:58.731827",
     "exception": false,
     "start_time": "2024-01-12T16:17:58.539960",
     "status": "completed"
    },
    "tags": []
   },
   "source": [
    "## Save the model"
   ]
  },
  {
   "cell_type": "code",
   "execution_count": null,
   "id": "3f10a146",
   "metadata": {
    "execution": {
     "iopub.execute_input": "2024-01-12T16:17:59.208567Z",
     "iopub.status.busy": "2024-01-12T16:17:59.208215Z",
     "iopub.status.idle": "2024-01-12T16:17:59.216612Z",
     "shell.execute_reply": "2024-01-12T16:17:59.214784Z"
    },
    "papermill": {
     "duration": 0.328211,
     "end_time": "2024-01-12T16:17:59.218631",
     "exception": false,
     "start_time": "2024-01-12T16:17:58.890420",
     "status": "completed"
    },
    "tags": []
   },
   "outputs": [],
   "source": [
    "# if there is not a folder named 'model' create one\n",
    "if not os.path.exists('model_experiment'):\n",
    "    os.mkdir('model_experiment')\n",
    "\n",
    "# save the model\n",
    "torch.save(model.state_dict(), 'model_experiment/mpnn_model_experiment.pth')"
   ]
  },
  {
   "cell_type": "code",
   "execution_count": null,
   "id": "7eb4375b",
   "metadata": {
    "execution": {
     "iopub.execute_input": "2024-01-12T16:17:59.511189Z",
     "iopub.status.busy": "2024-01-12T16:17:59.510854Z",
     "iopub.status.idle": "2024-01-12T16:17:59.526175Z",
     "shell.execute_reply": "2024-01-12T16:17:59.524655Z"
    },
    "papermill": {
     "duration": 0.175428,
     "end_time": "2024-01-12T16:17:59.529814",
     "exception": false,
     "start_time": "2024-01-12T16:17:59.354386",
     "status": "completed"
    },
    "tags": []
   },
   "outputs": [],
   "source": [
    "# Define the number of output features for binary classification\n",
    "out_feats = 1\n",
    "\n",
    "# Instantiate the model\n",
    "hidden_size = 74 \n",
    "model = MPNNClassifier(in_feats, hidden_size, out_feats).to(device)\n",
    "\n",
    "# Load the model state\n",
    "model.load_state_dict(torch.load('model_experiment/mpnn_model_experiment.pth'))\n"
   ]
  },
  {
   "cell_type": "markdown",
   "id": "bb3d72e7",
   "metadata": {
    "papermill": {
     "duration": 0.137208,
     "end_time": "2024-01-12T16:17:59.841453",
     "exception": false,
     "start_time": "2024-01-12T16:17:59.704245",
     "status": "completed"
    },
    "tags": []
   },
   "source": [
    "## Test the model"
   ]
  },
  {
   "cell_type": "markdown",
   "id": "a6a0e287",
   "metadata": {
    "papermill": {
     "duration": 0.099633,
     "end_time": "2024-01-12T16:18:00.043417",
     "exception": false,
     "start_time": "2024-01-12T16:17:59.943784",
     "status": "completed"
    },
    "tags": []
   },
   "source": [
    "## Predict probabilities"
   ]
  },
  {
   "cell_type": "code",
   "execution_count": null,
   "id": "2729f1ac",
   "metadata": {
    "execution": {
     "iopub.execute_input": "2024-01-12T16:18:00.609002Z",
     "iopub.status.busy": "2024-01-12T16:18:00.608685Z",
     "iopub.status.idle": "2024-01-12T16:18:03.119293Z",
     "shell.execute_reply": "2024-01-12T16:18:03.116951Z"
    },
    "papermill": {
     "duration": 2.831045,
     "end_time": "2024-01-12T16:18:03.122602",
     "exception": false,
     "start_time": "2024-01-12T16:18:00.291557",
     "status": "completed"
    },
    "tags": []
   },
   "outputs": [],
   "source": [
    "y_true, y_pred, y_pred_proba = test(model, test_loader, device)\n",
    "\n",
    "confidence_percentages = [prob * 100 for prob in y_pred_proba]\n",
    "\n",
    "y_pred_proba = np.array(y_pred_proba)"
   ]
  },
  {
   "cell_type": "markdown",
   "id": "dfa3c803",
   "metadata": {
    "papermill": {
     "duration": 0.08605,
     "end_time": "2024-01-12T16:18:03.312752",
     "exception": false,
     "start_time": "2024-01-12T16:18:03.226702",
     "status": "completed"
    },
    "tags": []
   },
   "source": [
    "## Results"
   ]
  },
  {
   "cell_type": "code",
   "execution_count": null,
   "id": "81c1e83d",
   "metadata": {
    "execution": {
     "iopub.execute_input": "2024-01-12T16:18:03.586668Z",
     "iopub.status.busy": "2024-01-12T16:18:03.586310Z",
     "iopub.status.idle": "2024-01-12T16:18:03.689207Z",
     "shell.execute_reply": "2024-01-12T16:18:03.687007Z"
    },
    "papermill": {
     "duration": 0.207511,
     "end_time": "2024-01-12T16:18:03.691160",
     "exception": false,
     "start_time": "2024-01-12T16:18:03.483649",
     "status": "completed"
    },
    "tags": []
   },
   "outputs": [],
   "source": [
    "print(f'Accuracy: {accuracy_score(y_true, y_pred)}')\n",
    "print(f'Precision: {precision_score(y_true, y_pred)}')\n",
    "print(f'Recall: {recall_score(y_true, y_pred)}')\n",
    "print(f'F1: {f1_score(y_true, y_pred)}')\n",
    "print(f'AUC: {roc_auc_score(y_true, y_pred_proba)}')"
   ]
  },
  {
   "cell_type": "code",
   "execution_count": null,
   "id": "da80f9e0",
   "metadata": {
    "execution": {
     "iopub.execute_input": "2024-01-12T16:18:03.903292Z",
     "iopub.status.busy": "2024-01-12T16:18:03.902999Z",
     "iopub.status.idle": "2024-01-12T16:18:03.945348Z",
     "shell.execute_reply": "2024-01-12T16:18:03.943648Z"
    },
    "papermill": {
     "duration": 0.169778,
     "end_time": "2024-01-12T16:18:03.947787",
     "exception": false,
     "start_time": "2024-01-12T16:18:03.778009",
     "status": "completed"
    },
    "tags": []
   },
   "outputs": [],
   "source": [
    "# Accuracy: 0.6711336717428088\n",
    "# Precision: 0.6515337423312884\n",
    "# Recall: 0.7245190339746214\n",
    "# F1: 0.6860908327411331\n",
    "# AUC: 0.7276068962734443"
   ]
  },
  {
   "cell_type": "markdown",
   "id": "56866f5d",
   "metadata": {
    "papermill": {
     "duration": 0.108182,
     "end_time": "2024-01-12T16:18:04.142995",
     "exception": false,
     "start_time": "2024-01-12T16:18:04.034813",
     "status": "completed"
    },
    "tags": []
   },
   "source": [
    "## Confusion matrix"
   ]
  },
  {
   "cell_type": "code",
   "execution_count": null,
   "id": "1dbdb512",
   "metadata": {
    "execution": {
     "iopub.execute_input": "2024-01-12T16:18:04.870787Z",
     "iopub.status.busy": "2024-01-12T16:18:04.870270Z",
     "iopub.status.idle": "2024-01-12T16:18:05.313649Z",
     "shell.execute_reply": "2024-01-12T16:18:05.311700Z"
    },
    "papermill": {
     "duration": 0.949077,
     "end_time": "2024-01-12T16:18:05.316385",
     "exception": false,
     "start_time": "2024-01-12T16:18:04.367308",
     "status": "completed"
    },
    "tags": []
   },
   "outputs": [],
   "source": [
    "# confusion matrix\n",
    "cm = confusion_matrix(y_true, y_pred)\n",
    "cm_df = pd.DataFrame(cm, index=['RNA binder', 'non-RNA binder'], columns=['RNA binder', 'non-RNA binder'])\n",
    "sns.heatmap(cm_df, annot=True, cmap='Blues', fmt='g')\n",
    "sns.set(context='paper', style='white', font_scale=1.5)\n",
    "plt.title('Confusion Matrix')\n",
    "plt.ylabel('True Label')\n",
    "plt.xlabel('Predicted Label')\n",
    "plt.savefig('visuals/confusion_matrix_mpnn_experiment.png', dpi=300)\n",
    "plt.show()\n",
    "\n"
   ]
  },
  {
   "cell_type": "markdown",
   "id": "eb19c5c0",
   "metadata": {
    "papermill": {
     "duration": 1.064345,
     "end_time": "2024-01-12T16:18:07.338947",
     "exception": false,
     "start_time": "2024-01-12T16:18:06.274602",
     "status": "completed"
    },
    "tags": []
   },
   "source": [
    "## Classification report"
   ]
  },
  {
   "cell_type": "code",
   "execution_count": null,
   "id": "5aeb1a39",
   "metadata": {
    "execution": {
     "iopub.execute_input": "2024-01-12T16:18:08.153232Z",
     "iopub.status.busy": "2024-01-12T16:18:08.152719Z",
     "iopub.status.idle": "2024-01-12T16:18:08.196238Z",
     "shell.execute_reply": "2024-01-12T16:18:08.194672Z"
    },
    "papermill": {
     "duration": 0.463636,
     "end_time": "2024-01-12T16:18:08.199578",
     "exception": false,
     "start_time": "2024-01-12T16:18:07.735942",
     "status": "completed"
    },
    "tags": []
   },
   "outputs": [],
   "source": [
    "# classification report\n",
    "print(classification_report(y_true, y_pred))\n"
   ]
  },
  {
   "cell_type": "markdown",
   "id": "753f7cdd",
   "metadata": {
    "papermill": {
     "duration": 0.129219,
     "end_time": "2024-01-12T16:18:08.478388",
     "exception": false,
     "start_time": "2024-01-12T16:18:08.349169",
     "status": "completed"
    },
    "tags": []
   },
   "source": [
    "## ROC AUC"
   ]
  },
  {
   "cell_type": "code",
   "execution_count": null,
   "id": "5344480b",
   "metadata": {
    "execution": {
     "iopub.execute_input": "2024-01-12T16:18:08.963610Z",
     "iopub.status.busy": "2024-01-12T16:18:08.963237Z",
     "iopub.status.idle": "2024-01-12T16:18:09.473813Z",
     "shell.execute_reply": "2024-01-12T16:18:09.472340Z"
    },
    "papermill": {
     "duration": 0.678616,
     "end_time": "2024-01-12T16:18:09.479646",
     "exception": false,
     "start_time": "2024-01-12T16:18:08.801030",
     "status": "completed"
    },
    "tags": []
   },
   "outputs": [],
   "source": [
    "# visualize ROC curve\n",
    "fpr, tpr, thresholds = roc_curve(y_true, y_pred_proba)\n",
    "roc_auc = auc(fpr, tpr)\n",
    "\n",
    "plt.figure(figsize=(8, 6))\n",
    "plt.plot(fpr, tpr, color='darkorange', lw=2, label='ROC curve (area = %0.2f)'% roc_auc)\n",
    "plt.plot([0, 1], [0, 1], color='navy', lw=2, linestyle='--')\n",
    "plt.title('ROC curve')\n",
    "plt.xlabel('False Positive Rate')\n",
    "plt.ylabel('True Positive Rate')\n",
    "plt.legend(loc='lower right')\n",
    "plt.savefig('visuals/roc_curve_mpnn_experiment.png', dpi=300)\n",
    "plt.show()\n"
   ]
  },
  {
   "cell_type": "code",
   "execution_count": null,
   "id": "3ac8e715",
   "metadata": {
    "execution": {
     "iopub.execute_input": "2024-01-12T16:18:09.763484Z",
     "iopub.status.busy": "2024-01-12T16:18:09.763189Z",
     "iopub.status.idle": "2024-01-12T16:18:10.334114Z",
     "shell.execute_reply": "2024-01-12T16:18:10.332638Z"
    },
    "papermill": {
     "duration": 0.721396,
     "end_time": "2024-01-12T16:18:10.337185",
     "exception": false,
     "start_time": "2024-01-12T16:18:09.615789",
     "status": "completed"
    },
    "tags": []
   },
   "outputs": [],
   "source": [
    "# visualize confidence_percentages in plot\n",
    "plt.figure(figsize=(8, 6))\n",
    "plt.hist(confidence_percentages, bins=50)\n",
    "plt.title('Confidence Histogram')\n",
    "plt.xlabel('Confidence Percentage')\n",
    "plt.ylabel('Frequency')\n",
    "plt.savefig('visuals/confidence_histogram_mpnn_experiment.png', dpi=300)\n",
    "plt.show()\n"
   ]
  },
  {
   "cell_type": "code",
   "execution_count": null,
   "id": "caf84048",
   "metadata": {
    "execution": {
     "iopub.execute_input": "2024-01-12T16:18:10.684974Z",
     "iopub.status.busy": "2024-01-12T16:18:10.684646Z",
     "iopub.status.idle": "2024-01-12T16:18:10.760582Z",
     "shell.execute_reply": "2024-01-12T16:18:10.758572Z"
    },
    "papermill": {
     "duration": 0.293691,
     "end_time": "2024-01-12T16:18:10.762835",
     "exception": false,
     "start_time": "2024-01-12T16:18:10.469144",
     "status": "completed"
    },
    "tags": []
   },
   "outputs": [],
   "source": [
    "# Sort test predictions by confidence and get top 10 indices\n",
    "sorted_pairs = sorted(enumerate(confidence_percentages), key=lambda x: x[1], reverse=True)\n",
    "top_molecules_test_indices = [index for index, _ in sorted_pairs[:20]]\n",
    "\n",
    "# The indices in test_graphs correspond to their positions in the original loaded_graphs_orig\n",
    "# Find the original indices in loaded_graphs_orig\n",
    "original_indices = [loaded_graphs_orig.index(test_graphs[i]) for i in top_molecules_test_indices]\n",
    "\n",
    "# Use the original indices to look up the corresponding rows in reconstructed_df\n",
    "top_molecule_row_indices = reconstructed_df.index[original_indices]\n",
    "\n",
    "# Now, top_molecule_row_indices contains the DataFrame indices of the top 10 RNA-binding molecules\n"
   ]
  },
  {
   "cell_type": "code",
   "execution_count": null,
   "id": "7547ee53",
   "metadata": {
    "execution": {
     "iopub.execute_input": "2024-01-12T16:18:10.963299Z",
     "iopub.status.busy": "2024-01-12T16:18:10.963017Z",
     "iopub.status.idle": "2024-01-12T16:18:10.969257Z",
     "shell.execute_reply": "2024-01-12T16:18:10.967802Z"
    },
    "papermill": {
     "duration": 0.104179,
     "end_time": "2024-01-12T16:18:10.971270",
     "exception": false,
     "start_time": "2024-01-12T16:18:10.867091",
     "status": "completed"
    },
    "tags": []
   },
   "outputs": [],
   "source": [
    "# create folder 'top_molecules' if it does not exist\n",
    "if not os.path.exists('top_molecules_mpnn_experiment'):\n",
    "    os.mkdir('top_molecules_mpnn_experiment')\n",
    "    "
   ]
  },
  {
   "cell_type": "code",
   "execution_count": null,
   "id": "8dfd7ae4",
   "metadata": {
    "execution": {
     "iopub.execute_input": "2024-01-12T16:18:11.407719Z",
     "iopub.status.busy": "2024-01-12T16:18:11.407449Z",
     "iopub.status.idle": "2024-01-12T16:18:18.390568Z",
     "shell.execute_reply": "2024-01-12T16:18:18.389145Z"
    },
    "papermill": {
     "duration": 7.336144,
     "end_time": "2024-01-12T16:18:18.394427",
     "exception": false,
     "start_time": "2024-01-12T16:18:11.058283",
     "status": "completed"
    },
    "tags": []
   },
   "outputs": [],
   "source": [
    "# Retrieve the SMILES codes and source information for the top 10 molecules\n",
    "top_smiles = df_small.iloc[top_molecule_row_indices]['SMILES'].tolist()\n",
    "top_sources = df_small.iloc[top_molecule_row_indices]['source'].tolist()\n",
    "\n",
    "# Retrieve the confidence scores using the indices relative to the test dataset\n",
    "top_confidences = [confidence_percentages[i] for i in top_molecules_test_indices]\n",
    "\n",
    "# Convert SMILES to RDKit Mol objects\n",
    "mols = [Chem.MolFromSmiles(smile) for smile in top_smiles]\n",
    "\n",
    "# Generate and save images for each molecule\n",
    "for i, mol in enumerate(mols):\n",
    "    img = Draw.MolToImage(mol, size=(500, 500))\n",
    "    plt.figure(figsize=(5, 5))\n",
    "    plt.imshow(img)\n",
    "    # title = f\"SMILES: {top_smiles[i]}\\nSource: {top_sources[i]}\\nConfidence: {top_confidences[i]:.2f}%\"\n",
    "    # plt.title(title)\n",
    "    plt.subplots_adjust(bottom=0.20)  # Adjust the position of the title\n",
    "    plt.axis('off')\n",
    "    \n",
    "    # Save the image to the 'top_molecules' folder using the rank and source as the filename\n",
    "    plt.savefig(f\"top_molecules_mpnn_experiment/molecule_{i+1}_{top_sources[i]}_a.png\", dpi=300)\n",
    "    plt.show()\n"
   ]
  },
  {
   "cell_type": "code",
   "execution_count": null,
   "id": "dde8afc2",
   "metadata": {
    "execution": {
     "iopub.execute_input": "2024-01-12T16:18:18.659517Z",
     "iopub.status.busy": "2024-01-12T16:18:18.659233Z",
     "iopub.status.idle": "2024-01-12T16:18:26.576505Z",
     "shell.execute_reply": "2024-01-12T16:18:26.575353Z"
    },
    "papermill": {
     "duration": 8.037831,
     "end_time": "2024-01-12T16:18:26.579980",
     "exception": false,
     "start_time": "2024-01-12T16:18:18.542149",
     "status": "completed"
    },
    "tags": []
   },
   "outputs": [],
   "source": [
    "# Define the figure size and font size for titles\n",
    "fig_size = (6, 6)\n",
    "title_font_size = 12\n",
    "\n",
    "# Generate and save images for each molecule\n",
    "for i, mol in enumerate(mols):\n",
    "    img = Draw.MolToImage(mol, size=(300, 300))\n",
    "    \n",
    "    # Create a figure with adjusted size\n",
    "    plt.figure(figsize=fig_size)\n",
    "    plt.imshow(img)\n",
    "    \n",
    "    # Adjust the position of the text within the image\n",
    "    title = f\"SMILES: {top_smiles[i]}\\nSource: {top_sources[i]}\\nConfidence: {top_confidences[i]:.2f}%\"\n",
    "    plt.title(title, fontsize=title_font_size)\n",
    "    plt.subplots_adjust(bottom=0.15)  # Adjust the position of the title\n",
    "    \n",
    "    plt.axis('off')\n",
    "    \n",
    "    # Save the image to the 'top_molecules' folder using the rank and source as the filename\n",
    "    plt.savefig(f\"top_molecules_mpnn_experiment/molecule_{i+1}_{top_sources[i]}_b.png\", dpi=300)\n",
    "    # plt.show()\n"
   ]
  },
  {
   "cell_type": "markdown",
   "id": "30ee5684",
   "metadata": {
    "papermill": {
     "duration": 0.109435,
     "end_time": "2024-01-12T16:18:26.899098",
     "exception": false,
     "start_time": "2024-01-12T16:18:26.789663",
     "status": "completed"
    },
    "tags": []
   },
   "source": [
    "# Graph Attention Networks (GAT)"
   ]
  },
  {
   "cell_type": "code",
   "execution_count": null,
   "id": "763edb93",
   "metadata": {
    "execution": {
     "iopub.execute_input": "2024-01-12T16:18:27.473137Z",
     "iopub.status.busy": "2024-01-12T16:18:27.472815Z",
     "iopub.status.idle": "2024-01-12T16:18:27.480350Z",
     "shell.execute_reply": "2024-01-12T16:18:27.479025Z"
    },
    "papermill": {
     "duration": 0.307271,
     "end_time": "2024-01-12T16:18:27.483409",
     "exception": false,
     "start_time": "2024-01-12T16:18:27.176138",
     "status": "completed"
    },
    "tags": []
   },
   "outputs": [],
   "source": [
    "class GATClassifier(nn.Module):\n",
    "    def __init__(self, in_feats, hidden_size, num_heads=1):\n",
    "        super(GATClassifier, self).__init__()\n",
    "        self.conv1 = dglnn.GATConv(in_feats, hidden_size, num_heads=num_heads)\n",
    "\n",
    "        # Adjusted to account for the mean aggregation of head outputs\n",
    "        self.fc = nn.Linear(hidden_size, 1)  # For binary classification\n",
    "\n",
    "    def forward(self, g, features):\n",
    "        # Apply GAT convolution\n",
    "        gat_output = self.conv1(g, features)  # Shape: [num_nodes, num_heads, hidden_size]\n",
    "\n",
    "        # Mean over heads\n",
    "        x = F.elu(gat_output.mean(1))  # Now shape: [num_nodes, hidden_size]\n",
    "        \n",
    "        # Update node features\n",
    "        g.ndata['h'] = x\n",
    "\n",
    "        # Aggregate node features across the graph\n",
    "        x = dgl.mean_nodes(g, 'h')\n",
    "\n",
    "        # Pass through the fully connected layer\n",
    "        return self.fc(x)\n"
   ]
  },
  {
   "cell_type": "markdown",
   "id": "646dd677",
   "metadata": {
    "papermill": {
     "duration": 0.187515,
     "end_time": "2024-01-12T16:18:27.813212",
     "exception": false,
     "start_time": "2024-01-12T16:18:27.625697",
     "status": "completed"
    },
    "tags": []
   },
   "source": [
    "## Instance of the the GAT Model"
   ]
  },
  {
   "cell_type": "code",
   "execution_count": null,
   "id": "d9640c12",
   "metadata": {
    "execution": {
     "iopub.execute_input": "2024-01-12T16:18:28.808717Z",
     "iopub.status.busy": "2024-01-12T16:18:28.808411Z",
     "iopub.status.idle": "2024-01-12T16:18:28.817687Z",
     "shell.execute_reply": "2024-01-12T16:18:28.816346Z"
    },
    "papermill": {
     "duration": 0.553757,
     "end_time": "2024-01-12T16:18:28.819796",
     "exception": false,
     "start_time": "2024-01-12T16:18:28.266039",
     "status": "completed"
    },
    "tags": []
   },
   "outputs": [],
   "source": [
    "# Instantiate the model\n",
    "in_feats = train_graphs[0].ndata['h'].shape[1]  # Replace with your feature size\n",
    "model = GATClassifier(in_feats, hidden_size=148, num_heads=4).to(device)  # hidden_size is set to 74\n",
    "\n",
    "# Loss and optimizer\n",
    "# criterion = nn.CrossEntropyLoss()\n",
    "criterion = nn.BCEWithLogitsLoss()  # Use this loss if you are using a sigmoid activation\n",
    "optimizer = torch.optim.Adam(model.parameters(), lr=0.0001)"
   ]
  },
  {
   "cell_type": "markdown",
   "id": "a369f500",
   "metadata": {
    "papermill": {
     "duration": 0.319905,
     "end_time": "2024-01-12T16:18:29.610385",
     "exception": false,
     "start_time": "2024-01-12T16:18:29.290480",
     "status": "completed"
    },
    "tags": []
   },
   "source": [
    "## Train the GAT model"
   ]
  },
  {
   "cell_type": "code",
   "execution_count": null,
   "id": "2b464d96",
   "metadata": {
    "execution": {
     "iopub.execute_input": "2024-01-12T16:18:30.321307Z",
     "iopub.status.busy": "2024-01-12T16:18:30.320958Z",
     "iopub.status.idle": "2024-01-13T04:55:23.747377Z",
     "shell.execute_reply": "2024-01-13T04:55:23.745292Z"
    },
    "papermill": {
     "duration": 45413.824896,
     "end_time": "2024-01-13T04:55:24.014791",
     "exception": false,
     "start_time": "2024-01-12T16:18:30.189895",
     "status": "completed"
    },
    "tags": []
   },
   "outputs": [],
   "source": [
    "num_epochs = 500\n",
    "early_stopping = EarlyStopping(patience=25, min_delta=0.002)\n",
    "\n",
    "# Initialize lists to store loss values\n",
    "gat_train_loss_list = []\n",
    "gat_val_loss_list = []\n",
    "\n",
    "for epoch in range(num_epochs):\n",
    "    # Training\n",
    "    train_loss = train(model, train_loader, criterion, optimizer, device)\n",
    "    gat_train_loss_list.append(train_loss)  # Store train loss\n",
    "\n",
    "    # Validation\n",
    "    val_loss, _, _, _ = validate(model, val_loader, criterion, device)\n",
    "    gat_val_loss_list.append(val_loss)  # Store validation loss\n",
    "\n",
    "    # Print and check for early stopping\n",
    "    print(f\"Epoch: {epoch+1}, train_loss: {train_loss:.4f}, val_loss: {val_loss:.4f}\")\n",
    "    early_stopping(val_loss, epoch)\n",
    "    if early_stopping.early_stop:\n",
    "        print(f\"Early stopping triggered at epoch {epoch+1}\")\n",
    "        break\n",
    "    \n",
    "# Store the epoch number when early stopping was triggered\n",
    "num_epochs_early = early_stopping.stopped_epoch + 1\n",
    "\n"
   ]
  },
  {
   "cell_type": "code",
   "execution_count": null,
   "id": "86e79ff5",
   "metadata": {
    "execution": {
     "iopub.execute_input": "2024-01-13T04:55:24.738005Z",
     "iopub.status.busy": "2024-01-13T04:55:24.737686Z",
     "iopub.status.idle": "2024-01-13T04:55:24.954718Z",
     "shell.execute_reply": "2024-01-13T04:55:24.953197Z"
    },
    "papermill": {
     "duration": 0.581308,
     "end_time": "2024-01-13T04:55:24.957232",
     "exception": false,
     "start_time": "2024-01-13T04:55:24.375924",
     "status": "completed"
    },
    "tags": []
   },
   "outputs": [],
   "source": [
    "# Ensure that the length of gat_train_loss_list and gat_val_loss_list is equal to the number of epochs processed\n",
    "assert len(gat_train_loss_list) == len(gat_val_loss_list)\n",
    "\n",
    "# Plotting\n",
    "plt.figure(figsize=(10, 6))\n",
    "plt.plot(gat_train_loss_list, label='Training Loss')\n",
    "plt.plot(gat_val_loss_list, label='Validation Loss')\n",
    "plt.title('Training and Validation Loss Over Epochs')\n",
    "plt.xlabel('Epochs')\n",
    "plt.ylabel('Loss')\n",
    "plt.legend()\n",
    "plt.grid(True)\n",
    "plt.show()"
   ]
  },
  {
   "cell_type": "markdown",
   "id": "97ea726c",
   "metadata": {
    "papermill": {
     "duration": 0.206117,
     "end_time": "2024-01-13T04:55:25.335800",
     "exception": false,
     "start_time": "2024-01-13T04:55:25.129683",
     "status": "completed"
    },
    "tags": []
   },
   "source": [
    "## Train on merged train and val sets\n"
   ]
  },
  {
   "cell_type": "code",
   "execution_count": null,
   "id": "9a815c8d",
   "metadata": {
    "execution": {
     "iopub.execute_input": "2024-01-13T04:55:26.056770Z",
     "iopub.status.busy": "2024-01-13T04:55:26.056472Z",
     "iopub.status.idle": "2024-01-13T04:55:26.064747Z",
     "shell.execute_reply": "2024-01-13T04:55:26.063109Z"
    },
    "papermill": {
     "duration": 0.267765,
     "end_time": "2024-01-13T04:55:26.066860",
     "exception": false,
     "start_time": "2024-01-13T04:55:25.799095",
     "status": "completed"
    },
    "tags": []
   },
   "outputs": [],
   "source": [
    "def train(model, data_loader, criterion, optimizer, device):\n",
    "    model.train()\n",
    "    total_loss = 0\n",
    "    for batch_graphs, batch_labels in data_loader:\n",
    "        batch_graphs = batch_graphs.to(device)\n",
    "        batch_labels = batch_labels.clone().detach().to(device)\n",
    "        batch_features = batch_graphs.ndata['h']\n",
    "\n",
    "        outputs = model(batch_graphs, batch_features)\n",
    "        outputs = outputs.squeeze() # remove extra dimension\n",
    "        loss = criterion(outputs, batch_labels)\n",
    "        optimizer.zero_grad()\n",
    "        loss.backward()\n",
    "        optimizer.step()\n",
    "        total_loss += loss.item()\n",
    "\n",
    "    return total_loss / len(data_loader)"
   ]
  },
  {
   "cell_type": "markdown",
   "id": "bccb4c82",
   "metadata": {
    "papermill": {
     "duration": 0.364901,
     "end_time": "2024-01-13T04:55:26.858391",
     "exception": false,
     "start_time": "2024-01-13T04:55:26.493490",
     "status": "completed"
    },
    "tags": []
   },
   "source": [
    "## Reset weights before training again with all data\n"
   ]
  },
  {
   "cell_type": "code",
   "execution_count": null,
   "id": "bba771d5",
   "metadata": {
    "execution": {
     "iopub.execute_input": "2024-01-13T04:55:27.378130Z",
     "iopub.status.busy": "2024-01-13T04:55:27.377460Z",
     "iopub.status.idle": "2024-01-13T04:55:27.393356Z",
     "shell.execute_reply": "2024-01-13T04:55:27.391183Z"
    },
    "papermill": {
     "duration": 0.335324,
     "end_time": "2024-01-13T04:55:27.395782",
     "exception": false,
     "start_time": "2024-01-13T04:55:27.060458",
     "status": "completed"
    },
    "tags": []
   },
   "outputs": [],
   "source": [
    "def reset_weights(m):\n",
    "    \"\"\"\n",
    "    This function will reset the weights of a given module.\n",
    "    \"\"\"\n",
    "    if isinstance(m, nn.Conv2d) or isinstance(m, nn.Linear):\n",
    "        m.reset_parameters()\n",
    "\n",
    "# Example usage with your model\n",
    "model.apply(reset_weights)"
   ]
  },
  {
   "cell_type": "code",
   "execution_count": null,
   "id": "e92456f8",
   "metadata": {
    "execution": {
     "iopub.execute_input": "2024-01-13T04:55:27.726104Z",
     "iopub.status.busy": "2024-01-13T04:55:27.725493Z",
     "iopub.status.idle": "2024-01-13T05:24:08.905374Z",
     "shell.execute_reply": "2024-01-13T05:24:08.903015Z"
    },
    "papermill": {
     "duration": 1721.390262,
     "end_time": "2024-01-13T05:24:08.909367",
     "exception": false,
     "start_time": "2024-01-13T04:55:27.519105",
     "status": "completed"
    },
    "tags": []
   },
   "outputs": [],
   "source": [
    "print(\"Final training on merged training and validation sets\")\n",
    "\n",
    "# Initialize list to store loss values\n",
    "final_train_losses = []\n",
    "\n",
    "for epoch in range(num_epochs_early):\n",
    "    # Training\n",
    "    train_loss = train(model, train_loader_all, criterion, optimizer, device)\n",
    "    final_train_losses.append(train_loss)  # Store train loss\n",
    "\n",
    "    # Print train loss\n",
    "    print(f\"Epoch {epoch+1}/{num_epochs_early}, Train Loss: {train_loss:.4f}\")\n"
   ]
  },
  {
   "cell_type": "code",
   "execution_count": null,
   "id": "12f62a2a",
   "metadata": {
    "execution": {
     "iopub.execute_input": "2024-01-13T05:24:09.904474Z",
     "iopub.status.busy": "2024-01-13T05:24:09.904026Z",
     "iopub.status.idle": "2024-01-13T05:24:10.124629Z",
     "shell.execute_reply": "2024-01-13T05:24:10.122696Z"
    },
    "papermill": {
     "duration": 0.901725,
     "end_time": "2024-01-13T05:24:10.127603",
     "exception": false,
     "start_time": "2024-01-13T05:24:09.225878",
     "status": "completed"
    },
    "tags": []
   },
   "outputs": [],
   "source": [
    "# Plotting\n",
    "plt.figure(figsize=(10, 6))\n",
    "plt.plot(final_train_losses, label='Training Loss')\n",
    "plt.title('Training Loss Over Epochs on Merged Training and Validation Sets')\n",
    "plt.xlabel('Epochs')\n",
    "plt.ylabel('Loss')\n",
    "plt.legend()\n",
    "plt.grid(True)\n",
    "plt.show()\n"
   ]
  },
  {
   "cell_type": "markdown",
   "id": "5043add5",
   "metadata": {
    "papermill": {
     "duration": 0.546995,
     "end_time": "2024-01-13T05:24:10.858382",
     "exception": false,
     "start_time": "2024-01-13T05:24:10.311387",
     "status": "completed"
    },
    "tags": []
   },
   "source": [
    "## Save the model"
   ]
  },
  {
   "cell_type": "code",
   "execution_count": null,
   "id": "5e55d325",
   "metadata": {
    "execution": {
     "iopub.execute_input": "2024-01-13T05:24:11.760761Z",
     "iopub.status.busy": "2024-01-13T05:24:11.760461Z",
     "iopub.status.idle": "2024-01-13T05:24:11.770278Z",
     "shell.execute_reply": "2024-01-13T05:24:11.768608Z"
    },
    "papermill": {
     "duration": 0.254718,
     "end_time": "2024-01-13T05:24:11.772364",
     "exception": false,
     "start_time": "2024-01-13T05:24:11.517646",
     "status": "completed"
    },
    "tags": []
   },
   "outputs": [],
   "source": [
    "# if there is not a folder named 'model' create one\n",
    "if not os.path.exists('model_experiment'):\n",
    "    os.mkdir('model_experiment')\n",
    "\n",
    "# save the model\n",
    "torch.save(model.state_dict(), 'model_experiment/gat_model_experiment.pth')"
   ]
  },
  {
   "cell_type": "code",
   "execution_count": null,
   "id": "7100dd72",
   "metadata": {
    "execution": {
     "iopub.execute_input": "2024-01-13T05:24:12.368095Z",
     "iopub.status.busy": "2024-01-13T05:24:12.367784Z",
     "iopub.status.idle": "2024-01-13T05:24:12.380870Z",
     "shell.execute_reply": "2024-01-13T05:24:12.379150Z"
    },
    "papermill": {
     "duration": 0.35795,
     "end_time": "2024-01-13T05:24:12.383612",
     "exception": false,
     "start_time": "2024-01-13T05:24:12.025662",
     "status": "completed"
    },
    "tags": []
   },
   "outputs": [],
   "source": [
    "# load the model\n",
    "model = GATClassifier(in_feats, hidden_size=148, num_heads=4).to(device)\n",
    "model.load_state_dict(torch.load('model_experiment/gat_model_experiment.pth'))"
   ]
  },
  {
   "cell_type": "markdown",
   "id": "15f028a1",
   "metadata": {
    "papermill": {
     "duration": 0.256245,
     "end_time": "2024-01-13T05:24:13.180117",
     "exception": false,
     "start_time": "2024-01-13T05:24:12.923872",
     "status": "completed"
    },
    "tags": []
   },
   "source": [
    "## Test the model"
   ]
  },
  {
   "cell_type": "markdown",
   "id": "24e6c2b7",
   "metadata": {
    "papermill": {
     "duration": 0.242658,
     "end_time": "2024-01-13T05:24:13.788425",
     "exception": false,
     "start_time": "2024-01-13T05:24:13.545767",
     "status": "completed"
    },
    "tags": []
   },
   "source": [
    "## Predict probabilities"
   ]
  },
  {
   "cell_type": "code",
   "execution_count": null,
   "id": "fc40b746",
   "metadata": {
    "execution": {
     "iopub.execute_input": "2024-01-13T05:24:14.945823Z",
     "iopub.status.busy": "2024-01-13T05:24:14.945284Z",
     "iopub.status.idle": "2024-01-13T05:24:17.684130Z",
     "shell.execute_reply": "2024-01-13T05:24:17.682639Z"
    },
    "papermill": {
     "duration": 3.179792,
     "end_time": "2024-01-13T05:24:17.687043",
     "exception": false,
     "start_time": "2024-01-13T05:24:14.507251",
     "status": "completed"
    },
    "tags": []
   },
   "outputs": [],
   "source": [
    "y_true, y_pred, y_pred_proba = test(model, test_loader, device)\n",
    "\n",
    "confidence_percentages = [prob * 100 for prob in y_pred_proba]\n",
    "\n",
    "y_pred_proba = np.array(y_pred_proba)"
   ]
  },
  {
   "cell_type": "markdown",
   "id": "73fc598c",
   "metadata": {
    "papermill": {
     "duration": 0.307617,
     "end_time": "2024-01-13T05:24:18.237292",
     "exception": false,
     "start_time": "2024-01-13T05:24:17.929675",
     "status": "completed"
    },
    "tags": []
   },
   "source": [
    "## Results"
   ]
  },
  {
   "cell_type": "code",
   "execution_count": null,
   "id": "c23b23b3",
   "metadata": {
    "execution": {
     "iopub.execute_input": "2024-01-13T05:24:18.674520Z",
     "iopub.status.busy": "2024-01-13T05:24:18.674173Z",
     "iopub.status.idle": "2024-01-13T05:24:18.746518Z",
     "shell.execute_reply": "2024-01-13T05:24:18.744605Z"
    },
    "papermill": {
     "duration": 0.345954,
     "end_time": "2024-01-13T05:24:18.748519",
     "exception": false,
     "start_time": "2024-01-13T05:24:18.402565",
     "status": "completed"
    },
    "tags": []
   },
   "outputs": [],
   "source": [
    "print(f'Accuracy: {accuracy_score(y_true, y_pred)}')\n",
    "print(f'Precision: {precision_score(y_true, y_pred)}')\n",
    "print(f'Recall: {recall_score(y_true, y_pred)}')\n",
    "print(f'F1: {f1_score(y_true, y_pred)}')\n",
    "print(f'AUC: {roc_auc_score(y_true, y_pred_proba)}')"
   ]
  },
  {
   "cell_type": "code",
   "execution_count": null,
   "id": "a9c5fcfe",
   "metadata": {
    "execution": {
     "iopub.execute_input": "2024-01-13T05:24:19.317281Z",
     "iopub.status.busy": "2024-01-13T05:24:19.316746Z",
     "iopub.status.idle": "2024-01-13T05:24:19.324042Z",
     "shell.execute_reply": "2024-01-13T05:24:19.322225Z"
    },
    "papermill": {
     "duration": 0.165611,
     "end_time": "2024-01-13T05:24:19.326465",
     "exception": false,
     "start_time": "2024-01-13T05:24:19.160854",
     "status": "completed"
    },
    "tags": []
   },
   "outputs": [],
   "source": [
    "# Accuracy: 0.7387478849407784\n",
    "# Precision: 0.7532486494378742\n",
    "# Recall: 0.7039159503342884\n",
    "# F1: 0.727747213993511\n",
    "# AUC: 0.8162738424254579\n"
   ]
  },
  {
   "cell_type": "markdown",
   "id": "b29a86ab",
   "metadata": {
    "papermill": {
     "duration": 0.312386,
     "end_time": "2024-01-13T05:24:20.245118",
     "exception": false,
     "start_time": "2024-01-13T05:24:19.932732",
     "status": "completed"
    },
    "tags": []
   },
   "source": [
    "## Confusion matrix"
   ]
  },
  {
   "cell_type": "code",
   "execution_count": null,
   "id": "57425a07",
   "metadata": {
    "execution": {
     "iopub.execute_input": "2024-01-13T05:24:20.803653Z",
     "iopub.status.busy": "2024-01-13T05:24:20.803099Z",
     "iopub.status.idle": "2024-01-13T05:24:21.255762Z",
     "shell.execute_reply": "2024-01-13T05:24:21.253893Z"
    },
    "papermill": {
     "duration": 0.747794,
     "end_time": "2024-01-13T05:24:21.258028",
     "exception": false,
     "start_time": "2024-01-13T05:24:20.510234",
     "status": "completed"
    },
    "tags": []
   },
   "outputs": [],
   "source": [
    "# confusion matrix\n",
    "cm = confusion_matrix(y_true, y_pred)\n",
    "cm_df = pd.DataFrame(cm, index=['RNA binder', 'non-RNA binder'], columns=['RNA binder', 'non-RNA binder'])\n",
    "sns.heatmap(cm_df, annot=True, cmap='Blues', fmt='g')\n",
    "sns.set(context='paper', style='white', font_scale=1.5)\n",
    "plt.title('Confusion Matrix')\n",
    "plt.ylabel('True Label')\n",
    "plt.xlabel('Predicted Label')\n",
    "plt.savefig('visuals/confusion_matrix_gat_experiment.png', dpi=300)\n",
    "plt.show()\n",
    "\n"
   ]
  },
  {
   "cell_type": "markdown",
   "id": "cd5e16e2",
   "metadata": {
    "papermill": {
     "duration": 0.366355,
     "end_time": "2024-01-13T05:24:21.775691",
     "exception": false,
     "start_time": "2024-01-13T05:24:21.409336",
     "status": "completed"
    },
    "tags": []
   },
   "source": [
    "## Classification report"
   ]
  },
  {
   "cell_type": "code",
   "execution_count": null,
   "id": "180f4785",
   "metadata": {
    "execution": {
     "iopub.execute_input": "2024-01-13T05:24:22.516094Z",
     "iopub.status.busy": "2024-01-13T05:24:22.515695Z",
     "iopub.status.idle": "2024-01-13T05:24:22.562389Z",
     "shell.execute_reply": "2024-01-13T05:24:22.560673Z"
    },
    "papermill": {
     "duration": 0.520512,
     "end_time": "2024-01-13T05:24:22.566453",
     "exception": false,
     "start_time": "2024-01-13T05:24:22.045941",
     "status": "completed"
    },
    "tags": []
   },
   "outputs": [],
   "source": [
    "# classification report\n",
    "print(classification_report(y_true, y_pred))\n"
   ]
  },
  {
   "cell_type": "markdown",
   "id": "b11be758",
   "metadata": {
    "papermill": {
     "duration": 0.348685,
     "end_time": "2024-01-13T05:24:23.243673",
     "exception": false,
     "start_time": "2024-01-13T05:24:22.894988",
     "status": "completed"
    },
    "tags": []
   },
   "source": [
    "## ROC AUC"
   ]
  },
  {
   "cell_type": "code",
   "execution_count": null,
   "id": "2210f089",
   "metadata": {
    "execution": {
     "iopub.execute_input": "2024-01-13T05:24:23.805948Z",
     "iopub.status.busy": "2024-01-13T05:24:23.805338Z",
     "iopub.status.idle": "2024-01-13T05:24:24.373782Z",
     "shell.execute_reply": "2024-01-13T05:24:24.371925Z"
    },
    "papermill": {
     "duration": 0.891822,
     "end_time": "2024-01-13T05:24:24.376636",
     "exception": false,
     "start_time": "2024-01-13T05:24:23.484814",
     "status": "completed"
    },
    "tags": []
   },
   "outputs": [],
   "source": [
    "# visualize ROC curve\n",
    "fpr, tpr, thresholds = roc_curve(y_true, y_pred_proba)\n",
    "roc_auc = auc(fpr, tpr)\n",
    "\n",
    "plt.figure(figsize=(8, 6))\n",
    "plt.plot(fpr, tpr, color='darkorange', lw=2, label='ROC curve (area = %0.2f)'% roc_auc)\n",
    "plt.plot([0, 1], [0, 1], color='navy', lw=2, linestyle='--')\n",
    "plt.title('ROC curve')\n",
    "plt.xlabel('False Positive Rate')\n",
    "plt.ylabel('True Positive Rate')\n",
    "plt.legend(loc='lower right')\n",
    "plt.savefig('visuals/roc_curve_gat_experiment.png', dpi=300)\n",
    "plt.show()\n"
   ]
  },
  {
   "cell_type": "code",
   "execution_count": null,
   "id": "7cac882c",
   "metadata": {
    "execution": {
     "iopub.execute_input": "2024-01-13T05:24:24.729618Z",
     "iopub.status.busy": "2024-01-13T05:24:24.729272Z",
     "iopub.status.idle": "2024-01-13T05:24:25.341950Z",
     "shell.execute_reply": "2024-01-13T05:24:25.340223Z"
    },
    "papermill": {
     "duration": 0.768299,
     "end_time": "2024-01-13T05:24:25.345158",
     "exception": false,
     "start_time": "2024-01-13T05:24:24.576859",
     "status": "completed"
    },
    "tags": []
   },
   "outputs": [],
   "source": [
    "# visualize confidence_percentages in plot\n",
    "plt.figure(figsize=(8, 6))\n",
    "plt.hist(confidence_percentages, bins=50)\n",
    "plt.title('Confidence Histogram')\n",
    "plt.xlabel('Confidence Percentage')\n",
    "plt.ylabel('Frequency')\n",
    "plt.savefig('visuals/confidence_histogram_gat_experiment.png', dpi=300)\n",
    "plt.show()\n"
   ]
  },
  {
   "cell_type": "code",
   "execution_count": null,
   "id": "524b27c5",
   "metadata": {
    "execution": {
     "iopub.execute_input": "2024-01-13T05:24:25.699958Z",
     "iopub.status.busy": "2024-01-13T05:24:25.699673Z",
     "iopub.status.idle": "2024-01-13T05:24:25.744933Z",
     "shell.execute_reply": "2024-01-13T05:24:25.743666Z"
    },
    "papermill": {
     "duration": 0.23357,
     "end_time": "2024-01-13T05:24:25.749600",
     "exception": false,
     "start_time": "2024-01-13T05:24:25.516030",
     "status": "completed"
    },
    "tags": []
   },
   "outputs": [],
   "source": [
    "# Sort test predictions by confidence and get top 10 indices\n",
    "sorted_pairs = sorted(enumerate(confidence_percentages), key=lambda x: x[1], reverse=True)\n",
    "top_molecules_test_indices = [index for index, _ in sorted_pairs[:20]]\n",
    "\n",
    "# The indices in test_graphs correspond to their positions in the original loaded_graphs_orig\n",
    "# Find the original indices in loaded_graphs_orig\n",
    "original_indices = [loaded_graphs_orig.index(test_graphs[i]) for i in top_molecules_test_indices]\n",
    "\n",
    "# Use the original indices to look up the corresponding rows in reconstructed_df\n",
    "top_molecule_row_indices = reconstructed_df.index[original_indices]\n",
    "\n",
    "# Now, top_molecule_row_indices contains the DataFrame indices of the top 10 RNA-binding molecules\n"
   ]
  },
  {
   "cell_type": "code",
   "execution_count": null,
   "id": "cc05d357",
   "metadata": {
    "execution": {
     "iopub.execute_input": "2024-01-13T05:24:26.476582Z",
     "iopub.status.busy": "2024-01-13T05:24:26.475949Z",
     "iopub.status.idle": "2024-01-13T05:24:26.484517Z",
     "shell.execute_reply": "2024-01-13T05:24:26.482898Z"
    },
    "papermill": {
     "duration": 0.47577,
     "end_time": "2024-01-13T05:24:26.486694",
     "exception": false,
     "start_time": "2024-01-13T05:24:26.010924",
     "status": "completed"
    },
    "tags": []
   },
   "outputs": [],
   "source": [
    "# create folder 'top_molecules' if it does not exist\n",
    "if not os.path.exists('top_molecules_gat_experiment'):\n",
    "    os.mkdir('top_molecules_gat_experiment')\n",
    "    "
   ]
  },
  {
   "cell_type": "code",
   "execution_count": null,
   "id": "3a4bc521",
   "metadata": {
    "execution": {
     "iopub.execute_input": "2024-01-13T05:24:27.356220Z",
     "iopub.status.busy": "2024-01-13T05:24:27.355445Z",
     "iopub.status.idle": "2024-01-13T05:24:34.216781Z",
     "shell.execute_reply": "2024-01-13T05:24:34.215110Z"
    },
    "papermill": {
     "duration": 7.395803,
     "end_time": "2024-01-13T05:24:34.220546",
     "exception": false,
     "start_time": "2024-01-13T05:24:26.824743",
     "status": "completed"
    },
    "tags": []
   },
   "outputs": [],
   "source": [
    "# Retrieve the SMILES codes and source information for the top 10 molecules\n",
    "top_smiles = df_small.iloc[top_molecule_row_indices]['SMILES'].tolist()\n",
    "top_sources = df_small.iloc[top_molecule_row_indices]['source'].tolist()\n",
    "\n",
    "# Retrieve the confidence scores using the indices relative to the test dataset\n",
    "top_confidences = [confidence_percentages[i] for i in top_molecules_test_indices]\n",
    "\n",
    "# Convert SMILES to RDKit Mol objects\n",
    "mols = [Chem.MolFromSmiles(smile) for smile in top_smiles]\n",
    "\n",
    "# Generate and save images for each molecule\n",
    "for i, mol in enumerate(mols):\n",
    "    img = Draw.MolToImage(mol, size=(500, 500))\n",
    "    plt.figure(figsize=(5, 5))\n",
    "    plt.imshow(img)\n",
    "    # title = f\"SMILES: {top_smiles[i]}\\nSource: {top_sources[i]}\\nConfidence: {top_confidences[i]:.2f}%\"\n",
    "    # plt.title(title)\n",
    "    plt.subplots_adjust(bottom=0.20)  # Adjust the position of the title\n",
    "    plt.axis('off')\n",
    "    \n",
    "    # Save the image to the 'top_molecules' folder using the rank and source as the filename\n",
    "    plt.savefig(f\"top_molecules_gat_experiment/molecule_{i+1}_{top_sources[i]}_a.png\", dpi=300)\n",
    "    plt.show()\n"
   ]
  },
  {
   "cell_type": "code",
   "execution_count": null,
   "id": "3aa81ef7",
   "metadata": {
    "execution": {
     "iopub.execute_input": "2024-01-13T05:24:35.019344Z",
     "iopub.status.busy": "2024-01-13T05:24:35.019048Z",
     "iopub.status.idle": "2024-01-13T05:24:42.711795Z",
     "shell.execute_reply": "2024-01-13T05:24:42.710346Z"
    },
    "papermill": {
     "duration": 8.264984,
     "end_time": "2024-01-13T05:24:42.715565",
     "exception": false,
     "start_time": "2024-01-13T05:24:34.450581",
     "status": "completed"
    },
    "tags": []
   },
   "outputs": [],
   "source": [
    "# Define the figure size and font size for titles\n",
    "fig_size = (6, 6)\n",
    "title_font_size = 12\n",
    "\n",
    "# Generate and save images for each molecule\n",
    "for i, mol in enumerate(mols):\n",
    "    img = Draw.MolToImage(mol, size=(300, 300))\n",
    "    \n",
    "    # Create a figure with adjusted size\n",
    "    plt.figure(figsize=fig_size)\n",
    "    plt.imshow(img)\n",
    "    \n",
    "    # Adjust the position of the text within the image\n",
    "    title = f\"SMILES: {top_smiles[i]}\\nSource: {top_sources[i]}\\nConfidence: {top_confidences[i]:.2f}%\"\n",
    "    plt.title(title, fontsize=title_font_size)\n",
    "    plt.subplots_adjust(bottom=0.15)  # Adjust the position of the title\n",
    "    \n",
    "    plt.axis('off')\n",
    "    \n",
    "    # Save the image to the 'top_molecules' folder using the rank and source as the filename\n",
    "    plt.savefig(f\"top_molecules_gat_experiment/molecule_{i+1}_{top_sources[i]}_b.png\", dpi=300)\n",
    "    plt.show()\n"
   ]
  },
  {
   "cell_type": "code",
   "execution_count": null,
   "id": "c638f197",
   "metadata": {
    "execution": {
     "iopub.execute_input": "2024-01-13T05:24:43.564590Z",
     "iopub.status.busy": "2024-01-13T05:24:43.564195Z",
     "iopub.status.idle": "2024-01-13T05:24:45.015887Z",
     "shell.execute_reply": "2024-01-13T05:24:45.014393Z"
    },
    "papermill": {
     "duration": 1.960306,
     "end_time": "2024-01-13T05:24:45.019560",
     "exception": false,
     "start_time": "2024-01-13T05:24:43.059254",
     "status": "completed"
    },
    "tags": []
   },
   "outputs": [],
   "source": [
    "# Plot the training and validation loss, same model will have same color but different line style use seaborn and style report and second plot style to talk-presentation\n",
    "sns.set(context='talk', rc={'figure.figsize': (11.5, 7)})\n",
    "\n",
    "plt.plot(gcn_train_loss_list, label='GCN Train', color='r', linestyle='--')\n",
    "plt.plot(gcn_val_loss_list, label='GCN Validation', color='r', linestyle='-')\n",
    "plt.plot(mpnn_train_loss_list, label='MPNN Train', color='b', linestyle='--')\n",
    "plt.plot(mpnn_val_loss_list, label='MPNN Validation', color='b', linestyle='-')\n",
    "plt.plot(gat_train_loss_list, label='GAT Train', color='g', linestyle='--')\n",
    "plt.plot(gat_val_loss_list, label='GAT Validation', color='g', linestyle='-')\n",
    "\n",
    "# Markers for early stopping\n",
    "plt.scatter(49, mpnn_train_loss_list[48], color='b', marker='o', s=20, label='MPNN Early Stopping')\n",
    "plt.scatter(49, mpnn_val_loss_list[48], color='b', marker='o', s=20)\n",
    "plt.scatter(49, gat_train_loss_list[48], color='g', marker='o', s=20, label='GAT Early Stopping')\n",
    "plt.scatter(49, gat_val_loss_list[48], color='g', marker='o', s=20)\n",
    "plt.scatter(80, gcn_train_loss_list[79], color='r', marker='o', s=20, label='GCN Early Stopping')\n",
    "plt.scatter(80, gcn_val_loss_list[79], color='r', marker='o', s=20)\n",
    "\n",
    "plt.xlabel('Epoch')\n",
    "plt.ylabel('Loss')\n",
    "plt.legend()\n",
    "plt.savefig('visuals/loss_talk_experiment.png', dpi=300)\n",
    "plt.show()\n",
    "\n",
    "\n",
    "# Plot the training and validation loss, same model will have same color but different line style use seaborn and style report and second plot style to talk-presentation\n",
    "sns.set(context='paper', rc={'figure.figsize': (10, 4)})\n",
    "\n",
    "\n",
    "plt.plot(gcn_train_loss_list, label='GCN Train', color='r', linestyle='--')\n",
    "plt.plot(gcn_val_loss_list, label='GCN Validation', color='r', linestyle='-')\n",
    "plt.plot(mpnn_train_loss_list, label='MPNN Train', color='b', linestyle='--')\n",
    "plt.plot(mpnn_val_loss_list, label='MPNN Validation', color='b', linestyle='-')\n",
    "plt.plot(gat_train_loss_list, label='GAT Train', color='g', linestyle='--')\n",
    "plt.plot(gat_val_loss_list, label='GAT Validation', color='g', linestyle='-')\n",
    "\n",
    "# Markers for early stopping\n",
    "plt.scatter(49, mpnn_train_loss_list[48], color='b', marker='o', s=20, label='MPNN Early Stopping')\n",
    "plt.scatter(49, mpnn_val_loss_list[48], color='b', marker='o', s=20)\n",
    "plt.scatter(49, gat_train_loss_list[48], color='g', marker='o', s=20, label='GAT Early Stopping')\n",
    "plt.scatter(49, gat_val_loss_list[48], color='g', marker='o', s=20)\n",
    "plt.scatter(80, gcn_train_loss_list[79], color='r', marker='o', s=20, label='GCN Early Stopping')\n",
    "plt.scatter(80, gcn_val_loss_list[79], color='r', marker='o', s=20)\n",
    "\n",
    "plt.xlabel('Epoch')\n",
    "plt.ylabel('Loss')\n",
    "plt.legend()\n",
    "plt.savefig('visuals/loss_paper_experiment.png', dpi=300)\n",
    "plt.show()\n",
    "\n",
    "\n"
   ]
  }
 ],
 "metadata": {
  "kernelspec": {
   "display_name": "gnn",
   "language": "python",
   "name": "python3"
  },
  "language_info": {
   "codemirror_mode": {
    "name": "ipython",
    "version": 3
   },
   "file_extension": ".py",
   "mimetype": "text/x-python",
   "name": "python",
   "nbconvert_exporter": "python",
   "pygments_lexer": "ipython3",
   "version": "3.8.18"
  },
  "papermill": {
   "default_parameters": {},
   "duration": 112238.776564,
   "end_time": "2024-01-13T05:24:48.886754",
   "environment_variables": {},
   "exception": null,
   "input_path": "gnn_project_experiment.ipynb",
   "output_path": "gnn_project_experiment.ipynb",
   "parameters": {},
   "start_time": "2024-01-11T22:14:10.110190",
   "version": "2.4.0"
  }
 },
 "nbformat": 4,
 "nbformat_minor": 5
}
