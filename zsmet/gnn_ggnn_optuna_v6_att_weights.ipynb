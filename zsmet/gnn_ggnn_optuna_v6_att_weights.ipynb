{
 "cells": [
  {
   "cell_type": "markdown",
   "id": "f672be0b",
   "metadata": {
    "papermill": {
     "duration": 0.010765,
     "end_time": "2024-03-04T22:35:57.351167",
     "exception": false,
     "start_time": "2024-03-04T22:35:57.340402",
     "status": "completed"
    },
    "tags": []
   },
   "source": [
    "# Load Libraries"
   ]
  },
  {
   "cell_type": "code",
   "execution_count": 1,
   "id": "8fb3e81a",
   "metadata": {
    "execution": {
     "iopub.execute_input": "2024-03-04T22:35:57.367858Z",
     "iopub.status.busy": "2024-03-04T22:35:57.367422Z",
     "iopub.status.idle": "2024-03-04T22:38:16.586955Z",
     "shell.execute_reply": "2024-03-04T22:38:16.584953Z"
    },
    "papermill": {
     "duration": 139.23324,
     "end_time": "2024-03-04T22:38:16.591693",
     "exception": false,
     "start_time": "2024-03-04T22:35:57.358453",
     "status": "completed"
    },
    "tags": []
   },
   "outputs": [],
   "source": [
    "# Standard libraries\n",
    "import os\n",
    "import json\n",
    "import pickle\n",
    "import warnings\n",
    "warnings.filterwarnings('ignore', category=UserWarning, message='TypedStorage is deprecated') # Known issue with PyTorch and DGL\n",
    "import IPython\n",
    "\n",
    "# Data handling\n",
    "import pandas as pd\n",
    "import numpy as np\n",
    "from scipy.spatial.distance import pdist, squareform\n",
    "\n",
    "# Machine learning and model evaluation\n",
    "from sklearn.model_selection import train_test_split\n",
    "from sklearn.metrics import precision_recall_curve, f1_score, accuracy_score, precision_score, recall_score, roc_auc_score, roc_curve, auc, confusion_matrix, classification_report\n",
    "from sklearn.cluster import HDBSCAN\n",
    "\n",
    "# Neural Networks and Deep Learning\n",
    "import torch\n",
    "import torch.nn as nn\n",
    "import torch.nn.functional as F\n",
    "from torch.utils.data import Dataset, DataLoader\n",
    "from torch import sigmoid\n",
    "import torch.optim as optim\n",
    "\n",
    "# Optuna for hyperparameter optimization\n",
    "import optuna\n",
    "from optuna.pruners import MedianPruner, HyperbandPruner\n",
    "\n",
    "# Graph Neural Networks\n",
    "import dgl\n",
    "import dgl.nn as dglnn\n",
    "from dgl import batch\n",
    "from dgl.data.utils import save_graphs, load_graphs\n",
    "from dgl.nn import GATConv, GATv2Conv\n",
    "from dgl import max_nodes\n",
    "\n",
    "# Cheminformatics\n",
    "from rdkit import Chem, DataStructs\n",
    "from rdkit.Chem import AllChem, Draw\n",
    "from rdkit.Chem.Draw import rdMolDraw2D\n",
    "from dgllife.utils import SMILESToBigraph, CanonicalAtomFeaturizer, CanonicalBondFeaturizer\n",
    "from chembl_structure_pipeline import standardizer\n",
    "\n",
    "# Network analysis\n",
    "import networkx as nx\n",
    "\n",
    "# Visualization\n",
    "import matplotlib.pyplot as plt\n",
    "import seaborn as sns\n",
    "\n"
   ]
  },
  {
   "cell_type": "markdown",
   "id": "b484566a",
   "metadata": {
    "papermill": {
     "duration": 0.17276,
     "end_time": "2024-03-04T22:38:16.772104",
     "exception": false,
     "start_time": "2024-03-04T22:38:16.599344",
     "status": "completed"
    },
    "tags": []
   },
   "source": [
    "check if GPU is aviable and the device"
   ]
  },
  {
   "cell_type": "code",
   "execution_count": 2,
   "id": "ddc62385",
   "metadata": {
    "execution": {
     "iopub.execute_input": "2024-03-04T22:38:16.808098Z",
     "iopub.status.busy": "2024-03-04T22:38:16.807203Z",
     "iopub.status.idle": "2024-03-04T22:38:17.868983Z",
     "shell.execute_reply": "2024-03-04T22:38:17.867216Z"
    },
    "papermill": {
     "duration": 1.073638,
     "end_time": "2024-03-04T22:38:17.872204",
     "exception": false,
     "start_time": "2024-03-04T22:38:16.798566",
     "status": "completed"
    },
    "tags": []
   },
   "outputs": [
    {
     "name": "stdout",
     "output_type": "stream",
     "text": [
      "PyTorch version: 2.1.2\n",
      "Is CUDA Supported? True\n"
     ]
    }
   ],
   "source": [
    "import torch\n",
    "print(\"PyTorch version:\", torch.__version__)\n",
    "print(\"Is CUDA Supported?\", torch.cuda.is_available())"
   ]
  },
  {
   "cell_type": "code",
   "execution_count": 3,
   "id": "4e1f6501",
   "metadata": {
    "execution": {
     "iopub.execute_input": "2024-03-04T22:38:17.897020Z",
     "iopub.status.busy": "2024-03-04T22:38:17.896393Z",
     "iopub.status.idle": "2024-03-04T22:38:18.082164Z",
     "shell.execute_reply": "2024-03-04T22:38:18.080152Z"
    },
    "papermill": {
     "duration": 0.208173,
     "end_time": "2024-03-04T22:38:18.085823",
     "exception": false,
     "start_time": "2024-03-04T22:38:17.877650",
     "status": "completed"
    },
    "tags": []
   },
   "outputs": [
    {
     "data": {
      "text/plain": [
       "(True, 1, 'Tesla T4')"
      ]
     },
     "execution_count": 3,
     "metadata": {},
     "output_type": "execute_result"
    }
   ],
   "source": [
    "torch.cuda.is_available(), torch.cuda.device_count(), torch.cuda.get_device_name(0)"
   ]
  },
  {
   "cell_type": "markdown",
   "id": "215f2ffc",
   "metadata": {
    "papermill": {
     "duration": 0.141519,
     "end_time": "2024-03-04T22:38:18.264075",
     "exception": false,
     "start_time": "2024-03-04T22:38:18.122556",
     "status": "completed"
    },
    "tags": []
   },
   "source": [
    "# Data loading"
   ]
  },
  {
   "cell_type": "code",
   "execution_count": 4,
   "id": "e733b781",
   "metadata": {
    "execution": {
     "iopub.execute_input": "2024-03-04T22:38:18.296037Z",
     "iopub.status.busy": "2024-03-04T22:38:18.295425Z",
     "iopub.status.idle": "2024-03-04T22:38:18.303076Z",
     "shell.execute_reply": "2024-03-04T22:38:18.301545Z"
    },
    "papermill": {
     "duration": 0.017986,
     "end_time": "2024-03-04T22:38:18.305874",
     "exception": false,
     "start_time": "2024-03-04T22:38:18.287888",
     "status": "completed"
    },
    "tags": []
   },
   "outputs": [],
   "source": [
    "# def load_and_process_dataset(file_path, source_name):\n",
    "#     # Load dataset\n",
    "#     dataset = pd.read_json(file_path)\n",
    "    \n",
    "#     # Reset index\n",
    "#     dataset.reset_index(drop=True, inplace=True)\n",
    "    \n",
    "#     # Drop unnecessary columns, keeping only 'SMILES' and 'source'\n",
    "#     dataset = dataset[['SMILES', 'source']] if 'SMILES' in dataset.columns else dataset[['smiles', 'source']]\n",
    "    \n",
    "#     # Rename 'SMILES' column to 'smiles'\n",
    "#     dataset.rename(columns={'SMILES': 'smiles'}, inplace=True)\n",
    "    \n",
    "#     # Assign source name if missing\n",
    "#     if 'source' not in dataset.columns:\n",
    "#         dataset['source'] = source_name\n",
    "    \n",
    "#     # Add 'binds_to_rna' column based on the source\n",
    "#     dataset['binds_to_rna'] = 0 if source_name == 'enmine_protein' else 1\n",
    "    \n",
    "#     return dataset\n",
    "\n",
    "# # Define file paths and source names\n",
    "# datasets_info = [\n",
    "#     ('data_mvi/chemdiv_df.json', 'chemdiv'),\n",
    "#     ('data_mvi/enamine_df.json', 'enamine'),\n",
    "#     ('data_mvi/picked_molecules.json', 'enmine_protein'),\n",
    "#     ('data_mvi/life_chemicals_df.json', 'life_chemicals'),\n",
    "#     ('data_mvi/robin_df.json', 'robin')\n",
    "# ]\n",
    "\n",
    "# # Load, process, and combine datasets\n",
    "# combined_df = pd.concat([load_and_process_dataset(file_path, source) for file_path, source in datasets_info], ignore_index=True)\n",
    "\n",
    "# combined_df.head()\n"
   ]
  },
  {
   "cell_type": "code",
   "execution_count": 5,
   "id": "f5f2dd97",
   "metadata": {
    "execution": {
     "iopub.execute_input": "2024-03-04T22:38:18.499713Z",
     "iopub.status.busy": "2024-03-04T22:38:18.499064Z",
     "iopub.status.idle": "2024-03-04T22:38:18.507440Z",
     "shell.execute_reply": "2024-03-04T22:38:18.505710Z"
    },
    "papermill": {
     "duration": 0.198802,
     "end_time": "2024-03-04T22:38:18.509978",
     "exception": false,
     "start_time": "2024-03-04T22:38:18.311176",
     "status": "completed"
    },
    "tags": []
   },
   "outputs": [],
   "source": [
    "# from rdkit import Chem\n",
    "# import pandas as pd\n",
    "# # Assuming 'standardizer' is an instance of a class with methods 'standardize_mol' and 'get_parent_mol'\n",
    "\n",
    "# def remove_explicit_salts(smiles_list):\n",
    "#     salt_patterns = [\n",
    "#         \".[O-][Cl+3]([O-])([O-])[O-]\",\n",
    "#         \"[O-][Cl+3]([O-])([O-])[O-].\",\n",
    "#         \".[O-][Cl+3](O)(O)O\"\n",
    "#     ]\n",
    "#     for salt_pattern in salt_patterns:\n",
    "#         smiles_list = [smiles.replace(salt_pattern, \"\") for smiles in smiles_list]\n",
    "#     return smiles_list\n",
    "\n",
    "# def process_molecule(smiles):\n",
    "#     mol = Chem.MolFromSmiles(smiles)\n",
    "#     if mol is None:\n",
    "#         return None\n",
    "#     num_components = len(Chem.GetMolFrags(mol, asMols=False, sanitizeFrags=False))\n",
    "#     if num_components > 1:\n",
    "#         std_mol = standardizer.standardize_mol(mol)\n",
    "#         parent_mol, _ = standardizer.get_parent_mol(std_mol)\n",
    "#         if parent_mol is None or parent_mol.GetNumAtoms() == 0:\n",
    "#             return None\n",
    "#         return Chem.MolToSmiles(parent_mol)\n",
    "#     return Chem.MolToSmiles(mol)\n",
    "\n",
    "# def is_disconnected(smiles):\n",
    "#     mol = Chem.MolFromSmiles(smiles)\n",
    "#     return len(Chem.GetMolFrags(mol, asMols=False, sanitizeFrags=False)) > 1\n",
    "\n",
    "\n",
    "# # Then, process each molecule for standardization and further sanitization\n",
    "# for idx, row in combined_df.iterrows():\n",
    "#     sanitized_smiles = process_molecule(row['smiles'])\n",
    "#     if sanitized_smiles is not None:\n",
    "#         combined_df.at[idx, 'smiles'] = sanitized_smiles\n",
    "\n",
    "# combined_df['smiles'] = remove_explicit_salts(combined_df['smiles'].tolist())\n",
    "\n",
    "\n",
    "# # Finally, apply the check for disconnected molecules\n",
    "# combined_df['is_disconnected'] = combined_df['smiles'].apply(is_disconnected)\n",
    "\n",
    "# # Filtering or analyzing disconnected molecules\n",
    "# disconnected_mols_df = combined_df[combined_df['is_disconnected']]\n",
    "\n",
    "# print(f\"Total molecules: {len(combined_df)}\")\n",
    "# print(f\"Disconnected molecules after sanitization: {len(disconnected_mols_df)}\")\n"
   ]
  },
  {
   "cell_type": "code",
   "execution_count": 6,
   "id": "f46100d2",
   "metadata": {
    "execution": {
     "iopub.execute_input": "2024-03-04T22:38:18.519081Z",
     "iopub.status.busy": "2024-03-04T22:38:18.518490Z",
     "iopub.status.idle": "2024-03-04T22:38:18.525528Z",
     "shell.execute_reply": "2024-03-04T22:38:18.523942Z"
    },
    "papermill": {
     "duration": 0.014378,
     "end_time": "2024-03-04T22:38:18.527735",
     "exception": false,
     "start_time": "2024-03-04T22:38:18.513357",
     "status": "completed"
    },
    "tags": []
   },
   "outputs": [],
   "source": [
    "# # Your combined_df\n",
    "# # combined_df = pd.read_csv(\"your_dataset.csv\")\n",
    "\n",
    "# # Initialize featurizers\n",
    "# atom_featurizer = CanonicalAtomFeaturizer()\n",
    "# bond_featurizer = CanonicalBondFeaturizer(self_loop=True)\n",
    "\n",
    "# # Function to convert SMILES to a graph\n",
    "# def smiles_to_graph(smiles_string):\n",
    "#     graph_constructor = SMILESToBigraph(add_self_loop=True,  # Add self loops\n",
    "#                                         node_featurizer=atom_featurizer,\n",
    "#                                         edge_featurizer=bond_featurizer)\n",
    "#     return graph_constructor(smiles_string)\n",
    "\n",
    "# # Convert SMILES to graphs\n",
    "# combined_df['graph'] = combined_df['smiles'].apply(smiles_to_graph)"
   ]
  },
  {
   "cell_type": "code",
   "execution_count": 7,
   "id": "76d9fece",
   "metadata": {
    "execution": {
     "iopub.execute_input": "2024-03-04T22:38:18.536390Z",
     "iopub.status.busy": "2024-03-04T22:38:18.535817Z",
     "iopub.status.idle": "2024-03-04T22:38:18.546767Z",
     "shell.execute_reply": "2024-03-04T22:38:18.545169Z"
    },
    "papermill": {
     "duration": 0.01807,
     "end_time": "2024-03-04T22:38:18.549070",
     "exception": false,
     "start_time": "2024-03-04T22:38:18.531000",
     "status": "completed"
    },
    "tags": []
   },
   "outputs": [],
   "source": [
    "# import dgl\n",
    "\n",
    "# # Assuming 'binds_to_rna' is your label\n",
    "# graphs = combined_df['graph'].tolist()\n",
    "# labels = {'binds_to_rna': torch.tensor(combined_df['binds_to_rna'].values)}\n",
    "\n",
    "# # Save graphs and labels\n",
    "# dgl.save_graphs(\"data_mvi/graphs.bin\", graphs, labels)\n",
    "\n"
   ]
  },
  {
   "cell_type": "code",
   "execution_count": 8,
   "id": "2819ba24",
   "metadata": {
    "execution": {
     "iopub.execute_input": "2024-03-04T22:38:18.557190Z",
     "iopub.status.busy": "2024-03-04T22:38:18.556763Z",
     "iopub.status.idle": "2024-03-04T22:38:18.562905Z",
     "shell.execute_reply": "2024-03-04T22:38:18.561177Z"
    },
    "papermill": {
     "duration": 0.012808,
     "end_time": "2024-03-04T22:38:18.564998",
     "exception": false,
     "start_time": "2024-03-04T22:38:18.552190",
     "status": "completed"
    },
    "tags": []
   },
   "outputs": [],
   "source": [
    "# # Drop the 'graph' column and save the DataFrame\n",
    "# combined_df.drop(columns=['graph']).to_csv(\"data_mvi/combined_df.csv\", index=False)\n"
   ]
  },
  {
   "cell_type": "code",
   "execution_count": 9,
   "id": "b6fc353d",
   "metadata": {
    "execution": {
     "iopub.execute_input": "2024-03-04T22:38:18.573313Z",
     "iopub.status.busy": "2024-03-04T22:38:18.572836Z",
     "iopub.status.idle": "2024-03-04T22:39:26.361221Z",
     "shell.execute_reply": "2024-03-04T22:39:26.351881Z"
    },
    "papermill": {
     "duration": 67.803083,
     "end_time": "2024-03-04T22:39:26.371177",
     "exception": false,
     "start_time": "2024-03-04T22:38:18.568094",
     "status": "completed"
    },
    "tags": []
   },
   "outputs": [],
   "source": [
    "# Load the DataFrame\n",
    "reloaded_df = pd.read_csv(\"data_mvi/combined_df.csv\")\n",
    "\n",
    "# Load the graphs\n",
    "graphs, labels = dgl.load_graphs(\"data_mvi/graphs.bin\")\n",
    "\n",
    "# Labels are returned as a dictionary, convert to the desired format if necessary\n",
    "binds_to_rna = labels['binds_to_rna']\n"
   ]
  },
  {
   "cell_type": "code",
   "execution_count": 10,
   "id": "073ef948",
   "metadata": {
    "execution": {
     "iopub.execute_input": "2024-03-04T22:39:26.417068Z",
     "iopub.status.busy": "2024-03-04T22:39:26.416591Z",
     "iopub.status.idle": "2024-03-04T22:39:26.634524Z",
     "shell.execute_reply": "2024-03-04T22:39:26.632926Z"
    },
    "papermill": {
     "duration": 0.259243,
     "end_time": "2024-03-04T22:39:26.638436",
     "exception": false,
     "start_time": "2024-03-04T22:39:26.379193",
     "status": "completed"
    },
    "tags": []
   },
   "outputs": [],
   "source": [
    "from sklearn.model_selection import train_test_split\n",
    "\n",
    "# Assuming 'binds_to_rna' is your target variable for stratification\n",
    "labels = reloaded_df['binds_to_rna'].values\n",
    "\n",
    "# Generate a list of indices from the DataFrame\n",
    "indices = range(len(reloaded_df))\n",
    "\n",
    "# Perform stratified split\n",
    "train_indices, test_indices, train_labels, test_labels = train_test_split(\n",
    "    indices, labels, test_size=0.2, stratify=labels, random_state=42)\n",
    "\n",
    "# Now you can use train_indices and test_indices to split your graphs and labels\n",
    "train_graphs = [graphs[i] for i in train_indices]\n",
    "test_graphs = [graphs[i] for i in test_indices]\n",
    "\n",
    "# If you saved labels as a tensor, you can also split it according to indices\n",
    "train_labels = labels[train_indices]\n",
    "test_labels = labels[test_indices]\n"
   ]
  },
  {
   "cell_type": "markdown",
   "id": "30ee5684",
   "metadata": {
    "papermill": {
     "duration": 0.244442,
     "end_time": "2024-03-04T22:39:26.889137",
     "exception": false,
     "start_time": "2024-03-04T22:39:26.644695",
     "status": "completed"
    },
    "tags": []
   },
   "source": [
    "# Graph Attention Networks (GAT)"
   ]
  },
  {
   "cell_type": "code",
   "execution_count": 11,
   "id": "22ef80e7",
   "metadata": {
    "execution": {
     "iopub.execute_input": "2024-03-04T22:39:26.901580Z",
     "iopub.status.busy": "2024-03-04T22:39:26.901299Z",
     "iopub.status.idle": "2024-03-04T22:39:26.907140Z",
     "shell.execute_reply": "2024-03-04T22:39:26.905825Z"
    },
    "papermill": {
     "duration": 0.015047,
     "end_time": "2024-03-04T22:39:26.909753",
     "exception": false,
     "start_time": "2024-03-04T22:39:26.894706",
     "status": "completed"
    },
    "tags": []
   },
   "outputs": [],
   "source": [
    "device = torch.device('cuda' if torch.cuda.is_available() else 'cpu')\n"
   ]
  },
  {
   "cell_type": "code",
   "execution_count": 12,
   "id": "63002dac",
   "metadata": {
    "execution": {
     "iopub.execute_input": "2024-03-04T22:39:27.186835Z",
     "iopub.status.busy": "2024-03-04T22:39:27.186389Z",
     "iopub.status.idle": "2024-03-04T22:39:27.192073Z",
     "shell.execute_reply": "2024-03-04T22:39:27.190688Z"
    },
    "papermill": {
     "duration": 0.015964,
     "end_time": "2024-03-04T22:39:27.195471",
     "exception": false,
     "start_time": "2024-03-04T22:39:27.179507",
     "status": "completed"
    },
    "tags": []
   },
   "outputs": [],
   "source": [
    "# train_dataset = list(zip(train_graphs, train_labels))\n",
    "# test_dataset = list(zip(test_graphs, test_labels))"
   ]
  },
  {
   "cell_type": "code",
   "execution_count": 13,
   "id": "2ebf4fc7",
   "metadata": {
    "execution": {
     "iopub.execute_input": "2024-03-04T22:39:27.212696Z",
     "iopub.status.busy": "2024-03-04T22:39:27.212327Z",
     "iopub.status.idle": "2024-03-04T22:39:27.220781Z",
     "shell.execute_reply": "2024-03-04T22:39:27.219128Z"
    },
    "papermill": {
     "duration": 0.020729,
     "end_time": "2024-03-04T22:39:27.224140",
     "exception": false,
     "start_time": "2024-03-04T22:39:27.203411",
     "status": "completed"
    },
    "tags": []
   },
   "outputs": [],
   "source": [
    "import torch\n",
    "import torch.nn as nn\n",
    "import dgl\n",
    "from dgl.nn import GatedGraphConv, GlobalAttentionPooling\n",
    "\n",
    "class GraphClsGGNN(nn.Module):\n",
    "    def __init__(self, annotation_size, out_feats, n_steps, n_etypes, num_cls):\n",
    "        super(GraphClsGGNN, self).__init__()\n",
    "        self.ggnn = GatedGraphConv(in_feats=annotation_size, out_feats=out_feats, n_steps=n_steps, n_etypes=n_etypes)\n",
    "        self.pooling_gate_nn = nn.Linear(out_feats, 1)\n",
    "        self.pooling = GlobalAttentionPooling(self.pooling_gate_nn)\n",
    "        self.output_layer = nn.Linear(out_feats, num_cls)  # For binary classification, num_cls=2\n",
    "\n",
    "\n",
    "    def forward(self, graph, feat, get_attention=False):\n",
    "        h = self.ggnn(graph, feat)\n",
    "        if get_attention:\n",
    "            hg, attention = self.pooling(graph, h, get_attention=True)\n",
    "            logits = self.output_layer(hg)\n",
    "            return logits, attention\n",
    "        else:\n",
    "            hg = self.pooling(graph, h)\n",
    "            logits = self.output_layer(hg)\n",
    "            return logits\n"
   ]
  },
  {
   "cell_type": "code",
   "execution_count": 14,
   "id": "56ab2d04",
   "metadata": {
    "execution": {
     "iopub.execute_input": "2024-03-04T22:39:27.239822Z",
     "iopub.status.busy": "2024-03-04T22:39:27.239529Z",
     "iopub.status.idle": "2024-03-04T22:39:27.246605Z",
     "shell.execute_reply": "2024-03-04T22:39:27.244900Z"
    },
    "papermill": {
     "duration": 0.018883,
     "end_time": "2024-03-04T22:39:27.250046",
     "exception": false,
     "start_time": "2024-03-04T22:39:27.231163",
     "status": "completed"
    },
    "tags": []
   },
   "outputs": [],
   "source": [
    "def collate(samples):\n",
    "    graphs, labels = map(list, zip(*samples))\n",
    "    batched_graph = dgl.batch(graphs)\n",
    "    \n",
    "    # Check if labels are already tensors (which might be the case if __getitem__ converts them)\n",
    "    # If labels are not tensors, convert them to a tensor\n",
    "    if not all(isinstance(label, torch.Tensor) for label in labels):\n",
    "        labels = torch.tensor(labels, dtype=torch.long)\n",
    "    else:\n",
    "        # If labels are already tensors, stack them into a single tensor\n",
    "        labels = torch.stack(labels, dim=0)\n",
    "    \n",
    "    return batched_graph, labels\n"
   ]
  },
  {
   "cell_type": "code",
   "execution_count": 15,
   "id": "48ba3ef5",
   "metadata": {
    "execution": {
     "iopub.execute_input": "2024-03-04T22:39:27.266277Z",
     "iopub.status.busy": "2024-03-04T22:39:27.265787Z",
     "iopub.status.idle": "2024-03-04T22:39:27.434150Z",
     "shell.execute_reply": "2024-03-04T22:39:27.432496Z"
    },
    "papermill": {
     "duration": 0.180785,
     "end_time": "2024-03-04T22:39:27.437745",
     "exception": false,
     "start_time": "2024-03-04T22:39:27.256960",
     "status": "completed"
    },
    "tags": []
   },
   "outputs": [],
   "source": [
    "import optuna\n",
    "import torch\n",
    "import torch.optim as optim\n",
    "from torch.utils.data import DataLoader\n",
    "from dgl.dataloading import GraphDataLoader\n",
    "from sklearn.model_selection import train_test_split\n",
    "\n",
    "# Assuming `graphs` and `labels` are your dataset\n",
    "train_graphs, test_graphs, train_labels, test_labels = train_test_split(graphs, labels, test_size=0.2, random_state=42)\n",
    "\n",
    "# Convert labels to tensors here to avoid reassignment inside the objective function\n",
    "train_labels_tensor = torch.LongTensor(train_labels)\n",
    "test_labels_tensor = torch.LongTensor(test_labels)\n",
    "\n",
    "def objective(trial):\n",
    "    n_steps = trial.suggest_int('n_steps', 1, 15)\n",
    "    out_feats = trial.suggest_int('out_feats', 74, 200)  # Ensure out_feats is at least equal to annotation_size\n",
    "    lr = trial.suggest_float(\"lr\", 1e-5, 1e-1, log=True)\n",
    "    batch_size = trial.suggest_categorical(\"batch_size\", [16, 32, 64, 128, 256, 512])\n",
    "    \n",
    "    model = GraphClsGGNN(annotation_size=74, out_feats=out_feats, n_steps=n_steps, n_etypes=1, num_cls=2).to(device)\n",
    "    optimizer = optim.Adam(model.parameters(), lr=lr)\n",
    "    criterion = torch.nn.CrossEntropyLoss()\n",
    "    \n",
    "    train_loader = GraphDataLoader(list(zip(train_graphs, train_labels_tensor)), batch_size=batch_size, shuffle=True, collate_fn=collate, num_workers=5)\n",
    "    val_loader = GraphDataLoader(list(zip(test_graphs, test_labels_tensor)), batch_size=batch_size, shuffle=False, collate_fn=collate, num_workers=5)\n",
    "    \n",
    "    for epoch in range(100):  # Adjust the number of epochs as needed\n",
    "        model.train()\n",
    "        for batched_graph, labels in train_loader:\n",
    "            batched_graph = batched_graph.to(device)\n",
    "            labels = labels.to(device)\n",
    "            if 'h' in batched_graph.ndata:\n",
    "                feat = batched_graph.ndata['h'].to(device)\n",
    "            else:\n",
    "                raise KeyError(\"'h' node features not found. Please ensure the correct key is used.\")\n",
    "            optimizer.zero_grad()\n",
    "            logits = model(batched_graph, feat)\n",
    "            loss = criterion(logits, labels)\n",
    "            loss.backward()\n",
    "            optimizer.step()\n",
    "    \n",
    "    # Evaluation\n",
    "    model.eval()\n",
    "    total_correct = 0\n",
    "    total = 0\n",
    "    with torch.no_grad():\n",
    "        for batched_graph, labels in val_loader:\n",
    "            batched_graph = batched_graph.to(device)\n",
    "            labels = labels.to(device)\n",
    "            if 'h' in batched_graph.ndata:\n",
    "                feat = batched_graph.ndata['h'].to(device)\n",
    "            logits = model(batched_graph, feat)\n",
    "            predicted = torch.argmax(logits, dim=1)\n",
    "            total_correct += (predicted == labels).sum().item()\n",
    "            total += labels.size(0)\n",
    "    \n",
    "    val_accuracy = total_correct / total\n",
    "    return val_accuracy\n",
    "\n",
    "\n",
    "\n"
   ]
  },
  {
   "cell_type": "code",
   "execution_count": 16,
   "id": "e9d35d9c",
   "metadata": {
    "execution": {
     "iopub.execute_input": "2024-03-04T22:39:27.454239Z",
     "iopub.status.busy": "2024-03-04T22:39:27.453630Z",
     "iopub.status.idle": "2024-03-05T04:02:04.251444Z",
     "shell.execute_reply": "2024-03-05T04:02:04.250003Z"
    },
    "papermill": {
     "duration": 19356.820555,
     "end_time": "2024-03-05T04:02:04.265387",
     "exception": false,
     "start_time": "2024-03-04T22:39:27.444832",
     "status": "completed"
    },
    "tags": []
   },
   "outputs": [
    {
     "name": "stderr",
     "output_type": "stream",
     "text": [
      "[I 2024-03-04 22:39:27,456] A new study created in memory with name: no-name-c9b759a3-b982-4048-8506-098d4449d762\n"
     ]
    },
    {
     "name": "stderr",
     "output_type": "stream",
     "text": [
      "[I 2024-03-04 22:41:17,763] Trial 0 finished with value: 0.8198186002436714 and parameters: {'n_steps': 3, 'out_feats': 98, 'lr': 0.0030592682431992914, 'batch_size': 128}. Best is trial 0 with value: 0.8198186002436714.\n"
     ]
    },
    {
     "name": "stderr",
     "output_type": "stream",
     "text": [
      "[I 2024-03-04 22:45:24,268] Trial 1 finished with value: 0.7737241099228375 and parameters: {'n_steps': 1, 'out_feats': 83, 'lr': 8.979195497191822e-05, 'batch_size': 32}. Best is trial 0 with value: 0.8198186002436714.\n"
     ]
    },
    {
     "name": "stderr",
     "output_type": "stream",
     "text": [
      "[I 2024-03-04 22:46:32,971] Trial 2 finished with value: 0.7955868417490185 and parameters: {'n_steps': 1, 'out_feats': 76, 'lr': 0.0006376791827759781, 'batch_size': 128}. Best is trial 0 with value: 0.8198186002436714.\n"
     ]
    },
    {
     "name": "stderr",
     "output_type": "stream",
     "text": [
      "[I 2024-03-04 22:58:17,834] Trial 3 finished with value: 0.8428996886422093 and parameters: {'n_steps': 4, 'out_feats': 74, 'lr': 0.0008118235527526994, 'batch_size': 16}. Best is trial 3 with value: 0.8428996886422093.\n"
     ]
    },
    {
     "name": "stderr",
     "output_type": "stream",
     "text": [
      "[I 2024-03-04 23:00:50,960] Trial 4 finished with value: 0.8011371328008664 and parameters: {'n_steps': 2, 'out_feats': 92, 'lr': 0.0001224521104895872, 'batch_size': 64}. Best is trial 3 with value: 0.8428996886422093.\n"
     ]
    },
    {
     "name": "stderr",
     "output_type": "stream",
     "text": [
      "[I 2024-03-04 23:05:39,621] Trial 5 finished with value: 0.8514281846487072 and parameters: {'n_steps': 2, 'out_feats': 87, 'lr': 0.0004709152159475434, 'batch_size': 32}. Best is trial 5 with value: 0.8514281846487072.\n"
     ]
    },
    {
     "name": "stderr",
     "output_type": "stream",
     "text": [
      "[I 2024-03-04 23:10:31,231] Trial 6 finished with value: 0.8382970082577501 and parameters: {'n_steps': 2, 'out_feats': 74, 'lr': 0.0017451771298170667, 'batch_size': 32}. Best is trial 5 with value: 0.8514281846487072.\n"
     ]
    },
    {
     "name": "stderr",
     "output_type": "stream",
     "text": [
      "[I 2024-03-04 23:13:34,577] Trial 7 finished with value: 0.8509543793150128 and parameters: {'n_steps': 4, 'out_feats': 99, 'lr': 0.00022233459611329585, 'batch_size': 64}. Best is trial 5 with value: 0.8514281846487072.\n"
     ]
    },
    {
     "name": "stderr",
     "output_type": "stream",
     "text": [
      "[I 2024-03-04 23:15:00,480] Trial 8 finished with value: 0.7119263571138487 and parameters: {'n_steps': 3, 'out_feats': 93, 'lr': 0.014116201373285672, 'batch_size': 128}. Best is trial 5 with value: 0.8514281846487072.\n"
     ]
    },
    {
     "name": "stderr",
     "output_type": "stream",
     "text": [
      "[I 2024-03-04 23:18:17,670] Trial 9 finished with value: 0.6091105997021795 and parameters: {'n_steps': 5, 'out_feats': 89, 'lr': 0.07788856396846346, 'batch_size': 64}. Best is trial 5 with value: 0.8514281846487072.\n"
     ]
    },
    {
     "name": "stderr",
     "output_type": "stream",
     "text": [
      "[I 2024-03-04 23:23:14,116] Trial 10 finished with value: 0.7376472180858265 and parameters: {'n_steps': 2, 'out_feats': 83, 'lr': 1.070029054270681e-05, 'batch_size': 32}. Best is trial 5 with value: 0.8514281846487072.\n"
     ]
    },
    {
     "name": "stderr",
     "output_type": "stream",
     "text": [
      "[I 2024-03-04 23:26:14,175] Trial 11 finished with value: 0.8183294977663463 and parameters: {'n_steps': 4, 'out_feats': 100, 'lr': 8.179749240740736e-05, 'batch_size': 64}. Best is trial 5 with value: 0.8514281846487072.\n"
     ]
    },
    {
     "name": "stderr",
     "output_type": "stream",
     "text": [
      "[I 2024-03-04 23:38:29,344] Trial 12 finished with value: 0.8552186273182618 and parameters: {'n_steps': 5, 'out_feats': 85, 'lr': 0.0003279728846994854, 'batch_size': 16}. Best is trial 12 with value: 0.8552186273182618.\n"
     ]
    },
    {
     "name": "stderr",
     "output_type": "stream",
     "text": [
      "[I 2024-03-04 23:50:37,730] Trial 13 finished with value: 0.8159604710978746 and parameters: {'n_steps': 5, 'out_feats': 83, 'lr': 3.0435279468327182e-05, 'batch_size': 16}. Best is trial 12 with value: 0.8552186273182618.\n"
     ]
    },
    {
     "name": "stderr",
     "output_type": "stream",
     "text": [
      "[I 2024-03-05 00:00:06,682] Trial 14 finished with value: 0.7560579396236632 and parameters: {'n_steps': 2, 'out_feats': 87, 'lr': 0.005443490014707386, 'batch_size': 16}. Best is trial 12 with value: 0.8552186273182618.\n"
     ]
    },
    {
     "name": "stderr",
     "output_type": "stream",
     "text": [
      "[I 2024-03-05 00:12:20,941] Trial 15 finished with value: 0.8563016109381345 and parameters: {'n_steps': 5, 'out_feats': 79, 'lr': 0.0003690110013130995, 'batch_size': 16}. Best is trial 15 with value: 0.8563016109381345.\n"
     ]
    },
    {
     "name": "stderr",
     "output_type": "stream",
     "text": [
      "[I 2024-03-05 00:24:52,779] Trial 16 finished with value: 0.8579260863679437 and parameters: {'n_steps': 5, 'out_feats': 79, 'lr': 0.0002787455900253741, 'batch_size': 16}. Best is trial 16 with value: 0.8579260863679437.\n"
     ]
    },
    {
     "name": "stderr",
     "output_type": "stream",
     "text": [
      "[I 2024-03-05 00:37:35,278] Trial 17 finished with value: 0.8224583728171111 and parameters: {'n_steps': 5, 'out_feats': 79, 'lr': 4.5951890189508e-05, 'batch_size': 16}. Best is trial 16 with value: 0.8579260863679437.\n"
     ]
    },
    {
     "name": "stderr",
     "output_type": "stream",
     "text": [
      "[I 2024-03-05 00:49:45,496] Trial 18 finished with value: 0.68485176661703 and parameters: {'n_steps': 4, 'out_feats': 79, 'lr': 0.01296646264197027, 'batch_size': 16}. Best is trial 16 with value: 0.8579260863679437.\n"
     ]
    },
    {
     "name": "stderr",
     "output_type": "stream",
     "text": [
      "[I 2024-03-05 01:02:06,205] Trial 19 finished with value: 0.7869229727900365 and parameters: {'n_steps': 5, 'out_feats': 80, 'lr': 1.4454237486058128e-05, 'batch_size': 16}. Best is trial 16 with value: 0.8579260863679437.\n"
     ]
    },
    {
     "name": "stderr",
     "output_type": "stream",
     "text": [
      "[I 2024-03-05 01:12:53,766] Trial 20 finished with value: 0.8449302829294707 and parameters: {'n_steps': 3, 'out_feats': 77, 'lr': 0.00020221453818348802, 'batch_size': 16}. Best is trial 16 with value: 0.8579260863679437.\n"
     ]
    },
    {
     "name": "stderr",
     "output_type": "stream",
     "text": [
      "[I 2024-03-05 01:25:18,137] Trial 21 finished with value: 0.8592121294165426 and parameters: {'n_steps': 5, 'out_feats': 81, 'lr': 0.00038308871884124647, 'batch_size': 16}. Best is trial 21 with value: 0.8592121294165426.\n"
     ]
    },
    {
     "name": "stderr",
     "output_type": "stream",
     "text": [
      "[I 2024-03-05 01:34:04,570] Trial 22 finished with value: 0.7235007445512387 and parameters: {'n_steps': 5, 'out_feats': 81, 'lr': 0.001908876464300018, 'batch_size': 16}. Best is trial 21 with value: 0.8592121294165426.\n"
     ]
    },
    {
     "name": "stderr",
     "output_type": "stream",
     "text": [
      "[I 2024-03-05 01:41:37,529] Trial 23 finished with value: 0.8045214566129687 and parameters: {'n_steps': 4, 'out_feats': 77, 'lr': 0.001128196479585872, 'batch_size': 16}. Best is trial 21 with value: 0.8592121294165426.\n"
     ]
    },
    {
     "name": "stderr",
     "output_type": "stream",
     "text": [
      "[I 2024-03-05 01:49:58,510] Trial 24 finished with value: 0.8654392852308109 and parameters: {'n_steps': 5, 'out_feats': 82, 'lr': 0.0003388786595148537, 'batch_size': 16}. Best is trial 24 with value: 0.8654392852308109.\n"
     ]
    },
    {
     "name": "stderr",
     "output_type": "stream",
     "text": [
      "[I 2024-03-05 01:57:23,726] Trial 25 finished with value: 0.8558278056044403 and parameters: {'n_steps': 4, 'out_feats': 82, 'lr': 0.00018280297840227955, 'batch_size': 16}. Best is trial 24 with value: 0.8654392852308109.\n"
     ]
    },
    {
     "name": "stderr",
     "output_type": "stream",
     "text": [
      "[I 2024-03-05 02:05:31,921] Trial 26 finished with value: 0.8213077027209963 and parameters: {'n_steps': 5, 'out_feats': 85, 'lr': 4.942546207294039e-05, 'batch_size': 16}. Best is trial 24 with value: 0.8654392852308109.\n"
     ]
    },
    {
     "name": "stderr",
     "output_type": "stream",
     "text": [
      "[I 2024-03-05 02:13:06,081] Trial 27 finished with value: 0.8047922025179369 and parameters: {'n_steps': 4, 'out_feats': 85, 'lr': 0.0010354329842995858, 'batch_size': 16}. Best is trial 24 with value: 0.8654392852308109.\n"
     ]
    },
    {
     "name": "stderr",
     "output_type": "stream",
     "text": [
      "[I 2024-03-05 02:14:35,445] Trial 28 finished with value: 0.7960606470827128 and parameters: {'n_steps': 5, 'out_feats': 89, 'lr': 0.004344206060837336, 'batch_size': 128}. Best is trial 24 with value: 0.8654392852308109.\n"
     ]
    },
    {
     "name": "stderr",
     "output_type": "stream",
     "text": [
      "[I 2024-03-05 02:15:55,001] Trial 29 finished with value: 0.8432381210234196 and parameters: {'n_steps': 3, 'out_feats': 81, 'lr': 0.002264102082426197, 'batch_size': 128}. Best is trial 24 with value: 0.8654392852308109.\n"
     ]
    },
    {
     "name": "stderr",
     "output_type": "stream",
     "text": [
      "[I 2024-03-05 02:24:34,330] Trial 30 finished with value: 0.7900365506971707 and parameters: {'n_steps': 4, 'out_feats': 76, 'lr': 2.4464317542154085e-05, 'batch_size': 16}. Best is trial 24 with value: 0.8654392852308109.\n"
     ]
    },
    {
     "name": "stderr",
     "output_type": "stream",
     "text": [
      "[I 2024-03-05 02:32:54,066] Trial 31 finished with value: 0.8608366048463517 and parameters: {'n_steps': 5, 'out_feats': 78, 'lr': 0.0003772174540714661, 'batch_size': 16}. Best is trial 24 with value: 0.8654392852308109.\n"
     ]
    },
    {
     "name": "stderr",
     "output_type": "stream",
     "text": [
      "[I 2024-03-05 02:41:13,577] Trial 32 finished with value: 0.8492622174089617 and parameters: {'n_steps': 5, 'out_feats': 78, 'lr': 0.00013301732061682037, 'batch_size': 16}. Best is trial 24 with value: 0.8654392852308109.\n"
     ]
    },
    {
     "name": "stderr",
     "output_type": "stream",
     "text": [
      "[I 2024-03-05 02:49:43,826] Trial 33 finished with value: 0.8490591579802356 and parameters: {'n_steps': 5, 'out_feats': 81, 'lr': 0.0005198401117146547, 'batch_size': 16}. Best is trial 24 with value: 0.8654392852308109.\n"
     ]
    },
    {
     "name": "stderr",
     "output_type": "stream",
     "text": [
      "[I 2024-03-05 02:57:54,421] Trial 34 finished with value: 0.8218491945309327 and parameters: {'n_steps': 5, 'out_feats': 75, 'lr': 7.407281727185796e-05, 'batch_size': 16}. Best is trial 24 with value: 0.8654392852308109.\n"
     ]
    },
    {
     "name": "stderr",
     "output_type": "stream",
     "text": [
      "[I 2024-03-05 03:02:19,547] Trial 35 finished with value: 0.8551509408420198 and parameters: {'n_steps': 4, 'out_feats': 96, 'lr': 0.0002952905783554524, 'batch_size': 32}. Best is trial 24 with value: 0.8654392852308109.\n"
     ]
    },
    {
     "name": "stderr",
     "output_type": "stream",
     "text": [
      "[I 2024-03-05 03:08:48,697] Trial 36 finished with value: 0.8223906863408691 and parameters: {'n_steps': 1, 'out_feats': 77, 'lr': 0.0006493250747098867, 'batch_size': 16}. Best is trial 24 with value: 0.8654392852308109.\n"
     ]
    },
    {
     "name": "stderr",
     "output_type": "stream",
     "text": [
      "[I 2024-03-05 03:10:18,161] Trial 37 finished with value: 0.8535941518884527 and parameters: {'n_steps': 5, 'out_feats': 84, 'lr': 0.0010702345852843839, 'batch_size': 128}. Best is trial 24 with value: 0.8654392852308109.\n"
     ]
    },
    {
     "name": "stderr",
     "output_type": "stream",
     "text": [
      "[I 2024-03-05 03:12:34,961] Trial 38 finished with value: 0.8191417354812508 and parameters: {'n_steps': 4, 'out_feats': 80, 'lr': 0.0001215802403583266, 'batch_size': 64}. Best is trial 24 with value: 0.8654392852308109.\n"
     ]
    },
    {
     "name": "stderr",
     "output_type": "stream",
     "text": [
      "[I 2024-03-05 03:16:59,573] Trial 39 finished with value: 0.856843102748071 and parameters: {'n_steps': 5, 'out_feats': 75, 'lr': 0.0006379092709413135, 'batch_size': 32}. Best is trial 24 with value: 0.8654392852308109.\n"
     ]
    },
    {
     "name": "stderr",
     "output_type": "stream",
     "text": [
      "[I 2024-03-05 03:25:13,139] Trial 40 finished with value: 0.8472993095979423 and parameters: {'n_steps': 5, 'out_feats': 83, 'lr': 0.00024879277367438526, 'batch_size': 16}. Best is trial 24 with value: 0.8654392852308109.\n"
     ]
    },
    {
     "name": "stderr",
     "output_type": "stream",
     "text": [
      "[I 2024-03-05 03:29:52,649] Trial 41 finished with value: 0.8587383240828482 and parameters: {'n_steps': 5, 'out_feats': 74, 'lr': 0.0006414518613755485, 'batch_size': 32}. Best is trial 24 with value: 0.8654392852308109.\n"
     ]
    },
    {
     "name": "stderr",
     "output_type": "stream",
     "text": [
      "[I 2024-03-05 03:34:11,233] Trial 42 finished with value: 0.8579260863679437 and parameters: {'n_steps': 5, 'out_feats': 74, 'lr': 0.000427852782115388, 'batch_size': 32}. Best is trial 24 with value: 0.8654392852308109.\n"
     ]
    },
    {
     "name": "stderr",
     "output_type": "stream",
     "text": [
      "[I 2024-03-05 03:38:54,142] Trial 43 finished with value: 0.8472993095979423 and parameters: {'n_steps': 5, 'out_feats': 76, 'lr': 0.00016501047203769902, 'batch_size': 32}. Best is trial 24 with value: 0.8654392852308109.\n"
     ]
    },
    {
     "name": "stderr",
     "output_type": "stream",
     "text": [
      "[I 2024-03-05 03:42:48,581] Trial 44 finished with value: 0.8301069446324625 and parameters: {'n_steps': 4, 'out_feats': 78, 'lr': 0.0013544181501140397, 'batch_size': 32}. Best is trial 24 with value: 0.8654392852308109.\n"
     ]
    },
    {
     "name": "stderr",
     "output_type": "stream",
     "text": [
      "[I 2024-03-05 03:47:08,076] Trial 45 finished with value: 0.8618519019899824 and parameters: {'n_steps': 5, 'out_feats': 74, 'lr': 0.0005848856325856442, 'batch_size': 32}. Best is trial 24 with value: 0.8654392852308109.\n"
     ]
    },
    {
     "name": "stderr",
     "output_type": "stream",
     "text": [
      "[I 2024-03-05 03:51:10,317] Trial 46 finished with value: 0.8560985515094084 and parameters: {'n_steps': 4, 'out_feats': 74, 'lr': 0.0006939812787367989, 'batch_size': 32}. Best is trial 24 with value: 0.8654392852308109.\n"
     ]
    },
    {
     "name": "stderr",
     "output_type": "stream",
     "text": [
      "[I 2024-03-05 03:55:46,787] Trial 47 finished with value: 0.7845539461215649 and parameters: {'n_steps': 5, 'out_feats': 75, 'lr': 0.002728372051576313, 'batch_size': 32}. Best is trial 24 with value: 0.8654392852308109.\n"
     ]
    },
    {
     "name": "stderr",
     "output_type": "stream",
     "text": [
      "[I 2024-03-05 03:58:55,427] Trial 48 finished with value: 0.807838093948829 and parameters: {'n_steps': 1, 'out_feats': 76, 'lr': 0.00042474540323356175, 'batch_size': 32}. Best is trial 24 with value: 0.8654392852308109.\n"
     ]
    },
    {
     "name": "stderr",
     "output_type": "stream",
     "text": [
      "[I 2024-03-05 04:02:04,244] Trial 49 finished with value: 0.796196020035197 and parameters: {'n_steps': 5, 'out_feats': 89, 'lr': 0.004088153177600271, 'batch_size': 64}. Best is trial 24 with value: 0.8654392852308109.\n"
     ]
    }
   ],
   "source": [
    "study = optuna.create_study(direction='maximize')\n",
    "study.optimize(objective, n_trials=100, n_jobs=-1)\n"
   ]
  },
  {
   "cell_type": "code",
   "execution_count": 17,
   "id": "80e8255e",
   "metadata": {
    "execution": {
     "iopub.execute_input": "2024-03-05T04:02:04.618983Z",
     "iopub.status.busy": "2024-03-05T04:02:04.618701Z",
     "iopub.status.idle": "2024-03-05T04:02:04.627555Z",
     "shell.execute_reply": "2024-03-05T04:02:04.626208Z"
    },
    "papermill": {
     "duration": 0.025398,
     "end_time": "2024-03-05T04:02:04.630490",
     "exception": false,
     "start_time": "2024-03-05T04:02:04.605092",
     "status": "completed"
    },
    "tags": []
   },
   "outputs": [
    {
     "name": "stdout",
     "output_type": "stream",
     "text": [
      "Best trial:\n",
      " Value: 0.8654392852308109\n",
      " Params: \n",
      "    n_steps: 5\n",
      "    out_feats: 82\n",
      "    lr: 0.0003388786595148537\n",
      "    batch_size: 16\n"
     ]
    }
   ],
   "source": [
    "\n",
    "# Output best trial information\n",
    "print(\"Best trial:\")\n",
    "trial = study.best_trial\n",
    "print(f\" Value: {trial.value}\")\n",
    "print(\" Params: \")\n",
    "for key, value in trial.params.items():\n",
    "    print(f\"    {key}: {value}\")\n",
    "    "
   ]
  },
  {
   "cell_type": "code",
   "execution_count": 17,
   "id": "7ae615b8",
   "metadata": {},
   "outputs": [],
   "source": [
    "# Best trial:\n",
    "#  Value: 0.8654392852308109\n",
    "#  Params: \n",
    "#     n_steps: 5\n",
    "#     out_feats: 82\n",
    "#     lr: 0.0003388786595148537\n",
    "#     batch_size: 16"
   ]
  },
  {
   "cell_type": "code",
   "execution_count": 19,
   "id": "7fb3fc89",
   "metadata": {},
   "outputs": [
    {
     "name": "stdout",
     "output_type": "stream",
     "text": [
      "Epoch 1/30, Loss: 0.5194\n",
      "Epoch 2/30, Loss: 0.4417\n",
      "Epoch 3/30, Loss: 0.4040\n",
      "Epoch 4/30, Loss: 0.3792\n",
      "Epoch 5/30, Loss: 0.3610\n",
      "Epoch 6/30, Loss: 0.3485\n",
      "Epoch 7/30, Loss: 0.3387\n",
      "Epoch 8/30, Loss: 0.3301\n",
      "Epoch 9/30, Loss: 0.3231\n",
      "Epoch 10/30, Loss: 0.3182\n",
      "Epoch 11/30, Loss: 0.3115\n",
      "Epoch 12/30, Loss: 0.3082\n",
      "Epoch 13/30, Loss: 0.3047\n",
      "Epoch 14/30, Loss: 0.2998\n",
      "Epoch 15/30, Loss: 0.2960\n",
      "Epoch 16/30, Loss: 0.2955\n",
      "Epoch 17/30, Loss: 0.2937\n",
      "Epoch 18/30, Loss: 0.2883\n",
      "Epoch 19/30, Loss: 0.2870\n",
      "Epoch 20/30, Loss: 0.2842\n",
      "Epoch 21/30, Loss: 0.2824\n",
      "Epoch 22/30, Loss: 0.2790\n",
      "Epoch 23/30, Loss: 0.2770\n",
      "Epoch 24/30, Loss: 0.2767\n",
      "Epoch 25/30, Loss: 0.2751\n",
      "Epoch 26/30, Loss: 0.2723\n",
      "Epoch 27/30, Loss: 0.2733\n",
      "Epoch 28/30, Loss: 0.2711\n",
      "Epoch 29/30, Loss: 0.2706\n",
      "Epoch 30/30, Loss: 0.2678\n"
     ]
    }
   ],
   "source": [
    "# Assuming these are your best hyperparameters from Optuna\n",
    "best_hyperparams = {\n",
    "    'n_steps': 5,\n",
    "    'out_feats': 82,\n",
    "    'lr': 0.0003388786595148537,\n",
    "    'batch_size': 16\n",
    "}\n",
    "\n",
    "# Reinitialize the model with the best hyperparameters\n",
    "model = GraphClsGGNN(\n",
    "    annotation_size=74, # Assuming 'h' feature size is 74\n",
    "    out_feats=best_hyperparams['out_feats'],\n",
    "    n_steps=best_hyperparams['n_steps'],\n",
    "    n_etypes=1, # Adjust this based on your dataset\n",
    "    num_cls=2\n",
    ").to(device)\n",
    "\n",
    "optimizer = optim.Adam(model.parameters(), lr=best_hyperparams['lr'])\n",
    "criterion = nn.CrossEntropyLoss()\n",
    "\n",
    "# Create your DataLoaders\n",
    "train_loader = GraphDataLoader(list(zip(train_graphs, torch.tensor(train_labels))), batch_size=best_hyperparams['batch_size'], shuffle=True, collate_fn=collate)\n",
    "test_loader = GraphDataLoader(list(zip(test_graphs, torch.tensor(test_labels))), batch_size=best_hyperparams['batch_size'], shuffle=False, collate_fn=collate)\n",
    "\n",
    "# Retrain the model\n",
    "num_epochs = 300 # Adjust based on your needs\n",
    "for epoch in range(num_epochs):\n",
    "    model.train()\n",
    "    total_loss = 0.0\n",
    "    num_batches = 0\n",
    "    for batched_graph, labels in train_loader:\n",
    "        batched_graph = batched_graph.to(device)\n",
    "        labels = labels.to(device)\n",
    "        optimizer.zero_grad()\n",
    "        logits = model(batched_graph, batched_graph.ndata['h'].float().to(device))\n",
    "        loss = criterion(logits, labels)\n",
    "        loss.backward()\n",
    "        optimizer.step()\n",
    "\n",
    "        total_loss += loss.item()\n",
    "        num_batches += 1\n",
    "\n",
    "    avg_loss = total_loss / num_batches\n",
    "    print(f'Epoch {epoch+1}/{num_epochs}, Loss: {avg_loss:.4f}')\n",
    "\n",
    "\n"
   ]
  },
  {
   "cell_type": "code",
   "execution_count": 22,
   "id": "2771b5e7",
   "metadata": {},
   "outputs": [],
   "source": [
    "# save the model\n",
    "torch.save(model.state_dict(), \"data_mvi/ggnn_model.pth\")"
   ]
  },
  {
   "cell_type": "code",
   "execution_count": 20,
   "id": "8fe54dec",
   "metadata": {},
   "outputs": [],
   "source": [
    "\n",
    "# Evaluate the model on the test set\n",
    "model.eval()\n",
    "correct = 0\n",
    "total = 0\n",
    "with torch.no_grad():\n",
    "    for batched_graph, labels in test_loader:\n",
    "        batched_graph = batched_graph.to(device)\n",
    "        labels = labels.to(device)\n",
    "        logits = model(batched_graph, batched_graph.ndata['h'].float().to(device))\n",
    "        _, predicted = torch.max(logits.data, 1)\n",
    "        total += labels.size(0)\n",
    "        correct += (predicted == labels).sum().item()\n",
    "\n"
   ]
  },
  {
   "cell_type": "code",
   "execution_count": 21,
   "id": "1216dca2",
   "metadata": {},
   "outputs": [
    {
     "name": "stdout",
     "output_type": "stream",
     "text": [
      "Test accuracy: 0.8685\n"
     ]
    }
   ],
   "source": [
    "test_accuracy = correct / total\n",
    "print(f'Test accuracy: {test_accuracy:.4f}')"
   ]
  },
  {
   "cell_type": "code",
   "execution_count": null,
   "id": "1c2cea0d",
   "metadata": {},
   "outputs": [],
   "source": [
    "# as % "
   ]
  }
 ],
 "metadata": {
  "kernelspec": {
   "display_name": "gnn",
   "language": "python",
   "name": "python3"
  },
  "language_info": {
   "codemirror_mode": {
    "name": "ipython",
    "version": 3
   },
   "file_extension": ".py",
   "mimetype": "text/x-python",
   "name": "python",
   "nbconvert_exporter": "python",
   "pygments_lexer": "ipython3",
   "version": "3.8.18"
  },
  "papermill": {
   "default_parameters": {},
   "duration": 19588.749787,
   "end_time": "2024-03-05T04:02:07.591125",
   "environment_variables": {},
   "exception": null,
   "input_path": "gnn_ggnn_optuna_v6_att_weights.ipynb",
   "output_path": "gnn_ggnn_optuna_v6_att_weights.ipynb",
   "parameters": {},
   "start_time": "2024-03-04T22:35:38.841338",
   "version": "2.4.0"
  }
 },
 "nbformat": 4,
 "nbformat_minor": 5
}
