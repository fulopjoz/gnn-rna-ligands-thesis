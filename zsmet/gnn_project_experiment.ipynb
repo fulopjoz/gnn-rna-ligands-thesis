{
 "cells": [
  {
   "cell_type": "markdown",
   "id": "cf9edce7",
   "metadata": {
    "papermill": {
     "duration": 0.046804,
     "end_time": "2024-02-10T04:29:18.982449",
     "exception": false,
     "start_time": "2024-02-10T04:29:18.935645",
     "status": "completed"
    },
    "tags": []
   },
   "source": [
    "# MVI\n",
    "## Graph Neural Networks\n",
    "### Binary classification model in Cheminformatics\n",
    "Jozef Fulop"
   ]
  },
  {
   "cell_type": "markdown",
   "id": "f672be0b",
   "metadata": {
    "papermill": {
     "duration": 0.021215,
     "end_time": "2024-02-10T04:29:19.082829",
     "exception": false,
     "start_time": "2024-02-10T04:29:19.061614",
     "status": "completed"
    },
    "tags": []
   },
   "source": [
    "# Load Libraries"
   ]
  },
  {
   "cell_type": "code",
   "execution_count": null,
   "id": "8fb3e81a",
   "metadata": {
    "execution": {
     "iopub.execute_input": "2024-02-10T04:29:02.857964Z",
     "iopub.status.busy": "2024-02-10T04:29:02.857301Z",
     "iopub.status.idle": "2024-02-10T04:29:05.515757Z",
     "shell.execute_reply": "2024-02-10T04:29:05.514409Z"
    },
    "papermill": {
     "duration": null,
     "end_time": null,
     "exception": null,
     "start_time": null,
     "status": "completed"
    },
    "tags": []
   },
   "outputs": [],
   "source": [
    "# Standard libraries\n",
    "import os\n",
    "import json\n",
    "import pickle\n",
    "import warnings\n",
    "warnings.filterwarnings('ignore', category=UserWarning, message='TypedStorage is deprecated') # Known issue with PyTorch and DGL\n",
    "\n",
    "# Data handling\n",
    "import pandas as pd\n",
    "import numpy as np\n",
    "from scipy.spatial.distance import pdist, squareform\n",
    "\n",
    "# Machine learning and model evaluation\n",
    "from sklearn.model_selection import train_test_split\n",
    "from sklearn.metrics import f1_score, accuracy_score, precision_score, recall_score, roc_auc_score, roc_curve, auc, confusion_matrix, classification_report\n",
    "from sklearn.cluster import HDBSCAN\n",
    "\n",
    "# Neural Networks and Deep Learning\n",
    "import torch\n",
    "import torch.nn as nn\n",
    "import torch.nn.functional as F\n",
    "from torch.utils.data import Dataset, DataLoader\n",
    "\n",
    "# Graph Neural Networks\n",
    "import dgl\n",
    "import dgl.nn as dglnn\n",
    "from dgl import batch\n",
    "from dgl.data.utils import save_graphs, load_graphs\n",
    "\n",
    "# Cheminformatics\n",
    "from rdkit import Chem, DataStructs\n",
    "from rdkit.Chem import AllChem, Draw\n",
    "from dgllife.utils import mol_to_bigraph, CanonicalAtomFeaturizer, CanonicalBondFeaturizer, mol_to_graph\n",
    "from chembl_structure_pipeline import standardizer\n",
    "\n",
    "# Network analysis\n",
    "import networkx as nx\n",
    "\n",
    "# Visualization\n",
    "import matplotlib.pyplot as plt\n",
    "import seaborn as sns\n"
   ]
  },
  {
   "cell_type": "markdown",
   "id": "b484566a",
   "metadata": {
    "papermill": {
     "duration": null,
     "end_time": null,
     "exception": null,
     "start_time": null,
     "status": "completed"
    },
    "tags": []
   },
   "source": [
    "check if GPU is aviable and the device"
   ]
  },
  {
   "cell_type": "code",
   "execution_count": null,
   "id": "ddc62385",
   "metadata": {
    "execution": {
     "iopub.execute_input": "2024-01-11T22:14:14.681835Z",
     "iopub.status.busy": "2024-01-11T22:14:14.681251Z",
     "iopub.status.idle": "2024-01-11T22:14:14.736696Z",
     "shell.execute_reply": "2024-01-11T22:14:14.734826Z"
    },
    "papermill": {
     "duration": null,
     "end_time": null,
     "exception": null,
     "start_time": null,
     "status": "completed"
    },
    "tags": []
   },
   "outputs": [],
   "source": [
    "import torch\n",
    "print(\"PyTorch version:\", torch.__version__)\n",
    "print(\"Is CUDA Supported?\", torch.cuda.is_available())"
   ]
  },
  {
   "cell_type": "code",
   "execution_count": null,
   "id": "4e1f6501",
   "metadata": {
    "execution": {
     "iopub.execute_input": "2024-01-11T22:14:14.804521Z",
     "iopub.status.busy": "2024-01-11T22:14:14.804163Z",
     "iopub.status.idle": "2024-01-11T22:14:14.893644Z",
     "shell.execute_reply": "2024-01-11T22:14:14.891600Z"
    },
    "papermill": {
     "duration": null,
     "end_time": null,
     "exception": null,
     "start_time": null,
     "status": "completed"
    },
    "tags": []
   },
   "outputs": [],
   "source": [
    "torch.cuda.is_available(), torch.cuda.device_count(), torch.cuda.get_device_name(0)"
   ]
  },
  {
   "cell_type": "markdown",
   "id": "215f2ffc",
   "metadata": {
    "papermill": {
     "duration": null,
     "end_time": null,
     "exception": null,
     "start_time": null,
     "status": "completed"
    },
    "tags": []
   },
   "source": [
    "# Data Preprocessing"
   ]
  },
  {
   "cell_type": "markdown",
   "id": "fb401faa",
   "metadata": {
    "papermill": {
     "duration": null,
     "end_time": null,
     "exception": null,
     "start_time": null,
     "status": "completed"
    },
    "tags": []
   },
   "source": [
    "load dataset"
   ]
  },
  {
   "cell_type": "code",
   "execution_count": null,
   "id": "3365e4f9",
   "metadata": {
    "execution": {
     "iopub.execute_input": "2024-01-11T22:14:15.100080Z",
     "iopub.status.busy": "2024-01-11T22:14:15.099751Z",
     "iopub.status.idle": "2024-01-11T22:14:16.811305Z",
     "shell.execute_reply": "2024-01-11T22:14:16.809437Z"
    },
    "papermill": {
     "duration": null,
     "end_time": null,
     "exception": null,
     "start_time": null,
     "status": "completed"
    },
    "tags": []
   },
   "outputs": [],
   "source": [
    "# load json data from data_mvi folder\n",
    "chemdiv = pd.read_json('data_mvi/chemdiv_df.json')\n",
    "enamine = pd.read_json('data_mvi/enamine_df.json')\n",
    "enmine_protein = pd.read_json('data_mvi/enamine_protein_df.json')\n",
    "life_chemicals = pd.read_json('data_mvi/life_chemicals_df.json')\n",
    "robin = pd.read_json('data_mvi/robin_df.json')"
   ]
  },
  {
   "cell_type": "markdown",
   "id": "73a053b7",
   "metadata": {
    "papermill": {
     "duration": null,
     "end_time": null,
     "exception": null,
     "start_time": null,
     "status": "completed"
    },
    "tags": []
   },
   "source": [
    "add source column"
   ]
  },
  {
   "cell_type": "code",
   "execution_count": null,
   "id": "791590b2",
   "metadata": {
    "execution": {
     "iopub.execute_input": "2024-01-11T22:14:16.961960Z",
     "iopub.status.busy": "2024-01-11T22:14:16.961655Z",
     "iopub.status.idle": "2024-01-11T22:14:16.971791Z",
     "shell.execute_reply": "2024-01-11T22:14:16.970241Z"
    },
    "papermill": {
     "duration": null,
     "end_time": null,
     "exception": null,
     "start_time": null,
     "status": "completed"
    },
    "tags": []
   },
   "outputs": [],
   "source": [
    "# add 'source column'\n",
    "chemdiv['source'] = 'chemdiv'\n",
    "enamine['source'] = 'enamine'\n",
    "enmine_protein['source'] = 'enmine_protein'\n",
    "life_chemicals['source'] = 'life_chemicals'\n",
    "robin['source'] = 'robin'"
   ]
  },
  {
   "cell_type": "code",
   "execution_count": null,
   "id": "a7a5b0a0",
   "metadata": {
    "execution": {
     "iopub.execute_input": "2024-01-11T22:14:17.037392Z",
     "iopub.status.busy": "2024-01-11T22:14:17.037116Z",
     "iopub.status.idle": "2024-01-11T22:14:17.048110Z",
     "shell.execute_reply": "2024-01-11T22:14:17.046561Z"
    },
    "papermill": {
     "duration": null,
     "end_time": null,
     "exception": null,
     "start_time": null,
     "status": "completed"
    },
    "tags": []
   },
   "outputs": [],
   "source": [
    "robin.shape"
   ]
  },
  {
   "cell_type": "markdown",
   "id": "b7d4577c",
   "metadata": {
    "papermill": {
     "duration": null,
     "end_time": null,
     "exception": null,
     "start_time": null,
     "status": "completed"
    },
    "tags": []
   },
   "source": [
    "compute fingerprings for algorithms"
   ]
  },
  {
   "cell_type": "code",
   "execution_count": null,
   "id": "791409ed",
   "metadata": {
    "execution": {
     "iopub.execute_input": "2024-01-11T22:14:17.147492Z",
     "iopub.status.busy": "2024-01-11T22:14:17.147214Z",
     "iopub.status.idle": "2024-01-11T22:16:03.780152Z",
     "shell.execute_reply": "2024-01-11T22:16:03.778290Z"
    },
    "papermill": {
     "duration": null,
     "end_time": null,
     "exception": null,
     "start_time": null,
     "status": "completed"
    },
    "tags": []
   },
   "outputs": [],
   "source": [
    "# combine all dataframes\n",
    "df = pd.concat([chemdiv, enamine, enmine_protein, life_chemicals, robin], ignore_index=True)\n",
    "# delte 'mol' column and ECFp6 column\n",
    "df = df.drop(['mol', 'ECFP6'], axis=1)\n",
    "\n",
    "# create 'mol' column and use SMILES column to create mol object\n",
    "df['mol'] = df['SMILES'].apply(lambda x: Chem.MolFromSmiles(x))\n",
    "# create 'ECFP6' column and use mol object to create ECFP6 fingerprint\n",
    "df['ECFP6'] = df['mol'].apply(lambda x: AllChem.GetMorganFingerprintAsBitVect(x, 3, nBits=2048))\n"
   ]
  },
  {
   "cell_type": "markdown",
   "id": "0f0de357",
   "metadata": {
    "papermill": {
     "duration": null,
     "end_time": null,
     "exception": null,
     "start_time": null,
     "status": "completed"
    },
    "tags": []
   },
   "source": [
    "these fingerprints will be further used more in data preprocessing,train and test set selection. (not in this milestone). Dataset was deduplicated before."
   ]
  },
  {
   "cell_type": "code",
   "execution_count": null,
   "id": "626ac43c",
   "metadata": {
    "execution": {
     "iopub.execute_input": "2024-01-11T22:16:03.953809Z",
     "iopub.status.busy": "2024-01-11T22:16:03.953530Z",
     "iopub.status.idle": "2024-01-11T22:16:04.032095Z",
     "shell.execute_reply": "2024-01-11T22:16:04.030455Z"
    },
    "papermill": {
     "duration": null,
     "end_time": null,
     "exception": null,
     "start_time": null,
     "status": "completed"
    },
    "tags": []
   },
   "outputs": [],
   "source": [
    "# check for duplicates using 'SMILES' column\n",
    "df.duplicated(subset=['SMILES']).sum()"
   ]
  },
  {
   "cell_type": "code",
   "execution_count": null,
   "id": "f50b3217",
   "metadata": {
    "execution": {
     "iopub.execute_input": "2024-01-11T22:16:04.076607Z",
     "iopub.status.busy": "2024-01-11T22:16:04.076285Z",
     "iopub.status.idle": "2024-01-11T22:16:04.093436Z",
     "shell.execute_reply": "2024-01-11T22:16:04.091890Z"
    },
    "papermill": {
     "duration": null,
     "end_time": null,
     "exception": null,
     "start_time": null,
     "status": "completed"
    },
    "tags": []
   },
   "outputs": [],
   "source": [
    "df.head()"
   ]
  },
  {
   "cell_type": "markdown",
   "id": "f3dc62af",
   "metadata": {
    "papermill": {
     "duration": null,
     "end_time": null,
     "exception": null,
     "start_time": null,
     "status": "completed"
    },
    "tags": []
   },
   "source": [
    "create column for labels, if 'rna' == 1 - molecule binds to the RNA, else - Protein"
   ]
  },
  {
   "cell_type": "code",
   "execution_count": null,
   "id": "87240eff",
   "metadata": {
    "execution": {
     "iopub.execute_input": "2024-01-11T22:16:04.210204Z",
     "iopub.status.busy": "2024-01-11T22:16:04.209936Z",
     "iopub.status.idle": "2024-01-11T22:16:04.349656Z",
     "shell.execute_reply": "2024-01-11T22:16:04.347980Z"
    },
    "papermill": {
     "duration": null,
     "end_time": null,
     "exception": null,
     "start_time": null,
     "status": "completed"
    },
    "tags": []
   },
   "outputs": [],
   "source": [
    "# create 'rna' column and if in column 'source' is 'enmine_protein' set 'rna' to 0 else 1\n",
    "df['rna'] = df['source'].apply(lambda x: 0 if x == 'enmine_protein' else 1)"
   ]
  },
  {
   "cell_type": "code",
   "execution_count": null,
   "id": "ca0371a0",
   "metadata": {
    "execution": {
     "iopub.execute_input": "2024-01-11T22:16:04.423683Z",
     "iopub.status.busy": "2024-01-11T22:16:04.423409Z",
     "iopub.status.idle": "2024-01-11T22:16:04.431392Z",
     "shell.execute_reply": "2024-01-11T22:16:04.429977Z"
    },
    "papermill": {
     "duration": null,
     "end_time": null,
     "exception": null,
     "start_time": null,
     "status": "completed"
    },
    "tags": []
   },
   "outputs": [],
   "source": [
    "df.shape"
   ]
  },
  {
   "cell_type": "markdown",
   "id": "d31a9361",
   "metadata": {
    "papermill": {
     "duration": null,
     "end_time": null,
     "exception": null,
     "start_time": null,
     "status": "completed"
    },
    "tags": []
   },
   "source": [
    "dataset is unbalanced - creating balanced dataset - undersampling majority class (just for now, in near future more sofisticated approaches will be used - clustering)"
   ]
  },
  {
   "cell_type": "code",
   "execution_count": null,
   "id": "96d31f40",
   "metadata": {
    "execution": {
     "iopub.execute_input": "2024-01-11T22:16:04.675532Z",
     "iopub.status.busy": "2024-01-11T22:16:04.675257Z",
     "iopub.status.idle": "2024-01-11T22:16:04.683663Z",
     "shell.execute_reply": "2024-01-11T22:16:04.682207Z"
    },
    "papermill": {
     "duration": null,
     "end_time": null,
     "exception": null,
     "start_time": null,
     "status": "completed"
    },
    "tags": []
   },
   "outputs": [],
   "source": [
    "chemdiv.shape, enamine.shape, enmine_protein.shape, life_chemicals.shape, robin.shape"
   ]
  },
  {
   "cell_type": "code",
   "execution_count": null,
   "id": "247d3d6f",
   "metadata": {
    "execution": {
     "iopub.execute_input": "2024-01-11T22:16:04.748384Z",
     "iopub.status.busy": "2024-01-11T22:16:04.748056Z",
     "iopub.status.idle": "2024-01-11T22:16:04.964173Z",
     "shell.execute_reply": "2024-01-11T22:16:04.962869Z"
    },
    "papermill": {
     "duration": null,
     "end_time": null,
     "exception": null,
     "start_time": null,
     "status": "completed"
    },
    "tags": []
   },
   "outputs": [],
   "source": [
    "# divide data back to 5 dataframes\n",
    "chemdiv = df[df['source'] == 'chemdiv']\n",
    "enamine = df[df['source'] == 'enamine']\n",
    "enmine_protein = df[df['source'] == 'enmine_protein']\n",
    "life_chemicals = df[df['source'] == 'life_chemicals']\n",
    "robin = df[df['source'] == 'robin']\n",
    "\n",
    "rna_df = pd.concat([chemdiv, enamine, life_chemicals, robin], ignore_index=True)\n",
    "\n",
    "rna_df.shape"
   ]
  },
  {
   "cell_type": "code",
   "execution_count": null,
   "id": "71c3159c",
   "metadata": {
    "execution": {
     "iopub.execute_input": "2024-01-11T22:16:05.048084Z",
     "iopub.status.busy": "2024-01-11T22:16:05.047759Z",
     "iopub.status.idle": "2024-01-11T22:16:05.061521Z",
     "shell.execute_reply": "2024-01-11T22:16:05.060337Z"
    },
    "papermill": {
     "duration": null,
     "end_time": null,
     "exception": null,
     "start_time": null,
     "status": "completed"
    },
    "tags": []
   },
   "outputs": [],
   "source": [
    "enmine_protein.head()"
   ]
  },
  {
   "cell_type": "code",
   "execution_count": null,
   "id": "9253edcc",
   "metadata": {
    "execution": {
     "iopub.execute_input": "2024-01-11T22:16:05.123952Z",
     "iopub.status.busy": "2024-01-11T22:16:05.123661Z",
     "iopub.status.idle": "2024-01-11T22:16:05.131022Z",
     "shell.execute_reply": "2024-01-11T22:16:05.129803Z"
    },
    "papermill": {
     "duration": null,
     "end_time": null,
     "exception": null,
     "start_time": null,
     "status": "completed"
    },
    "tags": []
   },
   "outputs": [],
   "source": [
    "df.shape"
   ]
  },
  {
   "cell_type": "markdown",
   "id": "31061564",
   "metadata": {
    "papermill": {
     "duration": null,
     "end_time": null,
     "exception": null,
     "start_time": null,
     "status": "completed"
    },
    "tags": []
   },
   "source": [
    "sanity check "
   ]
  },
  {
   "cell_type": "code",
   "execution_count": null,
   "id": "c40705fa",
   "metadata": {
    "execution": {
     "iopub.execute_input": "2024-01-11T22:16:05.210455Z",
     "iopub.status.busy": "2024-01-11T22:16:05.210189Z",
     "iopub.status.idle": "2024-01-11T22:16:05.258938Z",
     "shell.execute_reply": "2024-01-11T22:16:05.257355Z"
    },
    "papermill": {
     "duration": null,
     "end_time": null,
     "exception": null,
     "start_time": null,
     "status": "completed"
    },
    "tags": []
   },
   "outputs": [],
   "source": [
    "# show rows from df with each source so there will be 5 rows and all columns\n",
    "df.groupby('source').head(1)\n"
   ]
  },
  {
   "cell_type": "code",
   "execution_count": null,
   "id": "f005aadb",
   "metadata": {
    "execution": {
     "iopub.execute_input": "2024-01-11T22:16:05.334714Z",
     "iopub.status.busy": "2024-01-11T22:16:05.334441Z",
     "iopub.status.idle": "2024-01-11T22:16:05.367283Z",
     "shell.execute_reply": "2024-01-11T22:16:05.365592Z"
    },
    "papermill": {
     "duration": null,
     "end_time": null,
     "exception": null,
     "start_time": null,
     "status": "completed"
    },
    "tags": []
   },
   "outputs": [],
   "source": [
    "enmine_protein_small = enmine_protein.sample(36937)\n"
   ]
  },
  {
   "cell_type": "code",
   "execution_count": null,
   "id": "e441f57b",
   "metadata": {
    "execution": {
     "iopub.execute_input": "2024-01-11T22:16:05.421164Z",
     "iopub.status.busy": "2024-01-11T22:16:05.420856Z",
     "iopub.status.idle": "2024-01-11T22:16:05.432106Z",
     "shell.execute_reply": "2024-01-11T22:16:05.430462Z"
    },
    "papermill": {
     "duration": null,
     "end_time": null,
     "exception": null,
     "start_time": null,
     "status": "completed"
    },
    "tags": []
   },
   "outputs": [],
   "source": [
    "# combine all df\n",
    "df_small = pd.concat([chemdiv, enamine, enmine_protein_small, life_chemicals, robin], ignore_index=True)"
   ]
  },
  {
   "cell_type": "code",
   "execution_count": null,
   "id": "92a64769",
   "metadata": {
    "execution": {
     "iopub.execute_input": "2024-01-11T22:16:05.508221Z",
     "iopub.status.busy": "2024-01-11T22:16:05.507874Z",
     "iopub.status.idle": "2024-01-11T22:16:05.527104Z",
     "shell.execute_reply": "2024-01-11T22:16:05.525571Z"
    },
    "papermill": {
     "duration": null,
     "end_time": null,
     "exception": null,
     "start_time": null,
     "status": "completed"
    },
    "tags": []
   },
   "outputs": [],
   "source": [
    "df_small.groupby('source').head(1)"
   ]
  },
  {
   "cell_type": "code",
   "execution_count": null,
   "id": "77008e36",
   "metadata": {
    "execution": {
     "iopub.execute_input": "2024-01-11T22:16:05.576709Z",
     "iopub.status.busy": "2024-01-11T22:16:05.576444Z",
     "iopub.status.idle": "2024-01-11T22:16:05.585318Z",
     "shell.execute_reply": "2024-01-11T22:16:05.583962Z"
    },
    "papermill": {
     "duration": null,
     "end_time": null,
     "exception": null,
     "start_time": null,
     "status": "completed"
    },
    "tags": []
   },
   "outputs": [],
   "source": [
    "df_small['rna'].value_counts()"
   ]
  },
  {
   "cell_type": "markdown",
   "id": "d4bbfea3",
   "metadata": {
    "papermill": {
     "duration": null,
     "end_time": null,
     "exception": null,
     "start_time": null,
     "status": "completed"
    },
    "tags": []
   },
   "source": [
    "Check for the inconsistency\n"
   ]
  },
  {
   "cell_type": "code",
   "execution_count": null,
   "id": "3d6ef64f",
   "metadata": {
    "execution": {
     "iopub.execute_input": "2024-01-11T22:16:05.687101Z",
     "iopub.status.busy": "2024-01-11T22:16:05.686808Z",
     "iopub.status.idle": "2024-01-11T22:16:05.703859Z",
     "shell.execute_reply": "2024-01-11T22:16:05.702207Z"
    },
    "papermill": {
     "duration": null,
     "end_time": null,
     "exception": null,
     "start_time": null,
     "status": "completed"
    },
    "tags": []
   },
   "outputs": [],
   "source": [
    "# drop SMILES column\n",
    "df_small = df_small.drop(['SMILES'], axis=1)"
   ]
  },
  {
   "cell_type": "code",
   "execution_count": null,
   "id": "8d7a9870",
   "metadata": {
    "execution": {
     "iopub.execute_input": "2024-01-11T22:16:06.003427Z",
     "iopub.status.busy": "2024-01-11T22:16:06.003144Z",
     "iopub.status.idle": "2024-01-11T22:17:49.293671Z",
     "shell.execute_reply": "2024-01-11T22:17:49.291792Z"
    },
    "papermill": {
     "duration": null,
     "end_time": null,
     "exception": null,
     "start_time": null,
     "status": "completed"
    },
    "tags": []
   },
   "outputs": [],
   "source": [
    "df_small['mol'] = df_small['mol'].apply(lambda mol: standardizer.standardize_mol(mol))"
   ]
  },
  {
   "cell_type": "code",
   "execution_count": null,
   "id": "744caf85",
   "metadata": {
    "execution": {
     "iopub.execute_input": "2024-01-11T22:17:49.370401Z",
     "iopub.status.busy": "2024-01-11T22:17:49.370077Z",
     "iopub.status.idle": "2024-01-11T22:17:56.189727Z",
     "shell.execute_reply": "2024-01-11T22:17:56.187804Z"
    },
    "papermill": {
     "duration": null,
     "end_time": null,
     "exception": null,
     "start_time": null,
     "status": "completed"
    },
    "tags": []
   },
   "outputs": [],
   "source": [
    "# compute SMILES for each molecule\n",
    "df_small['SMILES'] = df_small['mol'].apply(lambda mol: Chem.MolToSmiles(mol))"
   ]
  },
  {
   "cell_type": "code",
   "execution_count": null,
   "id": "74e31c9a",
   "metadata": {
    "execution": {
     "iopub.execute_input": "2024-01-11T22:17:56.288362Z",
     "iopub.status.busy": "2024-01-11T22:17:56.288004Z",
     "iopub.status.idle": "2024-01-11T22:18:29.516642Z",
     "shell.execute_reply": "2024-01-11T22:18:29.514618Z"
    },
    "papermill": {
     "duration": null,
     "end_time": null,
     "exception": null,
     "start_time": null,
     "status": "completed"
    },
    "tags": []
   },
   "outputs": [],
   "source": [
    "from rdkit import Chem\n",
    "import pandas as pd\n",
    "\n",
    "# Initialize a list to store molecules with disconnected components\n",
    "disconnected_mols = []\n",
    "\n",
    "# Check for valid SMILES and Mols\n",
    "for idx, row in df_small.iterrows():\n",
    "    smiles = row['SMILES']\n",
    "    mol = row['mol']\n",
    "    source = row['source']\n",
    "\n",
    "    # Check if the SMILES string can be converted to a valid RDKit Mol object\n",
    "    mol_from_smiles = Chem.MolFromSmiles(smiles)\n",
    "    if mol_from_smiles is None:\n",
    "        print(f\"Invalid SMILES string at index {idx}: {smiles}\")\n",
    "        continue\n",
    "\n",
    "    # Check if the Mol object is valid (no disconnected components)\n",
    "    if mol is None or mol.GetNumAtoms() == 0:\n",
    "        print(f\"Invalid Mol object at index {idx}: {smiles}\")\n",
    "        continue\n",
    "\n",
    "    # Check for disconnected components in Mol objects\n",
    "    if mol is not None:\n",
    "        # Get the number of disconnected components\n",
    "        num_components = Chem.GetMolFrags(mol, asMols=False, sanitizeFrags=False)\n",
    "        if len(num_components) > 1:\n",
    "            print(f\"Disconnected components in molecule at index {idx}: {smiles}, from source {source}\")\n",
    "            disconnected_mols.append(row)\n",
    "            df_small.drop(idx, inplace=True)\n",
    "\n",
    "# Convert the list to a DataFrame\n",
    "disconnected_mols_df = pd.DataFrame(disconnected_mols)\n"
   ]
  },
  {
   "cell_type": "code",
   "execution_count": null,
   "id": "558a31bb",
   "metadata": {
    "execution": {
     "iopub.execute_input": "2024-01-11T22:18:29.622775Z",
     "iopub.status.busy": "2024-01-11T22:18:29.622492Z",
     "iopub.status.idle": "2024-01-11T22:18:29.636189Z",
     "shell.execute_reply": "2024-01-11T22:18:29.634686Z"
    },
    "papermill": {
     "duration": null,
     "end_time": null,
     "exception": null,
     "start_time": null,
     "status": "completed"
    },
    "tags": []
   },
   "outputs": [],
   "source": [
    "df_small.shape"
   ]
  },
  {
   "cell_type": "markdown",
   "id": "ff4a47d5",
   "metadata": {
    "papermill": {
     "duration": null,
     "end_time": null,
     "exception": null,
     "start_time": null,
     "status": "completed"
    },
    "tags": []
   },
   "source": [
    "## Create Graphs from molecules and add features to nodes (atoms) - mainly one hot encoding , edges (bonds)"
   ]
  },
  {
   "cell_type": "code",
   "execution_count": null,
   "id": "7efa2744",
   "metadata": {
    "execution": {
     "iopub.execute_input": "2024-01-11T22:18:29.825587Z",
     "iopub.status.busy": "2024-01-11T22:18:29.825310Z",
     "iopub.status.idle": "2024-01-11T22:20:55.353731Z",
     "shell.execute_reply": "2024-01-11T22:20:55.351735Z"
    },
    "papermill": {
     "duration": null,
     "end_time": null,
     "exception": null,
     "start_time": null,
     "status": "completed"
    },
    "tags": []
   },
   "outputs": [],
   "source": [
    "def create_graphs_from_dataframe(df):\n",
    "    graphs = []\n",
    "    labels = []\n",
    "\n",
    "    for index, row in df.iterrows():\n",
    "        mol = row['mol']  # RDKit Mol object\n",
    "        label = row['rna']  # Binary label\n",
    "\n",
    "        # Convert RDKit molecule to a bi-directed DGLGraph and featurize\n",
    "        graph = mol_to_bigraph(mol,  # mol_to_bigraph\n",
    "                               node_featurizer=CanonicalAtomFeaturizer(),\n",
    "                               edge_featurizer=CanonicalBondFeaturizer(self_loop=False),\n",
    "                               explicit_hydrogens=False,\n",
    "                               add_self_loop=False)\n",
    "               \n",
    "        # graph = dgl.add_self_loop(graph)\n",
    "        graphs.append(graph)\n",
    "        labels.append(label)\n",
    "\n",
    "    return graphs, torch.tensor(labels).unsqueeze(1)\n",
    "\n",
    "\n",
    "# Create graphs and labels from the DataFrame\n",
    "graphs, labels = create_graphs_from_dataframe(df_small)\n",
    "\n",
    "# Now, 'graphs' is a list of DGLGraphs, and 'labels' is a tensor of labels \n",
    "# corresponding to each graph. We can use DGL's batch utility function to\n",
    "# batch these graphs together into a single large graph. This is a common\n",
    "# technique for training GNNs on multiple graphs."
   ]
  },
  {
   "cell_type": "markdown",
   "id": "d6bc45d4",
   "metadata": {
    "papermill": {
     "duration": null,
     "end_time": null,
     "exception": null,
     "start_time": null,
     "status": "completed"
    },
    "tags": []
   },
   "source": [
    "save graphs - tensors"
   ]
  },
  {
   "cell_type": "code",
   "execution_count": null,
   "id": "194c8a47",
   "metadata": {
    "execution": {
     "iopub.execute_input": "2024-01-11T22:20:55.528955Z",
     "iopub.status.busy": "2024-01-11T22:20:55.528664Z",
     "iopub.status.idle": "2024-01-11T22:21:19.138093Z",
     "shell.execute_reply": "2024-01-11T22:21:19.135920Z"
    },
    "papermill": {
     "duration": null,
     "end_time": null,
     "exception": null,
     "start_time": null,
     "status": "completed"
    },
    "tags": []
   },
   "outputs": [],
   "source": [
    "graph_labels = df_small[['source', 'rna']].to_dict('records')  # Convert relevant columns to a list of dictionaries\n",
    "\n",
    "# Save the graphs\n",
    "dgl.save_graphs('data_mvi/molecule_graphs_orig.bin', graphs)\n",
    "\n",
    "# Save the labels and additional information\n",
    "with open('graph_labels.json', 'w') as f:\n",
    "    json.dump(graph_labels, f)\n"
   ]
  },
  {
   "cell_type": "code",
   "execution_count": null,
   "id": "730a9eb6",
   "metadata": {
    "execution": {
     "iopub.execute_input": "2024-01-11T22:21:19.286631Z",
     "iopub.status.busy": "2024-01-11T22:21:19.286338Z",
     "iopub.status.idle": "2024-01-11T22:21:30.128343Z",
     "shell.execute_reply": "2024-01-11T22:21:30.126490Z"
    },
    "papermill": {
     "duration": null,
     "end_time": null,
     "exception": null,
     "start_time": null,
     "status": "completed"
    },
    "tags": []
   },
   "outputs": [],
   "source": [
    "# Load the graphs\n",
    "loaded_graphs_orig, _ = dgl.load_graphs('data_mvi/molecule_graphs_orig.bin')\n",
    "\n",
    "# Load the labels and additional information\n",
    "with open('graph_labels.json', 'r') as f:\n",
    "    loaded_graph_labels = json.load(f)\n",
    "\n",
    "# You can now reconstruct a DataFrame or directly use the loaded data\n",
    "reconstructed_df = pd.DataFrame(loaded_graph_labels)\n"
   ]
  },
  {
   "cell_type": "markdown",
   "id": "950779a5",
   "metadata": {
    "papermill": {
     "duration": null,
     "end_time": null,
     "exception": null,
     "start_time": null,
     "status": "completed"
    },
    "tags": []
   },
   "source": [
    "### Visualization of the graph representation "
   ]
  },
  {
   "cell_type": "code",
   "execution_count": null,
   "id": "c418b2fc",
   "metadata": {
    "execution": {
     "iopub.execute_input": "2024-01-11T22:21:30.373298Z",
     "iopub.status.busy": "2024-01-11T22:21:30.372864Z",
     "iopub.status.idle": "2024-01-11T22:21:30.739377Z",
     "shell.execute_reply": "2024-01-11T22:21:30.737581Z"
    },
    "papermill": {
     "duration": null,
     "end_time": null,
     "exception": null,
     "start_time": null,
     "status": "completed"
    },
    "tags": []
   },
   "outputs": [],
   "source": [
    "def visualize_dgl_graph(dgl_graph):\n",
    "    g = dgl.to_networkx(dgl_graph)  # Convert DGL graph to a NetworkX graph\n",
    "    pos = nx.spring_layout(g)  # Position nodes using Fruchterman-Reingold force-directed algorithm\n",
    "    nx.draw(g, pos, with_labels=False, node_color='skyblue', node_size=200, edge_color='black')\n",
    "    plt.show()\n",
    "\n",
    "# Visualize the first graph in the list\n",
    "visualize_dgl_graph(loaded_graphs_orig[42])"
   ]
  },
  {
   "cell_type": "code",
   "execution_count": null,
   "id": "d3d3e018",
   "metadata": {
    "execution": {
     "iopub.execute_input": "2024-01-11T22:21:30.808681Z",
     "iopub.status.busy": "2024-01-11T22:21:30.808390Z",
     "iopub.status.idle": "2024-01-11T22:21:30.859589Z",
     "shell.execute_reply": "2024-01-11T22:21:30.858052Z"
    },
    "papermill": {
     "duration": null,
     "end_time": null,
     "exception": null,
     "start_time": null,
     "status": "completed"
    },
    "tags": []
   },
   "outputs": [],
   "source": [
    "\n",
    "mol = df_small['mol'][42]\n",
    "AllChem.Compute2DCoords(mol)\n",
    "# draw the molecule\n",
    "Draw.MolToImage(mol, size=(600, 600))"
   ]
  },
  {
   "cell_type": "markdown",
   "id": "2e9273d5",
   "metadata": {
    "papermill": {
     "duration": null,
     "end_time": null,
     "exception": null,
     "start_time": null,
     "status": "completed"
    },
    "tags": []
   },
   "source": [
    "# Create train and test set"
   ]
  },
  {
   "cell_type": "code",
   "execution_count": null,
   "id": "475b6d60",
   "metadata": {
    "execution": {
     "iopub.execute_input": "2024-01-11T22:21:31.346277Z",
     "iopub.status.busy": "2024-01-11T22:21:31.345934Z",
     "iopub.status.idle": "2024-01-11T22:21:31.415670Z",
     "shell.execute_reply": "2024-01-11T22:21:31.413884Z"
    },
    "papermill": {
     "duration": null,
     "end_time": null,
     "exception": null,
     "start_time": null,
     "status": "completed"
    },
    "tags": []
   },
   "outputs": [],
   "source": [
    "# First split into training and test sets\n",
    "train_graphs, test_graphs, train_labels, test_labels = train_test_split(\n",
    "    loaded_graphs_orig, \n",
    "    reconstructed_df['rna'], \n",
    "    test_size=0.2, \n",
    "    random_state=42\n",
    ")\n",
    "\n",
    "# Further split the training set into training and validation sets\n",
    "train_graphs, val_graphs, train_labels, val_labels = train_test_split(\n",
    "    train_graphs, \n",
    "    train_labels, \n",
    "    test_size=0.2,  # 20% of the original training set for validation\n",
    "    random_state=42\n",
    ")\n",
    "\n",
    "# merge train and val,  labels are Series\n",
    "train_graphs_all = train_graphs + val_graphs\n",
    "train_labels_all = pd.concat([train_labels, val_labels])"
   ]
  },
  {
   "cell_type": "markdown",
   "id": "1bf3313a",
   "metadata": {
    "papermill": {
     "duration": null,
     "end_time": null,
     "exception": null,
     "start_time": null,
     "status": "completed"
    },
    "tags": []
   },
   "source": [
    "there was a problem with few isolated nodes in few graphs so I added loops to each node to have information at least about themselfs"
   ]
  },
  {
   "cell_type": "code",
   "execution_count": null,
   "id": "272cdcfe",
   "metadata": {
    "execution": {
     "iopub.execute_input": "2024-01-11T22:21:31.806147Z",
     "iopub.status.busy": "2024-01-11T22:21:31.805817Z",
     "iopub.status.idle": "2024-01-11T22:21:43.340148Z",
     "shell.execute_reply": "2024-01-11T22:21:43.339171Z"
    },
    "papermill": {
     "duration": null,
     "end_time": null,
     "exception": null,
     "start_time": null,
     "status": "completed"
    },
    "tags": []
   },
   "outputs": [],
   "source": [
    "for i, g in enumerate(train_graphs):\n",
    "    if (g.in_degrees() == 0).any():\n",
    "        print(f\"Graph {i} has isolated nodes\")\n",
    "\n",
    "# if there is not any isolated nodes in train_graphs, print 'No isolated nodes'\n",
    "print('No isolated nodes')\n",
    "\n",
    "for i, g in enumerate(test_graphs):\n",
    "    if (g.in_degrees() == 0).any():\n",
    "        print(f\"Graph {i} has isolated nodes\")\n",
    "\n",
    "# if there is not any isolated nodes in train_graphs, print 'No isolated nodes'\n",
    "print('No isolated nodes')"
   ]
  },
  {
   "cell_type": "markdown",
   "id": "31c6d280",
   "metadata": {
    "papermill": {
     "duration": null,
     "end_time": null,
     "exception": null,
     "start_time": null,
     "status": "completed"
    },
    "tags": []
   },
   "source": [
    "# Graph Convolutional Network Model (GCN)"
   ]
  },
  {
   "cell_type": "code",
   "execution_count": null,
   "id": "259b9637",
   "metadata": {
    "execution": {
     "iopub.execute_input": "2024-01-11T22:21:43.499858Z",
     "iopub.status.busy": "2024-01-11T22:21:43.499580Z",
     "iopub.status.idle": "2024-01-11T22:21:43.507451Z",
     "shell.execute_reply": "2024-01-11T22:21:43.506460Z"
    },
    "papermill": {
     "duration": null,
     "end_time": null,
     "exception": null,
     "start_time": null,
     "status": "completed"
    },
    "tags": []
   },
   "outputs": [],
   "source": [
    "class GCNClassifier(nn.Module):\n",
    "    def __init__(self, in_feats, hidden_size):\n",
    "        super(GCNClassifier, self).__init__()\n",
    "        self.conv1 = dglnn.GraphConv(in_feats, hidden_size)\n",
    "        self.conv2 = dglnn.GraphConv(hidden_size, hidden_size)\n",
    "        self.fc = nn.Linear(hidden_size, 1)\n",
    "\n",
    "    def forward(self, g, features):\n",
    "        x = F.relu(self.conv1(g, features))\n",
    "        x = F.relu(self.conv2(g, x))\n",
    "        g.ndata['h'] = x\n",
    "        x = dgl.mean_nodes(g, 'h')\n",
    "        return self.fc(x)\n"
   ]
  },
  {
   "cell_type": "markdown",
   "id": "3a3eb845",
   "metadata": {
    "papermill": {
     "duration": null,
     "end_time": null,
     "exception": null,
     "start_time": null,
     "status": "completed"
    },
    "tags": []
   },
   "source": [
    "## Instance of the the GCN Model"
   ]
  },
  {
   "cell_type": "code",
   "execution_count": null,
   "id": "afe15884",
   "metadata": {
    "execution": {
     "iopub.execute_input": "2024-01-11T22:21:43.690014Z",
     "iopub.status.busy": "2024-01-11T22:21:43.689561Z",
     "iopub.status.idle": "2024-01-11T22:21:44.183592Z",
     "shell.execute_reply": "2024-01-11T22:21:44.182014Z"
    },
    "papermill": {
     "duration": null,
     "end_time": null,
     "exception": null,
     "start_time": null,
     "status": "completed"
    },
    "tags": []
   },
   "outputs": [],
   "source": [
    "device = torch.device('cuda' if torch.cuda.is_available() else 'cpu')\n",
    "\n",
    "# Instantiate the model\n",
    "in_feats = train_graphs[0].ndata['h'].shape[1]  # Replace with your feature size\n",
    "model = GCNClassifier(in_feats, hidden_size=148).to(device)  # hidden_size is set to 74,  num_classes=2\n",
    "\n",
    "# Loss and optimizer\n",
    "# criterion = nn.CrossEntropyLoss() \n",
    "criterion = nn.BCEWithLogitsLoss()  # Use this loss if you are using a sigmoid activation\n",
    "optimizer = torch.optim.Adam(model.parameters(), lr=0.0001)\n",
    "\n"
   ]
  },
  {
   "cell_type": "markdown",
   "id": "6573b76f",
   "metadata": {
    "papermill": {
     "duration": null,
     "end_time": null,
     "exception": null,
     "start_time": null,
     "status": "completed"
    },
    "tags": []
   },
   "source": [
    "## Train the GCN model"
   ]
  },
  {
   "cell_type": "code",
   "execution_count": null,
   "id": "7b0d0eaf",
   "metadata": {
    "execution": {
     "iopub.execute_input": "2024-01-11T22:21:44.773445Z",
     "iopub.status.busy": "2024-01-11T22:21:44.772989Z",
     "iopub.status.idle": "2024-01-11T22:21:44.783954Z",
     "shell.execute_reply": "2024-01-11T22:21:44.782097Z"
    },
    "papermill": {
     "duration": null,
     "end_time": null,
     "exception": null,
     "start_time": null,
     "status": "completed"
    },
    "tags": []
   },
   "outputs": [],
   "source": [
    "class GraphDataset(Dataset):\n",
    "    def __init__(self, graphs, labels):\n",
    "        self.graphs = graphs\n",
    "        \n",
    "        # Reset index if labels is a pandas DataFrame/Series to ensure continuous indexing\n",
    "        if isinstance(labels, pd.DataFrame) or isinstance(labels, pd.Series):\n",
    "            self.labels = labels.reset_index(drop=True)\n",
    "        else:\n",
    "            self.labels = labels\n",
    "\n",
    "    def __len__(self):\n",
    "        # The lengths of graphs and labels should be the same\n",
    "        assert len(self.graphs) == len(self.labels), \"Graphs and labels must have the same length\"\n",
    "        return len(self.graphs)\n",
    "\n",
    "    def __getitem__(self, idx):\n",
    "        try:\n",
    "            graph = self.graphs[idx]\n",
    "            label = self.labels[idx]\n",
    "            return graph, label\n",
    "        except IndexError:\n",
    "            print(f\"IndexError: Index {idx} out of range for dataset of size {len(self)}\")\n",
    "            raise\n",
    "        \n",
    "        "
   ]
  },
  {
   "cell_type": "code",
   "execution_count": null,
   "id": "744770d1",
   "metadata": {
    "execution": {
     "iopub.execute_input": "2024-01-11T22:21:44.889666Z",
     "iopub.status.busy": "2024-01-11T22:21:44.889223Z",
     "iopub.status.idle": "2024-01-11T22:21:44.897765Z",
     "shell.execute_reply": "2024-01-11T22:21:44.895933Z"
    },
    "papermill": {
     "duration": null,
     "end_time": null,
     "exception": null,
     "start_time": null,
     "status": "completed"
    },
    "tags": []
   },
   "outputs": [],
   "source": [
    "def collate_graphs(samples):\n",
    "    graphs, labels = map(list, zip(*samples))\n",
    "    batched_graph = dgl.batch(graphs)\n",
    "    labels = torch.tensor(labels, dtype=torch.float32)\n",
    "    return batched_graph, labels\n",
    "\n"
   ]
  },
  {
   "cell_type": "code",
   "execution_count": null,
   "id": "f6b4ccb3",
   "metadata": {
    "execution": {
     "iopub.execute_input": "2024-01-11T22:21:45.019134Z",
     "iopub.status.busy": "2024-01-11T22:21:45.018603Z",
     "iopub.status.idle": "2024-01-11T22:21:45.032766Z",
     "shell.execute_reply": "2024-01-11T22:21:45.031075Z"
    },
    "papermill": {
     "duration": null,
     "end_time": null,
     "exception": null,
     "start_time": null,
     "status": "completed"
    },
    "tags": []
   },
   "outputs": [],
   "source": [
    "batch_size = 1024\n",
    "num_workers = 10\n",
    "\n",
    "# Assuming train_labels and test_labels are originally 1D tensors or lists\n",
    "# Create the datasets with updated labels\n",
    "# Create the DataLoader with multiple workers\n",
    "\n",
    "if isinstance(train_labels, torch.Tensor):\n",
    "    train_labels = train_labels.tolist()\n",
    "train_dataset = GraphDataset(train_graphs, train_labels)\n",
    "train_loader = DataLoader(train_dataset, batch_size=batch_size, shuffle=True, num_workers=num_workers, collate_fn=collate_graphs)\n",
    "\n",
    "if isinstance(test_labels, torch.Tensor):\n",
    "    test_labels = test_labels.tolist()\n",
    "test_dataset = GraphDataset(test_graphs, test_labels)\n",
    "test_loader = DataLoader(test_dataset, batch_size=batch_size, shuffle=False, num_workers=num_workers, collate_fn=collate_graphs)\n",
    "\n",
    "if isinstance(val_labels, torch.Tensor):\n",
    "    val_labels = val_labels.tolist()\n",
    "val_dataset = GraphDataset(val_graphs, val_labels)\n",
    "val_loader = DataLoader(val_dataset, batch_size=1, shuffle=False, num_workers=num_workers, collate_fn=collate_graphs)\n",
    "\n",
    "if isinstance(train_labels_all, torch.Tensor):\n",
    "    train_labels_all = train_labels_all.tolist()\n",
    "train_dataset_all = GraphDataset(train_graphs_all, train_labels_all)\n",
    "train_loader_all = DataLoader(train_dataset_all, batch_size=batch_size, shuffle=False, num_workers=num_workers, collate_fn=collate_graphs)\n",
    "\n"
   ]
  },
  {
   "cell_type": "code",
   "execution_count": null,
   "id": "db684d99",
   "metadata": {
    "execution": {
     "iopub.execute_input": "2024-01-11T22:21:45.114169Z",
     "iopub.status.busy": "2024-01-11T22:21:45.113696Z",
     "iopub.status.idle": "2024-01-11T22:21:45.123258Z",
     "shell.execute_reply": "2024-01-11T22:21:45.121527Z"
    },
    "papermill": {
     "duration": null,
     "end_time": null,
     "exception": null,
     "start_time": null,
     "status": "completed"
    },
    "tags": []
   },
   "outputs": [],
   "source": [
    "def train(model, data_loader, criterion, optimizer, device):\n",
    "    model.train()\n",
    "    total_loss = 0\n",
    "    for batch_graphs, batch_labels in data_loader:\n",
    "        batch_graphs = batch_graphs.to(device)\n",
    "        \n",
    "        # batch_labels = torch.tensor(batch_labels, dtype=torch.long).to(device)\n",
    "        batch_labels = batch_labels.clone().detach().to(device)\n",
    "        batch_features = batch_graphs.ndata['h']\n",
    "\n",
    "        outputs = model(batch_graphs, batch_features)\n",
    "        outputs = outputs.squeeze() # remove extra dimension\n",
    "        loss = criterion(outputs, batch_labels)\n",
    "        optimizer.zero_grad()\n",
    "        loss.backward()\n",
    "        optimizer.step()\n",
    "        total_loss += loss.item()\n",
    "\n",
    "    return total_loss / len(data_loader)\n",
    "\n"
   ]
  },
  {
   "cell_type": "code",
   "execution_count": null,
   "id": "52693060",
   "metadata": {
    "execution": {
     "iopub.execute_input": "2024-01-11T22:21:45.218389Z",
     "iopub.status.busy": "2024-01-11T22:21:45.217695Z",
     "iopub.status.idle": "2024-01-11T22:21:45.231936Z",
     "shell.execute_reply": "2024-01-11T22:21:45.230332Z"
    },
    "papermill": {
     "duration": null,
     "end_time": null,
     "exception": null,
     "start_time": null,
     "status": "completed"
    },
    "tags": []
   },
   "outputs": [],
   "source": [
    "def validate(model, data_loader, criterion, device):\n",
    "    model.eval()\n",
    "    total_loss = 0\n",
    "    y_true = []\n",
    "    y_pred = []\n",
    "    y_pred_proba = []\n",
    "    with torch.no_grad():\n",
    "        for graphs, labels in data_loader:\n",
    "            graphs = graphs.to(device)\n",
    "            features = graphs.ndata['h'].to(device)\n",
    "            labels = labels.to(device)\n",
    "            outputs = model(graphs, features)\n",
    "            if outputs.dim() == 2 and outputs.shape[0] == 1:\n",
    "                outputs = outputs.squeeze(0)\n",
    "            loss = criterion(outputs, labels)\n",
    "            total_loss += loss.item()\n",
    "\n",
    "            # Check the dimension of outputs before applying torch.max\n",
    "            if outputs.dim() > 1:\n",
    "                _, predicted = torch.max(outputs.data, 1)\n",
    "            else:\n",
    "                predicted = outputs.round()  # Assuming binary classification\n",
    "\n",
    "            y_true.extend(labels.cpu().numpy())\n",
    "            y_pred.extend(predicted.cpu().numpy())\n",
    "            y_pred_proba.extend(outputs.cpu().numpy())\n",
    "    \n",
    "    avg_loss = total_loss / len(data_loader)\n",
    "    return avg_loss, y_true, y_pred, y_pred_proba\n",
    "\n"
   ]
  },
  {
   "cell_type": "code",
   "execution_count": null,
   "id": "4099d2ae",
   "metadata": {
    "execution": {
     "iopub.execute_input": "2024-01-11T22:21:45.313942Z",
     "iopub.status.busy": "2024-01-11T22:21:45.313331Z",
     "iopub.status.idle": "2024-01-11T22:21:45.324731Z",
     "shell.execute_reply": "2024-01-11T22:21:45.323012Z"
    },
    "papermill": {
     "duration": null,
     "end_time": null,
     "exception": null,
     "start_time": null,
     "status": "completed"
    },
    "tags": []
   },
   "outputs": [],
   "source": [
    "class EarlyStopping:\n",
    "    def __init__(self, patience=10, min_delta=0):\n",
    "        self.patience = patience\n",
    "        self.min_delta = min_delta\n",
    "        self.best_loss = None\n",
    "        self.epochs_no_improve = 0\n",
    "        self.early_stop = False\n",
    "        self.stopped_epoch = 0  # Attribute to store the epoch number\n",
    "\n",
    "    def __call__(self, val_loss, epoch):\n",
    "        if self.best_loss is None:\n",
    "            self.best_loss = val_loss\n",
    "        elif val_loss < self.best_loss - self.min_delta:\n",
    "            self.best_loss = val_loss\n",
    "            self.epochs_no_improve = 0\n",
    "        else:\n",
    "            self.epochs_no_improve += 1\n",
    "            if self.epochs_no_improve >= self.patience:\n",
    "                self.early_stop = True\n",
    "                self.stopped_epoch = epoch  # Store the epoch number\n",
    "\n"
   ]
  },
  {
   "cell_type": "code",
   "execution_count": null,
   "id": "9248ab51",
   "metadata": {
    "execution": {
     "iopub.execute_input": "2024-01-11T22:21:45.436902Z",
     "iopub.status.busy": "2024-01-11T22:21:45.436193Z",
     "iopub.status.idle": "2024-01-12T08:23:59.970442Z",
     "shell.execute_reply": "2024-01-12T08:23:59.968984Z"
    },
    "papermill": {
     "duration": null,
     "end_time": null,
     "exception": null,
     "start_time": null,
     "status": "completed"
    },
    "tags": []
   },
   "outputs": [],
   "source": [
    "num_epochs = 500\n",
    "early_stopping = EarlyStopping(patience=20, min_delta=0.002)\n",
    "\n",
    "# Initialize lists to store loss values\n",
    "gcn_train_loss_list = []\n",
    "gcn_val_loss_list = []\n",
    "\n",
    "for epoch in range(num_epochs):\n",
    "    # Training\n",
    "    train_loss = train(model, train_loader, criterion, optimizer, device)\n",
    "    gcn_train_loss_list.append(train_loss)  # Store train loss\n",
    "\n",
    "    # Validation\n",
    "    val_loss, _, _, _ = validate(model, val_loader, criterion, device)\n",
    "    gcn_val_loss_list.append(val_loss)  # Store validation loss\n",
    "\n",
    "    # Print and check for early stopping\n",
    "    print(f\"Epoch: {epoch+1}, train_loss: {train_loss:.4f}, val_loss: {val_loss:.4f}\")\n",
    "    early_stopping(val_loss, epoch)\n",
    "    if early_stopping.early_stop:\n",
    "        print(f\"Early stopping triggered at epoch {epoch+1}\")\n",
    "        break\n",
    "\n",
    "\n",
    "# Store the epoch number when early stopping was triggered\n",
    "num_epochs_early = early_stopping.stopped_epoch + 1\n",
    "\n"
   ]
  },
  {
   "cell_type": "code",
   "execution_count": null,
   "id": "a55f21a5",
   "metadata": {
    "execution": {
     "iopub.execute_input": "2024-01-12T08:24:00.151390Z",
     "iopub.status.busy": "2024-01-12T08:24:00.150902Z",
     "iopub.status.idle": "2024-01-12T08:24:00.438983Z",
     "shell.execute_reply": "2024-01-12T08:24:00.438083Z"
    },
    "papermill": {
     "duration": null,
     "end_time": null,
     "exception": null,
     "start_time": null,
     "status": "completed"
    },
    "tags": []
   },
   "outputs": [],
   "source": [
    "# Ensure that the length of gcn_train_loss_list and gcn_val_loss_list is equal to the number of epochs processed\n",
    "assert len(gcn_train_loss_list) == len(gcn_val_loss_list)\n",
    "\n",
    "# Plotting\n",
    "plt.figure(figsize=(10, 6))\n",
    "plt.plot(gcn_train_loss_list, label='Training Loss')\n",
    "plt.plot(gcn_val_loss_list, label='Validation Loss')\n",
    "plt.title('Training and Validation Loss Over Epochs')\n",
    "plt.xlabel('Epochs')\n",
    "plt.ylabel('Loss')\n",
    "plt.legend()\n",
    "plt.grid(True)\n",
    "plt.show()"
   ]
  },
  {
   "cell_type": "markdown",
   "id": "5c19992c",
   "metadata": {
    "papermill": {
     "duration": null,
     "end_time": null,
     "exception": null,
     "start_time": null,
     "status": "completed"
    },
    "tags": []
   },
   "source": [
    "## Train on merged train and val sets\n"
   ]
  },
  {
   "cell_type": "code",
   "execution_count": null,
   "id": "8def6a96",
   "metadata": {
    "execution": {
     "iopub.execute_input": "2024-01-12T08:24:00.605394Z",
     "iopub.status.busy": "2024-01-12T08:24:00.605084Z",
     "iopub.status.idle": "2024-01-12T08:24:00.611447Z",
     "shell.execute_reply": "2024-01-12T08:24:00.610546Z"
    },
    "papermill": {
     "duration": null,
     "end_time": null,
     "exception": null,
     "start_time": null,
     "status": "completed"
    },
    "tags": []
   },
   "outputs": [],
   "source": [
    "def train(model, data_loader, criterion, optimizer, device):\n",
    "    model.train()\n",
    "    total_loss = 0\n",
    "    for batch_graphs, batch_labels in data_loader:\n",
    "        batch_graphs = batch_graphs.to(device)\n",
    "        batch_labels = batch_labels.clone().detach().to(device)\n",
    "        batch_features = batch_graphs.ndata['h']\n",
    "\n",
    "        outputs = model(batch_graphs, batch_features)\n",
    "        outputs = outputs.squeeze() # remove extra dimension\n",
    "        loss = criterion(outputs, batch_labels)\n",
    "        optimizer.zero_grad()\n",
    "        loss.backward()\n",
    "        optimizer.step()\n",
    "        total_loss += loss.item()\n",
    "\n",
    "    return total_loss / len(data_loader)\n"
   ]
  },
  {
   "cell_type": "markdown",
   "id": "3891d5f0",
   "metadata": {
    "papermill": {
     "duration": null,
     "end_time": null,
     "exception": null,
     "start_time": null,
     "status": "completed"
    },
    "tags": []
   },
   "source": [
    "## Reset weights before training again with all data\n"
   ]
  },
  {
   "cell_type": "code",
   "execution_count": null,
   "id": "b870626e",
   "metadata": {
    "execution": {
     "iopub.execute_input": "2024-01-12T08:24:00.783504Z",
     "iopub.status.busy": "2024-01-12T08:24:00.783231Z",
     "iopub.status.idle": "2024-01-12T08:24:00.791412Z",
     "shell.execute_reply": "2024-01-12T08:24:00.790176Z"
    },
    "papermill": {
     "duration": null,
     "end_time": null,
     "exception": null,
     "start_time": null,
     "status": "completed"
    },
    "tags": []
   },
   "outputs": [],
   "source": [
    "def reset_weights(m):\n",
    "    \"\"\"\n",
    "    This function will reset the weights of a given module.\n",
    "    \"\"\"\n",
    "    if isinstance(m, nn.Conv2d) or isinstance(m, nn.Linear):\n",
    "        m.reset_parameters()\n",
    "\n",
    "# Example usage with your model\n",
    "model.apply(reset_weights)\n"
   ]
  },
  {
   "cell_type": "code",
   "execution_count": null,
   "id": "1451e68b",
   "metadata": {
    "execution": {
     "iopub.execute_input": "2024-01-12T08:24:00.874165Z",
     "iopub.status.busy": "2024-01-12T08:24:00.873853Z",
     "iopub.status.idle": "2024-01-12T08:42:13.914589Z",
     "shell.execute_reply": "2024-01-12T08:42:13.912624Z"
    },
    "papermill": {
     "duration": null,
     "end_time": null,
     "exception": null,
     "start_time": null,
     "status": "completed"
    },
    "tags": []
   },
   "outputs": [],
   "source": [
    "print(\"Final training on merged training and validation sets\")\n",
    "\n",
    "# Initialize list to store loss values\n",
    "final_train_losses = []\n",
    "\n",
    "for epoch in range(num_epochs_early):\n",
    "    # Training\n",
    "    train_loss = train(model, train_loader_all, criterion, optimizer, device)\n",
    "    final_train_losses.append(train_loss)  # Store train loss\n",
    "\n",
    "    # Print train loss\n",
    "    print(f\"Epoch {epoch+1}/{num_epochs_early}, Train Loss: {train_loss:.4f}\")\n"
   ]
  },
  {
   "cell_type": "code",
   "execution_count": null,
   "id": "98bcb839",
   "metadata": {
    "execution": {
     "iopub.execute_input": "2024-01-12T08:42:14.012396Z",
     "iopub.status.busy": "2024-01-12T08:42:14.012034Z",
     "iopub.status.idle": "2024-01-12T08:42:14.197404Z",
     "shell.execute_reply": "2024-01-12T08:42:14.195361Z"
    },
    "papermill": {
     "duration": null,
     "end_time": null,
     "exception": null,
     "start_time": null,
     "status": "completed"
    },
    "tags": []
   },
   "outputs": [],
   "source": [
    "# Plotting\n",
    "plt.figure(figsize=(10, 6))\n",
    "plt.plot(final_train_losses, label='Training Loss')\n",
    "plt.title('Training Loss Over Epochs on Merged Training and Validation Sets')\n",
    "plt.xlabel('Epochs')\n",
    "plt.ylabel('Loss')\n",
    "plt.legend()\n",
    "plt.grid(True)\n",
    "plt.show()\n"
   ]
  },
  {
   "cell_type": "markdown",
   "id": "5a98a21d",
   "metadata": {
    "papermill": {
     "duration": null,
     "end_time": null,
     "exception": null,
     "start_time": null,
     "status": "completed"
    },
    "tags": []
   },
   "source": [
    "## Save the model"
   ]
  },
  {
   "cell_type": "code",
   "execution_count": null,
   "id": "a59c1816",
   "metadata": {
    "execution": {
     "iopub.execute_input": "2024-01-12T08:42:14.391344Z",
     "iopub.status.busy": "2024-01-12T08:42:14.391041Z",
     "iopub.status.idle": "2024-01-12T08:42:14.530394Z",
     "shell.execute_reply": "2024-01-12T08:42:14.528409Z"
    },
    "papermill": {
     "duration": null,
     "end_time": null,
     "exception": null,
     "start_time": null,
     "status": "completed"
    },
    "tags": []
   },
   "outputs": [],
   "source": [
    "# if there is not a folder named 'model' create one\n",
    "if not os.path.exists('model_experiment'):\n",
    "    os.mkdir('model_experiment')\n",
    "\n",
    "# save the model\n",
    "torch.save(model.state_dict(), 'model_experiment/gcn_model_experiment.pth')"
   ]
  },
  {
   "cell_type": "code",
   "execution_count": null,
   "id": "8d6a4a14",
   "metadata": {
    "execution": {
     "iopub.execute_input": "2024-01-12T08:42:14.673722Z",
     "iopub.status.busy": "2024-01-12T08:42:14.673199Z",
     "iopub.status.idle": "2024-01-12T08:42:14.690660Z",
     "shell.execute_reply": "2024-01-12T08:42:14.688731Z"
    },
    "papermill": {
     "duration": null,
     "end_time": null,
     "exception": null,
     "start_time": null,
     "status": "completed"
    },
    "tags": []
   },
   "outputs": [],
   "source": [
    "# load the model\n",
    "model = GCNClassifier(in_feats, hidden_size=148).to(device)\n",
    "model.load_state_dict(torch.load('model_experiment/gcn_model_experiment.pth'))"
   ]
  },
  {
   "cell_type": "markdown",
   "id": "a0d9aad5",
   "metadata": {
    "papermill": {
     "duration": null,
     "end_time": null,
     "exception": null,
     "start_time": null,
     "status": "completed"
    },
    "tags": []
   },
   "source": [
    "## Test the model"
   ]
  },
  {
   "cell_type": "code",
   "execution_count": null,
   "id": "b14d36b1",
   "metadata": {
    "execution": {
     "iopub.execute_input": "2024-01-12T08:42:14.883377Z",
     "iopub.status.busy": "2024-01-12T08:42:14.882763Z",
     "iopub.status.idle": "2024-01-12T08:42:14.895152Z",
     "shell.execute_reply": "2024-01-12T08:42:14.893221Z"
    },
    "papermill": {
     "duration": null,
     "end_time": null,
     "exception": null,
     "start_time": null,
     "status": "completed"
    },
    "tags": []
   },
   "outputs": [],
   "source": [
    "def test(model, data_loader, device):\n",
    "    model.eval()\n",
    "    y_true = []\n",
    "    y_pred = []\n",
    "    y_pred_proba = []\n",
    "\n",
    "    with torch.no_grad():\n",
    "        for graphs, labels in data_loader:\n",
    "            graphs = graphs.to(device)\n",
    "            features = graphs.ndata['h'].to(device)\n",
    "            labels = labels.to(device)\n",
    "\n",
    "            outputs = model(graphs, features)\n",
    "            probabilities = torch.sigmoid(outputs).squeeze()  # Apply sigmoid to convert logits to probabilities\n",
    "\n",
    "            predicted = (probabilities > 0.5).long()  # Convert probabilities to binary predictions\n",
    "\n",
    "            y_true.extend(labels.cpu().numpy())\n",
    "            y_pred.extend(predicted.cpu().numpy())\n",
    "            y_pred_proba.extend(probabilities.cpu().numpy())\n",
    "\n",
    "    return y_true, y_pred, y_pred_proba\n"
   ]
  },
  {
   "cell_type": "markdown",
   "id": "24c6036f",
   "metadata": {
    "papermill": {
     "duration": null,
     "end_time": null,
     "exception": null,
     "start_time": null,
     "status": "completed"
    },
    "tags": []
   },
   "source": [
    "## Predict probabilities"
   ]
  },
  {
   "cell_type": "code",
   "execution_count": null,
   "id": "07687176",
   "metadata": {
    "execution": {
     "iopub.execute_input": "2024-01-12T08:42:15.322699Z",
     "iopub.status.busy": "2024-01-12T08:42:15.322058Z",
     "iopub.status.idle": "2024-01-12T08:42:18.109527Z",
     "shell.execute_reply": "2024-01-12T08:42:18.108226Z"
    },
    "papermill": {
     "duration": null,
     "end_time": null,
     "exception": null,
     "start_time": null,
     "status": "completed"
    },
    "tags": []
   },
   "outputs": [],
   "source": [
    "# Now you can use this DataLoader in your test function\n",
    "y_true, y_pred, y_pred_proba = test(model, test_loader, device)\n",
    "\n",
    "# Convert probabilities to percentages for the positive class\n",
    "# Assuming binary classification and class '1' is the positive class\n",
    "confidence_percentages = [prob * 100 for prob in y_pred_proba]\n",
    "\n",
    "# Now 'confidence_percentages' holds the confidence level for each prediction\n"
   ]
  },
  {
   "cell_type": "code",
   "execution_count": null,
   "id": "b431b8d9",
   "metadata": {
    "execution": {
     "iopub.execute_input": "2024-01-12T08:42:18.229764Z",
     "iopub.status.busy": "2024-01-12T08:42:18.229459Z",
     "iopub.status.idle": "2024-01-12T08:42:18.234980Z",
     "shell.execute_reply": "2024-01-12T08:42:18.234114Z"
    },
    "papermill": {
     "duration": null,
     "end_time": null,
     "exception": null,
     "start_time": null,
     "status": "completed"
    },
    "tags": []
   },
   "outputs": [],
   "source": [
    "# Extract the second element (index 1) from each 1D array in y_pred_proba\n",
    "# y_pred_proba = [prob[1] for prob in y_pred_proba]\n",
    "# Now y_pred_proba is a list of probabilities for the positive class\n",
    "# Convert it to a NumPy array\n",
    "y_pred_proba = np.array(y_pred_proba)\n"
   ]
  },
  {
   "cell_type": "markdown",
   "id": "30f9dedf",
   "metadata": {
    "papermill": {
     "duration": null,
     "end_time": null,
     "exception": null,
     "start_time": null,
     "status": "completed"
    },
    "tags": []
   },
   "source": [
    "## Results"
   ]
  },
  {
   "cell_type": "code",
   "execution_count": null,
   "id": "e9a213aa",
   "metadata": {
    "execution": {
     "iopub.execute_input": "2024-01-12T08:42:18.443577Z",
     "iopub.status.busy": "2024-01-12T08:42:18.443279Z",
     "iopub.status.idle": "2024-01-12T08:42:18.508212Z",
     "shell.execute_reply": "2024-01-12T08:42:18.507154Z"
    },
    "papermill": {
     "duration": null,
     "end_time": null,
     "exception": null,
     "start_time": null,
     "status": "completed"
    },
    "tags": []
   },
   "outputs": [],
   "source": [
    "print(f'Accuracy: {accuracy_score(y_true, y_pred)}')\n",
    "print(f'Precision: {precision_score(y_true, y_pred)}')\n",
    "print(f'Recall: {recall_score(y_true, y_pred)}')\n",
    "print(f'F1: {f1_score(y_true, y_pred)}')\n",
    "print(f'AUC: {roc_auc_score(y_true, y_pred_proba)}')\n"
   ]
  },
  {
   "cell_type": "code",
   "execution_count": null,
   "id": "2ddd3ef4",
   "metadata": {
    "execution": {
     "iopub.execute_input": "2024-01-12T08:42:18.785017Z",
     "iopub.status.busy": "2024-01-12T08:42:18.784099Z",
     "iopub.status.idle": "2024-01-12T08:42:18.792165Z",
     "shell.execute_reply": "2024-01-12T08:42:18.790348Z"
    },
    "papermill": {
     "duration": null,
     "end_time": null,
     "exception": null,
     "start_time": null,
     "status": "completed"
    },
    "tags": []
   },
   "outputs": [],
   "source": [
    "# Accuracy: 0.7896446700507614\n",
    "# Precision: 0.8110537951363301\n",
    "# Recall: 0.7508527766407422\n",
    "# F1: 0.7797931132209155\n",
    "# AUC: 0.8738676601333576"
   ]
  },
  {
   "cell_type": "markdown",
   "id": "84fa5244",
   "metadata": {
    "papermill": {
     "duration": null,
     "end_time": null,
     "exception": null,
     "start_time": null,
     "status": "completed"
    },
    "tags": []
   },
   "source": [
    "## Confusion matrix"
   ]
  },
  {
   "cell_type": "code",
   "execution_count": null,
   "id": "868ffaa3",
   "metadata": {
    "execution": {
     "iopub.execute_input": "2024-01-12T08:42:18.980471Z",
     "iopub.status.busy": "2024-01-12T08:42:18.979756Z",
     "iopub.status.idle": "2024-01-12T08:42:18.987363Z",
     "shell.execute_reply": "2024-01-12T08:42:18.985594Z"
    },
    "papermill": {
     "duration": null,
     "end_time": null,
     "exception": null,
     "start_time": null,
     "status": "completed"
    },
    "tags": []
   },
   "outputs": [],
   "source": [
    "# create folder 'visuals' if it does not exist\n",
    "if not os.path.exists('visuals'):\n",
    "    os.mkdir('visuals')\n",
    "    "
   ]
  },
  {
   "cell_type": "code",
   "execution_count": null,
   "id": "dca217e9",
   "metadata": {
    "execution": {
     "iopub.execute_input": "2024-01-12T08:42:19.246000Z",
     "iopub.status.busy": "2024-01-12T08:42:19.245390Z",
     "iopub.status.idle": "2024-01-12T08:42:19.873181Z",
     "shell.execute_reply": "2024-01-12T08:42:19.871270Z"
    },
    "papermill": {
     "duration": null,
     "end_time": null,
     "exception": null,
     "start_time": null,
     "status": "completed"
    },
    "tags": []
   },
   "outputs": [],
   "source": [
    "# confusion matrix\n",
    "cm = confusion_matrix(y_true, y_pred)\n",
    "cm_df = pd.DataFrame(cm, index=['RNA binder', 'non-RNA binder'], columns=['RNA binder', 'non-RNA binder'])\n",
    "sns.heatmap(cm_df, annot=True, cmap='Blues', fmt='g')\n",
    "sns.set(context='paper', style='white', font_scale=1.5)\n",
    "plt.title('Confusion Matrix')\n",
    "plt.ylabel('True Label')\n",
    "plt.xlabel('Predicted Label')\n",
    "plt.savefig('visuals/confusion_matrix_gcn_experiment.png', dpi=300)\n",
    "plt.show()\n",
    "\n"
   ]
  },
  {
   "cell_type": "markdown",
   "id": "9407ede2",
   "metadata": {
    "papermill": {
     "duration": null,
     "end_time": null,
     "exception": null,
     "start_time": null,
     "status": "completed"
    },
    "tags": []
   },
   "source": [
    "## Classification report"
   ]
  },
  {
   "cell_type": "code",
   "execution_count": null,
   "id": "c7557e88",
   "metadata": {
    "execution": {
     "iopub.execute_input": "2024-01-12T08:42:20.069542Z",
     "iopub.status.busy": "2024-01-12T08:42:20.069228Z",
     "iopub.status.idle": "2024-01-12T08:42:20.112190Z",
     "shell.execute_reply": "2024-01-12T08:42:20.110396Z"
    },
    "papermill": {
     "duration": null,
     "end_time": null,
     "exception": null,
     "start_time": null,
     "status": "completed"
    },
    "tags": []
   },
   "outputs": [],
   "source": [
    "# classification report\n",
    "print(classification_report(y_true, y_pred))\n"
   ]
  },
  {
   "cell_type": "markdown",
   "id": "fb0f56bc",
   "metadata": {
    "papermill": {
     "duration": null,
     "end_time": null,
     "exception": null,
     "start_time": null,
     "status": "completed"
    },
    "tags": []
   },
   "source": [
    "## ROC AUC"
   ]
  },
  {
   "cell_type": "code",
   "execution_count": null,
   "id": "97e3f861",
   "metadata": {
    "execution": {
     "iopub.execute_input": "2024-01-12T08:42:20.434709Z",
     "iopub.status.busy": "2024-01-12T08:42:20.434412Z",
     "iopub.status.idle": "2024-01-12T08:42:20.945380Z",
     "shell.execute_reply": "2024-01-12T08:42:20.943527Z"
    },
    "papermill": {
     "duration": null,
     "end_time": null,
     "exception": null,
     "start_time": null,
     "status": "completed"
    },
    "tags": []
   },
   "outputs": [],
   "source": [
    "# visualize ROC curve\n",
    "fpr, tpr, thresholds = roc_curve(y_true, y_pred_proba)\n",
    "roc_auc = auc(fpr, tpr)\n",
    "\n",
    "plt.figure(figsize=(8, 6))\n",
    "plt.plot(fpr, tpr, color='darkorange', lw=2, label='ROC curve (area = %0.2f)'% roc_auc)\n",
    "plt.plot([0, 1], [0, 1], color='navy', lw=2, linestyle='--')\n",
    "plt.title('ROC curve')\n",
    "plt.xlabel('False Positive Rate')\n",
    "plt.ylabel('True Positive Rate')\n",
    "plt.legend(loc='lower right')\n",
    "plt.savefig('visuals/roc_curve_gcn_experiment.png', dpi=300)\n",
    "plt.show()\n"
   ]
  },
  {
   "cell_type": "code",
   "execution_count": null,
   "id": "5ed2775c",
   "metadata": {
    "execution": {
     "iopub.execute_input": "2024-01-12T08:42:21.060665Z",
     "iopub.status.busy": "2024-01-12T08:42:21.060362Z",
     "iopub.status.idle": "2024-01-12T08:42:21.690486Z",
     "shell.execute_reply": "2024-01-12T08:42:21.688736Z"
    },
    "papermill": {
     "duration": null,
     "end_time": null,
     "exception": null,
     "start_time": null,
     "status": "completed"
    },
    "tags": []
   },
   "outputs": [],
   "source": [
    "# visualize confidence_percentages in plot\n",
    "plt.figure(figsize=(8, 6))\n",
    "plt.hist(confidence_percentages, bins=50)\n",
    "plt.title('Confidence Histogram')\n",
    "plt.xlabel('Confidence Percentage')\n",
    "plt.ylabel('Frequency')\n",
    "plt.savefig('visuals/confidence_histogram_gcn_experiment.png', dpi=300)\n",
    "plt.show()\n"
   ]
  },
  {
   "cell_type": "code",
   "execution_count": null,
   "id": "57404b8e",
   "metadata": {
    "execution": {
     "iopub.execute_input": "2024-01-12T08:42:21.792380Z",
     "iopub.status.busy": "2024-01-12T08:42:21.792028Z",
     "iopub.status.idle": "2024-01-12T08:42:21.832119Z",
     "shell.execute_reply": "2024-01-12T08:42:21.830349Z"
    },
    "papermill": {
     "duration": null,
     "end_time": null,
     "exception": null,
     "start_time": null,
     "status": "completed"
    },
    "tags": []
   },
   "outputs": [],
   "source": [
    "# Sort test predictions by confidence and get top 10 indices\n",
    "sorted_pairs = sorted(enumerate(confidence_percentages), key=lambda x: x[1], reverse=True)\n",
    "top_molecules_test_indices = [index for index, _ in sorted_pairs[:20]]\n",
    "\n",
    "# The indices in test_graphs correspond to their positions in the original loaded_graphs_orig\n",
    "# Find the original indices in loaded_graphs_orig\n",
    "original_indices = [loaded_graphs_orig.index(test_graphs[i]) for i in top_molecules_test_indices]\n",
    "\n",
    "# Use the original indices to look up the corresponding rows in reconstructed_df\n",
    "top_molecule_row_indices = reconstructed_df.index[original_indices]\n",
    "\n",
    "# Now, top_molecule_row_indices contains the DataFrame indices of the top 10 RNA-binding molecules\n"
   ]
  },
  {
   "cell_type": "code",
   "execution_count": null,
   "id": "ab07bf04",
   "metadata": {
    "execution": {
     "iopub.execute_input": "2024-01-12T08:42:21.944177Z",
     "iopub.status.busy": "2024-01-12T08:42:21.943850Z",
     "iopub.status.idle": "2024-01-12T08:42:21.953416Z",
     "shell.execute_reply": "2024-01-12T08:42:21.951779Z"
    },
    "papermill": {
     "duration": null,
     "end_time": null,
     "exception": null,
     "start_time": null,
     "status": "completed"
    },
    "tags": []
   },
   "outputs": [],
   "source": [
    "top_molecule_row_indices"
   ]
  },
  {
   "cell_type": "code",
   "execution_count": null,
   "id": "1c3b72b1",
   "metadata": {
    "execution": {
     "iopub.execute_input": "2024-01-12T08:42:22.185925Z",
     "iopub.status.busy": "2024-01-12T08:42:22.185634Z",
     "iopub.status.idle": "2024-01-12T08:42:22.191905Z",
     "shell.execute_reply": "2024-01-12T08:42:22.190534Z"
    },
    "papermill": {
     "duration": null,
     "end_time": null,
     "exception": null,
     "start_time": null,
     "status": "completed"
    },
    "tags": []
   },
   "outputs": [],
   "source": [
    "# create folder 'top_molecules' if it does not exist\n",
    "if not os.path.exists('top_molecules_gcn_experiment'):\n",
    "    os.mkdir('top_molecules_gcn_experiment')\n",
    "    "
   ]
  },
  {
   "cell_type": "code",
   "execution_count": null,
   "id": "cba8e0eb",
   "metadata": {
    "execution": {
     "iopub.execute_input": "2024-01-12T08:42:22.291084Z",
     "iopub.status.busy": "2024-01-12T08:42:22.290790Z",
     "iopub.status.idle": "2024-01-12T08:42:29.139715Z",
     "shell.execute_reply": "2024-01-12T08:42:29.138254Z"
    },
    "papermill": {
     "duration": null,
     "end_time": null,
     "exception": null,
     "start_time": null,
     "status": "completed"
    },
    "tags": []
   },
   "outputs": [],
   "source": [
    "# Retrieve the SMILES codes and source information for the top 10 molecules\n",
    "top_smiles = df_small.iloc[top_molecule_row_indices]['SMILES'].tolist()\n",
    "top_sources = df_small.iloc[top_molecule_row_indices]['source'].tolist()\n",
    "\n",
    "# Retrieve the confidence scores using the indices relative to the test dataset\n",
    "top_confidences = [confidence_percentages[i] for i in top_molecules_test_indices]\n",
    "\n",
    "# Convert SMILES to RDKit Mol objects\n",
    "mols = [Chem.MolFromSmiles(smile) for smile in top_smiles]\n",
    "\n",
    "# Generate and save images for each molecule\n",
    "for i, mol in enumerate(mols):\n",
    "    img = Draw.MolToImage(mol, size=(500, 500))\n",
    "    plt.figure(figsize=(5, 5))\n",
    "    plt.imshow(img)\n",
    "    # title = f\"SMILES: {top_smiles[i]}\\nSource: {top_sources[i]}\\nConfidence: {top_confidences[i]:.2f}%\"\n",
    "    # plt.title(title)\n",
    "    plt.subplots_adjust(bottom=0.20)  # Adjust the position of the title\n",
    "    plt.axis('off')\n",
    "    \n",
    "    # Save the image to the 'top_molecules' folder using the rank and source as the filename\n",
    "    plt.savefig(f\"top_molecules_gcn_experiment/molecule_{i+1}_{top_sources[i]}_a.png\", dpi=300)\n",
    "    plt.show()\n"
   ]
  },
  {
   "cell_type": "code",
   "execution_count": null,
   "id": "a8d6fa1c",
   "metadata": {
    "execution": {
     "iopub.execute_input": "2024-01-12T08:42:29.292466Z",
     "iopub.status.busy": "2024-01-12T08:42:29.292092Z",
     "iopub.status.idle": "2024-01-12T08:42:36.890371Z",
     "shell.execute_reply": "2024-01-12T08:42:36.888883Z"
    },
    "papermill": {
     "duration": null,
     "end_time": null,
     "exception": null,
     "start_time": null,
     "status": "completed"
    },
    "tags": []
   },
   "outputs": [],
   "source": [
    "# Define the figure size and font size for titles\n",
    "fig_size = (6, 6)\n",
    "title_font_size = 12\n",
    "\n",
    "# Generate and save images for each molecule\n",
    "for i, mol in enumerate(mols):\n",
    "    img = Draw.MolToImage(mol, size=(300, 300))\n",
    "    \n",
    "    # Create a figure with adjusted size\n",
    "    plt.figure(figsize=fig_size)\n",
    "    plt.imshow(img)\n",
    "    \n",
    "    # Adjust the position of the text within the image\n",
    "    title = f\"SMILES: {top_smiles[i]}\\nSource: {top_sources[i]}\\nConfidence: {top_confidences[i]:.2f}%\"\n",
    "    plt.title(title, fontsize=title_font_size)\n",
    "    plt.subplots_adjust(bottom=0.15)  # Adjust the position of the title\n",
    "    \n",
    "    plt.axis('off')\n",
    "    \n",
    "    # Save the image to the 'top_molecules' folder using the rank and source as the filename\n",
    "    plt.savefig(f\"top_molecules_gcn_experiment/molecule_{i+1}_{top_sources[i]}_b.png\", dpi=300)\n",
    "    # plt.show()\n"
   ]
  },
  {
   "cell_type": "markdown",
   "id": "57c5eaec",
   "metadata": {
    "papermill": {
     "duration": null,
     "end_time": null,
     "exception": null,
     "start_time": null,
     "status": "completed"
    },
    "tags": []
   },
   "source": [
    "# Message Passing Neural Network (MPNN)"
   ]
  },
  {
   "cell_type": "code",
   "execution_count": null,
   "id": "ddde2ebd",
   "metadata": {
    "execution": {
     "iopub.execute_input": "2024-01-12T08:42:37.341349Z",
     "iopub.status.busy": "2024-01-12T08:42:37.340990Z",
     "iopub.status.idle": "2024-01-12T08:42:37.349886Z",
     "shell.execute_reply": "2024-01-12T08:42:37.348687Z"
    },
    "papermill": {
     "duration": null,
     "end_time": null,
     "exception": null,
     "start_time": null,
     "status": "completed"
    },
    "tags": []
   },
   "outputs": [],
   "source": [
    "class MPNNClassifier(nn.Module):\n",
    "    def __init__(self, in_feats, hidden_size, out_feats):\n",
    "        super(MPNNClassifier, self).__init__()\n",
    "        self.edge_conv = dglnn.EdgeConv(in_feats, hidden_size)\n",
    "        self.reduce_function = dgl.function.mean('m', 'h')\n",
    "        self.fc = nn.Linear(74, out_feats)\n",
    "\n",
    "    def forward(self, g, features):\n",
    "        # Custom message function\n",
    "        def message_function(edges):\n",
    "            return {'m': edges.src['h'] + edges.dst['h']}\n",
    "\n",
    "        # Message passing\n",
    "        g.ndata['h'] = features\n",
    "        g.apply_edges(message_function)\n",
    "        g.update_all(dgl.function.copy_e('m', 'm'), self.reduce_function)\n",
    "        \n",
    "        x = dgl.mean_nodes(g, 'h')\n",
    "        return self.fc(x)\n"
   ]
  },
  {
   "cell_type": "markdown",
   "id": "869b1305",
   "metadata": {
    "papermill": {
     "duration": null,
     "end_time": null,
     "exception": null,
     "start_time": null,
     "status": "completed"
    },
    "tags": []
   },
   "source": [
    "## Instance of the the MPNN Model"
   ]
  },
  {
   "cell_type": "code",
   "execution_count": null,
   "id": "33490dca",
   "metadata": {
    "execution": {
     "iopub.execute_input": "2024-01-12T08:42:37.766415Z",
     "iopub.status.busy": "2024-01-12T08:42:37.766073Z",
     "iopub.status.idle": "2024-01-12T08:42:37.775959Z",
     "shell.execute_reply": "2024-01-12T08:42:37.774556Z"
    },
    "papermill": {
     "duration": null,
     "end_time": null,
     "exception": null,
     "start_time": null,
     "status": "completed"
    },
    "tags": []
   },
   "outputs": [],
   "source": [
    "# Instantiate the model\n",
    "in_feats = train_graphs[0].ndata['h'].shape[1]  # Replace with your feature size\n",
    "model = MPNNClassifier(in_feats, hidden_size=74, out_feats=1).to(device)\n",
    "\n",
    "# Loss and optimizer\n",
    "criterion = nn.BCEWithLogitsLoss()  # Use this loss for binary classification with a sigmoid activation\n",
    "optimizer = torch.optim.Adam(model.parameters(), lr=0.0001)\n"
   ]
  },
  {
   "cell_type": "markdown",
   "id": "aed670be",
   "metadata": {
    "papermill": {
     "duration": null,
     "end_time": null,
     "exception": null,
     "start_time": null,
     "status": "completed"
    },
    "tags": []
   },
   "source": [
    "## Train the MPNN model"
   ]
  },
  {
   "cell_type": "code",
   "execution_count": null,
   "id": "a723d6c8",
   "metadata": {
    "execution": {
     "iopub.execute_input": "2024-01-12T08:42:38.653819Z",
     "iopub.status.busy": "2024-01-12T08:42:38.651978Z",
     "iopub.status.idle": "2024-01-12T16:02:09.407367Z",
     "shell.execute_reply": "2024-01-12T16:02:09.404731Z"
    },
    "papermill": {
     "duration": null,
     "end_time": null,
     "exception": null,
     "start_time": null,
     "status": "completed"
    },
    "tags": []
   },
   "outputs": [],
   "source": [
    "num_epochs = 500\n",
    "early_stopping = EarlyStopping(patience=25, min_delta=0.002)\n",
    "\n",
    "# Initialize lists to store loss values\n",
    "mpnn_train_loss_list = []\n",
    "mpnn_val_loss_list = []\n",
    "\n",
    "for epoch in range(num_epochs):\n",
    "    # Training\n",
    "    train_loss = train(model, train_loader, criterion, optimizer, device)\n",
    "    mpnn_train_loss_list.append(train_loss)  # Store train loss\n",
    "\n",
    "    # Validation\n",
    "    val_loss, _, _, _ = validate(model, val_loader, criterion, device)\n",
    "    mpnn_val_loss_list.append(val_loss)  # Store validation loss\n",
    "\n",
    "    # Print and check for early stopping\n",
    "    print(f\"Epoch: {epoch+1}, train_loss: {train_loss:.4f}, val_loss: {val_loss:.4f}\")\n",
    "    early_stopping(val_loss, epoch)\n",
    "    if early_stopping.early_stop:\n",
    "        print(f\"Early stopping triggered at epoch {epoch+1}\")\n",
    "        break\n",
    "    \n",
    "# Store the epoch number when early stopping was triggered\n",
    "num_epochs_early = early_stopping.stopped_epoch + 1\n",
    "\n"
   ]
  },
  {
   "cell_type": "code",
   "execution_count": null,
   "id": "36439a54",
   "metadata": {
    "execution": {
     "iopub.execute_input": "2024-01-12T16:02:09.975930Z",
     "iopub.status.busy": "2024-01-12T16:02:09.975247Z",
     "iopub.status.idle": "2024-01-12T16:02:10.251901Z",
     "shell.execute_reply": "2024-01-12T16:02:10.250218Z"
    },
    "papermill": {
     "duration": null,
     "end_time": null,
     "exception": null,
     "start_time": null,
     "status": "completed"
    },
    "tags": []
   },
   "outputs": [],
   "source": [
    "# Ensure that the length of mpnn_train_loss_list and mpnn_val_loss_list is equal to the number of epochs processed\n",
    "assert len(mpnn_train_loss_list) == len(mpnn_val_loss_list)\n",
    "\n",
    "# Plotting\n",
    "plt.figure(figsize=(10, 6))\n",
    "plt.plot(mpnn_train_loss_list, label='Training Loss')\n",
    "plt.plot(mpnn_val_loss_list, label='Validation Loss')\n",
    "plt.title('Training and Validation Loss Over Epochs')\n",
    "plt.xlabel('Epochs')\n",
    "plt.ylabel('Loss')\n",
    "plt.legend()\n",
    "plt.grid(True)\n",
    "plt.show()"
   ]
  },
  {
   "cell_type": "markdown",
   "id": "9a2aa5ce",
   "metadata": {
    "papermill": {
     "duration": null,
     "end_time": null,
     "exception": null,
     "start_time": null,
     "status": "completed"
    },
    "tags": []
   },
   "source": [
    "## Train on merged train and val sets\n"
   ]
  },
  {
   "cell_type": "code",
   "execution_count": null,
   "id": "666e8f08",
   "metadata": {
    "execution": {
     "iopub.execute_input": "2024-01-12T16:02:10.750163Z",
     "iopub.status.busy": "2024-01-12T16:02:10.749795Z",
     "iopub.status.idle": "2024-01-12T16:02:10.758476Z",
     "shell.execute_reply": "2024-01-12T16:02:10.756870Z"
    },
    "papermill": {
     "duration": null,
     "end_time": null,
     "exception": null,
     "start_time": null,
     "status": "completed"
    },
    "tags": []
   },
   "outputs": [],
   "source": [
    "def train(model, data_loader, criterion, optimizer, device):\n",
    "    model.train()\n",
    "    total_loss = 0\n",
    "    for batch_graphs, batch_labels in data_loader:\n",
    "        batch_graphs = batch_graphs.to(device)\n",
    "        batch_labels = batch_labels.clone().detach().to(device)\n",
    "        batch_features = batch_graphs.ndata['h']\n",
    "\n",
    "        outputs = model(batch_graphs, batch_features)\n",
    "        outputs = outputs.squeeze() # remove extra dimension\n",
    "        loss = criterion(outputs, batch_labels)\n",
    "        optimizer.zero_grad()\n",
    "        loss.backward()\n",
    "        optimizer.step()\n",
    "        total_loss += loss.item()\n",
    "\n",
    "    return total_loss / len(data_loader)"
   ]
  },
  {
   "cell_type": "markdown",
   "id": "b1476a42",
   "metadata": {
    "papermill": {
     "duration": null,
     "end_time": null,
     "exception": null,
     "start_time": null,
     "status": "completed"
    },
    "tags": []
   },
   "source": [
    "## Reset weights before training again with all data\n"
   ]
  },
  {
   "cell_type": "code",
   "execution_count": null,
   "id": "7dbc0e30",
   "metadata": {
    "execution": {
     "iopub.execute_input": "2024-01-12T16:02:12.063703Z",
     "iopub.status.busy": "2024-01-12T16:02:12.063123Z",
     "iopub.status.idle": "2024-01-12T16:02:12.077309Z",
     "shell.execute_reply": "2024-01-12T16:02:12.075507Z"
    },
    "papermill": {
     "duration": null,
     "end_time": null,
     "exception": null,
     "start_time": null,
     "status": "completed"
    },
    "tags": []
   },
   "outputs": [],
   "source": [
    "def reset_weights(m):\n",
    "    \"\"\"\n",
    "    This function will reset the weights of a given module.\n",
    "    \"\"\"\n",
    "    if isinstance(m, nn.Conv2d) or isinstance(m, nn.Linear):\n",
    "        m.reset_parameters()\n",
    "\n",
    "# Example usage with your model\n",
    "model.apply(reset_weights)"
   ]
  },
  {
   "cell_type": "code",
   "execution_count": null,
   "id": "a95a1ee2",
   "metadata": {
    "execution": {
     "iopub.execute_input": "2024-01-12T16:02:12.840691Z",
     "iopub.status.busy": "2024-01-12T16:02:12.840082Z",
     "iopub.status.idle": "2024-01-12T16:17:57.931616Z",
     "shell.execute_reply": "2024-01-12T16:17:57.929595Z"
    },
    "papermill": {
     "duration": null,
     "end_time": null,
     "exception": null,
     "start_time": null,
     "status": "completed"
    },
    "tags": []
   },
   "outputs": [],
   "source": [
    "print(\"Final training on merged training and validation sets\")\n",
    "\n",
    "# Initialize list to store loss values\n",
    "final_train_losses = []\n",
    "\n",
    "for epoch in range(num_epochs_early):\n",
    "    # Training\n",
    "    train_loss = train(model, train_loader_all, criterion, optimizer, device)\n",
    "    final_train_losses.append(train_loss)  # Store train loss\n",
    "\n",
    "    # Print train loss\n",
    "    print(f\"Epoch {epoch+1}/{num_epochs_early}, Train Loss: {train_loss:.4f}\")\n"
   ]
  },
  {
   "cell_type": "code",
   "execution_count": null,
   "id": "a3b7a1d7",
   "metadata": {
    "execution": {
     "iopub.execute_input": "2024-01-12T16:17:58.158612Z",
     "iopub.status.busy": "2024-01-12T16:17:58.158079Z",
     "iopub.status.idle": "2024-01-12T16:17:58.438696Z",
     "shell.execute_reply": "2024-01-12T16:17:58.437031Z"
    },
    "papermill": {
     "duration": null,
     "end_time": null,
     "exception": null,
     "start_time": null,
     "status": "completed"
    },
    "tags": []
   },
   "outputs": [],
   "source": [
    "# Plotting\n",
    "plt.figure(figsize=(10, 6))\n",
    "plt.plot(final_train_losses, label='Training Loss')\n",
    "plt.title('Training Loss Over Epochs on Merged Training and Validation Sets')\n",
    "plt.xlabel('Epochs')\n",
    "plt.ylabel('Loss')\n",
    "plt.legend()\n",
    "plt.grid(True)\n",
    "plt.show()\n"
   ]
  },
  {
   "cell_type": "markdown",
   "id": "6ba1fe6a",
   "metadata": {
    "papermill": {
     "duration": null,
     "end_time": null,
     "exception": null,
     "start_time": null,
     "status": "completed"
    },
    "tags": []
   },
   "source": [
    "## Save the model"
   ]
  },
  {
   "cell_type": "code",
   "execution_count": null,
   "id": "3f10a146",
   "metadata": {
    "execution": {
     "iopub.execute_input": "2024-01-12T16:17:59.208567Z",
     "iopub.status.busy": "2024-01-12T16:17:59.208215Z",
     "iopub.status.idle": "2024-01-12T16:17:59.216612Z",
     "shell.execute_reply": "2024-01-12T16:17:59.214784Z"
    },
    "papermill": {
     "duration": null,
     "end_time": null,
     "exception": null,
     "start_time": null,
     "status": "completed"
    },
    "tags": []
   },
   "outputs": [],
   "source": [
    "# if there is not a folder named 'model' create one\n",
    "if not os.path.exists('model_experiment'):\n",
    "    os.mkdir('model_experiment')\n",
    "\n",
    "# save the model\n",
    "torch.save(model.state_dict(), 'model_experiment/mpnn_model_experiment.pth')"
   ]
  },
  {
   "cell_type": "code",
   "execution_count": null,
   "id": "7eb4375b",
   "metadata": {
    "execution": {
     "iopub.execute_input": "2024-01-12T16:17:59.511189Z",
     "iopub.status.busy": "2024-01-12T16:17:59.510854Z",
     "iopub.status.idle": "2024-01-12T16:17:59.526175Z",
     "shell.execute_reply": "2024-01-12T16:17:59.524655Z"
    },
    "papermill": {
     "duration": null,
     "end_time": null,
     "exception": null,
     "start_time": null,
     "status": "completed"
    },
    "tags": []
   },
   "outputs": [],
   "source": [
    "# Define the number of output features for binary classification\n",
    "out_feats = 1\n",
    "\n",
    "# Instantiate the model\n",
    "hidden_size = 74 \n",
    "model = MPNNClassifier(in_feats, hidden_size, out_feats).to(device)\n",
    "\n",
    "# Load the model state\n",
    "model.load_state_dict(torch.load('model_experiment/mpnn_model_experiment.pth'))\n"
   ]
  },
  {
   "cell_type": "markdown",
   "id": "bb3d72e7",
   "metadata": {
    "papermill": {
     "duration": null,
     "end_time": null,
     "exception": null,
     "start_time": null,
     "status": "completed"
    },
    "tags": []
   },
   "source": [
    "## Test the model"
   ]
  },
  {
   "cell_type": "markdown",
   "id": "a6a0e287",
   "metadata": {
    "papermill": {
     "duration": null,
     "end_time": null,
     "exception": null,
     "start_time": null,
     "status": "completed"
    },
    "tags": []
   },
   "source": [
    "## Predict probabilities"
   ]
  },
  {
   "cell_type": "code",
   "execution_count": null,
   "id": "2729f1ac",
   "metadata": {
    "execution": {
     "iopub.execute_input": "2024-01-12T16:18:00.609002Z",
     "iopub.status.busy": "2024-01-12T16:18:00.608685Z",
     "iopub.status.idle": "2024-01-12T16:18:03.119293Z",
     "shell.execute_reply": "2024-01-12T16:18:03.116951Z"
    },
    "papermill": {
     "duration": null,
     "end_time": null,
     "exception": null,
     "start_time": null,
     "status": "completed"
    },
    "tags": []
   },
   "outputs": [],
   "source": [
    "y_true, y_pred, y_pred_proba = test(model, test_loader, device)\n",
    "\n",
    "confidence_percentages = [prob * 100 for prob in y_pred_proba]\n",
    "\n",
    "y_pred_proba = np.array(y_pred_proba)"
   ]
  },
  {
   "cell_type": "markdown",
   "id": "dfa3c803",
   "metadata": {
    "papermill": {
     "duration": null,
     "end_time": null,
     "exception": null,
     "start_time": null,
     "status": "completed"
    },
    "tags": []
   },
   "source": [
    "## Results"
   ]
  },
  {
   "cell_type": "code",
   "execution_count": null,
   "id": "81c1e83d",
   "metadata": {
    "execution": {
     "iopub.execute_input": "2024-01-12T16:18:03.586668Z",
     "iopub.status.busy": "2024-01-12T16:18:03.586310Z",
     "iopub.status.idle": "2024-01-12T16:18:03.689207Z",
     "shell.execute_reply": "2024-01-12T16:18:03.687007Z"
    },
    "papermill": {
     "duration": null,
     "end_time": null,
     "exception": null,
     "start_time": null,
     "status": "completed"
    },
    "tags": []
   },
   "outputs": [],
   "source": [
    "print(f'Accuracy: {accuracy_score(y_true, y_pred)}')\n",
    "print(f'Precision: {precision_score(y_true, y_pred)}')\n",
    "print(f'Recall: {recall_score(y_true, y_pred)}')\n",
    "print(f'F1: {f1_score(y_true, y_pred)}')\n",
    "print(f'AUC: {roc_auc_score(y_true, y_pred_proba)}')"
   ]
  },
  {
   "cell_type": "code",
   "execution_count": null,
   "id": "da80f9e0",
   "metadata": {
    "execution": {
     "iopub.execute_input": "2024-01-12T16:18:03.903292Z",
     "iopub.status.busy": "2024-01-12T16:18:03.902999Z",
     "iopub.status.idle": "2024-01-12T16:18:03.945348Z",
     "shell.execute_reply": "2024-01-12T16:18:03.943648Z"
    },
    "papermill": {
     "duration": null,
     "end_time": null,
     "exception": null,
     "start_time": null,
     "status": "completed"
    },
    "tags": []
   },
   "outputs": [],
   "source": [
    "# Accuracy: 0.6711336717428088\n",
    "# Precision: 0.6515337423312884\n",
    "# Recall: 0.7245190339746214\n",
    "# F1: 0.6860908327411331\n",
    "# AUC: 0.7276068962734443"
   ]
  },
  {
   "cell_type": "markdown",
   "id": "56866f5d",
   "metadata": {
    "papermill": {
     "duration": null,
     "end_time": null,
     "exception": null,
     "start_time": null,
     "status": "completed"
    },
    "tags": []
   },
   "source": [
    "## Confusion matrix"
   ]
  },
  {
   "cell_type": "code",
   "execution_count": null,
   "id": "1dbdb512",
   "metadata": {
    "execution": {
     "iopub.execute_input": "2024-01-12T16:18:04.870787Z",
     "iopub.status.busy": "2024-01-12T16:18:04.870270Z",
     "iopub.status.idle": "2024-01-12T16:18:05.313649Z",
     "shell.execute_reply": "2024-01-12T16:18:05.311700Z"
    },
    "papermill": {
     "duration": null,
     "end_time": null,
     "exception": null,
     "start_time": null,
     "status": "completed"
    },
    "tags": []
   },
   "outputs": [],
   "source": [
    "# confusion matrix\n",
    "cm = confusion_matrix(y_true, y_pred)\n",
    "cm_df = pd.DataFrame(cm, index=['RNA binder', 'non-RNA binder'], columns=['RNA binder', 'non-RNA binder'])\n",
    "sns.heatmap(cm_df, annot=True, cmap='Blues', fmt='g')\n",
    "sns.set(context='paper', style='white', font_scale=1.5)\n",
    "plt.title('Confusion Matrix')\n",
    "plt.ylabel('True Label')\n",
    "plt.xlabel('Predicted Label')\n",
    "plt.savefig('visuals/confusion_matrix_mpnn_experiment.png', dpi=300)\n",
    "plt.show()\n",
    "\n"
   ]
  },
  {
   "cell_type": "markdown",
   "id": "eb19c5c0",
   "metadata": {
    "papermill": {
     "duration": null,
     "end_time": null,
     "exception": null,
     "start_time": null,
     "status": "completed"
    },
    "tags": []
   },
   "source": [
    "## Classification report"
   ]
  },
  {
   "cell_type": "code",
   "execution_count": null,
   "id": "5aeb1a39",
   "metadata": {
    "execution": {
     "iopub.execute_input": "2024-01-12T16:18:08.153232Z",
     "iopub.status.busy": "2024-01-12T16:18:08.152719Z",
     "iopub.status.idle": "2024-01-12T16:18:08.196238Z",
     "shell.execute_reply": "2024-01-12T16:18:08.194672Z"
    },
    "papermill": {
     "duration": null,
     "end_time": null,
     "exception": null,
     "start_time": null,
     "status": "completed"
    },
    "tags": []
   },
   "outputs": [],
   "source": [
    "# classification report\n",
    "print(classification_report(y_true, y_pred))\n"
   ]
  },
  {
   "cell_type": "markdown",
   "id": "753f7cdd",
   "metadata": {
    "papermill": {
     "duration": null,
     "end_time": null,
     "exception": null,
     "start_time": null,
     "status": "completed"
    },
    "tags": []
   },
   "source": [
    "## ROC AUC"
   ]
  },
  {
   "cell_type": "code",
   "execution_count": null,
   "id": "5344480b",
   "metadata": {
    "execution": {
     "iopub.execute_input": "2024-01-12T16:18:08.963610Z",
     "iopub.status.busy": "2024-01-12T16:18:08.963237Z",
     "iopub.status.idle": "2024-01-12T16:18:09.473813Z",
     "shell.execute_reply": "2024-01-12T16:18:09.472340Z"
    },
    "papermill": {
     "duration": null,
     "end_time": null,
     "exception": null,
     "start_time": null,
     "status": "completed"
    },
    "tags": []
   },
   "outputs": [],
   "source": [
    "# visualize ROC curve\n",
    "fpr, tpr, thresholds = roc_curve(y_true, y_pred_proba)\n",
    "roc_auc = auc(fpr, tpr)\n",
    "\n",
    "plt.figure(figsize=(8, 6))\n",
    "plt.plot(fpr, tpr, color='darkorange', lw=2, label='ROC curve (area = %0.2f)'% roc_auc)\n",
    "plt.plot([0, 1], [0, 1], color='navy', lw=2, linestyle='--')\n",
    "plt.title('ROC curve')\n",
    "plt.xlabel('False Positive Rate')\n",
    "plt.ylabel('True Positive Rate')\n",
    "plt.legend(loc='lower right')\n",
    "plt.savefig('visuals/roc_curve_mpnn_experiment.png', dpi=300)\n",
    "plt.show()\n"
   ]
  },
  {
   "cell_type": "code",
   "execution_count": null,
   "id": "3ac8e715",
   "metadata": {
    "execution": {
     "iopub.execute_input": "2024-01-12T16:18:09.763484Z",
     "iopub.status.busy": "2024-01-12T16:18:09.763189Z",
     "iopub.status.idle": "2024-01-12T16:18:10.334114Z",
     "shell.execute_reply": "2024-01-12T16:18:10.332638Z"
    },
    "papermill": {
     "duration": null,
     "end_time": null,
     "exception": null,
     "start_time": null,
     "status": "completed"
    },
    "tags": []
   },
   "outputs": [],
   "source": [
    "# visualize confidence_percentages in plot\n",
    "plt.figure(figsize=(8, 6))\n",
    "plt.hist(confidence_percentages, bins=50)\n",
    "plt.title('Confidence Histogram')\n",
    "plt.xlabel('Confidence Percentage')\n",
    "plt.ylabel('Frequency')\n",
    "plt.savefig('visuals/confidence_histogram_mpnn_experiment.png', dpi=300)\n",
    "plt.show()\n"
   ]
  },
  {
   "cell_type": "code",
   "execution_count": null,
   "id": "caf84048",
   "metadata": {
    "execution": {
     "iopub.execute_input": "2024-01-12T16:18:10.684974Z",
     "iopub.status.busy": "2024-01-12T16:18:10.684646Z",
     "iopub.status.idle": "2024-01-12T16:18:10.760582Z",
     "shell.execute_reply": "2024-01-12T16:18:10.758572Z"
    },
    "papermill": {
     "duration": null,
     "end_time": null,
     "exception": null,
     "start_time": null,
     "status": "completed"
    },
    "tags": []
   },
   "outputs": [],
   "source": [
    "# Sort test predictions by confidence and get top 10 indices\n",
    "sorted_pairs = sorted(enumerate(confidence_percentages), key=lambda x: x[1], reverse=True)\n",
    "top_molecules_test_indices = [index for index, _ in sorted_pairs[:20]]\n",
    "\n",
    "# The indices in test_graphs correspond to their positions in the original loaded_graphs_orig\n",
    "# Find the original indices in loaded_graphs_orig\n",
    "original_indices = [loaded_graphs_orig.index(test_graphs[i]) for i in top_molecules_test_indices]\n",
    "\n",
    "# Use the original indices to look up the corresponding rows in reconstructed_df\n",
    "top_molecule_row_indices = reconstructed_df.index[original_indices]\n",
    "\n",
    "# Now, top_molecule_row_indices contains the DataFrame indices of the top 10 RNA-binding molecules\n"
   ]
  },
  {
   "cell_type": "code",
   "execution_count": null,
   "id": "7547ee53",
   "metadata": {
    "execution": {
     "iopub.execute_input": "2024-01-12T16:18:10.963299Z",
     "iopub.status.busy": "2024-01-12T16:18:10.963017Z",
     "iopub.status.idle": "2024-01-12T16:18:10.969257Z",
     "shell.execute_reply": "2024-01-12T16:18:10.967802Z"
    },
    "papermill": {
     "duration": null,
     "end_time": null,
     "exception": null,
     "start_time": null,
     "status": "completed"
    },
    "tags": []
   },
   "outputs": [],
   "source": [
    "# create folder 'top_molecules' if it does not exist\n",
    "if not os.path.exists('top_molecules_mpnn_experiment'):\n",
    "    os.mkdir('top_molecules_mpnn_experiment')\n",
    "    "
   ]
  },
  {
   "cell_type": "code",
   "execution_count": null,
   "id": "8dfd7ae4",
   "metadata": {
    "execution": {
     "iopub.execute_input": "2024-01-12T16:18:11.407719Z",
     "iopub.status.busy": "2024-01-12T16:18:11.407449Z",
     "iopub.status.idle": "2024-01-12T16:18:18.390568Z",
     "shell.execute_reply": "2024-01-12T16:18:18.389145Z"
    },
    "papermill": {
     "duration": null,
     "end_time": null,
     "exception": null,
     "start_time": null,
     "status": "completed"
    },
    "tags": []
   },
   "outputs": [],
   "source": [
    "# Retrieve the SMILES codes and source information for the top 10 molecules\n",
    "top_smiles = df_small.iloc[top_molecule_row_indices]['SMILES'].tolist()\n",
    "top_sources = df_small.iloc[top_molecule_row_indices]['source'].tolist()\n",
    "\n",
    "# Retrieve the confidence scores using the indices relative to the test dataset\n",
    "top_confidences = [confidence_percentages[i] for i in top_molecules_test_indices]\n",
    "\n",
    "# Convert SMILES to RDKit Mol objects\n",
    "mols = [Chem.MolFromSmiles(smile) for smile in top_smiles]\n",
    "\n",
    "# Generate and save images for each molecule\n",
    "for i, mol in enumerate(mols):\n",
    "    img = Draw.MolToImage(mol, size=(500, 500))\n",
    "    plt.figure(figsize=(5, 5))\n",
    "    plt.imshow(img)\n",
    "    # title = f\"SMILES: {top_smiles[i]}\\nSource: {top_sources[i]}\\nConfidence: {top_confidences[i]:.2f}%\"\n",
    "    # plt.title(title)\n",
    "    plt.subplots_adjust(bottom=0.20)  # Adjust the position of the title\n",
    "    plt.axis('off')\n",
    "    \n",
    "    # Save the image to the 'top_molecules' folder using the rank and source as the filename\n",
    "    plt.savefig(f\"top_molecules_mpnn_experiment/molecule_{i+1}_{top_sources[i]}_a.png\", dpi=300)\n",
    "    plt.show()\n"
   ]
  },
  {
   "cell_type": "code",
   "execution_count": null,
   "id": "dde8afc2",
   "metadata": {
    "execution": {
     "iopub.execute_input": "2024-01-12T16:18:18.659517Z",
     "iopub.status.busy": "2024-01-12T16:18:18.659233Z",
     "iopub.status.idle": "2024-01-12T16:18:26.576505Z",
     "shell.execute_reply": "2024-01-12T16:18:26.575353Z"
    },
    "papermill": {
     "duration": null,
     "end_time": null,
     "exception": null,
     "start_time": null,
     "status": "completed"
    },
    "tags": []
   },
   "outputs": [],
   "source": [
    "# Define the figure size and font size for titles\n",
    "fig_size = (6, 6)\n",
    "title_font_size = 12\n",
    "\n",
    "# Generate and save images for each molecule\n",
    "for i, mol in enumerate(mols):\n",
    "    img = Draw.MolToImage(mol, size=(300, 300))\n",
    "    \n",
    "    # Create a figure with adjusted size\n",
    "    plt.figure(figsize=fig_size)\n",
    "    plt.imshow(img)\n",
    "    \n",
    "    # Adjust the position of the text within the image\n",
    "    title = f\"SMILES: {top_smiles[i]}\\nSource: {top_sources[i]}\\nConfidence: {top_confidences[i]:.2f}%\"\n",
    "    plt.title(title, fontsize=title_font_size)\n",
    "    plt.subplots_adjust(bottom=0.15)  # Adjust the position of the title\n",
    "    \n",
    "    plt.axis('off')\n",
    "    \n",
    "    # Save the image to the 'top_molecules' folder using the rank and source as the filename\n",
    "    plt.savefig(f\"top_molecules_mpnn_experiment/molecule_{i+1}_{top_sources[i]}_b.png\", dpi=300)\n",
    "    # plt.show()\n"
   ]
  },
  {
   "cell_type": "markdown",
   "id": "30ee5684",
   "metadata": {
    "papermill": {
     "duration": null,
     "end_time": null,
     "exception": null,
     "start_time": null,
     "status": "completed"
    },
    "tags": []
   },
   "source": [
    "# Graph Attention Networks (GAT)"
   ]
  },
  {
   "cell_type": "code",
   "execution_count": null,
   "id": "763edb93",
   "metadata": {
    "execution": {
     "iopub.execute_input": "2024-01-12T16:18:27.473137Z",
     "iopub.status.busy": "2024-01-12T16:18:27.472815Z",
     "iopub.status.idle": "2024-01-12T16:18:27.480350Z",
     "shell.execute_reply": "2024-01-12T16:18:27.479025Z"
    },
    "papermill": {
     "duration": null,
     "end_time": null,
     "exception": null,
     "start_time": null,
     "status": "completed"
    },
    "tags": []
   },
   "outputs": [],
   "source": [
    "class GATClassifier(nn.Module):\n",
    "    def __init__(self, in_feats, hidden_size, num_heads=1):\n",
    "        super(GATClassifier, self).__init__()\n",
    "        self.conv1 = dglnn.GATConv(in_feats, hidden_size, num_heads=num_heads)\n",
    "\n",
    "        # Adjusted to account for the mean aggregation of head outputs\n",
    "        self.fc = nn.Linear(hidden_size, 1)  # For binary classification\n",
    "\n",
    "    def forward(self, g, features):\n",
    "        # Apply GAT convolution\n",
    "        gat_output = self.conv1(g, features)  # Shape: [num_nodes, num_heads, hidden_size]\n",
    "\n",
    "        # Mean over heads\n",
    "        x = F.elu(gat_output.mean(1))  # Now shape: [num_nodes, hidden_size]\n",
    "        \n",
    "        # Update node features\n",
    "        g.ndata['h'] = x\n",
    "\n",
    "        # Aggregate node features across the graph\n",
    "        x = dgl.mean_nodes(g, 'h')\n",
    "\n",
    "        # Pass through the fully connected layer\n",
    "        return self.fc(x)\n"
   ]
  },
  {
   "cell_type": "markdown",
   "id": "646dd677",
   "metadata": {
    "papermill": {
     "duration": null,
     "end_time": null,
     "exception": null,
     "start_time": null,
     "status": "completed"
    },
    "tags": []
   },
   "source": [
    "## Instance of the the GAT Model"
   ]
  },
  {
   "cell_type": "code",
   "execution_count": null,
   "id": "d9640c12",
   "metadata": {
    "execution": {
     "iopub.execute_input": "2024-01-12T16:18:28.808717Z",
     "iopub.status.busy": "2024-01-12T16:18:28.808411Z",
     "iopub.status.idle": "2024-01-12T16:18:28.817687Z",
     "shell.execute_reply": "2024-01-12T16:18:28.816346Z"
    },
    "papermill": {
     "duration": null,
     "end_time": null,
     "exception": null,
     "start_time": null,
     "status": "completed"
    },
    "tags": []
   },
   "outputs": [],
   "source": [
    "# Instantiate the model\n",
    "in_feats = train_graphs[0].ndata['h'].shape[1]  # Replace with your feature size\n",
    "model = GATClassifier(in_feats, hidden_size=148, num_heads=4).to(device)  # hidden_size is set to 74\n",
    "\n",
    "# Loss and optimizer\n",
    "# criterion = nn.CrossEntropyLoss()\n",
    "criterion = nn.BCEWithLogitsLoss()  # Use this loss if you are using a sigmoid activation\n",
    "optimizer = torch.optim.Adam(model.parameters(), lr=0.0001)"
   ]
  },
  {
   "cell_type": "markdown",
   "id": "a369f500",
   "metadata": {
    "papermill": {
     "duration": null,
     "end_time": null,
     "exception": null,
     "start_time": null,
     "status": "completed"
    },
    "tags": []
   },
   "source": [
    "## Train the GAT model"
   ]
  },
  {
   "cell_type": "code",
   "execution_count": null,
   "id": "2b464d96",
   "metadata": {
    "execution": {
     "iopub.execute_input": "2024-01-12T16:18:30.321307Z",
     "iopub.status.busy": "2024-01-12T16:18:30.320958Z",
     "iopub.status.idle": "2024-01-13T04:55:23.747377Z",
     "shell.execute_reply": "2024-01-13T04:55:23.745292Z"
    },
    "papermill": {
     "duration": null,
     "end_time": null,
     "exception": null,
     "start_time": null,
     "status": "completed"
    },
    "tags": []
   },
   "outputs": [],
   "source": [
    "num_epochs = 500\n",
    "early_stopping = EarlyStopping(patience=25, min_delta=0.002)\n",
    "\n",
    "# Initialize lists to store loss values\n",
    "gat_train_loss_list = []\n",
    "gat_val_loss_list = []\n",
    "\n",
    "for epoch in range(num_epochs):\n",
    "    # Training\n",
    "    train_loss = train(model, train_loader, criterion, optimizer, device)\n",
    "    gat_train_loss_list.append(train_loss)  # Store train loss\n",
    "\n",
    "    # Validation\n",
    "    val_loss, _, _, _ = validate(model, val_loader, criterion, device)\n",
    "    gat_val_loss_list.append(val_loss)  # Store validation loss\n",
    "\n",
    "    # Print and check for early stopping\n",
    "    print(f\"Epoch: {epoch+1}, train_loss: {train_loss:.4f}, val_loss: {val_loss:.4f}\")\n",
    "    early_stopping(val_loss, epoch)\n",
    "    if early_stopping.early_stop:\n",
    "        print(f\"Early stopping triggered at epoch {epoch+1}\")\n",
    "        break\n",
    "    \n",
    "# Store the epoch number when early stopping was triggered\n",
    "num_epochs_early = early_stopping.stopped_epoch + 1\n",
    "\n"
   ]
  },
  {
   "cell_type": "code",
   "execution_count": null,
   "id": "86e79ff5",
   "metadata": {
    "execution": {
     "iopub.execute_input": "2024-01-13T04:55:24.738005Z",
     "iopub.status.busy": "2024-01-13T04:55:24.737686Z",
     "iopub.status.idle": "2024-01-13T04:55:24.954718Z",
     "shell.execute_reply": "2024-01-13T04:55:24.953197Z"
    },
    "papermill": {
     "duration": null,
     "end_time": null,
     "exception": null,
     "start_time": null,
     "status": "completed"
    },
    "tags": []
   },
   "outputs": [],
   "source": [
    "# Ensure that the length of gat_train_loss_list and gat_val_loss_list is equal to the number of epochs processed\n",
    "assert len(gat_train_loss_list) == len(gat_val_loss_list)\n",
    "\n",
    "# Plotting\n",
    "plt.figure(figsize=(10, 6))\n",
    "plt.plot(gat_train_loss_list, label='Training Loss')\n",
    "plt.plot(gat_val_loss_list, label='Validation Loss')\n",
    "plt.title('Training and Validation Loss Over Epochs')\n",
    "plt.xlabel('Epochs')\n",
    "plt.ylabel('Loss')\n",
    "plt.legend()\n",
    "plt.grid(True)\n",
    "plt.show()"
   ]
  },
  {
   "cell_type": "markdown",
   "id": "97ea726c",
   "metadata": {
    "papermill": {
     "duration": null,
     "end_time": null,
     "exception": null,
     "start_time": null,
     "status": "completed"
    },
    "tags": []
   },
   "source": [
    "## Train on merged train and val sets\n"
   ]
  },
  {
   "cell_type": "code",
   "execution_count": null,
   "id": "9a815c8d",
   "metadata": {
    "execution": {
     "iopub.execute_input": "2024-01-13T04:55:26.056770Z",
     "iopub.status.busy": "2024-01-13T04:55:26.056472Z",
     "iopub.status.idle": "2024-01-13T04:55:26.064747Z",
     "shell.execute_reply": "2024-01-13T04:55:26.063109Z"
    },
    "papermill": {
     "duration": null,
     "end_time": null,
     "exception": null,
     "start_time": null,
     "status": "completed"
    },
    "tags": []
   },
   "outputs": [],
   "source": [
    "def train(model, data_loader, criterion, optimizer, device):\n",
    "    model.train()\n",
    "    total_loss = 0\n",
    "    for batch_graphs, batch_labels in data_loader:\n",
    "        batch_graphs = batch_graphs.to(device)\n",
    "        batch_labels = batch_labels.clone().detach().to(device)\n",
    "        batch_features = batch_graphs.ndata['h']\n",
    "\n",
    "        outputs = model(batch_graphs, batch_features)\n",
    "        outputs = outputs.squeeze() # remove extra dimension\n",
    "        loss = criterion(outputs, batch_labels)\n",
    "        optimizer.zero_grad()\n",
    "        loss.backward()\n",
    "        optimizer.step()\n",
    "        total_loss += loss.item()\n",
    "\n",
    "    return total_loss / len(data_loader)"
   ]
  },
  {
   "cell_type": "markdown",
   "id": "bccb4c82",
   "metadata": {
    "papermill": {
     "duration": null,
     "end_time": null,
     "exception": null,
     "start_time": null,
     "status": "completed"
    },
    "tags": []
   },
   "source": [
    "## Reset weights before training again with all data\n"
   ]
  },
  {
   "cell_type": "code",
   "execution_count": null,
   "id": "bba771d5",
   "metadata": {
    "execution": {
     "iopub.execute_input": "2024-01-13T04:55:27.378130Z",
     "iopub.status.busy": "2024-01-13T04:55:27.377460Z",
     "iopub.status.idle": "2024-01-13T04:55:27.393356Z",
     "shell.execute_reply": "2024-01-13T04:55:27.391183Z"
    },
    "papermill": {
     "duration": null,
     "end_time": null,
     "exception": null,
     "start_time": null,
     "status": "completed"
    },
    "tags": []
   },
   "outputs": [],
   "source": [
    "def reset_weights(m):\n",
    "    \"\"\"\n",
    "    This function will reset the weights of a given module.\n",
    "    \"\"\"\n",
    "    if isinstance(m, nn.Conv2d) or isinstance(m, nn.Linear):\n",
    "        m.reset_parameters()\n",
    "\n",
    "# Example usage with your model\n",
    "model.apply(reset_weights)"
   ]
  },
  {
   "cell_type": "code",
   "execution_count": null,
   "id": "e92456f8",
   "metadata": {
    "execution": {
     "iopub.execute_input": "2024-01-13T04:55:27.726104Z",
     "iopub.status.busy": "2024-01-13T04:55:27.725493Z",
     "iopub.status.idle": "2024-01-13T05:24:08.905374Z",
     "shell.execute_reply": "2024-01-13T05:24:08.903015Z"
    },
    "papermill": {
     "duration": null,
     "end_time": null,
     "exception": null,
     "start_time": null,
     "status": "completed"
    },
    "tags": []
   },
   "outputs": [],
   "source": [
    "print(\"Final training on merged training and validation sets\")\n",
    "\n",
    "# Initialize list to store loss values\n",
    "final_train_losses = []\n",
    "\n",
    "for epoch in range(num_epochs_early):\n",
    "    # Training\n",
    "    train_loss = train(model, train_loader_all, criterion, optimizer, device)\n",
    "    final_train_losses.append(train_loss)  # Store train loss\n",
    "\n",
    "    # Print train loss\n",
    "    print(f\"Epoch {epoch+1}/{num_epochs_early}, Train Loss: {train_loss:.4f}\")\n"
   ]
  },
  {
   "cell_type": "code",
   "execution_count": null,
   "id": "12f62a2a",
   "metadata": {
    "execution": {
     "iopub.execute_input": "2024-01-13T05:24:09.904474Z",
     "iopub.status.busy": "2024-01-13T05:24:09.904026Z",
     "iopub.status.idle": "2024-01-13T05:24:10.124629Z",
     "shell.execute_reply": "2024-01-13T05:24:10.122696Z"
    },
    "papermill": {
     "duration": null,
     "end_time": null,
     "exception": null,
     "start_time": null,
     "status": "completed"
    },
    "tags": []
   },
   "outputs": [],
   "source": [
    "# Plotting\n",
    "plt.figure(figsize=(10, 6))\n",
    "plt.plot(final_train_losses, label='Training Loss')\n",
    "plt.title('Training Loss Over Epochs on Merged Training and Validation Sets')\n",
    "plt.xlabel('Epochs')\n",
    "plt.ylabel('Loss')\n",
    "plt.legend()\n",
    "plt.grid(True)\n",
    "plt.show()\n"
   ]
  },
  {
   "cell_type": "markdown",
   "id": "5043add5",
   "metadata": {
    "papermill": {
     "duration": null,
     "end_time": null,
     "exception": null,
     "start_time": null,
     "status": "completed"
    },
    "tags": []
   },
   "source": [
    "## Save the model"
   ]
  },
  {
   "cell_type": "code",
   "execution_count": null,
   "id": "5e55d325",
   "metadata": {
    "execution": {
     "iopub.execute_input": "2024-01-13T05:24:11.760761Z",
     "iopub.status.busy": "2024-01-13T05:24:11.760461Z",
     "iopub.status.idle": "2024-01-13T05:24:11.770278Z",
     "shell.execute_reply": "2024-01-13T05:24:11.768608Z"
    },
    "papermill": {
     "duration": null,
     "end_time": null,
     "exception": null,
     "start_time": null,
     "status": "completed"
    },
    "tags": []
   },
   "outputs": [],
   "source": [
    "# if there is not a folder named 'model' create one\n",
    "if not os.path.exists('model_experiment'):\n",
    "    os.mkdir('model_experiment')\n",
    "\n",
    "# save the model\n",
    "torch.save(model.state_dict(), 'model_experiment/gat_model_experiment.pth')"
   ]
  },
  {
   "cell_type": "code",
   "execution_count": null,
   "id": "7100dd72",
   "metadata": {
    "execution": {
     "iopub.execute_input": "2024-01-13T05:24:12.368095Z",
     "iopub.status.busy": "2024-01-13T05:24:12.367784Z",
     "iopub.status.idle": "2024-01-13T05:24:12.380870Z",
     "shell.execute_reply": "2024-01-13T05:24:12.379150Z"
    },
    "papermill": {
     "duration": null,
     "end_time": null,
     "exception": null,
     "start_time": null,
     "status": "completed"
    },
    "tags": []
   },
   "outputs": [],
   "source": [
    "# load the model\n",
    "model = GATClassifier(in_feats, hidden_size=148, num_heads=4).to(device)\n",
    "model.load_state_dict(torch.load('model_experiment/gat_model_experiment.pth'))"
   ]
  },
  {
   "cell_type": "markdown",
   "id": "15f028a1",
   "metadata": {
    "papermill": {
     "duration": null,
     "end_time": null,
     "exception": null,
     "start_time": null,
     "status": "completed"
    },
    "tags": []
   },
   "source": [
    "## Test the model"
   ]
  },
  {
   "cell_type": "markdown",
   "id": "24e6c2b7",
   "metadata": {
    "papermill": {
     "duration": null,
     "end_time": null,
     "exception": null,
     "start_time": null,
     "status": "completed"
    },
    "tags": []
   },
   "source": [
    "## Predict probabilities"
   ]
  },
  {
   "cell_type": "code",
   "execution_count": null,
   "id": "fc40b746",
   "metadata": {
    "execution": {
     "iopub.execute_input": "2024-01-13T05:24:14.945823Z",
     "iopub.status.busy": "2024-01-13T05:24:14.945284Z",
     "iopub.status.idle": "2024-01-13T05:24:17.684130Z",
     "shell.execute_reply": "2024-01-13T05:24:17.682639Z"
    },
    "papermill": {
     "duration": null,
     "end_time": null,
     "exception": null,
     "start_time": null,
     "status": "completed"
    },
    "tags": []
   },
   "outputs": [],
   "source": [
    "y_true, y_pred, y_pred_proba = test(model, test_loader, device)\n",
    "\n",
    "confidence_percentages = [prob * 100 for prob in y_pred_proba]\n",
    "\n",
    "y_pred_proba = np.array(y_pred_proba)"
   ]
  },
  {
   "cell_type": "markdown",
   "id": "73fc598c",
   "metadata": {
    "papermill": {
     "duration": null,
     "end_time": null,
     "exception": null,
     "start_time": null,
     "status": "completed"
    },
    "tags": []
   },
   "source": [
    "## Results"
   ]
  },
  {
   "cell_type": "code",
   "execution_count": null,
   "id": "c23b23b3",
   "metadata": {
    "execution": {
     "iopub.execute_input": "2024-01-13T05:24:18.674520Z",
     "iopub.status.busy": "2024-01-13T05:24:18.674173Z",
     "iopub.status.idle": "2024-01-13T05:24:18.746518Z",
     "shell.execute_reply": "2024-01-13T05:24:18.744605Z"
    },
    "papermill": {
     "duration": null,
     "end_time": null,
     "exception": null,
     "start_time": null,
     "status": "completed"
    },
    "tags": []
   },
   "outputs": [],
   "source": [
    "print(f'Accuracy: {accuracy_score(y_true, y_pred)}')\n",
    "print(f'Precision: {precision_score(y_true, y_pred)}')\n",
    "print(f'Recall: {recall_score(y_true, y_pred)}')\n",
    "print(f'F1: {f1_score(y_true, y_pred)}')\n",
    "print(f'AUC: {roc_auc_score(y_true, y_pred_proba)}')"
   ]
  },
  {
   "cell_type": "code",
   "execution_count": null,
   "id": "a9c5fcfe",
   "metadata": {
    "execution": {
     "iopub.execute_input": "2024-01-13T05:24:19.317281Z",
     "iopub.status.busy": "2024-01-13T05:24:19.316746Z",
     "iopub.status.idle": "2024-01-13T05:24:19.324042Z",
     "shell.execute_reply": "2024-01-13T05:24:19.322225Z"
    },
    "papermill": {
     "duration": null,
     "end_time": null,
     "exception": null,
     "start_time": null,
     "status": "completed"
    },
    "tags": []
   },
   "outputs": [],
   "source": [
    "# Accuracy: 0.7387478849407784\n",
    "# Precision: 0.7532486494378742\n",
    "# Recall: 0.7039159503342884\n",
    "# F1: 0.727747213993511\n",
    "# AUC: 0.8162738424254579\n"
   ]
  },
  {
   "cell_type": "markdown",
   "id": "b29a86ab",
   "metadata": {
    "papermill": {
     "duration": null,
     "end_time": null,
     "exception": null,
     "start_time": null,
     "status": "completed"
    },
    "tags": []
   },
   "source": [
    "## Confusion matrix"
   ]
  },
  {
   "cell_type": "code",
   "execution_count": null,
   "id": "57425a07",
   "metadata": {
    "execution": {
     "iopub.execute_input": "2024-01-13T05:24:20.803653Z",
     "iopub.status.busy": "2024-01-13T05:24:20.803099Z",
     "iopub.status.idle": "2024-01-13T05:24:21.255762Z",
     "shell.execute_reply": "2024-01-13T05:24:21.253893Z"
    },
    "papermill": {
     "duration": null,
     "end_time": null,
     "exception": null,
     "start_time": null,
     "status": "completed"
    },
    "tags": []
   },
   "outputs": [],
   "source": [
    "# confusion matrix\n",
    "cm = confusion_matrix(y_true, y_pred)\n",
    "cm_df = pd.DataFrame(cm, index=['RNA binder', 'non-RNA binder'], columns=['RNA binder', 'non-RNA binder'])\n",
    "sns.heatmap(cm_df, annot=True, cmap='Blues', fmt='g')\n",
    "sns.set(context='paper', style='white', font_scale=1.5)\n",
    "plt.title('Confusion Matrix')\n",
    "plt.ylabel('True Label')\n",
    "plt.xlabel('Predicted Label')\n",
    "plt.savefig('visuals/confusion_matrix_gat_experiment.png', dpi=300)\n",
    "plt.show()\n",
    "\n"
   ]
  },
  {
   "cell_type": "markdown",
   "id": "cd5e16e2",
   "metadata": {
    "papermill": {
     "duration": null,
     "end_time": null,
     "exception": null,
     "start_time": null,
     "status": "completed"
    },
    "tags": []
   },
   "source": [
    "## Classification report"
   ]
  },
  {
   "cell_type": "code",
   "execution_count": null,
   "id": "180f4785",
   "metadata": {
    "execution": {
     "iopub.execute_input": "2024-01-13T05:24:22.516094Z",
     "iopub.status.busy": "2024-01-13T05:24:22.515695Z",
     "iopub.status.idle": "2024-01-13T05:24:22.562389Z",
     "shell.execute_reply": "2024-01-13T05:24:22.560673Z"
    },
    "papermill": {
     "duration": null,
     "end_time": null,
     "exception": null,
     "start_time": null,
     "status": "completed"
    },
    "tags": []
   },
   "outputs": [],
   "source": [
    "# classification report\n",
    "print(classification_report(y_true, y_pred))\n"
   ]
  },
  {
   "cell_type": "markdown",
   "id": "b11be758",
   "metadata": {
    "papermill": {
     "duration": null,
     "end_time": null,
     "exception": null,
     "start_time": null,
     "status": "completed"
    },
    "tags": []
   },
   "source": [
    "## ROC AUC"
   ]
  },
  {
   "cell_type": "code",
   "execution_count": null,
   "id": "2210f089",
   "metadata": {
    "execution": {
     "iopub.execute_input": "2024-01-13T05:24:23.805948Z",
     "iopub.status.busy": "2024-01-13T05:24:23.805338Z",
     "iopub.status.idle": "2024-01-13T05:24:24.373782Z",
     "shell.execute_reply": "2024-01-13T05:24:24.371925Z"
    },
    "papermill": {
     "duration": null,
     "end_time": null,
     "exception": null,
     "start_time": null,
     "status": "completed"
    },
    "tags": []
   },
   "outputs": [],
   "source": [
    "# visualize ROC curve\n",
    "fpr, tpr, thresholds = roc_curve(y_true, y_pred_proba)\n",
    "roc_auc = auc(fpr, tpr)\n",
    "\n",
    "plt.figure(figsize=(8, 6))\n",
    "plt.plot(fpr, tpr, color='darkorange', lw=2, label='ROC curve (area = %0.2f)'% roc_auc)\n",
    "plt.plot([0, 1], [0, 1], color='navy', lw=2, linestyle='--')\n",
    "plt.title('ROC curve')\n",
    "plt.xlabel('False Positive Rate')\n",
    "plt.ylabel('True Positive Rate')\n",
    "plt.legend(loc='lower right')\n",
    "plt.savefig('visuals/roc_curve_gat_experiment.png', dpi=300)\n",
    "plt.show()\n"
   ]
  },
  {
   "cell_type": "code",
   "execution_count": null,
   "id": "7cac882c",
   "metadata": {
    "execution": {
     "iopub.execute_input": "2024-01-13T05:24:24.729618Z",
     "iopub.status.busy": "2024-01-13T05:24:24.729272Z",
     "iopub.status.idle": "2024-01-13T05:24:25.341950Z",
     "shell.execute_reply": "2024-01-13T05:24:25.340223Z"
    },
    "papermill": {
     "duration": null,
     "end_time": null,
     "exception": null,
     "start_time": null,
     "status": "completed"
    },
    "tags": []
   },
   "outputs": [],
   "source": [
    "# visualize confidence_percentages in plot\n",
    "plt.figure(figsize=(8, 6))\n",
    "plt.hist(confidence_percentages, bins=50)\n",
    "plt.title('Confidence Histogram')\n",
    "plt.xlabel('Confidence Percentage')\n",
    "plt.ylabel('Frequency')\n",
    "plt.savefig('visuals/confidence_histogram_gat_experiment.png', dpi=300)\n",
    "plt.show()\n"
   ]
  },
  {
   "cell_type": "code",
   "execution_count": null,
   "id": "524b27c5",
   "metadata": {
    "execution": {
     "iopub.execute_input": "2024-01-13T05:24:25.699958Z",
     "iopub.status.busy": "2024-01-13T05:24:25.699673Z",
     "iopub.status.idle": "2024-01-13T05:24:25.744933Z",
     "shell.execute_reply": "2024-01-13T05:24:25.743666Z"
    },
    "papermill": {
     "duration": null,
     "end_time": null,
     "exception": null,
     "start_time": null,
     "status": "completed"
    },
    "tags": []
   },
   "outputs": [],
   "source": [
    "# Sort test predictions by confidence and get top 10 indices\n",
    "sorted_pairs = sorted(enumerate(confidence_percentages), key=lambda x: x[1], reverse=True)\n",
    "top_molecules_test_indices = [index for index, _ in sorted_pairs[:20]]\n",
    "\n",
    "# The indices in test_graphs correspond to their positions in the original loaded_graphs_orig\n",
    "# Find the original indices in loaded_graphs_orig\n",
    "original_indices = [loaded_graphs_orig.index(test_graphs[i]) for i in top_molecules_test_indices]\n",
    "\n",
    "# Use the original indices to look up the corresponding rows in reconstructed_df\n",
    "top_molecule_row_indices = reconstructed_df.index[original_indices]\n",
    "\n",
    "# Now, top_molecule_row_indices contains the DataFrame indices of the top 10 RNA-binding molecules\n"
   ]
  },
  {
   "cell_type": "code",
   "execution_count": null,
   "id": "cc05d357",
   "metadata": {
    "execution": {
     "iopub.execute_input": "2024-01-13T05:24:26.476582Z",
     "iopub.status.busy": "2024-01-13T05:24:26.475949Z",
     "iopub.status.idle": "2024-01-13T05:24:26.484517Z",
     "shell.execute_reply": "2024-01-13T05:24:26.482898Z"
    },
    "papermill": {
     "duration": null,
     "end_time": null,
     "exception": null,
     "start_time": null,
     "status": "completed"
    },
    "tags": []
   },
   "outputs": [],
   "source": [
    "# create folder 'top_molecules' if it does not exist\n",
    "if not os.path.exists('top_molecules_gat_experiment'):\n",
    "    os.mkdir('top_molecules_gat_experiment')\n",
    "    "
   ]
  },
  {
   "cell_type": "code",
   "execution_count": null,
   "id": "3a4bc521",
   "metadata": {
    "execution": {
     "iopub.execute_input": "2024-01-13T05:24:27.356220Z",
     "iopub.status.busy": "2024-01-13T05:24:27.355445Z",
     "iopub.status.idle": "2024-01-13T05:24:34.216781Z",
     "shell.execute_reply": "2024-01-13T05:24:34.215110Z"
    },
    "papermill": {
     "duration": null,
     "end_time": null,
     "exception": null,
     "start_time": null,
     "status": "completed"
    },
    "tags": []
   },
   "outputs": [],
   "source": [
    "# Retrieve the SMILES codes and source information for the top 10 molecules\n",
    "top_smiles = df_small.iloc[top_molecule_row_indices]['SMILES'].tolist()\n",
    "top_sources = df_small.iloc[top_molecule_row_indices]['source'].tolist()\n",
    "\n",
    "# Retrieve the confidence scores using the indices relative to the test dataset\n",
    "top_confidences = [confidence_percentages[i] for i in top_molecules_test_indices]\n",
    "\n",
    "# Convert SMILES to RDKit Mol objects\n",
    "mols = [Chem.MolFromSmiles(smile) for smile in top_smiles]\n",
    "\n",
    "# Generate and save images for each molecule\n",
    "for i, mol in enumerate(mols):\n",
    "    img = Draw.MolToImage(mol, size=(500, 500))\n",
    "    plt.figure(figsize=(5, 5))\n",
    "    plt.imshow(img)\n",
    "    # title = f\"SMILES: {top_smiles[i]}\\nSource: {top_sources[i]}\\nConfidence: {top_confidences[i]:.2f}%\"\n",
    "    # plt.title(title)\n",
    "    plt.subplots_adjust(bottom=0.20)  # Adjust the position of the title\n",
    "    plt.axis('off')\n",
    "    \n",
    "    # Save the image to the 'top_molecules' folder using the rank and source as the filename\n",
    "    plt.savefig(f\"top_molecules_gat_experiment/molecule_{i+1}_{top_sources[i]}_a.png\", dpi=300)\n",
    "    plt.show()\n"
   ]
  },
  {
   "cell_type": "code",
   "execution_count": null,
   "id": "3aa81ef7",
   "metadata": {
    "execution": {
     "iopub.execute_input": "2024-01-13T05:24:35.019344Z",
     "iopub.status.busy": "2024-01-13T05:24:35.019048Z",
     "iopub.status.idle": "2024-01-13T05:24:42.711795Z",
     "shell.execute_reply": "2024-01-13T05:24:42.710346Z"
    },
    "papermill": {
     "duration": null,
     "end_time": null,
     "exception": null,
     "start_time": null,
     "status": "completed"
    },
    "tags": []
   },
   "outputs": [],
   "source": [
    "# Define the figure size and font size for titles\n",
    "fig_size = (6, 6)\n",
    "title_font_size = 12\n",
    "\n",
    "# Generate and save images for each molecule\n",
    "for i, mol in enumerate(mols):\n",
    "    img = Draw.MolToImage(mol, size=(300, 300))\n",
    "    \n",
    "    # Create a figure with adjusted size\n",
    "    plt.figure(figsize=fig_size)\n",
    "    plt.imshow(img)\n",
    "    \n",
    "    # Adjust the position of the text within the image\n",
    "    title = f\"SMILES: {top_smiles[i]}\\nSource: {top_sources[i]}\\nConfidence: {top_confidences[i]:.2f}%\"\n",
    "    plt.title(title, fontsize=title_font_size)\n",
    "    plt.subplots_adjust(bottom=0.15)  # Adjust the position of the title\n",
    "    \n",
    "    plt.axis('off')\n",
    "    \n",
    "    # Save the image to the 'top_molecules' folder using the rank and source as the filename\n",
    "    plt.savefig(f\"top_molecules_gat_experiment/molecule_{i+1}_{top_sources[i]}_b.png\", dpi=300)\n",
    "    plt.show()\n"
   ]
  },
  {
   "cell_type": "code",
   "execution_count": null,
   "id": "c638f197",
   "metadata": {
    "execution": {
     "iopub.execute_input": "2024-01-13T05:24:43.564590Z",
     "iopub.status.busy": "2024-01-13T05:24:43.564195Z",
     "iopub.status.idle": "2024-01-13T05:24:45.015887Z",
     "shell.execute_reply": "2024-01-13T05:24:45.014393Z"
    },
    "papermill": {
     "duration": null,
     "end_time": null,
     "exception": null,
     "start_time": null,
     "status": "completed"
    },
    "tags": []
   },
   "outputs": [],
   "source": [
    "# Plot the training and validation loss, same model will have same color but different line style use seaborn and style report and second plot style to talk-presentation\n",
    "sns.set(context='talk', rc={'figure.figsize': (11.5, 7)})\n",
    "\n",
    "plt.plot(gcn_train_loss_list, label='GCN Train', color='r', linestyle='--')\n",
    "plt.plot(gcn_val_loss_list, label='GCN Validation', color='r', linestyle='-')\n",
    "plt.plot(mpnn_train_loss_list, label='MPNN Train', color='b', linestyle='--')\n",
    "plt.plot(mpnn_val_loss_list, label='MPNN Validation', color='b', linestyle='-')\n",
    "plt.plot(gat_train_loss_list, label='GAT Train', color='g', linestyle='--')\n",
    "plt.plot(gat_val_loss_list, label='GAT Validation', color='g', linestyle='-')\n",
    "\n",
    "# Markers for early stopping\n",
    "plt.scatter(49, mpnn_train_loss_list[48], color='b', marker='o', s=20, label='MPNN Early Stopping')\n",
    "plt.scatter(49, mpnn_val_loss_list[48], color='b', marker='o', s=20)\n",
    "plt.scatter(49, gat_train_loss_list[48], color='g', marker='o', s=20, label='GAT Early Stopping')\n",
    "plt.scatter(49, gat_val_loss_list[48], color='g', marker='o', s=20)\n",
    "plt.scatter(80, gcn_train_loss_list[79], color='r', marker='o', s=20, label='GCN Early Stopping')\n",
    "plt.scatter(80, gcn_val_loss_list[79], color='r', marker='o', s=20)\n",
    "\n",
    "plt.xlabel('Epoch')\n",
    "plt.ylabel('Loss')\n",
    "plt.legend()\n",
    "plt.savefig('visuals/loss_talk_experiment.png', dpi=300)\n",
    "plt.show()\n",
    "\n",
    "\n",
    "# Plot the training and validation loss, same model will have same color but different line style use seaborn and style report and second plot style to talk-presentation\n",
    "sns.set(context='paper', rc={'figure.figsize': (10, 4)})\n",
    "\n",
    "\n",
    "plt.plot(gcn_train_loss_list, label='GCN Train', color='r', linestyle='--')\n",
    "plt.plot(gcn_val_loss_list, label='GCN Validation', color='r', linestyle='-')\n",
    "plt.plot(mpnn_train_loss_list, label='MPNN Train', color='b', linestyle='--')\n",
    "plt.plot(mpnn_val_loss_list, label='MPNN Validation', color='b', linestyle='-')\n",
    "plt.plot(gat_train_loss_list, label='GAT Train', color='g', linestyle='--')\n",
    "plt.plot(gat_val_loss_list, label='GAT Validation', color='g', linestyle='-')\n",
    "\n",
    "# Markers for early stopping\n",
    "plt.scatter(49, mpnn_train_loss_list[48], color='b', marker='o', s=20, label='MPNN Early Stopping')\n",
    "plt.scatter(49, mpnn_val_loss_list[48], color='b', marker='o', s=20)\n",
    "plt.scatter(49, gat_train_loss_list[48], color='g', marker='o', s=20, label='GAT Early Stopping')\n",
    "plt.scatter(49, gat_val_loss_list[48], color='g', marker='o', s=20)\n",
    "plt.scatter(80, gcn_train_loss_list[79], color='r', marker='o', s=20, label='GCN Early Stopping')\n",
    "plt.scatter(80, gcn_val_loss_list[79], color='r', marker='o', s=20)\n",
    "\n",
    "plt.xlabel('Epoch')\n",
    "plt.ylabel('Loss')\n",
    "plt.legend()\n",
    "plt.savefig('visuals/loss_paper_experiment.png', dpi=300)\n",
    "plt.show()\n",
    "\n",
    "\n"
   ]
  }
 ],
 "metadata": {
  "kernelspec": {
   "display_name": "gnn",
   "language": "python",
   "name": "python3"
  },
  "language_info": {
   "codemirror_mode": {
    "name": "ipython",
    "version": 3
   },
   "file_extension": ".py",
   "mimetype": "text/x-python",
   "name": "python",
   "nbconvert_exporter": "python",
   "pygments_lexer": "ipython3",
   "version": "3.8.18"
  },
  "papermill": {
   "default_parameters": {},
   "duration": 2.368865,
   "end_time": "2024-02-10T04:29:19.988803",
   "environment_variables": {},
   "exception": null,
   "input_path": "gnn_project_experiment.ipynb",
   "output_path": "gnn_project_experiment.ipynb",
   "parameters": {},
   "start_time": "2024-02-10T04:29:17.619938",
   "version": "2.4.0"
  }
 },
 "nbformat": 4,
 "nbformat_minor": 5
}