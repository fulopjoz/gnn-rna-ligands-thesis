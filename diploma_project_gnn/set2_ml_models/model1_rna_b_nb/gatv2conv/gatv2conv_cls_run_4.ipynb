{
 "cells": [
  {
   "cell_type": "markdown",
   "id": "bcb77659",
   "metadata": {
    "papermill": {
     "duration": 0.010007,
     "end_time": "2024-04-28T03:06:46.044697",
     "exception": false,
     "start_time": "2024-04-28T03:06:46.034690",
     "status": "completed"
    },
    "tags": []
   },
   "source": [
    "## Graph Neural Network for Molecular Interaction Prediction\n",
    "\n",
    "This Jupyter Notebook outlines the process for training a Graph Neural Network (GNN) model to predict molecular interactions using the GATv2 architecture. The goal of this project is to leverage the inherent graph structure of molecules for effective prediction of binding to RNA, a crucial factor in drug discovery and biological research.\n",
    "\n",
    "Each run of this notebook represents a distinct experiment with specified hyperparameters and configurations. Results and models from each run are saved separately for comparative analysis to ensure the reproducibility and statistical significance of our findings.\n",
    "\n",
    "### Notebook Details:\n",
    "\n",
    "- **Objective**: Predict molecular interactions with RNA using GNN.\n",
    "- **Model Architecture**: GATv2Conv from the Deep Graph Library (DGL).\n",
    "- **Data Source**: Preprocessed molecular interaction datasets.\n",
    "- **Run Number**: This notebook facilitates multiple runs. Specific details for each run, including the random state and run number, are set at the beginning to ensure reproducibility.\n",
    "\n",
    "Before executing the notebook, please adjust the `RANDOM_STATE` and `RUN_NUMBER` variables at the top of the notebook to reflect the specific experiment being conducted. This setup ensures each run's outputs are unique and traceable.\n"
   ]
  },
  {
   "cell_type": "code",
   "execution_count": 1,
   "id": "282e28a8",
   "metadata": {
    "execution": {
     "iopub.execute_input": "2024-04-28T03:06:46.273431Z",
     "iopub.status.busy": "2024-04-28T03:06:46.272937Z",
     "iopub.status.idle": "2024-04-28T03:06:46.290880Z",
     "shell.execute_reply": "2024-04-28T03:06:46.289027Z"
    },
    "papermill": {
     "duration": 0.190393,
     "end_time": "2024-04-28T03:06:46.294307",
     "exception": false,
     "start_time": "2024-04-28T03:06:46.103914",
     "status": "completed"
    },
    "tags": []
   },
   "outputs": [
    {
     "data": {
      "text/plain": [
       "'\\nThis script implements a Graph Neural Network (GNN) using the GATv2 architecture\\nfor the purpose of predicting molecular interactions. The implementation leverages\\nthe Deep Graph Library (DGL) for constructing and manipulating graphs, as well as\\nOptuna for hyperparameter optimization. The model includes features such as dropout,\\nearly stopping, and gradient scaling for improved training stability and performance.\\n'"
      ]
     },
     "execution_count": 1,
     "metadata": {},
     "output_type": "execute_result"
    }
   ],
   "source": [
    "\"\"\"\n",
    "This script implements a Graph Neural Network (GNN) using the GATv2 architecture\n",
    "for the purpose of predicting molecular interactions. The implementation leverages\n",
    "the Deep Graph Library (DGL) for constructing and manipulating graphs, as well as\n",
    "Optuna for hyperparameter optimization. The model includes features such as dropout,\n",
    "early stopping, and gradient scaling for improved training stability and performance.\n",
    "\"\"\"\n"
   ]
  },
  {
   "cell_type": "code",
   "execution_count": 2,
   "id": "3f1f244f",
   "metadata": {
    "execution": {
     "iopub.execute_input": "2024-04-28T03:06:46.309897Z",
     "iopub.status.busy": "2024-04-28T03:06:46.309479Z",
     "iopub.status.idle": "2024-04-28T03:06:48.244451Z",
     "shell.execute_reply": "2024-04-28T03:06:48.243109Z"
    },
    "papermill": {
     "duration": 1.947768,
     "end_time": "2024-04-28T03:06:48.249031",
     "exception": false,
     "start_time": "2024-04-28T03:06:46.301263",
     "status": "completed"
    },
    "tags": []
   },
   "outputs": [],
   "source": [
    "# Set the random seed and run number at the top for reproducibility and to differentiate runs\n",
    "RANDOM_STATE = 369\n",
    "RUN_NUMBER = 4\n",
    "\n",
    "import numpy as np\n",
    "import torch\n",
    "import dgl\n",
    "\n",
    "np.random.seed(RANDOM_STATE)\n",
    "torch.manual_seed(RANDOM_STATE)\n",
    "dgl.seed(RANDOM_STATE)\n"
   ]
  },
  {
   "cell_type": "markdown",
   "id": "d15f3fdc",
   "metadata": {
    "papermill": {
     "duration": 0.022213,
     "end_time": "2024-04-28T03:06:48.284062",
     "exception": false,
     "start_time": "2024-04-28T03:06:48.261849",
     "status": "completed"
    },
    "tags": []
   },
   "source": [
    "## Import Necessary Libraries"
   ]
  },
  {
   "cell_type": "code",
   "execution_count": 3,
   "id": "e29631b9",
   "metadata": {
    "execution": {
     "iopub.execute_input": "2024-04-28T03:06:48.384728Z",
     "iopub.status.busy": "2024-04-28T03:06:48.384189Z",
     "iopub.status.idle": "2024-04-28T03:06:49.154792Z",
     "shell.execute_reply": "2024-04-28T03:06:49.153634Z"
    },
    "papermill": {
     "duration": 0.7871,
     "end_time": "2024-04-28T03:06:49.158430",
     "exception": false,
     "start_time": "2024-04-28T03:06:48.371330",
     "status": "completed"
    },
    "tags": []
   },
   "outputs": [],
   "source": [
    "import os\n",
    "import sys\n",
    "import json\n",
    "import numpy as np\n",
    "import pandas as pd\n",
    "import seaborn as sns\n",
    "import matplotlib.pyplot as plt\n",
    "import torch\n",
    "import torch.nn as nn\n",
    "import torch.optim as optim\n",
    "import torch.nn.functional as F\n",
    "import dgl\n",
    "from dgl.nn import GATv2Conv, GlobalAttentionPooling\n",
    "from dgl.dataloading import GraphDataLoader\n",
    "from sklearn.model_selection import train_test_split\n",
    "from sklearn.metrics import roc_auc_score, confusion_matrix, ConfusionMatrixDisplay\n",
    "from sklearn.metrics import precision_score, recall_score, f1_score, accuracy_score\n",
    "import optuna\n",
    "from optuna.pruners import MedianPruner\n",
    "from torch.cuda.amp import GradScaler, autocast\n"
   ]
  },
  {
   "cell_type": "markdown",
   "id": "b346c89a",
   "metadata": {
    "papermill": {
     "duration": 0.008909,
     "end_time": "2024-04-28T03:06:49.424139",
     "exception": false,
     "start_time": "2024-04-28T03:06:49.415230",
     "status": "completed"
    },
    "tags": []
   },
   "source": [
    "## The Graph Neural Network Model\n",
    "\n"
   ]
  },
  {
   "cell_type": "code",
   "execution_count": 4,
   "id": "7796afe2",
   "metadata": {
    "execution": {
     "iopub.execute_input": "2024-04-28T03:06:49.440987Z",
     "iopub.status.busy": "2024-04-28T03:06:49.440496Z",
     "iopub.status.idle": "2024-04-28T03:06:49.450864Z",
     "shell.execute_reply": "2024-04-28T03:06:49.449216Z"
    },
    "papermill": {
     "duration": 0.021674,
     "end_time": "2024-04-28T03:06:49.453792",
     "exception": false,
     "start_time": "2024-04-28T03:06:49.432118",
     "status": "completed"
    },
    "tags": []
   },
   "outputs": [],
   "source": [
    "class GraphClsGATv2(nn.Module):\n",
    "\n",
    "    def __init__(self, \n",
    "                 in_feats, \n",
    "                 hidden_dim, \n",
    "                 num_heads, \n",
    "                 num_cls,\n",
    "                 negative_slope, \n",
    "                 dropout_rate, \n",
    "                 ):\n",
    "        super(GraphClsGATv2, self).__init__()\n",
    "        \n",
    "        self.layer1 = GATv2Conv(in_feats, \n",
    "                                hidden_dim, \n",
    "                                num_heads=num_heads, \n",
    "                                attn_drop=dropout_rate,\n",
    "                                feat_drop=dropout_rate, \n",
    "                                negative_slope=negative_slope,\n",
    "                                residual=True)\n",
    "        self.layer2 = GATv2Conv(hidden_dim * num_heads, \n",
    "                                hidden_dim, num_heads=1, \n",
    "                                attn_drop=dropout_rate,\n",
    "                                feat_drop=dropout_rate, \n",
    "                                negative_slope=negative_slope,\n",
    "                                residual=True)\n",
    "        \n",
    "        self.pooling = GlobalAttentionPooling(gate_nn=nn.Linear(hidden_dim, 1))\n",
    "        \n",
    "        self.dropout = nn.Dropout(dropout_rate)\n",
    "        self.fc = nn.Linear(hidden_dim, num_cls)\n",
    "        \n",
    "        self.norm1 = nn.LayerNorm(hidden_dim * num_heads)\n",
    "        self.norm2 = nn.LayerNorm(hidden_dim)\n",
    "\n",
    "\n",
    "    def forward(self, g, h):\n",
    "        h = F.elu(self.layer1(g, h).flatten(1))\n",
    "        h = self.norm1(h)\n",
    "        h = F.elu(self.layer2(g, h).flatten(1))\n",
    "        h = self.norm2(h)\n",
    "        h = self.dropout(h)\n",
    "        \n",
    "        hg = self.pooling(g, h)\n",
    "        out = self.fc(hg)\n",
    "        \n",
    "        return out\n",
    "\n",
    "\n",
    "    def reset_parameters(self):\n",
    "        for layer in self.children():\n",
    "            if hasattr(layer, 'reset_parameters'):\n",
    "                layer.reset_parameters()"
   ]
  },
  {
   "cell_type": "markdown",
   "id": "76b853e3",
   "metadata": {
    "papermill": {
     "duration": 0.033514,
     "end_time": "2024-04-28T03:06:49.493913",
     "exception": false,
     "start_time": "2024-04-28T03:06:49.460399",
     "status": "completed"
    },
    "tags": []
   },
   "source": [
    "## Early Stopping Mechanism\n",
    "\n"
   ]
  },
  {
   "cell_type": "code",
   "execution_count": 5,
   "id": "1dfe1a10",
   "metadata": {
    "execution": {
     "iopub.execute_input": "2024-04-28T03:06:49.671334Z",
     "iopub.status.busy": "2024-04-28T03:06:49.671015Z",
     "iopub.status.idle": "2024-04-28T03:06:49.682939Z",
     "shell.execute_reply": "2024-04-28T03:06:49.681167Z"
    },
    "papermill": {
     "duration": 0.073143,
     "end_time": "2024-04-28T03:06:49.685799",
     "exception": false,
     "start_time": "2024-04-28T03:06:49.612656",
     "status": "completed"
    },
    "tags": []
   },
   "outputs": [],
   "source": [
    "class EarlyStopping:\n",
    "    \"\"\"Early stops the training if neither validation loss nor validation \n",
    "    accuracy improves after their respective patience levels.\n",
    "    \n",
    "    Parameters\n",
    "    ----------\n",
    "    patience_loss : int\n",
    "        How long to wait after last time validation loss improved.\n",
    "    patience_accuracy : int\n",
    "        How long to wait after last time validation accuracy improved.\n",
    "    verbose : bool\n",
    "        If True, prints a message for each validation metric improvement.\n",
    "    delta_loss : float\n",
    "        Minimum change in the validation loss to qualify as an improvement.\n",
    "    delta_accuracy : float\n",
    "        Minimum change in the validation accuracy to qualify as an improvement.\n",
    "    path : str\n",
    "        The file path where the model will be saved.\n",
    "    print_freq : int\n",
    "        The frequency at which to print messages during training.\n",
    "    \"\"\"\n",
    "\n",
    "    def __init__(\n",
    "            self,\n",
    "            patience_loss=10,\n",
    "            patience_accuracy=10,\n",
    "            verbose=True,\n",
    "            delta_loss=0.001,\n",
    "            delta_accuracy=0.001,\n",
    "            path='checkpoint.pt',\n",
    "            print_freq=5):\n",
    "        self.patience_loss = patience_loss\n",
    "        self.patience_accuracy = patience_accuracy\n",
    "        self.verbose = verbose\n",
    "        self.counter_loss = 0\n",
    "        self.counter_accuracy = 0\n",
    "        self.best_loss = np.Inf\n",
    "        self.best_accuracy = 0\n",
    "        self.early_stop = False\n",
    "        self.delta_loss = delta_loss\n",
    "        self.delta_accuracy = delta_accuracy\n",
    "        self.path = path\n",
    "        self.best_epoch = 0\n",
    "        self.print_freq = print_freq\n",
    "        \n",
    "    def __call__(self, val_loss, val_accuracy, model, epoch):\n",
    "        improved_loss = False\n",
    "        improved_accuracy = False\n",
    "        \n",
    "        # Check improvement for loss\n",
    "        if val_loss < self.best_loss - self.delta_loss:\n",
    "            self.best_loss = val_loss\n",
    "            self.counter_loss = 0\n",
    "            improved_loss = True\n",
    "        else:\n",
    "            self.counter_loss += 1\n",
    "        \n",
    "        # Check improvement for accuracy\n",
    "        if val_accuracy > self.best_accuracy + self.delta_accuracy:\n",
    "            self.best_accuracy = val_accuracy\n",
    "            self.counter_accuracy = 0\n",
    "            improved_accuracy = True\n",
    "        else:\n",
    "            self.counter_accuracy += 1\n",
    "        \n",
    "        # Save checkpoint if either metric improved\n",
    "        if improved_loss or improved_accuracy:\n",
    "            self.save_checkpoint(val_loss, val_accuracy, model)\n",
    "            self.best_epoch = epoch\n",
    "        \n",
    "        if self.verbose and (improved_loss or improved_accuracy):\n",
    "            print(f\"Improvement at epoch {epoch}: Loss = {val_loss}, \"\n",
    "                f\"Accuracy = {val_accuracy}\")\n",
    "        \n",
    "        # Determine if early stopping is triggered\n",
    "        if self.counter_loss >= self.patience_loss and \\\n",
    "            self.counter_accuracy >= self.patience_accuracy:\n",
    "            self.early_stop = True\n",
    "            if self.verbose:\n",
    "                print(\"Early stopping triggered\")\n",
    "                \n",
    "    def save_checkpoint(self, val_loss, val_accuracy, model):\n",
    "        # Implement saving logic based on your requirements\n",
    "        torch.save(model.state_dict(), self.path)\n",
    "        if self.verbose:\n",
    "            print(f\"Checkpoint saved: Loss = {val_loss}, \"\n",
    "                  f\"Accuracy = {val_accuracy}\")\n",
    "\n"
   ]
  },
  {
   "cell_type": "markdown",
   "id": "ccd97b08",
   "metadata": {
    "papermill": {
     "duration": 0.006478,
     "end_time": "2024-04-28T03:06:49.698485",
     "exception": false,
     "start_time": "2024-04-28T03:06:49.692007",
     "status": "completed"
    },
    "tags": []
   },
   "source": [
    "## The Collate Function for DataLoader\n",
    "\n"
   ]
  },
  {
   "cell_type": "code",
   "execution_count": 6,
   "id": "f5a6c490",
   "metadata": {
    "execution": {
     "iopub.execute_input": "2024-04-28T03:06:49.738500Z",
     "iopub.status.busy": "2024-04-28T03:06:49.738202Z",
     "iopub.status.idle": "2024-04-28T03:06:49.743863Z",
     "shell.execute_reply": "2024-04-28T03:06:49.742387Z"
    },
    "papermill": {
     "duration": 0.042404,
     "end_time": "2024-04-28T03:06:49.747347",
     "exception": false,
     "start_time": "2024-04-28T03:06:49.704943",
     "status": "completed"
    },
    "tags": []
   },
   "outputs": [],
   "source": [
    "def collate(samples):\n",
    "    \"\"\"\n",
    "    Function to collate samples into a batch for the GraphDataLoader.\n",
    "    \n",
    "    Parameters\n",
    "    ----------\n",
    "    samples : list\n",
    "        A list of tuples of the form (graph, label).\n",
    "    \"\"\"\n",
    "    graphs, labels = map(list, zip(*samples))\n",
    "    batched_graph = dgl.batch(graphs)\n",
    "    labels = torch.tensor(labels, dtype=torch.long)\n",
    "    return batched_graph, labels\n"
   ]
  },
  {
   "cell_type": "markdown",
   "id": "8c3e818c",
   "metadata": {
    "papermill": {
     "duration": 0.008362,
     "end_time": "2024-04-28T03:06:49.764387",
     "exception": false,
     "start_time": "2024-04-28T03:06:49.756025",
     "status": "completed"
    },
    "tags": []
   },
   "source": [
    "## Training and Evaluation Pipeline\n"
   ]
  },
  {
   "cell_type": "code",
   "execution_count": 7,
   "id": "304cfbb8",
   "metadata": {
    "execution": {
     "iopub.execute_input": "2024-04-28T03:06:49.780095Z",
     "iopub.status.busy": "2024-04-28T03:06:49.779818Z",
     "iopub.status.idle": "2024-04-28T03:06:49.801632Z",
     "shell.execute_reply": "2024-04-28T03:06:49.800006Z"
    },
    "papermill": {
     "duration": 0.032541,
     "end_time": "2024-04-28T03:06:49.804613",
     "exception": false,
     "start_time": "2024-04-28T03:06:49.772072",
     "status": "completed"
    },
    "tags": []
   },
   "outputs": [],
   "source": [
    "class TrainingPipeline:\n",
    "    def __init__(self, device):\n",
    "        self.device = device\n",
    "\n",
    "    def train_and_evaluate(\n",
    "            self,\n",
    "            model,\n",
    "            train_loader,\n",
    "            val_loader,\n",
    "            optimizer,\n",
    "            criterion,\n",
    "            early_stopping,\n",
    "            num_epochs,\n",
    "            plot_curves=False,\n",
    "            accumulation_steps=2):\n",
    "        train_losses, val_losses = [], []\n",
    "        scaler = GradScaler()  # Initialize the gradient scaler\n",
    "\n",
    "        for epoch in range(num_epochs):\n",
    "            model.train()\n",
    "            train_loss = 0.0\n",
    "            optimizer.zero_grad()  # Initialize gradients to zero\n",
    "\n",
    "            for batch_idx, (batched_graph, labels) in enumerate(train_loader):\n",
    "                batched_graph, labels = batched_graph.to(\n",
    "                    self.device), labels.to(self.device)\n",
    "\n",
    "                with autocast():  # Enable automatic mixed precision\n",
    "                    logits = model(\n",
    "                        batched_graph, batched_graph.ndata['h'].float())\n",
    "                    loss = criterion(logits, labels) / \\\n",
    "                        accumulation_steps  # Scale loss\n",
    "\n",
    "                # Scale the loss and call backward to propagate gradients\n",
    "                scaler.scale(loss).backward()\n",
    "                # Correct scaling for logging purposes\n",
    "                train_loss += loss.item() * accumulation_steps\n",
    "\n",
    "                if (batch_idx + 1) % accumulation_steps == 0 or \\\n",
    "                        batch_idx == len(train_loader) - 1:\n",
    "                    # Perform optimizer step using scaled gradients\n",
    "                    scaler.step(optimizer)\n",
    "                    scaler.update()  # Update the scaler for the next iteration\n",
    "                    optimizer.zero_grad()  # Initialize gradients to zero\n",
    "\n",
    "            train_loss /= len(train_loader)\n",
    "            train_losses.append(train_loss)\n",
    "\n",
    "            val_loss = 0.0\n",
    "            val_accuracy = 0.0\n",
    "            val_correct = 0\n",
    "            total = 0\n",
    "            if val_loader is not None:\n",
    "                model.eval()\n",
    "                with torch.no_grad():\n",
    "                    val_correct = 0\n",
    "                    total = 0\n",
    "                    for batched_graph, labels in val_loader:\n",
    "                        batched_graph, labels = batched_graph.to(\n",
    "                            self.device), labels.to(self.device)\n",
    "                        with autocast():  # Enable automatic mixed precision\n",
    "                            logits = model(\n",
    "                                batched_graph, batched_graph.ndata['h'].float()\n",
    "                            )\n",
    "                            loss = criterion(logits, labels)\n",
    "                        val_loss += loss.item()\n",
    "                        _, predicted = torch.max(logits.data, 1)\n",
    "                        total += labels.size(0)\n",
    "                        val_correct += (predicted == labels).sum().item()\n",
    "\n",
    "                    val_loss /= len(val_loader)\n",
    "                    val_losses.append(val_loss)\n",
    "                    val_accuracy = val_correct / total\n",
    "                    \n",
    "                    # here will be early stopping\n",
    "                    if early_stopping:\n",
    "                        early_stopping(val_loss, val_accuracy, model, epoch + 1)\n",
    "                        if early_stopping.early_stop:\n",
    "                            print(\n",
    "                                f\"Early stopping triggered\"\n",
    "                                f\"at epoch {epoch + 1}\")\n",
    "                            break\n",
    "\n",
    "                if (epoch + 1) % 5 == 0 or epoch == 0:\n",
    "                    print(\n",
    "                        f'Epoch {epoch + 1}/{num_epochs} - '\n",
    "                        f'Train Loss: {train_loss:.4f}, '\n",
    "                        f'Val Loss: {val_loss:.4f} '\n",
    "                        f'| Val accuracy: {100 * val_accuracy:.2f}%')\n",
    "\n",
    "        if plot_curves and val_loader is not None:\n",
    "            self.plot_loss_curves(train_losses, val_losses)\n",
    "\n",
    "    @staticmethod\n",
    "    def plot_loss_curves(train_losses, val_losses):\n",
    "        sns.set(style=\"whitegrid\")\n",
    "        plt.figure(figsize=(10, 6))\n",
    "        epochs = range(1, len(train_losses) + 1)\n",
    "        plt.plot(epochs, train_losses, label='Training Loss')\n",
    "        plt.plot(epochs, val_losses, label='Validation Loss')\n",
    "        plt.title('Training and Validation Loss of GATv2Conv')\n",
    "        plt.xlabel('Epochs')\n",
    "        plt.ylabel('Loss')\n",
    "        plt.legend()\n",
    "        plt.savefig(f'loss_curves_{RUN_NUMBER}.png', dpi=300)\n",
    "        plt.show()\n",
    "\n",
    "    def evaluate_on_test(self, model, test_loader, criterion, run_id):\n",
    "        model.eval()\n",
    "        test_loss = 0.0\n",
    "        all_preds = []\n",
    "        all_labels = []\n",
    "        with torch.no_grad():\n",
    "            for batched_graph, labels in test_loader:\n",
    "                batched_graph, labels = batched_graph.to(self.device), labels.to(self.device)\n",
    "                logits = model(batched_graph, batched_graph.ndata['h'].float())\n",
    "                loss = criterion(logits, labels)\n",
    "                test_loss += loss.item()\n",
    "                preds = torch.argmax(logits, dim=1)\n",
    "                all_preds.extend(preds.cpu().numpy())\n",
    "                all_labels.extend(labels.cpu().numpy())\n",
    "\n",
    "        test_loss /= len(test_loader)\n",
    "        accuracy = accuracy_score(all_labels, all_preds)\n",
    "        precision = precision_score(all_labels, all_preds)\n",
    "        recall = recall_score(all_labels, all_preds)\n",
    "        f1 = f1_score(all_labels, all_preds)\n",
    "        roc_auc = roc_auc_score(all_labels, all_preds)\n",
    "\n",
    "        # Calculate and save confusion matrix\n",
    "        cm = confusion_matrix(all_labels, all_preds)\n",
    "        disp = ConfusionMatrixDisplay(confusion_matrix=cm)\n",
    "        disp.plot()\n",
    "        plt.savefig(f'confusion_matrix_{run_id}.png', dpi=300)\n",
    "\n",
    "        # Append results to CSV including added metrics\n",
    "        results_df = pd.DataFrame({\n",
    "            'Run ID': [run_id],\n",
    "            'Test Loss': [test_loss],\n",
    "            'Accuracy': [accuracy],\n",
    "            'Precision': [precision],\n",
    "            'Recall': [recall],\n",
    "            'F1-Score': [f1],\n",
    "            'ROC-AUC': [roc_auc]\n",
    "        })\n",
    "        results_df.to_csv('test_results_GATv2Conv.csv', mode='a', index=False, \n",
    "                        header=not os.path.exists('test_results_GATv2Conv.csv'))\n",
    "\n",
    "        print(f\"Test Loss: {test_loss}\")\n",
    "        print(f\"Accuracy: {accuracy}, Precision: {precision}, Recall: {recall}, F1-Score: {f1}, ROC-AUC: {roc_auc}\")\n"
   ]
  },
  {
   "cell_type": "markdown",
   "id": "a24d6dd8",
   "metadata": {
    "papermill": {
     "duration": 0.006098,
     "end_time": "2024-04-28T03:06:49.816912",
     "exception": false,
     "start_time": "2024-04-28T03:06:49.810814",
     "status": "completed"
    },
    "tags": []
   },
   "source": [
    "## Hyperparameter Optimization Using Optuna\n",
    "\n"
   ]
  },
  {
   "cell_type": "code",
   "execution_count": 8,
   "id": "9c427d42",
   "metadata": {
    "execution": {
     "iopub.execute_input": "2024-04-28T03:06:49.831681Z",
     "iopub.status.busy": "2024-04-28T03:06:49.831232Z",
     "iopub.status.idle": "2024-04-28T03:06:49.855192Z",
     "shell.execute_reply": "2024-04-28T03:06:49.853656Z"
    },
    "papermill": {
     "duration": 0.033756,
     "end_time": "2024-04-28T03:06:49.857168",
     "exception": false,
     "start_time": "2024-04-28T03:06:49.823412",
     "status": "completed"
    },
    "tags": []
   },
   "outputs": [],
   "source": [
    "class HyperparameterOptimizer:\n",
    "    def __init__(\n",
    "            self,\n",
    "            device,\n",
    "            subset_train_graphs,\n",
    "            subset_train_labels,\n",
    "            subset_val_graphs,\n",
    "            subset_val_labels,\n",
    "            num_trials,\n",
    "            num_epochs):\n",
    "        self.device = device\n",
    "        self.subset_train_graphs = subset_train_graphs\n",
    "        self.subset_train_labels = subset_train_labels\n",
    "        self.subset_val_graphs = subset_val_graphs\n",
    "        self.subset_val_labels = subset_val_labels\n",
    "        self.num_trials = num_trials\n",
    "        self.num_epochs = num_epochs\n",
    "\n",
    "    def objective(self, trial):\n",
    "        # Adjusting the hyperparameters for GATv2Conv\n",
    "        in_feats = 74  \n",
    "        hidden_dim = trial.suggest_int('hidden_dim', 16, 256)\n",
    "        num_heads = trial.suggest_categorical('num_heads', [1, 2, 3, 4, 5, \n",
    "                                                              6, 7, 8, 9, 10, \n",
    "                                                            12, 14, 16, 18, 20])\n",
    "        dropout_rate = trial.suggest_float('dropout_rate', 0.0, 0.5) \n",
    "        negative_slope = trial.suggest_float('negative_slope', 0.01, 0.2)\n",
    "        lr = trial.suggest_float('lr', 1e-4, 1e-1, log=True)\n",
    "        batch_size = trial.suggest_categorical('batch_size', [64, 128, 256, 512])\n",
    "\n",
    "        # Create the model, optimizer, and loaders\n",
    "        model = GraphClsGATv2(\n",
    "            in_feats=in_feats,\n",
    "            hidden_dim=hidden_dim,\n",
    "            num_heads=num_heads,\n",
    "            dropout_rate=dropout_rate,\n",
    "            negative_slope=negative_slope,\n",
    "            num_cls=2,\n",
    "        ).to(self.device)\n",
    "        \n",
    "        optimizer = optim.Adam(model.parameters(), lr=lr)\n",
    "        criterion = nn.CrossEntropyLoss()\n",
    "\n",
    "        train_loader = GraphDataLoader(\n",
    "            list(zip(self.subset_train_graphs, self.subset_train_labels)),\n",
    "            batch_size=batch_size,\n",
    "            shuffle=True,\n",
    "            collate_fn=collate,\n",
    "            num_workers=8)\n",
    "        val_loader = GraphDataLoader(\n",
    "            list(zip(self.subset_val_graphs, self.subset_val_labels)),\n",
    "            batch_size=batch_size,\n",
    "            shuffle=False,\n",
    "            collate_fn=collate,\n",
    "            num_workers=8)\n",
    "\n",
    "        # Training loop with pruning\n",
    "        model.train()\n",
    "        for epoch in range(self.num_epochs):\n",
    "            for batched_graph, labels in train_loader:\n",
    "                batched_graph, labels = batched_graph.to(\n",
    "                    self.device), labels.to(self.device)\n",
    "                optimizer.zero_grad()\n",
    "                logits = model(batched_graph, batched_graph.ndata['h'].float())\n",
    "                loss = criterion(logits, labels)\n",
    "                loss.backward()\n",
    "                optimizer.step()\n",
    "\n",
    "            # Validation phase and report for pruning\n",
    "            model.eval()\n",
    "            val_loss = 0.0\n",
    "            with torch.no_grad():\n",
    "                for batched_graph, labels in val_loader:\n",
    "                    batched_graph, labels = batched_graph.to(\n",
    "                        self.device), labels.to(self.device)\n",
    "                    logits = model(\n",
    "                        batched_graph, batched_graph.ndata['h'].float())\n",
    "                    loss = criterion(logits, labels)\n",
    "                    val_loss += loss.item()\n",
    "\n",
    "            val_loss /= len(val_loader)\n",
    "            # Report intermediate value to the pruner\n",
    "            trial.report(val_loss, epoch)\n",
    "\n",
    "            if trial.should_prune():  # Handle pruning based on the \n",
    "                                      # intermediate value\n",
    "                raise optuna.TrialPruned()\n",
    "\n",
    "        return val_loss\n",
    "\n",
    "    def optimize(self):\n",
    "        \"\"\"Run the hyperparameter optimization.\n",
    "        \n",
    "         Returns\n",
    "         -------\n",
    "         dict\n",
    "             The best hyperparameters found by the optimization.\n",
    "        \"\"\"\n",
    "        study = optuna.create_study(direction='minimize',\n",
    "                                    pruner=MedianPruner())\n",
    "        study.optimize(self.objective, n_trials=self.num_trials)\n",
    "\n",
    "        best_hyperparams = study.best_trial.params\n",
    "        with open(f'gatv2_best_hyperparams_run_{RUN_NUMBER}.json', 'w') as f:\n",
    "            json.dump(best_hyperparams, f)\n",
    "        print(f\"Best hyperparameters are {best_hyperparams}.\")\n",
    "        print(\"Best hyperparameters saved.\")\n",
    "        "
   ]
  },
  {
   "cell_type": "markdown",
   "id": "e8363371",
   "metadata": {
    "papermill": {
     "duration": 0.048705,
     "end_time": "2024-04-28T03:06:49.909882",
     "exception": false,
     "start_time": "2024-04-28T03:06:49.861177",
     "status": "completed"
    },
    "tags": []
   },
   "source": [
    "## Main Training Loop\n",
    "\n"
   ]
  },
  {
   "cell_type": "code",
   "execution_count": 9,
   "id": "4822e1b7",
   "metadata": {
    "execution": {
     "iopub.execute_input": "2024-04-28T03:06:49.923507Z",
     "iopub.status.busy": "2024-04-28T03:06:49.923199Z",
     "iopub.status.idle": "2024-04-28T03:06:50.017577Z",
     "shell.execute_reply": "2024-04-28T03:06:50.015840Z"
    },
    "papermill": {
     "duration": 0.104873,
     "end_time": "2024-04-28T03:06:50.020482",
     "exception": false,
     "start_time": "2024-04-28T03:06:49.915609",
     "status": "completed"
    },
    "tags": []
   },
   "outputs": [],
   "source": [
    "device = torch.device(\"cuda\" if torch.cuda.is_available() else \"cpu\")\n"
   ]
  },
  {
   "cell_type": "code",
   "execution_count": 10,
   "id": "3f8b58bd",
   "metadata": {
    "execution": {
     "iopub.execute_input": "2024-04-28T03:06:50.035352Z",
     "iopub.status.busy": "2024-04-28T03:06:50.035052Z",
     "iopub.status.idle": "2024-04-28T03:06:50.707308Z",
     "shell.execute_reply": "2024-04-28T03:06:50.705431Z"
    },
    "papermill": {
     "duration": 0.683693,
     "end_time": "2024-04-28T03:06:50.710661",
     "exception": false,
     "start_time": "2024-04-28T03:06:50.026968",
     "status": "completed"
    },
    "tags": []
   },
   "outputs": [
    {
     "name": "stdout",
     "output_type": "stream",
     "text": [
      "Starting the project...\n",
      "\n",
      "Starting data loading...\n",
      "Train: 2528, Validation: 632, Test: 790, \n",
      "Subset Train: 2528, Subset Val: 632\n",
      "\n",
      "Completed data loading.\n",
      "\n"
     ]
    }
   ],
   "source": [
    "# Load data and prepare for training\n",
    "graphs, labels_dict = dgl.load_graphs(\"../../../data_mvi/data_for_ml/dataset_set2/model1_rna_bin_non_rna_bin/graphs/graphs.bin\")\n",
    "\n",
    "# Directly extract labels tensor from labels_dict\n",
    "labels_tensor = labels_dict['labels']\n",
    "labels_tensor = labels_tensor.squeeze()\n",
    "\n",
    "# Convert tensor to numpy array for compatibility with sklearn\n",
    "labels_numpy = labels_tensor.numpy()\n",
    "\n",
    "# Split dataset train, test\n",
    "train_indices, test_indices, train_labels, test_labels = train_test_split(\n",
    "    range(labels_dict['labels'].size(0)), labels_numpy, test_size=0.2, stratify=labels_numpy,\n",
    "    random_state=RANDOM_STATE)\n",
    "\n",
    "# Split dataset train, validation\n",
    "train_indices, val_indices, train_labels, val_labels = train_test_split(\n",
    "    train_indices, train_labels, test_size=0.2, stratify=train_labels,\n",
    "    random_state=RANDOM_STATE)\n",
    "\n",
    "# Placeholder for data loading. Replace this with your actual data loading\n",
    "# code.\n",
    "train_graphs = [graphs[i] for i in train_indices]\n",
    "test_graphs = [graphs[i] for i in test_indices]\n",
    "val_graphs = [graphs[i] for i in val_indices]\n",
    "\n",
    "subset_train_indices = np.random.choice(\n",
    "    len(train_graphs), size=int(len(train_graphs) * 1), replace=False)\n",
    "subset_train_graphs = [train_graphs[i] for i in subset_train_indices]\n",
    "subset_train_labels = train_labels[subset_train_indices]\n",
    "\n",
    "subset_val_indices = np.random.choice(\n",
    "    len(val_graphs), size=int(len(val_graphs) * 1), replace=False)\n",
    "subset_val_graphs = [val_graphs[i] for i in subset_val_indices]\n",
    "subset_val_labels = val_labels[subset_val_indices]\n",
    "\n",
    "# Combine train and validation graphs and labels for retraining\n",
    "combined_train_graphs = train_graphs + val_graphs\n",
    "combined_train_labels = np.concatenate((train_labels, val_labels))\n",
    "\n",
    "# annouce the start of the project\n",
    "print(\"Starting the project...\")\n",
    "print(\"\")\n",
    "\n",
    "# annouce the start of the data loading\n",
    "print(\"Starting data loading...\")\n",
    "print(\n",
    "    f'Train: {len(train_graphs)}, Validation: {len(val_graphs)}, '\n",
    "    f'Test: {len(test_graphs)}, \\nSubset Train: {len(subset_train_graphs)}, '\n",
    "    f'Subset Val: {len(subset_val_graphs)}'\n",
    ")\n",
    "print(\"\")\n",
    "print(\"Completed data loading.\")\n",
    "print(\"\")\n",
    "sys.stdout.flush()  # Force flushing of the buffer\n"
   ]
  },
  {
   "cell_type": "markdown",
   "id": "dad2830f",
   "metadata": {
    "papermill": {
     "duration": 0.006339,
     "end_time": "2024-04-28T03:06:50.723921",
     "exception": false,
     "start_time": "2024-04-28T03:06:50.717582",
     "status": "completed"
    },
    "tags": []
   },
   "source": [
    "## Perform Hyperparameter Optimization\n"
   ]
  },
  {
   "cell_type": "code",
   "execution_count": 11,
   "id": "f6bd59b5",
   "metadata": {
    "execution": {
     "iopub.execute_input": "2024-04-28T03:06:50.738757Z",
     "iopub.status.busy": "2024-04-28T03:06:50.738451Z",
     "iopub.status.idle": "2024-04-28T03:11:12.229176Z",
     "shell.execute_reply": "2024-04-28T03:11:12.228061Z"
    },
    "papermill": {
     "duration": 261.502631,
     "end_time": "2024-04-28T03:11:12.233060",
     "exception": false,
     "start_time": "2024-04-28T03:06:50.730429",
     "status": "completed"
    },
    "tags": []
   },
   "outputs": [
    {
     "name": "stdout",
     "output_type": "stream",
     "text": [
      "Starting hyperparameter optimization...\n"
     ]
    },
    {
     "name": "stderr",
     "output_type": "stream",
     "text": [
      "[I 2024-04-28 03:06:50,743] A new study created in memory with name: no-name-b1275678-4392-4d0e-a77d-dfa117b8f05a\n"
     ]
    },
    {
     "name": "stdout",
     "output_type": "stream",
     "text": [
      "\n"
     ]
    },
    {
     "name": "stderr",
     "output_type": "stream",
     "text": [
      "[I 2024-04-28 03:07:21,638] Trial 0 finished with value: 0.6518917918205261 and parameters: {'hidden_dim': 48, 'num_heads': 6, 'dropout_rate': 0.31446783548748486, 'negative_slope': 0.01151543042097967, 'lr': 0.002308262512109152, 'batch_size': 128}. Best is trial 0 with value: 0.6518917918205261.\n"
     ]
    },
    {
     "name": "stderr",
     "output_type": "stream",
     "text": [
      "[I 2024-04-28 03:07:46,944] Trial 1 finished with value: 0.6654083331425985 and parameters: {'hidden_dim': 119, 'num_heads': 1, 'dropout_rate': 0.3491577419061719, 'negative_slope': 0.036270586731532085, 'lr': 0.0005380138452427292, 'batch_size': 256}. Best is trial 0 with value: 0.6518917918205261.\n"
     ]
    },
    {
     "name": "stderr",
     "output_type": "stream",
     "text": [
      "[I 2024-04-28 03:08:17,117] Trial 2 finished with value: 0.6666145086288452 and parameters: {'hidden_dim': 30, 'num_heads': 5, 'dropout_rate': 0.012396355924262747, 'negative_slope': 0.14168453126550182, 'lr': 0.00015826125333947855, 'batch_size': 128}. Best is trial 0 with value: 0.6518917918205261.\n"
     ]
    },
    {
     "name": "stderr",
     "output_type": "stream",
     "text": [
      "[I 2024-04-28 03:09:07,382] Trial 3 finished with value: 0.6706967115402221 and parameters: {'hidden_dim': 230, 'num_heads': 18, 'dropout_rate': 0.3107558597807162, 'negative_slope': 0.11065915881003134, 'lr': 0.024341394298545146, 'batch_size': 128}. Best is trial 0 with value: 0.6518917918205261.\n"
     ]
    },
    {
     "name": "stderr",
     "output_type": "stream",
     "text": [
      "[I 2024-04-28 03:09:39,126] Trial 4 finished with value: 0.6505082130432129 and parameters: {'hidden_dim': 58, 'num_heads': 16, 'dropout_rate': 0.16838118069325503, 'negative_slope': 0.09259978094786951, 'lr': 0.010189403801100193, 'batch_size': 128}. Best is trial 4 with value: 0.6505082130432129.\n"
     ]
    },
    {
     "name": "stderr",
     "output_type": "stream",
     "text": [
      "[I 2024-04-28 03:09:40,156] Trial 5 pruned. \n"
     ]
    },
    {
     "name": "stderr",
     "output_type": "stream",
     "text": [
      "[I 2024-04-28 03:09:44,424] Trial 6 pruned. \n"
     ]
    },
    {
     "name": "stderr",
     "output_type": "stream",
     "text": [
      "[I 2024-04-28 03:09:45,311] Trial 7 pruned. \n"
     ]
    },
    {
     "name": "stderr",
     "output_type": "stream",
     "text": [
      "[I 2024-04-28 03:09:46,825] Trial 8 pruned. \n"
     ]
    },
    {
     "name": "stderr",
     "output_type": "stream",
     "text": [
      "[I 2024-04-28 03:09:47,912] Trial 9 pruned. \n"
     ]
    },
    {
     "name": "stderr",
     "output_type": "stream",
     "text": [
      "[I 2024-04-28 03:09:52,364] Trial 10 pruned. \n"
     ]
    },
    {
     "name": "stderr",
     "output_type": "stream",
     "text": [
      "[I 2024-04-28 03:09:53,420] Trial 11 pruned. \n"
     ]
    },
    {
     "name": "stderr",
     "output_type": "stream",
     "text": [
      "[I 2024-04-28 03:09:54,751] Trial 12 pruned. \n"
     ]
    },
    {
     "name": "stderr",
     "output_type": "stream",
     "text": [
      "[I 2024-04-28 03:09:59,085] Trial 13 pruned. \n"
     ]
    },
    {
     "name": "stderr",
     "output_type": "stream",
     "text": [
      "[I 2024-04-28 03:10:03,365] Trial 14 pruned. \n"
     ]
    },
    {
     "name": "stderr",
     "output_type": "stream",
     "text": [
      "[I 2024-04-28 03:10:04,503] Trial 15 pruned. \n"
     ]
    },
    {
     "name": "stderr",
     "output_type": "stream",
     "text": [
      "[I 2024-04-28 03:10:34,895] Trial 16 finished with value: 0.6845910549163818 and parameters: {'hidden_dim': 92, 'num_heads': 2, 'dropout_rate': 0.40534577428690677, 'negative_slope': 0.01276126515535523, 'lr': 0.003719706587141106, 'batch_size': 128}. Best is trial 4 with value: 0.6505082130432129.\n"
     ]
    },
    {
     "name": "stderr",
     "output_type": "stream",
     "text": [
      "[I 2024-04-28 03:10:35,755] Trial 17 pruned. \n"
     ]
    },
    {
     "name": "stderr",
     "output_type": "stream",
     "text": [
      "[I 2024-04-28 03:10:40,220] Trial 18 pruned. \n"
     ]
    },
    {
     "name": "stderr",
     "output_type": "stream",
     "text": [
      "[I 2024-04-28 03:11:12,222] Trial 19 finished with value: 0.6531148791313172 and parameters: {'hidden_dim': 50, 'num_heads': 16, 'dropout_rate': 0.24298237217626642, 'negative_slope': 0.13173784373188985, 'lr': 0.0008920052480618368, 'batch_size': 128}. Best is trial 4 with value: 0.6505082130432129.\n"
     ]
    },
    {
     "name": "stdout",
     "output_type": "stream",
     "text": [
      "Best hyperparameters are {'hidden_dim': 58, 'num_heads': 16, 'dropout_rate': 0.16838118069325503, 'negative_slope': 0.09259978094786951, 'lr': 0.010189403801100193, 'batch_size': 128}.\n",
      "Best hyperparameters saved.\n",
      "Completed hyperparameter optimization.\n"
     ]
    },
    {
     "name": "stdout",
     "output_type": "stream",
     "text": [
      "\n"
     ]
    }
   ],
   "source": [
    "# 1. Hyperparameter Optimization on a subset of the data\n",
    "print(\"Starting hyperparameter optimization...\")\n",
    "sys.stdout.flush()\n",
    "print(\"\")\n",
    "\n",
    "# Specify the number of trials and epochs for hyperparameter optimization\n",
    "optimizer = HyperparameterOptimizer(\n",
    "    device,\n",
    "    subset_train_graphs,\n",
    "    subset_train_labels,\n",
    "    subset_val_graphs,\n",
    "    subset_val_labels,\n",
    "    num_trials=20,\n",
    "    num_epochs=30)\n",
    "optimizer.optimize()\n",
    "print(\"Completed hyperparameter optimization.\")\n",
    "sys.stdout.flush()\n",
    "\n",
    "print(\"\")\n"
   ]
  },
  {
   "cell_type": "code",
   "execution_count": 12,
   "id": "7bf95a9e",
   "metadata": {
    "execution": {
     "iopub.execute_input": "2024-04-28T03:11:12.404858Z",
     "iopub.status.busy": "2024-04-28T03:11:12.404382Z",
     "iopub.status.idle": "2024-04-28T03:11:12.416856Z",
     "shell.execute_reply": "2024-04-28T03:11:12.415822Z"
    },
    "papermill": {
     "duration": 0.021242,
     "end_time": "2024-04-28T03:11:12.418817",
     "exception": false,
     "start_time": "2024-04-28T03:11:12.397575",
     "status": "completed"
    },
    "tags": []
   },
   "outputs": [
    {
     "name": "stdout",
     "output_type": "stream",
     "text": [
      "Data loaders created.\n"
     ]
    }
   ],
   "source": [
    "# Load the best hyperparameters\n",
    "with open(f'gatv2_best_hyperparams_run_{RUN_NUMBER}.json', 'r') as f:\n",
    "    best_hyperparams = json.load(f)\n",
    "\n",
    "train_loader = GraphDataLoader(list(zip(train_graphs,\n",
    "                                        train_labels)),\n",
    "                                batch_size=best_hyperparams['batch_size'],\n",
    "                                shuffle=True,\n",
    "                                collate_fn=collate,\n",
    "                                num_workers=8)\n",
    "val_loader = GraphDataLoader(list(zip(val_graphs,\n",
    "                                        val_labels)),\n",
    "                                batch_size=best_hyperparams['batch_size'],\n",
    "                                shuffle=False,\n",
    "                                collate_fn=collate,\n",
    "                                num_workers=8)\n",
    "test_loader = GraphDataLoader(list(zip(test_graphs,\n",
    "                                        test_labels)),\n",
    "                                batch_size=best_hyperparams['batch_size'],\n",
    "                                shuffle=False,\n",
    "                                collate_fn=collate,\n",
    "                                num_workers=8)\n",
    "combined_train_loader = GraphDataLoader(\n",
    "    list(\n",
    "        zip(\n",
    "            combined_train_graphs,\n",
    "            combined_train_labels)),\n",
    "    batch_size=best_hyperparams['batch_size'],\n",
    "    shuffle=True,\n",
    "    collate_fn=collate,\n",
    "    num_workers=8)\n",
    "print(\"Data loaders created.\")\n"
   ]
  },
  {
   "cell_type": "code",
   "execution_count": 13,
   "id": "41ec7c58",
   "metadata": {
    "execution": {
     "iopub.execute_input": "2024-04-28T03:11:12.555334Z",
     "iopub.status.busy": "2024-04-28T03:11:12.555052Z",
     "iopub.status.idle": "2024-04-28T03:11:12.562572Z",
     "shell.execute_reply": "2024-04-28T03:11:12.561161Z"
    },
    "papermill": {
     "duration": 0.140935,
     "end_time": "2024-04-28T03:11:12.564491",
     "exception": false,
     "start_time": "2024-04-28T03:11:12.423556",
     "status": "completed"
    },
    "tags": []
   },
   "outputs": [
    {
     "data": {
      "text/plain": [
       "{'hidden_dim': 58,\n",
       " 'num_heads': 16,\n",
       " 'dropout_rate': 0.16838118069325503,\n",
       " 'negative_slope': 0.09259978094786951,\n",
       " 'lr': 0.010189403801100193,\n",
       " 'batch_size': 128}"
      ]
     },
     "execution_count": 13,
     "metadata": {},
     "output_type": "execute_result"
    }
   ],
   "source": [
    "best_hyperparams"
   ]
  },
  {
   "cell_type": "code",
   "execution_count": 14,
   "id": "ae2c91d7",
   "metadata": {
    "execution": {
     "iopub.execute_input": "2024-04-28T03:11:12.593854Z",
     "iopub.status.busy": "2024-04-28T03:11:12.593334Z",
     "iopub.status.idle": "2024-04-28T03:12:23.687774Z",
     "shell.execute_reply": "2024-04-28T03:12:23.686572Z"
    },
    "papermill": {
     "duration": 71.120824,
     "end_time": "2024-04-28T03:12:23.690482",
     "exception": false,
     "start_time": "2024-04-28T03:11:12.569658",
     "status": "completed"
    },
    "tags": []
   },
   "outputs": [
    {
     "name": "stdout",
     "output_type": "stream",
     "text": [
      "Retraining with best hyperparameters...\n",
      "\n"
     ]
    },
    {
     "name": "stdout",
     "output_type": "stream",
     "text": [
      "Epoch 1/300 - Train Loss: 1.0090, Val Loss: 0.6936 | Val accuracy: 50.00%\n"
     ]
    },
    {
     "name": "stdout",
     "output_type": "stream",
     "text": [
      "Epoch 5/300 - Train Loss: 0.6942, Val Loss: 0.6958 | Val accuracy: 50.00%\n"
     ]
    },
    {
     "name": "stdout",
     "output_type": "stream",
     "text": [
      "Epoch 10/300 - Train Loss: 0.6898, Val Loss: 0.6908 | Val accuracy: 54.43%\n"
     ]
    },
    {
     "name": "stdout",
     "output_type": "stream",
     "text": [
      "Epoch 15/300 - Train Loss: 0.6860, Val Loss: 0.6870 | Val accuracy: 54.91%\n"
     ]
    },
    {
     "name": "stdout",
     "output_type": "stream",
     "text": [
      "Epoch 20/300 - Train Loss: 0.6723, Val Loss: 0.6791 | Val accuracy: 57.28%\n"
     ]
    },
    {
     "name": "stdout",
     "output_type": "stream",
     "text": [
      "Epoch 25/300 - Train Loss: 0.6645, Val Loss: 0.6762 | Val accuracy: 56.96%\n"
     ]
    },
    {
     "name": "stdout",
     "output_type": "stream",
     "text": [
      "Epoch 30/300 - Train Loss: 0.6635, Val Loss: 0.6770 | Val accuracy: 58.70%\n"
     ]
    },
    {
     "name": "stdout",
     "output_type": "stream",
     "text": [
      "Epoch 35/300 - Train Loss: 0.6582, Val Loss: 0.6730 | Val accuracy: 57.12%\n"
     ]
    },
    {
     "name": "stdout",
     "output_type": "stream",
     "text": [
      "Epoch 40/300 - Train Loss: 0.6544, Val Loss: 0.6638 | Val accuracy: 59.65%\n"
     ]
    },
    {
     "name": "stdout",
     "output_type": "stream",
     "text": [
      "Epoch 45/300 - Train Loss: 0.6478, Val Loss: 0.6629 | Val accuracy: 57.91%\n"
     ]
    },
    {
     "name": "stdout",
     "output_type": "stream",
     "text": [
      "Epoch 50/300 - Train Loss: 0.6475, Val Loss: 0.6486 | Val accuracy: 61.39%\n"
     ]
    },
    {
     "name": "stdout",
     "output_type": "stream",
     "text": [
      "Epoch 55/300 - Train Loss: 0.6460, Val Loss: 0.6537 | Val accuracy: 60.44%\n"
     ]
    },
    {
     "name": "stdout",
     "output_type": "stream",
     "text": [
      "Epoch 60/300 - Train Loss: 0.6439, Val Loss: 0.6540 | Val accuracy: 59.97%\n"
     ]
    },
    {
     "name": "stdout",
     "output_type": "stream",
     "text": [
      "Early stopping triggeredat epoch 62\n"
     ]
    },
    {
     "data": {
      "image/png": "[encoded data removed]",
      "text/plain": [
       "<Figure size 1000x600 with 1 Axes>"
      ]
     },
     "metadata": {},
     "output_type": "display_data"
    },
    {
     "name": "stdout",
     "output_type": "stream",
     "text": [
      "Completed training.\n",
      "\n"
     ]
    }
   ],
   "source": [
    "# 2. Retraining with best hyperparameters (on a larger train and val set)\n",
    "print(\"Retraining with best hyperparameters...\")\n",
    "model = GraphClsGATv2(\n",
    "    in_feats=74,  # Adjust this based on your dataset\n",
    "    hidden_dim=best_hyperparams['hidden_dim'],\n",
    "    num_heads=best_hyperparams['num_heads'],\n",
    "    dropout_rate=best_hyperparams['dropout_rate'],\n",
    "    negative_slope=best_hyperparams['negative_slope'],\n",
    "    num_cls=2, \n",
    ").to(device)\n",
    "\n",
    "print(\"\")\n",
    "\n",
    "# Reset model weights and biases parameters before retraining\n",
    "model.reset_parameters()\n",
    "\n",
    "optimizer = optim.Adam(model.parameters(), lr=best_hyperparams['lr'])\n",
    "criterion = nn.CrossEntropyLoss()\n",
    "\n",
    "early_stopping = EarlyStopping(patience_loss=10, patience_accuracy=10, \n",
    "                               verbose=False, delta_loss=0.001, \n",
    "                               delta_accuracy=0.001, path='checkpoint.pt', \n",
    "                               print_freq=5)\n",
    "\n",
    "training_pipeline = TrainingPipeline(device)\n",
    "\n",
    "training_pipeline.train_and_evaluate(\n",
    "    model,\n",
    "    train_loader,\n",
    "    val_loader,\n",
    "    optimizer,\n",
    "    criterion,\n",
    "    early_stopping,\n",
    "    300,\n",
    "    plot_curves=True)\n",
    "optimal_epoch = early_stopping.best_epoch\n",
    "\n",
    "# Before final training on the combined train and val dataset, reset the\n",
    "# model weights and biases again\n",
    "model.reset_parameters()\n",
    "print(\"Completed training.\")\n",
    "print(\"\")\n"
   ]
  },
  {
   "cell_type": "markdown",
   "id": "5046b2c7",
   "metadata": {
    "papermill": {
     "duration": 0.069766,
     "end_time": "2024-04-28T03:12:23.767091",
     "exception": false,
     "start_time": "2024-04-28T03:12:23.697325",
     "status": "completed"
    },
    "tags": []
   },
   "source": [
    "## Train Model with Best Hyperparameters on whole train set\n",
    "\n"
   ]
  },
  {
   "cell_type": "code",
   "execution_count": 15,
   "id": "6741ab49",
   "metadata": {
    "execution": {
     "iopub.execute_input": "2024-04-28T03:12:24.017348Z",
     "iopub.status.busy": "2024-04-28T03:12:24.017050Z",
     "iopub.status.idle": "2024-04-28T03:13:08.571714Z",
     "shell.execute_reply": "2024-04-28T03:13:08.570316Z"
    },
    "papermill": {
     "duration": 44.641779,
     "end_time": "2024-04-28T03:13:08.578862",
     "exception": false,
     "start_time": "2024-04-28T03:12:23.937083",
     "status": "completed"
    },
    "tags": []
   },
   "outputs": [
    {
     "name": "stdout",
     "output_type": "stream",
     "text": [
      "Final training on the combined train and val dataset...\n"
     ]
    },
    {
     "name": "stdout",
     "output_type": "stream",
     "text": [
      "Completed training.\n",
      "\n"
     ]
    }
   ],
   "source": [
    "# 3. Final training on the combined train and val dataset\n",
    "print(\"Final training on the combined train and val dataset...\")\n",
    "optimizer = optim.Adam(model.parameters(), lr=best_hyperparams['lr'])\n",
    "criterion = nn.CrossEntropyLoss()\n",
    "\n",
    "training_pipeline.train_and_evaluate(\n",
    "    model,\n",
    "    combined_train_loader,\n",
    "    None,\n",
    "    optimizer,\n",
    "    criterion,\n",
    "    None,\n",
    "    optimal_epoch,\n",
    "    plot_curves=False)\n",
    "\n",
    "# save the model\n",
    "torch.save(model.state_dict(), f'gatv2_model_run_{RUN_NUMBER}.pt')\n",
    "\n",
    "print(\"Completed training.\")\n",
    "print(\"\")\n"
   ]
  },
  {
   "cell_type": "markdown",
   "id": "7c6dcb21",
   "metadata": {
    "papermill": {
     "duration": 0.04513,
     "end_time": "2024-04-28T03:13:08.907689",
     "exception": false,
     "start_time": "2024-04-28T03:13:08.862559",
     "status": "completed"
    },
    "tags": []
   },
   "source": [
    "## Evaluate the Model\n",
    "\n"
   ]
  },
  {
   "cell_type": "code",
   "execution_count": 16,
   "id": "ee5235b7",
   "metadata": {
    "execution": {
     "iopub.execute_input": "2024-04-28T03:13:09.147300Z",
     "iopub.status.busy": "2024-04-28T03:13:09.145785Z",
     "iopub.status.idle": "2024-04-28T03:13:10.026313Z",
     "shell.execute_reply": "2024-04-28T03:13:10.024488Z"
    },
    "papermill": {
     "duration": 1.030039,
     "end_time": "2024-04-28T03:13:10.029095",
     "exception": false,
     "start_time": "2024-04-28T03:13:08.999056",
     "status": "completed"
    },
    "tags": []
   },
   "outputs": [
    {
     "name": "stdout",
     "output_type": "stream",
     "text": [
      "Evaluating on the test set...\n"
     ]
    },
    {
     "name": "stdout",
     "output_type": "stream",
     "text": [
      "Test Loss: 0.6685498441968646\n",
      "Accuracy: 0.5924050632911393, Precision: 0.5888077858880778, Recall: 0.6126582278481013, F1-Score: 0.6004962779156326, ROC-AUC: 0.5924050632911393\n",
      "Completed evaluation.\n"
     ]
    },
    {
     "data": {
      "image/png": "[encoded data removed]",
      "text/plain": [
       "<Figure size 640x480 with 2 Axes>"
      ]
     },
     "metadata": {},
     "output_type": "display_data"
    }
   ],
   "source": [
    "\n",
    "# Evaluation on the test set\n",
    "print(\"Evaluating on the test set...\")\n",
    "training_pipeline.evaluate_on_test(model, test_loader, criterion, RUN_NUMBER)\n",
    "print(\"Completed evaluation.\")\n"
   ]
  }
 ],
 "metadata": {
  "kernelspec": {
   "display_name": "gnn",
   "language": "python",
   "name": "python3"
  },
  "language_info": {
   "codemirror_mode": {
    "name": "ipython",
    "version": 3
   },
   "file_extension": ".py",
   "mimetype": "text/x-python",
   "name": "python",
   "nbconvert_exporter": "python",
   "pygments_lexer": "ipython3",
   "version": "3.8.18"
  },
  "papermill": {
   "default_parameters": {},
   "duration": 388.620935,
   "end_time": "2024-04-28T03:13:13.431155",
   "environment_variables": {},
   "exception": null,
   "input_path": "/home/xfulop/mvi/diploma_project_gnn/set2_ml_models/model1_rna_b_nb/gatv2conv/gatv2conv_cls_run_4.ipynb",
   "output_path": "/home/xfulop/mvi/diploma_project_gnn/set2_ml_models/model1_rna_b_nb/gatv2conv/gatv2conv_cls_run_4.ipynb",
   "parameters": {},
   "start_time": "2024-04-28T03:06:44.810220",
   "version": "2.4.0"
  }
 },
 "nbformat": 4,
 "nbformat_minor": 5
}