{
 "cells": [
  {
   "cell_type": "code",
   "execution_count": 1,
   "id": "03e6e9ab",
   "metadata": {
    "execution": {
     "iopub.execute_input": "2024-04-19T17:40:11.320308Z",
     "iopub.status.busy": "2024-04-19T17:40:11.319894Z",
     "iopub.status.idle": "2024-04-19T17:40:13.686630Z",
     "shell.execute_reply": "2024-04-19T17:40:13.684728Z"
    },
    "papermill": {
     "duration": 2.376474,
     "end_time": "2024-04-19T17:40:13.690956",
     "exception": false,
     "start_time": "2024-04-19T17:40:11.314482",
     "status": "completed"
    },
    "tags": []
   },
   "outputs": [
    {
     "name": "stderr",
     "output_type": "stream",
     "text": [
      "[17:40:11] Initializing Normalizer\n"
     ]
    }
   ],
   "source": [
    "from functions.molecule_processor import MoleculeProcessor\n",
    "from functions.diversity_picker import DiversityPicker\n",
    "import pandas as pd\n",
    "from rdkit import Chem\n",
    "import pandas as pd\n",
    "\n",
    "import dgl\n",
    "from dgl.data.utils import save_graphs, load_graphs\n",
    "import torch\n",
    "from rdkit import Chem\n",
    "from dgllife.utils import CanonicalAtomFeaturizer, CanonicalBondFeaturizer\n",
    "from dgllife.utils import mol_to_bigraph"
   ]
  },
  {
   "cell_type": "code",
   "execution_count": 2,
   "id": "f69c441f",
   "metadata": {
    "execution": {
     "iopub.execute_input": "2024-04-19T17:40:13.727476Z",
     "iopub.status.busy": "2024-04-19T17:40:13.726260Z",
     "iopub.status.idle": "2024-04-19T17:40:28.474836Z",
     "shell.execute_reply": "2024-04-19T17:40:28.473074Z"
    },
    "papermill": {
     "duration": 14.782357,
     "end_time": "2024-04-19T17:40:28.478428",
     "exception": false,
     "start_time": "2024-04-19T17:40:13.696071",
     "status": "completed"
    },
    "tags": []
   },
   "outputs": [
    {
     "data": {
      "text/plain": [
       "((38710, 6), (38710, 6))"
      ]
     },
     "execution_count": 2,
     "metadata": {},
     "output_type": "execute_result"
    }
   ],
   "source": [
    "chemdiv_rna_df = pd.read_pickle('data_mvi/data_for_ml/chemdiv_rna_df_ml.pkl')\n",
    "enamine_rna_df = pd.read_pickle('data_mvi/data_for_ml/enamine_rna_df_ml.pkl')\n",
    "life_chemicals_rna_df = pd.read_pickle('data_mvi/data_for_ml/life_chemicals_rna_df_ml.pkl')\n",
    "robin_rna_df = pd.read_pickle('data_mvi/data_for_ml/robin_rna_df_ml.pkl')\n",
    "\n",
    "enamine_protein = pd.read_pickle('data_mvi/data_for_ml/enamine_protein_df_ml.pkl')\n",
    "\n",
    "rna_df = pd.concat([chemdiv_rna_df, enamine_rna_df, life_chemicals_rna_df, robin_rna_df])\n",
    "rna_df.shape, enamine_protein.shape\n"
   ]
  },
  {
   "cell_type": "code",
   "execution_count": 3,
   "id": "bd4417bb",
   "metadata": {
    "execution": {
     "iopub.execute_input": "2024-04-19T17:40:28.489227Z",
     "iopub.status.busy": "2024-04-19T17:40:28.488945Z",
     "iopub.status.idle": "2024-04-19T17:40:28.507370Z",
     "shell.execute_reply": "2024-04-19T17:40:28.505908Z"
    },
    "papermill": {
     "duration": 0.028213,
     "end_time": "2024-04-19T17:40:28.511277",
     "exception": false,
     "start_time": "2024-04-19T17:40:28.483064",
     "status": "completed"
    },
    "tags": []
   },
   "outputs": [
    {
     "data": {
      "text/plain": [
       "Index(['mol', 'smiles', 'source', 'ecfp6', 'bit_info_map', 'rna'], dtype='object')"
      ]
     },
     "execution_count": 3,
     "metadata": {},
     "output_type": "execute_result"
    }
   ],
   "source": [
    "all_molecules = pd.concat([rna_df, enamine_protein])\n",
    "all_molecules.columns"
   ]
  },
  {
   "cell_type": "code",
   "execution_count": 4,
   "id": "f57a1524",
   "metadata": {
    "execution": {
     "iopub.execute_input": "2024-04-19T17:40:28.548055Z",
     "iopub.status.busy": "2024-04-19T17:40:28.547746Z",
     "iopub.status.idle": "2024-04-19T17:40:28.555304Z",
     "shell.execute_reply": "2024-04-19T17:40:28.553892Z"
    },
    "papermill": {
     "duration": 0.043717,
     "end_time": "2024-04-19T17:40:28.558992",
     "exception": false,
     "start_time": "2024-04-19T17:40:28.515275",
     "status": "completed"
    },
    "tags": []
   },
   "outputs": [
    {
     "data": {
      "text/plain": [
       "(77420, 6)"
      ]
     },
     "execution_count": 4,
     "metadata": {},
     "output_type": "execute_result"
    }
   ],
   "source": [
    "all_molecules.shape"
   ]
  },
  {
   "cell_type": "code",
   "execution_count": 5,
   "id": "ab42affb",
   "metadata": {
    "execution": {
     "iopub.execute_input": "2024-04-19T17:40:28.579129Z",
     "iopub.status.busy": "2024-04-19T17:40:28.578838Z",
     "iopub.status.idle": "2024-04-19T17:40:28.798403Z",
     "shell.execute_reply": "2024-04-19T17:40:28.796794Z"
    },
    "papermill": {
     "duration": 0.228559,
     "end_time": "2024-04-19T17:40:28.802143",
     "exception": false,
     "start_time": "2024-04-19T17:40:28.573584",
     "status": "completed"
    },
    "tags": []
   },
   "outputs": [
    {
     "data": {
      "text/html": [
       "<div>\n",
       "<style scoped>\n",
       "    .dataframe tbody tr th:only-of-type {\n",
       "        vertical-align: middle;\n",
       "    }\n",
       "\n",
       "    .dataframe tbody tr th {\n",
       "        vertical-align: top;\n",
       "    }\n",
       "\n",
       "    .dataframe thead th {\n",
       "        text-align: right;\n",
       "    }\n",
       "</style>\n",
       "<table border=\"1\" class=\"dataframe\">\n",
       "  <thead>\n",
       "    <tr style=\"text-align: right;\">\n",
       "      <th></th>\n",
       "      <th>mol</th>\n",
       "      <th>smiles</th>\n",
       "      <th>source</th>\n",
       "      <th>ecfp6</th>\n",
       "      <th>bit_info_map</th>\n",
       "      <th>rna</th>\n",
       "    </tr>\n",
       "  </thead>\n",
       "  <tbody>\n",
       "    <tr>\n",
       "      <th>0</th>\n",
       "      <td>&lt;rdkit.Chem.rdchem.Mol object at 0x7fa1f68cbae0&gt;</td>\n",
       "      <td>CCOc1ccc(CC(=O)Nc2ccc3c(c2)CCC(=O)N3Cc2ccccc2)cc1</td>\n",
       "      <td>chemdiv</td>\n",
       "      <td>0000000000000000000000000000000010000000010000...</td>\n",
       "      <td>{32: [(25, 3)], 41: [(8, 1)], 69: [(2, 2)], 80...</td>\n",
       "      <td>1</td>\n",
       "    </tr>\n",
       "    <tr>\n",
       "      <th>1</th>\n",
       "      <td>&lt;rdkit.Chem.rdchem.Mol object at 0x7fa1d2a15090&gt;</td>\n",
       "      <td>Cc1sc(=O)n(CC(=O)N2CCC(c3ccccc3)C2(C)C)c1C</td>\n",
       "      <td>enamine_protein</td>\n",
       "      <td>0000000000000000000000000000000000000000000000...</td>\n",
       "      <td>{63: [(3, 1)], 80: [(6, 0)], 132: [(12, 3)], 1...</td>\n",
       "      <td>0</td>\n",
       "    </tr>\n",
       "    <tr>\n",
       "      <th>2</th>\n",
       "      <td>&lt;rdkit.Chem.rdchem.Mol object at 0x7fa1d1e23770&gt;</td>\n",
       "      <td>COc1ccc(-c2cc(C(F)(F)F)c(C#N)c(SCCC(=O)O)n2)cc1</td>\n",
       "      <td>enamine_protein</td>\n",
       "      <td>0000000000000000000000000000000010000000000000...</td>\n",
       "      <td>{32: [(16, 1)], 46: [(18, 2)], 80: [(18, 0), (...</td>\n",
       "      <td>0</td>\n",
       "    </tr>\n",
       "    <tr>\n",
       "      <th>3</th>\n",
       "      <td>&lt;rdkit.Chem.rdchem.Mol object at 0x7fa1f5f15ef0&gt;</td>\n",
       "      <td>Cn1nccc1C(=O)N1CCC[C@H]1c1nnc(-c2ccc(F)cc2)[nH]1</td>\n",
       "      <td>chemdiv</td>\n",
       "      <td>0001000000000000000000000000000000000000000100...</td>\n",
       "      <td>{3: [(16, 2)], 43: [(2, 1)], 90: [(20, 2)], 18...</td>\n",
       "      <td>1</td>\n",
       "    </tr>\n",
       "    <tr>\n",
       "      <th>4</th>\n",
       "      <td>&lt;rdkit.Chem.rdchem.Mol object at 0x7fa1d1d92ea0&gt;</td>\n",
       "      <td>O=S(=O)(Nc1nc2ccc(Br)cn2n1)c1cccc(F)c1</td>\n",
       "      <td>enamine_protein</td>\n",
       "      <td>0000100000000000000000000000000000000000000000...</td>\n",
       "      <td>{4: [(1, 2)], 73: [(12, 3)], 80: [(3, 2)], 177...</td>\n",
       "      <td>0</td>\n",
       "    </tr>\n",
       "  </tbody>\n",
       "</table>\n",
       "</div>"
      ],
      "text/plain": [
       "                                                mol  \\\n",
       "0  <rdkit.Chem.rdchem.Mol object at 0x7fa1f68cbae0>   \n",
       "1  <rdkit.Chem.rdchem.Mol object at 0x7fa1d2a15090>   \n",
       "2  <rdkit.Chem.rdchem.Mol object at 0x7fa1d1e23770>   \n",
       "3  <rdkit.Chem.rdchem.Mol object at 0x7fa1f5f15ef0>   \n",
       "4  <rdkit.Chem.rdchem.Mol object at 0x7fa1d1d92ea0>   \n",
       "\n",
       "                                              smiles           source  \\\n",
       "0  CCOc1ccc(CC(=O)Nc2ccc3c(c2)CCC(=O)N3Cc2ccccc2)cc1          chemdiv   \n",
       "1         Cc1sc(=O)n(CC(=O)N2CCC(c3ccccc3)C2(C)C)c1C  enamine_protein   \n",
       "2    COc1ccc(-c2cc(C(F)(F)F)c(C#N)c(SCCC(=O)O)n2)cc1  enamine_protein   \n",
       "3   Cn1nccc1C(=O)N1CCC[C@H]1c1nnc(-c2ccc(F)cc2)[nH]1          chemdiv   \n",
       "4             O=S(=O)(Nc1nc2ccc(Br)cn2n1)c1cccc(F)c1  enamine_protein   \n",
       "\n",
       "                                               ecfp6  \\\n",
       "0  0000000000000000000000000000000010000000010000...   \n",
       "1  0000000000000000000000000000000000000000000000...   \n",
       "2  0000000000000000000000000000000010000000000000...   \n",
       "3  0001000000000000000000000000000000000000000100...   \n",
       "4  0000100000000000000000000000000000000000000000...   \n",
       "\n",
       "                                        bit_info_map  rna  \n",
       "0  {32: [(25, 3)], 41: [(8, 1)], 69: [(2, 2)], 80...    1  \n",
       "1  {63: [(3, 1)], 80: [(6, 0)], 132: [(12, 3)], 1...    0  \n",
       "2  {32: [(16, 1)], 46: [(18, 2)], 80: [(18, 0), (...    0  \n",
       "3  {3: [(16, 2)], 43: [(2, 1)], 90: [(20, 2)], 18...    1  \n",
       "4  {4: [(1, 2)], 73: [(12, 3)], 80: [(3, 2)], 177...    0  "
      ]
     },
     "execution_count": 5,
     "metadata": {},
     "output_type": "execute_result"
    }
   ],
   "source": [
    "# reset index in all_molecules\n",
    "all_molecules.reset_index(drop=True, inplace=True)\n",
    "# shuffle rows \n",
    "all_molecules = all_molecules.sample(frac=1).reset_index(drop=True)\n",
    "all_molecules.head(5)"
   ]
  },
  {
   "cell_type": "code",
   "execution_count": 6,
   "id": "f964c27a",
   "metadata": {
    "execution": {
     "iopub.execute_input": "2024-04-19T17:40:28.817425Z",
     "iopub.status.busy": "2024-04-19T17:40:28.817148Z",
     "iopub.status.idle": "2024-04-19T17:40:50.510945Z",
     "shell.execute_reply": "2024-04-19T17:40:50.508971Z"
    },
    "papermill": {
     "duration": 21.707986,
     "end_time": "2024-04-19T17:40:50.515138",
     "exception": false,
     "start_time": "2024-04-19T17:40:28.807152",
     "status": "completed"
    },
    "tags": []
   },
   "outputs": [
    {
     "name": "stdout",
     "output_type": "stream",
     "text": [
      "No disconnected molecules found!\n"
     ]
    }
   ],
   "source": [
    "# Initialize a list to store molecules with disconnected components\n",
    "disconnected_mols = []\n",
    "\n",
    "# Check for valid SMILES and Mols\n",
    "for idx, row in all_molecules.iterrows():\n",
    "    smiles = row['smiles']\n",
    "    mol = row['mol']\n",
    "    source = row['source']\n",
    "\n",
    "    # Check if the SMILES string can be converted to a valid RDKit Mol object\n",
    "    mol_from_smiles = Chem.MolFromSmiles(smiles)\n",
    "    if mol_from_smiles is None:\n",
    "        print(f\"Invalid SMILES string at index {idx}: {smiles}\")\n",
    "        continue\n",
    "\n",
    "    # Check if SMILES string do not have \".\" in it\n",
    "    if '.' in smiles:\n",
    "        print(f\"Disconnected components in SMILES string at index {idx}: {smiles}, from source {source}\")\n",
    "        continue\n",
    "    \n",
    "    # Check if the Mol object is valid (no disconnected components)\n",
    "    if mol is None or mol.GetNumAtoms() == 0:\n",
    "        print(f\"Invalid Mol object at index {idx}: {smiles}\")\n",
    "        continue\n",
    "\n",
    "    # Check for disconnected components in Mol objects\n",
    "    if mol is not None:\n",
    "        # Get the number of disconnected components\n",
    "        num_components = Chem.GetMolFrags(mol, asMols=False, sanitizeFrags=False)\n",
    "        if len(num_components) > 1:\n",
    "            print(f\"Disconnected components in molecule at index {idx}: {smiles}, from source {source}\")\n",
    "            disconnected_mols.append(row)\n",
    "            all_molecules.drop(idx, inplace=True)\n",
    "\n",
    "# Convert the list to a DataFrame\n",
    "disconnected_mols_df = pd.DataFrame(disconnected_mols)\n",
    "# save disconnected_mols_df to json file\n",
    "disconnected_mols_df.to_json('disconnected_mols_df.json')\n",
    "\n",
    "if disconnected_mols_df.shape[0] < 1:\n",
    "    print(\"No disconnected molecules found!\")"
   ]
  },
  {
   "cell_type": "code",
   "execution_count": 7,
   "id": "1ff08d0c",
   "metadata": {
    "execution": {
     "iopub.execute_input": "2024-04-19T17:40:50.527321Z",
     "iopub.status.busy": "2024-04-19T17:40:50.527043Z",
     "iopub.status.idle": "2024-04-19T17:40:50.534949Z",
     "shell.execute_reply": "2024-04-19T17:40:50.533313Z"
    },
    "papermill": {
     "duration": 0.017777,
     "end_time": "2024-04-19T17:40:50.538467",
     "exception": false,
     "start_time": "2024-04-19T17:40:50.520690",
     "status": "completed"
    },
    "tags": []
   },
   "outputs": [],
   "source": [
    "\n",
    "\n",
    "def create_graphs_from_dataframe(df):\n",
    "    graphs = []\n",
    "    labels = []\n",
    "\n",
    "    for _, row in df.iterrows():\n",
    "        mol = Chem.MolFromSmiles(row['smiles'])  # Assuming SMILES representation\n",
    "        label = row['rna']  # Assuming a single label column\n",
    "\n",
    "        # Convert RDKit molecule to a DGLGraph with features\n",
    "        graph = mol_to_bigraph(\n",
    "            mol,\n",
    "            node_featurizer=CanonicalAtomFeaturizer(),\n",
    "            edge_featurizer=CanonicalBondFeaturizer(self_loop=True),\n",
    "            explicit_hydrogens=False,\n",
    "            add_self_loop=True\n",
    "        )\n",
    "        \n",
    "        graphs.append(graph)\n",
    "        labels.append(label)\n",
    "\n",
    "    # Convert list of labels into a torch tensor and wrap in a dictionary\n",
    "    label_tensor = torch.tensor(labels).unsqueeze(-1)\n",
    "    graph_labels = {'labels': label_tensor}\n",
    "\n",
    "    return graphs, graph_labels\n",
    "\n",
    "\n"
   ]
  },
  {
   "cell_type": "code",
   "execution_count": 8,
   "id": "92f591a2",
   "metadata": {
    "execution": {
     "iopub.execute_input": "2024-04-19T17:40:50.575599Z",
     "iopub.status.busy": "2024-04-19T17:40:50.575282Z",
     "iopub.status.idle": "2024-04-19T17:43:45.211708Z",
     "shell.execute_reply": "2024-04-19T17:43:45.209842Z"
    },
    "papermill": {
     "duration": 174.672796,
     "end_time": "2024-04-19T17:43:45.215912",
     "exception": false,
     "start_time": "2024-04-19T17:40:50.543116",
     "status": "completed"
    },
    "tags": []
   },
   "outputs": [],
   "source": [
    "# Assume 'df' is your DataFrame containing molecules and labels\n",
    "graphs, graph_labels = create_graphs_from_dataframe(all_molecules)\n",
    "\n",
    "# Save the graphs and labels to a binary file\n",
    "save_graphs(\"data_mvi/graphs.bin\", graphs, graph_labels)"
   ]
  }
 ],
 "metadata": {
  "kernelspec": {
   "display_name": "gnn",
   "language": "python",
   "name": "python3"
  },
  "language_info": {
   "codemirror_mode": {
    "name": "ipython",
    "version": 3
   },
   "file_extension": ".py",
   "mimetype": "text/x-python",
   "name": "python",
   "nbconvert_exporter": "python",
   "pygments_lexer": "ipython3",
   "version": "3.8.18"
  },
  "papermill": {
   "default_parameters": {},
   "duration": 217.948244,
   "end_time": "2024-04-19T17:43:48.048167",
   "environment_variables": {},
   "exception": null,
   "input_path": "/home/xfulop/mvi/diploma_project_gnn/create_graphs.ipynb",
   "output_path": "/home/xfulop/mvi/diploma_project_gnn/create_graphs.ipynb",
   "parameters": {},
   "start_time": "2024-04-19T17:40:10.099923",
   "version": "2.4.0"
  }
 },
 "nbformat": 4,
 "nbformat_minor": 5
}
