{
 "cells": [
  {
   "cell_type": "markdown",
   "id": "5dd9ed87",
   "metadata": {
    "papermill": {
     "duration": 0.009,
     "end_time": "2024-04-22T14:43:43.339857",
     "exception": false,
     "start_time": "2024-04-22T14:43:43.330857",
     "status": "completed"
    },
    "tags": []
   },
   "source": [
    "## Graph Neural Network for Molecular Interaction Prediction\n",
    "### GatedGraphConv\n",
    "\n",
    "This Jupyter Notebook outlines the process for training a Graph Neural Network (GNN) model to predict molecular interactions using the GatedGraphConv architecture. The goal of this project is to leverage the inherent graph structure of molecules for effective prediction of binding to RNA, a crucial factor in drug discovery and biological research.\n",
    "\n",
    "Each run of this notebook represents a distinct experiment with specified hyperparameters and configurations. Results and models from each run are saved separately for comparative analysis to ensure the reproducibility and statistical significance of our findings.\n",
    "\n",
    "### Notebook Details:\n",
    "\n",
    "- **Objective**: Predict molecular interactions with RNA using GNN.\n",
    "- **Model Architecture**: GatedGraphConv from the Deep Graph Library (DGL).\n",
    "- **Data Source**: Preprocessed molecular datasets.\n",
    "- **Run Number**: This notebook facilitates multiple runs. Specific details for each run, including the random state and run number, are set at the beginning to ensure reproducibility.\n",
    "\n",
    "Before executing the notebook, please adjust the `RANDOM_STATE` and `RUN_NUMBER` variables at the top of the notebook to reflect the specific experiment being conducted. This setup ensures each run's outputs are unique and traceable.\n"
   ]
  },
  {
   "cell_type": "code",
   "execution_count": 1,
   "id": "06014963",
   "metadata": {
    "execution": {
     "iopub.execute_input": "2024-04-22T14:43:43.437081Z",
     "iopub.status.busy": "2024-04-22T14:43:43.436692Z",
     "iopub.status.idle": "2024-04-22T14:43:43.450926Z",
     "shell.execute_reply": "2024-04-22T14:43:43.449205Z"
    },
    "papermill": {
     "duration": 0.047629,
     "end_time": "2024-04-22T14:43:43.454204",
     "exception": false,
     "start_time": "2024-04-22T14:43:43.406575",
     "status": "completed"
    },
    "tags": []
   },
   "outputs": [
    {
     "data": {
      "text/plain": [
       "'\\nThis script implements a Graph Neural Network (GNN) using the GatedGraphConv architecture\\nfor the purpose of predicting molecular interactions. The implementation leverages\\nthe Deep Graph Library (DGL) for constructing and manipulating graphs, as well as\\nOptuna for hyperparameter optimization. The model includes features such as dropout,\\nearly stopping, and gradient scaling for improved training stability and performance.\\n'"
      ]
     },
     "execution_count": 1,
     "metadata": {},
     "output_type": "execute_result"
    }
   ],
   "source": [
    "\"\"\"\n",
    "This script implements a Graph Neural Network (GNN) using the GatedGraphConv architecture\n",
    "for the purpose of predicting molecular interactions. The implementation leverages\n",
    "the Deep Graph Library (DGL) for constructing and manipulating graphs, as well as\n",
    "Optuna for hyperparameter optimization. The model includes features such as dropout,\n",
    "early stopping, and gradient scaling for improved training stability and performance.\n",
    "\"\"\"\n"
   ]
  },
  {
   "cell_type": "code",
   "execution_count": 2,
   "id": "ddd42937",
   "metadata": {
    "execution": {
     "iopub.execute_input": "2024-04-22T14:43:43.521662Z",
     "iopub.status.busy": "2024-04-22T14:43:43.521240Z",
     "iopub.status.idle": "2024-04-22T14:43:45.498060Z",
     "shell.execute_reply": "2024-04-22T14:43:45.496625Z"
    },
    "papermill": {
     "duration": 2.024979,
     "end_time": "2024-04-22T14:43:45.502212",
     "exception": false,
     "start_time": "2024-04-22T14:43:43.477233",
     "status": "completed"
    },
    "tags": []
   },
   "outputs": [],
   "source": [
    "# Set the random seed and run number at the top for reproducibility and to differentiate runs\n",
    "RANDOM_STATE = 369\n",
    "RUN_NUMBER = 4\n",
    "\n",
    "import numpy as np\n",
    "import torch\n",
    "import dgl\n",
    "\n",
    "np.random.seed(RANDOM_STATE)\n",
    "torch.manual_seed(RANDOM_STATE)\n",
    "dgl.seed(RANDOM_STATE)\n"
   ]
  },
  {
   "cell_type": "markdown",
   "id": "019dd00e",
   "metadata": {
    "papermill": {
     "duration": 0.006968,
     "end_time": "2024-04-22T14:43:45.519011",
     "exception": false,
     "start_time": "2024-04-22T14:43:45.512043",
     "status": "completed"
    },
    "tags": []
   },
   "source": [
    "## Import Necessary Libraries"
   ]
  },
  {
   "cell_type": "code",
   "execution_count": 3,
   "id": "10132d76",
   "metadata": {
    "execution": {
     "iopub.execute_input": "2024-04-22T14:43:45.535887Z",
     "iopub.status.busy": "2024-04-22T14:43:45.534682Z",
     "iopub.status.idle": "2024-04-22T14:43:46.511739Z",
     "shell.execute_reply": "2024-04-22T14:43:46.510246Z"
    },
    "papermill": {
     "duration": 0.989588,
     "end_time": "2024-04-22T14:43:46.515224",
     "exception": false,
     "start_time": "2024-04-22T14:43:45.525636",
     "status": "completed"
    },
    "tags": []
   },
   "outputs": [],
   "source": [
    "import os\n",
    "import sys\n",
    "import json\n",
    "import numpy as np\n",
    "import pandas as pd\n",
    "import seaborn as sns\n",
    "import matplotlib.pyplot as plt\n",
    "import torch\n",
    "import torch.nn as nn\n",
    "import torch.optim as optim\n",
    "import torch.nn.functional as F\n",
    "import dgl\n",
    "from dgl.nn import GatedGraphConv, GlobalAttentionPooling\n",
    "from dgl.dataloading import GraphDataLoader\n",
    "from sklearn.model_selection import train_test_split\n",
    "from sklearn.metrics import roc_auc_score, confusion_matrix, ConfusionMatrixDisplay\n",
    "from sklearn.metrics import precision_score, recall_score, f1_score, accuracy_score\n",
    "import optuna\n",
    "from optuna.pruners import MedianPruner\n",
    "from torch.cuda.amp import GradScaler, autocast"
   ]
  },
  {
   "cell_type": "markdown",
   "id": "a182ddb2",
   "metadata": {
    "papermill": {
     "duration": 0.003687,
     "end_time": "2024-04-22T14:43:46.523477",
     "exception": false,
     "start_time": "2024-04-22T14:43:46.519790",
     "status": "completed"
    },
    "tags": []
   },
   "source": [
    "## The GatedGraphConv Graph Neural Network Model\n"
   ]
  },
  {
   "cell_type": "code",
   "execution_count": 4,
   "id": "48149bfc",
   "metadata": {
    "execution": {
     "iopub.execute_input": "2024-04-22T14:43:46.533182Z",
     "iopub.status.busy": "2024-04-22T14:43:46.532690Z",
     "iopub.status.idle": "2024-04-22T14:43:46.540407Z",
     "shell.execute_reply": "2024-04-22T14:43:46.539521Z"
    },
    "papermill": {
     "duration": 0.015824,
     "end_time": "2024-04-22T14:43:46.542925",
     "exception": false,
     "start_time": "2024-04-22T14:43:46.527101",
     "status": "completed"
    },
    "tags": []
   },
   "outputs": [],
   "source": [
    "class GraphClsGGNN(nn.Module):\n",
    "    \"\"\"GGNN for graph classification.\"\"\"\n",
    "\n",
    "    def __init__(\n",
    "            self,\n",
    "            annotation_size,\n",
    "            hidden_dim,\n",
    "            n_steps,\n",
    "            n_etypes,\n",
    "            num_cls,\n",
    "            dropout_rate=0.5):\n",
    "        super(GraphClsGGNN, self).__init__()\n",
    "        self.dropout = nn.Dropout(dropout_rate)\n",
    "        self.ggnn1 = GatedGraphConv(\n",
    "            annotation_size, hidden_dim, n_steps, n_etypes)\n",
    "        self.ggnn2 = GatedGraphConv(hidden_dim, hidden_dim, n_steps, n_etypes)\n",
    "        self.pooling = GlobalAttentionPooling(nn.Linear(hidden_dim, 1))\n",
    "        self.fc = nn.Linear(hidden_dim, num_cls)\n",
    "\n",
    "    def forward(self, graph, feat):\n",
    "        h = F.relu(self.ggnn1(graph, feat))\n",
    "        h = self.dropout(h)\n",
    "        h = F.relu(self.ggnn2(graph, h))\n",
    "        hg = self.pooling(graph, h)\n",
    "        return self.fc(hg)\n",
    "\n",
    "    def reset_parameters(self):\n",
    "        for layer in self.children():\n",
    "            if hasattr(layer, 'reset_parameters'):\n",
    "                layer.reset_parameters()"
   ]
  },
  {
   "cell_type": "markdown",
   "id": "0a944d35",
   "metadata": {
    "papermill": {
     "duration": 0.006148,
     "end_time": "2024-04-22T14:43:46.555389",
     "exception": false,
     "start_time": "2024-04-22T14:43:46.549241",
     "status": "completed"
    },
    "tags": []
   },
   "source": [
    "## Early Stopping Mechanism\n"
   ]
  },
  {
   "cell_type": "code",
   "execution_count": 5,
   "id": "0ebec631",
   "metadata": {
    "execution": {
     "iopub.execute_input": "2024-04-22T14:43:46.800210Z",
     "iopub.status.busy": "2024-04-22T14:43:46.799934Z",
     "iopub.status.idle": "2024-04-22T14:43:46.809244Z",
     "shell.execute_reply": "2024-04-22T14:43:46.808311Z"
    },
    "papermill": {
     "duration": 0.229085,
     "end_time": "2024-04-22T14:43:46.811149",
     "exception": false,
     "start_time": "2024-04-22T14:43:46.582064",
     "status": "completed"
    },
    "tags": []
   },
   "outputs": [],
   "source": [
    "class EarlyStopping:\n",
    "    \"\"\"Early stops the training if neither validation loss nor validation \n",
    "    accuracy improves after their respective patience levels.\n",
    "    \n",
    "    Parameters\n",
    "    ----------\n",
    "    patience_loss : int\n",
    "        How long to wait after last time validation loss improved.\n",
    "    patience_accuracy : int\n",
    "        How long to wait after last time validation accuracy improved.\n",
    "    verbose : bool\n",
    "        If True, prints a message for each validation metric improvement.\n",
    "    delta_loss : float\n",
    "        Minimum change in the validation loss to qualify as an improvement.\n",
    "    delta_accuracy : float\n",
    "        Minimum change in the validation accuracy to qualify as an improvement.\n",
    "    path : str\n",
    "        The file path where the model will be saved.\n",
    "    print_freq : int\n",
    "        The frequency at which to print messages during training.\n",
    "    \"\"\"\n",
    "\n",
    "    def __init__(\n",
    "            self,\n",
    "            patience_loss=10,\n",
    "            patience_accuracy=10,\n",
    "            verbose=True,\n",
    "            delta_loss=0.001,\n",
    "            delta_accuracy=0.001,\n",
    "            path='checkpoint.pt',\n",
    "            print_freq=5):\n",
    "        self.patience_loss = patience_loss\n",
    "        self.patience_accuracy = patience_accuracy\n",
    "        self.verbose = verbose\n",
    "        self.counter_loss = 0\n",
    "        self.counter_accuracy = 0\n",
    "        self.best_loss = np.Inf\n",
    "        self.best_accuracy = 0\n",
    "        self.early_stop = False\n",
    "        self.delta_loss = delta_loss\n",
    "        self.delta_accuracy = delta_accuracy\n",
    "        self.path = path\n",
    "        self.best_epoch = 0\n",
    "        self.print_freq = print_freq\n",
    "        \n",
    "    def __call__(self, val_loss, val_accuracy, model, epoch):\n",
    "        improved_loss = False\n",
    "        improved_accuracy = False\n",
    "        \n",
    "        # Check improvement for loss\n",
    "        if val_loss < self.best_loss - self.delta_loss:\n",
    "            self.best_loss = val_loss\n",
    "            self.counter_loss = 0\n",
    "            improved_loss = True\n",
    "        else:\n",
    "            self.counter_loss += 1\n",
    "        \n",
    "        # Check improvement for accuracy\n",
    "        if val_accuracy > self.best_accuracy + self.delta_accuracy:\n",
    "            self.best_accuracy = val_accuracy\n",
    "            self.counter_accuracy = 0\n",
    "            improved_accuracy = True\n",
    "        else:\n",
    "            self.counter_accuracy += 1\n",
    "        \n",
    "        # Save checkpoint if either metric improved\n",
    "        if improved_loss or improved_accuracy:\n",
    "            self.save_checkpoint(val_loss, val_accuracy, model)\n",
    "            self.best_epoch = epoch\n",
    "        \n",
    "        if self.verbose and (improved_loss or improved_accuracy):\n",
    "            print(f\"Improvement at epoch {epoch}: Loss = {val_loss}, \"\n",
    "                f\"Accuracy = {val_accuracy}\")\n",
    "        \n",
    "        # Determine if early stopping is triggered\n",
    "        if self.counter_loss >= self.patience_loss and \\\n",
    "            self.counter_accuracy >= self.patience_accuracy:\n",
    "            self.early_stop = True\n",
    "            if self.verbose:\n",
    "                print(\"Early stopping triggered\")\n",
    "                \n",
    "    def save_checkpoint(self, val_loss, val_accuracy, model):\n",
    "        # Implement saving logic based on your requirements\n",
    "        torch.save(model.state_dict(), self.path)\n",
    "        if self.verbose:\n",
    "            print(f\"Checkpoint saved: Loss = {val_loss}, \"\n",
    "                  f\"Accuracy = {val_accuracy}\")\n",
    "\n"
   ]
  },
  {
   "cell_type": "markdown",
   "id": "b8c95fe6",
   "metadata": {
    "papermill": {
     "duration": 0.010356,
     "end_time": "2024-04-22T14:43:46.826090",
     "exception": false,
     "start_time": "2024-04-22T14:43:46.815734",
     "status": "completed"
    },
    "tags": []
   },
   "source": [
    "## The Collate Function for DataLoader\n"
   ]
  },
  {
   "cell_type": "code",
   "execution_count": 6,
   "id": "449d5754",
   "metadata": {
    "execution": {
     "iopub.execute_input": "2024-04-22T14:43:46.834977Z",
     "iopub.status.busy": "2024-04-22T14:43:46.834607Z",
     "iopub.status.idle": "2024-04-22T14:43:46.839263Z",
     "shell.execute_reply": "2024-04-22T14:43:46.838269Z"
    },
    "papermill": {
     "duration": 0.011272,
     "end_time": "2024-04-22T14:43:46.840981",
     "exception": false,
     "start_time": "2024-04-22T14:43:46.829709",
     "status": "completed"
    },
    "tags": []
   },
   "outputs": [],
   "source": [
    "def collate(samples):\n",
    "    \"\"\"\n",
    "    Function to collate samples into a batch for the GraphDataLoader.\n",
    "    \n",
    "    Parameters\n",
    "    ----------\n",
    "    samples : list\n",
    "        A list of tuples of the form (graph, label).\n",
    "    \"\"\"\n",
    "    graphs, labels = map(list, zip(*samples))\n",
    "    batched_graph = dgl.batch(graphs)\n",
    "    labels = torch.tensor(labels, dtype=torch.long)\n",
    "    return batched_graph, labels\n"
   ]
  },
  {
   "cell_type": "markdown",
   "id": "e773b8ec",
   "metadata": {
    "papermill": {
     "duration": 0.003588,
     "end_time": "2024-04-22T14:43:46.848216",
     "exception": false,
     "start_time": "2024-04-22T14:43:46.844628",
     "status": "completed"
    },
    "tags": []
   },
   "source": [
    "## Training and Evaluation Pipeline\n"
   ]
  },
  {
   "cell_type": "code",
   "execution_count": 7,
   "id": "97a1bf36",
   "metadata": {
    "execution": {
     "iopub.execute_input": "2024-04-22T14:43:46.856799Z",
     "iopub.status.busy": "2024-04-22T14:43:46.856529Z",
     "iopub.status.idle": "2024-04-22T14:43:46.876715Z",
     "shell.execute_reply": "2024-04-22T14:43:46.875352Z"
    },
    "papermill": {
     "duration": 0.027085,
     "end_time": "2024-04-22T14:43:46.878929",
     "exception": false,
     "start_time": "2024-04-22T14:43:46.851844",
     "status": "completed"
    },
    "tags": []
   },
   "outputs": [],
   "source": [
    "class TrainingPipeline:\n",
    "    def __init__(self, device):\n",
    "        self.device = device\n",
    "\n",
    "    def train_and_evaluate(\n",
    "            self,\n",
    "            model,\n",
    "            train_loader,\n",
    "            val_loader,\n",
    "            optimizer,\n",
    "            criterion,\n",
    "            early_stopping,\n",
    "            num_epochs,\n",
    "            plot_curves=False,\n",
    "            accumulation_steps=2):\n",
    "        train_losses, val_losses = [], []\n",
    "        scaler = GradScaler()  # Initialize the gradient scaler\n",
    "\n",
    "        for epoch in range(num_epochs):\n",
    "            model.train()\n",
    "            train_loss = 0.0\n",
    "            optimizer.zero_grad()  # Initialize gradients to zero\n",
    "\n",
    "            for batch_idx, (batched_graph, labels) in enumerate(train_loader):\n",
    "                batched_graph, labels = batched_graph.to(\n",
    "                    self.device), labels.to(self.device)\n",
    "\n",
    "                with autocast():  # Enable automatic mixed precision\n",
    "                    logits = model(\n",
    "                        batched_graph, batched_graph.ndata['h'].float())\n",
    "                    loss = criterion(logits, labels) / \\\n",
    "                        accumulation_steps  # Scale loss\n",
    "\n",
    "                # Scale the loss and call backward to propagate gradients\n",
    "                scaler.scale(loss).backward()\n",
    "                # Correct scaling for logging purposes\n",
    "                train_loss += loss.item() * accumulation_steps\n",
    "\n",
    "                if (batch_idx + 1) % accumulation_steps == 0 or \\\n",
    "                        batch_idx == len(train_loader) - 1:\n",
    "                    # Perform optimizer step using scaled gradients\n",
    "                    scaler.step(optimizer)\n",
    "                    scaler.update()  # Update the scaler for the next iteration\n",
    "                    optimizer.zero_grad()  # Initialize gradients to zero\n",
    "\n",
    "            train_loss /= len(train_loader)\n",
    "            train_losses.append(train_loss)\n",
    "\n",
    "            val_loss = 0.0\n",
    "            val_correct = 0\n",
    "            total = 0\n",
    "            if val_loader is not None:\n",
    "                model.eval()\n",
    "                with torch.no_grad():\n",
    "                    val_correct = 0\n",
    "                    total = 0\n",
    "                    for batched_graph, labels in val_loader:\n",
    "                        batched_graph, labels = batched_graph.to(\n",
    "                            self.device), labels.to(self.device)\n",
    "                        with autocast():  # Enable automatic mixed precision\n",
    "                            logits = model(\n",
    "                                batched_graph, batched_graph.ndata['h'].float()\n",
    "                            )\n",
    "                            loss = criterion(logits, labels)\n",
    "                        val_loss += loss.item()\n",
    "                        _, predicted = torch.max(logits.data, 1)\n",
    "                        total += labels.size(0)\n",
    "                        val_correct += (predicted == labels).sum().item()\n",
    "\n",
    "                    val_loss /= len(val_loader)\n",
    "                    val_losses.append(val_loss)\n",
    "                    val_accuracy = val_correct / total\n",
    "\n",
    "                    if early_stopping:\n",
    "                        early_stopping(val_loss, val_accuracy, model, epoch + 1)\n",
    "                        if early_stopping.early_stop:\n",
    "                            print(\n",
    "                                f\"Early stopping triggered\"\n",
    "                                f\"at epoch {epoch + 1}\")\n",
    "                            break\n",
    "\n",
    "                if (epoch + 1) % 5 == 0 or epoch == 0:\n",
    "                    print(\n",
    "                        f'Epoch {epoch + 1}/{num_epochs} - '\n",
    "                        f'Train Loss: {train_loss:.4f}, '\n",
    "                        f'Val Loss: {val_loss:.4f} '\n",
    "                        f'| Val accuracy: {100 * val_accuracy:.2f}%')\n",
    "\n",
    "        if plot_curves and val_loader is not None:\n",
    "            self.plot_loss_curves(train_losses, val_losses)\n",
    "\n",
    "    @staticmethod\n",
    "    def plot_loss_curves(train_losses, val_losses):\n",
    "        sns.set(style=\"whitegrid\")\n",
    "        plt.figure(figsize=(10, 6))\n",
    "        epochs = range(1, len(train_losses) + 1)\n",
    "        plt.plot(epochs, train_losses, label='Training Loss')\n",
    "        plt.plot(epochs, val_losses, label='Validation Loss')\n",
    "        plt.title('Training and Validation Loss of GatedGraphConv')\n",
    "        plt.xlabel('Epochs')\n",
    "        plt.ylabel('Loss')\n",
    "        plt.legend()\n",
    "        plt.savefig(f'loss_curves_GatedGraphConv_{RUN_NUMBER}.png', dpi=300)\n",
    "        plt.show()\n",
    "\n",
    "    def evaluate_on_test(self, model, test_loader, criterion, run_id):\n",
    "        model.eval()\n",
    "        test_loss = 0.0\n",
    "        all_preds = []\n",
    "        all_labels = []\n",
    "        with torch.no_grad():\n",
    "            for batched_graph, labels in test_loader:\n",
    "                batched_graph, labels = batched_graph.to(self.device), labels.to(self.device)\n",
    "                logits = model(batched_graph, batched_graph.ndata['h'].float())\n",
    "                loss = criterion(logits, labels)\n",
    "                test_loss += loss.item()\n",
    "                preds = torch.argmax(logits, dim=1)\n",
    "                all_preds.extend(preds.cpu().numpy())\n",
    "                all_labels.extend(labels.cpu().numpy())\n",
    "\n",
    "        test_loss /= len(test_loader)\n",
    "        accuracy = accuracy_score(all_labels, all_preds)\n",
    "        precision = precision_score(all_labels, all_preds)\n",
    "        recall = recall_score(all_labels, all_preds)\n",
    "        f1 = f1_score(all_labels, all_preds)\n",
    "        roc_auc = roc_auc_score(all_labels, all_preds)\n",
    "\n",
    "        # Calculate and save confusion matrix\n",
    "        cm = confusion_matrix(all_labels, all_preds)\n",
    "        disp = ConfusionMatrixDisplay(confusion_matrix=cm)\n",
    "        disp.plot()\n",
    "        plt.savefig(f'confusion_matrix_{run_id}.png', dpi=300)\n",
    "\n",
    "        # Append results to CSV including added metrics\n",
    "        results_df = pd.DataFrame({\n",
    "            'Run ID': [run_id],\n",
    "            'Test Loss': [test_loss],\n",
    "            'Accuracy': [accuracy],\n",
    "            'Precision': [precision],\n",
    "            'Recall': [recall],\n",
    "            'F1-Score': [f1],\n",
    "            'ROC-AUC': [roc_auc]\n",
    "        })\n",
    "        results_df.to_csv('test_results_GATv2Conv.csv', mode='a', index=False, \n",
    "                        header=not os.path.exists('test_results_GATv2Conv.csv'))\n",
    "\n",
    "        print(f\"Test Loss: {test_loss}\")\n",
    "        print(f\"Accuracy: {accuracy}, Precision: {precision}, Recall: {recall}, F1-Score: {f1}, ROC-AUC: {roc_auc}\")\n"
   ]
  },
  {
   "cell_type": "markdown",
   "id": "e0adc46a",
   "metadata": {
    "papermill": {
     "duration": 0.008704,
     "end_time": "2024-04-22T14:43:46.891282",
     "exception": false,
     "start_time": "2024-04-22T14:43:46.882578",
     "status": "completed"
    },
    "tags": []
   },
   "source": [
    "## Hyperparameter Optimization Using Optuna\n"
   ]
  },
  {
   "cell_type": "code",
   "execution_count": 8,
   "id": "c695cd7a",
   "metadata": {
    "execution": {
     "iopub.execute_input": "2024-04-22T14:43:46.900232Z",
     "iopub.status.busy": "2024-04-22T14:43:46.899772Z",
     "iopub.status.idle": "2024-04-22T14:43:46.916716Z",
     "shell.execute_reply": "2024-04-22T14:43:46.915568Z"
    },
    "papermill": {
     "duration": 0.023609,
     "end_time": "2024-04-22T14:43:46.918520",
     "exception": false,
     "start_time": "2024-04-22T14:43:46.894911",
     "status": "completed"
    },
    "tags": []
   },
   "outputs": [],
   "source": [
    "class HyperparameterOptimizer:\n",
    "    def __init__(\n",
    "            self,\n",
    "            device,\n",
    "            subset_train_graphs,\n",
    "            subset_train_labels,\n",
    "            subset_val_graphs,\n",
    "            subset_val_labels,\n",
    "            num_trials,\n",
    "            num_epochs):\n",
    "        self.device = device\n",
    "        self.subset_train_graphs = subset_train_graphs\n",
    "        self.subset_train_labels = subset_train_labels\n",
    "        self.subset_val_graphs = subset_val_graphs\n",
    "        self.subset_val_labels = subset_val_labels\n",
    "        self.num_trials = num_trials\n",
    "        self.num_epochs = num_epochs\n",
    "\n",
    "    def objective(self, trial):\n",
    "        # Suggest hyperparameters\n",
    "        n_steps = trial.suggest_int('n_steps', 1, 40)\n",
    "        hidden_dim = trial.suggest_int('hidden_dim', 74, 256)\n",
    "        lr = trial.suggest_float('lr', 1e-4, 1e-1, log=True)\n",
    "        batch_size = trial.suggest_categorical('batch_size', [64, 128, 256, 512])\n",
    "        dropout_rate = trial.suggest_float('dropout_rate', 0.0, 0.5)\n",
    "\n",
    "        # Create the model, optimizer, and loaders\n",
    "        model = GraphClsGGNN(\n",
    "            annotation_size=74,\n",
    "            hidden_dim=hidden_dim,\n",
    "            n_steps=n_steps,\n",
    "            n_etypes=1,\n",
    "            num_cls=2,\n",
    "            dropout_rate=dropout_rate).to(\n",
    "            self.device)\n",
    "        optimizer = optim.Adam(model.parameters(), lr=lr)\n",
    "        criterion = nn.CrossEntropyLoss()\n",
    "\n",
    "        train_loader = GraphDataLoader(\n",
    "            list(\n",
    "                zip(\n",
    "                    self.subset_train_graphs,\n",
    "                    self.subset_train_labels)),\n",
    "            batch_size=batch_size,\n",
    "            shuffle=True,\n",
    "            collate_fn=collate,\n",
    "            num_workers=8)\n",
    "        val_loader = GraphDataLoader(\n",
    "            list(\n",
    "                zip(\n",
    "                    self.subset_val_graphs,\n",
    "                    self.subset_val_labels)),\n",
    "            batch_size=batch_size,\n",
    "            shuffle=False,\n",
    "            collate_fn=collate,\n",
    "            num_workers=8)\n",
    "\n",
    "        # Training loop with pruning\n",
    "        model.train()\n",
    "        for epoch in range(self.num_epochs):\n",
    "            model.train()  # Ensure the model is in training mode\n",
    "            for batched_graph, labels in train_loader:\n",
    "                batched_graph, labels = batched_graph.to(self.device), labels.to(self.device)\n",
    "                optimizer.zero_grad()\n",
    "                logits = model(batched_graph, batched_graph.ndata['h'].float())\n",
    "                loss = criterion(logits, labels)\n",
    "                loss.backward()\n",
    "                optimizer.step()\n",
    "\n",
    "            model.eval()  # Switch to evaluation mode for validation\n",
    "            val_loss = 0.0\n",
    "            with torch.no_grad():\n",
    "                for batched_graph, labels in val_loader:\n",
    "                    batched_graph, labels = batched_graph.to(self.device), labels.to(self.device)\n",
    "                    logits = model(batched_graph, batched_graph.ndata['h'].float())\n",
    "                    loss = criterion(logits, labels)\n",
    "                    val_loss += loss.item()\n",
    "\n",
    "            val_loss /= len(val_loader)\n",
    "            trial.report(val_loss, epoch)\n",
    "\n",
    "            if trial.should_prune():\n",
    "                raise optuna.TrialPruned()\n",
    "\n",
    "        return val_loss\n",
    "\n",
    "    def optimize(self):\n",
    "        \"\"\"Run the hyperparameter optimization.\"\"\"\n",
    "        study = optuna.create_study(direction='minimize', pruner=MedianPruner())\n",
    "        study.optimize(self.objective, n_trials=self.num_trials)\n",
    "\n",
    "        best_hyperparams = study.best_trial.params\n",
    "        with open(f'best_hyperparams_GatedGraphConv_{RUN_NUMBER}.json', 'w') as f:\n",
    "            json.dump(best_hyperparams, f)\n",
    "        print(f\"Best hyperparameters are {best_hyperparams}.\")\n",
    "        print(\"Best hyperparameters saved.\")"
   ]
  },
  {
   "cell_type": "markdown",
   "id": "15ad686f",
   "metadata": {
    "papermill": {
     "duration": 0.003562,
     "end_time": "2024-04-22T14:43:46.926004",
     "exception": false,
     "start_time": "2024-04-22T14:43:46.922442",
     "status": "completed"
    },
    "tags": []
   },
   "source": [
    "## Main Training Loop\n"
   ]
  },
  {
   "cell_type": "code",
   "execution_count": 9,
   "id": "772e00bd",
   "metadata": {
    "execution": {
     "iopub.execute_input": "2024-04-22T14:43:47.057681Z",
     "iopub.status.busy": "2024-04-22T14:43:47.057163Z",
     "iopub.status.idle": "2024-04-22T14:43:47.228590Z",
     "shell.execute_reply": "2024-04-22T14:43:47.226898Z"
    },
    "papermill": {
     "duration": 0.26249,
     "end_time": "2024-04-22T14:43:47.231691",
     "exception": false,
     "start_time": "2024-04-22T14:43:46.969201",
     "status": "completed"
    },
    "tags": []
   },
   "outputs": [],
   "source": [
    "device = torch.device(\"cuda\" if torch.cuda.is_available() else \"cpu\")\n"
   ]
  },
  {
   "cell_type": "code",
   "execution_count": 10,
   "id": "ce58e793",
   "metadata": {
    "execution": {
     "iopub.execute_input": "2024-04-22T14:43:47.246073Z",
     "iopub.status.busy": "2024-04-22T14:43:47.245753Z",
     "iopub.status.idle": "2024-04-22T14:43:59.516036Z",
     "shell.execute_reply": "2024-04-22T14:43:59.514027Z"
    },
    "papermill": {
     "duration": 12.28129,
     "end_time": "2024-04-22T14:43:59.519238",
     "exception": false,
     "start_time": "2024-04-22T14:43:47.237948",
     "status": "completed"
    },
    "tags": []
   },
   "outputs": [
    {
     "name": "stdout",
     "output_type": "stream",
     "text": [
      "Starting the project...\n",
      "\n",
      "Starting data loading...\n",
      "Train: 49548, Validation: 12388, Test: 15484, \n",
      "Subset Train: 9909, Subset Val: 2477\n",
      "\n",
      "Completed data loading.\n",
      "\n"
     ]
    }
   ],
   "source": [
    "# Load data and prepare for training\n",
    "graphs, labels_dict = dgl.load_graphs(\"../../data_mvi/graphs.bin\")\n",
    "\n",
    "# Directly extract labels tensor from labels_dict\n",
    "labels_tensor = labels_dict['labels']\n",
    "labels_tensor = labels_tensor.squeeze()\n",
    "\n",
    "# Convert tensor to numpy array for compatibility with sklearn\n",
    "labels_numpy = labels_tensor.numpy()\n",
    "\n",
    "# Split dataset train, test\n",
    "train_indices, test_indices, train_labels, test_labels = train_test_split(\n",
    "    range(labels_dict['labels'].size(0)), labels_numpy, test_size=0.2, stratify=labels_numpy,\n",
    "    random_state=RANDOM_STATE)\n",
    "\n",
    "# Split dataset train, validation\n",
    "train_indices, val_indices, train_labels, val_labels = train_test_split(\n",
    "    train_indices, train_labels, test_size=0.2, stratify=train_labels,\n",
    "    random_state=RANDOM_STATE)\n",
    "\n",
    "train_graphs = [graphs[i] for i in train_indices]\n",
    "test_graphs = [graphs[i] for i in test_indices]\n",
    "val_graphs = [graphs[i] for i in val_indices]\n",
    "\n",
    "subset_train_indices = np.random.choice(\n",
    "    len(train_graphs), size=int(len(train_graphs) * 0.2), replace=False)\n",
    "subset_train_graphs = [train_graphs[i] for i in subset_train_indices]\n",
    "subset_train_labels = train_labels[subset_train_indices]\n",
    "\n",
    "subset_val_indices = np.random.choice(\n",
    "    len(val_graphs), size=int(len(val_graphs) * 0.2), replace=False)\n",
    "subset_val_graphs = [val_graphs[i] for i in subset_val_indices]\n",
    "subset_val_labels = val_labels[subset_val_indices]\n",
    "\n",
    "# Combine train and validation graphs and labels for retraining\n",
    "combined_train_graphs = train_graphs + val_graphs\n",
    "combined_train_labels = np.concatenate((train_labels, val_labels))\n",
    "\n",
    "# annouce the start of the project\n",
    "print(\"Starting the project...\")\n",
    "print(\"\")\n",
    "\n",
    "# annouce the start of the data loading\n",
    "print(\"Starting data loading...\")\n",
    "print(\n",
    "    f'Train: {len(train_graphs)}, Validation: {len(val_graphs)}, '\n",
    "    f'Test: {len(test_graphs)}, \\nSubset Train: {len(subset_train_graphs)}, '\n",
    "    f'Subset Val: {len(subset_val_graphs)}'\n",
    ")\n",
    "print(\"\")\n",
    "print(\"Completed data loading.\")\n",
    "print(\"\")\n",
    "sys.stdout.flush()  # Force flushing of the buffer\n"
   ]
  },
  {
   "cell_type": "markdown",
   "id": "21877b95",
   "metadata": {
    "papermill": {
     "duration": 0.006232,
     "end_time": "2024-04-22T14:43:59.532842",
     "exception": false,
     "start_time": "2024-04-22T14:43:59.526610",
     "status": "completed"
    },
    "tags": []
   },
   "source": [
    "## Perform Hyperparameter Optimization\n"
   ]
  },
  {
   "cell_type": "code",
   "execution_count": 11,
   "id": "9aa21f3d",
   "metadata": {
    "execution": {
     "iopub.execute_input": "2024-04-22T14:43:59.547239Z",
     "iopub.status.busy": "2024-04-22T14:43:59.546951Z",
     "iopub.status.idle": "2024-04-22T15:24:53.521755Z",
     "shell.execute_reply": "2024-04-22T15:24:53.520738Z"
    },
    "papermill": {
     "duration": 2453.985047,
     "end_time": "2024-04-22T15:24:53.524138",
     "exception": false,
     "start_time": "2024-04-22T14:43:59.539091",
     "status": "completed"
    },
    "tags": []
   },
   "outputs": [
    {
     "name": "stdout",
     "output_type": "stream",
     "text": [
      "Starting hyperparameter optimization...\n"
     ]
    },
    {
     "name": "stderr",
     "output_type": "stream",
     "text": [
      "[I 2024-04-22 14:43:59,551] A new study created in memory with name: no-name-bd47bf6c-e696-493f-ab3c-aa0a4acaa504\n"
     ]
    },
    {
     "name": "stdout",
     "output_type": "stream",
     "text": [
      "\n"
     ]
    },
    {
     "name": "stderr",
     "output_type": "stream",
     "text": [
      "[I 2024-04-22 14:48:39,703] Trial 0 finished with value: 0.4421516343569144 and parameters: {'n_steps': 16, 'hidden_dim': 122, 'lr': 0.0006601546162372069, 'batch_size': 64, 'dropout_rate': 0.20879552958548775}. Best is trial 0 with value: 0.4421516343569144.\n"
     ]
    },
    {
     "name": "stderr",
     "output_type": "stream",
     "text": [
      "[I 2024-04-22 14:50:57,495] Trial 1 finished with value: 0.644557797908783 and parameters: {'n_steps': 11, 'hidden_dim': 109, 'lr': 0.05799080839405765, 'batch_size': 128, 'dropout_rate': 0.10692731199835315}. Best is trial 0 with value: 0.4421516343569144.\n"
     ]
    },
    {
     "name": "stderr",
     "output_type": "stream",
     "text": [
      "[I 2024-04-22 14:55:13,580] Trial 2 finished with value: 0.6838400900363922 and parameters: {'n_steps': 16, 'hidden_dim': 164, 'lr': 0.0021480825432186276, 'batch_size': 128, 'dropout_rate': 0.3665097158539671}. Best is trial 0 with value: 0.4421516343569144.\n"
     ]
    },
    {
     "name": "stderr",
     "output_type": "stream",
     "text": [
      "[I 2024-04-22 15:00:17,352] Trial 3 finished with value: 0.4179086431860924 and parameters: {'n_steps': 11, 'hidden_dim': 224, 'lr': 0.00019175514460359607, 'batch_size': 128, 'dropout_rate': 0.29519548351407987}. Best is trial 3 with value: 0.4179086431860924.\n"
     ]
    },
    {
     "name": "stderr",
     "output_type": "stream",
     "text": [
      "[I 2024-04-22 15:13:06,040] Trial 4 finished with value: 0.4986129662929437 and parameters: {'n_steps': 25, 'hidden_dim': 252, 'lr': 0.0004096546088041834, 'batch_size': 64, 'dropout_rate': 0.3721881786496778}. Best is trial 3 with value: 0.4179086431860924.\n"
     ]
    },
    {
     "name": "stderr",
     "output_type": "stream",
     "text": [
      "[I 2024-04-22 15:14:03,782] Trial 5 pruned. \n"
     ]
    },
    {
     "name": "stderr",
     "output_type": "stream",
     "text": [
      "[I 2024-04-22 15:14:21,179] Trial 6 pruned. \n"
     ]
    },
    {
     "name": "stderr",
     "output_type": "stream",
     "text": [
      "[I 2024-04-22 15:14:27,015] Trial 7 pruned. \n"
     ]
    },
    {
     "name": "stderr",
     "output_type": "stream",
     "text": [
      "[I 2024-04-22 15:14:37,029] Trial 8 pruned. \n"
     ]
    },
    {
     "name": "stderr",
     "output_type": "stream",
     "text": [
      "[I 2024-04-22 15:14:44,340] Trial 9 pruned. \n"
     ]
    },
    {
     "name": "stderr",
     "output_type": "stream",
     "text": [
      "[I 2024-04-22 15:16:09,331] Trial 10 finished with value: 0.4487821847200394 and parameters: {'n_steps': 1, 'hidden_dim': 197, 'lr': 0.00015258147935801335, 'batch_size': 128, 'dropout_rate': 0.4459818851525163}. Best is trial 3 with value: 0.4179086431860924.\n"
     ]
    },
    {
     "name": "stderr",
     "output_type": "stream",
     "text": [
      "[I 2024-04-22 15:17:45,645] Trial 11 finished with value: 0.4301591604948044 and parameters: {'n_steps': 6, 'hidden_dim': 144, 'lr': 0.000799528960031082, 'batch_size': 256, 'dropout_rate': 0.16107290569528276}. Best is trial 3 with value: 0.4179086431860924.\n"
     ]
    },
    {
     "name": "stderr",
     "output_type": "stream",
     "text": [
      "[I 2024-04-22 15:17:48,184] Trial 12 pruned. \n"
     ]
    },
    {
     "name": "stderr",
     "output_type": "stream",
     "text": [
      "[I 2024-04-22 15:17:53,107] Trial 13 pruned. \n"
     ]
    },
    {
     "name": "stderr",
     "output_type": "stream",
     "text": [
      "[I 2024-04-22 15:19:50,449] Trial 14 finished with value: 0.3944899156689644 and parameters: {'n_steps': 6, 'hidden_dim': 147, 'lr': 0.0003063934214435144, 'batch_size': 128, 'dropout_rate': 0.2561582826816979}. Best is trial 14 with value: 0.3944899156689644.\n"
     ]
    },
    {
     "name": "stderr",
     "output_type": "stream",
     "text": [
      "[I 2024-04-22 15:19:56,832] Trial 15 pruned. \n"
     ]
    },
    {
     "name": "stderr",
     "output_type": "stream",
     "text": [
      "[I 2024-04-22 15:20:15,831] Trial 16 pruned. \n"
     ]
    },
    {
     "name": "stderr",
     "output_type": "stream",
     "text": [
      "[I 2024-04-22 15:22:49,109] Trial 17 finished with value: 0.42452431172132493 and parameters: {'n_steps': 10, 'hidden_dim': 132, 'lr': 0.00010690901761604894, 'batch_size': 128, 'dropout_rate': 0.3870189238946681}. Best is trial 14 with value: 0.3944899156689644.\n"
     ]
    },
    {
     "name": "stderr",
     "output_type": "stream",
     "text": [
      "[I 2024-04-22 15:24:37,315] Trial 18 finished with value: 0.39065918922424314 and parameters: {'n_steps': 4, 'hidden_dim': 178, 'lr': 0.0003414381765849006, 'batch_size': 128, 'dropout_rate': 0.29714787766751105}. Best is trial 18 with value: 0.39065918922424314.\n"
     ]
    },
    {
     "name": "stderr",
     "output_type": "stream",
     "text": [
      "[I 2024-04-22 15:24:53,515] Trial 19 pruned. \n"
     ]
    },
    {
     "name": "stdout",
     "output_type": "stream",
     "text": [
      "Best hyperparameters are {'n_steps': 4, 'hidden_dim': 178, 'lr': 0.0003414381765849006, 'batch_size': 128, 'dropout_rate': 0.29714787766751105}.\n",
      "Best hyperparameters saved.\n",
      "Completed hyperparameter optimization.\n"
     ]
    },
    {
     "name": "stdout",
     "output_type": "stream",
     "text": [
      "\n"
     ]
    }
   ],
   "source": [
    "print(\"Starting hyperparameter optimization...\")\n",
    "sys.stdout.flush()\n",
    "print(\"\")\n",
    "\n",
    "# Specify the number of trials and epochs for hyperparameter optimization\n",
    "optimizer = HyperparameterOptimizer(\n",
    "    device,\n",
    "    subset_train_graphs,\n",
    "    subset_train_labels,\n",
    "    subset_val_graphs,\n",
    "    subset_val_labels,\n",
    "    num_trials=20,\n",
    "    num_epochs=30)\n",
    "optimizer.optimize()\n",
    "print(\"Completed hyperparameter optimization.\")\n",
    "sys.stdout.flush()\n",
    "\n",
    "print(\"\")"
   ]
  },
  {
   "cell_type": "code",
   "execution_count": 11,
   "id": "43480b16",
   "metadata": {
    "execution": {
     "iopub.execute_input": "2024-04-22T15:24:53.535721Z",
     "iopub.status.busy": "2024-04-22T15:24:53.535427Z",
     "iopub.status.idle": "2024-04-22T15:24:54.203888Z",
     "shell.execute_reply": "2024-04-22T15:24:54.202003Z"
    },
    "papermill": {
     "duration": 0.677049,
     "end_time": "2024-04-22T15:24:54.206395",
     "exception": false,
     "start_time": "2024-04-22T15:24:53.529346",
     "status": "completed"
    },
    "tags": []
   },
   "outputs": [
    {
     "name": "stdout",
     "output_type": "stream",
     "text": [
      "Data loaders created.\n"
     ]
    }
   ],
   "source": [
    "with open(f'best_hyperparams_GatedGraphConv_{RUN_NUMBER}.json', 'r') as f:\n",
    "    best_hyperparams = json.load(f)\n",
    "\n",
    "# Correcting the use of best_hyperparams by\n",
    "train_loader = GraphDataLoader(list(zip(train_graphs,\n",
    "                                        train_labels)),\n",
    "                                batch_size=best_hyperparams['batch_size'],\n",
    "                                shuffle=True,\n",
    "                                collate_fn=collate,\n",
    "                                num_workers=8)\n",
    "val_loader = GraphDataLoader(list(zip(val_graphs,\n",
    "                                        val_labels)),\n",
    "                                batch_size=best_hyperparams['batch_size'],\n",
    "                                shuffle=False,\n",
    "                                collate_fn=collate,\n",
    "                                num_workers=8)\n",
    "test_loader = GraphDataLoader(list(zip(test_graphs,\n",
    "                                        test_labels)),\n",
    "                                batch_size=best_hyperparams['batch_size'],\n",
    "                                shuffle=False,\n",
    "                                collate_fn=collate,\n",
    "                                num_workers=8)\n",
    "combined_train_loader = GraphDataLoader(\n",
    "    list(\n",
    "        zip(\n",
    "            combined_train_graphs,\n",
    "            combined_train_labels)),\n",
    "    batch_size=best_hyperparams['batch_size'],\n",
    "    shuffle=True,\n",
    "    collate_fn=collate,\n",
    "    num_workers=8)\n",
    "print(\"Data loaders created.\")"
   ]
  },
  {
   "cell_type": "code",
   "execution_count": 12,
   "id": "bb3a5adc",
   "metadata": {
    "execution": {
     "iopub.execute_input": "2024-04-22T15:24:54.219655Z",
     "iopub.status.busy": "2024-04-22T15:24:54.219367Z",
     "iopub.status.idle": "2024-04-22T15:25:07.468020Z",
     "shell.execute_reply": "2024-04-22T15:25:07.466016Z"
    },
    "papermill": {
     "duration": 13.259859,
     "end_time": "2024-04-22T15:25:07.471413",
     "exception": true,
     "start_time": "2024-04-22T15:24:54.211554",
     "status": "failed"
    },
    "tags": []
   },
   "outputs": [
    {
     "name": "stdout",
     "output_type": "stream",
     "text": [
      "Retraining with best hyperparameters...\n",
      "\n",
      "Epoch 1/300 - Train Loss: 0.5609, Val Loss: 0.5210 | Val accuracy: 74.47%\n",
      "Epoch 5/300 - Train Loss: 0.4125, Val Loss: 0.3958 | Val accuracy: 82.18%\n",
      "Epoch 10/300 - Train Loss: 0.3607, Val Loss: 0.3477 | Val accuracy: 84.76%\n",
      "Epoch 15/300 - Train Loss: 0.3239, Val Loss: 0.3328 | Val accuracy: 85.20%\n",
      "Epoch 20/300 - Train Loss: 0.3016, Val Loss: 0.3112 | Val accuracy: 86.37%\n",
      "Epoch 25/300 - Train Loss: 0.2842, Val Loss: 0.3044 | Val accuracy: 86.55%\n",
      "Epoch 30/300 - Train Loss: 0.2696, Val Loss: 0.2982 | Val accuracy: 87.59%\n",
      "Epoch 35/300 - Train Loss: 0.2553, Val Loss: 0.2968 | Val accuracy: 87.12%\n",
      "Epoch 40/300 - Train Loss: 0.2437, Val Loss: 0.2861 | Val accuracy: 87.64%\n",
      "Epoch 45/300 - Train Loss: 0.2358, Val Loss: 0.2910 | Val accuracy: 87.58%\n",
      "Epoch 50/300 - Train Loss: 0.2271, Val Loss: 0.2792 | Val accuracy: 88.08%\n",
      "Epoch 55/300 - Train Loss: 0.2214, Val Loss: 0.2818 | Val accuracy: 88.25%\n",
      "Early stopping triggeredat epoch 56\n"
     ]
    },
    {
     "data": {
      "image/png": "[encoded data removed]",
      "text/plain": [
       "<Figure size 1000x600 with 1 Axes>"
      ]
     },
     "metadata": {},
     "output_type": "display_data"
    },
    {
     "name": "stdout",
     "output_type": "stream",
     "text": [
      "Completed training.\n",
      "\n"
     ]
    }
   ],
   "source": [
    "print(\"Retraining with best hyperparameters...\")\n",
    "model = GraphClsGGNN(\n",
    "    annotation_size=74,\n",
    "    hidden_dim=best_hyperparams['hidden_dim'],\n",
    "    n_steps=best_hyperparams['n_steps'],\n",
    "    n_etypes=1,\n",
    "    num_cls=2,\n",
    "    dropout_rate=best_hyperparams['dropout_rate']).to(device)\n",
    "print(\"\")\n",
    "\n",
    "# Reset model parameters before retraining\n",
    "model.reset_parameters()\n",
    "\n",
    "optimizer = optim.Adam(model.parameters(), lr=best_hyperparams['lr'])\n",
    "criterion = nn.CrossEntropyLoss()\n",
    "\n",
    "early_stopping = EarlyStopping(patience_loss=10, patience_accuracy=10, \n",
    "                               verbose=False, delta_loss=0.001, \n",
    "                               delta_accuracy=0.001, path='checkpoint.pt', \n",
    "                               print_freq=5)\n",
    "\n",
    "training_pipeline = TrainingPipeline(device)\n",
    "training_pipeline.train_and_evaluate(\n",
    "    model,\n",
    "    train_loader,\n",
    "    val_loader,\n",
    "    optimizer,\n",
    "    criterion,\n",
    "    early_stopping,\n",
    "    300,\n",
    "    plot_curves=True)\n",
    "optimal_epoch = early_stopping.best_epoch\n",
    "\n",
    "\n",
    "print(\"Completed training.\")\n",
    "print(\"\")"
   ]
  },
  {
   "cell_type": "markdown",
   "id": "04e64e4f",
   "metadata": {
    "papermill": {
     "duration": null,
     "end_time": null,
     "exception": null,
     "start_time": null,
     "status": "pending"
    },
    "tags": []
   },
   "source": [
    "## Train Model with Best Hyperparameters on whole train set\n"
   ]
  },
  {
   "cell_type": "code",
   "execution_count": 13,
   "id": "6a7a8e5d",
   "metadata": {
    "papermill": {
     "duration": null,
     "end_time": null,
     "exception": null,
     "start_time": null,
     "status": "pending"
    },
    "tags": []
   },
   "outputs": [],
   "source": [
    "# Before final training on the combined train and val dataset, reset the\n",
    "# model again\n",
    "model.reset_parameters()"
   ]
  },
  {
   "cell_type": "code",
   "execution_count": 14,
   "id": "315ee09b",
   "metadata": {
    "papermill": {
     "duration": null,
     "end_time": null,
     "exception": null,
     "start_time": null,
     "status": "pending"
    },
    "tags": []
   },
   "outputs": [
    {
     "name": "stdout",
     "output_type": "stream",
     "text": [
      "Final training on the combined train and val dataset...\n",
      "Completed training.\n",
      "\n"
     ]
    }
   ],
   "source": [
    "# 3. Final training on the combined train and val dataset\n",
    "print(\"Final training on the combined train and val dataset...\")\n",
    "\n",
    "optimizer = optim.Adam(model.parameters(), lr=best_hyperparams['lr'])\n",
    "criterion = nn.CrossEntropyLoss()\n",
    "\n",
    "training_pipeline.train_and_evaluate(\n",
    "    model,\n",
    "    combined_train_loader,\n",
    "    None,\n",
    "    optimizer,\n",
    "    criterion,\n",
    "    None,\n",
    "    optimal_epoch,\n",
    "    plot_curves=False)\n",
    "\n",
    "# save the model\n",
    "torch.save(model.state_dict(), f'gatedgraph_model_run_{RUN_NUMBER}.pt')\n",
    "\n",
    "print(\"Completed training.\")\n",
    "print(\"\")"
   ]
  },
  {
   "cell_type": "markdown",
   "id": "5f83f331",
   "metadata": {
    "papermill": {
     "duration": null,
     "end_time": null,
     "exception": null,
     "start_time": null,
     "status": "pending"
    },
    "tags": []
   },
   "source": [
    "## Evaluate the Model\n",
    "\n"
   ]
  },
  {
   "cell_type": "code",
   "execution_count": 15,
   "id": "44f8054c",
   "metadata": {
    "papermill": {
     "duration": null,
     "end_time": null,
     "exception": null,
     "start_time": null,
     "status": "pending"
    },
    "tags": []
   },
   "outputs": [
    {
     "name": "stdout",
     "output_type": "stream",
     "text": [
      "Evaluating on the test set...\n",
      "Test Loss: 0.28574425942641646\n",
      "Accuracy: 0.878713510720744, Precision: 0.8544487427466151, Recall: 0.9129423921467321, F1-Score: 0.882727613338329, ROC-AUC: 0.878713510720744\n"
     ]
    },
    {
     "data": {
      "image/png": "[encoded data removed]",
      "text/plain": [
       "<Figure size 640x480 with 2 Axes>"
      ]
     },
     "metadata": {},
     "output_type": "display_data"
    }
   ],
   "source": [
    "# Evaluation on the test set\n",
    "print(\"Evaluating on the test set...\")\n",
    "training_pipeline.evaluate_on_test(model, test_loader, criterion, RUN_NUMBER)"
   ]
  }
 ],
 "metadata": {
  "kernelspec": {
   "display_name": "gnn",
   "language": "python",
   "name": "python3"
  },
  "language_info": {
   "codemirror_mode": {
    "name": "ipython",
    "version": 3
   },
   "file_extension": ".py",
   "mimetype": "text/x-python",
   "name": "python",
   "nbconvert_exporter": "python",
   "pygments_lexer": "ipython3",
   "version": "3.8.18"
  },
  "papermill": {
   "default_parameters": {},
   "duration": 2488.943924,
   "end_time": "2024-04-22T15:25:10.719335",
   "environment_variables": {},
   "exception": true,
   "input_path": "/home/xfulop/mvi/diploma_project_gnn/gatedgraphconv/gatedgraphconv_cls_run_4.ipynb",
   "output_path": "/home/xfulop/mvi/diploma_project_gnn/gatedgraphconv/gatedgraphconv_cls_run_4.ipynb",
   "parameters": {},
   "start_time": "2024-04-22T14:43:41.775411",
   "version": "2.4.0"
  }
 },
 "nbformat": 4,
 "nbformat_minor": 5
}
