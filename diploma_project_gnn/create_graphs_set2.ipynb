{
 "cells": [
  {
   "cell_type": "markdown",
   "id": "a1d2d424",
   "metadata": {},
   "source": [
    "Part 1: Import libraries and load data"
   ]
  },
  {
   "cell_type": "code",
   "execution_count": 1,
   "id": "641de5ad",
   "metadata": {},
   "outputs": [
    {
     "name": "stdout",
     "output_type": "stream",
     "text": [
      "(3952, 6) (3952, 6) (3952, 6)\n",
      "label\n",
      "0    1976\n",
      "1    1976\n",
      "Name: count, dtype: int64 label\n",
      "0    1976\n",
      "1    1976\n",
      "Name: count, dtype: int64 label\n",
      "1    1976\n",
      "0    1976\n",
      "Name: count, dtype: int64\n",
      "Index(['mol', 'source', 'smiles', 'ecfp6', 'bit_info_map', 'label'], dtype='object')\n"
     ]
    }
   ],
   "source": [
    "# %%\n",
    "# Import libraries\n",
    "import pandas as pd\n",
    "from rdkit import Chem\n",
    "import os\n",
    "import dgl\n",
    "from dgl.data.utils import save_graphs, load_graphs\n",
    "import torch\n",
    "from dgllife.utils import CanonicalAtomFeaturizer, CanonicalBondFeaturizer\n",
    "from dgllife.utils import mol_to_bigraph\n",
    "\n",
    "# %%\n",
    "# Load data\n",
    "data_model1 = pd.read_pickle('../data_mvi/ml_datasets_set2/model1_rna_bin_non_rna_bin/data.pkl')\n",
    "data_model2 = pd.read_pickle('../data_mvi/ml_datasets_set2/model2_rna_bin_protein_bin/data.pkl')\n",
    "data_model3 = pd.read_pickle('../data_mvi/ml_datasets_set2/model3_binders_nonbinders/data.pkl')\n",
    "\n",
    "# %%\n",
    "# Show shapes and label value counts\n",
    "print(data_model1.shape, data_model2.shape, data_model3.shape)\n",
    "print(data_model1['label'].value_counts(), data_model2['label'].value_counts(), data_model3['label'].value_counts())\n",
    "\n",
    "# %%\n",
    "# Show columns\n",
    "print(data_model1.columns)\n"
   ]
  },
  {
   "cell_type": "markdown",
   "id": "38db5ecf",
   "metadata": {},
   "source": [
    "Part 2: Define utility functions"
   ]
  },
  {
   "cell_type": "code",
   "execution_count": 2,
   "id": "28aca96c",
   "metadata": {},
   "outputs": [],
   "source": [
    "# %%\n",
    "# Define utility functions\n",
    "def check_mol_consistency(data):\n",
    "    for idx, row in data.iterrows():\n",
    "        smiles = row['smiles']\n",
    "        mol = row['mol']\n",
    "        if mol is None or mol.GetNumAtoms() == 0:\n",
    "            print(f\"Invalid Mol object at index {idx}: {smiles}\")\n",
    "            continue\n",
    "\n",
    "        mol_from_smiles = Chem.MolFromSmiles(smiles)\n",
    "        if mol_from_smiles is None:\n",
    "            print(f\"Invalid SMILES string at index {idx}: {smiles}\")\n",
    "            continue\n",
    "\n",
    "def repair_and_balance_mol_objects(df):\n",
    "    invalid_mols = []\n",
    "    labels_to_remove = []\n",
    "\n",
    "    for idx, row in df.iterrows():\n",
    "        smiles = row['smiles']\n",
    "        mol = row['mol']\n",
    "        label = row['label']\n",
    "\n",
    "        if mol is None or mol.GetNumAtoms() == 0:\n",
    "            print(f\"Removing row at index {idx}: {smiles}\")\n",
    "            invalid_mols.append(idx)\n",
    "\n",
    "            if label == 0:\n",
    "                labels_to_remove.append(1)\n",
    "\n",
    "    # Remove rows with invalid mol objects\n",
    "    df.drop(invalid_mols, inplace=True)\n",
    "\n",
    "    # Balance the dataset by removing rows with label 1\n",
    "    if labels_to_remove:\n",
    "        df_label_1 = df[df['label'] == 1]\n",
    "        remove_indices = df_label_1.sample(len(labels_to_remove)).index\n",
    "        df.drop(remove_indices, inplace=True)\n",
    "\n",
    "    return df\n"
   ]
  },
  {
   "cell_type": "markdown",
   "id": "25618873",
   "metadata": {},
   "source": [
    "Part 3: Repair and balance datasets"
   ]
  },
  {
   "cell_type": "code",
   "execution_count": 3,
   "id": "9b4ee838",
   "metadata": {},
   "outputs": [
    {
     "name": "stdout",
     "output_type": "stream",
     "text": [
      "Removing row at index 2181: \n",
      "Removing row at index 3868: \n"
     ]
    }
   ],
   "source": [
    "# %%\n",
    "# Repair and balance datasets\n",
    "data_model1 = repair_and_balance_mol_objects(data_model1)\n",
    "data_model2 = repair_and_balance_mol_objects(data_model2)\n",
    "data_model3 = repair_and_balance_mol_objects(data_model3)\n"
   ]
  },
  {
   "cell_type": "markdown",
   "id": "efcc2946",
   "metadata": {},
   "source": [
    "Part 4: Define data processing functions"
   ]
  },
  {
   "cell_type": "code",
   "execution_count": 4,
   "id": "93cf36ed",
   "metadata": {},
   "outputs": [],
   "source": [
    "# %%\n",
    "# Define data processing functions\n",
    "def process_dataset(data, output_folder):\n",
    "    data = repair_and_balance_mol_objects(data)\n",
    "    check_mol_consistency(data)\n",
    "\n",
    "    data.reset_index(drop=True, inplace=True)\n",
    "    data = data.sample(frac=1).reset_index(drop=True)\n",
    "\n",
    "    disconnected_mols = []\n",
    "\n",
    "    for idx, row in data.iterrows():\n",
    "        smiles = row['smiles']\n",
    "        mol = row['mol']\n",
    "        source = row['source']\n",
    "\n",
    "        mol_from_smiles = Chem.MolFromSmiles(smiles)\n",
    "        if mol_from_smiles is None:\n",
    "            print(f\"Invalid SMILES string at index {idx}: {smiles}\")\n",
    "            continue\n",
    "\n",
    "        if '.' in smiles:\n",
    "            print(f\"Disconnected components in SMILES string at index {idx}: {smiles}, from source {source}\")\n",
    "            continue\n",
    "\n",
    "        if mol is None or mol.GetNumAtoms() == 0:\n",
    "            print(f\"Invalid Mol object at index {idx}: {smiles}\")\n",
    "            continue\n",
    "\n",
    "        if mol is not None:\n",
    "            num_components = Chem.GetMolFrags(mol, asMols=False, sanitizeFrags=False)\n",
    "            if len(num_components) > 1:\n",
    "                print(f\"Disconnected components in molecule at index {idx}: {smiles}, from source {source}\")\n",
    "                disconnected_mols.append(row)\n",
    "                data.drop(idx, inplace=True)\n",
    "\n",
    "    disconnected_mols_df = pd.DataFrame(disconnected_mols)\n",
    "    disconnected_mols_df.to_json(os.path.join(output_folder, 'disconnected_mols_df.json'))\n",
    "\n",
    "    if disconnected_mols_df.shape[0] < 1:\n",
    "        print(\"No disconnected molecules found!\")\n",
    "\n",
    "    graphs, graph_labels = create_graphs_from_dataframe(data)\n",
    "    save_graphs(os.path.join(output_folder, \"graphs.bin\"), graphs, graph_labels)\n",
    "\n",
    "def create_graphs_from_dataframe(df):\n",
    "    graphs = []\n",
    "    labels = []\n",
    "\n",
    "    for _, row in df.iterrows():\n",
    "        mol = Chem.MolFromSmiles(row['smiles'])\n",
    "        label = row['label']\n",
    "\n",
    "        graph = mol_to_bigraph(\n",
    "            mol,\n",
    "            node_featurizer=CanonicalAtomFeaturizer(),\n",
    "            edge_featurizer=CanonicalBondFeaturizer(self_loop=True),\n",
    "            explicit_hydrogens=False,\n",
    "            add_self_loop=True\n",
    "        )\n",
    "\n",
    "        graphs.append(graph)\n",
    "        labels.append(label)\n",
    "\n",
    "    label_tensor = torch.tensor(labels).unsqueeze(-1)\n",
    "    graph_labels = {'labels': label_tensor}\n",
    "\n",
    "    return graphs, graph_labels\n"
   ]
  },
  {
   "cell_type": "markdown",
   "id": "7457fbe1",
   "metadata": {},
   "source": [
    "Part 5: Process datasets and save graphs"
   ]
  },
  {
   "cell_type": "code",
   "execution_count": 5,
   "id": "8b03b826",
   "metadata": {},
   "outputs": [
    {
     "name": "stdout",
     "output_type": "stream",
     "text": [
      "No disconnected molecules found!\n",
      "No disconnected molecules found!\n",
      "No disconnected molecules found!\n"
     ]
    }
   ],
   "source": [
    "# %%\n",
    "# Define paths for the datasets\n",
    "data_paths = {\n",
    "    'model1_rna_bin_non_rna_bin': data_model1,\n",
    "    'model2_rna_bin_protein_bin': data_model2,\n",
    "    'model3_binders_nonbinders': data_model3\n",
    "}\n",
    "\n",
    "# %%\n",
    "# Iterate through each dataset\n",
    "for model_name, data in data_paths.items():\n",
    "    output_folder = f'data_mvi/data_for_ml/dataset_set2/{model_name}/graphs.bin'\n",
    "\n",
    "    if not os.path.exists(output_folder):\n",
    "        os.makedirs(output_folder)\n",
    "\n",
    "    process_dataset(data, output_folder)\n"
   ]
  }
 ],
 "metadata": {
  "kernelspec": {
   "display_name": "gnn",
   "language": "python",
   "name": "python3"
  },
  "language_info": {
   "codemirror_mode": {
    "name": "ipython",
    "version": 3
   },
   "file_extension": ".py",
   "mimetype": "text/x-python",
   "name": "python",
   "nbconvert_exporter": "python",
   "pygments_lexer": "ipython3",
   "version": "3.8.18"
  },
  "papermill": {
   "default_parameters": {},
   "duration": 217.948244,
   "end_time": "2024-04-19T17:43:48.048167",
   "environment_variables": {},
   "exception": null,
   "input_path": "/home/xfulop/mvi/diploma_project_gnn/create_graphs.ipynb",
   "output_path": "/home/xfulop/mvi/diploma_project_gnn/create_graphs.ipynb",
   "parameters": {},
   "start_time": "2024-04-19T17:40:10.099923",
   "version": "2.4.0"
  }
 },
 "nbformat": 4,
 "nbformat_minor": 5
}
