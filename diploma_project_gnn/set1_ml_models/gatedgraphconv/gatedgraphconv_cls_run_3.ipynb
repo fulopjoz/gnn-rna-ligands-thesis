{
 "cells": [
  {
   "cell_type": "markdown",
   "id": "5dd9ed87",
   "metadata": {
    "papermill": {
     "duration": 0.012094,
     "end_time": "2024-04-22T13:19:55.257246",
     "exception": false,
     "start_time": "2024-04-22T13:19:55.245152",
     "status": "completed"
    },
    "tags": []
   },
   "source": [
    "## Graph Neural Network for Molecular Interaction Prediction\n",
    "### GatedGraphConv\n",
    "\n",
    "This Jupyter Notebook outlines the process for training a Graph Neural Network (GNN) model to predict molecular interactions using the GatedGraphConv architecture. The goal of this project is to leverage the inherent graph structure of molecules for effective prediction of binding to RNA, a crucial factor in drug discovery and biological research.\n",
    "\n",
    "Each run of this notebook represents a distinct experiment with specified hyperparameters and configurations. Results and models from each run are saved separately for comparative analysis to ensure the reproducibility and statistical significance of our findings.\n",
    "\n",
    "### Notebook Details:\n",
    "\n",
    "- **Objective**: Predict molecular interactions with RNA using GNN.\n",
    "- **Model Architecture**: GatedGraphConv from the Deep Graph Library (DGL).\n",
    "- **Data Source**: Preprocessed molecular datasets.\n",
    "- **Run Number**: This notebook facilitates multiple runs. Specific details for each run, including the random state and run number, are set at the beginning to ensure reproducibility.\n",
    "\n",
    "Before executing the notebook, please adjust the `RANDOM_STATE` and `RUN_NUMBER` variables at the top of the notebook to reflect the specific experiment being conducted. This setup ensures each run's outputs are unique and traceable.\n"
   ]
  },
  {
   "cell_type": "code",
   "execution_count": 1,
   "id": "06014963",
   "metadata": {
    "execution": {
     "iopub.execute_input": "2024-04-22T13:19:55.276116Z",
     "iopub.status.busy": "2024-04-22T13:19:55.275825Z",
     "iopub.status.idle": "2024-04-22T13:19:55.287585Z",
     "shell.execute_reply": "2024-04-22T13:19:55.286280Z"
    },
    "papermill": {
     "duration": 0.025446,
     "end_time": "2024-04-22T13:19:55.291275",
     "exception": false,
     "start_time": "2024-04-22T13:19:55.265829",
     "status": "completed"
    },
    "tags": []
   },
   "outputs": [
    {
     "data": {
      "text/plain": [
       "'\\nThis script implements a Graph Neural Network (GNN) using the GatedGraphConv architecture\\nfor the purpose of predicting molecular interactions. The implementation leverages\\nthe Deep Graph Library (DGL) for constructing and manipulating graphs, as well as\\nOptuna for hyperparameter optimization. The model includes features such as dropout,\\nearly stopping, and gradient scaling for improved training stability and performance.\\n'"
      ]
     },
     "execution_count": 1,
     "metadata": {},
     "output_type": "execute_result"
    }
   ],
   "source": [
    "\"\"\"\n",
    "This script implements a Graph Neural Network (GNN) using the GatedGraphConv architecture\n",
    "for the purpose of predicting molecular interactions. The implementation leverages\n",
    "the Deep Graph Library (DGL) for constructing and manipulating graphs, as well as\n",
    "Optuna for hyperparameter optimization. The model includes features such as dropout,\n",
    "early stopping, and gradient scaling for improved training stability and performance.\n",
    "\"\"\"\n"
   ]
  },
  {
   "cell_type": "code",
   "execution_count": 2,
   "id": "ddd42937",
   "metadata": {
    "execution": {
     "iopub.execute_input": "2024-04-22T13:19:55.356287Z",
     "iopub.status.busy": "2024-04-22T13:19:55.356009Z",
     "iopub.status.idle": "2024-04-22T13:19:57.218955Z",
     "shell.execute_reply": "2024-04-22T13:19:57.217174Z"
    },
    "papermill": {
     "duration": 1.92134,
     "end_time": "2024-04-22T13:19:57.222321",
     "exception": false,
     "start_time": "2024-04-22T13:19:55.300981",
     "status": "completed"
    },
    "tags": []
   },
   "outputs": [],
   "source": [
    "# Set the random seed and run number at the top for reproducibility and to differentiate runs\n",
    "RANDOM_STATE = 786  \n",
    "RUN_NUMBER = 3\n",
    "\n",
    "import numpy as np\n",
    "import torch\n",
    "import dgl\n",
    "\n",
    "np.random.seed(RANDOM_STATE)\n",
    "torch.manual_seed(RANDOM_STATE)\n",
    "dgl.seed(RANDOM_STATE)\n"
   ]
  },
  {
   "cell_type": "markdown",
   "id": "019dd00e",
   "metadata": {
    "papermill": {
     "duration": 0.015342,
     "end_time": "2024-04-22T13:19:57.247880",
     "exception": false,
     "start_time": "2024-04-22T13:19:57.232538",
     "status": "completed"
    },
    "tags": []
   },
   "source": [
    "## Import Necessary Libraries"
   ]
  },
  {
   "cell_type": "code",
   "execution_count": 3,
   "id": "10132d76",
   "metadata": {
    "execution": {
     "iopub.execute_input": "2024-04-22T13:19:57.289946Z",
     "iopub.status.busy": "2024-04-22T13:19:57.289104Z",
     "iopub.status.idle": "2024-04-22T13:19:58.342689Z",
     "shell.execute_reply": "2024-04-22T13:19:58.340822Z"
    },
    "papermill": {
     "duration": 1.07929,
     "end_time": "2024-04-22T13:19:58.347080",
     "exception": false,
     "start_time": "2024-04-22T13:19:57.267790",
     "status": "completed"
    },
    "tags": []
   },
   "outputs": [],
   "source": [
    "import os\n",
    "import sys\n",
    "import json\n",
    "import numpy as np\n",
    "import pandas as pd\n",
    "import seaborn as sns\n",
    "import matplotlib.pyplot as plt\n",
    "import torch\n",
    "import torch.nn as nn\n",
    "import torch.optim as optim\n",
    "import torch.nn.functional as F\n",
    "import dgl\n",
    "from dgl.nn import GatedGraphConv, GlobalAttentionPooling\n",
    "from dgl.dataloading import GraphDataLoader\n",
    "from sklearn.model_selection import train_test_split\n",
    "from sklearn.metrics import roc_auc_score, confusion_matrix, ConfusionMatrixDisplay\n",
    "from sklearn.metrics import precision_score, recall_score, f1_score, accuracy_score\n",
    "import optuna\n",
    "from optuna.pruners import MedianPruner\n",
    "from torch.cuda.amp import GradScaler, autocast"
   ]
  },
  {
   "cell_type": "markdown",
   "id": "a182ddb2",
   "metadata": {
    "papermill": {
     "duration": 0.008494,
     "end_time": "2024-04-22T13:19:58.364238",
     "exception": false,
     "start_time": "2024-04-22T13:19:58.355744",
     "status": "completed"
    },
    "tags": []
   },
   "source": [
    "## The GatedGraphConv Graph Neural Network Model\n"
   ]
  },
  {
   "cell_type": "code",
   "execution_count": 4,
   "id": "48149bfc",
   "metadata": {
    "execution": {
     "iopub.execute_input": "2024-04-22T13:19:58.382785Z",
     "iopub.status.busy": "2024-04-22T13:19:58.382237Z",
     "iopub.status.idle": "2024-04-22T13:19:58.391996Z",
     "shell.execute_reply": "2024-04-22T13:19:58.390405Z"
    },
    "papermill": {
     "duration": 0.023197,
     "end_time": "2024-04-22T13:19:58.395583",
     "exception": false,
     "start_time": "2024-04-22T13:19:58.372386",
     "status": "completed"
    },
    "tags": []
   },
   "outputs": [],
   "source": [
    "class GraphClsGGNN(nn.Module):\n",
    "    \"\"\"GGNN for graph classification.\"\"\"\n",
    "\n",
    "    def __init__(\n",
    "            self,\n",
    "            annotation_size,\n",
    "            hidden_dim,\n",
    "            n_steps,\n",
    "            n_etypes,\n",
    "            num_cls,\n",
    "            dropout_rate=0.5):\n",
    "        super(GraphClsGGNN, self).__init__()\n",
    "        self.dropout = nn.Dropout(dropout_rate)\n",
    "        self.ggnn1 = GatedGraphConv(\n",
    "            annotation_size, hidden_dim, n_steps, n_etypes)\n",
    "        self.ggnn2 = GatedGraphConv(hidden_dim, hidden_dim, n_steps, n_etypes)\n",
    "        self.pooling = GlobalAttentionPooling(nn.Linear(hidden_dim, 1))\n",
    "        self.fc = nn.Linear(hidden_dim, num_cls)\n",
    "\n",
    "    def forward(self, graph, feat):\n",
    "        h = F.relu(self.ggnn1(graph, feat))\n",
    "        h = self.dropout(h)\n",
    "        h = F.relu(self.ggnn2(graph, h))\n",
    "        hg = self.pooling(graph, h)\n",
    "        return self.fc(hg)\n",
    "\n",
    "    def reset_parameters(self):\n",
    "        for layer in self.children():\n",
    "            if hasattr(layer, 'reset_parameters'):\n",
    "                layer.reset_parameters()"
   ]
  },
  {
   "cell_type": "markdown",
   "id": "0a944d35",
   "metadata": {
    "papermill": {
     "duration": 0.009237,
     "end_time": "2024-04-22T13:19:58.413087",
     "exception": false,
     "start_time": "2024-04-22T13:19:58.403850",
     "status": "completed"
    },
    "tags": []
   },
   "source": [
    "## Early Stopping Mechanism\n"
   ]
  },
  {
   "cell_type": "code",
   "execution_count": 5,
   "id": "0ebec631",
   "metadata": {
    "execution": {
     "iopub.execute_input": "2024-04-22T13:19:58.431651Z",
     "iopub.status.busy": "2024-04-22T13:19:58.431345Z",
     "iopub.status.idle": "2024-04-22T13:19:58.443246Z",
     "shell.execute_reply": "2024-04-22T13:19:58.441550Z"
    },
    "papermill": {
     "duration": 0.025435,
     "end_time": "2024-04-22T13:19:58.446939",
     "exception": false,
     "start_time": "2024-04-22T13:19:58.421504",
     "status": "completed"
    },
    "tags": []
   },
   "outputs": [],
   "source": [
    "class EarlyStopping:\n",
    "    \"\"\"Early stops the training if neither validation loss nor validation \n",
    "    accuracy improves after their respective patience levels.\n",
    "    \n",
    "    Parameters\n",
    "    ----------\n",
    "    patience_loss : int\n",
    "        How long to wait after last time validation loss improved.\n",
    "    patience_accuracy : int\n",
    "        How long to wait after last time validation accuracy improved.\n",
    "    verbose : bool\n",
    "        If True, prints a message for each validation metric improvement.\n",
    "    delta_loss : float\n",
    "        Minimum change in the validation loss to qualify as an improvement.\n",
    "    delta_accuracy : floattest_results_GATv2Conv\n",
    "test_results_GATv2Conv\n",
    "        Minimum change in the validation accuracy to qualify as an improvement.\n",
    "    path : str\n",
    "        The file path where the model will be saved.\n",
    "    print_freq : int\n",
    "        The frequency at which to print messages during training.\n",
    "    \"\"\"\n",
    "\n",
    "    def __init__(\n",
    "            self,\n",
    "            patience_loss=10,\n",
    "            patience_accuracy=10,\n",
    "            verbose=True,test_results_GATv2Conv\n",
    "test_results_GATv2Conv\n",
    "            delta_loss=0.001,\n",
    "            delta_accuracy=0.001,\n",
    "            path='checkpoint.pt',\n",
    "            print_freq=5):\n",
    "        self.patience_loss = patience_loss\n",
    "        self.patience_accuracy = patience_accuracy\n",
    "        self.verbose = verbose\n",
    "        self.counter_loss = 0\n",
    "        self.counter_accuracy = 0\n",
    "        self.best_loss = np.Inf\n",
    "        self.best_accuracy = 0\n",
    "        self.early_stop = False\n",
    "        self.delta_loss = delta_loss\n",
    "        self.delta_accuracy = delta_accuracy\n",
    "        self.path = path\n",
    "        self.best_epoch = 0\n",
    "        self.print_freq = print_freq\n",
    "        \n",
    "    def __call__(self, val_loss, val_accuracy, model, epoch):\n",
    "        improved_loss = False\n",
    "        improved_accuracy = False\n",
    "        \n",
    "        # Check improvement for loss\n",
    "        if val_loss < self.best_loss - self.delta_loss:\n",
    "            self.best_loss = val_loss\n",
    "            self.counter_loss = 0\n",
    "            improved_loss = True\n",
    "        else:\n",
    "            self.counter_loss += 1\n",
    "        \n",
    "        # Check improvement for accuracy\n",
    "        if val_accuracy > self.best_accuracy + self.delta_accuracy:\n",
    "            self.best_accuracy = val_accuracy\n",
    "            self.counter_accuracy = 0\n",
    "            improved_accuracy = True\n",
    "        else:\n",
    "            self.counter_accuracy += 1\n",
    "        \n",
    "        # Save checkpoint if either metric improved\n",
    "        if improved_loss or improved_accuracy:\n",
    "            self.save_checkpoint(val_loss, val_accuracy, model)\n",
    "            self.best_epoch = epoch\n",
    "        \n",
    "        if self.verbose and (improved_loss or improved_accuracy):\n",
    "            print(f\"Improvement at epoch {epoch}: Loss = {val_loss}, \"\n",
    "                f\"Accuracy = {val_accuracy}\")\n",
    "        \n",
    "        # Determine if early stopping is triggered\n",
    "        if self.counter_loss >= self.patience_loss and \\\n",
    "            self.counter_accuracy >= self.patience_accuracy:\n",
    "            self.early_stop = True\n",
    "            if self.verbose:\n",
    "                print(\"Early stopping triggered\")\n",
    "                \n",
    "    def save_checkpoint(self, val_loss, val_accuracy, model):\n",
    "        # Implement saving logic based on your requirements\n",
    "        torch.save(model.state_dict(), self.path)\n",
    "        if self.verbose:\n",
    "            print(f\"Checkpoint saved: Loss = {val_loss}, \"\n",
    "                  f\"Accuracy = {val_accuracy}\")\n",
    "\n"
   ]
  },
  {
   "cell_type": "markdown",
   "id": "b8c95fe6",
   "metadata": {
    "papermill": {
     "duration": 0.008093,
     "end_time": "2024-04-22T13:19:58.463319",
     "exception": false,
     "start_time": "2024-04-22T13:19:58.455226",
     "status": "completed"
    },
    "tags": []
   },
   "source": [
    "## The Collate Function for DataLoader\n"
   ]
  },
  {
   "cell_type": "code",
   "execution_count": 6,
   "id": "449d5754",
   "metadata": {
    "execution": {
     "iopub.execute_input": "2024-04-22T13:19:58.494038Z",
     "iopub.status.busy": "2024-04-22T13:19:58.493762Z",
     "iopub.status.idle": "2024-04-22T13:19:58.500229Z",
     "shell.execute_reply": "2024-04-22T13:19:58.498785Z"
    },
    "papermill": {
     "duration": 0.031964,
     "end_time": "2024-04-22T13:19:58.503972",
     "exception": false,
     "start_time": "2024-04-22T13:19:58.472008",
     "status": "completed"
    },
    "tags": []
   },
   "outputs": [],
   "source": [
    "def collate(samples):\n",
    "    \"\"\"\n",
    "    Function to collate samples into a batch for the GraphDataLoader.\n",
    "    \n",
    "    Parameters\n",
    "    ----------\n",
    "    samples : list\n",
    "        A list of tuples of the form (graph, label).\n",
    "    \"\"\"\n",
    "    graphs, labels = map(list, zip(*samples))\n",
    "    batched_graph = dgl.batch(graphs)\n",
    "    labels = torch.tensor(labels, dtype=torch.long)\n",
    "    return batched_graph, labels\n"
   ]
  },
  {
   "cell_type": "markdown",
   "id": "e773b8ec",
   "metadata": {
    "papermill": {
     "duration": 0.022377,
     "end_time": "2024-04-22T13:19:58.534655",
     "exception": false,
     "start_time": "2024-04-22T13:19:58.512278",
     "status": "completed"
    },
    "tags": []
   },
   "source": [
    "## Training and Evaluation Pipeline\n"
   ]
  },
  {
   "cell_type": "code",
   "execution_count": 7,
   "id": "97a1bf36",
   "metadata": {
    "execution": {
     "iopub.execute_input": "2024-04-22T13:19:58.587969Z",
     "iopub.status.busy": "2024-04-22T13:19:58.587686Z",
     "iopub.status.idle": "2024-04-22T13:19:58.615231Z",
     "shell.execute_reply": "2024-04-22T13:19:58.614278Z"
    },
    "papermill": {
     "duration": 0.044863,
     "end_time": "2024-04-22T13:19:58.618432",
     "exception": false,
     "start_time": "2024-04-22T13:19:58.573569",
     "status": "completed"
    },
    "tags": []
   },
   "outputs": [],
   "source": [
    "class TrainingPipeline:\n",
    "    def __init__(self, device):\n",
    "        self.device = device\n",
    "\n",
    "    def train_and_evaluate(\n",
    "            self,\n",
    "            model,\n",
    "            train_loader,\n",
    "            val_loader,\n",
    "            optimizer,\n",
    "            criterion,test_results_GATv2Conv\n",
    "test_results_GATv2Conv\n",
    "            early_stopping,\n",
    "            num_epochs,\n",
    "            plot_curves=False,\n",
    "            accumulation_steps=2):\n",
    "        train_losses, val_losses = [], []\n",
    "        scaler = GradScaler()  # Initialize the gradient scaler\n",
    "\n",
    "        for epoch in range(num_epochs):\n",
    "            model.train()\n",
    "            train_loss = 0.0\n",
    "            optimizer.zero_grad()  # Initialize gradients to zero\n",
    "\n",
    "            for batch_idx, (batched_graph, labels) in enumerate(train_loader):\n",
    "                batched_graph, labels = batched_graph.to(\n",
    "                    self.device), labels.to(self.device)\n",
    "\n",
    "                with autocast():  # Enable automatic mixed precision\n",
    "                    logits = model(\n",
    "                        batched_graph, batched_graph.ndata['h'].float())\n",
    "                    loss = criterion(logits, labels) / \\\n",
    "                        accumulation_steps  # Scale loss\n",
    "\n",
    "                # Scale the loss and call backward to propagate gradients\n",
    "                scaler.scale(loss).backward()\n",
    "                # Correct scaling for logging purposes\n",
    "                train_loss += loss.item() * accumulation_steps\n",
    "\n",
    "                if (batch_idx + 1) % accumulation_steps == 0 or \\\n",
    "                        batch_idx == len(train_loader) - 1:\n",
    "                    # Perform optimizer step using scaled gradients\n",
    "                    scaler.step(optimizer)\n",
    "                    scaler.update()  # Update the scaler for the next iteration\n",
    "                    optimizer.zero_grad()  # Initialize gradients to zero\n",
    "\n",
    "            train_loss /= len(train_loader)\n",
    "            train_losses.append(train_loss)\n",
    "\n",
    "            val_loss = 0.0\n",
    "            val_correct = 0\n",
    "            total = 0\n",
    "            if val_loader is not None:\n",
    "                model.eval()\n",
    "                with torch.no_grad():\n",
    "                    val_correct = 0\n",
    "                    total = 0\n",
    "                    for batched_graph, labels in val_loader:\n",
    "                        batched_graph, labels = batched_graph.to(\n",
    "                            self.device), labels.to(self.device)\n",
    "                        with autocast():  # Enable automatic mixed precision\n",
    "                            logits = model(\n",
    "                                batched_graph, batched_graph.ndata['h'].float()\n",
    "                            )\n",
    "                            loss = criterion(logits, labels)\n",
    "                        val_loss += loss.item()\n",
    "                        _, predicted = torch.max(logits.data, 1)\n",
    "                        total += labels.size(0)\n",
    "                        val_correct += (predicted == labels).sum().item()\n",
    "\n",
    "                    val_loss /= len(val_loader)\n",
    "                    val_losses.append(val_loss)\n",
    "                    val_accuracy = val_correct / total\n",
    "\n",
    "                    if early_stopping:\n",
    "                        early_stopping(val_loss, val_accuracy, model, epoch + 1)\n",
    "                        if early_stopping.early_stop:\n",
    "                            print(\n",
    "                                f\"Early stopping triggered\"\n",
    "                                f\"at epoch {epoch + 1}\")\n",
    "                            break\n",
    "\n",
    "                if (epoch + 1) % 5 == 0 or epoch == 0:\n",
    "                    print(\n",
    "                        f'Epoch {epoch + 1}/{num_epochs} - '\n",
    "                        f'Train Loss: {train_loss:.4f}, '\n",
    "                        f'Val Loss: {val_loss:.4f} '\n",
    "                        f'| Val accuracy: {100 * val_accuracy:.2f}%')\n",
    "\n",
    "        if plot_curves and val_loader is not None:\n",
    "            self.plot_loss_curves(train_losses, val_losses)\n",
    "\n",
    "    @staticmethod\n",
    "    def plot_loss_curves(train_losses, val_losses):\n",
    "        sns.set(style=\"whitegrid\")\n",
    "        plt.figure(figsize=(10, 6))\n",
    "        epochs = range(1, len(train_losses) + 1)\n",
    "        plt.plot(epochs, train_losses, label='Training Loss')\n",
    "        plt.plot(epochs, val_losses, label='Validation Loss')\n",
    "        plt.title('Training and Validation Loss of GatedGraphConv')\n",
    "        plt.xlabel('Epochs')\n",
    "        plt.ylabel('Loss')\n",
    "        plt.legend()\n",
    "        plt.savefig(f'loss_curves_GatedGraphConv_{RUN_NUMBER}.png', dpi=300)\n",
    "        plt.show()\n",
    "\n",
    "    def evaluate_on_test(self, model, test_loader, criterion, run_id):\n",
    "        model.eval()\n",
    "        test_loss = 0.0\n",
    "        all_preds = []\n",
    "        all_labels = []\n",
    "        with torch.no_grad():\n",
    "            for batched_graph, labels in test_loader:\n",
    "                batched_graph, labels = batched_graph.to(self.device), labels.to(self.device)\n",
    "                logits = model(batched_graph, batched_graph.ndata['h'].float())\n",
    "                loss = criterion(logits, labels)\n",
    "                test_loss += loss.item()\n",
    "                preds = torch.argmax(logits, dim=1)\n",
    "                all_preds.extend(preds.cpu().numpy())\n",
    "                all_labels.extend(labels.cpu().numpy())\n",
    "\n",
    "        test_loss /= len(test_loader)\n",
    "        accuracy = accuracy_score(all_labels, all_preds)\n",
    "        precision = precision_score(all_labels, all_preds)\n",
    "        recall = recall_score(all_labels, all_preds)\n",
    "        f1 = f1_score(all_labels, all_preds)\n",
    "        roc_auc = roc_auc_score(all_labels, all_preds)\n",
    "\n",
    "        # Calculate and save confusion matrix\n",
    "        cm = confusion_matrix(all_labels, all_preds)\n",
    "        disp = ConfusionMatrixDisplay(confusion_matrix=cm)\n",
    "        disp.plot()\n",
    "        plt.savefig(f'confusion_matrix_{run_id}.png', dpi=300)\n",
    "\n",
    "        # Append results to CSV including added metrics\n",
    "        results_df = pd.DataFrame({\n",
    "            'Run ID': [run_id],\n",
    "            'Test Loss': [test_loss],\n",
    "            'Accuracy': [accuracy],\n",
    "            'Precision': [precision],\n",
    "            'Recall': [recall],\n",
    "            'F1-Score': [f1],\n",
    "            'ROC-AUC': [roc_auc]\n",
    "        })\n",
    "        results_df.to_csv('test_results_GatedGraphConv.csv', mode='a', index=False, \n",
    "                        header=not os.path.exists('test_results_GatedGraphConv.csv'))\n",
    "\n",
    "        print(f\"Test Loss: {test_loss}\")\n",
    "        print(f\"Accuracy: {accuracy}, Precision: {precision}, Recall: {recall}, F1-Score: {f1}, ROC-AUC: {roc_auc}\")\n"
   ]
  },
  {
   "cell_type": "markdown",
   "id": "e0adc46a",
   "metadata": {
    "papermill": {
     "duration": 0.008155,
     "end_time": "2024-04-22T13:19:58.634764",
     "exception": false,
     "start_time": "2024-04-22T13:19:58.626609",
     "status": "completed"
    },
    "tags": []
   },
   "source": [
    "## Hyperparameter Optimization Using Optuna\n"
   ]
  },
  {
   "cell_type": "code",
   "execution_count": 8,
   "id": "c695cd7a",
   "metadata": {
    "execution": {
     "iopub.execute_input": "2024-04-22T13:19:58.652999Z",
     "iopub.status.busy": "2024-04-22T13:19:58.652724Z",
     "iopub.status.idle": "2024-04-22T13:19:58.665223Z",
     "shell.execute_reply": "2024-04-22T13:19:58.664232Z"
    },
    "papermill": {
     "duration": 0.024395,
     "end_time": "2024-04-22T13:19:58.667800",
     "exception": false,
     "start_time": "2024-04-22T13:19:58.643405",
     "status": "completed"
    },
    "tags": []
   },
   "outputs": [],
   "source": [
    "class HyperparameterOptimizer:\n",
    "    def __init__(\n",
    "            self,\n",
    "            device,\n",
    "            subset_train_graphs,\n",
    "            subset_train_labels,\n",
    "            subset_val_graphs,\n",
    "            subset_val_labels,\n",
    "            num_trials,\n",
    "            num_epochs):\n",
    "        self.device = device\n",
    "        self.subset_train_graphs = subset_train_graphs\n",
    "        self.subset_train_labels = subset_train_labels\n",
    "        self.subset_val_graphs = subset_val_graphs\n",
    "        self.subset_val_labels = subset_val_labels\n",
    "        self.num_trials = num_trials\n",
    "        self.num_epochs = num_epochs\n",
    "\n",
    "    def objective(self, trial):\n",
    "        # Suggest hyperparameters\n",
    "        n_steps = trial.suggest_int('n_steps', 1, 40)\n",
    "        hidden_dim = trial.suggest_int('hidden_dim', 74, 256)\n",
    "        lr = trial.suggest_float('lr', 1e-4, 1e-1, log=True)\n",
    "        batch_size = trial.suggest_categorical('batch_size', [64, 128, 256, 512])\n",
    "        dropout_rate = trial.suggest_float('dropout_rate', 0.0, 0.5)\n",
    "\n",
    "        # Create the model, optimizer, and loaders\n",
    "        model = GraphClsGGNN(\n",
    "            annotation_size=74,\n",
    "            hidden_dim=hidden_dim,\n",
    "            n_steps=n_steps,\n",
    "            n_etypes=1,\n",
    "            num_cls=2,\n",
    "            dropout_rate=dropout_rate).to(\n",
    "            self.device)\n",
    "        optimizer = optim.Adam(model.parameters(), lr=lr)\n",
    "        criterion = nn.CrossEntropyLoss()\n",
    "\n",
    "        train_loader = GraphDataLoader(\n",
    "            list(\n",
    "                zip(\n",
    "                    self.subset_train_graphs,\n",
    "                    self.subset_train_labels)),\n",
    "            batch_size=batch_size,\n",
    "            shuffle=True,\n",
    "            collate_fn=collate,\n",
    "            num_workers=8)\n",
    "        val_loader = GraphDataLoader(\n",
    "            list(\n",
    "                zip(\n",
    "                    self.subset_val_graphs,\n",
    "                    self.subset_val_labels)),\n",
    "            batch_size=batch_size,\n",
    "            shuffle=False,\n",
    "            collate_fn=collate,\n",
    "            num_workers=8)\n",
    "\n",
    "        # Training loop with pruning\n",
    "        model.train()\n",
    "        for epoch in range(self.num_epochs):\n",
    "            model.train()  # Ensure the model is in training mode\n",
    "            for batched_graph, labels in train_loader:\n",
    "                batched_graph, labels = batched_graph.to(self.device), labels.to(self.device)\n",
    "                optimizer.zero_grad()\n",
    "                logits = model(batched_graph, batched_graph.ndata['h'].float())\n",
    "                loss = criterion(logits, labels)\n",
    "                loss.backward()\n",
    "                optimizer.step()\n",
    "\n",
    "            model.eval()  # Switch to evaluation mode for validation\n",
    "            val_loss = 0.0\n",
    "            with torch.no_grad():\n",
    "                for batched_graph, labels in val_loader:\n",
    "                    batched_graph, labels = batched_graph.to(self.device), labels.to(self.device)\n",
    "                    logits = model(batched_graph, batched_graph.ndata['h'].float())\n",
    "                    loss = criterion(logits, labels)\n",
    "                    val_loss += loss.item()\n",
    "\n",
    "            val_loss /= len(val_loader)\n",
    "            trial.report(val_loss, epoch)\n",
    "\n",
    "            if trial.should_prune():\n",
    "                raise optuna.TrialPruned()\n",
    "\n",
    "        return val_loss\n",
    "\n",
    "    def optimize(self):\n",
    "        \"\"\"Run the hyperparameter optimization.\"\"\"\n",
    "        study = optuna.create_study(direction='minimize', pruner=MedianPruner())\n",
    "        study.optimize(self.objective, n_trials=self.num_trials)\n",
    "\n",
    "        best_hyperparams = study.best_trial.params\n",
    "        with open(f'best_hyperparams_GatedGraphConv_{RUN_NUMBER}.json', 'w') as f:\n",
    "            json.dump(best_hyperparams, f)\n",
    "        print(f\"Best hyperparameters are {best_hyperparams}.\")\n",
    "        print(\"Best hyperparameters saved.\")"
   ]
  },
  {
   "cell_type": "markdown",
   "id": "15ad686f",
   "metadata": {
    "papermill": {
     "duration": 0.006044,
     "end_time": "2024-04-22T13:19:58.680297",
     "exception": false,
     "start_time": "2024-04-22T13:19:58.674253",
     "status": "completed"
    },
    "tags": []
   },
   "source": [
    "## Main Training Loop\n"
   ]
  },
  {
   "cell_type": "code",
   "execution_count": 9,
   "id": "772e00bd",
   "metadata": {
    "execution": {
     "iopub.execute_input": "2024-04-22T13:19:58.694101Z",
     "iopub.status.busy": "2024-04-22T13:19:58.693824Z",
     "iopub.status.idle": "2024-04-22T13:19:58.800341Z",
     "shell.execute_reply": "2024-04-22T13:19:58.798442Z"
    },
    "papermill": {
     "duration": 0.116598,
     "end_time": "2024-04-22T13:19:58.803214",
     "exception": false,
     "start_time": "2024-04-22T13:19:58.686616",
     "status": "completed"
    },
    "tags": []
   },
   "outputs": [],
   "source": [
    "device = torch.device(\"cuda\" if torch.cuda.is_available() else \"cpu\")\n"
   ]
  },
  {
   "cell_type": "code",
   "execution_count": 10,
   "id": "ce58e793",
   "metadata": {
    "execution": {
     "iopub.execute_input": "2024-04-22T13:19:58.817370Z",
     "iopub.status.busy": "2024-04-22T13:19:58.817074Z",
     "iopub.status.idle": "2024-04-22T13:20:10.652574Z",
     "shell.execute_reply": "2024-04-22T13:20:10.650623Z"
    },
    "papermill": {
     "duration": 11.84701,
     "end_time": "2024-04-22T13:20:10.656349",
     "exception": false,
     "start_time": "2024-04-22T13:19:58.809339",
     "status": "completed"
    },
    "tags": []
   },
   "outputs": [
    {
     "name": "stdout",
     "output_type": "stream",
     "text": [
      "Starting the project...\n",
      "\n",
      "Starting data loading...\n",
      "Train: 49548, Validation: 12388, Test: 15484, \n",
      "Subset Train: 9909, Subset Val: 2477\n",
      "\n",
      "Completed data loading.\n",
      "\n"
     ]
    }
   ],
   "source": [
    "# Load data and prepare for training\n",
    "graphs, labels_dict = dgl.load_graphs(\"../../data_mvi/graphs.bin\")\n",
    "\n",
    "# Directly extract labels tensor from labels_dict\n",
    "labels_tensor = labels_dict['labels']\n",
    "labels_tensor = labels_tensor.squeeze()\n",
    "\n",
    "# Convert tensor to numpy array for compatibility with sklearn\n",
    "labels_numpy = labels_tensor.numpy()\n",
    "\n",
    "# Split dataset train, test\n",
    "train_indices, test_indices, train_labels, test_labels = train_test_split(\n",
    "    range(labels_dict['labels'].size(0)), labels_numpy, test_size=0.2, stratify=labels_numpy,\n",
    "    random_state=RANDOM_STATE)\n",
    "\n",
    "# Split dataset train, validation\n",
    "train_indices, val_indices, train_labels, val_labels = train_test_split(\n",
    "    train_indices, train_labels, test_size=0.2, stratify=train_labels,\n",
    "    random_state=RANDOM_STATE)\n",
    "\n",
    "train_graphs = [graphs[i] for i in train_indices]\n",
    "test_graphs = [graphs[i] for i in test_indices]\n",
    "val_graphs = [graphs[i] for i in val_indices]\n",
    "\n",
    "subset_train_indices = np.random.choice(\n",
    "    len(train_graphs), size=int(len(train_graphs) * 0.2), replace=False)\n",
    "subset_train_graphs = [train_graphs[i] for i in subset_train_indices]\n",
    "subset_train_labels = train_labels[subset_train_indices]\n",
    "\n",
    "subset_val_indices = np.random.choice(\n",
    "    len(val_graphs), size=int(len(val_graphs) * 0.2), replace=False)\n",
    "subset_val_graphs = [val_graphs[i] for i in subset_val_indices]\n",
    "subset_val_labels = val_labels[subset_val_indices]\n",
    "\n",
    "# Combine train and validation graphs and labels for retraining\n",
    "combined_train_graphs = train_graphs + val_graphs\n",
    "combined_train_labels = np.concatenate((train_labels, val_labels))\n",
    "\n",
    "# annouce the start of the project\n",
    "print(\"Starting the project...\")\n",
    "print(\"\")\n",
    "\n",
    "# annouce the start of the data loading\n",
    "print(\"Starting data loading...\")\n",
    "print(\n",
    "    f'Train: {len(train_graphs)}, Validation: {len(val_graphs)}, '\n",
    "    f'Test: {len(test_graphs)}, \\nSubset Train: {len(subset_train_graphs)}, '\n",
    "    f'Subset Val: {len(subset_val_graphs)}'\n",
    ")\n",
    "print(\"\")\n",
    "print(\"Completed data loading.\")\n",
    "print(\"\")\n",
    "sys.stdout.flush()  # Force flushing of the buffer\n"
   ]
  },
  {
   "cell_type": "markdown",
   "id": "21877b95",
   "metadata": {
    "papermill": {
     "duration": 0.008336,
     "end_time": "2024-04-22T13:20:10.674049",
     "exception": false,
     "start_time": "2024-04-22T13:20:10.665713",
     "status": "completed"
    },
    "tags": []
   },
   "source": [
    "## Perform Hyperparameter Optimization\n"
   ]
  },
  {
   "cell_type": "code",
   "execution_count": 11,
   "id": "9aa21f3d",
   "metadata": {
    "execution": {
     "iopub.execute_input": "2024-04-22T13:20:10.701790Z",
     "iopub.status.busy": "2024-04-22T13:20:10.701475Z",
     "iopub.status.idle": "2024-04-22T14:43:32.366721Z",
     "shell.execute_reply": "2024-04-22T14:43:32.365091Z"
    },
    "papermill": {
     "duration": 5001.677855,
     "end_time": "2024-04-22T14:43:32.368935",
     "exception": false,
     "start_time": "2024-04-22T13:20:10.691080",
     "status": "completed"
    },
    "tags": []
   },
   "outputs": [
    {
     "name": "stdout",
     "output_type": "stream",
     "text": [
      "Starting hyperparameter optimization...\n"
     ]
    },
    {
     "name": "stderr",
     "output_type": "stream",
     "text": [
      "[I 2024-04-22 13:20:10,707] A new study created in memory with name: no-name-e2fd658e-f286-4f50-83de-08b2101861b4\n"
     ]
    },
    {
     "name": "stdout",
     "output_type": "stream",
     "text": [
      "\n"
     ]
    },
    {
     "name": "stderr",
     "output_type": "stream",
     "text": [
      "[I 2024-04-22 13:34:07,392] Trial 0 finished with value: 0.5422343492507935 and parameters: {'n_steps': 37, 'hidden_dim': 199, 'lr': 0.0004709038065911679, 'batch_size': 512, 'dropout_rate': 0.3205804478989567}. Best is trial 0 with value: 0.5422343492507935.\n"
     ]
    },
    {
     "name": "stderr",
     "output_type": "stream",
     "text": [
      "[I 2024-04-22 13:45:07,096] Trial 1 finished with value: 0.5367013605741354 and parameters: {'n_steps': 38, 'hidden_dim': 192, 'lr': 0.016857316191929445, 'batch_size': 64, 'dropout_rate': 0.2855994792554403}. Best is trial 1 with value: 0.5367013605741354.\n"
     ]
    },
    {
     "name": "stderr",
     "output_type": "stream",
     "text": [
      "[I 2024-04-22 13:49:47,752] Trial 2 finished with value: 0.44081263393163683 and parameters: {'n_steps': 20, 'hidden_dim': 136, 'lr': 0.00011911777509750569, 'batch_size': 128, 'dropout_rate': 0.18955604971453854}. Best is trial 2 with value: 0.44081263393163683.\n"
     ]
    },
    {
     "name": "stderr",
     "output_type": "stream",
     "text": [
      "[I 2024-04-22 14:06:29,321] Trial 3 finished with value: 0.597846394777298 and parameters: {'n_steps': 37, 'hidden_dim': 223, 'lr': 0.00493826512068898, 'batch_size': 128, 'dropout_rate': 0.44555436674314763}. Best is trial 2 with value: 0.44081263393163683.\n"
     ]
    },
    {
     "name": "stderr",
     "output_type": "stream",
     "text": [
      "[I 2024-04-22 14:13:17,135] Trial 4 finished with value: 0.6347006666354644 and parameters: {'n_steps': 29, 'hidden_dim': 127, 'lr': 0.019551482633517556, 'batch_size': 64, 'dropout_rate': 0.4385061107375246}. Best is trial 2 with value: 0.44081263393163683.\n"
     ]
    },
    {
     "name": "stderr",
     "output_type": "stream",
     "text": [
      "[I 2024-04-22 14:13:33,467] Trial 5 pruned. \n"
     ]
    },
    {
     "name": "stderr",
     "output_type": "stream",
     "text": [
      "[I 2024-04-22 14:24:27,058] Trial 6 finished with value: 0.4708973467350006 and parameters: {'n_steps': 31, 'hidden_dim': 173, 'lr': 0.00023683392562554527, 'batch_size': 256, 'dropout_rate': 0.01155343836578987}. Best is trial 2 with value: 0.44081263393163683.\n"
     ]
    },
    {
     "name": "stderr",
     "output_type": "stream",
     "text": [
      "[I 2024-04-22 14:26:09,256] Trial 7 pruned. \n"
     ]
    },
    {
     "name": "stderr",
     "output_type": "stream",
     "text": [
      "[I 2024-04-22 14:26:21,008] Trial 8 pruned. \n"
     ]
    },
    {
     "name": "stderr",
     "output_type": "stream",
     "text": [
      "[I 2024-04-22 14:26:29,410] Trial 9 pruned. \n"
     ]
    },
    {
     "name": "stderr",
     "output_type": "stream",
     "text": [
      "[I 2024-04-22 14:26:35,757] Trial 10 pruned. \n"
     ]
    },
    {
     "name": "stderr",
     "output_type": "stream",
     "text": [
      "[I 2024-04-22 14:29:10,201] Trial 11 finished with value: 0.42951036989688873 and parameters: {'n_steps': 15, 'hidden_dim': 110, 'lr': 0.00013947360803609363, 'batch_size': 256, 'dropout_rate': 0.003957669613241954}. Best is trial 11 with value: 0.42951036989688873.\n"
     ]
    },
    {
     "name": "stderr",
     "output_type": "stream",
     "text": [
      "[I 2024-04-22 14:29:15,209] Trial 12 pruned. \n"
     ]
    },
    {
     "name": "stderr",
     "output_type": "stream",
     "text": [
      "[I 2024-04-22 14:29:45,220] Trial 13 pruned. \n"
     ]
    },
    {
     "name": "stderr",
     "output_type": "stream",
     "text": [
      "[I 2024-04-22 14:34:09,267] Trial 14 finished with value: 0.4609279602766037 and parameters: {'n_steps': 17, 'hidden_dim': 134, 'lr': 0.00010608849774074847, 'batch_size': 256, 'dropout_rate': 0.36543148221032296}. Best is trial 11 with value: 0.42951036989688873.\n"
     ]
    },
    {
     "name": "stderr",
     "output_type": "stream",
     "text": [
      "[I 2024-04-22 14:39:49,619] Trial 15 finished with value: 0.4118287548422813 and parameters: {'n_steps': 10, 'hidden_dim': 252, 'lr': 0.00033263977297776857, 'batch_size': 128, 'dropout_rate': 0.01098049301859063}. Best is trial 15 with value: 0.4118287548422813.\n"
     ]
    },
    {
     "name": "stderr",
     "output_type": "stream",
     "text": [
      "[I 2024-04-22 14:41:12,938] Trial 16 finished with value: 0.4086072266101837 and parameters: {'n_steps': 2, 'hidden_dim': 250, 'lr': 0.0007910061737101396, 'batch_size': 512, 'dropout_rate': 0.006501292877846739}. Best is trial 16 with value: 0.4086072266101837.\n"
     ]
    },
    {
     "name": "stderr",
     "output_type": "stream",
     "text": [
      "[I 2024-04-22 14:42:19,874] Trial 17 finished with value: 0.39849609732627866 and parameters: {'n_steps': 1, 'hidden_dim': 253, 'lr': 0.0012280049936688488, 'batch_size': 512, 'dropout_rate': 0.07325582314186203}. Best is trial 17 with value: 0.39849609732627866.\n"
     ]
    },
    {
     "name": "stderr",
     "output_type": "stream",
     "text": [
      "[I 2024-04-22 14:43:27,698] Trial 18 finished with value: 0.3951991617679596 and parameters: {'n_steps': 1, 'hidden_dim': 255, 'lr': 0.001042483292515322, 'batch_size': 512, 'dropout_rate': 0.07181695868935485}. Best is trial 18 with value: 0.3951991617679596.\n"
     ]
    },
    {
     "name": "stderr",
     "output_type": "stream",
     "text": [
      "[I 2024-04-22 14:43:32,356] Trial 19 pruned. \n"
     ]
    },
    {
     "name": "stdout",
     "output_type": "stream",
     "text": [
      "Best hyperparameters are {'n_steps': 1, 'hidden_dim': 255, 'lr': 0.001042483292515322, 'batch_size': 512, 'dropout_rate': 0.07181695868935485}.\n",
      "Best hyperparameters saved.\n",
      "Completed hyperparameter optimization.\n"
     ]
    },
    {
     "name": "stdout",
     "output_type": "stream",
     "text": [
      "\n"
     ]
    }
   ],
   "source": [
    "print(\"Starting hyperparameter optimization...\")\n",
    "sys.stdout.flush()\n",
    "print(\"\")\n",
    "\n",
    "# Specify the number of trials and epochs for hyperparameter optimization\n",
    "optimizer = HyperparameterOptimizer(\n",
    "    device,\n",
    "    subset_train_graphs,\n",
    "    subset_train_labels,\n",
    "    subset_val_graphs,\n",
    "    subset_val_labels,\n",
    "    num_trials=20,\n",
    "    num_epochs=30)\n",
    "optimizer.optimize()\n",
    "print(\"Completed hyperparameter optimization.\")\n",
    "sys.stdout.flush()\n",
    "\n",
    "print(\"\")"
   ]
  },
  {
   "cell_type": "code",
   "execution_count": 11,
   "id": "43480b16",
   "metadata": {
    "execution": {
     "iopub.execute_input": "2024-04-22T14:43:32.381136Z",
     "iopub.status.busy": "2024-04-22T14:43:32.380661Z",
     "iopub.status.idle": "2024-04-22T14:43:32.476031Z",
     "shell.execute_reply": "2024-04-22T14:43:32.474467Z"
    },
    "papermill": {
     "duration": 0.105813,
     "end_time": "2024-04-22T14:43:32.480091",
     "exception": false,
     "start_time": "2024-04-22T14:43:32.374278",
     "status": "completed"
    },
    "tags": []
   },
   "outputs": [
    {
     "name": "stdout",
     "output_type": "stream",
     "text": [
      "Data loaders created.\n"
     ]
    }
   ],
   "source": [
    "with open(f'best_hyperparams_GatedGraphConv_{RUN_NUMBER}.json', 'r') as f:\n",
    "    best_hyperparams = json.load(f)\n",
    "\n",
    "# Correcting the use of best_hyperparams by\n",
    "train_loader = GraphDataLoader(list(zip(train_graphs,\n",
    "                                        train_labels)),\n",
    "                                batch_size=best_hyperparams['batch_size'],\n",
    "                                shuffle=True,\n",
    "                                collate_fn=collate,\n",
    "                                num_workers=8)\n",
    "val_loader = GraphDataLoader(list(zip(val_graphs,\n",
    "                                        val_labels)),\n",
    "                                batch_size=best_hyperparams['batch_size'],\n",
    "                                shuffle=False,\n",
    "                                collate_fn=collate,\n",
    "                                num_workers=8)\n",
    "test_loader = GraphDataLoader(list(zip(test_graphs,\n",
    "                                        test_labels)),\n",
    "                                batch_size=best_hyperparams['batch_size'],\n",
    "                                shuffle=False,\n",
    "                                collate_fn=collate,\n",
    "                                num_workers=8)\n",
    "combined_train_loader = GraphDataLoader(\n",
    "    list(\n",
    "        zip(\n",
    "            combined_train_graphs,\n",
    "            combined_train_labels)),\n",
    "    batch_size=best_hyperparams['batch_size'],\n",
    "    shuffle=True,\n",
    "    collate_fn=collate,\n",
    "    num_workers=8)\n",
    "print(\"Data loaders created.\")"
   ]
  },
  {
   "cell_type": "code",
   "execution_count": 12,
   "id": "bb3a5adc",
   "metadata": {
    "execution": {
     "iopub.execute_input": "2024-04-22T14:43:32.491291Z",
     "iopub.status.busy": "2024-04-22T14:43:32.491006Z",
     "iopub.status.idle": "2024-04-22T14:43:37.677730Z",
     "shell.execute_reply": "2024-04-22T14:43:37.676115Z"
    },
    "papermill": {
     "duration": 5.194582,
     "end_time": "2024-04-22T14:43:37.679545",
     "exception": true,
     "start_time": "2024-04-22T14:43:32.484963",
     "status": "failed"
    },
    "tags": []
   },
   "outputs": [
    {
     "name": "stdout",
     "output_type": "stream",
     "text": [
      "Retraining with best hyperparameters...\n",
      "\n",
      "Epoch 1/300 - Train Loss: 0.5800, Val Loss: 0.5330 | Val accuracy: 73.70%\n",
      "Epoch 5/300 - Train Loss: 0.4383, Val Loss: 0.4321 | Val accuracy: 79.55%\n",
      "Epoch 10/300 - Train Loss: 0.3945, Val Loss: 0.3923 | Val accuracy: 82.20%\n",
      "Epoch 15/300 - Train Loss: 0.3649, Val Loss: 0.3687 | Val accuracy: 83.37%\n",
      "Epoch 20/300 - Train Loss: 0.3426, Val Loss: 0.3507 | Val accuracy: 84.49%\n",
      "Epoch 25/300 - Train Loss: 0.3224, Val Loss: 0.3543 | Val accuracy: 84.73%\n",
      "Epoch 30/300 - Train Loss: 0.3080, Val Loss: 0.3375 | Val accuracy: 85.57%\n",
      "Epoch 35/300 - Train Loss: 0.2945, Val Loss: 0.3300 | Val accuracy: 85.65%\n",
      "Epoch 40/300 - Train Loss: 0.2840, Val Loss: 0.3265 | Val accuracy: 85.60%\n",
      "Epoch 45/300 - Train Loss: 0.2738, Val Loss: 0.3187 | Val accuracy: 86.19%\n",
      "Epoch 50/300 - Train Loss: 0.2644, Val Loss: 0.3139 | Val accuracy: 86.77%\n",
      "Epoch 55/300 - Train Loss: 0.2577, Val Loss: 0.3089 | Val accuracy: 86.67%\n",
      "Epoch 60/300 - Train Loss: 0.2496, Val Loss: 0.3197 | Val accuracy: 86.64%\n",
      "Epoch 65/300 - Train Loss: 0.2442, Val Loss: 0.3118 | Val accuracy: 86.84%\n",
      "Epoch 70/300 - Train Loss: 0.2412, Val Loss: 0.3164 | Val accuracy: 86.91%\n",
      "Epoch 75/300 - Train Loss: 0.2346, Val Loss: 0.3265 | Val accuracy: 86.80%\n",
      "Early stopping triggeredat epoch 77\n"
     ]
    },
    {
     "data": {
      "image/png": "[encoded data removed]",
      "text/plain": [
       "<Figure size 1000x600 with 1 Axes>"
      ]
     },
     "metadata": {},
     "output_type": "display_data"
    },
    {
     "name": "stdout",
     "output_type": "stream",
     "text": [
      "Completed training.\n",
      "\n"
     ]
    }
   ],
   "source": [
    "print(\"Retraining with best hyperparameters...\")\n",
    "model = GraphClsGGNN(\n",
    "    annotation_size=74,\n",
    "    hidden_dim=best_hyperparams['hidden_dim'],\n",
    "    n_steps=best_hyperparams['n_steps'],\n",
    "    n_etypes=1,\n",
    "    num_cls=2,\n",
    "    dropout_rate=best_hyperparams['dropout_rate']).to(device)\n",
    "print(\"\")\n",
    "\n",
    "# Reset model parameters before retraining\n",
    "model.reset_parameters()\n",
    "\n",
    "optimizer = optim.Adam(model.parameters(), lr=best_hyperparams['lr'])\n",
    "criterion = nn.CrossEntropyLoss()\n",
    "\n",
    "early_stopping = EarlyStopping(patience_loss=10, patience_accuracy=10, \n",
    "                               verbose=False, delta_loss=0.001, \n",
    "                               delta_accuracy=0.001, path='checkpoint.pt', \n",
    "                               print_freq=5)\n",
    "\n",
    "training_pipeline = TrainingPipeline(device)\n",
    "training_pipeline.train_and_evaluate(\n",
    "    model,\n",
    "    train_loader,\n",
    "    val_loader,\n",
    "    optimizer,\n",
    "    criterion,\n",
    "    early_stopping,\n",
    "    300,\n",
    "    plot_curves=True)\n",
    "optimal_epoch = early_stopping.best_epoch\n",
    "\n",
    "\n",
    "print(\"Completed training.\")\n",
    "print(\"\")"
   ]
  },
  {
   "cell_type": "markdown",
   "id": "04e64e4f",
   "metadata": {
    "papermill": {
     "duration": null,
     "end_time": null,
     "exception": null,
     "start_time": null,
     "status": "pending"
    },
    "tags": []
   },
   "source": [
    "## Train Model with Best Hyperparameters on whole train set\n"
   ]
  },
  {
   "cell_type": "code",
   "execution_count": 13,
   "id": "6a7a8e5d",
   "metadata": {
    "papermill": {
     "duration": null,
     "end_time": null,
     "exception": null,
     "start_time": null,
     "status": "pending"
    },
    "tags": []
   },
   "outputs": [],
   "source": [
    "# Before final training on the combined train and val dataset, reset the\n",
    "# model again\n",
    "model.reset_parameters()"
   ]
  },
  {
   "cell_type": "code",
   "execution_count": 14,
   "id": "315ee09b",
   "metadata": {
    "papermill": {
     "duration": null,
     "end_time": null,
     "exception": null,
     "start_time": null,
     "status": "pending"
    },
    "tags": []
   },
   "outputs": [
    {
     "name": "stdout",
     "output_type": "stream",
     "text": [
      "Final training on the combined train and val dataset...\n",
      "Completed training.\n",
      "\n"
     ]
    }
   ],
   "source": [
    "# 3. Final training on the combined train and val dataset\n",
    "print(\"Final training on the combined train and val dataset...\")\n",
    "\n",
    "optimizer = optim.Adam(model.parameters(), lr=best_hyperparams['lr'])\n",
    "criterion = nn.CrossEntropyLoss()\n",
    "\n",
    "training_pipeline.train_and_evaluate(\n",
    "    model,\n",
    "    combined_train_loader,\n",
    "    None,\n",
    "    optimizer,\n",
    "    criterion,\n",
    "    None,\n",
    "    optimal_epoch,\n",
    "    plot_curves=False)\n",
    "\n",
    "# save the model\n",
    "torch.save(model.state_dict(), f'gatedgraph_model_run_{RUN_NUMBER}.pt')\n",
    "\n",
    "print(\"Completed training.\")\n",
    "print(\"\")"
   ]
  },
  {
   "cell_type": "markdown",
   "id": "5f83f331",
   "metadata": {
    "papermill": {
     "duration": null,
     "end_time": null,
     "exception": null,
     "start_time": null,
     "status": "pending"
    },
    "tags": []
   },
   "source": [
    "## Evaluate the Model\n",
    "\n"
   ]
  },
  {
   "cell_type": "code",
   "execution_count": 15,
   "id": "44f8054c",
   "metadata": {
    "papermill": {
     "duration": null,
     "end_time": null,
     "exception": null,
     "start_time": null,
     "status": "pending"
    },
    "tags": []
   },
   "outputs": [
    {
     "name": "stdout",
     "output_type": "stream",
     "text": [
      "Evaluating on the test set...\n",
      "Test Loss: 0.29339590428336976\n",
      "Accuracy: 0.8739343838801343, Precision: 0.8744180031039834, Recall: 0.8732885559287006, F1-Score: 0.8738529145663694, ROC-AUC: 0.8739343838801343\n"
     ]
    },
    {
     "data": {
      "image/png": "[encoded data removed]",
      "text/plain": [
       "<Figure size 640x480 with 2 Axes>"
      ]
     },
     "metadata": {},
     "output_type": "display_data"
    }
   ],
   "source": [
    "# Evaluation on the test set\n",
    "print(\"Evaluating on the test set...\")\n",
    "training_pipeline.evaluate_on_test(model, test_loader, criterion, RUN_NUMBER)"
   ]
  }
 ],
 "metadata": {
  "kernelspec": {
   "display_name": "gnn",
   "language": "python",
   "name": "python3"
  },
  "language_info": {
   "codemirror_mode": {
    "name": "ipython",
    "version": 3
   },
   "file_extension": ".py",
   "mimetype": "text/x-python",
   "name": "python",
   "nbconvert_exporter": "python",
   "pygments_lexer": "ipython3",
   "version": "3.8.18"
  },
  "papermill": {
   "default_parameters": {},
   "duration": 5027.233393,
   "end_time": "2024-04-22T14:43:41.234102",
   "environment_variables": {},
   "exception": true,
   "input_path": "/home/xfulop/mvi/diploma_project_gnn/gatedgraphconv/gatedgraphconv_cls_run_3.ipynb",
   "output_path": "/home/xfulop/mvi/diploma_project_gnn/gatedgraphconv/gatedgraphconv_cls_run_3.ipynb",
   "parameters": {},
   "start_time": "2024-04-22T13:19:54.000709",
   "version": "2.4.0"
  }
 },
 "nbformat": 4,
 "nbformat_minor": 5
}
